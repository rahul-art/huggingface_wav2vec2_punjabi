{
  "nbformat": 4,
  "nbformat_minor": 0,
  "metadata": {
    "colab": {
      "name": "Fine-Tune XLSR-Wav2Vec2 on Punjabi ASR with 🤗 Transformers.ipynb",
      "provenance": [],
      "collapsed_sections": [],
      "machine_shape": "hm",
      "include_colab_link": true
    },
    "kernelspec": {
      "name": "python3",
      "display_name": "Python 3"
    },
    "widgets": {
      "application/vnd.jupyter.widget-state+json": {
        "a5f2dca81a28434f90f29c375a8ae1a1": {
          "model_module": "@jupyter-widgets/controls",
          "model_name": "HBoxModel",
          "state": {
            "_view_name": "HBoxView",
            "_dom_classes": [],
            "_model_name": "HBoxModel",
            "_view_module": "@jupyter-widgets/controls",
            "_model_module_version": "1.5.0",
            "_view_count": null,
            "_view_module_version": "1.5.0",
            "box_style": "",
            "layout": "IPY_MODEL_95a7309f7368432f896de2283e7d01d7",
            "_model_module": "@jupyter-widgets/controls",
            "children": [
              "IPY_MODEL_5628e07a0097455da15e4b6b40084879",
              "IPY_MODEL_f489e90812ec46c4b2a04691c9349888"
            ]
          }
        },
        "95a7309f7368432f896de2283e7d01d7": {
          "model_module": "@jupyter-widgets/base",
          "model_name": "LayoutModel",
          "state": {
            "_view_name": "LayoutView",
            "grid_template_rows": null,
            "right": null,
            "justify_content": null,
            "_view_module": "@jupyter-widgets/base",
            "overflow": null,
            "_model_module_version": "1.2.0",
            "_view_count": null,
            "flex_flow": null,
            "width": null,
            "min_width": null,
            "border": null,
            "align_items": null,
            "bottom": null,
            "_model_module": "@jupyter-widgets/base",
            "top": null,
            "grid_column": null,
            "overflow_y": null,
            "overflow_x": null,
            "grid_auto_flow": null,
            "grid_area": null,
            "grid_template_columns": null,
            "flex": null,
            "_model_name": "LayoutModel",
            "justify_items": null,
            "grid_row": null,
            "max_height": null,
            "align_content": null,
            "visibility": null,
            "align_self": null,
            "height": null,
            "min_height": null,
            "padding": null,
            "grid_auto_rows": null,
            "grid_gap": null,
            "max_width": null,
            "order": null,
            "_view_module_version": "1.2.0",
            "grid_template_areas": null,
            "object_position": null,
            "object_fit": null,
            "grid_auto_columns": null,
            "margin": null,
            "display": null,
            "left": null
          }
        },
        "5628e07a0097455da15e4b6b40084879": {
          "model_module": "@jupyter-widgets/controls",
          "model_name": "FloatProgressModel",
          "state": {
            "_view_name": "ProgressView",
            "style": "IPY_MODEL_0ef8e65d4ff140edbfa9c23a27bcb56e",
            "_dom_classes": [],
            "description": "Downloading: ",
            "_model_name": "FloatProgressModel",
            "bar_style": "success",
            "max": 4323,
            "_view_module": "@jupyter-widgets/controls",
            "_model_module_version": "1.5.0",
            "value": 4323,
            "_view_count": null,
            "_view_module_version": "1.5.0",
            "orientation": "horizontal",
            "min": 0,
            "description_tooltip": null,
            "_model_module": "@jupyter-widgets/controls",
            "layout": "IPY_MODEL_e4fab5d7d7cf4ce89a74aee9a16e7096"
          }
        },
        "f489e90812ec46c4b2a04691c9349888": {
          "model_module": "@jupyter-widgets/controls",
          "model_name": "HTMLModel",
          "state": {
            "_view_name": "HTMLView",
            "style": "IPY_MODEL_193c23051b574b329d1e4f7e65034efc",
            "_dom_classes": [],
            "description": "",
            "_model_name": "HTMLModel",
            "placeholder": "​",
            "_view_module": "@jupyter-widgets/controls",
            "_model_module_version": "1.5.0",
            "value": " 22.0k/? [00:00&lt;00:00, 75.8kB/s]",
            "_view_count": null,
            "_view_module_version": "1.5.0",
            "description_tooltip": null,
            "_model_module": "@jupyter-widgets/controls",
            "layout": "IPY_MODEL_3f0703f118c24757b0271ca605602470"
          }
        },
        "0ef8e65d4ff140edbfa9c23a27bcb56e": {
          "model_module": "@jupyter-widgets/controls",
          "model_name": "ProgressStyleModel",
          "state": {
            "_view_name": "StyleView",
            "_model_name": "ProgressStyleModel",
            "description_width": "initial",
            "_view_module": "@jupyter-widgets/base",
            "_model_module_version": "1.5.0",
            "_view_count": null,
            "_view_module_version": "1.2.0",
            "bar_color": null,
            "_model_module": "@jupyter-widgets/controls"
          }
        },
        "e4fab5d7d7cf4ce89a74aee9a16e7096": {
          "model_module": "@jupyter-widgets/base",
          "model_name": "LayoutModel",
          "state": {
            "_view_name": "LayoutView",
            "grid_template_rows": null,
            "right": null,
            "justify_content": null,
            "_view_module": "@jupyter-widgets/base",
            "overflow": null,
            "_model_module_version": "1.2.0",
            "_view_count": null,
            "flex_flow": null,
            "width": null,
            "min_width": null,
            "border": null,
            "align_items": null,
            "bottom": null,
            "_model_module": "@jupyter-widgets/base",
            "top": null,
            "grid_column": null,
            "overflow_y": null,
            "overflow_x": null,
            "grid_auto_flow": null,
            "grid_area": null,
            "grid_template_columns": null,
            "flex": null,
            "_model_name": "LayoutModel",
            "justify_items": null,
            "grid_row": null,
            "max_height": null,
            "align_content": null,
            "visibility": null,
            "align_self": null,
            "height": null,
            "min_height": null,
            "padding": null,
            "grid_auto_rows": null,
            "grid_gap": null,
            "max_width": null,
            "order": null,
            "_view_module_version": "1.2.0",
            "grid_template_areas": null,
            "object_position": null,
            "object_fit": null,
            "grid_auto_columns": null,
            "margin": null,
            "display": null,
            "left": null
          }
        },
        "193c23051b574b329d1e4f7e65034efc": {
          "model_module": "@jupyter-widgets/controls",
          "model_name": "DescriptionStyleModel",
          "state": {
            "_view_name": "StyleView",
            "_model_name": "DescriptionStyleModel",
            "description_width": "",
            "_view_module": "@jupyter-widgets/base",
            "_model_module_version": "1.5.0",
            "_view_count": null,
            "_view_module_version": "1.2.0",
            "_model_module": "@jupyter-widgets/controls"
          }
        },
        "3f0703f118c24757b0271ca605602470": {
          "model_module": "@jupyter-widgets/base",
          "model_name": "LayoutModel",
          "state": {
            "_view_name": "LayoutView",
            "grid_template_rows": null,
            "right": null,
            "justify_content": null,
            "_view_module": "@jupyter-widgets/base",
            "overflow": null,
            "_model_module_version": "1.2.0",
            "_view_count": null,
            "flex_flow": null,
            "width": null,
            "min_width": null,
            "border": null,
            "align_items": null,
            "bottom": null,
            "_model_module": "@jupyter-widgets/base",
            "top": null,
            "grid_column": null,
            "overflow_y": null,
            "overflow_x": null,
            "grid_auto_flow": null,
            "grid_area": null,
            "grid_template_columns": null,
            "flex": null,
            "_model_name": "LayoutModel",
            "justify_items": null,
            "grid_row": null,
            "max_height": null,
            "align_content": null,
            "visibility": null,
            "align_self": null,
            "height": null,
            "min_height": null,
            "padding": null,
            "grid_auto_rows": null,
            "grid_gap": null,
            "max_width": null,
            "order": null,
            "_view_module_version": "1.2.0",
            "grid_template_areas": null,
            "object_position": null,
            "object_fit": null,
            "grid_auto_columns": null,
            "margin": null,
            "display": null,
            "left": null
          }
        },
        "016e3868a39c4584b2fa044bcc2ed385": {
          "model_module": "@jupyter-widgets/controls",
          "model_name": "HBoxModel",
          "state": {
            "_view_name": "HBoxView",
            "_dom_classes": [],
            "_model_name": "HBoxModel",
            "_view_module": "@jupyter-widgets/controls",
            "_model_module_version": "1.5.0",
            "_view_count": null,
            "_view_module_version": "1.5.0",
            "box_style": "",
            "layout": "IPY_MODEL_18d8afaac19d400a8215a133e4a19ed4",
            "_model_module": "@jupyter-widgets/controls",
            "children": [
              "IPY_MODEL_efaf7bac582d4c2e880a81bfb378c0f2",
              "IPY_MODEL_37b9442ba0d74ecc84b8bc76ffbbafb9"
            ]
          }
        },
        "18d8afaac19d400a8215a133e4a19ed4": {
          "model_module": "@jupyter-widgets/base",
          "model_name": "LayoutModel",
          "state": {
            "_view_name": "LayoutView",
            "grid_template_rows": null,
            "right": null,
            "justify_content": null,
            "_view_module": "@jupyter-widgets/base",
            "overflow": null,
            "_model_module_version": "1.2.0",
            "_view_count": null,
            "flex_flow": null,
            "width": null,
            "min_width": null,
            "border": null,
            "align_items": null,
            "bottom": null,
            "_model_module": "@jupyter-widgets/base",
            "top": null,
            "grid_column": null,
            "overflow_y": null,
            "overflow_x": null,
            "grid_auto_flow": null,
            "grid_area": null,
            "grid_template_columns": null,
            "flex": null,
            "_model_name": "LayoutModel",
            "justify_items": null,
            "grid_row": null,
            "max_height": null,
            "align_content": null,
            "visibility": null,
            "align_self": null,
            "height": null,
            "min_height": null,
            "padding": null,
            "grid_auto_rows": null,
            "grid_gap": null,
            "max_width": null,
            "order": null,
            "_view_module_version": "1.2.0",
            "grid_template_areas": null,
            "object_position": null,
            "object_fit": null,
            "grid_auto_columns": null,
            "margin": null,
            "display": null,
            "left": null
          }
        },
        "efaf7bac582d4c2e880a81bfb378c0f2": {
          "model_module": "@jupyter-widgets/controls",
          "model_name": "FloatProgressModel",
          "state": {
            "_view_name": "ProgressView",
            "style": "IPY_MODEL_16ec49fc6e134da7880324fd7b94978f",
            "_dom_classes": [],
            "description": "Downloading: ",
            "_model_name": "FloatProgressModel",
            "bar_style": "success",
            "max": 9954,
            "_view_module": "@jupyter-widgets/controls",
            "_model_module_version": "1.5.0",
            "value": 9954,
            "_view_count": null,
            "_view_module_version": "1.5.0",
            "orientation": "horizontal",
            "min": 0,
            "description_tooltip": null,
            "_model_module": "@jupyter-widgets/controls",
            "layout": "IPY_MODEL_166a43ee03544c748b67757c9f8cdef5"
          }
        },
        "37b9442ba0d74ecc84b8bc76ffbbafb9": {
          "model_module": "@jupyter-widgets/controls",
          "model_name": "HTMLModel",
          "state": {
            "_view_name": "HTMLView",
            "style": "IPY_MODEL_813e46c9c119442b90814f8306fefaf6",
            "_dom_classes": [],
            "description": "",
            "_model_name": "HTMLModel",
            "placeholder": "​",
            "_view_module": "@jupyter-widgets/controls",
            "_model_module_version": "1.5.0",
            "value": " 153k/? [00:00&lt;00:00, 2.89MB/s]",
            "_view_count": null,
            "_view_module_version": "1.5.0",
            "description_tooltip": null,
            "_model_module": "@jupyter-widgets/controls",
            "layout": "IPY_MODEL_6256f931d2214b42b962f727214a24e9"
          }
        },
        "16ec49fc6e134da7880324fd7b94978f": {
          "model_module": "@jupyter-widgets/controls",
          "model_name": "ProgressStyleModel",
          "state": {
            "_view_name": "StyleView",
            "_model_name": "ProgressStyleModel",
            "description_width": "initial",
            "_view_module": "@jupyter-widgets/base",
            "_model_module_version": "1.5.0",
            "_view_count": null,
            "_view_module_version": "1.2.0",
            "bar_color": null,
            "_model_module": "@jupyter-widgets/controls"
          }
        },
        "166a43ee03544c748b67757c9f8cdef5": {
          "model_module": "@jupyter-widgets/base",
          "model_name": "LayoutModel",
          "state": {
            "_view_name": "LayoutView",
            "grid_template_rows": null,
            "right": null,
            "justify_content": null,
            "_view_module": "@jupyter-widgets/base",
            "overflow": null,
            "_model_module_version": "1.2.0",
            "_view_count": null,
            "flex_flow": null,
            "width": null,
            "min_width": null,
            "border": null,
            "align_items": null,
            "bottom": null,
            "_model_module": "@jupyter-widgets/base",
            "top": null,
            "grid_column": null,
            "overflow_y": null,
            "overflow_x": null,
            "grid_auto_flow": null,
            "grid_area": null,
            "grid_template_columns": null,
            "flex": null,
            "_model_name": "LayoutModel",
            "justify_items": null,
            "grid_row": null,
            "max_height": null,
            "align_content": null,
            "visibility": null,
            "align_self": null,
            "height": null,
            "min_height": null,
            "padding": null,
            "grid_auto_rows": null,
            "grid_gap": null,
            "max_width": null,
            "order": null,
            "_view_module_version": "1.2.0",
            "grid_template_areas": null,
            "object_position": null,
            "object_fit": null,
            "grid_auto_columns": null,
            "margin": null,
            "display": null,
            "left": null
          }
        },
        "813e46c9c119442b90814f8306fefaf6": {
          "model_module": "@jupyter-widgets/controls",
          "model_name": "DescriptionStyleModel",
          "state": {
            "_view_name": "StyleView",
            "_model_name": "DescriptionStyleModel",
            "description_width": "",
            "_view_module": "@jupyter-widgets/base",
            "_model_module_version": "1.5.0",
            "_view_count": null,
            "_view_module_version": "1.2.0",
            "_model_module": "@jupyter-widgets/controls"
          }
        },
        "6256f931d2214b42b962f727214a24e9": {
          "model_module": "@jupyter-widgets/base",
          "model_name": "LayoutModel",
          "state": {
            "_view_name": "LayoutView",
            "grid_template_rows": null,
            "right": null,
            "justify_content": null,
            "_view_module": "@jupyter-widgets/base",
            "overflow": null,
            "_model_module_version": "1.2.0",
            "_view_count": null,
            "flex_flow": null,
            "width": null,
            "min_width": null,
            "border": null,
            "align_items": null,
            "bottom": null,
            "_model_module": "@jupyter-widgets/base",
            "top": null,
            "grid_column": null,
            "overflow_y": null,
            "overflow_x": null,
            "grid_auto_flow": null,
            "grid_area": null,
            "grid_template_columns": null,
            "flex": null,
            "_model_name": "LayoutModel",
            "justify_items": null,
            "grid_row": null,
            "max_height": null,
            "align_content": null,
            "visibility": null,
            "align_self": null,
            "height": null,
            "min_height": null,
            "padding": null,
            "grid_auto_rows": null,
            "grid_gap": null,
            "max_width": null,
            "order": null,
            "_view_module_version": "1.2.0",
            "grid_template_areas": null,
            "object_position": null,
            "object_fit": null,
            "grid_auto_columns": null,
            "margin": null,
            "display": null,
            "left": null
          }
        },
        "4c73451062d14a2ca1946c3beeb5d59a": {
          "model_module": "@jupyter-widgets/controls",
          "model_name": "HBoxModel",
          "state": {
            "_view_name": "HBoxView",
            "_dom_classes": [],
            "_model_name": "HBoxModel",
            "_view_module": "@jupyter-widgets/controls",
            "_model_module_version": "1.5.0",
            "_view_count": null,
            "_view_module_version": "1.5.0",
            "box_style": "",
            "layout": "IPY_MODEL_71c916269e4b45a3896682a57bff00c6",
            "_model_module": "@jupyter-widgets/controls",
            "children": [
              "IPY_MODEL_c521a94317fd42658f84cd85b827d7f0",
              "IPY_MODEL_d08fb96b07024a2bb0771ccc935c0766"
            ]
          }
        },
        "71c916269e4b45a3896682a57bff00c6": {
          "model_module": "@jupyter-widgets/base",
          "model_name": "LayoutModel",
          "state": {
            "_view_name": "LayoutView",
            "grid_template_rows": null,
            "right": null,
            "justify_content": null,
            "_view_module": "@jupyter-widgets/base",
            "overflow": null,
            "_model_module_version": "1.2.0",
            "_view_count": null,
            "flex_flow": null,
            "width": null,
            "min_width": null,
            "border": null,
            "align_items": null,
            "bottom": null,
            "_model_module": "@jupyter-widgets/base",
            "top": null,
            "grid_column": null,
            "overflow_y": null,
            "overflow_x": null,
            "grid_auto_flow": null,
            "grid_area": null,
            "grid_template_columns": null,
            "flex": null,
            "_model_name": "LayoutModel",
            "justify_items": null,
            "grid_row": null,
            "max_height": null,
            "align_content": null,
            "visibility": null,
            "align_self": null,
            "height": null,
            "min_height": null,
            "padding": null,
            "grid_auto_rows": null,
            "grid_gap": null,
            "max_width": null,
            "order": null,
            "_view_module_version": "1.2.0",
            "grid_template_areas": null,
            "object_position": null,
            "object_fit": null,
            "grid_auto_columns": null,
            "margin": null,
            "display": null,
            "left": null
          }
        },
        "c521a94317fd42658f84cd85b827d7f0": {
          "model_module": "@jupyter-widgets/controls",
          "model_name": "FloatProgressModel",
          "state": {
            "_view_name": "ProgressView",
            "style": "IPY_MODEL_c8db422d5824468bbcdbc0df7789759e",
            "_dom_classes": [],
            "description": "Downloading: 100%",
            "_model_name": "FloatProgressModel",
            "bar_style": "success",
            "max": 69748265,
            "_view_module": "@jupyter-widgets/controls",
            "_model_module_version": "1.5.0",
            "value": 69748265,
            "_view_count": null,
            "_view_module_version": "1.5.0",
            "orientation": "horizontal",
            "min": 0,
            "description_tooltip": null,
            "_model_module": "@jupyter-widgets/controls",
            "layout": "IPY_MODEL_a2ced80929b44c419497a67900d9ab76"
          }
        },
        "d08fb96b07024a2bb0771ccc935c0766": {
          "model_module": "@jupyter-widgets/controls",
          "model_name": "HTMLModel",
          "state": {
            "_view_name": "HTMLView",
            "style": "IPY_MODEL_24ab556445fe4543a415628b705ebabe",
            "_dom_classes": [],
            "description": "",
            "_model_name": "HTMLModel",
            "placeholder": "​",
            "_view_module": "@jupyter-widgets/controls",
            "_model_module_version": "1.5.0",
            "value": " 69.7M/69.7M [00:01&lt;00:00, 46.1MB/s]",
            "_view_count": null,
            "_view_module_version": "1.5.0",
            "description_tooltip": null,
            "_model_module": "@jupyter-widgets/controls",
            "layout": "IPY_MODEL_1749876359d64a169899e37dfc3872cc"
          }
        },
        "c8db422d5824468bbcdbc0df7789759e": {
          "model_module": "@jupyter-widgets/controls",
          "model_name": "ProgressStyleModel",
          "state": {
            "_view_name": "StyleView",
            "_model_name": "ProgressStyleModel",
            "description_width": "initial",
            "_view_module": "@jupyter-widgets/base",
            "_model_module_version": "1.5.0",
            "_view_count": null,
            "_view_module_version": "1.2.0",
            "bar_color": null,
            "_model_module": "@jupyter-widgets/controls"
          }
        },
        "a2ced80929b44c419497a67900d9ab76": {
          "model_module": "@jupyter-widgets/base",
          "model_name": "LayoutModel",
          "state": {
            "_view_name": "LayoutView",
            "grid_template_rows": null,
            "right": null,
            "justify_content": null,
            "_view_module": "@jupyter-widgets/base",
            "overflow": null,
            "_model_module_version": "1.2.0",
            "_view_count": null,
            "flex_flow": null,
            "width": null,
            "min_width": null,
            "border": null,
            "align_items": null,
            "bottom": null,
            "_model_module": "@jupyter-widgets/base",
            "top": null,
            "grid_column": null,
            "overflow_y": null,
            "overflow_x": null,
            "grid_auto_flow": null,
            "grid_area": null,
            "grid_template_columns": null,
            "flex": null,
            "_model_name": "LayoutModel",
            "justify_items": null,
            "grid_row": null,
            "max_height": null,
            "align_content": null,
            "visibility": null,
            "align_self": null,
            "height": null,
            "min_height": null,
            "padding": null,
            "grid_auto_rows": null,
            "grid_gap": null,
            "max_width": null,
            "order": null,
            "_view_module_version": "1.2.0",
            "grid_template_areas": null,
            "object_position": null,
            "object_fit": null,
            "grid_auto_columns": null,
            "margin": null,
            "display": null,
            "left": null
          }
        },
        "24ab556445fe4543a415628b705ebabe": {
          "model_module": "@jupyter-widgets/controls",
          "model_name": "DescriptionStyleModel",
          "state": {
            "_view_name": "StyleView",
            "_model_name": "DescriptionStyleModel",
            "description_width": "",
            "_view_module": "@jupyter-widgets/base",
            "_model_module_version": "1.5.0",
            "_view_count": null,
            "_view_module_version": "1.2.0",
            "_model_module": "@jupyter-widgets/controls"
          }
        },
        "1749876359d64a169899e37dfc3872cc": {
          "model_module": "@jupyter-widgets/base",
          "model_name": "LayoutModel",
          "state": {
            "_view_name": "LayoutView",
            "grid_template_rows": null,
            "right": null,
            "justify_content": null,
            "_view_module": "@jupyter-widgets/base",
            "overflow": null,
            "_model_module_version": "1.2.0",
            "_view_count": null,
            "flex_flow": null,
            "width": null,
            "min_width": null,
            "border": null,
            "align_items": null,
            "bottom": null,
            "_model_module": "@jupyter-widgets/base",
            "top": null,
            "grid_column": null,
            "overflow_y": null,
            "overflow_x": null,
            "grid_auto_flow": null,
            "grid_area": null,
            "grid_template_columns": null,
            "flex": null,
            "_model_name": "LayoutModel",
            "justify_items": null,
            "grid_row": null,
            "max_height": null,
            "align_content": null,
            "visibility": null,
            "align_self": null,
            "height": null,
            "min_height": null,
            "padding": null,
            "grid_auto_rows": null,
            "grid_gap": null,
            "max_width": null,
            "order": null,
            "_view_module_version": "1.2.0",
            "grid_template_areas": null,
            "object_position": null,
            "object_fit": null,
            "grid_auto_columns": null,
            "margin": null,
            "display": null,
            "left": null
          }
        },
        "facb57b1f6454f15bee3c5f2ffd20471": {
          "model_module": "@jupyter-widgets/controls",
          "model_name": "HBoxModel",
          "state": {
            "_view_name": "HBoxView",
            "_dom_classes": [],
            "_model_name": "HBoxModel",
            "_view_module": "@jupyter-widgets/controls",
            "_model_module_version": "1.5.0",
            "_view_count": null,
            "_view_module_version": "1.5.0",
            "box_style": "",
            "layout": "IPY_MODEL_4a316cfd79f74c0cb350d72f66d4b96c",
            "_model_module": "@jupyter-widgets/controls",
            "children": [
              "IPY_MODEL_b04f36aed60d41a3b3809daf03324cc5",
              "IPY_MODEL_4d5709af14724f13b1be0f863488fbe8"
            ]
          }
        },
        "4a316cfd79f74c0cb350d72f66d4b96c": {
          "model_module": "@jupyter-widgets/base",
          "model_name": "LayoutModel",
          "state": {
            "_view_name": "LayoutView",
            "grid_template_rows": null,
            "right": null,
            "justify_content": null,
            "_view_module": "@jupyter-widgets/base",
            "overflow": null,
            "_model_module_version": "1.2.0",
            "_view_count": null,
            "flex_flow": null,
            "width": null,
            "min_width": null,
            "border": null,
            "align_items": null,
            "bottom": null,
            "_model_module": "@jupyter-widgets/base",
            "top": null,
            "grid_column": null,
            "overflow_y": null,
            "overflow_x": null,
            "grid_auto_flow": null,
            "grid_area": null,
            "grid_template_columns": null,
            "flex": null,
            "_model_name": "LayoutModel",
            "justify_items": null,
            "grid_row": null,
            "max_height": null,
            "align_content": null,
            "visibility": null,
            "align_self": null,
            "height": null,
            "min_height": null,
            "padding": null,
            "grid_auto_rows": null,
            "grid_gap": null,
            "max_width": null,
            "order": null,
            "_view_module_version": "1.2.0",
            "grid_template_areas": null,
            "object_position": null,
            "object_fit": null,
            "grid_auto_columns": null,
            "margin": null,
            "display": null,
            "left": null
          }
        },
        "b04f36aed60d41a3b3809daf03324cc5": {
          "model_module": "@jupyter-widgets/controls",
          "model_name": "FloatProgressModel",
          "state": {
            "_view_name": "ProgressView",
            "style": "IPY_MODEL_a0028bb949d64b18971ff3e39ce1556b",
            "_dom_classes": [],
            "description": "",
            "_model_name": "FloatProgressModel",
            "bar_style": "info",
            "max": 1,
            "_view_module": "@jupyter-widgets/controls",
            "_model_module_version": "1.5.0",
            "value": 1,
            "_view_count": null,
            "_view_module_version": "1.5.0",
            "orientation": "horizontal",
            "min": 0,
            "description_tooltip": null,
            "_model_module": "@jupyter-widgets/controls",
            "layout": "IPY_MODEL_fa0a9fe8b8b148cb9e6f14789695c44f"
          }
        },
        "4d5709af14724f13b1be0f863488fbe8": {
          "model_module": "@jupyter-widgets/controls",
          "model_name": "HTMLModel",
          "state": {
            "_view_name": "HTMLView",
            "style": "IPY_MODEL_cd824a53373b456f92d401ef7a2d8e78",
            "_dom_classes": [],
            "description": "",
            "_model_name": "HTMLModel",
            "placeholder": "​",
            "_view_module": "@jupyter-widgets/controls",
            "_model_module_version": "1.5.0",
            "value": " 211/0 [00:04&lt;00:00,  4.77s/ examples]",
            "_view_count": null,
            "_view_module_version": "1.5.0",
            "description_tooltip": null,
            "_model_module": "@jupyter-widgets/controls",
            "layout": "IPY_MODEL_5f2a208db4c64413903a8df1b48bf84d"
          }
        },
        "a0028bb949d64b18971ff3e39ce1556b": {
          "model_module": "@jupyter-widgets/controls",
          "model_name": "ProgressStyleModel",
          "state": {
            "_view_name": "StyleView",
            "_model_name": "ProgressStyleModel",
            "description_width": "initial",
            "_view_module": "@jupyter-widgets/base",
            "_model_module_version": "1.5.0",
            "_view_count": null,
            "_view_module_version": "1.2.0",
            "bar_color": null,
            "_model_module": "@jupyter-widgets/controls"
          }
        },
        "fa0a9fe8b8b148cb9e6f14789695c44f": {
          "model_module": "@jupyter-widgets/base",
          "model_name": "LayoutModel",
          "state": {
            "_view_name": "LayoutView",
            "grid_template_rows": null,
            "right": null,
            "justify_content": null,
            "_view_module": "@jupyter-widgets/base",
            "overflow": null,
            "_model_module_version": "1.2.0",
            "_view_count": null,
            "flex_flow": null,
            "width": null,
            "min_width": null,
            "border": null,
            "align_items": null,
            "bottom": null,
            "_model_module": "@jupyter-widgets/base",
            "top": null,
            "grid_column": null,
            "overflow_y": null,
            "overflow_x": null,
            "grid_auto_flow": null,
            "grid_area": null,
            "grid_template_columns": null,
            "flex": null,
            "_model_name": "LayoutModel",
            "justify_items": null,
            "grid_row": null,
            "max_height": null,
            "align_content": null,
            "visibility": null,
            "align_self": null,
            "height": null,
            "min_height": null,
            "padding": null,
            "grid_auto_rows": null,
            "grid_gap": null,
            "max_width": null,
            "order": null,
            "_view_module_version": "1.2.0",
            "grid_template_areas": null,
            "object_position": null,
            "object_fit": null,
            "grid_auto_columns": null,
            "margin": null,
            "display": null,
            "left": null
          }
        },
        "cd824a53373b456f92d401ef7a2d8e78": {
          "model_module": "@jupyter-widgets/controls",
          "model_name": "DescriptionStyleModel",
          "state": {
            "_view_name": "StyleView",
            "_model_name": "DescriptionStyleModel",
            "description_width": "",
            "_view_module": "@jupyter-widgets/base",
            "_model_module_version": "1.5.0",
            "_view_count": null,
            "_view_module_version": "1.2.0",
            "_model_module": "@jupyter-widgets/controls"
          }
        },
        "5f2a208db4c64413903a8df1b48bf84d": {
          "model_module": "@jupyter-widgets/base",
          "model_name": "LayoutModel",
          "state": {
            "_view_name": "LayoutView",
            "grid_template_rows": null,
            "right": null,
            "justify_content": null,
            "_view_module": "@jupyter-widgets/base",
            "overflow": null,
            "_model_module_version": "1.2.0",
            "_view_count": null,
            "flex_flow": null,
            "width": null,
            "min_width": null,
            "border": null,
            "align_items": null,
            "bottom": null,
            "_model_module": "@jupyter-widgets/base",
            "top": null,
            "grid_column": null,
            "overflow_y": null,
            "overflow_x": null,
            "grid_auto_flow": null,
            "grid_area": null,
            "grid_template_columns": null,
            "flex": null,
            "_model_name": "LayoutModel",
            "justify_items": null,
            "grid_row": null,
            "max_height": null,
            "align_content": null,
            "visibility": null,
            "align_self": null,
            "height": null,
            "min_height": null,
            "padding": null,
            "grid_auto_rows": null,
            "grid_gap": null,
            "max_width": null,
            "order": null,
            "_view_module_version": "1.2.0",
            "grid_template_areas": null,
            "object_position": null,
            "object_fit": null,
            "grid_auto_columns": null,
            "margin": null,
            "display": null,
            "left": null
          }
        },
        "6c4ed5e31fd64d788a70db43909d754a": {
          "model_module": "@jupyter-widgets/controls",
          "model_name": "HBoxModel",
          "state": {
            "_view_name": "HBoxView",
            "_dom_classes": [],
            "_model_name": "HBoxModel",
            "_view_module": "@jupyter-widgets/controls",
            "_model_module_version": "1.5.0",
            "_view_count": null,
            "_view_module_version": "1.5.0",
            "box_style": "",
            "layout": "IPY_MODEL_11f1c3f4fa2242ba9de1ba1683767607",
            "_model_module": "@jupyter-widgets/controls",
            "children": [
              "IPY_MODEL_d98a3f64a9f24401b9c4fec632b1981c",
              "IPY_MODEL_4c79221781bf4d5280274c7f7e9ff0d9"
            ]
          }
        },
        "11f1c3f4fa2242ba9de1ba1683767607": {
          "model_module": "@jupyter-widgets/base",
          "model_name": "LayoutModel",
          "state": {
            "_view_name": "LayoutView",
            "grid_template_rows": null,
            "right": null,
            "justify_content": null,
            "_view_module": "@jupyter-widgets/base",
            "overflow": null,
            "_model_module_version": "1.2.0",
            "_view_count": null,
            "flex_flow": null,
            "width": null,
            "min_width": null,
            "border": null,
            "align_items": null,
            "bottom": null,
            "_model_module": "@jupyter-widgets/base",
            "top": null,
            "grid_column": null,
            "overflow_y": null,
            "overflow_x": null,
            "grid_auto_flow": null,
            "grid_area": null,
            "grid_template_columns": null,
            "flex": null,
            "_model_name": "LayoutModel",
            "justify_items": null,
            "grid_row": null,
            "max_height": null,
            "align_content": null,
            "visibility": null,
            "align_self": null,
            "height": null,
            "min_height": null,
            "padding": null,
            "grid_auto_rows": null,
            "grid_gap": null,
            "max_width": null,
            "order": null,
            "_view_module_version": "1.2.0",
            "grid_template_areas": null,
            "object_position": null,
            "object_fit": null,
            "grid_auto_columns": null,
            "margin": null,
            "display": null,
            "left": null
          }
        },
        "d98a3f64a9f24401b9c4fec632b1981c": {
          "model_module": "@jupyter-widgets/controls",
          "model_name": "FloatProgressModel",
          "state": {
            "_view_name": "ProgressView",
            "style": "IPY_MODEL_cb20af7fbe35423680c492c17b669d01",
            "_dom_classes": [],
            "description": "",
            "_model_name": "FloatProgressModel",
            "bar_style": "info",
            "max": 1,
            "_view_module": "@jupyter-widgets/controls",
            "_model_module_version": "1.5.0",
            "value": 1,
            "_view_count": null,
            "_view_module_version": "1.5.0",
            "orientation": "horizontal",
            "min": 0,
            "description_tooltip": null,
            "_model_module": "@jupyter-widgets/controls",
            "layout": "IPY_MODEL_9472a48135294ed7be390ed3f5664006"
          }
        },
        "4c79221781bf4d5280274c7f7e9ff0d9": {
          "model_module": "@jupyter-widgets/controls",
          "model_name": "HTMLModel",
          "state": {
            "_view_name": "HTMLView",
            "style": "IPY_MODEL_1ac3e770d41d479a96aac82fa27d0c20",
            "_dom_classes": [],
            "description": "",
            "_model_name": "HTMLModel",
            "placeholder": "​",
            "_view_module": "@jupyter-widgets/controls",
            "_model_module_version": "1.5.0",
            "value": " 116/0 [00:00&lt;00:00, 3865.87 examples/s]",
            "_view_count": null,
            "_view_module_version": "1.5.0",
            "description_tooltip": null,
            "_model_module": "@jupyter-widgets/controls",
            "layout": "IPY_MODEL_39c59fc854e542f59b7fb545affb5c44"
          }
        },
        "cb20af7fbe35423680c492c17b669d01": {
          "model_module": "@jupyter-widgets/controls",
          "model_name": "ProgressStyleModel",
          "state": {
            "_view_name": "StyleView",
            "_model_name": "ProgressStyleModel",
            "description_width": "initial",
            "_view_module": "@jupyter-widgets/base",
            "_model_module_version": "1.5.0",
            "_view_count": null,
            "_view_module_version": "1.2.0",
            "bar_color": null,
            "_model_module": "@jupyter-widgets/controls"
          }
        },
        "9472a48135294ed7be390ed3f5664006": {
          "model_module": "@jupyter-widgets/base",
          "model_name": "LayoutModel",
          "state": {
            "_view_name": "LayoutView",
            "grid_template_rows": null,
            "right": null,
            "justify_content": null,
            "_view_module": "@jupyter-widgets/base",
            "overflow": null,
            "_model_module_version": "1.2.0",
            "_view_count": null,
            "flex_flow": null,
            "width": null,
            "min_width": null,
            "border": null,
            "align_items": null,
            "bottom": null,
            "_model_module": "@jupyter-widgets/base",
            "top": null,
            "grid_column": null,
            "overflow_y": null,
            "overflow_x": null,
            "grid_auto_flow": null,
            "grid_area": null,
            "grid_template_columns": null,
            "flex": null,
            "_model_name": "LayoutModel",
            "justify_items": null,
            "grid_row": null,
            "max_height": null,
            "align_content": null,
            "visibility": null,
            "align_self": null,
            "height": null,
            "min_height": null,
            "padding": null,
            "grid_auto_rows": null,
            "grid_gap": null,
            "max_width": null,
            "order": null,
            "_view_module_version": "1.2.0",
            "grid_template_areas": null,
            "object_position": null,
            "object_fit": null,
            "grid_auto_columns": null,
            "margin": null,
            "display": null,
            "left": null
          }
        },
        "1ac3e770d41d479a96aac82fa27d0c20": {
          "model_module": "@jupyter-widgets/controls",
          "model_name": "DescriptionStyleModel",
          "state": {
            "_view_name": "StyleView",
            "_model_name": "DescriptionStyleModel",
            "description_width": "",
            "_view_module": "@jupyter-widgets/base",
            "_model_module_version": "1.5.0",
            "_view_count": null,
            "_view_module_version": "1.2.0",
            "_model_module": "@jupyter-widgets/controls"
          }
        },
        "39c59fc854e542f59b7fb545affb5c44": {
          "model_module": "@jupyter-widgets/base",
          "model_name": "LayoutModel",
          "state": {
            "_view_name": "LayoutView",
            "grid_template_rows": null,
            "right": null,
            "justify_content": null,
            "_view_module": "@jupyter-widgets/base",
            "overflow": null,
            "_model_module_version": "1.2.0",
            "_view_count": null,
            "flex_flow": null,
            "width": null,
            "min_width": null,
            "border": null,
            "align_items": null,
            "bottom": null,
            "_model_module": "@jupyter-widgets/base",
            "top": null,
            "grid_column": null,
            "overflow_y": null,
            "overflow_x": null,
            "grid_auto_flow": null,
            "grid_area": null,
            "grid_template_columns": null,
            "flex": null,
            "_model_name": "LayoutModel",
            "justify_items": null,
            "grid_row": null,
            "max_height": null,
            "align_content": null,
            "visibility": null,
            "align_self": null,
            "height": null,
            "min_height": null,
            "padding": null,
            "grid_auto_rows": null,
            "grid_gap": null,
            "max_width": null,
            "order": null,
            "_view_module_version": "1.2.0",
            "grid_template_areas": null,
            "object_position": null,
            "object_fit": null,
            "grid_auto_columns": null,
            "margin": null,
            "display": null,
            "left": null
          }
        },
        "1f39fe37834a430c8081260ed766c385": {
          "model_module": "@jupyter-widgets/controls",
          "model_name": "HBoxModel",
          "state": {
            "_view_name": "HBoxView",
            "_dom_classes": [],
            "_model_name": "HBoxModel",
            "_view_module": "@jupyter-widgets/controls",
            "_model_module_version": "1.5.0",
            "_view_count": null,
            "_view_module_version": "1.5.0",
            "box_style": "",
            "layout": "IPY_MODEL_92fea0be916643419a6f935d4e9c7631",
            "_model_module": "@jupyter-widgets/controls",
            "children": [
              "IPY_MODEL_a598c9c2fe4a4579b0f48bb2290377d9",
              "IPY_MODEL_6759a04e7334400ab3ec24d4e48e107e"
            ]
          }
        },
        "92fea0be916643419a6f935d4e9c7631": {
          "model_module": "@jupyter-widgets/base",
          "model_name": "LayoutModel",
          "state": {
            "_view_name": "LayoutView",
            "grid_template_rows": null,
            "right": null,
            "justify_content": null,
            "_view_module": "@jupyter-widgets/base",
            "overflow": null,
            "_model_module_version": "1.2.0",
            "_view_count": null,
            "flex_flow": null,
            "width": null,
            "min_width": null,
            "border": null,
            "align_items": null,
            "bottom": null,
            "_model_module": "@jupyter-widgets/base",
            "top": null,
            "grid_column": null,
            "overflow_y": null,
            "overflow_x": null,
            "grid_auto_flow": null,
            "grid_area": null,
            "grid_template_columns": null,
            "flex": null,
            "_model_name": "LayoutModel",
            "justify_items": null,
            "grid_row": null,
            "max_height": null,
            "align_content": null,
            "visibility": null,
            "align_self": null,
            "height": null,
            "min_height": null,
            "padding": null,
            "grid_auto_rows": null,
            "grid_gap": null,
            "max_width": null,
            "order": null,
            "_view_module_version": "1.2.0",
            "grid_template_areas": null,
            "object_position": null,
            "object_fit": null,
            "grid_auto_columns": null,
            "margin": null,
            "display": null,
            "left": null
          }
        },
        "a598c9c2fe4a4579b0f48bb2290377d9": {
          "model_module": "@jupyter-widgets/controls",
          "model_name": "FloatProgressModel",
          "state": {
            "_view_name": "ProgressView",
            "style": "IPY_MODEL_e258b04c28ce4370bb91d9a23cdb6cea",
            "_dom_classes": [],
            "description": "",
            "_model_name": "FloatProgressModel",
            "bar_style": "info",
            "max": 1,
            "_view_module": "@jupyter-widgets/controls",
            "_model_module_version": "1.5.0",
            "value": 1,
            "_view_count": null,
            "_view_module_version": "1.5.0",
            "orientation": "horizontal",
            "min": 0,
            "description_tooltip": null,
            "_model_module": "@jupyter-widgets/controls",
            "layout": "IPY_MODEL_900974d56f464e41b8a2a73c82a654af"
          }
        },
        "6759a04e7334400ab3ec24d4e48e107e": {
          "model_module": "@jupyter-widgets/controls",
          "model_name": "HTMLModel",
          "state": {
            "_view_name": "HTMLView",
            "style": "IPY_MODEL_60b4b6276dfd4031adb4e3eba6f80691",
            "_dom_classes": [],
            "description": "",
            "_model_name": "HTMLModel",
            "placeholder": "​",
            "_view_module": "@jupyter-widgets/controls",
            "_model_module_version": "1.5.0",
            "value": " 44/0 [00:00&lt;00:00, 1479.45 examples/s]",
            "_view_count": null,
            "_view_module_version": "1.5.0",
            "description_tooltip": null,
            "_model_module": "@jupyter-widgets/controls",
            "layout": "IPY_MODEL_395414dfb47e4db3af2e00cca329889a"
          }
        },
        "e258b04c28ce4370bb91d9a23cdb6cea": {
          "model_module": "@jupyter-widgets/controls",
          "model_name": "ProgressStyleModel",
          "state": {
            "_view_name": "StyleView",
            "_model_name": "ProgressStyleModel",
            "description_width": "initial",
            "_view_module": "@jupyter-widgets/base",
            "_model_module_version": "1.5.0",
            "_view_count": null,
            "_view_module_version": "1.2.0",
            "bar_color": null,
            "_model_module": "@jupyter-widgets/controls"
          }
        },
        "900974d56f464e41b8a2a73c82a654af": {
          "model_module": "@jupyter-widgets/base",
          "model_name": "LayoutModel",
          "state": {
            "_view_name": "LayoutView",
            "grid_template_rows": null,
            "right": null,
            "justify_content": null,
            "_view_module": "@jupyter-widgets/base",
            "overflow": null,
            "_model_module_version": "1.2.0",
            "_view_count": null,
            "flex_flow": null,
            "width": null,
            "min_width": null,
            "border": null,
            "align_items": null,
            "bottom": null,
            "_model_module": "@jupyter-widgets/base",
            "top": null,
            "grid_column": null,
            "overflow_y": null,
            "overflow_x": null,
            "grid_auto_flow": null,
            "grid_area": null,
            "grid_template_columns": null,
            "flex": null,
            "_model_name": "LayoutModel",
            "justify_items": null,
            "grid_row": null,
            "max_height": null,
            "align_content": null,
            "visibility": null,
            "align_self": null,
            "height": null,
            "min_height": null,
            "padding": null,
            "grid_auto_rows": null,
            "grid_gap": null,
            "max_width": null,
            "order": null,
            "_view_module_version": "1.2.0",
            "grid_template_areas": null,
            "object_position": null,
            "object_fit": null,
            "grid_auto_columns": null,
            "margin": null,
            "display": null,
            "left": null
          }
        },
        "60b4b6276dfd4031adb4e3eba6f80691": {
          "model_module": "@jupyter-widgets/controls",
          "model_name": "DescriptionStyleModel",
          "state": {
            "_view_name": "StyleView",
            "_model_name": "DescriptionStyleModel",
            "description_width": "",
            "_view_module": "@jupyter-widgets/base",
            "_model_module_version": "1.5.0",
            "_view_count": null,
            "_view_module_version": "1.2.0",
            "_model_module": "@jupyter-widgets/controls"
          }
        },
        "395414dfb47e4db3af2e00cca329889a": {
          "model_module": "@jupyter-widgets/base",
          "model_name": "LayoutModel",
          "state": {
            "_view_name": "LayoutView",
            "grid_template_rows": null,
            "right": null,
            "justify_content": null,
            "_view_module": "@jupyter-widgets/base",
            "overflow": null,
            "_model_module_version": "1.2.0",
            "_view_count": null,
            "flex_flow": null,
            "width": null,
            "min_width": null,
            "border": null,
            "align_items": null,
            "bottom": null,
            "_model_module": "@jupyter-widgets/base",
            "top": null,
            "grid_column": null,
            "overflow_y": null,
            "overflow_x": null,
            "grid_auto_flow": null,
            "grid_area": null,
            "grid_template_columns": null,
            "flex": null,
            "_model_name": "LayoutModel",
            "justify_items": null,
            "grid_row": null,
            "max_height": null,
            "align_content": null,
            "visibility": null,
            "align_self": null,
            "height": null,
            "min_height": null,
            "padding": null,
            "grid_auto_rows": null,
            "grid_gap": null,
            "max_width": null,
            "order": null,
            "_view_module_version": "1.2.0",
            "grid_template_areas": null,
            "object_position": null,
            "object_fit": null,
            "grid_auto_columns": null,
            "margin": null,
            "display": null,
            "left": null
          }
        },
        "dd539ff1499e41069e4aa4f390d92ab6": {
          "model_module": "@jupyter-widgets/controls",
          "model_name": "HBoxModel",
          "state": {
            "_view_name": "HBoxView",
            "_dom_classes": [],
            "_model_name": "HBoxModel",
            "_view_module": "@jupyter-widgets/controls",
            "_model_module_version": "1.5.0",
            "_view_count": null,
            "_view_module_version": "1.5.0",
            "box_style": "",
            "layout": "IPY_MODEL_21bc6b3cf70447f58d110b33288eb3d0",
            "_model_module": "@jupyter-widgets/controls",
            "children": [
              "IPY_MODEL_edb5a8ad703f4653946ad70fb90a8e1e",
              "IPY_MODEL_0e5e8614945b4187a6cea27209dc193e"
            ]
          }
        },
        "21bc6b3cf70447f58d110b33288eb3d0": {
          "model_module": "@jupyter-widgets/base",
          "model_name": "LayoutModel",
          "state": {
            "_view_name": "LayoutView",
            "grid_template_rows": null,
            "right": null,
            "justify_content": null,
            "_view_module": "@jupyter-widgets/base",
            "overflow": null,
            "_model_module_version": "1.2.0",
            "_view_count": null,
            "flex_flow": null,
            "width": null,
            "min_width": null,
            "border": null,
            "align_items": null,
            "bottom": null,
            "_model_module": "@jupyter-widgets/base",
            "top": null,
            "grid_column": null,
            "overflow_y": null,
            "overflow_x": null,
            "grid_auto_flow": null,
            "grid_area": null,
            "grid_template_columns": null,
            "flex": null,
            "_model_name": "LayoutModel",
            "justify_items": null,
            "grid_row": null,
            "max_height": null,
            "align_content": null,
            "visibility": null,
            "align_self": null,
            "height": null,
            "min_height": null,
            "padding": null,
            "grid_auto_rows": null,
            "grid_gap": null,
            "max_width": null,
            "order": null,
            "_view_module_version": "1.2.0",
            "grid_template_areas": null,
            "object_position": null,
            "object_fit": null,
            "grid_auto_columns": null,
            "margin": null,
            "display": null,
            "left": null
          }
        },
        "edb5a8ad703f4653946ad70fb90a8e1e": {
          "model_module": "@jupyter-widgets/controls",
          "model_name": "FloatProgressModel",
          "state": {
            "_view_name": "ProgressView",
            "style": "IPY_MODEL_3d0f746442594e739abbc7d45727a56a",
            "_dom_classes": [],
            "description": "",
            "_model_name": "FloatProgressModel",
            "bar_style": "info",
            "max": 1,
            "_view_module": "@jupyter-widgets/controls",
            "_model_module_version": "1.5.0",
            "value": 1,
            "_view_count": null,
            "_view_module_version": "1.5.0",
            "orientation": "horizontal",
            "min": 0,
            "description_tooltip": null,
            "_model_module": "@jupyter-widgets/controls",
            "layout": "IPY_MODEL_afd83d88829c4935a4a88b9f0e3a5ec8"
          }
        },
        "0e5e8614945b4187a6cea27209dc193e": {
          "model_module": "@jupyter-widgets/controls",
          "model_name": "HTMLModel",
          "state": {
            "_view_name": "HTMLView",
            "style": "IPY_MODEL_59f88855e671489f91de62c1db3fa156",
            "_dom_classes": [],
            "description": "",
            "_model_name": "HTMLModel",
            "placeholder": "​",
            "_view_module": "@jupyter-widgets/controls",
            "_model_module_version": "1.5.0",
            "value": " 1411/0 [00:00&lt;00:00, 14600.35 examples/s]",
            "_view_count": null,
            "_view_module_version": "1.5.0",
            "description_tooltip": null,
            "_model_module": "@jupyter-widgets/controls",
            "layout": "IPY_MODEL_5a5df41f3e4d40a09ae6bab66e9f8b8d"
          }
        },
        "3d0f746442594e739abbc7d45727a56a": {
          "model_module": "@jupyter-widgets/controls",
          "model_name": "ProgressStyleModel",
          "state": {
            "_view_name": "StyleView",
            "_model_name": "ProgressStyleModel",
            "description_width": "initial",
            "_view_module": "@jupyter-widgets/base",
            "_model_module_version": "1.5.0",
            "_view_count": null,
            "_view_module_version": "1.2.0",
            "bar_color": null,
            "_model_module": "@jupyter-widgets/controls"
          }
        },
        "afd83d88829c4935a4a88b9f0e3a5ec8": {
          "model_module": "@jupyter-widgets/base",
          "model_name": "LayoutModel",
          "state": {
            "_view_name": "LayoutView",
            "grid_template_rows": null,
            "right": null,
            "justify_content": null,
            "_view_module": "@jupyter-widgets/base",
            "overflow": null,
            "_model_module_version": "1.2.0",
            "_view_count": null,
            "flex_flow": null,
            "width": null,
            "min_width": null,
            "border": null,
            "align_items": null,
            "bottom": null,
            "_model_module": "@jupyter-widgets/base",
            "top": null,
            "grid_column": null,
            "overflow_y": null,
            "overflow_x": null,
            "grid_auto_flow": null,
            "grid_area": null,
            "grid_template_columns": null,
            "flex": null,
            "_model_name": "LayoutModel",
            "justify_items": null,
            "grid_row": null,
            "max_height": null,
            "align_content": null,
            "visibility": null,
            "align_self": null,
            "height": null,
            "min_height": null,
            "padding": null,
            "grid_auto_rows": null,
            "grid_gap": null,
            "max_width": null,
            "order": null,
            "_view_module_version": "1.2.0",
            "grid_template_areas": null,
            "object_position": null,
            "object_fit": null,
            "grid_auto_columns": null,
            "margin": null,
            "display": null,
            "left": null
          }
        },
        "59f88855e671489f91de62c1db3fa156": {
          "model_module": "@jupyter-widgets/controls",
          "model_name": "DescriptionStyleModel",
          "state": {
            "_view_name": "StyleView",
            "_model_name": "DescriptionStyleModel",
            "description_width": "",
            "_view_module": "@jupyter-widgets/base",
            "_model_module_version": "1.5.0",
            "_view_count": null,
            "_view_module_version": "1.2.0",
            "_model_module": "@jupyter-widgets/controls"
          }
        },
        "5a5df41f3e4d40a09ae6bab66e9f8b8d": {
          "model_module": "@jupyter-widgets/base",
          "model_name": "LayoutModel",
          "state": {
            "_view_name": "LayoutView",
            "grid_template_rows": null,
            "right": null,
            "justify_content": null,
            "_view_module": "@jupyter-widgets/base",
            "overflow": null,
            "_model_module_version": "1.2.0",
            "_view_count": null,
            "flex_flow": null,
            "width": null,
            "min_width": null,
            "border": null,
            "align_items": null,
            "bottom": null,
            "_model_module": "@jupyter-widgets/base",
            "top": null,
            "grid_column": null,
            "overflow_y": null,
            "overflow_x": null,
            "grid_auto_flow": null,
            "grid_area": null,
            "grid_template_columns": null,
            "flex": null,
            "_model_name": "LayoutModel",
            "justify_items": null,
            "grid_row": null,
            "max_height": null,
            "align_content": null,
            "visibility": null,
            "align_self": null,
            "height": null,
            "min_height": null,
            "padding": null,
            "grid_auto_rows": null,
            "grid_gap": null,
            "max_width": null,
            "order": null,
            "_view_module_version": "1.2.0",
            "grid_template_areas": null,
            "object_position": null,
            "object_fit": null,
            "grid_auto_columns": null,
            "margin": null,
            "display": null,
            "left": null
          }
        },
        "47b503aab3d44e04bcab128b306e4c54": {
          "model_module": "@jupyter-widgets/controls",
          "model_name": "HBoxModel",
          "state": {
            "_view_name": "HBoxView",
            "_dom_classes": [],
            "_model_name": "HBoxModel",
            "_view_module": "@jupyter-widgets/controls",
            "_model_module_version": "1.5.0",
            "_view_count": null,
            "_view_module_version": "1.5.0",
            "box_style": "",
            "layout": "IPY_MODEL_47bf61d276b54a7d997f0300c33f8f3d",
            "_model_module": "@jupyter-widgets/controls",
            "children": [
              "IPY_MODEL_e71b7a448c3142ef96d106fa59af1f00",
              "IPY_MODEL_ae8b8eadab72479f909b1a2e3f60bbaf"
            ]
          }
        },
        "47bf61d276b54a7d997f0300c33f8f3d": {
          "model_module": "@jupyter-widgets/base",
          "model_name": "LayoutModel",
          "state": {
            "_view_name": "LayoutView",
            "grid_template_rows": null,
            "right": null,
            "justify_content": null,
            "_view_module": "@jupyter-widgets/base",
            "overflow": null,
            "_model_module_version": "1.2.0",
            "_view_count": null,
            "flex_flow": null,
            "width": null,
            "min_width": null,
            "border": null,
            "align_items": null,
            "bottom": null,
            "_model_module": "@jupyter-widgets/base",
            "top": null,
            "grid_column": null,
            "overflow_y": null,
            "overflow_x": null,
            "grid_auto_flow": null,
            "grid_area": null,
            "grid_template_columns": null,
            "flex": null,
            "_model_name": "LayoutModel",
            "justify_items": null,
            "grid_row": null,
            "max_height": null,
            "align_content": null,
            "visibility": null,
            "align_self": null,
            "height": null,
            "min_height": null,
            "padding": null,
            "grid_auto_rows": null,
            "grid_gap": null,
            "max_width": null,
            "order": null,
            "_view_module_version": "1.2.0",
            "grid_template_areas": null,
            "object_position": null,
            "object_fit": null,
            "grid_auto_columns": null,
            "margin": null,
            "display": null,
            "left": null
          }
        },
        "e71b7a448c3142ef96d106fa59af1f00": {
          "model_module": "@jupyter-widgets/controls",
          "model_name": "FloatProgressModel",
          "state": {
            "_view_name": "ProgressView",
            "style": "IPY_MODEL_4edc9cdb18944841a4be4f8b3936fc8b",
            "_dom_classes": [],
            "description": "",
            "_model_name": "FloatProgressModel",
            "bar_style": "info",
            "max": 1,
            "_view_module": "@jupyter-widgets/controls",
            "_model_module_version": "1.5.0",
            "value": 1,
            "_view_count": null,
            "_view_module_version": "1.5.0",
            "orientation": "horizontal",
            "min": 0,
            "description_tooltip": null,
            "_model_module": "@jupyter-widgets/controls",
            "layout": "IPY_MODEL_d58c575f30334df79111467e8202a316"
          }
        },
        "ae8b8eadab72479f909b1a2e3f60bbaf": {
          "model_module": "@jupyter-widgets/controls",
          "model_name": "HTMLModel",
          "state": {
            "_view_name": "HTMLView",
            "style": "IPY_MODEL_ebb430116f574bb2aabe80e1ed6b9627",
            "_dom_classes": [],
            "description": "",
            "_model_name": "HTMLModel",
            "placeholder": "​",
            "_view_module": "@jupyter-widgets/controls",
            "_model_module_version": "1.5.0",
            "value": " 43/0 [00:00&lt;00:00, 1694.48 examples/s]",
            "_view_count": null,
            "_view_module_version": "1.5.0",
            "description_tooltip": null,
            "_model_module": "@jupyter-widgets/controls",
            "layout": "IPY_MODEL_a126ec48981f4335bdf5cdda68300207"
          }
        },
        "4edc9cdb18944841a4be4f8b3936fc8b": {
          "model_module": "@jupyter-widgets/controls",
          "model_name": "ProgressStyleModel",
          "state": {
            "_view_name": "StyleView",
            "_model_name": "ProgressStyleModel",
            "description_width": "initial",
            "_view_module": "@jupyter-widgets/base",
            "_model_module_version": "1.5.0",
            "_view_count": null,
            "_view_module_version": "1.2.0",
            "bar_color": null,
            "_model_module": "@jupyter-widgets/controls"
          }
        },
        "d58c575f30334df79111467e8202a316": {
          "model_module": "@jupyter-widgets/base",
          "model_name": "LayoutModel",
          "state": {
            "_view_name": "LayoutView",
            "grid_template_rows": null,
            "right": null,
            "justify_content": null,
            "_view_module": "@jupyter-widgets/base",
            "overflow": null,
            "_model_module_version": "1.2.0",
            "_view_count": null,
            "flex_flow": null,
            "width": null,
            "min_width": null,
            "border": null,
            "align_items": null,
            "bottom": null,
            "_model_module": "@jupyter-widgets/base",
            "top": null,
            "grid_column": null,
            "overflow_y": null,
            "overflow_x": null,
            "grid_auto_flow": null,
            "grid_area": null,
            "grid_template_columns": null,
            "flex": null,
            "_model_name": "LayoutModel",
            "justify_items": null,
            "grid_row": null,
            "max_height": null,
            "align_content": null,
            "visibility": null,
            "align_self": null,
            "height": null,
            "min_height": null,
            "padding": null,
            "grid_auto_rows": null,
            "grid_gap": null,
            "max_width": null,
            "order": null,
            "_view_module_version": "1.2.0",
            "grid_template_areas": null,
            "object_position": null,
            "object_fit": null,
            "grid_auto_columns": null,
            "margin": null,
            "display": null,
            "left": null
          }
        },
        "ebb430116f574bb2aabe80e1ed6b9627": {
          "model_module": "@jupyter-widgets/controls",
          "model_name": "DescriptionStyleModel",
          "state": {
            "_view_name": "StyleView",
            "_model_name": "DescriptionStyleModel",
            "description_width": "",
            "_view_module": "@jupyter-widgets/base",
            "_model_module_version": "1.5.0",
            "_view_count": null,
            "_view_module_version": "1.2.0",
            "_model_module": "@jupyter-widgets/controls"
          }
        },
        "a126ec48981f4335bdf5cdda68300207": {
          "model_module": "@jupyter-widgets/base",
          "model_name": "LayoutModel",
          "state": {
            "_view_name": "LayoutView",
            "grid_template_rows": null,
            "right": null,
            "justify_content": null,
            "_view_module": "@jupyter-widgets/base",
            "overflow": null,
            "_model_module_version": "1.2.0",
            "_view_count": null,
            "flex_flow": null,
            "width": null,
            "min_width": null,
            "border": null,
            "align_items": null,
            "bottom": null,
            "_model_module": "@jupyter-widgets/base",
            "top": null,
            "grid_column": null,
            "overflow_y": null,
            "overflow_x": null,
            "grid_auto_flow": null,
            "grid_area": null,
            "grid_template_columns": null,
            "flex": null,
            "_model_name": "LayoutModel",
            "justify_items": null,
            "grid_row": null,
            "max_height": null,
            "align_content": null,
            "visibility": null,
            "align_self": null,
            "height": null,
            "min_height": null,
            "padding": null,
            "grid_auto_rows": null,
            "grid_gap": null,
            "max_width": null,
            "order": null,
            "_view_module_version": "1.2.0",
            "grid_template_areas": null,
            "object_position": null,
            "object_fit": null,
            "grid_auto_columns": null,
            "margin": null,
            "display": null,
            "left": null
          }
        },
        "70382c1b81024dcb8f24ba44ab34f09c": {
          "model_module": "@jupyter-widgets/controls",
          "model_name": "HBoxModel",
          "state": {
            "_view_name": "HBoxView",
            "_dom_classes": [],
            "_model_name": "HBoxModel",
            "_view_module": "@jupyter-widgets/controls",
            "_model_module_version": "1.5.0",
            "_view_count": null,
            "_view_module_version": "1.5.0",
            "box_style": "",
            "layout": "IPY_MODEL_12ff64959eed41bf819f7fa47ecae66a",
            "_model_module": "@jupyter-widgets/controls",
            "children": [
              "IPY_MODEL_6884ab7de0fa47ffab62b24923eefc17",
              "IPY_MODEL_395b26066f554adf9b67f24254af67e3"
            ]
          }
        },
        "12ff64959eed41bf819f7fa47ecae66a": {
          "model_module": "@jupyter-widgets/base",
          "model_name": "LayoutModel",
          "state": {
            "_view_name": "LayoutView",
            "grid_template_rows": null,
            "right": null,
            "justify_content": null,
            "_view_module": "@jupyter-widgets/base",
            "overflow": null,
            "_model_module_version": "1.2.0",
            "_view_count": null,
            "flex_flow": null,
            "width": null,
            "min_width": null,
            "border": null,
            "align_items": null,
            "bottom": null,
            "_model_module": "@jupyter-widgets/base",
            "top": null,
            "grid_column": null,
            "overflow_y": null,
            "overflow_x": null,
            "grid_auto_flow": null,
            "grid_area": null,
            "grid_template_columns": null,
            "flex": null,
            "_model_name": "LayoutModel",
            "justify_items": null,
            "grid_row": null,
            "max_height": null,
            "align_content": null,
            "visibility": null,
            "align_self": null,
            "height": null,
            "min_height": null,
            "padding": null,
            "grid_auto_rows": null,
            "grid_gap": null,
            "max_width": null,
            "order": null,
            "_view_module_version": "1.2.0",
            "grid_template_areas": null,
            "object_position": null,
            "object_fit": null,
            "grid_auto_columns": null,
            "margin": null,
            "display": null,
            "left": null
          }
        },
        "6884ab7de0fa47ffab62b24923eefc17": {
          "model_module": "@jupyter-widgets/controls",
          "model_name": "FloatProgressModel",
          "state": {
            "_view_name": "ProgressView",
            "style": "IPY_MODEL_d116402cb690493495d5d89ec565719a",
            "_dom_classes": [],
            "description": "100%",
            "_model_name": "FloatProgressModel",
            "bar_style": "success",
            "max": 255,
            "_view_module": "@jupyter-widgets/controls",
            "_model_module_version": "1.5.0",
            "value": 255,
            "_view_count": null,
            "_view_module_version": "1.5.0",
            "orientation": "horizontal",
            "min": 0,
            "description_tooltip": null,
            "_model_module": "@jupyter-widgets/controls",
            "layout": "IPY_MODEL_dd2351dffe91435290007e07542778f2"
          }
        },
        "395b26066f554adf9b67f24254af67e3": {
          "model_module": "@jupyter-widgets/controls",
          "model_name": "HTMLModel",
          "state": {
            "_view_name": "HTMLView",
            "style": "IPY_MODEL_06f06e795e634c419c5fe1f341d1da60",
            "_dom_classes": [],
            "description": "",
            "_model_name": "HTMLModel",
            "placeholder": "​",
            "_view_module": "@jupyter-widgets/controls",
            "_model_module_version": "1.5.0",
            "value": " 255/255 [05:44&lt;00:00,  1.35s/ex]",
            "_view_count": null,
            "_view_module_version": "1.5.0",
            "description_tooltip": null,
            "_model_module": "@jupyter-widgets/controls",
            "layout": "IPY_MODEL_1b721d222bd348aeabd07aac52ddb922"
          }
        },
        "d116402cb690493495d5d89ec565719a": {
          "model_module": "@jupyter-widgets/controls",
          "model_name": "ProgressStyleModel",
          "state": {
            "_view_name": "StyleView",
            "_model_name": "ProgressStyleModel",
            "description_width": "initial",
            "_view_module": "@jupyter-widgets/base",
            "_model_module_version": "1.5.0",
            "_view_count": null,
            "_view_module_version": "1.2.0",
            "bar_color": null,
            "_model_module": "@jupyter-widgets/controls"
          }
        },
        "dd2351dffe91435290007e07542778f2": {
          "model_module": "@jupyter-widgets/base",
          "model_name": "LayoutModel",
          "state": {
            "_view_name": "LayoutView",
            "grid_template_rows": null,
            "right": null,
            "justify_content": null,
            "_view_module": "@jupyter-widgets/base",
            "overflow": null,
            "_model_module_version": "1.2.0",
            "_view_count": null,
            "flex_flow": null,
            "width": null,
            "min_width": null,
            "border": null,
            "align_items": null,
            "bottom": null,
            "_model_module": "@jupyter-widgets/base",
            "top": null,
            "grid_column": null,
            "overflow_y": null,
            "overflow_x": null,
            "grid_auto_flow": null,
            "grid_area": null,
            "grid_template_columns": null,
            "flex": null,
            "_model_name": "LayoutModel",
            "justify_items": null,
            "grid_row": null,
            "max_height": null,
            "align_content": null,
            "visibility": null,
            "align_self": null,
            "height": null,
            "min_height": null,
            "padding": null,
            "grid_auto_rows": null,
            "grid_gap": null,
            "max_width": null,
            "order": null,
            "_view_module_version": "1.2.0",
            "grid_template_areas": null,
            "object_position": null,
            "object_fit": null,
            "grid_auto_columns": null,
            "margin": null,
            "display": null,
            "left": null
          }
        },
        "06f06e795e634c419c5fe1f341d1da60": {
          "model_module": "@jupyter-widgets/controls",
          "model_name": "DescriptionStyleModel",
          "state": {
            "_view_name": "StyleView",
            "_model_name": "DescriptionStyleModel",
            "description_width": "",
            "_view_module": "@jupyter-widgets/base",
            "_model_module_version": "1.5.0",
            "_view_count": null,
            "_view_module_version": "1.2.0",
            "_model_module": "@jupyter-widgets/controls"
          }
        },
        "1b721d222bd348aeabd07aac52ddb922": {
          "model_module": "@jupyter-widgets/base",
          "model_name": "LayoutModel",
          "state": {
            "_view_name": "LayoutView",
            "grid_template_rows": null,
            "right": null,
            "justify_content": null,
            "_view_module": "@jupyter-widgets/base",
            "overflow": null,
            "_model_module_version": "1.2.0",
            "_view_count": null,
            "flex_flow": null,
            "width": null,
            "min_width": null,
            "border": null,
            "align_items": null,
            "bottom": null,
            "_model_module": "@jupyter-widgets/base",
            "top": null,
            "grid_column": null,
            "overflow_y": null,
            "overflow_x": null,
            "grid_auto_flow": null,
            "grid_area": null,
            "grid_template_columns": null,
            "flex": null,
            "_model_name": "LayoutModel",
            "justify_items": null,
            "grid_row": null,
            "max_height": null,
            "align_content": null,
            "visibility": null,
            "align_self": null,
            "height": null,
            "min_height": null,
            "padding": null,
            "grid_auto_rows": null,
            "grid_gap": null,
            "max_width": null,
            "order": null,
            "_view_module_version": "1.2.0",
            "grid_template_areas": null,
            "object_position": null,
            "object_fit": null,
            "grid_auto_columns": null,
            "margin": null,
            "display": null,
            "left": null
          }
        },
        "4e625dfe30484b788927f5260ae4c8f2": {
          "model_module": "@jupyter-widgets/controls",
          "model_name": "HBoxModel",
          "state": {
            "_view_name": "HBoxView",
            "_dom_classes": [],
            "_model_name": "HBoxModel",
            "_view_module": "@jupyter-widgets/controls",
            "_model_module_version": "1.5.0",
            "_view_count": null,
            "_view_module_version": "1.5.0",
            "box_style": "",
            "layout": "IPY_MODEL_22624dbad8e9466db4e7574ed7fc6921",
            "_model_module": "@jupyter-widgets/controls",
            "children": [
              "IPY_MODEL_eda0cda4eaa649c4b7bc9d35db08b891",
              "IPY_MODEL_375585b30ad94fa7842b084a0cd4d566"
            ]
          }
        },
        "22624dbad8e9466db4e7574ed7fc6921": {
          "model_module": "@jupyter-widgets/base",
          "model_name": "LayoutModel",
          "state": {
            "_view_name": "LayoutView",
            "grid_template_rows": null,
            "right": null,
            "justify_content": null,
            "_view_module": "@jupyter-widgets/base",
            "overflow": null,
            "_model_module_version": "1.2.0",
            "_view_count": null,
            "flex_flow": null,
            "width": null,
            "min_width": null,
            "border": null,
            "align_items": null,
            "bottom": null,
            "_model_module": "@jupyter-widgets/base",
            "top": null,
            "grid_column": null,
            "overflow_y": null,
            "overflow_x": null,
            "grid_auto_flow": null,
            "grid_area": null,
            "grid_template_columns": null,
            "flex": null,
            "_model_name": "LayoutModel",
            "justify_items": null,
            "grid_row": null,
            "max_height": null,
            "align_content": null,
            "visibility": null,
            "align_self": null,
            "height": null,
            "min_height": null,
            "padding": null,
            "grid_auto_rows": null,
            "grid_gap": null,
            "max_width": null,
            "order": null,
            "_view_module_version": "1.2.0",
            "grid_template_areas": null,
            "object_position": null,
            "object_fit": null,
            "grid_auto_columns": null,
            "margin": null,
            "display": null,
            "left": null
          }
        },
        "eda0cda4eaa649c4b7bc9d35db08b891": {
          "model_module": "@jupyter-widgets/controls",
          "model_name": "FloatProgressModel",
          "state": {
            "_view_name": "ProgressView",
            "style": "IPY_MODEL_0fb74beda48647e5939c00bab9781f5c",
            "_dom_classes": [],
            "description": "100%",
            "_model_name": "FloatProgressModel",
            "bar_style": "success",
            "max": 116,
            "_view_module": "@jupyter-widgets/controls",
            "_model_module_version": "1.5.0",
            "value": 116,
            "_view_count": null,
            "_view_module_version": "1.5.0",
            "orientation": "horizontal",
            "min": 0,
            "description_tooltip": null,
            "_model_module": "@jupyter-widgets/controls",
            "layout": "IPY_MODEL_fd88df049d9c4d8eb49fd459b69f0561"
          }
        },
        "375585b30ad94fa7842b084a0cd4d566": {
          "model_module": "@jupyter-widgets/controls",
          "model_name": "HTMLModel",
          "state": {
            "_view_name": "HTMLView",
            "style": "IPY_MODEL_648d68492b5b40e998642927d5adbd4c",
            "_dom_classes": [],
            "description": "",
            "_model_name": "HTMLModel",
            "placeholder": "​",
            "_view_module": "@jupyter-widgets/controls",
            "_model_module_version": "1.5.0",
            "value": " 116/116 [00:00&lt;00:00, 1737.33ex/s]",
            "_view_count": null,
            "_view_module_version": "1.5.0",
            "description_tooltip": null,
            "_model_module": "@jupyter-widgets/controls",
            "layout": "IPY_MODEL_ee3c749f6c534104856c9bef0e8522df"
          }
        },
        "0fb74beda48647e5939c00bab9781f5c": {
          "model_module": "@jupyter-widgets/controls",
          "model_name": "ProgressStyleModel",
          "state": {
            "_view_name": "StyleView",
            "_model_name": "ProgressStyleModel",
            "description_width": "initial",
            "_view_module": "@jupyter-widgets/base",
            "_model_module_version": "1.5.0",
            "_view_count": null,
            "_view_module_version": "1.2.0",
            "bar_color": null,
            "_model_module": "@jupyter-widgets/controls"
          }
        },
        "fd88df049d9c4d8eb49fd459b69f0561": {
          "model_module": "@jupyter-widgets/base",
          "model_name": "LayoutModel",
          "state": {
            "_view_name": "LayoutView",
            "grid_template_rows": null,
            "right": null,
            "justify_content": null,
            "_view_module": "@jupyter-widgets/base",
            "overflow": null,
            "_model_module_version": "1.2.0",
            "_view_count": null,
            "flex_flow": null,
            "width": null,
            "min_width": null,
            "border": null,
            "align_items": null,
            "bottom": null,
            "_model_module": "@jupyter-widgets/base",
            "top": null,
            "grid_column": null,
            "overflow_y": null,
            "overflow_x": null,
            "grid_auto_flow": null,
            "grid_area": null,
            "grid_template_columns": null,
            "flex": null,
            "_model_name": "LayoutModel",
            "justify_items": null,
            "grid_row": null,
            "max_height": null,
            "align_content": null,
            "visibility": null,
            "align_self": null,
            "height": null,
            "min_height": null,
            "padding": null,
            "grid_auto_rows": null,
            "grid_gap": null,
            "max_width": null,
            "order": null,
            "_view_module_version": "1.2.0",
            "grid_template_areas": null,
            "object_position": null,
            "object_fit": null,
            "grid_auto_columns": null,
            "margin": null,
            "display": null,
            "left": null
          }
        },
        "648d68492b5b40e998642927d5adbd4c": {
          "model_module": "@jupyter-widgets/controls",
          "model_name": "DescriptionStyleModel",
          "state": {
            "_view_name": "StyleView",
            "_model_name": "DescriptionStyleModel",
            "description_width": "",
            "_view_module": "@jupyter-widgets/base",
            "_model_module_version": "1.5.0",
            "_view_count": null,
            "_view_module_version": "1.2.0",
            "_model_module": "@jupyter-widgets/controls"
          }
        },
        "ee3c749f6c534104856c9bef0e8522df": {
          "model_module": "@jupyter-widgets/base",
          "model_name": "LayoutModel",
          "state": {
            "_view_name": "LayoutView",
            "grid_template_rows": null,
            "right": null,
            "justify_content": null,
            "_view_module": "@jupyter-widgets/base",
            "overflow": null,
            "_model_module_version": "1.2.0",
            "_view_count": null,
            "flex_flow": null,
            "width": null,
            "min_width": null,
            "border": null,
            "align_items": null,
            "bottom": null,
            "_model_module": "@jupyter-widgets/base",
            "top": null,
            "grid_column": null,
            "overflow_y": null,
            "overflow_x": null,
            "grid_auto_flow": null,
            "grid_area": null,
            "grid_template_columns": null,
            "flex": null,
            "_model_name": "LayoutModel",
            "justify_items": null,
            "grid_row": null,
            "max_height": null,
            "align_content": null,
            "visibility": null,
            "align_self": null,
            "height": null,
            "min_height": null,
            "padding": null,
            "grid_auto_rows": null,
            "grid_gap": null,
            "max_width": null,
            "order": null,
            "_view_module_version": "1.2.0",
            "grid_template_areas": null,
            "object_position": null,
            "object_fit": null,
            "grid_auto_columns": null,
            "margin": null,
            "display": null,
            "left": null
          }
        },
        "ce3223e85de34d5a8cb15ffa270014c1": {
          "model_module": "@jupyter-widgets/controls",
          "model_name": "HBoxModel",
          "state": {
            "_view_name": "HBoxView",
            "_dom_classes": [],
            "_model_name": "HBoxModel",
            "_view_module": "@jupyter-widgets/controls",
            "_model_module_version": "1.5.0",
            "_view_count": null,
            "_view_module_version": "1.5.0",
            "box_style": "",
            "layout": "IPY_MODEL_d9846aada36049e6abf508f772d90d80",
            "_model_module": "@jupyter-widgets/controls",
            "children": [
              "IPY_MODEL_680a7cc43a6c43e5b40027e437c6dc18",
              "IPY_MODEL_68999f1e72c44964925c20abff8856a2"
            ]
          }
        },
        "d9846aada36049e6abf508f772d90d80": {
          "model_module": "@jupyter-widgets/base",
          "model_name": "LayoutModel",
          "state": {
            "_view_name": "LayoutView",
            "grid_template_rows": null,
            "right": null,
            "justify_content": null,
            "_view_module": "@jupyter-widgets/base",
            "overflow": null,
            "_model_module_version": "1.2.0",
            "_view_count": null,
            "flex_flow": null,
            "width": null,
            "min_width": null,
            "border": null,
            "align_items": null,
            "bottom": null,
            "_model_module": "@jupyter-widgets/base",
            "top": null,
            "grid_column": null,
            "overflow_y": null,
            "overflow_x": null,
            "grid_auto_flow": null,
            "grid_area": null,
            "grid_template_columns": null,
            "flex": null,
            "_model_name": "LayoutModel",
            "justify_items": null,
            "grid_row": null,
            "max_height": null,
            "align_content": null,
            "visibility": null,
            "align_self": null,
            "height": null,
            "min_height": null,
            "padding": null,
            "grid_auto_rows": null,
            "grid_gap": null,
            "max_width": null,
            "order": null,
            "_view_module_version": "1.2.0",
            "grid_template_areas": null,
            "object_position": null,
            "object_fit": null,
            "grid_auto_columns": null,
            "margin": null,
            "display": null,
            "left": null
          }
        },
        "680a7cc43a6c43e5b40027e437c6dc18": {
          "model_module": "@jupyter-widgets/controls",
          "model_name": "FloatProgressModel",
          "state": {
            "_view_name": "ProgressView",
            "style": "IPY_MODEL_14960435253d434c92dce1a6fb2e5fb6",
            "_dom_classes": [],
            "description": "100%",
            "_model_name": "FloatProgressModel",
            "bar_style": "success",
            "max": 1,
            "_view_module": "@jupyter-widgets/controls",
            "_model_module_version": "1.5.0",
            "value": 1,
            "_view_count": null,
            "_view_module_version": "1.5.0",
            "orientation": "horizontal",
            "min": 0,
            "description_tooltip": null,
            "_model_module": "@jupyter-widgets/controls",
            "layout": "IPY_MODEL_680088b2407241d898c6de3703d623bc"
          }
        },
        "68999f1e72c44964925c20abff8856a2": {
          "model_module": "@jupyter-widgets/controls",
          "model_name": "HTMLModel",
          "state": {
            "_view_name": "HTMLView",
            "style": "IPY_MODEL_59214033867942e096c4a3e22f1bca29",
            "_dom_classes": [],
            "description": "",
            "_model_name": "HTMLModel",
            "placeholder": "​",
            "_view_module": "@jupyter-widgets/controls",
            "_model_module_version": "1.5.0",
            "value": " 1/1 [05:44&lt;00:00, 344.58s/ba]",
            "_view_count": null,
            "_view_module_version": "1.5.0",
            "description_tooltip": null,
            "_model_module": "@jupyter-widgets/controls",
            "layout": "IPY_MODEL_7bb61f3f192c469cae4bc0477dfcd4b4"
          }
        },
        "14960435253d434c92dce1a6fb2e5fb6": {
          "model_module": "@jupyter-widgets/controls",
          "model_name": "ProgressStyleModel",
          "state": {
            "_view_name": "StyleView",
            "_model_name": "ProgressStyleModel",
            "description_width": "initial",
            "_view_module": "@jupyter-widgets/base",
            "_model_module_version": "1.5.0",
            "_view_count": null,
            "_view_module_version": "1.2.0",
            "bar_color": null,
            "_model_module": "@jupyter-widgets/controls"
          }
        },
        "680088b2407241d898c6de3703d623bc": {
          "model_module": "@jupyter-widgets/base",
          "model_name": "LayoutModel",
          "state": {
            "_view_name": "LayoutView",
            "grid_template_rows": null,
            "right": null,
            "justify_content": null,
            "_view_module": "@jupyter-widgets/base",
            "overflow": null,
            "_model_module_version": "1.2.0",
            "_view_count": null,
            "flex_flow": null,
            "width": null,
            "min_width": null,
            "border": null,
            "align_items": null,
            "bottom": null,
            "_model_module": "@jupyter-widgets/base",
            "top": null,
            "grid_column": null,
            "overflow_y": null,
            "overflow_x": null,
            "grid_auto_flow": null,
            "grid_area": null,
            "grid_template_columns": null,
            "flex": null,
            "_model_name": "LayoutModel",
            "justify_items": null,
            "grid_row": null,
            "max_height": null,
            "align_content": null,
            "visibility": null,
            "align_self": null,
            "height": null,
            "min_height": null,
            "padding": null,
            "grid_auto_rows": null,
            "grid_gap": null,
            "max_width": null,
            "order": null,
            "_view_module_version": "1.2.0",
            "grid_template_areas": null,
            "object_position": null,
            "object_fit": null,
            "grid_auto_columns": null,
            "margin": null,
            "display": null,
            "left": null
          }
        },
        "59214033867942e096c4a3e22f1bca29": {
          "model_module": "@jupyter-widgets/controls",
          "model_name": "DescriptionStyleModel",
          "state": {
            "_view_name": "StyleView",
            "_model_name": "DescriptionStyleModel",
            "description_width": "",
            "_view_module": "@jupyter-widgets/base",
            "_model_module_version": "1.5.0",
            "_view_count": null,
            "_view_module_version": "1.2.0",
            "_model_module": "@jupyter-widgets/controls"
          }
        },
        "7bb61f3f192c469cae4bc0477dfcd4b4": {
          "model_module": "@jupyter-widgets/base",
          "model_name": "LayoutModel",
          "state": {
            "_view_name": "LayoutView",
            "grid_template_rows": null,
            "right": null,
            "justify_content": null,
            "_view_module": "@jupyter-widgets/base",
            "overflow": null,
            "_model_module_version": "1.2.0",
            "_view_count": null,
            "flex_flow": null,
            "width": null,
            "min_width": null,
            "border": null,
            "align_items": null,
            "bottom": null,
            "_model_module": "@jupyter-widgets/base",
            "top": null,
            "grid_column": null,
            "overflow_y": null,
            "overflow_x": null,
            "grid_auto_flow": null,
            "grid_area": null,
            "grid_template_columns": null,
            "flex": null,
            "_model_name": "LayoutModel",
            "justify_items": null,
            "grid_row": null,
            "max_height": null,
            "align_content": null,
            "visibility": null,
            "align_self": null,
            "height": null,
            "min_height": null,
            "padding": null,
            "grid_auto_rows": null,
            "grid_gap": null,
            "max_width": null,
            "order": null,
            "_view_module_version": "1.2.0",
            "grid_template_areas": null,
            "object_position": null,
            "object_fit": null,
            "grid_auto_columns": null,
            "margin": null,
            "display": null,
            "left": null
          }
        },
        "1443724d21f14897968d20e430f3c55b": {
          "model_module": "@jupyter-widgets/controls",
          "model_name": "HBoxModel",
          "state": {
            "_view_name": "HBoxView",
            "_dom_classes": [],
            "_model_name": "HBoxModel",
            "_view_module": "@jupyter-widgets/controls",
            "_model_module_version": "1.5.0",
            "_view_count": null,
            "_view_module_version": "1.5.0",
            "box_style": "",
            "layout": "IPY_MODEL_535039eb232342e4bb3a6630afa37caa",
            "_model_module": "@jupyter-widgets/controls",
            "children": [
              "IPY_MODEL_7a71c8f270e44347af3914319edb2606",
              "IPY_MODEL_964219d9747b46e48a9426932021995e"
            ]
          }
        },
        "535039eb232342e4bb3a6630afa37caa": {
          "model_module": "@jupyter-widgets/base",
          "model_name": "LayoutModel",
          "state": {
            "_view_name": "LayoutView",
            "grid_template_rows": null,
            "right": null,
            "justify_content": null,
            "_view_module": "@jupyter-widgets/base",
            "overflow": null,
            "_model_module_version": "1.2.0",
            "_view_count": null,
            "flex_flow": null,
            "width": null,
            "min_width": null,
            "border": null,
            "align_items": null,
            "bottom": null,
            "_model_module": "@jupyter-widgets/base",
            "top": null,
            "grid_column": null,
            "overflow_y": null,
            "overflow_x": null,
            "grid_auto_flow": null,
            "grid_area": null,
            "grid_template_columns": null,
            "flex": null,
            "_model_name": "LayoutModel",
            "justify_items": null,
            "grid_row": null,
            "max_height": null,
            "align_content": null,
            "visibility": null,
            "align_self": null,
            "height": null,
            "min_height": null,
            "padding": null,
            "grid_auto_rows": null,
            "grid_gap": null,
            "max_width": null,
            "order": null,
            "_view_module_version": "1.2.0",
            "grid_template_areas": null,
            "object_position": null,
            "object_fit": null,
            "grid_auto_columns": null,
            "margin": null,
            "display": null,
            "left": null
          }
        },
        "7a71c8f270e44347af3914319edb2606": {
          "model_module": "@jupyter-widgets/controls",
          "model_name": "FloatProgressModel",
          "state": {
            "_view_name": "ProgressView",
            "style": "IPY_MODEL_acee89f978e8458cb9183cac666c5eae",
            "_dom_classes": [],
            "description": "100%",
            "_model_name": "FloatProgressModel",
            "bar_style": "success",
            "max": 1,
            "_view_module": "@jupyter-widgets/controls",
            "_model_module_version": "1.5.0",
            "value": 1,
            "_view_count": null,
            "_view_module_version": "1.5.0",
            "orientation": "horizontal",
            "min": 0,
            "description_tooltip": null,
            "_model_module": "@jupyter-widgets/controls",
            "layout": "IPY_MODEL_0b5d28896b6345dbaee817016bdb2b40"
          }
        },
        "964219d9747b46e48a9426932021995e": {
          "model_module": "@jupyter-widgets/controls",
          "model_name": "HTMLModel",
          "state": {
            "_view_name": "HTMLView",
            "style": "IPY_MODEL_1257d25f544e4d65a72b69904d5a89b2",
            "_dom_classes": [],
            "description": "",
            "_model_name": "HTMLModel",
            "placeholder": "​",
            "_view_module": "@jupyter-widgets/controls",
            "_model_module_version": "1.5.0",
            "value": " 1/1 [00:00&lt;00:00, 12.40ba/s]",
            "_view_count": null,
            "_view_module_version": "1.5.0",
            "description_tooltip": null,
            "_model_module": "@jupyter-widgets/controls",
            "layout": "IPY_MODEL_bed3721f86e546cfb06d0c6c381663d8"
          }
        },
        "acee89f978e8458cb9183cac666c5eae": {
          "model_module": "@jupyter-widgets/controls",
          "model_name": "ProgressStyleModel",
          "state": {
            "_view_name": "StyleView",
            "_model_name": "ProgressStyleModel",
            "description_width": "initial",
            "_view_module": "@jupyter-widgets/base",
            "_model_module_version": "1.5.0",
            "_view_count": null,
            "_view_module_version": "1.2.0",
            "bar_color": null,
            "_model_module": "@jupyter-widgets/controls"
          }
        },
        "0b5d28896b6345dbaee817016bdb2b40": {
          "model_module": "@jupyter-widgets/base",
          "model_name": "LayoutModel",
          "state": {
            "_view_name": "LayoutView",
            "grid_template_rows": null,
            "right": null,
            "justify_content": null,
            "_view_module": "@jupyter-widgets/base",
            "overflow": null,
            "_model_module_version": "1.2.0",
            "_view_count": null,
            "flex_flow": null,
            "width": null,
            "min_width": null,
            "border": null,
            "align_items": null,
            "bottom": null,
            "_model_module": "@jupyter-widgets/base",
            "top": null,
            "grid_column": null,
            "overflow_y": null,
            "overflow_x": null,
            "grid_auto_flow": null,
            "grid_area": null,
            "grid_template_columns": null,
            "flex": null,
            "_model_name": "LayoutModel",
            "justify_items": null,
            "grid_row": null,
            "max_height": null,
            "align_content": null,
            "visibility": null,
            "align_self": null,
            "height": null,
            "min_height": null,
            "padding": null,
            "grid_auto_rows": null,
            "grid_gap": null,
            "max_width": null,
            "order": null,
            "_view_module_version": "1.2.0",
            "grid_template_areas": null,
            "object_position": null,
            "object_fit": null,
            "grid_auto_columns": null,
            "margin": null,
            "display": null,
            "left": null
          }
        },
        "1257d25f544e4d65a72b69904d5a89b2": {
          "model_module": "@jupyter-widgets/controls",
          "model_name": "DescriptionStyleModel",
          "state": {
            "_view_name": "StyleView",
            "_model_name": "DescriptionStyleModel",
            "description_width": "",
            "_view_module": "@jupyter-widgets/base",
            "_model_module_version": "1.5.0",
            "_view_count": null,
            "_view_module_version": "1.2.0",
            "_model_module": "@jupyter-widgets/controls"
          }
        },
        "bed3721f86e546cfb06d0c6c381663d8": {
          "model_module": "@jupyter-widgets/base",
          "model_name": "LayoutModel",
          "state": {
            "_view_name": "LayoutView",
            "grid_template_rows": null,
            "right": null,
            "justify_content": null,
            "_view_module": "@jupyter-widgets/base",
            "overflow": null,
            "_model_module_version": "1.2.0",
            "_view_count": null,
            "flex_flow": null,
            "width": null,
            "min_width": null,
            "border": null,
            "align_items": null,
            "bottom": null,
            "_model_module": "@jupyter-widgets/base",
            "top": null,
            "grid_column": null,
            "overflow_y": null,
            "overflow_x": null,
            "grid_auto_flow": null,
            "grid_area": null,
            "grid_template_columns": null,
            "flex": null,
            "_model_name": "LayoutModel",
            "justify_items": null,
            "grid_row": null,
            "max_height": null,
            "align_content": null,
            "visibility": null,
            "align_self": null,
            "height": null,
            "min_height": null,
            "padding": null,
            "grid_auto_rows": null,
            "grid_gap": null,
            "max_width": null,
            "order": null,
            "_view_module_version": "1.2.0",
            "grid_template_areas": null,
            "object_position": null,
            "object_fit": null,
            "grid_auto_columns": null,
            "margin": null,
            "display": null,
            "left": null
          }
        },
        "cf3d0f735f094ecc9249ad4fbfb436a4": {
          "model_module": "@jupyter-widgets/controls",
          "model_name": "HBoxModel",
          "state": {
            "_view_name": "HBoxView",
            "_dom_classes": [],
            "_model_name": "HBoxModel",
            "_view_module": "@jupyter-widgets/controls",
            "_model_module_version": "1.5.0",
            "_view_count": null,
            "_view_module_version": "1.5.0",
            "box_style": "",
            "layout": "IPY_MODEL_e0d06dcef8184843a43e29dee6962ca9",
            "_model_module": "@jupyter-widgets/controls",
            "children": [
              "IPY_MODEL_f609d152c20c410a8c16ffd49c5a32d3",
              "IPY_MODEL_8a0abb2e6f8f4af6aafea05a74d6b85f"
            ]
          }
        },
        "e0d06dcef8184843a43e29dee6962ca9": {
          "model_module": "@jupyter-widgets/base",
          "model_name": "LayoutModel",
          "state": {
            "_view_name": "LayoutView",
            "grid_template_rows": null,
            "right": null,
            "justify_content": null,
            "_view_module": "@jupyter-widgets/base",
            "overflow": null,
            "_model_module_version": "1.2.0",
            "_view_count": null,
            "flex_flow": null,
            "width": null,
            "min_width": null,
            "border": null,
            "align_items": null,
            "bottom": null,
            "_model_module": "@jupyter-widgets/base",
            "top": null,
            "grid_column": null,
            "overflow_y": null,
            "overflow_x": null,
            "grid_auto_flow": null,
            "grid_area": null,
            "grid_template_columns": null,
            "flex": null,
            "_model_name": "LayoutModel",
            "justify_items": null,
            "grid_row": null,
            "max_height": null,
            "align_content": null,
            "visibility": null,
            "align_self": null,
            "height": null,
            "min_height": null,
            "padding": null,
            "grid_auto_rows": null,
            "grid_gap": null,
            "max_width": null,
            "order": null,
            "_view_module_version": "1.2.0",
            "grid_template_areas": null,
            "object_position": null,
            "object_fit": null,
            "grid_auto_columns": null,
            "margin": null,
            "display": null,
            "left": null
          }
        },
        "f609d152c20c410a8c16ffd49c5a32d3": {
          "model_module": "@jupyter-widgets/controls",
          "model_name": "FloatProgressModel",
          "state": {
            "_view_name": "ProgressView",
            "style": "IPY_MODEL_d2d0f9e1b83e4111a97cc28383c6f1f8",
            "_dom_classes": [],
            "description": "100%",
            "_model_name": "FloatProgressModel",
            "bar_style": "success",
            "max": 255,
            "_view_module": "@jupyter-widgets/controls",
            "_model_module_version": "1.5.0",
            "value": 255,
            "_view_count": null,
            "_view_module_version": "1.5.0",
            "orientation": "horizontal",
            "min": 0,
            "description_tooltip": null,
            "_model_module": "@jupyter-widgets/controls",
            "layout": "IPY_MODEL_ea09a399b934467fae6535045c129487"
          }
        },
        "8a0abb2e6f8f4af6aafea05a74d6b85f": {
          "model_module": "@jupyter-widgets/controls",
          "model_name": "HTMLModel",
          "state": {
            "_view_name": "HTMLView",
            "style": "IPY_MODEL_2f564ed0598f4faba3165d11b554587c",
            "_dom_classes": [],
            "description": "",
            "_model_name": "HTMLModel",
            "placeholder": "​",
            "_view_module": "@jupyter-widgets/controls",
            "_model_module_version": "1.5.0",
            "value": " 255/255 [00:07&lt;00:00, 32.23ex/s]",
            "_view_count": null,
            "_view_module_version": "1.5.0",
            "description_tooltip": null,
            "_model_module": "@jupyter-widgets/controls",
            "layout": "IPY_MODEL_6c789d169ac04e9987309df9bd906198"
          }
        },
        "d2d0f9e1b83e4111a97cc28383c6f1f8": {
          "model_module": "@jupyter-widgets/controls",
          "model_name": "ProgressStyleModel",
          "state": {
            "_view_name": "StyleView",
            "_model_name": "ProgressStyleModel",
            "description_width": "initial",
            "_view_module": "@jupyter-widgets/base",
            "_model_module_version": "1.5.0",
            "_view_count": null,
            "_view_module_version": "1.2.0",
            "bar_color": null,
            "_model_module": "@jupyter-widgets/controls"
          }
        },
        "ea09a399b934467fae6535045c129487": {
          "model_module": "@jupyter-widgets/base",
          "model_name": "LayoutModel",
          "state": {
            "_view_name": "LayoutView",
            "grid_template_rows": null,
            "right": null,
            "justify_content": null,
            "_view_module": "@jupyter-widgets/base",
            "overflow": null,
            "_model_module_version": "1.2.0",
            "_view_count": null,
            "flex_flow": null,
            "width": null,
            "min_width": null,
            "border": null,
            "align_items": null,
            "bottom": null,
            "_model_module": "@jupyter-widgets/base",
            "top": null,
            "grid_column": null,
            "overflow_y": null,
            "overflow_x": null,
            "grid_auto_flow": null,
            "grid_area": null,
            "grid_template_columns": null,
            "flex": null,
            "_model_name": "LayoutModel",
            "justify_items": null,
            "grid_row": null,
            "max_height": null,
            "align_content": null,
            "visibility": null,
            "align_self": null,
            "height": null,
            "min_height": null,
            "padding": null,
            "grid_auto_rows": null,
            "grid_gap": null,
            "max_width": null,
            "order": null,
            "_view_module_version": "1.2.0",
            "grid_template_areas": null,
            "object_position": null,
            "object_fit": null,
            "grid_auto_columns": null,
            "margin": null,
            "display": null,
            "left": null
          }
        },
        "2f564ed0598f4faba3165d11b554587c": {
          "model_module": "@jupyter-widgets/controls",
          "model_name": "DescriptionStyleModel",
          "state": {
            "_view_name": "StyleView",
            "_model_name": "DescriptionStyleModel",
            "description_width": "",
            "_view_module": "@jupyter-widgets/base",
            "_model_module_version": "1.5.0",
            "_view_count": null,
            "_view_module_version": "1.2.0",
            "_model_module": "@jupyter-widgets/controls"
          }
        },
        "6c789d169ac04e9987309df9bd906198": {
          "model_module": "@jupyter-widgets/base",
          "model_name": "LayoutModel",
          "state": {
            "_view_name": "LayoutView",
            "grid_template_rows": null,
            "right": null,
            "justify_content": null,
            "_view_module": "@jupyter-widgets/base",
            "overflow": null,
            "_model_module_version": "1.2.0",
            "_view_count": null,
            "flex_flow": null,
            "width": null,
            "min_width": null,
            "border": null,
            "align_items": null,
            "bottom": null,
            "_model_module": "@jupyter-widgets/base",
            "top": null,
            "grid_column": null,
            "overflow_y": null,
            "overflow_x": null,
            "grid_auto_flow": null,
            "grid_area": null,
            "grid_template_columns": null,
            "flex": null,
            "_model_name": "LayoutModel",
            "justify_items": null,
            "grid_row": null,
            "max_height": null,
            "align_content": null,
            "visibility": null,
            "align_self": null,
            "height": null,
            "min_height": null,
            "padding": null,
            "grid_auto_rows": null,
            "grid_gap": null,
            "max_width": null,
            "order": null,
            "_view_module_version": "1.2.0",
            "grid_template_areas": null,
            "object_position": null,
            "object_fit": null,
            "grid_auto_columns": null,
            "margin": null,
            "display": null,
            "left": null
          }
        },
        "0299391e884544918c2c378f72afd190": {
          "model_module": "@jupyter-widgets/controls",
          "model_name": "HBoxModel",
          "state": {
            "_view_name": "HBoxView",
            "_dom_classes": [],
            "_model_name": "HBoxModel",
            "_view_module": "@jupyter-widgets/controls",
            "_model_module_version": "1.5.0",
            "_view_count": null,
            "_view_module_version": "1.5.0",
            "box_style": "",
            "layout": "IPY_MODEL_94586f3e8f9843c698115b06c5fe48a8",
            "_model_module": "@jupyter-widgets/controls",
            "children": [
              "IPY_MODEL_db9007b8f7cd4d3ab68692b9def0094e",
              "IPY_MODEL_3f816d3f3b914b64b7f87f72b68bc0f1"
            ]
          }
        },
        "94586f3e8f9843c698115b06c5fe48a8": {
          "model_module": "@jupyter-widgets/base",
          "model_name": "LayoutModel",
          "state": {
            "_view_name": "LayoutView",
            "grid_template_rows": null,
            "right": null,
            "justify_content": null,
            "_view_module": "@jupyter-widgets/base",
            "overflow": null,
            "_model_module_version": "1.2.0",
            "_view_count": null,
            "flex_flow": null,
            "width": null,
            "min_width": null,
            "border": null,
            "align_items": null,
            "bottom": null,
            "_model_module": "@jupyter-widgets/base",
            "top": null,
            "grid_column": null,
            "overflow_y": null,
            "overflow_x": null,
            "grid_auto_flow": null,
            "grid_area": null,
            "grid_template_columns": null,
            "flex": null,
            "_model_name": "LayoutModel",
            "justify_items": null,
            "grid_row": null,
            "max_height": null,
            "align_content": null,
            "visibility": null,
            "align_self": null,
            "height": null,
            "min_height": null,
            "padding": null,
            "grid_auto_rows": null,
            "grid_gap": null,
            "max_width": null,
            "order": null,
            "_view_module_version": "1.2.0",
            "grid_template_areas": null,
            "object_position": null,
            "object_fit": null,
            "grid_auto_columns": null,
            "margin": null,
            "display": null,
            "left": null
          }
        },
        "db9007b8f7cd4d3ab68692b9def0094e": {
          "model_module": "@jupyter-widgets/controls",
          "model_name": "FloatProgressModel",
          "state": {
            "_view_name": "ProgressView",
            "style": "IPY_MODEL_8967bcf59eba4937b9b13bdfacedccdb",
            "_dom_classes": [],
            "description": "100%",
            "_model_name": "FloatProgressModel",
            "bar_style": "success",
            "max": 116,
            "_view_module": "@jupyter-widgets/controls",
            "_model_module_version": "1.5.0",
            "value": 116,
            "_view_count": null,
            "_view_module_version": "1.5.0",
            "orientation": "horizontal",
            "min": 0,
            "description_tooltip": null,
            "_model_module": "@jupyter-widgets/controls",
            "layout": "IPY_MODEL_400d79eab856487fb0d87da48f0cacab"
          }
        },
        "3f816d3f3b914b64b7f87f72b68bc0f1": {
          "model_module": "@jupyter-widgets/controls",
          "model_name": "HTMLModel",
          "state": {
            "_view_name": "HTMLView",
            "style": "IPY_MODEL_151230906d5d47f5a6679851762e703d",
            "_dom_classes": [],
            "description": "",
            "_model_name": "HTMLModel",
            "placeholder": "​",
            "_view_module": "@jupyter-widgets/controls",
            "_model_module_version": "1.5.0",
            "value": " 116/116 [00:02&lt;00:00, 49.44ex/s]",
            "_view_count": null,
            "_view_module_version": "1.5.0",
            "description_tooltip": null,
            "_model_module": "@jupyter-widgets/controls",
            "layout": "IPY_MODEL_0e7aba7145c24a468bb8b1d6a01d32c7"
          }
        },
        "8967bcf59eba4937b9b13bdfacedccdb": {
          "model_module": "@jupyter-widgets/controls",
          "model_name": "ProgressStyleModel",
          "state": {
            "_view_name": "StyleView",
            "_model_name": "ProgressStyleModel",
            "description_width": "initial",
            "_view_module": "@jupyter-widgets/base",
            "_model_module_version": "1.5.0",
            "_view_count": null,
            "_view_module_version": "1.2.0",
            "bar_color": null,
            "_model_module": "@jupyter-widgets/controls"
          }
        },
        "400d79eab856487fb0d87da48f0cacab": {
          "model_module": "@jupyter-widgets/base",
          "model_name": "LayoutModel",
          "state": {
            "_view_name": "LayoutView",
            "grid_template_rows": null,
            "right": null,
            "justify_content": null,
            "_view_module": "@jupyter-widgets/base",
            "overflow": null,
            "_model_module_version": "1.2.0",
            "_view_count": null,
            "flex_flow": null,
            "width": null,
            "min_width": null,
            "border": null,
            "align_items": null,
            "bottom": null,
            "_model_module": "@jupyter-widgets/base",
            "top": null,
            "grid_column": null,
            "overflow_y": null,
            "overflow_x": null,
            "grid_auto_flow": null,
            "grid_area": null,
            "grid_template_columns": null,
            "flex": null,
            "_model_name": "LayoutModel",
            "justify_items": null,
            "grid_row": null,
            "max_height": null,
            "align_content": null,
            "visibility": null,
            "align_self": null,
            "height": null,
            "min_height": null,
            "padding": null,
            "grid_auto_rows": null,
            "grid_gap": null,
            "max_width": null,
            "order": null,
            "_view_module_version": "1.2.0",
            "grid_template_areas": null,
            "object_position": null,
            "object_fit": null,
            "grid_auto_columns": null,
            "margin": null,
            "display": null,
            "left": null
          }
        },
        "151230906d5d47f5a6679851762e703d": {
          "model_module": "@jupyter-widgets/controls",
          "model_name": "DescriptionStyleModel",
          "state": {
            "_view_name": "StyleView",
            "_model_name": "DescriptionStyleModel",
            "description_width": "",
            "_view_module": "@jupyter-widgets/base",
            "_model_module_version": "1.5.0",
            "_view_count": null,
            "_view_module_version": "1.2.0",
            "_model_module": "@jupyter-widgets/controls"
          }
        },
        "0e7aba7145c24a468bb8b1d6a01d32c7": {
          "model_module": "@jupyter-widgets/base",
          "model_name": "LayoutModel",
          "state": {
            "_view_name": "LayoutView",
            "grid_template_rows": null,
            "right": null,
            "justify_content": null,
            "_view_module": "@jupyter-widgets/base",
            "overflow": null,
            "_model_module_version": "1.2.0",
            "_view_count": null,
            "flex_flow": null,
            "width": null,
            "min_width": null,
            "border": null,
            "align_items": null,
            "bottom": null,
            "_model_module": "@jupyter-widgets/base",
            "top": null,
            "grid_column": null,
            "overflow_y": null,
            "overflow_x": null,
            "grid_auto_flow": null,
            "grid_area": null,
            "grid_template_columns": null,
            "flex": null,
            "_model_name": "LayoutModel",
            "justify_items": null,
            "grid_row": null,
            "max_height": null,
            "align_content": null,
            "visibility": null,
            "align_self": null,
            "height": null,
            "min_height": null,
            "padding": null,
            "grid_auto_rows": null,
            "grid_gap": null,
            "max_width": null,
            "order": null,
            "_view_module_version": "1.2.0",
            "grid_template_areas": null,
            "object_position": null,
            "object_fit": null,
            "grid_auto_columns": null,
            "margin": null,
            "display": null,
            "left": null
          }
        },
        "e8f68724829442fb95ca88267283ad97": {
          "model_module": "@jupyter-widgets/controls",
          "model_name": "HBoxModel",
          "state": {
            "_view_name": "HBoxView",
            "_dom_classes": [],
            "_model_name": "HBoxModel",
            "_view_module": "@jupyter-widgets/controls",
            "_model_module_version": "1.5.0",
            "_view_count": null,
            "_view_module_version": "1.5.0",
            "box_style": "",
            "layout": "IPY_MODEL_39bcb465a1cd476a946634c5087c54a8",
            "_model_module": "@jupyter-widgets/controls",
            "children": [
              "IPY_MODEL_5d725b5529874846a02d91b44af568e0",
              "IPY_MODEL_298695b5cb1b4cc3bcb71171544776eb"
            ]
          }
        },
        "39bcb465a1cd476a946634c5087c54a8": {
          "model_module": "@jupyter-widgets/base",
          "model_name": "LayoutModel",
          "state": {
            "_view_name": "LayoutView",
            "grid_template_rows": null,
            "right": null,
            "justify_content": null,
            "_view_module": "@jupyter-widgets/base",
            "overflow": null,
            "_model_module_version": "1.2.0",
            "_view_count": null,
            "flex_flow": null,
            "width": null,
            "min_width": null,
            "border": null,
            "align_items": null,
            "bottom": null,
            "_model_module": "@jupyter-widgets/base",
            "top": null,
            "grid_column": null,
            "overflow_y": null,
            "overflow_x": null,
            "grid_auto_flow": null,
            "grid_area": null,
            "grid_template_columns": null,
            "flex": null,
            "_model_name": "LayoutModel",
            "justify_items": null,
            "grid_row": null,
            "max_height": null,
            "align_content": null,
            "visibility": null,
            "align_self": null,
            "height": null,
            "min_height": null,
            "padding": null,
            "grid_auto_rows": null,
            "grid_gap": null,
            "max_width": null,
            "order": null,
            "_view_module_version": "1.2.0",
            "grid_template_areas": null,
            "object_position": null,
            "object_fit": null,
            "grid_auto_columns": null,
            "margin": null,
            "display": null,
            "left": null
          }
        },
        "5d725b5529874846a02d91b44af568e0": {
          "model_module": "@jupyter-widgets/controls",
          "model_name": "FloatProgressModel",
          "state": {
            "_view_name": "ProgressView",
            "style": "IPY_MODEL_c3f192db598647c299146c05ae9c6af1",
            "_dom_classes": [],
            "description": "#1: 100%",
            "_model_name": "FloatProgressModel",
            "bar_style": "success",
            "max": 64,
            "_view_module": "@jupyter-widgets/controls",
            "_model_module_version": "1.5.0",
            "value": 64,
            "_view_count": null,
            "_view_module_version": "1.5.0",
            "orientation": "horizontal",
            "min": 0,
            "description_tooltip": null,
            "_model_module": "@jupyter-widgets/controls",
            "layout": "IPY_MODEL_2c516612f5104ffdb4a7cb57aa8a1597"
          }
        },
        "298695b5cb1b4cc3bcb71171544776eb": {
          "model_module": "@jupyter-widgets/controls",
          "model_name": "HTMLModel",
          "state": {
            "_view_name": "HTMLView",
            "style": "IPY_MODEL_da6abe31815143f7866145047159d1b2",
            "_dom_classes": [],
            "description": "",
            "_model_name": "HTMLModel",
            "placeholder": "​",
            "_view_module": "@jupyter-widgets/controls",
            "_model_module_version": "1.5.0",
            "value": " 64/64 [00:24&lt;00:00,  2.64ex/s]",
            "_view_count": null,
            "_view_module_version": "1.5.0",
            "description_tooltip": null,
            "_model_module": "@jupyter-widgets/controls",
            "layout": "IPY_MODEL_8fd0415fd1154d8fbb02d64c866f9de4"
          }
        },
        "c3f192db598647c299146c05ae9c6af1": {
          "model_module": "@jupyter-widgets/controls",
          "model_name": "ProgressStyleModel",
          "state": {
            "_view_name": "StyleView",
            "_model_name": "ProgressStyleModel",
            "description_width": "initial",
            "_view_module": "@jupyter-widgets/base",
            "_model_module_version": "1.5.0",
            "_view_count": null,
            "_view_module_version": "1.2.0",
            "bar_color": null,
            "_model_module": "@jupyter-widgets/controls"
          }
        },
        "2c516612f5104ffdb4a7cb57aa8a1597": {
          "model_module": "@jupyter-widgets/base",
          "model_name": "LayoutModel",
          "state": {
            "_view_name": "LayoutView",
            "grid_template_rows": null,
            "right": null,
            "justify_content": null,
            "_view_module": "@jupyter-widgets/base",
            "overflow": null,
            "_model_module_version": "1.2.0",
            "_view_count": null,
            "flex_flow": null,
            "width": null,
            "min_width": null,
            "border": null,
            "align_items": null,
            "bottom": null,
            "_model_module": "@jupyter-widgets/base",
            "top": null,
            "grid_column": null,
            "overflow_y": null,
            "overflow_x": null,
            "grid_auto_flow": null,
            "grid_area": null,
            "grid_template_columns": null,
            "flex": null,
            "_model_name": "LayoutModel",
            "justify_items": null,
            "grid_row": null,
            "max_height": null,
            "align_content": null,
            "visibility": null,
            "align_self": null,
            "height": null,
            "min_height": null,
            "padding": null,
            "grid_auto_rows": null,
            "grid_gap": null,
            "max_width": null,
            "order": null,
            "_view_module_version": "1.2.0",
            "grid_template_areas": null,
            "object_position": null,
            "object_fit": null,
            "grid_auto_columns": null,
            "margin": null,
            "display": null,
            "left": null
          }
        },
        "da6abe31815143f7866145047159d1b2": {
          "model_module": "@jupyter-widgets/controls",
          "model_name": "DescriptionStyleModel",
          "state": {
            "_view_name": "StyleView",
            "_model_name": "DescriptionStyleModel",
            "description_width": "",
            "_view_module": "@jupyter-widgets/base",
            "_model_module_version": "1.5.0",
            "_view_count": null,
            "_view_module_version": "1.2.0",
            "_model_module": "@jupyter-widgets/controls"
          }
        },
        "8fd0415fd1154d8fbb02d64c866f9de4": {
          "model_module": "@jupyter-widgets/base",
          "model_name": "LayoutModel",
          "state": {
            "_view_name": "LayoutView",
            "grid_template_rows": null,
            "right": null,
            "justify_content": null,
            "_view_module": "@jupyter-widgets/base",
            "overflow": null,
            "_model_module_version": "1.2.0",
            "_view_count": null,
            "flex_flow": null,
            "width": null,
            "min_width": null,
            "border": null,
            "align_items": null,
            "bottom": null,
            "_model_module": "@jupyter-widgets/base",
            "top": null,
            "grid_column": null,
            "overflow_y": null,
            "overflow_x": null,
            "grid_auto_flow": null,
            "grid_area": null,
            "grid_template_columns": null,
            "flex": null,
            "_model_name": "LayoutModel",
            "justify_items": null,
            "grid_row": null,
            "max_height": null,
            "align_content": null,
            "visibility": null,
            "align_self": null,
            "height": null,
            "min_height": null,
            "padding": null,
            "grid_auto_rows": null,
            "grid_gap": null,
            "max_width": null,
            "order": null,
            "_view_module_version": "1.2.0",
            "grid_template_areas": null,
            "object_position": null,
            "object_fit": null,
            "grid_auto_columns": null,
            "margin": null,
            "display": null,
            "left": null
          }
        },
        "c9289e1ddd464a0e9d184ecdd5852cdd": {
          "model_module": "@jupyter-widgets/controls",
          "model_name": "HBoxModel",
          "state": {
            "_view_name": "HBoxView",
            "_dom_classes": [],
            "_model_name": "HBoxModel",
            "_view_module": "@jupyter-widgets/controls",
            "_model_module_version": "1.5.0",
            "_view_count": null,
            "_view_module_version": "1.5.0",
            "box_style": "",
            "layout": "IPY_MODEL_5834936b3bb5409eaf338e84ea2aed1b",
            "_model_module": "@jupyter-widgets/controls",
            "children": [
              "IPY_MODEL_71cd878f1b83426ebf70ba163cd530d1",
              "IPY_MODEL_a430b24e121c4f238cd26ae579672f94"
            ]
          }
        },
        "5834936b3bb5409eaf338e84ea2aed1b": {
          "model_module": "@jupyter-widgets/base",
          "model_name": "LayoutModel",
          "state": {
            "_view_name": "LayoutView",
            "grid_template_rows": null,
            "right": null,
            "justify_content": null,
            "_view_module": "@jupyter-widgets/base",
            "overflow": null,
            "_model_module_version": "1.2.0",
            "_view_count": null,
            "flex_flow": null,
            "width": null,
            "min_width": null,
            "border": null,
            "align_items": null,
            "bottom": null,
            "_model_module": "@jupyter-widgets/base",
            "top": null,
            "grid_column": null,
            "overflow_y": null,
            "overflow_x": null,
            "grid_auto_flow": null,
            "grid_area": null,
            "grid_template_columns": null,
            "flex": null,
            "_model_name": "LayoutModel",
            "justify_items": null,
            "grid_row": null,
            "max_height": null,
            "align_content": null,
            "visibility": null,
            "align_self": null,
            "height": null,
            "min_height": null,
            "padding": null,
            "grid_auto_rows": null,
            "grid_gap": null,
            "max_width": null,
            "order": null,
            "_view_module_version": "1.2.0",
            "grid_template_areas": null,
            "object_position": null,
            "object_fit": null,
            "grid_auto_columns": null,
            "margin": null,
            "display": null,
            "left": null
          }
        },
        "71cd878f1b83426ebf70ba163cd530d1": {
          "model_module": "@jupyter-widgets/controls",
          "model_name": "FloatProgressModel",
          "state": {
            "_view_name": "ProgressView",
            "style": "IPY_MODEL_9050e3d901ea42c5870f107593861db3",
            "_dom_classes": [],
            "description": "#0: 100%",
            "_model_name": "FloatProgressModel",
            "bar_style": "success",
            "max": 64,
            "_view_module": "@jupyter-widgets/controls",
            "_model_module_version": "1.5.0",
            "value": 64,
            "_view_count": null,
            "_view_module_version": "1.5.0",
            "orientation": "horizontal",
            "min": 0,
            "description_tooltip": null,
            "_model_module": "@jupyter-widgets/controls",
            "layout": "IPY_MODEL_f834e510f2db43daa35f0d2e39ded01d"
          }
        },
        "a430b24e121c4f238cd26ae579672f94": {
          "model_module": "@jupyter-widgets/controls",
          "model_name": "HTMLModel",
          "state": {
            "_view_name": "HTMLView",
            "style": "IPY_MODEL_4873ea1f884749e58479733e18f596dc",
            "_dom_classes": [],
            "description": "",
            "_model_name": "HTMLModel",
            "placeholder": "​",
            "_view_module": "@jupyter-widgets/controls",
            "_model_module_version": "1.5.0",
            "value": " 64/64 [00:25&lt;00:00,  2.54ex/s]",
            "_view_count": null,
            "_view_module_version": "1.5.0",
            "description_tooltip": null,
            "_model_module": "@jupyter-widgets/controls",
            "layout": "IPY_MODEL_38ccfe12679c49dcbbf76a773d4822db"
          }
        },
        "9050e3d901ea42c5870f107593861db3": {
          "model_module": "@jupyter-widgets/controls",
          "model_name": "ProgressStyleModel",
          "state": {
            "_view_name": "StyleView",
            "_model_name": "ProgressStyleModel",
            "description_width": "initial",
            "_view_module": "@jupyter-widgets/base",
            "_model_module_version": "1.5.0",
            "_view_count": null,
            "_view_module_version": "1.2.0",
            "bar_color": null,
            "_model_module": "@jupyter-widgets/controls"
          }
        },
        "f834e510f2db43daa35f0d2e39ded01d": {
          "model_module": "@jupyter-widgets/base",
          "model_name": "LayoutModel",
          "state": {
            "_view_name": "LayoutView",
            "grid_template_rows": null,
            "right": null,
            "justify_content": null,
            "_view_module": "@jupyter-widgets/base",
            "overflow": null,
            "_model_module_version": "1.2.0",
            "_view_count": null,
            "flex_flow": null,
            "width": null,
            "min_width": null,
            "border": null,
            "align_items": null,
            "bottom": null,
            "_model_module": "@jupyter-widgets/base",
            "top": null,
            "grid_column": null,
            "overflow_y": null,
            "overflow_x": null,
            "grid_auto_flow": null,
            "grid_area": null,
            "grid_template_columns": null,
            "flex": null,
            "_model_name": "LayoutModel",
            "justify_items": null,
            "grid_row": null,
            "max_height": null,
            "align_content": null,
            "visibility": null,
            "align_self": null,
            "height": null,
            "min_height": null,
            "padding": null,
            "grid_auto_rows": null,
            "grid_gap": null,
            "max_width": null,
            "order": null,
            "_view_module_version": "1.2.0",
            "grid_template_areas": null,
            "object_position": null,
            "object_fit": null,
            "grid_auto_columns": null,
            "margin": null,
            "display": null,
            "left": null
          }
        },
        "4873ea1f884749e58479733e18f596dc": {
          "model_module": "@jupyter-widgets/controls",
          "model_name": "DescriptionStyleModel",
          "state": {
            "_view_name": "StyleView",
            "_model_name": "DescriptionStyleModel",
            "description_width": "",
            "_view_module": "@jupyter-widgets/base",
            "_model_module_version": "1.5.0",
            "_view_count": null,
            "_view_module_version": "1.2.0",
            "_model_module": "@jupyter-widgets/controls"
          }
        },
        "38ccfe12679c49dcbbf76a773d4822db": {
          "model_module": "@jupyter-widgets/base",
          "model_name": "LayoutModel",
          "state": {
            "_view_name": "LayoutView",
            "grid_template_rows": null,
            "right": null,
            "justify_content": null,
            "_view_module": "@jupyter-widgets/base",
            "overflow": null,
            "_model_module_version": "1.2.0",
            "_view_count": null,
            "flex_flow": null,
            "width": null,
            "min_width": null,
            "border": null,
            "align_items": null,
            "bottom": null,
            "_model_module": "@jupyter-widgets/base",
            "top": null,
            "grid_column": null,
            "overflow_y": null,
            "overflow_x": null,
            "grid_auto_flow": null,
            "grid_area": null,
            "grid_template_columns": null,
            "flex": null,
            "_model_name": "LayoutModel",
            "justify_items": null,
            "grid_row": null,
            "max_height": null,
            "align_content": null,
            "visibility": null,
            "align_self": null,
            "height": null,
            "min_height": null,
            "padding": null,
            "grid_auto_rows": null,
            "grid_gap": null,
            "max_width": null,
            "order": null,
            "_view_module_version": "1.2.0",
            "grid_template_areas": null,
            "object_position": null,
            "object_fit": null,
            "grid_auto_columns": null,
            "margin": null,
            "display": null,
            "left": null
          }
        },
        "e1a06f595ca544a5aa7a5869f9c2db50": {
          "model_module": "@jupyter-widgets/controls",
          "model_name": "HBoxModel",
          "state": {
            "_view_name": "HBoxView",
            "_dom_classes": [],
            "_model_name": "HBoxModel",
            "_view_module": "@jupyter-widgets/controls",
            "_model_module_version": "1.5.0",
            "_view_count": null,
            "_view_module_version": "1.5.0",
            "box_style": "",
            "layout": "IPY_MODEL_85ddb815485a48189a49b9295d916371",
            "_model_module": "@jupyter-widgets/controls",
            "children": [
              "IPY_MODEL_60002fe0e34d4dbf8c816e63ef23c0d1",
              "IPY_MODEL_d47801716a4541d784fee6da6a642497"
            ]
          }
        },
        "85ddb815485a48189a49b9295d916371": {
          "model_module": "@jupyter-widgets/base",
          "model_name": "LayoutModel",
          "state": {
            "_view_name": "LayoutView",
            "grid_template_rows": null,
            "right": null,
            "justify_content": null,
            "_view_module": "@jupyter-widgets/base",
            "overflow": null,
            "_model_module_version": "1.2.0",
            "_view_count": null,
            "flex_flow": null,
            "width": null,
            "min_width": null,
            "border": null,
            "align_items": null,
            "bottom": null,
            "_model_module": "@jupyter-widgets/base",
            "top": null,
            "grid_column": null,
            "overflow_y": null,
            "overflow_x": null,
            "grid_auto_flow": null,
            "grid_area": null,
            "grid_template_columns": null,
            "flex": null,
            "_model_name": "LayoutModel",
            "justify_items": null,
            "grid_row": null,
            "max_height": null,
            "align_content": null,
            "visibility": null,
            "align_self": null,
            "height": null,
            "min_height": null,
            "padding": null,
            "grid_auto_rows": null,
            "grid_gap": null,
            "max_width": null,
            "order": null,
            "_view_module_version": "1.2.0",
            "grid_template_areas": null,
            "object_position": null,
            "object_fit": null,
            "grid_auto_columns": null,
            "margin": null,
            "display": null,
            "left": null
          }
        },
        "60002fe0e34d4dbf8c816e63ef23c0d1": {
          "model_module": "@jupyter-widgets/controls",
          "model_name": "FloatProgressModel",
          "state": {
            "_view_name": "ProgressView",
            "style": "IPY_MODEL_5e3b9af4c95b4c74b9b39bc7ce6d1def",
            "_dom_classes": [],
            "description": "#2: 100%",
            "_model_name": "FloatProgressModel",
            "bar_style": "success",
            "max": 64,
            "_view_module": "@jupyter-widgets/controls",
            "_model_module_version": "1.5.0",
            "value": 64,
            "_view_count": null,
            "_view_module_version": "1.5.0",
            "orientation": "horizontal",
            "min": 0,
            "description_tooltip": null,
            "_model_module": "@jupyter-widgets/controls",
            "layout": "IPY_MODEL_56d8ad163e3b4d7ea67255369975517c"
          }
        },
        "d47801716a4541d784fee6da6a642497": {
          "model_module": "@jupyter-widgets/controls",
          "model_name": "HTMLModel",
          "state": {
            "_view_name": "HTMLView",
            "style": "IPY_MODEL_806cd2761fac43f9ac1d8c2802c5252b",
            "_dom_classes": [],
            "description": "",
            "_model_name": "HTMLModel",
            "placeholder": "​",
            "_view_module": "@jupyter-widgets/controls",
            "_model_module_version": "1.5.0",
            "value": " 64/64 [00:23&lt;00:00,  2.75ex/s]",
            "_view_count": null,
            "_view_module_version": "1.5.0",
            "description_tooltip": null,
            "_model_module": "@jupyter-widgets/controls",
            "layout": "IPY_MODEL_3c3716913b7d41acba883a21a164a0ff"
          }
        },
        "5e3b9af4c95b4c74b9b39bc7ce6d1def": {
          "model_module": "@jupyter-widgets/controls",
          "model_name": "ProgressStyleModel",
          "state": {
            "_view_name": "StyleView",
            "_model_name": "ProgressStyleModel",
            "description_width": "initial",
            "_view_module": "@jupyter-widgets/base",
            "_model_module_version": "1.5.0",
            "_view_count": null,
            "_view_module_version": "1.2.0",
            "bar_color": null,
            "_model_module": "@jupyter-widgets/controls"
          }
        },
        "56d8ad163e3b4d7ea67255369975517c": {
          "model_module": "@jupyter-widgets/base",
          "model_name": "LayoutModel",
          "state": {
            "_view_name": "LayoutView",
            "grid_template_rows": null,
            "right": null,
            "justify_content": null,
            "_view_module": "@jupyter-widgets/base",
            "overflow": null,
            "_model_module_version": "1.2.0",
            "_view_count": null,
            "flex_flow": null,
            "width": null,
            "min_width": null,
            "border": null,
            "align_items": null,
            "bottom": null,
            "_model_module": "@jupyter-widgets/base",
            "top": null,
            "grid_column": null,
            "overflow_y": null,
            "overflow_x": null,
            "grid_auto_flow": null,
            "grid_area": null,
            "grid_template_columns": null,
            "flex": null,
            "_model_name": "LayoutModel",
            "justify_items": null,
            "grid_row": null,
            "max_height": null,
            "align_content": null,
            "visibility": null,
            "align_self": null,
            "height": null,
            "min_height": null,
            "padding": null,
            "grid_auto_rows": null,
            "grid_gap": null,
            "max_width": null,
            "order": null,
            "_view_module_version": "1.2.0",
            "grid_template_areas": null,
            "object_position": null,
            "object_fit": null,
            "grid_auto_columns": null,
            "margin": null,
            "display": null,
            "left": null
          }
        },
        "806cd2761fac43f9ac1d8c2802c5252b": {
          "model_module": "@jupyter-widgets/controls",
          "model_name": "DescriptionStyleModel",
          "state": {
            "_view_name": "StyleView",
            "_model_name": "DescriptionStyleModel",
            "description_width": "",
            "_view_module": "@jupyter-widgets/base",
            "_model_module_version": "1.5.0",
            "_view_count": null,
            "_view_module_version": "1.2.0",
            "_model_module": "@jupyter-widgets/controls"
          }
        },
        "3c3716913b7d41acba883a21a164a0ff": {
          "model_module": "@jupyter-widgets/base",
          "model_name": "LayoutModel",
          "state": {
            "_view_name": "LayoutView",
            "grid_template_rows": null,
            "right": null,
            "justify_content": null,
            "_view_module": "@jupyter-widgets/base",
            "overflow": null,
            "_model_module_version": "1.2.0",
            "_view_count": null,
            "flex_flow": null,
            "width": null,
            "min_width": null,
            "border": null,
            "align_items": null,
            "bottom": null,
            "_model_module": "@jupyter-widgets/base",
            "top": null,
            "grid_column": null,
            "overflow_y": null,
            "overflow_x": null,
            "grid_auto_flow": null,
            "grid_area": null,
            "grid_template_columns": null,
            "flex": null,
            "_model_name": "LayoutModel",
            "justify_items": null,
            "grid_row": null,
            "max_height": null,
            "align_content": null,
            "visibility": null,
            "align_self": null,
            "height": null,
            "min_height": null,
            "padding": null,
            "grid_auto_rows": null,
            "grid_gap": null,
            "max_width": null,
            "order": null,
            "_view_module_version": "1.2.0",
            "grid_template_areas": null,
            "object_position": null,
            "object_fit": null,
            "grid_auto_columns": null,
            "margin": null,
            "display": null,
            "left": null
          }
        },
        "3bb9774aff1748fe91e521b95c79b2ab": {
          "model_module": "@jupyter-widgets/controls",
          "model_name": "HBoxModel",
          "state": {
            "_view_name": "HBoxView",
            "_dom_classes": [],
            "_model_name": "HBoxModel",
            "_view_module": "@jupyter-widgets/controls",
            "_model_module_version": "1.5.0",
            "_view_count": null,
            "_view_module_version": "1.5.0",
            "box_style": "",
            "layout": "IPY_MODEL_e1eb1ef5d640419ebdf80eb9f72b592a",
            "_model_module": "@jupyter-widgets/controls",
            "children": [
              "IPY_MODEL_b14581c68f3648658a910d760347934a",
              "IPY_MODEL_09e3b7ef3da74815b8ced777e6542464"
            ]
          }
        },
        "e1eb1ef5d640419ebdf80eb9f72b592a": {
          "model_module": "@jupyter-widgets/base",
          "model_name": "LayoutModel",
          "state": {
            "_view_name": "LayoutView",
            "grid_template_rows": null,
            "right": null,
            "justify_content": null,
            "_view_module": "@jupyter-widgets/base",
            "overflow": null,
            "_model_module_version": "1.2.0",
            "_view_count": null,
            "flex_flow": null,
            "width": null,
            "min_width": null,
            "border": null,
            "align_items": null,
            "bottom": null,
            "_model_module": "@jupyter-widgets/base",
            "top": null,
            "grid_column": null,
            "overflow_y": null,
            "overflow_x": null,
            "grid_auto_flow": null,
            "grid_area": null,
            "grid_template_columns": null,
            "flex": null,
            "_model_name": "LayoutModel",
            "justify_items": null,
            "grid_row": null,
            "max_height": null,
            "align_content": null,
            "visibility": null,
            "align_self": null,
            "height": null,
            "min_height": null,
            "padding": null,
            "grid_auto_rows": null,
            "grid_gap": null,
            "max_width": null,
            "order": null,
            "_view_module_version": "1.2.0",
            "grid_template_areas": null,
            "object_position": null,
            "object_fit": null,
            "grid_auto_columns": null,
            "margin": null,
            "display": null,
            "left": null
          }
        },
        "b14581c68f3648658a910d760347934a": {
          "model_module": "@jupyter-widgets/controls",
          "model_name": "FloatProgressModel",
          "state": {
            "_view_name": "ProgressView",
            "style": "IPY_MODEL_ef349fc537e242068ae1f9cbf4a86756",
            "_dom_classes": [],
            "description": "#3: 100%",
            "_model_name": "FloatProgressModel",
            "bar_style": "success",
            "max": 63,
            "_view_module": "@jupyter-widgets/controls",
            "_model_module_version": "1.5.0",
            "value": 63,
            "_view_count": null,
            "_view_module_version": "1.5.0",
            "orientation": "horizontal",
            "min": 0,
            "description_tooltip": null,
            "_model_module": "@jupyter-widgets/controls",
            "layout": "IPY_MODEL_cff182dec85c4bc0b315750f1788f818"
          }
        },
        "09e3b7ef3da74815b8ced777e6542464": {
          "model_module": "@jupyter-widgets/controls",
          "model_name": "HTMLModel",
          "state": {
            "_view_name": "HTMLView",
            "style": "IPY_MODEL_c5e25d31c3754156a001a8c2233754ad",
            "_dom_classes": [],
            "description": "",
            "_model_name": "HTMLModel",
            "placeholder": "​",
            "_view_module": "@jupyter-widgets/controls",
            "_model_module_version": "1.5.0",
            "value": " 63/63 [00:24&lt;00:00,  2.60ex/s]",
            "_view_count": null,
            "_view_module_version": "1.5.0",
            "description_tooltip": null,
            "_model_module": "@jupyter-widgets/controls",
            "layout": "IPY_MODEL_9b07ef00080c4bf8a2fff4bd011b5b60"
          }
        },
        "ef349fc537e242068ae1f9cbf4a86756": {
          "model_module": "@jupyter-widgets/controls",
          "model_name": "ProgressStyleModel",
          "state": {
            "_view_name": "StyleView",
            "_model_name": "ProgressStyleModel",
            "description_width": "initial",
            "_view_module": "@jupyter-widgets/base",
            "_model_module_version": "1.5.0",
            "_view_count": null,
            "_view_module_version": "1.2.0",
            "bar_color": null,
            "_model_module": "@jupyter-widgets/controls"
          }
        },
        "cff182dec85c4bc0b315750f1788f818": {
          "model_module": "@jupyter-widgets/base",
          "model_name": "LayoutModel",
          "state": {
            "_view_name": "LayoutView",
            "grid_template_rows": null,
            "right": null,
            "justify_content": null,
            "_view_module": "@jupyter-widgets/base",
            "overflow": null,
            "_model_module_version": "1.2.0",
            "_view_count": null,
            "flex_flow": null,
            "width": null,
            "min_width": null,
            "border": null,
            "align_items": null,
            "bottom": null,
            "_model_module": "@jupyter-widgets/base",
            "top": null,
            "grid_column": null,
            "overflow_y": null,
            "overflow_x": null,
            "grid_auto_flow": null,
            "grid_area": null,
            "grid_template_columns": null,
            "flex": null,
            "_model_name": "LayoutModel",
            "justify_items": null,
            "grid_row": null,
            "max_height": null,
            "align_content": null,
            "visibility": null,
            "align_self": null,
            "height": null,
            "min_height": null,
            "padding": null,
            "grid_auto_rows": null,
            "grid_gap": null,
            "max_width": null,
            "order": null,
            "_view_module_version": "1.2.0",
            "grid_template_areas": null,
            "object_position": null,
            "object_fit": null,
            "grid_auto_columns": null,
            "margin": null,
            "display": null,
            "left": null
          }
        },
        "c5e25d31c3754156a001a8c2233754ad": {
          "model_module": "@jupyter-widgets/controls",
          "model_name": "DescriptionStyleModel",
          "state": {
            "_view_name": "StyleView",
            "_model_name": "DescriptionStyleModel",
            "description_width": "",
            "_view_module": "@jupyter-widgets/base",
            "_model_module_version": "1.5.0",
            "_view_count": null,
            "_view_module_version": "1.2.0",
            "_model_module": "@jupyter-widgets/controls"
          }
        },
        "9b07ef00080c4bf8a2fff4bd011b5b60": {
          "model_module": "@jupyter-widgets/base",
          "model_name": "LayoutModel",
          "state": {
            "_view_name": "LayoutView",
            "grid_template_rows": null,
            "right": null,
            "justify_content": null,
            "_view_module": "@jupyter-widgets/base",
            "overflow": null,
            "_model_module_version": "1.2.0",
            "_view_count": null,
            "flex_flow": null,
            "width": null,
            "min_width": null,
            "border": null,
            "align_items": null,
            "bottom": null,
            "_model_module": "@jupyter-widgets/base",
            "top": null,
            "grid_column": null,
            "overflow_y": null,
            "overflow_x": null,
            "grid_auto_flow": null,
            "grid_area": null,
            "grid_template_columns": null,
            "flex": null,
            "_model_name": "LayoutModel",
            "justify_items": null,
            "grid_row": null,
            "max_height": null,
            "align_content": null,
            "visibility": null,
            "align_self": null,
            "height": null,
            "min_height": null,
            "padding": null,
            "grid_auto_rows": null,
            "grid_gap": null,
            "max_width": null,
            "order": null,
            "_view_module_version": "1.2.0",
            "grid_template_areas": null,
            "object_position": null,
            "object_fit": null,
            "grid_auto_columns": null,
            "margin": null,
            "display": null,
            "left": null
          }
        },
        "44982c80795f4a0cad9e25789489b81a": {
          "model_module": "@jupyter-widgets/controls",
          "model_name": "HBoxModel",
          "state": {
            "_view_name": "HBoxView",
            "_dom_classes": [],
            "_model_name": "HBoxModel",
            "_view_module": "@jupyter-widgets/controls",
            "_model_module_version": "1.5.0",
            "_view_count": null,
            "_view_module_version": "1.5.0",
            "box_style": "",
            "layout": "IPY_MODEL_84bee4eed96547148c8c3e137b2fd971",
            "_model_module": "@jupyter-widgets/controls",
            "children": [
              "IPY_MODEL_1ad64d19691d4013b34a0fd450d5bcab",
              "IPY_MODEL_a173453fb851419f8052d0997f0b50f1"
            ]
          }
        },
        "84bee4eed96547148c8c3e137b2fd971": {
          "model_module": "@jupyter-widgets/base",
          "model_name": "LayoutModel",
          "state": {
            "_view_name": "LayoutView",
            "grid_template_rows": null,
            "right": null,
            "justify_content": null,
            "_view_module": "@jupyter-widgets/base",
            "overflow": null,
            "_model_module_version": "1.2.0",
            "_view_count": null,
            "flex_flow": null,
            "width": null,
            "min_width": null,
            "border": null,
            "align_items": null,
            "bottom": null,
            "_model_module": "@jupyter-widgets/base",
            "top": null,
            "grid_column": null,
            "overflow_y": null,
            "overflow_x": null,
            "grid_auto_flow": null,
            "grid_area": null,
            "grid_template_columns": null,
            "flex": null,
            "_model_name": "LayoutModel",
            "justify_items": null,
            "grid_row": null,
            "max_height": null,
            "align_content": null,
            "visibility": null,
            "align_self": null,
            "height": null,
            "min_height": null,
            "padding": null,
            "grid_auto_rows": null,
            "grid_gap": null,
            "max_width": null,
            "order": null,
            "_view_module_version": "1.2.0",
            "grid_template_areas": null,
            "object_position": null,
            "object_fit": null,
            "grid_auto_columns": null,
            "margin": null,
            "display": null,
            "left": null
          }
        },
        "1ad64d19691d4013b34a0fd450d5bcab": {
          "model_module": "@jupyter-widgets/controls",
          "model_name": "FloatProgressModel",
          "state": {
            "_view_name": "ProgressView",
            "style": "IPY_MODEL_0cb50a6bd5b74ed19115683c5793a4ca",
            "_dom_classes": [],
            "description": "#0: 100%",
            "_model_name": "FloatProgressModel",
            "bar_style": "success",
            "max": 29,
            "_view_module": "@jupyter-widgets/controls",
            "_model_module_version": "1.5.0",
            "value": 29,
            "_view_count": null,
            "_view_module_version": "1.5.0",
            "orientation": "horizontal",
            "min": 0,
            "description_tooltip": null,
            "_model_module": "@jupyter-widgets/controls",
            "layout": "IPY_MODEL_20c2578956d040b8be9c79cca66ca94c"
          }
        },
        "a173453fb851419f8052d0997f0b50f1": {
          "model_module": "@jupyter-widgets/controls",
          "model_name": "HTMLModel",
          "state": {
            "_view_name": "HTMLView",
            "style": "IPY_MODEL_10aea278ce974685b51fdb629d3cfdb0",
            "_dom_classes": [],
            "description": "",
            "_model_name": "HTMLModel",
            "placeholder": "​",
            "_view_module": "@jupyter-widgets/controls",
            "_model_module_version": "1.5.0",
            "value": " 29/29 [00:10&lt;00:00,  2.67ex/s]",
            "_view_count": null,
            "_view_module_version": "1.5.0",
            "description_tooltip": null,
            "_model_module": "@jupyter-widgets/controls",
            "layout": "IPY_MODEL_28b4759b4c474a29b77fd9757c5d9e6f"
          }
        },
        "0cb50a6bd5b74ed19115683c5793a4ca": {
          "model_module": "@jupyter-widgets/controls",
          "model_name": "ProgressStyleModel",
          "state": {
            "_view_name": "StyleView",
            "_model_name": "ProgressStyleModel",
            "description_width": "initial",
            "_view_module": "@jupyter-widgets/base",
            "_model_module_version": "1.5.0",
            "_view_count": null,
            "_view_module_version": "1.2.0",
            "bar_color": null,
            "_model_module": "@jupyter-widgets/controls"
          }
        },
        "20c2578956d040b8be9c79cca66ca94c": {
          "model_module": "@jupyter-widgets/base",
          "model_name": "LayoutModel",
          "state": {
            "_view_name": "LayoutView",
            "grid_template_rows": null,
            "right": null,
            "justify_content": null,
            "_view_module": "@jupyter-widgets/base",
            "overflow": null,
            "_model_module_version": "1.2.0",
            "_view_count": null,
            "flex_flow": null,
            "width": null,
            "min_width": null,
            "border": null,
            "align_items": null,
            "bottom": null,
            "_model_module": "@jupyter-widgets/base",
            "top": null,
            "grid_column": null,
            "overflow_y": null,
            "overflow_x": null,
            "grid_auto_flow": null,
            "grid_area": null,
            "grid_template_columns": null,
            "flex": null,
            "_model_name": "LayoutModel",
            "justify_items": null,
            "grid_row": null,
            "max_height": null,
            "align_content": null,
            "visibility": null,
            "align_self": null,
            "height": null,
            "min_height": null,
            "padding": null,
            "grid_auto_rows": null,
            "grid_gap": null,
            "max_width": null,
            "order": null,
            "_view_module_version": "1.2.0",
            "grid_template_areas": null,
            "object_position": null,
            "object_fit": null,
            "grid_auto_columns": null,
            "margin": null,
            "display": null,
            "left": null
          }
        },
        "10aea278ce974685b51fdb629d3cfdb0": {
          "model_module": "@jupyter-widgets/controls",
          "model_name": "DescriptionStyleModel",
          "state": {
            "_view_name": "StyleView",
            "_model_name": "DescriptionStyleModel",
            "description_width": "",
            "_view_module": "@jupyter-widgets/base",
            "_model_module_version": "1.5.0",
            "_view_count": null,
            "_view_module_version": "1.2.0",
            "_model_module": "@jupyter-widgets/controls"
          }
        },
        "28b4759b4c474a29b77fd9757c5d9e6f": {
          "model_module": "@jupyter-widgets/base",
          "model_name": "LayoutModel",
          "state": {
            "_view_name": "LayoutView",
            "grid_template_rows": null,
            "right": null,
            "justify_content": null,
            "_view_module": "@jupyter-widgets/base",
            "overflow": null,
            "_model_module_version": "1.2.0",
            "_view_count": null,
            "flex_flow": null,
            "width": null,
            "min_width": null,
            "border": null,
            "align_items": null,
            "bottom": null,
            "_model_module": "@jupyter-widgets/base",
            "top": null,
            "grid_column": null,
            "overflow_y": null,
            "overflow_x": null,
            "grid_auto_flow": null,
            "grid_area": null,
            "grid_template_columns": null,
            "flex": null,
            "_model_name": "LayoutModel",
            "justify_items": null,
            "grid_row": null,
            "max_height": null,
            "align_content": null,
            "visibility": null,
            "align_self": null,
            "height": null,
            "min_height": null,
            "padding": null,
            "grid_auto_rows": null,
            "grid_gap": null,
            "max_width": null,
            "order": null,
            "_view_module_version": "1.2.0",
            "grid_template_areas": null,
            "object_position": null,
            "object_fit": null,
            "grid_auto_columns": null,
            "margin": null,
            "display": null,
            "left": null
          }
        },
        "d9e17d51904941f6a81dc24d5f323704": {
          "model_module": "@jupyter-widgets/controls",
          "model_name": "HBoxModel",
          "state": {
            "_view_name": "HBoxView",
            "_dom_classes": [],
            "_model_name": "HBoxModel",
            "_view_module": "@jupyter-widgets/controls",
            "_model_module_version": "1.5.0",
            "_view_count": null,
            "_view_module_version": "1.5.0",
            "box_style": "",
            "layout": "IPY_MODEL_2072d0bbcfef4938bb9c36b3f2e49d3f",
            "_model_module": "@jupyter-widgets/controls",
            "children": [
              "IPY_MODEL_3ec28266fbec4b609905581ead3e3648",
              "IPY_MODEL_545133cde70942c996ce7277b76a0b13"
            ]
          }
        },
        "2072d0bbcfef4938bb9c36b3f2e49d3f": {
          "model_module": "@jupyter-widgets/base",
          "model_name": "LayoutModel",
          "state": {
            "_view_name": "LayoutView",
            "grid_template_rows": null,
            "right": null,
            "justify_content": null,
            "_view_module": "@jupyter-widgets/base",
            "overflow": null,
            "_model_module_version": "1.2.0",
            "_view_count": null,
            "flex_flow": null,
            "width": null,
            "min_width": null,
            "border": null,
            "align_items": null,
            "bottom": null,
            "_model_module": "@jupyter-widgets/base",
            "top": null,
            "grid_column": null,
            "overflow_y": null,
            "overflow_x": null,
            "grid_auto_flow": null,
            "grid_area": null,
            "grid_template_columns": null,
            "flex": null,
            "_model_name": "LayoutModel",
            "justify_items": null,
            "grid_row": null,
            "max_height": null,
            "align_content": null,
            "visibility": null,
            "align_self": null,
            "height": null,
            "min_height": null,
            "padding": null,
            "grid_auto_rows": null,
            "grid_gap": null,
            "max_width": null,
            "order": null,
            "_view_module_version": "1.2.0",
            "grid_template_areas": null,
            "object_position": null,
            "object_fit": null,
            "grid_auto_columns": null,
            "margin": null,
            "display": null,
            "left": null
          }
        },
        "3ec28266fbec4b609905581ead3e3648": {
          "model_module": "@jupyter-widgets/controls",
          "model_name": "FloatProgressModel",
          "state": {
            "_view_name": "ProgressView",
            "style": "IPY_MODEL_962e7785dadf4c238071828eba256e3c",
            "_dom_classes": [],
            "description": "#1: 100%",
            "_model_name": "FloatProgressModel",
            "bar_style": "success",
            "max": 29,
            "_view_module": "@jupyter-widgets/controls",
            "_model_module_version": "1.5.0",
            "value": 29,
            "_view_count": null,
            "_view_module_version": "1.5.0",
            "orientation": "horizontal",
            "min": 0,
            "description_tooltip": null,
            "_model_module": "@jupyter-widgets/controls",
            "layout": "IPY_MODEL_70ed3d7c75334e36bcd9745e3a674cc8"
          }
        },
        "545133cde70942c996ce7277b76a0b13": {
          "model_module": "@jupyter-widgets/controls",
          "model_name": "HTMLModel",
          "state": {
            "_view_name": "HTMLView",
            "style": "IPY_MODEL_ee9e82a1cb654b338eb938e868b7d5eb",
            "_dom_classes": [],
            "description": "",
            "_model_name": "HTMLModel",
            "placeholder": "​",
            "_view_module": "@jupyter-widgets/controls",
            "_model_module_version": "1.5.0",
            "value": " 29/29 [00:10&lt;00:00,  2.67ex/s]",
            "_view_count": null,
            "_view_module_version": "1.5.0",
            "description_tooltip": null,
            "_model_module": "@jupyter-widgets/controls",
            "layout": "IPY_MODEL_eb28fa3e0f1541f1811eaa06b8d83db9"
          }
        },
        "962e7785dadf4c238071828eba256e3c": {
          "model_module": "@jupyter-widgets/controls",
          "model_name": "ProgressStyleModel",
          "state": {
            "_view_name": "StyleView",
            "_model_name": "ProgressStyleModel",
            "description_width": "initial",
            "_view_module": "@jupyter-widgets/base",
            "_model_module_version": "1.5.0",
            "_view_count": null,
            "_view_module_version": "1.2.0",
            "bar_color": null,
            "_model_module": "@jupyter-widgets/controls"
          }
        },
        "70ed3d7c75334e36bcd9745e3a674cc8": {
          "model_module": "@jupyter-widgets/base",
          "model_name": "LayoutModel",
          "state": {
            "_view_name": "LayoutView",
            "grid_template_rows": null,
            "right": null,
            "justify_content": null,
            "_view_module": "@jupyter-widgets/base",
            "overflow": null,
            "_model_module_version": "1.2.0",
            "_view_count": null,
            "flex_flow": null,
            "width": null,
            "min_width": null,
            "border": null,
            "align_items": null,
            "bottom": null,
            "_model_module": "@jupyter-widgets/base",
            "top": null,
            "grid_column": null,
            "overflow_y": null,
            "overflow_x": null,
            "grid_auto_flow": null,
            "grid_area": null,
            "grid_template_columns": null,
            "flex": null,
            "_model_name": "LayoutModel",
            "justify_items": null,
            "grid_row": null,
            "max_height": null,
            "align_content": null,
            "visibility": null,
            "align_self": null,
            "height": null,
            "min_height": null,
            "padding": null,
            "grid_auto_rows": null,
            "grid_gap": null,
            "max_width": null,
            "order": null,
            "_view_module_version": "1.2.0",
            "grid_template_areas": null,
            "object_position": null,
            "object_fit": null,
            "grid_auto_columns": null,
            "margin": null,
            "display": null,
            "left": null
          }
        },
        "ee9e82a1cb654b338eb938e868b7d5eb": {
          "model_module": "@jupyter-widgets/controls",
          "model_name": "DescriptionStyleModel",
          "state": {
            "_view_name": "StyleView",
            "_model_name": "DescriptionStyleModel",
            "description_width": "",
            "_view_module": "@jupyter-widgets/base",
            "_model_module_version": "1.5.0",
            "_view_count": null,
            "_view_module_version": "1.2.0",
            "_model_module": "@jupyter-widgets/controls"
          }
        },
        "eb28fa3e0f1541f1811eaa06b8d83db9": {
          "model_module": "@jupyter-widgets/base",
          "model_name": "LayoutModel",
          "state": {
            "_view_name": "LayoutView",
            "grid_template_rows": null,
            "right": null,
            "justify_content": null,
            "_view_module": "@jupyter-widgets/base",
            "overflow": null,
            "_model_module_version": "1.2.0",
            "_view_count": null,
            "flex_flow": null,
            "width": null,
            "min_width": null,
            "border": null,
            "align_items": null,
            "bottom": null,
            "_model_module": "@jupyter-widgets/base",
            "top": null,
            "grid_column": null,
            "overflow_y": null,
            "overflow_x": null,
            "grid_auto_flow": null,
            "grid_area": null,
            "grid_template_columns": null,
            "flex": null,
            "_model_name": "LayoutModel",
            "justify_items": null,
            "grid_row": null,
            "max_height": null,
            "align_content": null,
            "visibility": null,
            "align_self": null,
            "height": null,
            "min_height": null,
            "padding": null,
            "grid_auto_rows": null,
            "grid_gap": null,
            "max_width": null,
            "order": null,
            "_view_module_version": "1.2.0",
            "grid_template_areas": null,
            "object_position": null,
            "object_fit": null,
            "grid_auto_columns": null,
            "margin": null,
            "display": null,
            "left": null
          }
        },
        "195a2dfef3c848208347149244b2a75b": {
          "model_module": "@jupyter-widgets/controls",
          "model_name": "HBoxModel",
          "state": {
            "_view_name": "HBoxView",
            "_dom_classes": [],
            "_model_name": "HBoxModel",
            "_view_module": "@jupyter-widgets/controls",
            "_model_module_version": "1.5.0",
            "_view_count": null,
            "_view_module_version": "1.5.0",
            "box_style": "",
            "layout": "IPY_MODEL_280e792887404783a9bc891c30510f84",
            "_model_module": "@jupyter-widgets/controls",
            "children": [
              "IPY_MODEL_ca07497d60fd4da49ea15928d81517d3",
              "IPY_MODEL_81a00e53918e474689e93f03cc3ef30e"
            ]
          }
        },
        "280e792887404783a9bc891c30510f84": {
          "model_module": "@jupyter-widgets/base",
          "model_name": "LayoutModel",
          "state": {
            "_view_name": "LayoutView",
            "grid_template_rows": null,
            "right": null,
            "justify_content": null,
            "_view_module": "@jupyter-widgets/base",
            "overflow": null,
            "_model_module_version": "1.2.0",
            "_view_count": null,
            "flex_flow": null,
            "width": null,
            "min_width": null,
            "border": null,
            "align_items": null,
            "bottom": null,
            "_model_module": "@jupyter-widgets/base",
            "top": null,
            "grid_column": null,
            "overflow_y": null,
            "overflow_x": null,
            "grid_auto_flow": null,
            "grid_area": null,
            "grid_template_columns": null,
            "flex": null,
            "_model_name": "LayoutModel",
            "justify_items": null,
            "grid_row": null,
            "max_height": null,
            "align_content": null,
            "visibility": null,
            "align_self": null,
            "height": null,
            "min_height": null,
            "padding": null,
            "grid_auto_rows": null,
            "grid_gap": null,
            "max_width": null,
            "order": null,
            "_view_module_version": "1.2.0",
            "grid_template_areas": null,
            "object_position": null,
            "object_fit": null,
            "grid_auto_columns": null,
            "margin": null,
            "display": null,
            "left": null
          }
        },
        "ca07497d60fd4da49ea15928d81517d3": {
          "model_module": "@jupyter-widgets/controls",
          "model_name": "FloatProgressModel",
          "state": {
            "_view_name": "ProgressView",
            "style": "IPY_MODEL_3f2da602a0a041e9a00d3a3cd7499f36",
            "_dom_classes": [],
            "description": "#2: 100%",
            "_model_name": "FloatProgressModel",
            "bar_style": "success",
            "max": 29,
            "_view_module": "@jupyter-widgets/controls",
            "_model_module_version": "1.5.0",
            "value": 29,
            "_view_count": null,
            "_view_module_version": "1.5.0",
            "orientation": "horizontal",
            "min": 0,
            "description_tooltip": null,
            "_model_module": "@jupyter-widgets/controls",
            "layout": "IPY_MODEL_d97b42ed8c4b4124bccbef233475eda2"
          }
        },
        "81a00e53918e474689e93f03cc3ef30e": {
          "model_module": "@jupyter-widgets/controls",
          "model_name": "HTMLModel",
          "state": {
            "_view_name": "HTMLView",
            "style": "IPY_MODEL_e955bf522aa54d94bacca191e6b360f3",
            "_dom_classes": [],
            "description": "",
            "_model_name": "HTMLModel",
            "placeholder": "​",
            "_view_module": "@jupyter-widgets/controls",
            "_model_module_version": "1.5.0",
            "value": " 29/29 [00:11&lt;00:00,  2.45ex/s]",
            "_view_count": null,
            "_view_module_version": "1.5.0",
            "description_tooltip": null,
            "_model_module": "@jupyter-widgets/controls",
            "layout": "IPY_MODEL_82e7099c2a104afcbb5a40bdc2f4c339"
          }
        },
        "3f2da602a0a041e9a00d3a3cd7499f36": {
          "model_module": "@jupyter-widgets/controls",
          "model_name": "ProgressStyleModel",
          "state": {
            "_view_name": "StyleView",
            "_model_name": "ProgressStyleModel",
            "description_width": "initial",
            "_view_module": "@jupyter-widgets/base",
            "_model_module_version": "1.5.0",
            "_view_count": null,
            "_view_module_version": "1.2.0",
            "bar_color": null,
            "_model_module": "@jupyter-widgets/controls"
          }
        },
        "d97b42ed8c4b4124bccbef233475eda2": {
          "model_module": "@jupyter-widgets/base",
          "model_name": "LayoutModel",
          "state": {
            "_view_name": "LayoutView",
            "grid_template_rows": null,
            "right": null,
            "justify_content": null,
            "_view_module": "@jupyter-widgets/base",
            "overflow": null,
            "_model_module_version": "1.2.0",
            "_view_count": null,
            "flex_flow": null,
            "width": null,
            "min_width": null,
            "border": null,
            "align_items": null,
            "bottom": null,
            "_model_module": "@jupyter-widgets/base",
            "top": null,
            "grid_column": null,
            "overflow_y": null,
            "overflow_x": null,
            "grid_auto_flow": null,
            "grid_area": null,
            "grid_template_columns": null,
            "flex": null,
            "_model_name": "LayoutModel",
            "justify_items": null,
            "grid_row": null,
            "max_height": null,
            "align_content": null,
            "visibility": null,
            "align_self": null,
            "height": null,
            "min_height": null,
            "padding": null,
            "grid_auto_rows": null,
            "grid_gap": null,
            "max_width": null,
            "order": null,
            "_view_module_version": "1.2.0",
            "grid_template_areas": null,
            "object_position": null,
            "object_fit": null,
            "grid_auto_columns": null,
            "margin": null,
            "display": null,
            "left": null
          }
        },
        "e955bf522aa54d94bacca191e6b360f3": {
          "model_module": "@jupyter-widgets/controls",
          "model_name": "DescriptionStyleModel",
          "state": {
            "_view_name": "StyleView",
            "_model_name": "DescriptionStyleModel",
            "description_width": "",
            "_view_module": "@jupyter-widgets/base",
            "_model_module_version": "1.5.0",
            "_view_count": null,
            "_view_module_version": "1.2.0",
            "_model_module": "@jupyter-widgets/controls"
          }
        },
        "82e7099c2a104afcbb5a40bdc2f4c339": {
          "model_module": "@jupyter-widgets/base",
          "model_name": "LayoutModel",
          "state": {
            "_view_name": "LayoutView",
            "grid_template_rows": null,
            "right": null,
            "justify_content": null,
            "_view_module": "@jupyter-widgets/base",
            "overflow": null,
            "_model_module_version": "1.2.0",
            "_view_count": null,
            "flex_flow": null,
            "width": null,
            "min_width": null,
            "border": null,
            "align_items": null,
            "bottom": null,
            "_model_module": "@jupyter-widgets/base",
            "top": null,
            "grid_column": null,
            "overflow_y": null,
            "overflow_x": null,
            "grid_auto_flow": null,
            "grid_area": null,
            "grid_template_columns": null,
            "flex": null,
            "_model_name": "LayoutModel",
            "justify_items": null,
            "grid_row": null,
            "max_height": null,
            "align_content": null,
            "visibility": null,
            "align_self": null,
            "height": null,
            "min_height": null,
            "padding": null,
            "grid_auto_rows": null,
            "grid_gap": null,
            "max_width": null,
            "order": null,
            "_view_module_version": "1.2.0",
            "grid_template_areas": null,
            "object_position": null,
            "object_fit": null,
            "grid_auto_columns": null,
            "margin": null,
            "display": null,
            "left": null
          }
        },
        "b8f4e4cb8f024272a64323cb848de8bc": {
          "model_module": "@jupyter-widgets/controls",
          "model_name": "HBoxModel",
          "state": {
            "_view_name": "HBoxView",
            "_dom_classes": [],
            "_model_name": "HBoxModel",
            "_view_module": "@jupyter-widgets/controls",
            "_model_module_version": "1.5.0",
            "_view_count": null,
            "_view_module_version": "1.5.0",
            "box_style": "",
            "layout": "IPY_MODEL_55f211feb3904628ac3656c0f9149d1f",
            "_model_module": "@jupyter-widgets/controls",
            "children": [
              "IPY_MODEL_c80c4e3521274d3b9324d96c4ba2fdf0",
              "IPY_MODEL_f102055903974d95b994658d0d1ffb85"
            ]
          }
        },
        "55f211feb3904628ac3656c0f9149d1f": {
          "model_module": "@jupyter-widgets/base",
          "model_name": "LayoutModel",
          "state": {
            "_view_name": "LayoutView",
            "grid_template_rows": null,
            "right": null,
            "justify_content": null,
            "_view_module": "@jupyter-widgets/base",
            "overflow": null,
            "_model_module_version": "1.2.0",
            "_view_count": null,
            "flex_flow": null,
            "width": null,
            "min_width": null,
            "border": null,
            "align_items": null,
            "bottom": null,
            "_model_module": "@jupyter-widgets/base",
            "top": null,
            "grid_column": null,
            "overflow_y": null,
            "overflow_x": null,
            "grid_auto_flow": null,
            "grid_area": null,
            "grid_template_columns": null,
            "flex": null,
            "_model_name": "LayoutModel",
            "justify_items": null,
            "grid_row": null,
            "max_height": null,
            "align_content": null,
            "visibility": null,
            "align_self": null,
            "height": null,
            "min_height": null,
            "padding": null,
            "grid_auto_rows": null,
            "grid_gap": null,
            "max_width": null,
            "order": null,
            "_view_module_version": "1.2.0",
            "grid_template_areas": null,
            "object_position": null,
            "object_fit": null,
            "grid_auto_columns": null,
            "margin": null,
            "display": null,
            "left": null
          }
        },
        "c80c4e3521274d3b9324d96c4ba2fdf0": {
          "model_module": "@jupyter-widgets/controls",
          "model_name": "FloatProgressModel",
          "state": {
            "_view_name": "ProgressView",
            "style": "IPY_MODEL_c69aa23a1faa48d9a799dc787b433cb5",
            "_dom_classes": [],
            "description": "#3: 100%",
            "_model_name": "FloatProgressModel",
            "bar_style": "success",
            "max": 29,
            "_view_module": "@jupyter-widgets/controls",
            "_model_module_version": "1.5.0",
            "value": 29,
            "_view_count": null,
            "_view_module_version": "1.5.0",
            "orientation": "horizontal",
            "min": 0,
            "description_tooltip": null,
            "_model_module": "@jupyter-widgets/controls",
            "layout": "IPY_MODEL_762eb083e6ae4f35bad884e4d6f4abb6"
          }
        },
        "f102055903974d95b994658d0d1ffb85": {
          "model_module": "@jupyter-widgets/controls",
          "model_name": "HTMLModel",
          "state": {
            "_view_name": "HTMLView",
            "style": "IPY_MODEL_deaff1b09f0248ed8bb9a261d4e79b33",
            "_dom_classes": [],
            "description": "",
            "_model_name": "HTMLModel",
            "placeholder": "​",
            "_view_module": "@jupyter-widgets/controls",
            "_model_module_version": "1.5.0",
            "value": " 29/29 [00:11&lt;00:00,  2.57ex/s]",
            "_view_count": null,
            "_view_module_version": "1.5.0",
            "description_tooltip": null,
            "_model_module": "@jupyter-widgets/controls",
            "layout": "IPY_MODEL_7c18ec5fce3541179a441200e6b46801"
          }
        },
        "c69aa23a1faa48d9a799dc787b433cb5": {
          "model_module": "@jupyter-widgets/controls",
          "model_name": "ProgressStyleModel",
          "state": {
            "_view_name": "StyleView",
            "_model_name": "ProgressStyleModel",
            "description_width": "initial",
            "_view_module": "@jupyter-widgets/base",
            "_model_module_version": "1.5.0",
            "_view_count": null,
            "_view_module_version": "1.2.0",
            "bar_color": null,
            "_model_module": "@jupyter-widgets/controls"
          }
        },
        "762eb083e6ae4f35bad884e4d6f4abb6": {
          "model_module": "@jupyter-widgets/base",
          "model_name": "LayoutModel",
          "state": {
            "_view_name": "LayoutView",
            "grid_template_rows": null,
            "right": null,
            "justify_content": null,
            "_view_module": "@jupyter-widgets/base",
            "overflow": null,
            "_model_module_version": "1.2.0",
            "_view_count": null,
            "flex_flow": null,
            "width": null,
            "min_width": null,
            "border": null,
            "align_items": null,
            "bottom": null,
            "_model_module": "@jupyter-widgets/base",
            "top": null,
            "grid_column": null,
            "overflow_y": null,
            "overflow_x": null,
            "grid_auto_flow": null,
            "grid_area": null,
            "grid_template_columns": null,
            "flex": null,
            "_model_name": "LayoutModel",
            "justify_items": null,
            "grid_row": null,
            "max_height": null,
            "align_content": null,
            "visibility": null,
            "align_self": null,
            "height": null,
            "min_height": null,
            "padding": null,
            "grid_auto_rows": null,
            "grid_gap": null,
            "max_width": null,
            "order": null,
            "_view_module_version": "1.2.0",
            "grid_template_areas": null,
            "object_position": null,
            "object_fit": null,
            "grid_auto_columns": null,
            "margin": null,
            "display": null,
            "left": null
          }
        },
        "deaff1b09f0248ed8bb9a261d4e79b33": {
          "model_module": "@jupyter-widgets/controls",
          "model_name": "DescriptionStyleModel",
          "state": {
            "_view_name": "StyleView",
            "_model_name": "DescriptionStyleModel",
            "description_width": "",
            "_view_module": "@jupyter-widgets/base",
            "_model_module_version": "1.5.0",
            "_view_count": null,
            "_view_module_version": "1.2.0",
            "_model_module": "@jupyter-widgets/controls"
          }
        },
        "7c18ec5fce3541179a441200e6b46801": {
          "model_module": "@jupyter-widgets/base",
          "model_name": "LayoutModel",
          "state": {
            "_view_name": "LayoutView",
            "grid_template_rows": null,
            "right": null,
            "justify_content": null,
            "_view_module": "@jupyter-widgets/base",
            "overflow": null,
            "_model_module_version": "1.2.0",
            "_view_count": null,
            "flex_flow": null,
            "width": null,
            "min_width": null,
            "border": null,
            "align_items": null,
            "bottom": null,
            "_model_module": "@jupyter-widgets/base",
            "top": null,
            "grid_column": null,
            "overflow_y": null,
            "overflow_x": null,
            "grid_auto_flow": null,
            "grid_area": null,
            "grid_template_columns": null,
            "flex": null,
            "_model_name": "LayoutModel",
            "justify_items": null,
            "grid_row": null,
            "max_height": null,
            "align_content": null,
            "visibility": null,
            "align_self": null,
            "height": null,
            "min_height": null,
            "padding": null,
            "grid_auto_rows": null,
            "grid_gap": null,
            "max_width": null,
            "order": null,
            "_view_module_version": "1.2.0",
            "grid_template_areas": null,
            "object_position": null,
            "object_fit": null,
            "grid_auto_columns": null,
            "margin": null,
            "display": null,
            "left": null
          }
        },
        "7ce4780d0a2347389c20402a28e31bc7": {
          "model_module": "@jupyter-widgets/controls",
          "model_name": "HBoxModel",
          "state": {
            "_view_name": "HBoxView",
            "_dom_classes": [],
            "_model_name": "HBoxModel",
            "_view_module": "@jupyter-widgets/controls",
            "_model_module_version": "1.5.0",
            "_view_count": null,
            "_view_module_version": "1.5.0",
            "box_style": "",
            "layout": "IPY_MODEL_5119b5933ec74e0b8c6399d31284945e",
            "_model_module": "@jupyter-widgets/controls",
            "children": [
              "IPY_MODEL_2d836ab7f509487abf4b074b7898fa94",
              "IPY_MODEL_0c275ab0798543e18ec7382daee04381"
            ]
          }
        },
        "5119b5933ec74e0b8c6399d31284945e": {
          "model_module": "@jupyter-widgets/base",
          "model_name": "LayoutModel",
          "state": {
            "_view_name": "LayoutView",
            "grid_template_rows": null,
            "right": null,
            "justify_content": null,
            "_view_module": "@jupyter-widgets/base",
            "overflow": null,
            "_model_module_version": "1.2.0",
            "_view_count": null,
            "flex_flow": null,
            "width": null,
            "min_width": null,
            "border": null,
            "align_items": null,
            "bottom": null,
            "_model_module": "@jupyter-widgets/base",
            "top": null,
            "grid_column": null,
            "overflow_y": null,
            "overflow_x": null,
            "grid_auto_flow": null,
            "grid_area": null,
            "grid_template_columns": null,
            "flex": null,
            "_model_name": "LayoutModel",
            "justify_items": null,
            "grid_row": null,
            "max_height": null,
            "align_content": null,
            "visibility": null,
            "align_self": null,
            "height": null,
            "min_height": null,
            "padding": null,
            "grid_auto_rows": null,
            "grid_gap": null,
            "max_width": null,
            "order": null,
            "_view_module_version": "1.2.0",
            "grid_template_areas": null,
            "object_position": null,
            "object_fit": null,
            "grid_auto_columns": null,
            "margin": null,
            "display": null,
            "left": null
          }
        },
        "2d836ab7f509487abf4b074b7898fa94": {
          "model_module": "@jupyter-widgets/controls",
          "model_name": "FloatProgressModel",
          "state": {
            "_view_name": "ProgressView",
            "style": "IPY_MODEL_482a799dbda742de89868153199c1255",
            "_dom_classes": [],
            "description": "#0: 100%",
            "_model_name": "FloatProgressModel",
            "bar_style": "success",
            "max": 8,
            "_view_module": "@jupyter-widgets/controls",
            "_model_module_version": "1.5.0",
            "value": 8,
            "_view_count": null,
            "_view_module_version": "1.5.0",
            "orientation": "horizontal",
            "min": 0,
            "description_tooltip": null,
            "_model_module": "@jupyter-widgets/controls",
            "layout": "IPY_MODEL_603ca623ba664304a3b2cdd80ed1604b"
          }
        },
        "0c275ab0798543e18ec7382daee04381": {
          "model_module": "@jupyter-widgets/controls",
          "model_name": "HTMLModel",
          "state": {
            "_view_name": "HTMLView",
            "style": "IPY_MODEL_88da941a393a408a9d93057cbf522a50",
            "_dom_classes": [],
            "description": "",
            "_model_name": "HTMLModel",
            "placeholder": "​",
            "_view_module": "@jupyter-widgets/controls",
            "_model_module_version": "1.5.0",
            "value": " 8/8 [00:04&lt;00:00,  1.79ba/s]",
            "_view_count": null,
            "_view_module_version": "1.5.0",
            "description_tooltip": null,
            "_model_module": "@jupyter-widgets/controls",
            "layout": "IPY_MODEL_c92502413c13464ea8f650c1bbb5972c"
          }
        },
        "482a799dbda742de89868153199c1255": {
          "model_module": "@jupyter-widgets/controls",
          "model_name": "ProgressStyleModel",
          "state": {
            "_view_name": "StyleView",
            "_model_name": "ProgressStyleModel",
            "description_width": "initial",
            "_view_module": "@jupyter-widgets/base",
            "_model_module_version": "1.5.0",
            "_view_count": null,
            "_view_module_version": "1.2.0",
            "bar_color": null,
            "_model_module": "@jupyter-widgets/controls"
          }
        },
        "603ca623ba664304a3b2cdd80ed1604b": {
          "model_module": "@jupyter-widgets/base",
          "model_name": "LayoutModel",
          "state": {
            "_view_name": "LayoutView",
            "grid_template_rows": null,
            "right": null,
            "justify_content": null,
            "_view_module": "@jupyter-widgets/base",
            "overflow": null,
            "_model_module_version": "1.2.0",
            "_view_count": null,
            "flex_flow": null,
            "width": null,
            "min_width": null,
            "border": null,
            "align_items": null,
            "bottom": null,
            "_model_module": "@jupyter-widgets/base",
            "top": null,
            "grid_column": null,
            "overflow_y": null,
            "overflow_x": null,
            "grid_auto_flow": null,
            "grid_area": null,
            "grid_template_columns": null,
            "flex": null,
            "_model_name": "LayoutModel",
            "justify_items": null,
            "grid_row": null,
            "max_height": null,
            "align_content": null,
            "visibility": null,
            "align_self": null,
            "height": null,
            "min_height": null,
            "padding": null,
            "grid_auto_rows": null,
            "grid_gap": null,
            "max_width": null,
            "order": null,
            "_view_module_version": "1.2.0",
            "grid_template_areas": null,
            "object_position": null,
            "object_fit": null,
            "grid_auto_columns": null,
            "margin": null,
            "display": null,
            "left": null
          }
        },
        "88da941a393a408a9d93057cbf522a50": {
          "model_module": "@jupyter-widgets/controls",
          "model_name": "DescriptionStyleModel",
          "state": {
            "_view_name": "StyleView",
            "_model_name": "DescriptionStyleModel",
            "description_width": "",
            "_view_module": "@jupyter-widgets/base",
            "_model_module_version": "1.5.0",
            "_view_count": null,
            "_view_module_version": "1.2.0",
            "_model_module": "@jupyter-widgets/controls"
          }
        },
        "c92502413c13464ea8f650c1bbb5972c": {
          "model_module": "@jupyter-widgets/base",
          "model_name": "LayoutModel",
          "state": {
            "_view_name": "LayoutView",
            "grid_template_rows": null,
            "right": null,
            "justify_content": null,
            "_view_module": "@jupyter-widgets/base",
            "overflow": null,
            "_model_module_version": "1.2.0",
            "_view_count": null,
            "flex_flow": null,
            "width": null,
            "min_width": null,
            "border": null,
            "align_items": null,
            "bottom": null,
            "_model_module": "@jupyter-widgets/base",
            "top": null,
            "grid_column": null,
            "overflow_y": null,
            "overflow_x": null,
            "grid_auto_flow": null,
            "grid_area": null,
            "grid_template_columns": null,
            "flex": null,
            "_model_name": "LayoutModel",
            "justify_items": null,
            "grid_row": null,
            "max_height": null,
            "align_content": null,
            "visibility": null,
            "align_self": null,
            "height": null,
            "min_height": null,
            "padding": null,
            "grid_auto_rows": null,
            "grid_gap": null,
            "max_width": null,
            "order": null,
            "_view_module_version": "1.2.0",
            "grid_template_areas": null,
            "object_position": null,
            "object_fit": null,
            "grid_auto_columns": null,
            "margin": null,
            "display": null,
            "left": null
          }
        },
        "169f6d47482645d5b136531d33aac1bb": {
          "model_module": "@jupyter-widgets/controls",
          "model_name": "HBoxModel",
          "state": {
            "_view_name": "HBoxView",
            "_dom_classes": [],
            "_model_name": "HBoxModel",
            "_view_module": "@jupyter-widgets/controls",
            "_model_module_version": "1.5.0",
            "_view_count": null,
            "_view_module_version": "1.5.0",
            "box_style": "",
            "layout": "IPY_MODEL_e5de63c901934080943e1139b5fd4a67",
            "_model_module": "@jupyter-widgets/controls",
            "children": [
              "IPY_MODEL_21e7c472d8e447ddb0db99b91157eafa",
              "IPY_MODEL_2a4a71ddcca1420e8359f18b85435434"
            ]
          }
        },
        "e5de63c901934080943e1139b5fd4a67": {
          "model_module": "@jupyter-widgets/base",
          "model_name": "LayoutModel",
          "state": {
            "_view_name": "LayoutView",
            "grid_template_rows": null,
            "right": null,
            "justify_content": null,
            "_view_module": "@jupyter-widgets/base",
            "overflow": null,
            "_model_module_version": "1.2.0",
            "_view_count": null,
            "flex_flow": null,
            "width": null,
            "min_width": null,
            "border": null,
            "align_items": null,
            "bottom": null,
            "_model_module": "@jupyter-widgets/base",
            "top": null,
            "grid_column": null,
            "overflow_y": null,
            "overflow_x": null,
            "grid_auto_flow": null,
            "grid_area": null,
            "grid_template_columns": null,
            "flex": null,
            "_model_name": "LayoutModel",
            "justify_items": null,
            "grid_row": null,
            "max_height": null,
            "align_content": null,
            "visibility": null,
            "align_self": null,
            "height": null,
            "min_height": null,
            "padding": null,
            "grid_auto_rows": null,
            "grid_gap": null,
            "max_width": null,
            "order": null,
            "_view_module_version": "1.2.0",
            "grid_template_areas": null,
            "object_position": null,
            "object_fit": null,
            "grid_auto_columns": null,
            "margin": null,
            "display": null,
            "left": null
          }
        },
        "21e7c472d8e447ddb0db99b91157eafa": {
          "model_module": "@jupyter-widgets/controls",
          "model_name": "FloatProgressModel",
          "state": {
            "_view_name": "ProgressView",
            "style": "IPY_MODEL_6544a490a62a49f6a2807ec8e9c31c61",
            "_dom_classes": [],
            "description": "#1: 100%",
            "_model_name": "FloatProgressModel",
            "bar_style": "success",
            "max": 8,
            "_view_module": "@jupyter-widgets/controls",
            "_model_module_version": "1.5.0",
            "value": 8,
            "_view_count": null,
            "_view_module_version": "1.5.0",
            "orientation": "horizontal",
            "min": 0,
            "description_tooltip": null,
            "_model_module": "@jupyter-widgets/controls",
            "layout": "IPY_MODEL_025bfc588fcc4ecfb607e5d45e193e6f"
          }
        },
        "2a4a71ddcca1420e8359f18b85435434": {
          "model_module": "@jupyter-widgets/controls",
          "model_name": "HTMLModel",
          "state": {
            "_view_name": "HTMLView",
            "style": "IPY_MODEL_7a86ddffaf5f4182b6b1eeaca79203cb",
            "_dom_classes": [],
            "description": "",
            "_model_name": "HTMLModel",
            "placeholder": "​",
            "_view_module": "@jupyter-widgets/controls",
            "_model_module_version": "1.5.0",
            "value": " 8/8 [00:04&lt;00:00,  1.84ba/s]",
            "_view_count": null,
            "_view_module_version": "1.5.0",
            "description_tooltip": null,
            "_model_module": "@jupyter-widgets/controls",
            "layout": "IPY_MODEL_8f21af8060244d98b8c3250a785924ac"
          }
        },
        "6544a490a62a49f6a2807ec8e9c31c61": {
          "model_module": "@jupyter-widgets/controls",
          "model_name": "ProgressStyleModel",
          "state": {
            "_view_name": "StyleView",
            "_model_name": "ProgressStyleModel",
            "description_width": "initial",
            "_view_module": "@jupyter-widgets/base",
            "_model_module_version": "1.5.0",
            "_view_count": null,
            "_view_module_version": "1.2.0",
            "bar_color": null,
            "_model_module": "@jupyter-widgets/controls"
          }
        },
        "025bfc588fcc4ecfb607e5d45e193e6f": {
          "model_module": "@jupyter-widgets/base",
          "model_name": "LayoutModel",
          "state": {
            "_view_name": "LayoutView",
            "grid_template_rows": null,
            "right": null,
            "justify_content": null,
            "_view_module": "@jupyter-widgets/base",
            "overflow": null,
            "_model_module_version": "1.2.0",
            "_view_count": null,
            "flex_flow": null,
            "width": null,
            "min_width": null,
            "border": null,
            "align_items": null,
            "bottom": null,
            "_model_module": "@jupyter-widgets/base",
            "top": null,
            "grid_column": null,
            "overflow_y": null,
            "overflow_x": null,
            "grid_auto_flow": null,
            "grid_area": null,
            "grid_template_columns": null,
            "flex": null,
            "_model_name": "LayoutModel",
            "justify_items": null,
            "grid_row": null,
            "max_height": null,
            "align_content": null,
            "visibility": null,
            "align_self": null,
            "height": null,
            "min_height": null,
            "padding": null,
            "grid_auto_rows": null,
            "grid_gap": null,
            "max_width": null,
            "order": null,
            "_view_module_version": "1.2.0",
            "grid_template_areas": null,
            "object_position": null,
            "object_fit": null,
            "grid_auto_columns": null,
            "margin": null,
            "display": null,
            "left": null
          }
        },
        "7a86ddffaf5f4182b6b1eeaca79203cb": {
          "model_module": "@jupyter-widgets/controls",
          "model_name": "DescriptionStyleModel",
          "state": {
            "_view_name": "StyleView",
            "_model_name": "DescriptionStyleModel",
            "description_width": "",
            "_view_module": "@jupyter-widgets/base",
            "_model_module_version": "1.5.0",
            "_view_count": null,
            "_view_module_version": "1.2.0",
            "_model_module": "@jupyter-widgets/controls"
          }
        },
        "8f21af8060244d98b8c3250a785924ac": {
          "model_module": "@jupyter-widgets/base",
          "model_name": "LayoutModel",
          "state": {
            "_view_name": "LayoutView",
            "grid_template_rows": null,
            "right": null,
            "justify_content": null,
            "_view_module": "@jupyter-widgets/base",
            "overflow": null,
            "_model_module_version": "1.2.0",
            "_view_count": null,
            "flex_flow": null,
            "width": null,
            "min_width": null,
            "border": null,
            "align_items": null,
            "bottom": null,
            "_model_module": "@jupyter-widgets/base",
            "top": null,
            "grid_column": null,
            "overflow_y": null,
            "overflow_x": null,
            "grid_auto_flow": null,
            "grid_area": null,
            "grid_template_columns": null,
            "flex": null,
            "_model_name": "LayoutModel",
            "justify_items": null,
            "grid_row": null,
            "max_height": null,
            "align_content": null,
            "visibility": null,
            "align_self": null,
            "height": null,
            "min_height": null,
            "padding": null,
            "grid_auto_rows": null,
            "grid_gap": null,
            "max_width": null,
            "order": null,
            "_view_module_version": "1.2.0",
            "grid_template_areas": null,
            "object_position": null,
            "object_fit": null,
            "grid_auto_columns": null,
            "margin": null,
            "display": null,
            "left": null
          }
        },
        "aab004a867eb4e41a32676062db67b5d": {
          "model_module": "@jupyter-widgets/controls",
          "model_name": "HBoxModel",
          "state": {
            "_view_name": "HBoxView",
            "_dom_classes": [],
            "_model_name": "HBoxModel",
            "_view_module": "@jupyter-widgets/controls",
            "_model_module_version": "1.5.0",
            "_view_count": null,
            "_view_module_version": "1.5.0",
            "box_style": "",
            "layout": "IPY_MODEL_a4510a0b4ed6407ba5d2194db4c59219",
            "_model_module": "@jupyter-widgets/controls",
            "children": [
              "IPY_MODEL_306c0809ca2245bd9282fbf80ef968dd",
              "IPY_MODEL_9c33f8ebca31446aa101dced5042fed0"
            ]
          }
        },
        "a4510a0b4ed6407ba5d2194db4c59219": {
          "model_module": "@jupyter-widgets/base",
          "model_name": "LayoutModel",
          "state": {
            "_view_name": "LayoutView",
            "grid_template_rows": null,
            "right": null,
            "justify_content": null,
            "_view_module": "@jupyter-widgets/base",
            "overflow": null,
            "_model_module_version": "1.2.0",
            "_view_count": null,
            "flex_flow": null,
            "width": null,
            "min_width": null,
            "border": null,
            "align_items": null,
            "bottom": null,
            "_model_module": "@jupyter-widgets/base",
            "top": null,
            "grid_column": null,
            "overflow_y": null,
            "overflow_x": null,
            "grid_auto_flow": null,
            "grid_area": null,
            "grid_template_columns": null,
            "flex": null,
            "_model_name": "LayoutModel",
            "justify_items": null,
            "grid_row": null,
            "max_height": null,
            "align_content": null,
            "visibility": null,
            "align_self": null,
            "height": null,
            "min_height": null,
            "padding": null,
            "grid_auto_rows": null,
            "grid_gap": null,
            "max_width": null,
            "order": null,
            "_view_module_version": "1.2.0",
            "grid_template_areas": null,
            "object_position": null,
            "object_fit": null,
            "grid_auto_columns": null,
            "margin": null,
            "display": null,
            "left": null
          }
        },
        "306c0809ca2245bd9282fbf80ef968dd": {
          "model_module": "@jupyter-widgets/controls",
          "model_name": "FloatProgressModel",
          "state": {
            "_view_name": "ProgressView",
            "style": "IPY_MODEL_0062c224dee34c55b0d031338a428fa7",
            "_dom_classes": [],
            "description": "#3: 100%",
            "_model_name": "FloatProgressModel",
            "bar_style": "success",
            "max": 8,
            "_view_module": "@jupyter-widgets/controls",
            "_model_module_version": "1.5.0",
            "value": 8,
            "_view_count": null,
            "_view_module_version": "1.5.0",
            "orientation": "horizontal",
            "min": 0,
            "description_tooltip": null,
            "_model_module": "@jupyter-widgets/controls",
            "layout": "IPY_MODEL_1aa414579cbd48feb8c37106b485dfbe"
          }
        },
        "9c33f8ebca31446aa101dced5042fed0": {
          "model_module": "@jupyter-widgets/controls",
          "model_name": "HTMLModel",
          "state": {
            "_view_name": "HTMLView",
            "style": "IPY_MODEL_167834fafb494b6cb2d452e45db1469f",
            "_dom_classes": [],
            "description": "",
            "_model_name": "HTMLModel",
            "placeholder": "​",
            "_view_module": "@jupyter-widgets/controls",
            "_model_module_version": "1.5.0",
            "value": " 8/8 [00:04&lt;00:00,  1.85ba/s]",
            "_view_count": null,
            "_view_module_version": "1.5.0",
            "description_tooltip": null,
            "_model_module": "@jupyter-widgets/controls",
            "layout": "IPY_MODEL_f7e02230c454498fa7d7f791f6e86fa4"
          }
        },
        "0062c224dee34c55b0d031338a428fa7": {
          "model_module": "@jupyter-widgets/controls",
          "model_name": "ProgressStyleModel",
          "state": {
            "_view_name": "StyleView",
            "_model_name": "ProgressStyleModel",
            "description_width": "initial",
            "_view_module": "@jupyter-widgets/base",
            "_model_module_version": "1.5.0",
            "_view_count": null,
            "_view_module_version": "1.2.0",
            "bar_color": null,
            "_model_module": "@jupyter-widgets/controls"
          }
        },
        "1aa414579cbd48feb8c37106b485dfbe": {
          "model_module": "@jupyter-widgets/base",
          "model_name": "LayoutModel",
          "state": {
            "_view_name": "LayoutView",
            "grid_template_rows": null,
            "right": null,
            "justify_content": null,
            "_view_module": "@jupyter-widgets/base",
            "overflow": null,
            "_model_module_version": "1.2.0",
            "_view_count": null,
            "flex_flow": null,
            "width": null,
            "min_width": null,
            "border": null,
            "align_items": null,
            "bottom": null,
            "_model_module": "@jupyter-widgets/base",
            "top": null,
            "grid_column": null,
            "overflow_y": null,
            "overflow_x": null,
            "grid_auto_flow": null,
            "grid_area": null,
            "grid_template_columns": null,
            "flex": null,
            "_model_name": "LayoutModel",
            "justify_items": null,
            "grid_row": null,
            "max_height": null,
            "align_content": null,
            "visibility": null,
            "align_self": null,
            "height": null,
            "min_height": null,
            "padding": null,
            "grid_auto_rows": null,
            "grid_gap": null,
            "max_width": null,
            "order": null,
            "_view_module_version": "1.2.0",
            "grid_template_areas": null,
            "object_position": null,
            "object_fit": null,
            "grid_auto_columns": null,
            "margin": null,
            "display": null,
            "left": null
          }
        },
        "167834fafb494b6cb2d452e45db1469f": {
          "model_module": "@jupyter-widgets/controls",
          "model_name": "DescriptionStyleModel",
          "state": {
            "_view_name": "StyleView",
            "_model_name": "DescriptionStyleModel",
            "description_width": "",
            "_view_module": "@jupyter-widgets/base",
            "_model_module_version": "1.5.0",
            "_view_count": null,
            "_view_module_version": "1.2.0",
            "_model_module": "@jupyter-widgets/controls"
          }
        },
        "f7e02230c454498fa7d7f791f6e86fa4": {
          "model_module": "@jupyter-widgets/base",
          "model_name": "LayoutModel",
          "state": {
            "_view_name": "LayoutView",
            "grid_template_rows": null,
            "right": null,
            "justify_content": null,
            "_view_module": "@jupyter-widgets/base",
            "overflow": null,
            "_model_module_version": "1.2.0",
            "_view_count": null,
            "flex_flow": null,
            "width": null,
            "min_width": null,
            "border": null,
            "align_items": null,
            "bottom": null,
            "_model_module": "@jupyter-widgets/base",
            "top": null,
            "grid_column": null,
            "overflow_y": null,
            "overflow_x": null,
            "grid_auto_flow": null,
            "grid_area": null,
            "grid_template_columns": null,
            "flex": null,
            "_model_name": "LayoutModel",
            "justify_items": null,
            "grid_row": null,
            "max_height": null,
            "align_content": null,
            "visibility": null,
            "align_self": null,
            "height": null,
            "min_height": null,
            "padding": null,
            "grid_auto_rows": null,
            "grid_gap": null,
            "max_width": null,
            "order": null,
            "_view_module_version": "1.2.0",
            "grid_template_areas": null,
            "object_position": null,
            "object_fit": null,
            "grid_auto_columns": null,
            "margin": null,
            "display": null,
            "left": null
          }
        },
        "99e7ce4d03a241739bf08867a1be69de": {
          "model_module": "@jupyter-widgets/controls",
          "model_name": "HBoxModel",
          "state": {
            "_view_name": "HBoxView",
            "_dom_classes": [],
            "_model_name": "HBoxModel",
            "_view_module": "@jupyter-widgets/controls",
            "_model_module_version": "1.5.0",
            "_view_count": null,
            "_view_module_version": "1.5.0",
            "box_style": "",
            "layout": "IPY_MODEL_560fa5d1ba194eb084973d654053b6bb",
            "_model_module": "@jupyter-widgets/controls",
            "children": [
              "IPY_MODEL_0a1701f23e104c748dfc7b40318ff868",
              "IPY_MODEL_e83923dac6c741a1b2bf3ce3739305af"
            ]
          }
        },
        "560fa5d1ba194eb084973d654053b6bb": {
          "model_module": "@jupyter-widgets/base",
          "model_name": "LayoutModel",
          "state": {
            "_view_name": "LayoutView",
            "grid_template_rows": null,
            "right": null,
            "justify_content": null,
            "_view_module": "@jupyter-widgets/base",
            "overflow": null,
            "_model_module_version": "1.2.0",
            "_view_count": null,
            "flex_flow": null,
            "width": null,
            "min_width": null,
            "border": null,
            "align_items": null,
            "bottom": null,
            "_model_module": "@jupyter-widgets/base",
            "top": null,
            "grid_column": null,
            "overflow_y": null,
            "overflow_x": null,
            "grid_auto_flow": null,
            "grid_area": null,
            "grid_template_columns": null,
            "flex": null,
            "_model_name": "LayoutModel",
            "justify_items": null,
            "grid_row": null,
            "max_height": null,
            "align_content": null,
            "visibility": null,
            "align_self": null,
            "height": null,
            "min_height": null,
            "padding": null,
            "grid_auto_rows": null,
            "grid_gap": null,
            "max_width": null,
            "order": null,
            "_view_module_version": "1.2.0",
            "grid_template_areas": null,
            "object_position": null,
            "object_fit": null,
            "grid_auto_columns": null,
            "margin": null,
            "display": null,
            "left": null
          }
        },
        "0a1701f23e104c748dfc7b40318ff868": {
          "model_module": "@jupyter-widgets/controls",
          "model_name": "FloatProgressModel",
          "state": {
            "_view_name": "ProgressView",
            "style": "IPY_MODEL_bca0d57e36f243c594239f258c75f6a1",
            "_dom_classes": [],
            "description": "#2: 100%",
            "_model_name": "FloatProgressModel",
            "bar_style": "success",
            "max": 8,
            "_view_module": "@jupyter-widgets/controls",
            "_model_module_version": "1.5.0",
            "value": 8,
            "_view_count": null,
            "_view_module_version": "1.5.0",
            "orientation": "horizontal",
            "min": 0,
            "description_tooltip": null,
            "_model_module": "@jupyter-widgets/controls",
            "layout": "IPY_MODEL_70015cad7c40437889957a7d73af3e85"
          }
        },
        "e83923dac6c741a1b2bf3ce3739305af": {
          "model_module": "@jupyter-widgets/controls",
          "model_name": "HTMLModel",
          "state": {
            "_view_name": "HTMLView",
            "style": "IPY_MODEL_c376a0955b3246b69539acc60932b736",
            "_dom_classes": [],
            "description": "",
            "_model_name": "HTMLModel",
            "placeholder": "​",
            "_view_module": "@jupyter-widgets/controls",
            "_model_module_version": "1.5.0",
            "value": " 8/8 [00:04&lt;00:00,  1.96ba/s]",
            "_view_count": null,
            "_view_module_version": "1.5.0",
            "description_tooltip": null,
            "_model_module": "@jupyter-widgets/controls",
            "layout": "IPY_MODEL_3a3bd0ab2d8b413e8b790c74dada96df"
          }
        },
        "bca0d57e36f243c594239f258c75f6a1": {
          "model_module": "@jupyter-widgets/controls",
          "model_name": "ProgressStyleModel",
          "state": {
            "_view_name": "StyleView",
            "_model_name": "ProgressStyleModel",
            "description_width": "initial",
            "_view_module": "@jupyter-widgets/base",
            "_model_module_version": "1.5.0",
            "_view_count": null,
            "_view_module_version": "1.2.0",
            "bar_color": null,
            "_model_module": "@jupyter-widgets/controls"
          }
        },
        "70015cad7c40437889957a7d73af3e85": {
          "model_module": "@jupyter-widgets/base",
          "model_name": "LayoutModel",
          "state": {
            "_view_name": "LayoutView",
            "grid_template_rows": null,
            "right": null,
            "justify_content": null,
            "_view_module": "@jupyter-widgets/base",
            "overflow": null,
            "_model_module_version": "1.2.0",
            "_view_count": null,
            "flex_flow": null,
            "width": null,
            "min_width": null,
            "border": null,
            "align_items": null,
            "bottom": null,
            "_model_module": "@jupyter-widgets/base",
            "top": null,
            "grid_column": null,
            "overflow_y": null,
            "overflow_x": null,
            "grid_auto_flow": null,
            "grid_area": null,
            "grid_template_columns": null,
            "flex": null,
            "_model_name": "LayoutModel",
            "justify_items": null,
            "grid_row": null,
            "max_height": null,
            "align_content": null,
            "visibility": null,
            "align_self": null,
            "height": null,
            "min_height": null,
            "padding": null,
            "grid_auto_rows": null,
            "grid_gap": null,
            "max_width": null,
            "order": null,
            "_view_module_version": "1.2.0",
            "grid_template_areas": null,
            "object_position": null,
            "object_fit": null,
            "grid_auto_columns": null,
            "margin": null,
            "display": null,
            "left": null
          }
        },
        "c376a0955b3246b69539acc60932b736": {
          "model_module": "@jupyter-widgets/controls",
          "model_name": "DescriptionStyleModel",
          "state": {
            "_view_name": "StyleView",
            "_model_name": "DescriptionStyleModel",
            "description_width": "",
            "_view_module": "@jupyter-widgets/base",
            "_model_module_version": "1.5.0",
            "_view_count": null,
            "_view_module_version": "1.2.0",
            "_model_module": "@jupyter-widgets/controls"
          }
        },
        "3a3bd0ab2d8b413e8b790c74dada96df": {
          "model_module": "@jupyter-widgets/base",
          "model_name": "LayoutModel",
          "state": {
            "_view_name": "LayoutView",
            "grid_template_rows": null,
            "right": null,
            "justify_content": null,
            "_view_module": "@jupyter-widgets/base",
            "overflow": null,
            "_model_module_version": "1.2.0",
            "_view_count": null,
            "flex_flow": null,
            "width": null,
            "min_width": null,
            "border": null,
            "align_items": null,
            "bottom": null,
            "_model_module": "@jupyter-widgets/base",
            "top": null,
            "grid_column": null,
            "overflow_y": null,
            "overflow_x": null,
            "grid_auto_flow": null,
            "grid_area": null,
            "grid_template_columns": null,
            "flex": null,
            "_model_name": "LayoutModel",
            "justify_items": null,
            "grid_row": null,
            "max_height": null,
            "align_content": null,
            "visibility": null,
            "align_self": null,
            "height": null,
            "min_height": null,
            "padding": null,
            "grid_auto_rows": null,
            "grid_gap": null,
            "max_width": null,
            "order": null,
            "_view_module_version": "1.2.0",
            "grid_template_areas": null,
            "object_position": null,
            "object_fit": null,
            "grid_auto_columns": null,
            "margin": null,
            "display": null,
            "left": null
          }
        },
        "ac58194171f1477cab19ae0a524c51fd": {
          "model_module": "@jupyter-widgets/controls",
          "model_name": "HBoxModel",
          "state": {
            "_view_name": "HBoxView",
            "_dom_classes": [],
            "_model_name": "HBoxModel",
            "_view_module": "@jupyter-widgets/controls",
            "_model_module_version": "1.5.0",
            "_view_count": null,
            "_view_module_version": "1.5.0",
            "box_style": "",
            "layout": "IPY_MODEL_162bb07e4d144fedbcc7867d27c451c5",
            "_model_module": "@jupyter-widgets/controls",
            "children": [
              "IPY_MODEL_3486052569b5448b931282087a0e3f17",
              "IPY_MODEL_f7d5d47941a84588afe05c72fc8d0825"
            ]
          }
        },
        "162bb07e4d144fedbcc7867d27c451c5": {
          "model_module": "@jupyter-widgets/base",
          "model_name": "LayoutModel",
          "state": {
            "_view_name": "LayoutView",
            "grid_template_rows": null,
            "right": null,
            "justify_content": null,
            "_view_module": "@jupyter-widgets/base",
            "overflow": null,
            "_model_module_version": "1.2.0",
            "_view_count": null,
            "flex_flow": null,
            "width": null,
            "min_width": null,
            "border": null,
            "align_items": null,
            "bottom": null,
            "_model_module": "@jupyter-widgets/base",
            "top": null,
            "grid_column": null,
            "overflow_y": null,
            "overflow_x": null,
            "grid_auto_flow": null,
            "grid_area": null,
            "grid_template_columns": null,
            "flex": null,
            "_model_name": "LayoutModel",
            "justify_items": null,
            "grid_row": null,
            "max_height": null,
            "align_content": null,
            "visibility": null,
            "align_self": null,
            "height": null,
            "min_height": null,
            "padding": null,
            "grid_auto_rows": null,
            "grid_gap": null,
            "max_width": null,
            "order": null,
            "_view_module_version": "1.2.0",
            "grid_template_areas": null,
            "object_position": null,
            "object_fit": null,
            "grid_auto_columns": null,
            "margin": null,
            "display": null,
            "left": null
          }
        },
        "3486052569b5448b931282087a0e3f17": {
          "model_module": "@jupyter-widgets/controls",
          "model_name": "FloatProgressModel",
          "state": {
            "_view_name": "ProgressView",
            "style": "IPY_MODEL_85533dc9c401428dae01db46c1ea3ad1",
            "_dom_classes": [],
            "description": "#1: 100%",
            "_model_name": "FloatProgressModel",
            "bar_style": "success",
            "max": 4,
            "_view_module": "@jupyter-widgets/controls",
            "_model_module_version": "1.5.0",
            "value": 4,
            "_view_count": null,
            "_view_module_version": "1.5.0",
            "orientation": "horizontal",
            "min": 0,
            "description_tooltip": null,
            "_model_module": "@jupyter-widgets/controls",
            "layout": "IPY_MODEL_2094b4b9e4a94f0697f4090f45751f09"
          }
        },
        "f7d5d47941a84588afe05c72fc8d0825": {
          "model_module": "@jupyter-widgets/controls",
          "model_name": "HTMLModel",
          "state": {
            "_view_name": "HTMLView",
            "style": "IPY_MODEL_1528fa8ab0ee43aaa2a56c18972e9a54",
            "_dom_classes": [],
            "description": "",
            "_model_name": "HTMLModel",
            "placeholder": "​",
            "_view_module": "@jupyter-widgets/controls",
            "_model_module_version": "1.5.0",
            "value": " 4/4 [00:02&lt;00:00,  1.98ba/s]",
            "_view_count": null,
            "_view_module_version": "1.5.0",
            "description_tooltip": null,
            "_model_module": "@jupyter-widgets/controls",
            "layout": "IPY_MODEL_62eeec21c9d144d58ead67b9abeb35f3"
          }
        },
        "85533dc9c401428dae01db46c1ea3ad1": {
          "model_module": "@jupyter-widgets/controls",
          "model_name": "ProgressStyleModel",
          "state": {
            "_view_name": "StyleView",
            "_model_name": "ProgressStyleModel",
            "description_width": "initial",
            "_view_module": "@jupyter-widgets/base",
            "_model_module_version": "1.5.0",
            "_view_count": null,
            "_view_module_version": "1.2.0",
            "bar_color": null,
            "_model_module": "@jupyter-widgets/controls"
          }
        },
        "2094b4b9e4a94f0697f4090f45751f09": {
          "model_module": "@jupyter-widgets/base",
          "model_name": "LayoutModel",
          "state": {
            "_view_name": "LayoutView",
            "grid_template_rows": null,
            "right": null,
            "justify_content": null,
            "_view_module": "@jupyter-widgets/base",
            "overflow": null,
            "_model_module_version": "1.2.0",
            "_view_count": null,
            "flex_flow": null,
            "width": null,
            "min_width": null,
            "border": null,
            "align_items": null,
            "bottom": null,
            "_model_module": "@jupyter-widgets/base",
            "top": null,
            "grid_column": null,
            "overflow_y": null,
            "overflow_x": null,
            "grid_auto_flow": null,
            "grid_area": null,
            "grid_template_columns": null,
            "flex": null,
            "_model_name": "LayoutModel",
            "justify_items": null,
            "grid_row": null,
            "max_height": null,
            "align_content": null,
            "visibility": null,
            "align_self": null,
            "height": null,
            "min_height": null,
            "padding": null,
            "grid_auto_rows": null,
            "grid_gap": null,
            "max_width": null,
            "order": null,
            "_view_module_version": "1.2.0",
            "grid_template_areas": null,
            "object_position": null,
            "object_fit": null,
            "grid_auto_columns": null,
            "margin": null,
            "display": null,
            "left": null
          }
        },
        "1528fa8ab0ee43aaa2a56c18972e9a54": {
          "model_module": "@jupyter-widgets/controls",
          "model_name": "DescriptionStyleModel",
          "state": {
            "_view_name": "StyleView",
            "_model_name": "DescriptionStyleModel",
            "description_width": "",
            "_view_module": "@jupyter-widgets/base",
            "_model_module_version": "1.5.0",
            "_view_count": null,
            "_view_module_version": "1.2.0",
            "_model_module": "@jupyter-widgets/controls"
          }
        },
        "62eeec21c9d144d58ead67b9abeb35f3": {
          "model_module": "@jupyter-widgets/base",
          "model_name": "LayoutModel",
          "state": {
            "_view_name": "LayoutView",
            "grid_template_rows": null,
            "right": null,
            "justify_content": null,
            "_view_module": "@jupyter-widgets/base",
            "overflow": null,
            "_model_module_version": "1.2.0",
            "_view_count": null,
            "flex_flow": null,
            "width": null,
            "min_width": null,
            "border": null,
            "align_items": null,
            "bottom": null,
            "_model_module": "@jupyter-widgets/base",
            "top": null,
            "grid_column": null,
            "overflow_y": null,
            "overflow_x": null,
            "grid_auto_flow": null,
            "grid_area": null,
            "grid_template_columns": null,
            "flex": null,
            "_model_name": "LayoutModel",
            "justify_items": null,
            "grid_row": null,
            "max_height": null,
            "align_content": null,
            "visibility": null,
            "align_self": null,
            "height": null,
            "min_height": null,
            "padding": null,
            "grid_auto_rows": null,
            "grid_gap": null,
            "max_width": null,
            "order": null,
            "_view_module_version": "1.2.0",
            "grid_template_areas": null,
            "object_position": null,
            "object_fit": null,
            "grid_auto_columns": null,
            "margin": null,
            "display": null,
            "left": null
          }
        },
        "8fb4549c66104d2ebe7e0530eeebebba": {
          "model_module": "@jupyter-widgets/controls",
          "model_name": "HBoxModel",
          "state": {
            "_view_name": "HBoxView",
            "_dom_classes": [],
            "_model_name": "HBoxModel",
            "_view_module": "@jupyter-widgets/controls",
            "_model_module_version": "1.5.0",
            "_view_count": null,
            "_view_module_version": "1.5.0",
            "box_style": "",
            "layout": "IPY_MODEL_75fc854da5ab4cf7aa3c840cbab97383",
            "_model_module": "@jupyter-widgets/controls",
            "children": [
              "IPY_MODEL_07b1e653d5eb4a5f9dbab9c5f1a26e75",
              "IPY_MODEL_b1de0081b64d469d815e2a2f3630b2cf"
            ]
          }
        },
        "75fc854da5ab4cf7aa3c840cbab97383": {
          "model_module": "@jupyter-widgets/base",
          "model_name": "LayoutModel",
          "state": {
            "_view_name": "LayoutView",
            "grid_template_rows": null,
            "right": null,
            "justify_content": null,
            "_view_module": "@jupyter-widgets/base",
            "overflow": null,
            "_model_module_version": "1.2.0",
            "_view_count": null,
            "flex_flow": null,
            "width": null,
            "min_width": null,
            "border": null,
            "align_items": null,
            "bottom": null,
            "_model_module": "@jupyter-widgets/base",
            "top": null,
            "grid_column": null,
            "overflow_y": null,
            "overflow_x": null,
            "grid_auto_flow": null,
            "grid_area": null,
            "grid_template_columns": null,
            "flex": null,
            "_model_name": "LayoutModel",
            "justify_items": null,
            "grid_row": null,
            "max_height": null,
            "align_content": null,
            "visibility": null,
            "align_self": null,
            "height": null,
            "min_height": null,
            "padding": null,
            "grid_auto_rows": null,
            "grid_gap": null,
            "max_width": null,
            "order": null,
            "_view_module_version": "1.2.0",
            "grid_template_areas": null,
            "object_position": null,
            "object_fit": null,
            "grid_auto_columns": null,
            "margin": null,
            "display": null,
            "left": null
          }
        },
        "07b1e653d5eb4a5f9dbab9c5f1a26e75": {
          "model_module": "@jupyter-widgets/controls",
          "model_name": "FloatProgressModel",
          "state": {
            "_view_name": "ProgressView",
            "style": "IPY_MODEL_4623a1f97e16470a903eba462d1b0bc7",
            "_dom_classes": [],
            "description": "#0: 100%",
            "_model_name": "FloatProgressModel",
            "bar_style": "success",
            "max": 4,
            "_view_module": "@jupyter-widgets/controls",
            "_model_module_version": "1.5.0",
            "value": 4,
            "_view_count": null,
            "_view_module_version": "1.5.0",
            "orientation": "horizontal",
            "min": 0,
            "description_tooltip": null,
            "_model_module": "@jupyter-widgets/controls",
            "layout": "IPY_MODEL_93ebfaa57f754b259088a0560ebbbc62"
          }
        },
        "b1de0081b64d469d815e2a2f3630b2cf": {
          "model_module": "@jupyter-widgets/controls",
          "model_name": "HTMLModel",
          "state": {
            "_view_name": "HTMLView",
            "style": "IPY_MODEL_d5195ded68bf460aa578629e38b09313",
            "_dom_classes": [],
            "description": "",
            "_model_name": "HTMLModel",
            "placeholder": "​",
            "_view_module": "@jupyter-widgets/controls",
            "_model_module_version": "1.5.0",
            "value": " 4/4 [00:01&lt;00:00,  2.04ba/s]",
            "_view_count": null,
            "_view_module_version": "1.5.0",
            "description_tooltip": null,
            "_model_module": "@jupyter-widgets/controls",
            "layout": "IPY_MODEL_595ab1bcac8345248d73d7a3e2fdfd57"
          }
        },
        "4623a1f97e16470a903eba462d1b0bc7": {
          "model_module": "@jupyter-widgets/controls",
          "model_name": "ProgressStyleModel",
          "state": {
            "_view_name": "StyleView",
            "_model_name": "ProgressStyleModel",
            "description_width": "initial",
            "_view_module": "@jupyter-widgets/base",
            "_model_module_version": "1.5.0",
            "_view_count": null,
            "_view_module_version": "1.2.0",
            "bar_color": null,
            "_model_module": "@jupyter-widgets/controls"
          }
        },
        "93ebfaa57f754b259088a0560ebbbc62": {
          "model_module": "@jupyter-widgets/base",
          "model_name": "LayoutModel",
          "state": {
            "_view_name": "LayoutView",
            "grid_template_rows": null,
            "right": null,
            "justify_content": null,
            "_view_module": "@jupyter-widgets/base",
            "overflow": null,
            "_model_module_version": "1.2.0",
            "_view_count": null,
            "flex_flow": null,
            "width": null,
            "min_width": null,
            "border": null,
            "align_items": null,
            "bottom": null,
            "_model_module": "@jupyter-widgets/base",
            "top": null,
            "grid_column": null,
            "overflow_y": null,
            "overflow_x": null,
            "grid_auto_flow": null,
            "grid_area": null,
            "grid_template_columns": null,
            "flex": null,
            "_model_name": "LayoutModel",
            "justify_items": null,
            "grid_row": null,
            "max_height": null,
            "align_content": null,
            "visibility": null,
            "align_self": null,
            "height": null,
            "min_height": null,
            "padding": null,
            "grid_auto_rows": null,
            "grid_gap": null,
            "max_width": null,
            "order": null,
            "_view_module_version": "1.2.0",
            "grid_template_areas": null,
            "object_position": null,
            "object_fit": null,
            "grid_auto_columns": null,
            "margin": null,
            "display": null,
            "left": null
          }
        },
        "d5195ded68bf460aa578629e38b09313": {
          "model_module": "@jupyter-widgets/controls",
          "model_name": "DescriptionStyleModel",
          "state": {
            "_view_name": "StyleView",
            "_model_name": "DescriptionStyleModel",
            "description_width": "",
            "_view_module": "@jupyter-widgets/base",
            "_model_module_version": "1.5.0",
            "_view_count": null,
            "_view_module_version": "1.2.0",
            "_model_module": "@jupyter-widgets/controls"
          }
        },
        "595ab1bcac8345248d73d7a3e2fdfd57": {
          "model_module": "@jupyter-widgets/base",
          "model_name": "LayoutModel",
          "state": {
            "_view_name": "LayoutView",
            "grid_template_rows": null,
            "right": null,
            "justify_content": null,
            "_view_module": "@jupyter-widgets/base",
            "overflow": null,
            "_model_module_version": "1.2.0",
            "_view_count": null,
            "flex_flow": null,
            "width": null,
            "min_width": null,
            "border": null,
            "align_items": null,
            "bottom": null,
            "_model_module": "@jupyter-widgets/base",
            "top": null,
            "grid_column": null,
            "overflow_y": null,
            "overflow_x": null,
            "grid_auto_flow": null,
            "grid_area": null,
            "grid_template_columns": null,
            "flex": null,
            "_model_name": "LayoutModel",
            "justify_items": null,
            "grid_row": null,
            "max_height": null,
            "align_content": null,
            "visibility": null,
            "align_self": null,
            "height": null,
            "min_height": null,
            "padding": null,
            "grid_auto_rows": null,
            "grid_gap": null,
            "max_width": null,
            "order": null,
            "_view_module_version": "1.2.0",
            "grid_template_areas": null,
            "object_position": null,
            "object_fit": null,
            "grid_auto_columns": null,
            "margin": null,
            "display": null,
            "left": null
          }
        },
        "c177d33b424946c884623b897c18da49": {
          "model_module": "@jupyter-widgets/controls",
          "model_name": "HBoxModel",
          "state": {
            "_view_name": "HBoxView",
            "_dom_classes": [],
            "_model_name": "HBoxModel",
            "_view_module": "@jupyter-widgets/controls",
            "_model_module_version": "1.5.0",
            "_view_count": null,
            "_view_module_version": "1.5.0",
            "box_style": "",
            "layout": "IPY_MODEL_a011193a4a65478cbcb44257a3b41e67",
            "_model_module": "@jupyter-widgets/controls",
            "children": [
              "IPY_MODEL_69e5778b35fa4c6997890800b0e1c3a8",
              "IPY_MODEL_4812a51e200849168c1845c8c42e2af8"
            ]
          }
        },
        "a011193a4a65478cbcb44257a3b41e67": {
          "model_module": "@jupyter-widgets/base",
          "model_name": "LayoutModel",
          "state": {
            "_view_name": "LayoutView",
            "grid_template_rows": null,
            "right": null,
            "justify_content": null,
            "_view_module": "@jupyter-widgets/base",
            "overflow": null,
            "_model_module_version": "1.2.0",
            "_view_count": null,
            "flex_flow": null,
            "width": null,
            "min_width": null,
            "border": null,
            "align_items": null,
            "bottom": null,
            "_model_module": "@jupyter-widgets/base",
            "top": null,
            "grid_column": null,
            "overflow_y": null,
            "overflow_x": null,
            "grid_auto_flow": null,
            "grid_area": null,
            "grid_template_columns": null,
            "flex": null,
            "_model_name": "LayoutModel",
            "justify_items": null,
            "grid_row": null,
            "max_height": null,
            "align_content": null,
            "visibility": null,
            "align_self": null,
            "height": null,
            "min_height": null,
            "padding": null,
            "grid_auto_rows": null,
            "grid_gap": null,
            "max_width": null,
            "order": null,
            "_view_module_version": "1.2.0",
            "grid_template_areas": null,
            "object_position": null,
            "object_fit": null,
            "grid_auto_columns": null,
            "margin": null,
            "display": null,
            "left": null
          }
        },
        "69e5778b35fa4c6997890800b0e1c3a8": {
          "model_module": "@jupyter-widgets/controls",
          "model_name": "FloatProgressModel",
          "state": {
            "_view_name": "ProgressView",
            "style": "IPY_MODEL_303e7c6216e049f291fb7de031e48797",
            "_dom_classes": [],
            "description": "#3: 100%",
            "_model_name": "FloatProgressModel",
            "bar_style": "success",
            "max": 4,
            "_view_module": "@jupyter-widgets/controls",
            "_model_module_version": "1.5.0",
            "value": 4,
            "_view_count": null,
            "_view_module_version": "1.5.0",
            "orientation": "horizontal",
            "min": 0,
            "description_tooltip": null,
            "_model_module": "@jupyter-widgets/controls",
            "layout": "IPY_MODEL_d5eb7ae584324ed8a694eafd54494ffe"
          }
        },
        "4812a51e200849168c1845c8c42e2af8": {
          "model_module": "@jupyter-widgets/controls",
          "model_name": "HTMLModel",
          "state": {
            "_view_name": "HTMLView",
            "style": "IPY_MODEL_740ff94db6ab49709656112a2c4811ba",
            "_dom_classes": [],
            "description": "",
            "_model_name": "HTMLModel",
            "placeholder": "​",
            "_view_module": "@jupyter-widgets/controls",
            "_model_module_version": "1.5.0",
            "value": " 4/4 [00:02&lt;00:00,  1.95ba/s]",
            "_view_count": null,
            "_view_module_version": "1.5.0",
            "description_tooltip": null,
            "_model_module": "@jupyter-widgets/controls",
            "layout": "IPY_MODEL_2359cdba5f2d4e6cb42c6e41776262df"
          }
        },
        "303e7c6216e049f291fb7de031e48797": {
          "model_module": "@jupyter-widgets/controls",
          "model_name": "ProgressStyleModel",
          "state": {
            "_view_name": "StyleView",
            "_model_name": "ProgressStyleModel",
            "description_width": "initial",
            "_view_module": "@jupyter-widgets/base",
            "_model_module_version": "1.5.0",
            "_view_count": null,
            "_view_module_version": "1.2.0",
            "bar_color": null,
            "_model_module": "@jupyter-widgets/controls"
          }
        },
        "d5eb7ae584324ed8a694eafd54494ffe": {
          "model_module": "@jupyter-widgets/base",
          "model_name": "LayoutModel",
          "state": {
            "_view_name": "LayoutView",
            "grid_template_rows": null,
            "right": null,
            "justify_content": null,
            "_view_module": "@jupyter-widgets/base",
            "overflow": null,
            "_model_module_version": "1.2.0",
            "_view_count": null,
            "flex_flow": null,
            "width": null,
            "min_width": null,
            "border": null,
            "align_items": null,
            "bottom": null,
            "_model_module": "@jupyter-widgets/base",
            "top": null,
            "grid_column": null,
            "overflow_y": null,
            "overflow_x": null,
            "grid_auto_flow": null,
            "grid_area": null,
            "grid_template_columns": null,
            "flex": null,
            "_model_name": "LayoutModel",
            "justify_items": null,
            "grid_row": null,
            "max_height": null,
            "align_content": null,
            "visibility": null,
            "align_self": null,
            "height": null,
            "min_height": null,
            "padding": null,
            "grid_auto_rows": null,
            "grid_gap": null,
            "max_width": null,
            "order": null,
            "_view_module_version": "1.2.0",
            "grid_template_areas": null,
            "object_position": null,
            "object_fit": null,
            "grid_auto_columns": null,
            "margin": null,
            "display": null,
            "left": null
          }
        },
        "740ff94db6ab49709656112a2c4811ba": {
          "model_module": "@jupyter-widgets/controls",
          "model_name": "DescriptionStyleModel",
          "state": {
            "_view_name": "StyleView",
            "_model_name": "DescriptionStyleModel",
            "description_width": "",
            "_view_module": "@jupyter-widgets/base",
            "_model_module_version": "1.5.0",
            "_view_count": null,
            "_view_module_version": "1.2.0",
            "_model_module": "@jupyter-widgets/controls"
          }
        },
        "2359cdba5f2d4e6cb42c6e41776262df": {
          "model_module": "@jupyter-widgets/base",
          "model_name": "LayoutModel",
          "state": {
            "_view_name": "LayoutView",
            "grid_template_rows": null,
            "right": null,
            "justify_content": null,
            "_view_module": "@jupyter-widgets/base",
            "overflow": null,
            "_model_module_version": "1.2.0",
            "_view_count": null,
            "flex_flow": null,
            "width": null,
            "min_width": null,
            "border": null,
            "align_items": null,
            "bottom": null,
            "_model_module": "@jupyter-widgets/base",
            "top": null,
            "grid_column": null,
            "overflow_y": null,
            "overflow_x": null,
            "grid_auto_flow": null,
            "grid_area": null,
            "grid_template_columns": null,
            "flex": null,
            "_model_name": "LayoutModel",
            "justify_items": null,
            "grid_row": null,
            "max_height": null,
            "align_content": null,
            "visibility": null,
            "align_self": null,
            "height": null,
            "min_height": null,
            "padding": null,
            "grid_auto_rows": null,
            "grid_gap": null,
            "max_width": null,
            "order": null,
            "_view_module_version": "1.2.0",
            "grid_template_areas": null,
            "object_position": null,
            "object_fit": null,
            "grid_auto_columns": null,
            "margin": null,
            "display": null,
            "left": null
          }
        },
        "d1019ab0312b4651ad0ebe80b7c82965": {
          "model_module": "@jupyter-widgets/controls",
          "model_name": "HBoxModel",
          "state": {
            "_view_name": "HBoxView",
            "_dom_classes": [],
            "_model_name": "HBoxModel",
            "_view_module": "@jupyter-widgets/controls",
            "_model_module_version": "1.5.0",
            "_view_count": null,
            "_view_module_version": "1.5.0",
            "box_style": "",
            "layout": "IPY_MODEL_de5ba4ca682e4a8e8abb5391c3356408",
            "_model_module": "@jupyter-widgets/controls",
            "children": [
              "IPY_MODEL_eb964084bd4a4241aa1db49750944d79",
              "IPY_MODEL_d230b22d0a1a42ce97fc3a0aaa774143"
            ]
          }
        },
        "de5ba4ca682e4a8e8abb5391c3356408": {
          "model_module": "@jupyter-widgets/base",
          "model_name": "LayoutModel",
          "state": {
            "_view_name": "LayoutView",
            "grid_template_rows": null,
            "right": null,
            "justify_content": null,
            "_view_module": "@jupyter-widgets/base",
            "overflow": null,
            "_model_module_version": "1.2.0",
            "_view_count": null,
            "flex_flow": null,
            "width": null,
            "min_width": null,
            "border": null,
            "align_items": null,
            "bottom": null,
            "_model_module": "@jupyter-widgets/base",
            "top": null,
            "grid_column": null,
            "overflow_y": null,
            "overflow_x": null,
            "grid_auto_flow": null,
            "grid_area": null,
            "grid_template_columns": null,
            "flex": null,
            "_model_name": "LayoutModel",
            "justify_items": null,
            "grid_row": null,
            "max_height": null,
            "align_content": null,
            "visibility": null,
            "align_self": null,
            "height": null,
            "min_height": null,
            "padding": null,
            "grid_auto_rows": null,
            "grid_gap": null,
            "max_width": null,
            "order": null,
            "_view_module_version": "1.2.0",
            "grid_template_areas": null,
            "object_position": null,
            "object_fit": null,
            "grid_auto_columns": null,
            "margin": null,
            "display": null,
            "left": null
          }
        },
        "eb964084bd4a4241aa1db49750944d79": {
          "model_module": "@jupyter-widgets/controls",
          "model_name": "FloatProgressModel",
          "state": {
            "_view_name": "ProgressView",
            "style": "IPY_MODEL_14c832fec9814a07a32bfe81714d393b",
            "_dom_classes": [],
            "description": "#2: 100%",
            "_model_name": "FloatProgressModel",
            "bar_style": "success",
            "max": 4,
            "_view_module": "@jupyter-widgets/controls",
            "_model_module_version": "1.5.0",
            "value": 4,
            "_view_count": null,
            "_view_module_version": "1.5.0",
            "orientation": "horizontal",
            "min": 0,
            "description_tooltip": null,
            "_model_module": "@jupyter-widgets/controls",
            "layout": "IPY_MODEL_20a1f43b03bc4e789f0f6cbbf9d2974c"
          }
        },
        "d230b22d0a1a42ce97fc3a0aaa774143": {
          "model_module": "@jupyter-widgets/controls",
          "model_name": "HTMLModel",
          "state": {
            "_view_name": "HTMLView",
            "style": "IPY_MODEL_092d1185776f452c8b6cdbe69ae6935b",
            "_dom_classes": [],
            "description": "",
            "_model_name": "HTMLModel",
            "placeholder": "​",
            "_view_module": "@jupyter-widgets/controls",
            "_model_module_version": "1.5.0",
            "value": " 4/4 [00:02&lt;00:00,  1.86ba/s]",
            "_view_count": null,
            "_view_module_version": "1.5.0",
            "description_tooltip": null,
            "_model_module": "@jupyter-widgets/controls",
            "layout": "IPY_MODEL_b504a0539e1c4ebba60f2eec84614ad5"
          }
        },
        "14c832fec9814a07a32bfe81714d393b": {
          "model_module": "@jupyter-widgets/controls",
          "model_name": "ProgressStyleModel",
          "state": {
            "_view_name": "StyleView",
            "_model_name": "ProgressStyleModel",
            "description_width": "initial",
            "_view_module": "@jupyter-widgets/base",
            "_model_module_version": "1.5.0",
            "_view_count": null,
            "_view_module_version": "1.2.0",
            "bar_color": null,
            "_model_module": "@jupyter-widgets/controls"
          }
        },
        "20a1f43b03bc4e789f0f6cbbf9d2974c": {
          "model_module": "@jupyter-widgets/base",
          "model_name": "LayoutModel",
          "state": {
            "_view_name": "LayoutView",
            "grid_template_rows": null,
            "right": null,
            "justify_content": null,
            "_view_module": "@jupyter-widgets/base",
            "overflow": null,
            "_model_module_version": "1.2.0",
            "_view_count": null,
            "flex_flow": null,
            "width": null,
            "min_width": null,
            "border": null,
            "align_items": null,
            "bottom": null,
            "_model_module": "@jupyter-widgets/base",
            "top": null,
            "grid_column": null,
            "overflow_y": null,
            "overflow_x": null,
            "grid_auto_flow": null,
            "grid_area": null,
            "grid_template_columns": null,
            "flex": null,
            "_model_name": "LayoutModel",
            "justify_items": null,
            "grid_row": null,
            "max_height": null,
            "align_content": null,
            "visibility": null,
            "align_self": null,
            "height": null,
            "min_height": null,
            "padding": null,
            "grid_auto_rows": null,
            "grid_gap": null,
            "max_width": null,
            "order": null,
            "_view_module_version": "1.2.0",
            "grid_template_areas": null,
            "object_position": null,
            "object_fit": null,
            "grid_auto_columns": null,
            "margin": null,
            "display": null,
            "left": null
          }
        },
        "092d1185776f452c8b6cdbe69ae6935b": {
          "model_module": "@jupyter-widgets/controls",
          "model_name": "DescriptionStyleModel",
          "state": {
            "_view_name": "StyleView",
            "_model_name": "DescriptionStyleModel",
            "description_width": "",
            "_view_module": "@jupyter-widgets/base",
            "_model_module_version": "1.5.0",
            "_view_count": null,
            "_view_module_version": "1.2.0",
            "_model_module": "@jupyter-widgets/controls"
          }
        },
        "b504a0539e1c4ebba60f2eec84614ad5": {
          "model_module": "@jupyter-widgets/base",
          "model_name": "LayoutModel",
          "state": {
            "_view_name": "LayoutView",
            "grid_template_rows": null,
            "right": null,
            "justify_content": null,
            "_view_module": "@jupyter-widgets/base",
            "overflow": null,
            "_model_module_version": "1.2.0",
            "_view_count": null,
            "flex_flow": null,
            "width": null,
            "min_width": null,
            "border": null,
            "align_items": null,
            "bottom": null,
            "_model_module": "@jupyter-widgets/base",
            "top": null,
            "grid_column": null,
            "overflow_y": null,
            "overflow_x": null,
            "grid_auto_flow": null,
            "grid_area": null,
            "grid_template_columns": null,
            "flex": null,
            "_model_name": "LayoutModel",
            "justify_items": null,
            "grid_row": null,
            "max_height": null,
            "align_content": null,
            "visibility": null,
            "align_self": null,
            "height": null,
            "min_height": null,
            "padding": null,
            "grid_auto_rows": null,
            "grid_gap": null,
            "max_width": null,
            "order": null,
            "_view_module_version": "1.2.0",
            "grid_template_areas": null,
            "object_position": null,
            "object_fit": null,
            "grid_auto_columns": null,
            "margin": null,
            "display": null,
            "left": null
          }
        },
        "e7c084aca6b542efb54e7d757669f8bf": {
          "model_module": "@jupyter-widgets/controls",
          "model_name": "HBoxModel",
          "state": {
            "_view_name": "HBoxView",
            "_dom_classes": [],
            "_model_name": "HBoxModel",
            "_view_module": "@jupyter-widgets/controls",
            "_model_module_version": "1.5.0",
            "_view_count": null,
            "_view_module_version": "1.5.0",
            "box_style": "",
            "layout": "IPY_MODEL_b2b35b6f883b4869abef3709963480ec",
            "_model_module": "@jupyter-widgets/controls",
            "children": [
              "IPY_MODEL_7d19aceaa7f4456b8da50c00e7fafaeb",
              "IPY_MODEL_fcba09cdb5294db798565a3c6fb704b4"
            ]
          }
        },
        "b2b35b6f883b4869abef3709963480ec": {
          "model_module": "@jupyter-widgets/base",
          "model_name": "LayoutModel",
          "state": {
            "_view_name": "LayoutView",
            "grid_template_rows": null,
            "right": null,
            "justify_content": null,
            "_view_module": "@jupyter-widgets/base",
            "overflow": null,
            "_model_module_version": "1.2.0",
            "_view_count": null,
            "flex_flow": null,
            "width": null,
            "min_width": null,
            "border": null,
            "align_items": null,
            "bottom": null,
            "_model_module": "@jupyter-widgets/base",
            "top": null,
            "grid_column": null,
            "overflow_y": null,
            "overflow_x": null,
            "grid_auto_flow": null,
            "grid_area": null,
            "grid_template_columns": null,
            "flex": null,
            "_model_name": "LayoutModel",
            "justify_items": null,
            "grid_row": null,
            "max_height": null,
            "align_content": null,
            "visibility": null,
            "align_self": null,
            "height": null,
            "min_height": null,
            "padding": null,
            "grid_auto_rows": null,
            "grid_gap": null,
            "max_width": null,
            "order": null,
            "_view_module_version": "1.2.0",
            "grid_template_areas": null,
            "object_position": null,
            "object_fit": null,
            "grid_auto_columns": null,
            "margin": null,
            "display": null,
            "left": null
          }
        },
        "7d19aceaa7f4456b8da50c00e7fafaeb": {
          "model_module": "@jupyter-widgets/controls",
          "model_name": "FloatProgressModel",
          "state": {
            "_view_name": "ProgressView",
            "style": "IPY_MODEL_a8aa621fb04445b698fde0adea288a4e",
            "_dom_classes": [],
            "description": "Downloading: ",
            "_model_name": "FloatProgressModel",
            "bar_style": "success",
            "max": 1764,
            "_view_module": "@jupyter-widgets/controls",
            "_model_module_version": "1.5.0",
            "value": 1764,
            "_view_count": null,
            "_view_module_version": "1.5.0",
            "orientation": "horizontal",
            "min": 0,
            "description_tooltip": null,
            "_model_module": "@jupyter-widgets/controls",
            "layout": "IPY_MODEL_412f7f63ad5d4f4cb2e08e360ad4e8fb"
          }
        },
        "fcba09cdb5294db798565a3c6fb704b4": {
          "model_module": "@jupyter-widgets/controls",
          "model_name": "HTMLModel",
          "state": {
            "_view_name": "HTMLView",
            "style": "IPY_MODEL_7560ad49d02f477592379e273edaedee",
            "_dom_classes": [],
            "description": "",
            "_model_name": "HTMLModel",
            "placeholder": "​",
            "_view_module": "@jupyter-widgets/controls",
            "_model_module_version": "1.5.0",
            "value": " 3.90k/? [00:00&lt;00:00, 9.33kB/s]",
            "_view_count": null,
            "_view_module_version": "1.5.0",
            "description_tooltip": null,
            "_model_module": "@jupyter-widgets/controls",
            "layout": "IPY_MODEL_806a08121a3c4d69bd8948dffb9c83d3"
          }
        },
        "a8aa621fb04445b698fde0adea288a4e": {
          "model_module": "@jupyter-widgets/controls",
          "model_name": "ProgressStyleModel",
          "state": {
            "_view_name": "StyleView",
            "_model_name": "ProgressStyleModel",
            "description_width": "initial",
            "_view_module": "@jupyter-widgets/base",
            "_model_module_version": "1.5.0",
            "_view_count": null,
            "_view_module_version": "1.2.0",
            "bar_color": null,
            "_model_module": "@jupyter-widgets/controls"
          }
        },
        "412f7f63ad5d4f4cb2e08e360ad4e8fb": {
          "model_module": "@jupyter-widgets/base",
          "model_name": "LayoutModel",
          "state": {
            "_view_name": "LayoutView",
            "grid_template_rows": null,
            "right": null,
            "justify_content": null,
            "_view_module": "@jupyter-widgets/base",
            "overflow": null,
            "_model_module_version": "1.2.0",
            "_view_count": null,
            "flex_flow": null,
            "width": null,
            "min_width": null,
            "border": null,
            "align_items": null,
            "bottom": null,
            "_model_module": "@jupyter-widgets/base",
            "top": null,
            "grid_column": null,
            "overflow_y": null,
            "overflow_x": null,
            "grid_auto_flow": null,
            "grid_area": null,
            "grid_template_columns": null,
            "flex": null,
            "_model_name": "LayoutModel",
            "justify_items": null,
            "grid_row": null,
            "max_height": null,
            "align_content": null,
            "visibility": null,
            "align_self": null,
            "height": null,
            "min_height": null,
            "padding": null,
            "grid_auto_rows": null,
            "grid_gap": null,
            "max_width": null,
            "order": null,
            "_view_module_version": "1.2.0",
            "grid_template_areas": null,
            "object_position": null,
            "object_fit": null,
            "grid_auto_columns": null,
            "margin": null,
            "display": null,
            "left": null
          }
        },
        "7560ad49d02f477592379e273edaedee": {
          "model_module": "@jupyter-widgets/controls",
          "model_name": "DescriptionStyleModel",
          "state": {
            "_view_name": "StyleView",
            "_model_name": "DescriptionStyleModel",
            "description_width": "",
            "_view_module": "@jupyter-widgets/base",
            "_model_module_version": "1.5.0",
            "_view_count": null,
            "_view_module_version": "1.2.0",
            "_model_module": "@jupyter-widgets/controls"
          }
        },
        "806a08121a3c4d69bd8948dffb9c83d3": {
          "model_module": "@jupyter-widgets/base",
          "model_name": "LayoutModel",
          "state": {
            "_view_name": "LayoutView",
            "grid_template_rows": null,
            "right": null,
            "justify_content": null,
            "_view_module": "@jupyter-widgets/base",
            "overflow": null,
            "_model_module_version": "1.2.0",
            "_view_count": null,
            "flex_flow": null,
            "width": null,
            "min_width": null,
            "border": null,
            "align_items": null,
            "bottom": null,
            "_model_module": "@jupyter-widgets/base",
            "top": null,
            "grid_column": null,
            "overflow_y": null,
            "overflow_x": null,
            "grid_auto_flow": null,
            "grid_area": null,
            "grid_template_columns": null,
            "flex": null,
            "_model_name": "LayoutModel",
            "justify_items": null,
            "grid_row": null,
            "max_height": null,
            "align_content": null,
            "visibility": null,
            "align_self": null,
            "height": null,
            "min_height": null,
            "padding": null,
            "grid_auto_rows": null,
            "grid_gap": null,
            "max_width": null,
            "order": null,
            "_view_module_version": "1.2.0",
            "grid_template_areas": null,
            "object_position": null,
            "object_fit": null,
            "grid_auto_columns": null,
            "margin": null,
            "display": null,
            "left": null
          }
        },
        "4548f8e3c2ae4fcf9b0ac05a378c8f92": {
          "model_module": "@jupyter-widgets/controls",
          "model_name": "HBoxModel",
          "state": {
            "_view_name": "HBoxView",
            "_dom_classes": [],
            "_model_name": "HBoxModel",
            "_view_module": "@jupyter-widgets/controls",
            "_model_module_version": "1.5.0",
            "_view_count": null,
            "_view_module_version": "1.5.0",
            "box_style": "",
            "layout": "IPY_MODEL_0f6bee16379a4820a650bb08cb05bcd9",
            "_model_module": "@jupyter-widgets/controls",
            "children": [
              "IPY_MODEL_47990088d47049f3816e897d411bccda",
              "IPY_MODEL_3eb9dccad1c2478a914a5bf81f8b62eb"
            ]
          }
        },
        "0f6bee16379a4820a650bb08cb05bcd9": {
          "model_module": "@jupyter-widgets/base",
          "model_name": "LayoutModel",
          "state": {
            "_view_name": "LayoutView",
            "grid_template_rows": null,
            "right": null,
            "justify_content": null,
            "_view_module": "@jupyter-widgets/base",
            "overflow": null,
            "_model_module_version": "1.2.0",
            "_view_count": null,
            "flex_flow": null,
            "width": null,
            "min_width": null,
            "border": null,
            "align_items": null,
            "bottom": null,
            "_model_module": "@jupyter-widgets/base",
            "top": null,
            "grid_column": null,
            "overflow_y": null,
            "overflow_x": null,
            "grid_auto_flow": null,
            "grid_area": null,
            "grid_template_columns": null,
            "flex": null,
            "_model_name": "LayoutModel",
            "justify_items": null,
            "grid_row": null,
            "max_height": null,
            "align_content": null,
            "visibility": null,
            "align_self": null,
            "height": null,
            "min_height": null,
            "padding": null,
            "grid_auto_rows": null,
            "grid_gap": null,
            "max_width": null,
            "order": null,
            "_view_module_version": "1.2.0",
            "grid_template_areas": null,
            "object_position": null,
            "object_fit": null,
            "grid_auto_columns": null,
            "margin": null,
            "display": null,
            "left": null
          }
        },
        "47990088d47049f3816e897d411bccda": {
          "model_module": "@jupyter-widgets/controls",
          "model_name": "FloatProgressModel",
          "state": {
            "_view_name": "ProgressView",
            "style": "IPY_MODEL_62f0c23ee2df435cba2f697a16dede2e",
            "_dom_classes": [],
            "description": "Downloading: 100%",
            "_model_name": "FloatProgressModel",
            "bar_style": "success",
            "max": 1451,
            "_view_module": "@jupyter-widgets/controls",
            "_model_module_version": "1.5.0",
            "value": 1451,
            "_view_count": null,
            "_view_module_version": "1.5.0",
            "orientation": "horizontal",
            "min": 0,
            "description_tooltip": null,
            "_model_module": "@jupyter-widgets/controls",
            "layout": "IPY_MODEL_859829baa7584410919872e835f35700"
          }
        },
        "3eb9dccad1c2478a914a5bf81f8b62eb": {
          "model_module": "@jupyter-widgets/controls",
          "model_name": "HTMLModel",
          "state": {
            "_view_name": "HTMLView",
            "style": "IPY_MODEL_04819c2bf07a4e5fad91f9b03f3ae90f",
            "_dom_classes": [],
            "description": "",
            "_model_name": "HTMLModel",
            "placeholder": "​",
            "_view_module": "@jupyter-widgets/controls",
            "_model_module_version": "1.5.0",
            "value": " 1.45k/1.45k [00:00&lt;00:00, 3.33kB/s]",
            "_view_count": null,
            "_view_module_version": "1.5.0",
            "description_tooltip": null,
            "_model_module": "@jupyter-widgets/controls",
            "layout": "IPY_MODEL_2d8fe673c9244cbebcd1427d25e0a51e"
          }
        },
        "62f0c23ee2df435cba2f697a16dede2e": {
          "model_module": "@jupyter-widgets/controls",
          "model_name": "ProgressStyleModel",
          "state": {
            "_view_name": "StyleView",
            "_model_name": "ProgressStyleModel",
            "description_width": "initial",
            "_view_module": "@jupyter-widgets/base",
            "_model_module_version": "1.5.0",
            "_view_count": null,
            "_view_module_version": "1.2.0",
            "bar_color": null,
            "_model_module": "@jupyter-widgets/controls"
          }
        },
        "859829baa7584410919872e835f35700": {
          "model_module": "@jupyter-widgets/base",
          "model_name": "LayoutModel",
          "state": {
            "_view_name": "LayoutView",
            "grid_template_rows": null,
            "right": null,
            "justify_content": null,
            "_view_module": "@jupyter-widgets/base",
            "overflow": null,
            "_model_module_version": "1.2.0",
            "_view_count": null,
            "flex_flow": null,
            "width": null,
            "min_width": null,
            "border": null,
            "align_items": null,
            "bottom": null,
            "_model_module": "@jupyter-widgets/base",
            "top": null,
            "grid_column": null,
            "overflow_y": null,
            "overflow_x": null,
            "grid_auto_flow": null,
            "grid_area": null,
            "grid_template_columns": null,
            "flex": null,
            "_model_name": "LayoutModel",
            "justify_items": null,
            "grid_row": null,
            "max_height": null,
            "align_content": null,
            "visibility": null,
            "align_self": null,
            "height": null,
            "min_height": null,
            "padding": null,
            "grid_auto_rows": null,
            "grid_gap": null,
            "max_width": null,
            "order": null,
            "_view_module_version": "1.2.0",
            "grid_template_areas": null,
            "object_position": null,
            "object_fit": null,
            "grid_auto_columns": null,
            "margin": null,
            "display": null,
            "left": null
          }
        },
        "04819c2bf07a4e5fad91f9b03f3ae90f": {
          "model_module": "@jupyter-widgets/controls",
          "model_name": "DescriptionStyleModel",
          "state": {
            "_view_name": "StyleView",
            "_model_name": "DescriptionStyleModel",
            "description_width": "",
            "_view_module": "@jupyter-widgets/base",
            "_model_module_version": "1.5.0",
            "_view_count": null,
            "_view_module_version": "1.2.0",
            "_model_module": "@jupyter-widgets/controls"
          }
        },
        "2d8fe673c9244cbebcd1427d25e0a51e": {
          "model_module": "@jupyter-widgets/base",
          "model_name": "LayoutModel",
          "state": {
            "_view_name": "LayoutView",
            "grid_template_rows": null,
            "right": null,
            "justify_content": null,
            "_view_module": "@jupyter-widgets/base",
            "overflow": null,
            "_model_module_version": "1.2.0",
            "_view_count": null,
            "flex_flow": null,
            "width": null,
            "min_width": null,
            "border": null,
            "align_items": null,
            "bottom": null,
            "_model_module": "@jupyter-widgets/base",
            "top": null,
            "grid_column": null,
            "overflow_y": null,
            "overflow_x": null,
            "grid_auto_flow": null,
            "grid_area": null,
            "grid_template_columns": null,
            "flex": null,
            "_model_name": "LayoutModel",
            "justify_items": null,
            "grid_row": null,
            "max_height": null,
            "align_content": null,
            "visibility": null,
            "align_self": null,
            "height": null,
            "min_height": null,
            "padding": null,
            "grid_auto_rows": null,
            "grid_gap": null,
            "max_width": null,
            "order": null,
            "_view_module_version": "1.2.0",
            "grid_template_areas": null,
            "object_position": null,
            "object_fit": null,
            "grid_auto_columns": null,
            "margin": null,
            "display": null,
            "left": null
          }
        },
        "5986db3e48734a90b0673362f62a2756": {
          "model_module": "@jupyter-widgets/controls",
          "model_name": "HBoxModel",
          "state": {
            "_view_name": "HBoxView",
            "_dom_classes": [],
            "_model_name": "HBoxModel",
            "_view_module": "@jupyter-widgets/controls",
            "_model_module_version": "1.5.0",
            "_view_count": null,
            "_view_module_version": "1.5.0",
            "box_style": "",
            "layout": "IPY_MODEL_f5e50c30d910494ca3fa1f2ad103867e",
            "_model_module": "@jupyter-widgets/controls",
            "children": [
              "IPY_MODEL_256e82023bb54edda3d4fdfc769c558d",
              "IPY_MODEL_63a5a409b0f440fa8d0523ce4c7a850c"
            ]
          }
        },
        "f5e50c30d910494ca3fa1f2ad103867e": {
          "model_module": "@jupyter-widgets/base",
          "model_name": "LayoutModel",
          "state": {
            "_view_name": "LayoutView",
            "grid_template_rows": null,
            "right": null,
            "justify_content": null,
            "_view_module": "@jupyter-widgets/base",
            "overflow": null,
            "_model_module_version": "1.2.0",
            "_view_count": null,
            "flex_flow": null,
            "width": null,
            "min_width": null,
            "border": null,
            "align_items": null,
            "bottom": null,
            "_model_module": "@jupyter-widgets/base",
            "top": null,
            "grid_column": null,
            "overflow_y": null,
            "overflow_x": null,
            "grid_auto_flow": null,
            "grid_area": null,
            "grid_template_columns": null,
            "flex": null,
            "_model_name": "LayoutModel",
            "justify_items": null,
            "grid_row": null,
            "max_height": null,
            "align_content": null,
            "visibility": null,
            "align_self": null,
            "height": null,
            "min_height": null,
            "padding": null,
            "grid_auto_rows": null,
            "grid_gap": null,
            "max_width": null,
            "order": null,
            "_view_module_version": "1.2.0",
            "grid_template_areas": null,
            "object_position": null,
            "object_fit": null,
            "grid_auto_columns": null,
            "margin": null,
            "display": null,
            "left": null
          }
        },
        "256e82023bb54edda3d4fdfc769c558d": {
          "model_module": "@jupyter-widgets/controls",
          "model_name": "FloatProgressModel",
          "state": {
            "_view_name": "ProgressView",
            "style": "IPY_MODEL_7c01b90d4d2b4ac99304083949d5e512",
            "_dom_classes": [],
            "description": "Downloading: 100%",
            "_model_name": "FloatProgressModel",
            "bar_style": "success",
            "max": 1261920069,
            "_view_module": "@jupyter-widgets/controls",
            "_model_module_version": "1.5.0",
            "value": 1261920069,
            "_view_count": null,
            "_view_module_version": "1.5.0",
            "orientation": "horizontal",
            "min": 0,
            "description_tooltip": null,
            "_model_module": "@jupyter-widgets/controls",
            "layout": "IPY_MODEL_e4aeadd9b37c48b394e57de4dac6a4f2"
          }
        },
        "63a5a409b0f440fa8d0523ce4c7a850c": {
          "model_module": "@jupyter-widgets/controls",
          "model_name": "HTMLModel",
          "state": {
            "_view_name": "HTMLView",
            "style": "IPY_MODEL_d8e5490790a545a18705aab6d57cb71a",
            "_dom_classes": [],
            "description": "",
            "_model_name": "HTMLModel",
            "placeholder": "​",
            "_view_module": "@jupyter-widgets/controls",
            "_model_module_version": "1.5.0",
            "value": " 1.26G/1.26G [00:25&lt;00:00, 49.2MB/s]",
            "_view_count": null,
            "_view_module_version": "1.5.0",
            "description_tooltip": null,
            "_model_module": "@jupyter-widgets/controls",
            "layout": "IPY_MODEL_8be181b786cd4d53853d00cf0b337623"
          }
        },
        "7c01b90d4d2b4ac99304083949d5e512": {
          "model_module": "@jupyter-widgets/controls",
          "model_name": "ProgressStyleModel",
          "state": {
            "_view_name": "StyleView",
            "_model_name": "ProgressStyleModel",
            "description_width": "initial",
            "_view_module": "@jupyter-widgets/base",
            "_model_module_version": "1.5.0",
            "_view_count": null,
            "_view_module_version": "1.2.0",
            "bar_color": null,
            "_model_module": "@jupyter-widgets/controls"
          }
        },
        "e4aeadd9b37c48b394e57de4dac6a4f2": {
          "model_module": "@jupyter-widgets/base",
          "model_name": "LayoutModel",
          "state": {
            "_view_name": "LayoutView",
            "grid_template_rows": null,
            "right": null,
            "justify_content": null,
            "_view_module": "@jupyter-widgets/base",
            "overflow": null,
            "_model_module_version": "1.2.0",
            "_view_count": null,
            "flex_flow": null,
            "width": null,
            "min_width": null,
            "border": null,
            "align_items": null,
            "bottom": null,
            "_model_module": "@jupyter-widgets/base",
            "top": null,
            "grid_column": null,
            "overflow_y": null,
            "overflow_x": null,
            "grid_auto_flow": null,
            "grid_area": null,
            "grid_template_columns": null,
            "flex": null,
            "_model_name": "LayoutModel",
            "justify_items": null,
            "grid_row": null,
            "max_height": null,
            "align_content": null,
            "visibility": null,
            "align_self": null,
            "height": null,
            "min_height": null,
            "padding": null,
            "grid_auto_rows": null,
            "grid_gap": null,
            "max_width": null,
            "order": null,
            "_view_module_version": "1.2.0",
            "grid_template_areas": null,
            "object_position": null,
            "object_fit": null,
            "grid_auto_columns": null,
            "margin": null,
            "display": null,
            "left": null
          }
        },
        "d8e5490790a545a18705aab6d57cb71a": {
          "model_module": "@jupyter-widgets/controls",
          "model_name": "DescriptionStyleModel",
          "state": {
            "_view_name": "StyleView",
            "_model_name": "DescriptionStyleModel",
            "description_width": "",
            "_view_module": "@jupyter-widgets/base",
            "_model_module_version": "1.5.0",
            "_view_count": null,
            "_view_module_version": "1.2.0",
            "_model_module": "@jupyter-widgets/controls"
          }
        },
        "8be181b786cd4d53853d00cf0b337623": {
          "model_module": "@jupyter-widgets/base",
          "model_name": "LayoutModel",
          "state": {
            "_view_name": "LayoutView",
            "grid_template_rows": null,
            "right": null,
            "justify_content": null,
            "_view_module": "@jupyter-widgets/base",
            "overflow": null,
            "_model_module_version": "1.2.0",
            "_view_count": null,
            "flex_flow": null,
            "width": null,
            "min_width": null,
            "border": null,
            "align_items": null,
            "bottom": null,
            "_model_module": "@jupyter-widgets/base",
            "top": null,
            "grid_column": null,
            "overflow_y": null,
            "overflow_x": null,
            "grid_auto_flow": null,
            "grid_area": null,
            "grid_template_columns": null,
            "flex": null,
            "_model_name": "LayoutModel",
            "justify_items": null,
            "grid_row": null,
            "max_height": null,
            "align_content": null,
            "visibility": null,
            "align_self": null,
            "height": null,
            "min_height": null,
            "padding": null,
            "grid_auto_rows": null,
            "grid_gap": null,
            "max_width": null,
            "order": null,
            "_view_module_version": "1.2.0",
            "grid_template_areas": null,
            "object_position": null,
            "object_fit": null,
            "grid_auto_columns": null,
            "margin": null,
            "display": null,
            "left": null
          }
        },
        "001cfc86a2e449609f230afe6fd09645": {
          "model_module": "@jupyter-widgets/controls",
          "model_name": "HBoxModel",
          "state": {
            "_view_name": "HBoxView",
            "_dom_classes": [],
            "_model_name": "HBoxModel",
            "_view_module": "@jupyter-widgets/controls",
            "_model_module_version": "1.5.0",
            "_view_count": null,
            "_view_module_version": "1.5.0",
            "box_style": "",
            "layout": "IPY_MODEL_d7648b0e66104244bd10fb9bfd54f6a5",
            "_model_module": "@jupyter-widgets/controls",
            "children": [
              "IPY_MODEL_582270485c504bfe86f3190cb286dbfe",
              "IPY_MODEL_e10941e9f098434a9bb1c362d04a97cc"
            ]
          }
        },
        "d7648b0e66104244bd10fb9bfd54f6a5": {
          "model_module": "@jupyter-widgets/base",
          "model_name": "LayoutModel",
          "state": {
            "_view_name": "LayoutView",
            "grid_template_rows": null,
            "right": null,
            "justify_content": null,
            "_view_module": "@jupyter-widgets/base",
            "overflow": null,
            "_model_module_version": "1.2.0",
            "_view_count": null,
            "flex_flow": null,
            "width": null,
            "min_width": null,
            "border": null,
            "align_items": null,
            "bottom": null,
            "_model_module": "@jupyter-widgets/base",
            "top": null,
            "grid_column": null,
            "overflow_y": null,
            "overflow_x": null,
            "grid_auto_flow": null,
            "grid_area": null,
            "grid_template_columns": null,
            "flex": null,
            "_model_name": "LayoutModel",
            "justify_items": null,
            "grid_row": null,
            "max_height": null,
            "align_content": null,
            "visibility": null,
            "align_self": null,
            "height": null,
            "min_height": null,
            "padding": null,
            "grid_auto_rows": null,
            "grid_gap": null,
            "max_width": null,
            "order": null,
            "_view_module_version": "1.2.0",
            "grid_template_areas": null,
            "object_position": null,
            "object_fit": null,
            "grid_auto_columns": null,
            "margin": null,
            "display": null,
            "left": null
          }
        },
        "582270485c504bfe86f3190cb286dbfe": {
          "model_module": "@jupyter-widgets/controls",
          "model_name": "FloatProgressModel",
          "state": {
            "_view_name": "ProgressView",
            "style": "IPY_MODEL_b9f92c26c5484d04a1d879339599028c",
            "_dom_classes": [],
            "description": "",
            "_model_name": "FloatProgressModel",
            "bar_style": "info",
            "max": 1,
            "_view_module": "@jupyter-widgets/controls",
            "_model_module_version": "1.5.0",
            "value": 1,
            "_view_count": null,
            "_view_module_version": "1.5.0",
            "orientation": "horizontal",
            "min": 0,
            "description_tooltip": null,
            "_model_module": "@jupyter-widgets/controls",
            "layout": "IPY_MODEL_676f63eb9edf4b448c920f895b35f6f9"
          }
        },
        "e10941e9f098434a9bb1c362d04a97cc": {
          "model_module": "@jupyter-widgets/controls",
          "model_name": "HTMLModel",
          "state": {
            "_view_name": "HTMLView",
            "style": "IPY_MODEL_31151d20997f4a34a298b9a91269dd4e",
            "_dom_classes": [],
            "description": "",
            "_model_name": "HTMLModel",
            "placeholder": "​",
            "_view_module": "@jupyter-widgets/controls",
            "_model_module_version": "1.5.0",
            "value": " 211/0 [00:00&lt;00:00, 5864.02 examples/s]",
            "_view_count": null,
            "_view_module_version": "1.5.0",
            "description_tooltip": null,
            "_model_module": "@jupyter-widgets/controls",
            "layout": "IPY_MODEL_53a2ef3589c14f88a48501f816b7aca9"
          }
        },
        "b9f92c26c5484d04a1d879339599028c": {
          "model_module": "@jupyter-widgets/controls",
          "model_name": "ProgressStyleModel",
          "state": {
            "_view_name": "StyleView",
            "_model_name": "ProgressStyleModel",
            "description_width": "initial",
            "_view_module": "@jupyter-widgets/base",
            "_model_module_version": "1.5.0",
            "_view_count": null,
            "_view_module_version": "1.2.0",
            "bar_color": null,
            "_model_module": "@jupyter-widgets/controls"
          }
        },
        "676f63eb9edf4b448c920f895b35f6f9": {
          "model_module": "@jupyter-widgets/base",
          "model_name": "LayoutModel",
          "state": {
            "_view_name": "LayoutView",
            "grid_template_rows": null,
            "right": null,
            "justify_content": null,
            "_view_module": "@jupyter-widgets/base",
            "overflow": null,
            "_model_module_version": "1.2.0",
            "_view_count": null,
            "flex_flow": null,
            "width": null,
            "min_width": null,
            "border": null,
            "align_items": null,
            "bottom": null,
            "_model_module": "@jupyter-widgets/base",
            "top": null,
            "grid_column": null,
            "overflow_y": null,
            "overflow_x": null,
            "grid_auto_flow": null,
            "grid_area": null,
            "grid_template_columns": null,
            "flex": null,
            "_model_name": "LayoutModel",
            "justify_items": null,
            "grid_row": null,
            "max_height": null,
            "align_content": null,
            "visibility": null,
            "align_self": null,
            "height": null,
            "min_height": null,
            "padding": null,
            "grid_auto_rows": null,
            "grid_gap": null,
            "max_width": null,
            "order": null,
            "_view_module_version": "1.2.0",
            "grid_template_areas": null,
            "object_position": null,
            "object_fit": null,
            "grid_auto_columns": null,
            "margin": null,
            "display": null,
            "left": null
          }
        },
        "31151d20997f4a34a298b9a91269dd4e": {
          "model_module": "@jupyter-widgets/controls",
          "model_name": "DescriptionStyleModel",
          "state": {
            "_view_name": "StyleView",
            "_model_name": "DescriptionStyleModel",
            "description_width": "",
            "_view_module": "@jupyter-widgets/base",
            "_model_module_version": "1.5.0",
            "_view_count": null,
            "_view_module_version": "1.2.0",
            "_model_module": "@jupyter-widgets/controls"
          }
        },
        "53a2ef3589c14f88a48501f816b7aca9": {
          "model_module": "@jupyter-widgets/base",
          "model_name": "LayoutModel",
          "state": {
            "_view_name": "LayoutView",
            "grid_template_rows": null,
            "right": null,
            "justify_content": null,
            "_view_module": "@jupyter-widgets/base",
            "overflow": null,
            "_model_module_version": "1.2.0",
            "_view_count": null,
            "flex_flow": null,
            "width": null,
            "min_width": null,
            "border": null,
            "align_items": null,
            "bottom": null,
            "_model_module": "@jupyter-widgets/base",
            "top": null,
            "grid_column": null,
            "overflow_y": null,
            "overflow_x": null,
            "grid_auto_flow": null,
            "grid_area": null,
            "grid_template_columns": null,
            "flex": null,
            "_model_name": "LayoutModel",
            "justify_items": null,
            "grid_row": null,
            "max_height": null,
            "align_content": null,
            "visibility": null,
            "align_self": null,
            "height": null,
            "min_height": null,
            "padding": null,
            "grid_auto_rows": null,
            "grid_gap": null,
            "max_width": null,
            "order": null,
            "_view_module_version": "1.2.0",
            "grid_template_areas": null,
            "object_position": null,
            "object_fit": null,
            "grid_auto_columns": null,
            "margin": null,
            "display": null,
            "left": null
          }
        },
        "37419dcb5c244bd7bc4337f4e8343cbd": {
          "model_module": "@jupyter-widgets/controls",
          "model_name": "HBoxModel",
          "state": {
            "_view_name": "HBoxView",
            "_dom_classes": [],
            "_model_name": "HBoxModel",
            "_view_module": "@jupyter-widgets/controls",
            "_model_module_version": "1.5.0",
            "_view_count": null,
            "_view_module_version": "1.5.0",
            "box_style": "",
            "layout": "IPY_MODEL_8d914dbb5b2a46caac7c901903c537e4",
            "_model_module": "@jupyter-widgets/controls",
            "children": [
              "IPY_MODEL_fb58f9dccc5a46b894dcd6d20ff706b8",
              "IPY_MODEL_d4f7326d667a4fb3aba6583a919c77bd"
            ]
          }
        },
        "8d914dbb5b2a46caac7c901903c537e4": {
          "model_module": "@jupyter-widgets/base",
          "model_name": "LayoutModel",
          "state": {
            "_view_name": "LayoutView",
            "grid_template_rows": null,
            "right": null,
            "justify_content": null,
            "_view_module": "@jupyter-widgets/base",
            "overflow": null,
            "_model_module_version": "1.2.0",
            "_view_count": null,
            "flex_flow": null,
            "width": null,
            "min_width": null,
            "border": null,
            "align_items": null,
            "bottom": null,
            "_model_module": "@jupyter-widgets/base",
            "top": null,
            "grid_column": null,
            "overflow_y": null,
            "overflow_x": null,
            "grid_auto_flow": null,
            "grid_area": null,
            "grid_template_columns": null,
            "flex": null,
            "_model_name": "LayoutModel",
            "justify_items": null,
            "grid_row": null,
            "max_height": null,
            "align_content": null,
            "visibility": null,
            "align_self": null,
            "height": null,
            "min_height": null,
            "padding": null,
            "grid_auto_rows": null,
            "grid_gap": null,
            "max_width": null,
            "order": null,
            "_view_module_version": "1.2.0",
            "grid_template_areas": null,
            "object_position": null,
            "object_fit": null,
            "grid_auto_columns": null,
            "margin": null,
            "display": null,
            "left": null
          }
        },
        "fb58f9dccc5a46b894dcd6d20ff706b8": {
          "model_module": "@jupyter-widgets/controls",
          "model_name": "FloatProgressModel",
          "state": {
            "_view_name": "ProgressView",
            "style": "IPY_MODEL_50c622aa6b634691811ecfaa7ed0fe43",
            "_dom_classes": [],
            "description": "",
            "_model_name": "FloatProgressModel",
            "bar_style": "info",
            "max": 1,
            "_view_module": "@jupyter-widgets/controls",
            "_model_module_version": "1.5.0",
            "value": 1,
            "_view_count": null,
            "_view_module_version": "1.5.0",
            "orientation": "horizontal",
            "min": 0,
            "description_tooltip": null,
            "_model_module": "@jupyter-widgets/controls",
            "layout": "IPY_MODEL_9e46f7102934427a8e458d96b0ad1934"
          }
        },
        "d4f7326d667a4fb3aba6583a919c77bd": {
          "model_module": "@jupyter-widgets/controls",
          "model_name": "HTMLModel",
          "state": {
            "_view_name": "HTMLView",
            "style": "IPY_MODEL_381a57d69c5345f49c67b225318ca50a",
            "_dom_classes": [],
            "description": "",
            "_model_name": "HTMLModel",
            "placeholder": "​",
            "_view_module": "@jupyter-widgets/controls",
            "_model_module_version": "1.5.0",
            "value": " 116/0 [00:00&lt;00:00, 4024.28 examples/s]",
            "_view_count": null,
            "_view_module_version": "1.5.0",
            "description_tooltip": null,
            "_model_module": "@jupyter-widgets/controls",
            "layout": "IPY_MODEL_b12faa993f994cbb84e142098c35663f"
          }
        },
        "50c622aa6b634691811ecfaa7ed0fe43": {
          "model_module": "@jupyter-widgets/controls",
          "model_name": "ProgressStyleModel",
          "state": {
            "_view_name": "StyleView",
            "_model_name": "ProgressStyleModel",
            "description_width": "initial",
            "_view_module": "@jupyter-widgets/base",
            "_model_module_version": "1.5.0",
            "_view_count": null,
            "_view_module_version": "1.2.0",
            "bar_color": null,
            "_model_module": "@jupyter-widgets/controls"
          }
        },
        "9e46f7102934427a8e458d96b0ad1934": {
          "model_module": "@jupyter-widgets/base",
          "model_name": "LayoutModel",
          "state": {
            "_view_name": "LayoutView",
            "grid_template_rows": null,
            "right": null,
            "justify_content": null,
            "_view_module": "@jupyter-widgets/base",
            "overflow": null,
            "_model_module_version": "1.2.0",
            "_view_count": null,
            "flex_flow": null,
            "width": null,
            "min_width": null,
            "border": null,
            "align_items": null,
            "bottom": null,
            "_model_module": "@jupyter-widgets/base",
            "top": null,
            "grid_column": null,
            "overflow_y": null,
            "overflow_x": null,
            "grid_auto_flow": null,
            "grid_area": null,
            "grid_template_columns": null,
            "flex": null,
            "_model_name": "LayoutModel",
            "justify_items": null,
            "grid_row": null,
            "max_height": null,
            "align_content": null,
            "visibility": null,
            "align_self": null,
            "height": null,
            "min_height": null,
            "padding": null,
            "grid_auto_rows": null,
            "grid_gap": null,
            "max_width": null,
            "order": null,
            "_view_module_version": "1.2.0",
            "grid_template_areas": null,
            "object_position": null,
            "object_fit": null,
            "grid_auto_columns": null,
            "margin": null,
            "display": null,
            "left": null
          }
        },
        "381a57d69c5345f49c67b225318ca50a": {
          "model_module": "@jupyter-widgets/controls",
          "model_name": "DescriptionStyleModel",
          "state": {
            "_view_name": "StyleView",
            "_model_name": "DescriptionStyleModel",
            "description_width": "",
            "_view_module": "@jupyter-widgets/base",
            "_model_module_version": "1.5.0",
            "_view_count": null,
            "_view_module_version": "1.2.0",
            "_model_module": "@jupyter-widgets/controls"
          }
        },
        "b12faa993f994cbb84e142098c35663f": {
          "model_module": "@jupyter-widgets/base",
          "model_name": "LayoutModel",
          "state": {
            "_view_name": "LayoutView",
            "grid_template_rows": null,
            "right": null,
            "justify_content": null,
            "_view_module": "@jupyter-widgets/base",
            "overflow": null,
            "_model_module_version": "1.2.0",
            "_view_count": null,
            "flex_flow": null,
            "width": null,
            "min_width": null,
            "border": null,
            "align_items": null,
            "bottom": null,
            "_model_module": "@jupyter-widgets/base",
            "top": null,
            "grid_column": null,
            "overflow_y": null,
            "overflow_x": null,
            "grid_auto_flow": null,
            "grid_area": null,
            "grid_template_columns": null,
            "flex": null,
            "_model_name": "LayoutModel",
            "justify_items": null,
            "grid_row": null,
            "max_height": null,
            "align_content": null,
            "visibility": null,
            "align_self": null,
            "height": null,
            "min_height": null,
            "padding": null,
            "grid_auto_rows": null,
            "grid_gap": null,
            "max_width": null,
            "order": null,
            "_view_module_version": "1.2.0",
            "grid_template_areas": null,
            "object_position": null,
            "object_fit": null,
            "grid_auto_columns": null,
            "margin": null,
            "display": null,
            "left": null
          }
        },
        "655e8fc4cffe47609b9edf939ae4910d": {
          "model_module": "@jupyter-widgets/controls",
          "model_name": "HBoxModel",
          "state": {
            "_view_name": "HBoxView",
            "_dom_classes": [],
            "_model_name": "HBoxModel",
            "_view_module": "@jupyter-widgets/controls",
            "_model_module_version": "1.5.0",
            "_view_count": null,
            "_view_module_version": "1.5.0",
            "box_style": "",
            "layout": "IPY_MODEL_69fce7f5052d4a3bb11398b4e6667dc4",
            "_model_module": "@jupyter-widgets/controls",
            "children": [
              "IPY_MODEL_5b6b376eb480444f8eea870aa0439324",
              "IPY_MODEL_572ce26a96fb4016aacc38e50e0c7a66"
            ]
          }
        },
        "69fce7f5052d4a3bb11398b4e6667dc4": {
          "model_module": "@jupyter-widgets/base",
          "model_name": "LayoutModel",
          "state": {
            "_view_name": "LayoutView",
            "grid_template_rows": null,
            "right": null,
            "justify_content": null,
            "_view_module": "@jupyter-widgets/base",
            "overflow": null,
            "_model_module_version": "1.2.0",
            "_view_count": null,
            "flex_flow": null,
            "width": null,
            "min_width": null,
            "border": null,
            "align_items": null,
            "bottom": null,
            "_model_module": "@jupyter-widgets/base",
            "top": null,
            "grid_column": null,
            "overflow_y": null,
            "overflow_x": null,
            "grid_auto_flow": null,
            "grid_area": null,
            "grid_template_columns": null,
            "flex": null,
            "_model_name": "LayoutModel",
            "justify_items": null,
            "grid_row": null,
            "max_height": null,
            "align_content": null,
            "visibility": null,
            "align_self": null,
            "height": null,
            "min_height": null,
            "padding": null,
            "grid_auto_rows": null,
            "grid_gap": null,
            "max_width": null,
            "order": null,
            "_view_module_version": "1.2.0",
            "grid_template_areas": null,
            "object_position": null,
            "object_fit": null,
            "grid_auto_columns": null,
            "margin": null,
            "display": null,
            "left": null
          }
        },
        "5b6b376eb480444f8eea870aa0439324": {
          "model_module": "@jupyter-widgets/controls",
          "model_name": "FloatProgressModel",
          "state": {
            "_view_name": "ProgressView",
            "style": "IPY_MODEL_f6af534f34fb44a1a51b5dc577f50c0a",
            "_dom_classes": [],
            "description": "",
            "_model_name": "FloatProgressModel",
            "bar_style": "info",
            "max": 1,
            "_view_module": "@jupyter-widgets/controls",
            "_model_module_version": "1.5.0",
            "value": 1,
            "_view_count": null,
            "_view_module_version": "1.5.0",
            "orientation": "horizontal",
            "min": 0,
            "description_tooltip": null,
            "_model_module": "@jupyter-widgets/controls",
            "layout": "IPY_MODEL_d30cb77f0934484ab203d6d63e184403"
          }
        },
        "572ce26a96fb4016aacc38e50e0c7a66": {
          "model_module": "@jupyter-widgets/controls",
          "model_name": "HTMLModel",
          "state": {
            "_view_name": "HTMLView",
            "style": "IPY_MODEL_7103966a03874ccab538d515470db5b7",
            "_dom_classes": [],
            "description": "",
            "_model_name": "HTMLModel",
            "placeholder": "​",
            "_view_module": "@jupyter-widgets/controls",
            "_model_module_version": "1.5.0",
            "value": " 44/0 [00:00&lt;00:00, 1619.28 examples/s]",
            "_view_count": null,
            "_view_module_version": "1.5.0",
            "description_tooltip": null,
            "_model_module": "@jupyter-widgets/controls",
            "layout": "IPY_MODEL_dab24fb29f674d0fa1df7b414f651c57"
          }
        },
        "f6af534f34fb44a1a51b5dc577f50c0a": {
          "model_module": "@jupyter-widgets/controls",
          "model_name": "ProgressStyleModel",
          "state": {
            "_view_name": "StyleView",
            "_model_name": "ProgressStyleModel",
            "description_width": "initial",
            "_view_module": "@jupyter-widgets/base",
            "_model_module_version": "1.5.0",
            "_view_count": null,
            "_view_module_version": "1.2.0",
            "bar_color": null,
            "_model_module": "@jupyter-widgets/controls"
          }
        },
        "d30cb77f0934484ab203d6d63e184403": {
          "model_module": "@jupyter-widgets/base",
          "model_name": "LayoutModel",
          "state": {
            "_view_name": "LayoutView",
            "grid_template_rows": null,
            "right": null,
            "justify_content": null,
            "_view_module": "@jupyter-widgets/base",
            "overflow": null,
            "_model_module_version": "1.2.0",
            "_view_count": null,
            "flex_flow": null,
            "width": null,
            "min_width": null,
            "border": null,
            "align_items": null,
            "bottom": null,
            "_model_module": "@jupyter-widgets/base",
            "top": null,
            "grid_column": null,
            "overflow_y": null,
            "overflow_x": null,
            "grid_auto_flow": null,
            "grid_area": null,
            "grid_template_columns": null,
            "flex": null,
            "_model_name": "LayoutModel",
            "justify_items": null,
            "grid_row": null,
            "max_height": null,
            "align_content": null,
            "visibility": null,
            "align_self": null,
            "height": null,
            "min_height": null,
            "padding": null,
            "grid_auto_rows": null,
            "grid_gap": null,
            "max_width": null,
            "order": null,
            "_view_module_version": "1.2.0",
            "grid_template_areas": null,
            "object_position": null,
            "object_fit": null,
            "grid_auto_columns": null,
            "margin": null,
            "display": null,
            "left": null
          }
        },
        "7103966a03874ccab538d515470db5b7": {
          "model_module": "@jupyter-widgets/controls",
          "model_name": "DescriptionStyleModel",
          "state": {
            "_view_name": "StyleView",
            "_model_name": "DescriptionStyleModel",
            "description_width": "",
            "_view_module": "@jupyter-widgets/base",
            "_model_module_version": "1.5.0",
            "_view_count": null,
            "_view_module_version": "1.2.0",
            "_model_module": "@jupyter-widgets/controls"
          }
        },
        "dab24fb29f674d0fa1df7b414f651c57": {
          "model_module": "@jupyter-widgets/base",
          "model_name": "LayoutModel",
          "state": {
            "_view_name": "LayoutView",
            "grid_template_rows": null,
            "right": null,
            "justify_content": null,
            "_view_module": "@jupyter-widgets/base",
            "overflow": null,
            "_model_module_version": "1.2.0",
            "_view_count": null,
            "flex_flow": null,
            "width": null,
            "min_width": null,
            "border": null,
            "align_items": null,
            "bottom": null,
            "_model_module": "@jupyter-widgets/base",
            "top": null,
            "grid_column": null,
            "overflow_y": null,
            "overflow_x": null,
            "grid_auto_flow": null,
            "grid_area": null,
            "grid_template_columns": null,
            "flex": null,
            "_model_name": "LayoutModel",
            "justify_items": null,
            "grid_row": null,
            "max_height": null,
            "align_content": null,
            "visibility": null,
            "align_self": null,
            "height": null,
            "min_height": null,
            "padding": null,
            "grid_auto_rows": null,
            "grid_gap": null,
            "max_width": null,
            "order": null,
            "_view_module_version": "1.2.0",
            "grid_template_areas": null,
            "object_position": null,
            "object_fit": null,
            "grid_auto_columns": null,
            "margin": null,
            "display": null,
            "left": null
          }
        },
        "7623b3f398884390ad997e88f63fa95b": {
          "model_module": "@jupyter-widgets/controls",
          "model_name": "HBoxModel",
          "state": {
            "_view_name": "HBoxView",
            "_dom_classes": [],
            "_model_name": "HBoxModel",
            "_view_module": "@jupyter-widgets/controls",
            "_model_module_version": "1.5.0",
            "_view_count": null,
            "_view_module_version": "1.5.0",
            "box_style": "",
            "layout": "IPY_MODEL_7f459521d5a841f581b80a34eeb7015d",
            "_model_module": "@jupyter-widgets/controls",
            "children": [
              "IPY_MODEL_e069db4016ac450aa527c264ba41caef",
              "IPY_MODEL_f4be51982e3141b8a7366d733a42367a"
            ]
          }
        },
        "7f459521d5a841f581b80a34eeb7015d": {
          "model_module": "@jupyter-widgets/base",
          "model_name": "LayoutModel",
          "state": {
            "_view_name": "LayoutView",
            "grid_template_rows": null,
            "right": null,
            "justify_content": null,
            "_view_module": "@jupyter-widgets/base",
            "overflow": null,
            "_model_module_version": "1.2.0",
            "_view_count": null,
            "flex_flow": null,
            "width": null,
            "min_width": null,
            "border": null,
            "align_items": null,
            "bottom": null,
            "_model_module": "@jupyter-widgets/base",
            "top": null,
            "grid_column": null,
            "overflow_y": null,
            "overflow_x": null,
            "grid_auto_flow": null,
            "grid_area": null,
            "grid_template_columns": null,
            "flex": null,
            "_model_name": "LayoutModel",
            "justify_items": null,
            "grid_row": null,
            "max_height": null,
            "align_content": null,
            "visibility": null,
            "align_self": null,
            "height": null,
            "min_height": null,
            "padding": null,
            "grid_auto_rows": null,
            "grid_gap": null,
            "max_width": null,
            "order": null,
            "_view_module_version": "1.2.0",
            "grid_template_areas": null,
            "object_position": null,
            "object_fit": null,
            "grid_auto_columns": null,
            "margin": null,
            "display": null,
            "left": null
          }
        },
        "e069db4016ac450aa527c264ba41caef": {
          "model_module": "@jupyter-widgets/controls",
          "model_name": "FloatProgressModel",
          "state": {
            "_view_name": "ProgressView",
            "style": "IPY_MODEL_d9dee2437acf4b229a99daffc8fc7000",
            "_dom_classes": [],
            "description": "",
            "_model_name": "FloatProgressModel",
            "bar_style": "info",
            "max": 1,
            "_view_module": "@jupyter-widgets/controls",
            "_model_module_version": "1.5.0",
            "value": 1,
            "_view_count": null,
            "_view_module_version": "1.5.0",
            "orientation": "horizontal",
            "min": 0,
            "description_tooltip": null,
            "_model_module": "@jupyter-widgets/controls",
            "layout": "IPY_MODEL_b8510f3a4f214c9bbd0a8514d73c1b8c"
          }
        },
        "f4be51982e3141b8a7366d733a42367a": {
          "model_module": "@jupyter-widgets/controls",
          "model_name": "HTMLModel",
          "state": {
            "_view_name": "HTMLView",
            "style": "IPY_MODEL_a01aec5342b14e40ac9a7168eba5bcc0",
            "_dom_classes": [],
            "description": "",
            "_model_name": "HTMLModel",
            "placeholder": "​",
            "_view_module": "@jupyter-widgets/controls",
            "_model_module_version": "1.5.0",
            "value": " 1411/0 [00:00&lt;00:00, 14209.17 examples/s]",
            "_view_count": null,
            "_view_module_version": "1.5.0",
            "description_tooltip": null,
            "_model_module": "@jupyter-widgets/controls",
            "layout": "IPY_MODEL_03adcb43b58f47f484c264b77d1ea94e"
          }
        },
        "d9dee2437acf4b229a99daffc8fc7000": {
          "model_module": "@jupyter-widgets/controls",
          "model_name": "ProgressStyleModel",
          "state": {
            "_view_name": "StyleView",
            "_model_name": "ProgressStyleModel",
            "description_width": "initial",
            "_view_module": "@jupyter-widgets/base",
            "_model_module_version": "1.5.0",
            "_view_count": null,
            "_view_module_version": "1.2.0",
            "bar_color": null,
            "_model_module": "@jupyter-widgets/controls"
          }
        },
        "b8510f3a4f214c9bbd0a8514d73c1b8c": {
          "model_module": "@jupyter-widgets/base",
          "model_name": "LayoutModel",
          "state": {
            "_view_name": "LayoutView",
            "grid_template_rows": null,
            "right": null,
            "justify_content": null,
            "_view_module": "@jupyter-widgets/base",
            "overflow": null,
            "_model_module_version": "1.2.0",
            "_view_count": null,
            "flex_flow": null,
            "width": null,
            "min_width": null,
            "border": null,
            "align_items": null,
            "bottom": null,
            "_model_module": "@jupyter-widgets/base",
            "top": null,
            "grid_column": null,
            "overflow_y": null,
            "overflow_x": null,
            "grid_auto_flow": null,
            "grid_area": null,
            "grid_template_columns": null,
            "flex": null,
            "_model_name": "LayoutModel",
            "justify_items": null,
            "grid_row": null,
            "max_height": null,
            "align_content": null,
            "visibility": null,
            "align_self": null,
            "height": null,
            "min_height": null,
            "padding": null,
            "grid_auto_rows": null,
            "grid_gap": null,
            "max_width": null,
            "order": null,
            "_view_module_version": "1.2.0",
            "grid_template_areas": null,
            "object_position": null,
            "object_fit": null,
            "grid_auto_columns": null,
            "margin": null,
            "display": null,
            "left": null
          }
        },
        "a01aec5342b14e40ac9a7168eba5bcc0": {
          "model_module": "@jupyter-widgets/controls",
          "model_name": "DescriptionStyleModel",
          "state": {
            "_view_name": "StyleView",
            "_model_name": "DescriptionStyleModel",
            "description_width": "",
            "_view_module": "@jupyter-widgets/base",
            "_model_module_version": "1.5.0",
            "_view_count": null,
            "_view_module_version": "1.2.0",
            "_model_module": "@jupyter-widgets/controls"
          }
        },
        "03adcb43b58f47f484c264b77d1ea94e": {
          "model_module": "@jupyter-widgets/base",
          "model_name": "LayoutModel",
          "state": {
            "_view_name": "LayoutView",
            "grid_template_rows": null,
            "right": null,
            "justify_content": null,
            "_view_module": "@jupyter-widgets/base",
            "overflow": null,
            "_model_module_version": "1.2.0",
            "_view_count": null,
            "flex_flow": null,
            "width": null,
            "min_width": null,
            "border": null,
            "align_items": null,
            "bottom": null,
            "_model_module": "@jupyter-widgets/base",
            "top": null,
            "grid_column": null,
            "overflow_y": null,
            "overflow_x": null,
            "grid_auto_flow": null,
            "grid_area": null,
            "grid_template_columns": null,
            "flex": null,
            "_model_name": "LayoutModel",
            "justify_items": null,
            "grid_row": null,
            "max_height": null,
            "align_content": null,
            "visibility": null,
            "align_self": null,
            "height": null,
            "min_height": null,
            "padding": null,
            "grid_auto_rows": null,
            "grid_gap": null,
            "max_width": null,
            "order": null,
            "_view_module_version": "1.2.0",
            "grid_template_areas": null,
            "object_position": null,
            "object_fit": null,
            "grid_auto_columns": null,
            "margin": null,
            "display": null,
            "left": null
          }
        },
        "e5eba5da2fe44b0cb163cc99e7ddf7fd": {
          "model_module": "@jupyter-widgets/controls",
          "model_name": "HBoxModel",
          "state": {
            "_view_name": "HBoxView",
            "_dom_classes": [],
            "_model_name": "HBoxModel",
            "_view_module": "@jupyter-widgets/controls",
            "_model_module_version": "1.5.0",
            "_view_count": null,
            "_view_module_version": "1.5.0",
            "box_style": "",
            "layout": "IPY_MODEL_b3d08a167c55458fa3d38f202e6f3b93",
            "_model_module": "@jupyter-widgets/controls",
            "children": [
              "IPY_MODEL_e86d080578694744954ab44ac502b684",
              "IPY_MODEL_11a42faa8e704040855fc7dcd92e2fba"
            ]
          }
        },
        "b3d08a167c55458fa3d38f202e6f3b93": {
          "model_module": "@jupyter-widgets/base",
          "model_name": "LayoutModel",
          "state": {
            "_view_name": "LayoutView",
            "grid_template_rows": null,
            "right": null,
            "justify_content": null,
            "_view_module": "@jupyter-widgets/base",
            "overflow": null,
            "_model_module_version": "1.2.0",
            "_view_count": null,
            "flex_flow": null,
            "width": null,
            "min_width": null,
            "border": null,
            "align_items": null,
            "bottom": null,
            "_model_module": "@jupyter-widgets/base",
            "top": null,
            "grid_column": null,
            "overflow_y": null,
            "overflow_x": null,
            "grid_auto_flow": null,
            "grid_area": null,
            "grid_template_columns": null,
            "flex": null,
            "_model_name": "LayoutModel",
            "justify_items": null,
            "grid_row": null,
            "max_height": null,
            "align_content": null,
            "visibility": null,
            "align_self": null,
            "height": null,
            "min_height": null,
            "padding": null,
            "grid_auto_rows": null,
            "grid_gap": null,
            "max_width": null,
            "order": null,
            "_view_module_version": "1.2.0",
            "grid_template_areas": null,
            "object_position": null,
            "object_fit": null,
            "grid_auto_columns": null,
            "margin": null,
            "display": null,
            "left": null
          }
        },
        "e86d080578694744954ab44ac502b684": {
          "model_module": "@jupyter-widgets/controls",
          "model_name": "FloatProgressModel",
          "state": {
            "_view_name": "ProgressView",
            "style": "IPY_MODEL_e0f026f9931f48e7a6b3c2871b2f1545",
            "_dom_classes": [],
            "description": "",
            "_model_name": "FloatProgressModel",
            "bar_style": "info",
            "max": 1,
            "_view_module": "@jupyter-widgets/controls",
            "_model_module_version": "1.5.0",
            "value": 1,
            "_view_count": null,
            "_view_module_version": "1.5.0",
            "orientation": "horizontal",
            "min": 0,
            "description_tooltip": null,
            "_model_module": "@jupyter-widgets/controls",
            "layout": "IPY_MODEL_acee25b9368c4aefa76daba50f269267"
          }
        },
        "11a42faa8e704040855fc7dcd92e2fba": {
          "model_module": "@jupyter-widgets/controls",
          "model_name": "HTMLModel",
          "state": {
            "_view_name": "HTMLView",
            "style": "IPY_MODEL_c176b7472854472890aa64747b65603b",
            "_dom_classes": [],
            "description": "",
            "_model_name": "HTMLModel",
            "placeholder": "​",
            "_view_module": "@jupyter-widgets/controls",
            "_model_module_version": "1.5.0",
            "value": " 43/0 [00:00&lt;00:00, 1681.16 examples/s]",
            "_view_count": null,
            "_view_module_version": "1.5.0",
            "description_tooltip": null,
            "_model_module": "@jupyter-widgets/controls",
            "layout": "IPY_MODEL_933a817a51334504baacf03b94eaf1a6"
          }
        },
        "e0f026f9931f48e7a6b3c2871b2f1545": {
          "model_module": "@jupyter-widgets/controls",
          "model_name": "ProgressStyleModel",
          "state": {
            "_view_name": "StyleView",
            "_model_name": "ProgressStyleModel",
            "description_width": "initial",
            "_view_module": "@jupyter-widgets/base",
            "_model_module_version": "1.5.0",
            "_view_count": null,
            "_view_module_version": "1.2.0",
            "bar_color": null,
            "_model_module": "@jupyter-widgets/controls"
          }
        },
        "acee25b9368c4aefa76daba50f269267": {
          "model_module": "@jupyter-widgets/base",
          "model_name": "LayoutModel",
          "state": {
            "_view_name": "LayoutView",
            "grid_template_rows": null,
            "right": null,
            "justify_content": null,
            "_view_module": "@jupyter-widgets/base",
            "overflow": null,
            "_model_module_version": "1.2.0",
            "_view_count": null,
            "flex_flow": null,
            "width": null,
            "min_width": null,
            "border": null,
            "align_items": null,
            "bottom": null,
            "_model_module": "@jupyter-widgets/base",
            "top": null,
            "grid_column": null,
            "overflow_y": null,
            "overflow_x": null,
            "grid_auto_flow": null,
            "grid_area": null,
            "grid_template_columns": null,
            "flex": null,
            "_model_name": "LayoutModel",
            "justify_items": null,
            "grid_row": null,
            "max_height": null,
            "align_content": null,
            "visibility": null,
            "align_self": null,
            "height": null,
            "min_height": null,
            "padding": null,
            "grid_auto_rows": null,
            "grid_gap": null,
            "max_width": null,
            "order": null,
            "_view_module_version": "1.2.0",
            "grid_template_areas": null,
            "object_position": null,
            "object_fit": null,
            "grid_auto_columns": null,
            "margin": null,
            "display": null,
            "left": null
          }
        },
        "c176b7472854472890aa64747b65603b": {
          "model_module": "@jupyter-widgets/controls",
          "model_name": "DescriptionStyleModel",
          "state": {
            "_view_name": "StyleView",
            "_model_name": "DescriptionStyleModel",
            "description_width": "",
            "_view_module": "@jupyter-widgets/base",
            "_model_module_version": "1.5.0",
            "_view_count": null,
            "_view_module_version": "1.2.0",
            "_model_module": "@jupyter-widgets/controls"
          }
        },
        "933a817a51334504baacf03b94eaf1a6": {
          "model_module": "@jupyter-widgets/base",
          "model_name": "LayoutModel",
          "state": {
            "_view_name": "LayoutView",
            "grid_template_rows": null,
            "right": null,
            "justify_content": null,
            "_view_module": "@jupyter-widgets/base",
            "overflow": null,
            "_model_module_version": "1.2.0",
            "_view_count": null,
            "flex_flow": null,
            "width": null,
            "min_width": null,
            "border": null,
            "align_items": null,
            "bottom": null,
            "_model_module": "@jupyter-widgets/base",
            "top": null,
            "grid_column": null,
            "overflow_y": null,
            "overflow_x": null,
            "grid_auto_flow": null,
            "grid_area": null,
            "grid_template_columns": null,
            "flex": null,
            "_model_name": "LayoutModel",
            "justify_items": null,
            "grid_row": null,
            "max_height": null,
            "align_content": null,
            "visibility": null,
            "align_self": null,
            "height": null,
            "min_height": null,
            "padding": null,
            "grid_auto_rows": null,
            "grid_gap": null,
            "max_width": null,
            "order": null,
            "_view_module_version": "1.2.0",
            "grid_template_areas": null,
            "object_position": null,
            "object_fit": null,
            "grid_auto_columns": null,
            "margin": null,
            "display": null,
            "left": null
          }
        }
      }
    },
    "accelerator": "GPU"
  },
  "cells": [
    {
      "cell_type": "markdown",
      "metadata": {
        "id": "view-in-github",
        "colab_type": "text"
      },
      "source": [
        "<a href=\"https://colab.research.google.com/github/rahul-art/huggingface_wav2vec2_punjabi/blob/main/Fine_Tune_XLSR_Wav2Vec2_on_Punjabi_ASR_with_%F0%9F%A4%97_Transformers.ipynb\" target=\"_parent\"><img src=\"https://colab.research.google.com/assets/colab-badge.svg\" alt=\"Open In Colab\"/></a>"
      ]
    },
    {
      "cell_type": "markdown",
      "metadata": {
        "id": "LBSYoWbi-45k"
      },
      "source": [
        "# **Fine-tuning XLSR-Wav2Vec2 for Multi-Lingual ASR with 🤗 Transformers**"
      ]
    },
    {
      "cell_type": "markdown",
      "metadata": {
        "id": "V7YOT2mnUiea"
      },
      "source": [
        "Wav2Vec2 is a pretrained model for Automatic Speech Recognition (ASR) and was released in [September 2020](https://ai.facebook.com/blog/wav2vec-20-learning-the-structure-of-speech-from-raw-audio/) by Alexei Baevski, Michael Auli, and Alex Conneau.  Soon after the superior performance of Wav2Vec2 was demonstrated on the English ASR dataset LibriSpeech, *Facebook AI* presented XLSR-Wav2Vec2 (click [here](https://arxiv.org/abs/2006.13979)). XLSR stands for *cross-lingual  speech representations* and refers to XLSR-Wav2Vec2`s ability to learn speech representations that are useful across multiple languages.\n",
        "\n",
        "Similar to Wav2Vec2, XLSR-Wav2Vec2 learns powerful speech representations from hundreds of thousands of hours of speech in more than 50 languages of unlabeled speech. Similar, to [BERT's masked language modeling](http://jalammar.github.io/illustrated-bert/), the model learns contextualized speech representations by randomly masking feature vectors before passing them to a transformer network.\n",
        "\n",
        "![wav2vec2_structure](https://raw.githubusercontent.com/patrickvonplaten/scientific_images/master/xlsr_wav2vec2.png)\n",
        "\n",
        "The authors show for the first time that massively pretraining an ASR model on cross-lingual unlabeled speech data, followed by language-specific fine-tuning on very little labeled data achieves state-of-the-art results. See Table 1-5 of the official [paper](https://arxiv.org/pdf/2006.13979.pdf)."
      ]
    },
    {
      "cell_type": "markdown",
      "metadata": {
        "id": "nT_QrfWtsxIz"
      },
      "source": [
        "In this notebook, we will give an in-detail explanation of how XLSR-Wav2Vec2's pretrained checkpoint can be fine-tuned on a low-resource ASR dataset of any language. Note that in this notebook, we will fine-tune XLSR-Wav2Vec2 without making use of a language model. It is much simpler and more efficient to use XLSR-Wav2Vec2 without a language model, but better results can be achieved by including a language model. \n",
        "\n",
        "For demonstration purposes, we fine-tune the [wav2vec2-large-xlsr-53](https://huggingface.co/facebook/wav2vec2-large-xlsr-53) on the low resource Turkish ASR dataset of [Common Voice](https://huggingface.co/datasets/common_voice) that contains just ~6h of validated training data."
      ]
    },
    {
      "cell_type": "markdown",
      "metadata": {
        "id": "Gx9OdDYrCtQ1"
      },
      "source": [
        "XLSR-Wav2Vec2 is fine-tuned using Connectionist Temporal Classification (CTC), which is an algorithm that is used to train neural networks for sequence-to-sequence problems and mainly in Automatic Speech Recognition and handwriting recognition. \n",
        "\n",
        "I highly recommend reading the blog post [Sequence Modeling with CTC (2017)](https://distill.pub/2017/ctc/) very well-written blog post by Awni Hannun."
      ]
    },
    {
      "cell_type": "markdown",
      "metadata": {
        "id": "e335hPmdtASZ"
      },
      "source": [
        "Before we start, let's install both `datasets` and `transformers` from master. Also, we need the `torchaudio` and `librosa` package to load audio files and the `jiwer` to evaluate our fine-tuned model using the [word error rate (WER)](https://huggingface.co/metrics/wer) metric ${}^1$."
      ]
    },
    {
      "cell_type": "code",
      "metadata": {
        "id": "c8eh87Hoee5d"
      },
      "source": [
        "%%capture\n",
        "!pip install datasets==1.4.1\n",
        "!pip install transformers==4.4.0\n",
        "!pip install torchaudio\n",
        "!pip install librosa\n",
        "!pip install jiwer"
      ],
      "execution_count": 1,
      "outputs": []
    },
    {
      "cell_type": "markdown",
      "metadata": {
        "id": "Mn9swf6EQ9Vd"
      },
      "source": [
        "\n",
        "\n",
        "\n",
        "---\n",
        "\n",
        "${}^1$ In the [paper](https://arxiv.org/pdf/2006.13979.pdf), the model was evaluated using the phoneme error rate (PER), but by far the most common metric in ASR is the word error rate (WER). To keep this notebook as general as possible we decided to evaluate the model using WER."
      ]
    },
    {
      "cell_type": "markdown",
      "metadata": {
        "id": "0mW-C1Nt-j7k"
      },
      "source": [
        "## Prepare Data, Tokenizer, Feature Extractor"
      ]
    },
    {
      "cell_type": "markdown",
      "metadata": {
        "id": "BeBosnY9BH3e"
      },
      "source": [
        "ASR models transcribe speech to text, which means that we both need a feature extractor that processes the speech signal to the model's input format, *e.g.* a feature vector, and a tokenizer that processes the model's output format to text. \n",
        "\n",
        "In 🤗 Transformers, the XLSR-Wav2Vec2 model is thus accompanied by both a tokenizer, called [Wav2Vec2CTCTokenizer](https://huggingface.co/transformers/master/model_doc/wav2vec2.html#wav2vec2ctctokenizer), and a feature extractor, called [Wav2Vec2FeatureExtractor](https://huggingface.co/transformers/master/model_doc/wav2vec2.html#wav2vec2featureextractor).\n",
        "\n",
        "Let's start by creating the tokenizer responsible for decoding the model's predictions."
      ]
    },
    {
      "cell_type": "markdown",
      "metadata": {
        "id": "sEXEWEJGQPqD"
      },
      "source": [
        "### Create Wav2Vec2CTCTokenizer"
      ]
    },
    {
      "cell_type": "markdown",
      "metadata": {
        "id": "tWmMikuNEKl_"
      },
      "source": [
        "The [pretrained Wav2Vec2 checkpoint]( ) maps the speech signal to a sequence of context representations as illustrated in the figure above. A fine-tuned XLSR-Wav2Vec2 checkpoint needs to map this sequence of context representations to its corresponding transcription so that a linear layer has to be added on top of the transformer block (shown in yellow). This linear layer is used to classifies each context representation to a token class analogous how, *e.g.*, after pretraining a linear layer is added on top of BERT's embeddings for further classification - *cf.* with *\"BERT\"* section of this [blog post](https://huggingface.co/blog/warm-starting-encoder-decoder).\n",
        "\n",
        "The output size of this layer corresponds to the number of tokens in the vocabulary, which does **not** depend on XLSR-Wav2Vec2's pretraining task, but only on the labeled dataset used for fine-tuning. So in the first step, we will take a look at Common Voice and define a vocabulary based on the dataset's transcriptions."
      ]
    },
    {
      "cell_type": "markdown",
      "metadata": {
        "id": "idBczw8mWzgt"
      },
      "source": [
        "First, let's go to [Common Voice](https://commonvoice.mozilla.org/en/datasets) and pick a language to fine-tune XLSR-Wav2Vec2 on. For this notebook, we will use Turkish. \n",
        "\n",
        "For each language-specific dataset, you can find a language code corresponding to your chosen language. On [Common Voice](https://commonvoice.mozilla.org/en/datasets), look for the field \"Version\". The language code then corresponds to the prefix before the underscore. For Turkish, *e.g.* the language code is `\"tr\"`.\n",
        "\n",
        "Great, now we can use 🤗 Datasets' simple API to download the data. The dataset name will be `\"common_voice\"`, the config name corresponds to the language code - `\"tr\"` in our case."
      ]
    },
    {
      "cell_type": "markdown",
      "metadata": {
        "id": "bee4g9rpLxll"
      },
      "source": [
        "Common Voice has many different splits including `invalidated`, which refers to data that was not rated as \"clean enough\" to be considered useful. In this notebook, we will only make use of the splits `\"train\"`, `\"validation\"` and `\"test\"`. \n",
        "\n",
        "Because the Turkish dataset is so small, we will merge both the validation and training data into a training dataset and simply use the test data for validation."
      ]
    },
    {
      "cell_type": "code",
      "metadata": {
        "colab": {
          "base_uri": "https://localhost:8080/",
          "height": 307,
          "referenced_widgets": [
            "a5f2dca81a28434f90f29c375a8ae1a1",
            "95a7309f7368432f896de2283e7d01d7",
            "5628e07a0097455da15e4b6b40084879",
            "f489e90812ec46c4b2a04691c9349888",
            "0ef8e65d4ff140edbfa9c23a27bcb56e",
            "e4fab5d7d7cf4ce89a74aee9a16e7096",
            "193c23051b574b329d1e4f7e65034efc",
            "3f0703f118c24757b0271ca605602470",
            "016e3868a39c4584b2fa044bcc2ed385",
            "18d8afaac19d400a8215a133e4a19ed4",
            "efaf7bac582d4c2e880a81bfb378c0f2",
            "37b9442ba0d74ecc84b8bc76ffbbafb9",
            "16ec49fc6e134da7880324fd7b94978f",
            "166a43ee03544c748b67757c9f8cdef5",
            "813e46c9c119442b90814f8306fefaf6",
            "6256f931d2214b42b962f727214a24e9",
            "4c73451062d14a2ca1946c3beeb5d59a",
            "71c916269e4b45a3896682a57bff00c6",
            "c521a94317fd42658f84cd85b827d7f0",
            "d08fb96b07024a2bb0771ccc935c0766",
            "c8db422d5824468bbcdbc0df7789759e",
            "a2ced80929b44c419497a67900d9ab76",
            "24ab556445fe4543a415628b705ebabe",
            "1749876359d64a169899e37dfc3872cc",
            "facb57b1f6454f15bee3c5f2ffd20471",
            "4a316cfd79f74c0cb350d72f66d4b96c",
            "b04f36aed60d41a3b3809daf03324cc5",
            "4d5709af14724f13b1be0f863488fbe8",
            "a0028bb949d64b18971ff3e39ce1556b",
            "fa0a9fe8b8b148cb9e6f14789695c44f",
            "cd824a53373b456f92d401ef7a2d8e78",
            "5f2a208db4c64413903a8df1b48bf84d",
            "6c4ed5e31fd64d788a70db43909d754a",
            "11f1c3f4fa2242ba9de1ba1683767607",
            "d98a3f64a9f24401b9c4fec632b1981c",
            "4c79221781bf4d5280274c7f7e9ff0d9",
            "cb20af7fbe35423680c492c17b669d01",
            "9472a48135294ed7be390ed3f5664006",
            "1ac3e770d41d479a96aac82fa27d0c20",
            "39c59fc854e542f59b7fb545affb5c44",
            "1f39fe37834a430c8081260ed766c385",
            "92fea0be916643419a6f935d4e9c7631",
            "a598c9c2fe4a4579b0f48bb2290377d9",
            "6759a04e7334400ab3ec24d4e48e107e",
            "e258b04c28ce4370bb91d9a23cdb6cea",
            "900974d56f464e41b8a2a73c82a654af",
            "60b4b6276dfd4031adb4e3eba6f80691",
            "395414dfb47e4db3af2e00cca329889a",
            "dd539ff1499e41069e4aa4f390d92ab6",
            "21bc6b3cf70447f58d110b33288eb3d0",
            "edb5a8ad703f4653946ad70fb90a8e1e",
            "0e5e8614945b4187a6cea27209dc193e",
            "3d0f746442594e739abbc7d45727a56a",
            "afd83d88829c4935a4a88b9f0e3a5ec8",
            "59f88855e671489f91de62c1db3fa156",
            "5a5df41f3e4d40a09ae6bab66e9f8b8d",
            "47b503aab3d44e04bcab128b306e4c54",
            "47bf61d276b54a7d997f0300c33f8f3d",
            "e71b7a448c3142ef96d106fa59af1f00",
            "ae8b8eadab72479f909b1a2e3f60bbaf",
            "4edc9cdb18944841a4be4f8b3936fc8b",
            "d58c575f30334df79111467e8202a316",
            "ebb430116f574bb2aabe80e1ed6b9627",
            "a126ec48981f4335bdf5cdda68300207"
          ]
        },
        "id": "ZsinDj8aL0gL",
        "outputId": "06d499a9-3ce3-46f3-aabc-020b051fff8e"
      },
      "source": [
        "from datasets import load_dataset, load_metric\n",
        "\n",
        "common_voice_train = load_dataset(\"common_voice\", \"pa-IN\", split=\"train+validation\")\n",
        "common_voice_test = load_dataset(\"common_voice\", \"pa-IN\", split=\"test\")"
      ],
      "execution_count": 2,
      "outputs": [
        {
          "output_type": "display_data",
          "data": {
            "application/vnd.jupyter.widget-view+json": {
              "model_id": "a5f2dca81a28434f90f29c375a8ae1a1",
              "version_minor": 0,
              "version_major": 2
            },
            "text/plain": [
              "HBox(children=(FloatProgress(value=0.0, description='Downloading', max=4323.0, style=ProgressStyle(description…"
            ]
          },
          "metadata": {
            "tags": []
          }
        },
        {
          "output_type": "stream",
          "text": [
            "Couldn't find file locally at common_voice/common_voice.py, or remotely at https://raw.githubusercontent.com/huggingface/datasets/1.4.1/datasets/common_voice/common_voice.py.\n",
            "The file was picked from the master branch on github instead at https://raw.githubusercontent.com/huggingface/datasets/master/datasets/common_voice/common_voice.py.\n"
          ],
          "name": "stderr"
        },
        {
          "output_type": "stream",
          "text": [
            "\n"
          ],
          "name": "stdout"
        },
        {
          "output_type": "display_data",
          "data": {
            "application/vnd.jupyter.widget-view+json": {
              "model_id": "016e3868a39c4584b2fa044bcc2ed385",
              "version_minor": 0,
              "version_major": 2
            },
            "text/plain": [
              "HBox(children=(FloatProgress(value=0.0, description='Downloading', max=9954.0, style=ProgressStyle(description…"
            ]
          },
          "metadata": {
            "tags": []
          }
        },
        {
          "output_type": "stream",
          "text": [
            "\n",
            "Downloading and preparing dataset common_voice/pa-IN (download: 66.52 MiB, generated: 846.02 KiB, post-processed: Unknown size, total: 67.34 MiB) to /root/.cache/huggingface/datasets/common_voice/pa-IN/6.1.0/0041e06ab061b91d0a23234a2221e87970a19cf3a81b20901474cffffeb7869f...\n"
          ],
          "name": "stdout"
        },
        {
          "output_type": "display_data",
          "data": {
            "application/vnd.jupyter.widget-view+json": {
              "model_id": "4c73451062d14a2ca1946c3beeb5d59a",
              "version_minor": 0,
              "version_major": 2
            },
            "text/plain": [
              "HBox(children=(FloatProgress(value=0.0, description='Downloading', max=69748265.0, style=ProgressStyle(descrip…"
            ]
          },
          "metadata": {
            "tags": []
          }
        },
        {
          "output_type": "stream",
          "text": [
            "\n"
          ],
          "name": "stdout"
        },
        {
          "output_type": "display_data",
          "data": {
            "application/vnd.jupyter.widget-view+json": {
              "model_id": "facb57b1f6454f15bee3c5f2ffd20471",
              "version_minor": 0,
              "version_major": 2
            },
            "text/plain": [
              "HBox(children=(FloatProgress(value=1.0, bar_style='info', max=1.0), HTML(value='')))"
            ]
          },
          "metadata": {
            "tags": []
          }
        },
        {
          "output_type": "stream",
          "text": [
            "\r"
          ],
          "name": "stdout"
        },
        {
          "output_type": "display_data",
          "data": {
            "application/vnd.jupyter.widget-view+json": {
              "model_id": "6c4ed5e31fd64d788a70db43909d754a",
              "version_minor": 0,
              "version_major": 2
            },
            "text/plain": [
              "HBox(children=(FloatProgress(value=1.0, bar_style='info', max=1.0), HTML(value='')))"
            ]
          },
          "metadata": {
            "tags": []
          }
        },
        {
          "output_type": "stream",
          "text": [
            "\r"
          ],
          "name": "stdout"
        },
        {
          "output_type": "display_data",
          "data": {
            "application/vnd.jupyter.widget-view+json": {
              "model_id": "1f39fe37834a430c8081260ed766c385",
              "version_minor": 0,
              "version_major": 2
            },
            "text/plain": [
              "HBox(children=(FloatProgress(value=1.0, bar_style='info', max=1.0), HTML(value='')))"
            ]
          },
          "metadata": {
            "tags": []
          }
        },
        {
          "output_type": "stream",
          "text": [
            "\r"
          ],
          "name": "stdout"
        },
        {
          "output_type": "display_data",
          "data": {
            "application/vnd.jupyter.widget-view+json": {
              "model_id": "dd539ff1499e41069e4aa4f390d92ab6",
              "version_minor": 0,
              "version_major": 2
            },
            "text/plain": [
              "HBox(children=(FloatProgress(value=1.0, bar_style='info', max=1.0), HTML(value='')))"
            ]
          },
          "metadata": {
            "tags": []
          }
        },
        {
          "output_type": "stream",
          "text": [
            "\r"
          ],
          "name": "stdout"
        },
        {
          "output_type": "display_data",
          "data": {
            "application/vnd.jupyter.widget-view+json": {
              "model_id": "47b503aab3d44e04bcab128b306e4c54",
              "version_minor": 0,
              "version_major": 2
            },
            "text/plain": [
              "HBox(children=(FloatProgress(value=1.0, bar_style='info', max=1.0), HTML(value='')))"
            ]
          },
          "metadata": {
            "tags": []
          }
        },
        {
          "output_type": "stream",
          "text": [
            "\rDataset common_voice downloaded and prepared to /root/.cache/huggingface/datasets/common_voice/pa-IN/6.1.0/0041e06ab061b91d0a23234a2221e87970a19cf3a81b20901474cffffeb7869f. Subsequent calls will reuse this data.\n"
          ],
          "name": "stdout"
        },
        {
          "output_type": "stream",
          "text": [
            "Couldn't find file locally at common_voice/common_voice.py, or remotely at https://raw.githubusercontent.com/huggingface/datasets/1.4.1/datasets/common_voice/common_voice.py.\n",
            "The file was picked from the master branch on github instead at https://raw.githubusercontent.com/huggingface/datasets/master/datasets/common_voice/common_voice.py.\n",
            "Reusing dataset common_voice (/root/.cache/huggingface/datasets/common_voice/pa-IN/6.1.0/0041e06ab061b91d0a23234a2221e87970a19cf3a81b20901474cffffeb7869f)\n"
          ],
          "name": "stderr"
        }
      ]
    },
    {
      "cell_type": "markdown",
      "metadata": {
        "id": "ri5y5N_HMANq"
      },
      "source": [
        "Many ASR datasets only provide the target text, `'sentence'` for each audio file `'path'`. Common Voice actually provides much more information about each audio file, such as the `'accent'`, etc. However, we want to keep the notebook as general as possible, so that we will only consider the transcribed text for fine-tuning.\n",
        "\n"
      ]
    },
    {
      "cell_type": "code",
      "metadata": {
        "id": "kbyq6lDgQc2a"
      },
      "source": [
        "common_voice_train = common_voice_train.remove_columns([\"accent\", \"age\", \"client_id\", \"down_votes\", \"gender\", \"locale\", \"segment\", \"up_votes\"])\n",
        "common_voice_test = common_voice_test.remove_columns([\"accent\", \"age\", \"client_id\", \"down_votes\", \"gender\", \"locale\", \"segment\", \"up_votes\"])"
      ],
      "execution_count": 3,
      "outputs": []
    },
    {
      "cell_type": "markdown",
      "metadata": {
        "id": "Go9Hq4e4NDT9"
      },
      "source": [
        "Let's write a short function to display some random samples of the dataset and run it a couple of times to get a feeling for the transcriptions."
      ]
    },
    {
      "cell_type": "code",
      "metadata": {
        "id": "72737oog2F6U"
      },
      "source": [
        "from datasets import ClassLabel\n",
        "import random\n",
        "import pandas as pd\n",
        "from IPython.display import display, HTML\n",
        "\n",
        "def show_random_elements(dataset, num_examples=10):\n",
        "    assert num_examples <= len(dataset), \"Can't pick more elements than there are in the dataset.\"\n",
        "    picks = []\n",
        "    for _ in range(num_examples):\n",
        "        pick = random.randint(0, len(dataset)-1)\n",
        "        while pick in picks:\n",
        "            pick = random.randint(0, len(dataset)-1)\n",
        "        picks.append(pick)\n",
        "    \n",
        "    df = pd.DataFrame(dataset[picks])\n",
        "    display(HTML(df.to_html()))"
      ],
      "execution_count": 4,
      "outputs": []
    },
    {
      "cell_type": "code",
      "metadata": {
        "colab": {
          "base_uri": "https://localhost:8080/",
          "height": 677
        },
        "id": "K_JUmf3G3b9S",
        "outputId": "24d7f2aa-fc75-4424-b807-442a6a769082"
      },
      "source": [
        "show_random_elements(common_voice_train.remove_columns([\"path\"]), num_examples=20)"
      ],
      "execution_count": 5,
      "outputs": [
        {
          "output_type": "display_data",
          "data": {
            "text/html": [
              "<table border=\"1\" class=\"dataframe\">\n",
              "  <thead>\n",
              "    <tr style=\"text-align: right;\">\n",
              "      <th></th>\n",
              "      <th>sentence</th>\n",
              "    </tr>\n",
              "  </thead>\n",
              "  <tbody>\n",
              "    <tr>\n",
              "      <th>0</th>\n",
              "      <td>ਮੁਸਕਰਾਓ ਇਸ ਨਾਲ ਲੋਕ ਚਕਰਾ ਜਾਂਦੇ ਹਨ</td>\n",
              "    </tr>\n",
              "    <tr>\n",
              "      <th>1</th>\n",
              "      <td>ਕਿਸਾਨਾਂ ਨੂੰ ਸਰਕਾਰੀ ਸਕੀਮਾਂ ਤੋਂ ਜਾਣੂ ਕਰਵਾਇਆ</td>\n",
              "    </tr>\n",
              "    <tr>\n",
              "      <th>2</th>\n",
              "      <td>ਉਸ ਕੋਲ ਲੋਕ ਕਹਾਣੀਆਂ ਦਾ ਅਥਾਹ ਖ਼ਜ਼ਾਨਾ ਸੀ</td>\n",
              "    </tr>\n",
              "    <tr>\n",
              "      <th>3</th>\n",
              "      <td>ਡਾਕਟਰ ਦਾ ਜਵਾਬ ਸੀ ਕਿਉਂਕਿ ਲੋਕ ਬਹੁਤ ਸਾਫ ਸੁਥਰੇ ਵਾਤਾਵਰਣ ਵਿਚ ਰਹਿੰਦੇ ਹਨ</td>\n",
              "    </tr>\n",
              "    <tr>\n",
              "      <th>4</th>\n",
              "      <td>ਵੋਟਾਂ ਦੀ ਗਿਣਤੀ ਮਾਰਚ ਨੂੰ ਹੋਵੇਗੀ</td>\n",
              "    </tr>\n",
              "    <tr>\n",
              "      <th>5</th>\n",
              "      <td>ਪੈਸੇ ਦੀ ਖ਼ਾਤਰ ਢਾਹੁੰਦੇ ਮੈਂ ਦਰਗਾਹ ਵੇਖੇ</td>\n",
              "    </tr>\n",
              "    <tr>\n",
              "      <th>6</th>\n",
              "      <td>ਦੋਹਾਂ ਦੀਆਂ ਸੀਟਾਂ ਪੰਜ ਪੰਜ ਹਜ਼ਾਰ ਹਨ</td>\n",
              "    </tr>\n",
              "    <tr>\n",
              "      <th>7</th>\n",
              "      <td>ਪਰ ਅਗਰ ਸਰਕਾਰ ਪੈਨਸ਼ਨ ਵਧਾ ਦਿੰਦੀ ਹੈ ਤਾਂ ਕਦੇ ਲੱਡੂ ਨਹੀਂ ਵੰਡਦੇ</td>\n",
              "    </tr>\n",
              "    <tr>\n",
              "      <th>8</th>\n",
              "      <td>ਸਾਡੇ ਪਰਿਵਾਰ ਦਾ ਕਿਸ ਤਰ੍ਹਾਂ ਵੱਧ ਤੋਂ ਵੱਧ ਸੈਫ਼ ਹੋਵੇਗਾ</td>\n",
              "    </tr>\n",
              "    <tr>\n",
              "      <th>9</th>\n",
              "      <td>ਉਹ ਸਾਡਾ ਤਮਾਸ਼ਾ ਦੇਖ ਰਹੇ ਹਨ</td>\n",
              "    </tr>\n",
              "    <tr>\n",
              "      <th>10</th>\n",
              "      <td>ਸਤਿਕਾਰ ਯੋਗ ਸੰਪਾਦਕ ਜੀ ਸਤਿ ਸ੍ਰੀ ਅਕਾਲ</td>\n",
              "    </tr>\n",
              "    <tr>\n",
              "      <th>11</th>\n",
              "      <td>ਘਰ ਦਾ ਬਣਿਆ ਭੋਜਨ ਹੀ ਖਾਓ</td>\n",
              "    </tr>\n",
              "    <tr>\n",
              "      <th>12</th>\n",
              "      <td>ਪ੍ਰੋਫੈਸਰ ਪੰਜਾਬੀ ਵਿਭਾਗ ਤੇ ਡਾਇਰੈਕਟਰ ਯੁਵਕ ਭਲਾਈ</td>\n",
              "    </tr>\n",
              "    <tr>\n",
              "      <th>13</th>\n",
              "      <td>ਜਦੋਂ ਤੱਕ ਅਸੀਂ ਆਪਣੀ ਮਾਨਸਿਕਤਾ ਬਦਲਦੇ ਨਹੀਂ</td>\n",
              "    </tr>\n",
              "    <tr>\n",
              "      <th>14</th>\n",
              "      <td>ਉਨਾਂ ਕਿਹਾ ਕਿ ਕੁੱਝ ਗਾਹਕ ਵੀ ਪੈਸੇ ਲੇਟ ਕਰ ਦਿੰਦੇ ਹਨ</td>\n",
              "    </tr>\n",
              "    <tr>\n",
              "      <th>15</th>\n",
              "      <td>ਮੁਜਰਮਾਂ ਨਾਲ ਮਿਲ ਕੇ ਸਰਦਾਰ ਬਣ ਜਾਵਾਂਗਾ</td>\n",
              "    </tr>\n",
              "    <tr>\n",
              "      <th>16</th>\n",
              "      <td>ਭਿੰਡੀ ਦਾ ਬੂਟਾ ਫੁੱਟ ਉੱਚਾ</td>\n",
              "    </tr>\n",
              "    <tr>\n",
              "      <th>17</th>\n",
              "      <td>ਨਾਂਗ ਵਾਂਗ ਭੋਰਾਂ ਨਹੀਂ ਲਿਹਾਜ਼ ਕਰਦੀ</td>\n",
              "    </tr>\n",
              "    <tr>\n",
              "      <th>18</th>\n",
              "      <td>ਵਿਦਿਆਰਥੀਆਂ ਨੂੰ ਲੈਪਟਾਪ ਕਦੋਂ ਤੱਕ ਮਿਲ ਜਾਣਗੇ</td>\n",
              "    </tr>\n",
              "    <tr>\n",
              "      <th>19</th>\n",
              "      <td>ਖੁਸ਼ ਰਹੋ ਜਿਸ ਦੇ ਕਿ ਤੁਸੀਂ ਹੱਕਦਾਰ ਹੋ</td>\n",
              "    </tr>\n",
              "  </tbody>\n",
              "</table>"
            ],
            "text/plain": [
              "<IPython.core.display.HTML object>"
            ]
          },
          "metadata": {
            "tags": []
          }
        }
      ]
    },
    {
      "cell_type": "markdown",
      "metadata": {
        "id": "fowcOllGNNju"
      },
      "source": [
        "Alright! The transcriptions look fairly clean. Having translated the transcribed sentences (I'm sadly not a native speaker in Turkish), it seems that the language corresponds more to written text than noisy dialogue. This makes sense taking into account that [Common Voice](https://huggingface.co/datasets/common_voice) is a crowd-sourced read speech corpus."
      ]
    },
    {
      "cell_type": "markdown",
      "metadata": {
        "id": "vq7OR50LN49m"
      },
      "source": [
        "We can see that the transcriptions contain some special characters, such as `,.?!;:`. Without a language model, it is much harder to classify speech chunks to such special characters because they don't really correspond to a characteristic sound unit. *E.g.*, the letter `\"s\"` has a more or less clear sound, whereas the special character `\".\"` does not.\n",
        "Also in order to understand the meaning of a speech signal, it is usually not necessary to include special characters in the transcription.\n",
        "\n",
        "In addition, we normalize the text to only have lower case letters and append a word separator token at the end."
      ]
    },
    {
      "cell_type": "code",
      "metadata": {
        "id": "svKzVJ_hQGK6"
      },
      "source": [
        "import re\n",
        "chars_to_ignore_regex = '[\\,\\?\\.\\!\\-\\;\\:\\\"\\“\\%\\‘\\”\\�]'\n",
        "\n",
        "def remove_special_characters(batch):\n",
        "    batch[\"sentence\"] = re.sub(chars_to_ignore_regex, '', batch[\"sentence\"]).lower() + \" \"\n",
        "    return batch"
      ],
      "execution_count": 6,
      "outputs": []
    },
    {
      "cell_type": "code",
      "metadata": {
        "colab": {
          "base_uri": "https://localhost:8080/",
          "height": 116,
          "referenced_widgets": [
            "70382c1b81024dcb8f24ba44ab34f09c",
            "12ff64959eed41bf819f7fa47ecae66a",
            "6884ab7de0fa47ffab62b24923eefc17",
            "395b26066f554adf9b67f24254af67e3",
            "d116402cb690493495d5d89ec565719a",
            "dd2351dffe91435290007e07542778f2",
            "06f06e795e634c419c5fe1f341d1da60",
            "1b721d222bd348aeabd07aac52ddb922",
            "4e625dfe30484b788927f5260ae4c8f2",
            "22624dbad8e9466db4e7574ed7fc6921",
            "eda0cda4eaa649c4b7bc9d35db08b891",
            "375585b30ad94fa7842b084a0cd4d566",
            "0fb74beda48647e5939c00bab9781f5c",
            "fd88df049d9c4d8eb49fd459b69f0561",
            "648d68492b5b40e998642927d5adbd4c",
            "ee3c749f6c534104856c9bef0e8522df"
          ]
        },
        "id": "XIHocAuTQbBR",
        "outputId": "e7c5a8b8-eef0-4257-c3ab-0e5265ab7c24"
      },
      "source": [
        "common_voice_train = common_voice_train.map(remove_special_characters)\n",
        "common_voice_test = common_voice_test.map(remove_special_characters)"
      ],
      "execution_count": 7,
      "outputs": [
        {
          "output_type": "display_data",
          "data": {
            "application/vnd.jupyter.widget-view+json": {
              "model_id": "70382c1b81024dcb8f24ba44ab34f09c",
              "version_minor": 0,
              "version_major": 2
            },
            "text/plain": [
              "HBox(children=(FloatProgress(value=0.0, max=255.0), HTML(value='')))"
            ]
          },
          "metadata": {
            "tags": []
          }
        },
        {
          "output_type": "stream",
          "text": [
            "\n"
          ],
          "name": "stdout"
        },
        {
          "output_type": "display_data",
          "data": {
            "application/vnd.jupyter.widget-view+json": {
              "model_id": "4e625dfe30484b788927f5260ae4c8f2",
              "version_minor": 0,
              "version_major": 2
            },
            "text/plain": [
              "HBox(children=(FloatProgress(value=0.0, max=116.0), HTML(value='')))"
            ]
          },
          "metadata": {
            "tags": []
          }
        },
        {
          "output_type": "stream",
          "text": [
            "\n"
          ],
          "name": "stdout"
        }
      ]
    },
    {
      "cell_type": "code",
      "metadata": {
        "colab": {
          "base_uri": "https://localhost:8080/",
          "height": 363
        },
        "id": "RBDRAAYxRE6n",
        "outputId": "ef762f18-c0c7-4f21-eb5b-320868629851"
      },
      "source": [
        "show_random_elements(common_voice_train.remove_columns([\"path\"]))"
      ],
      "execution_count": 8,
      "outputs": [
        {
          "output_type": "display_data",
          "data": {
            "text/html": [
              "<table border=\"1\" class=\"dataframe\">\n",
              "  <thead>\n",
              "    <tr style=\"text-align: right;\">\n",
              "      <th></th>\n",
              "      <th>sentence</th>\n",
              "    </tr>\n",
              "  </thead>\n",
              "  <tbody>\n",
              "    <tr>\n",
              "      <th>0</th>\n",
              "      <td>ਇਸ ਤਰ੍ਹਾਂ ਹੀ ਨਾਲ ਦੇ ਪਿੰਡ ਕਬਰਸਤਾਨ ਹੈ</td>\n",
              "    </tr>\n",
              "    <tr>\n",
              "      <th>1</th>\n",
              "      <td>ਉਹ ਉਸ ਵੱਲ ਪਿੱਠ ਕਰੀ ਪਈ ਸੀ</td>\n",
              "    </tr>\n",
              "    <tr>\n",
              "      <th>2</th>\n",
              "      <td>ਕੋਈ ਨਜ਼ਰ ਵੀ ਐਸੀ ਦੇਖੀ ਨਾ</td>\n",
              "    </tr>\n",
              "    <tr>\n",
              "      <th>3</th>\n",
              "      <td>ਜਿਸ ਤੋਂ ਬਾਅਦ ਉਹ ਵਾਪਸ ਨਹੀਂ ਪਰਤਿਆ</td>\n",
              "    </tr>\n",
              "    <tr>\n",
              "      <th>4</th>\n",
              "      <td>ਪਰ ਪੈਸੇ ਨਾਲ ਕਰ ਲੈਂਦੀ ਹੈ</td>\n",
              "    </tr>\n",
              "    <tr>\n",
              "      <th>5</th>\n",
              "      <td>ਘੰਟੀਆਂ ਵੱਜਵੱਜ ਹੱਟ ਜਾਂਦੀਆਂ</td>\n",
              "    </tr>\n",
              "    <tr>\n",
              "      <th>6</th>\n",
              "      <td>ਜਾਣਦੀ ਹਾਂ ਜ਼ਿੰਦਗੀ ਚ ਕੀ ਹਾਸਲ ਕਰਨੈ</td>\n",
              "    </tr>\n",
              "    <tr>\n",
              "      <th>7</th>\n",
              "      <td>ਹਰ ਪਰਿਵਾਰ ਵਾਸਤੇ ਇਹ ਅਲੱਗ ਅਲੱਗ ਹੋਵੇਗੀ</td>\n",
              "    </tr>\n",
              "    <tr>\n",
              "      <th>8</th>\n",
              "      <td>ਇਹ ਗੱਲ ਮਾਮੂਲੀ ਤਕਰਾਰ ਦਾ ਕਾਰਣ ਬਣੀ</td>\n",
              "    </tr>\n",
              "    <tr>\n",
              "      <th>9</th>\n",
              "      <td>ਜਦੋਂ ਤੱਕ ਅਸੀਂ ਆਪਣੀ ਮਾਨਸਿਕਤਾ ਬਦਲਦੇ ਨਹੀਂ</td>\n",
              "    </tr>\n",
              "  </tbody>\n",
              "</table>"
            ],
            "text/plain": [
              "<IPython.core.display.HTML object>"
            ]
          },
          "metadata": {
            "tags": []
          }
        }
      ]
    },
    {
      "cell_type": "markdown",
      "metadata": {
        "id": "jwfaptH5RJwA"
      },
      "source": [
        "Good! This looks better. We have removed most special characters from transcriptions and normalized them to lower-case only.\n",
        "\n",
        "In CTC, it is common to classify speech chunks into letters, so we will do the same here. \n",
        "Let's extract all distinct letters of the training and test data and build our vocabulary from this set of letters.\n",
        "\n",
        "We write a mapping function that concatenates all transcriptions into one long transcription and then transforms the string into a set of chars. \n",
        "It is important to pass the argument `batched=True` to the `map(...)` function so that the mapping function has access to all transcriptions at once."
      ]
    },
    {
      "cell_type": "code",
      "metadata": {
        "id": "LwCshNbbeRZR"
      },
      "source": [
        "def extract_all_chars(batch):\n",
        "  all_text = \" \".join(batch[\"sentence\"])\n",
        "  vocab = list(set(all_text))\n",
        "  return {\"vocab\": [vocab], \"all_text\": [all_text]}"
      ],
      "execution_count": 9,
      "outputs": []
    },
    {
      "cell_type": "code",
      "metadata": {
        "colab": {
          "base_uri": "https://localhost:8080/",
          "height": 116,
          "referenced_widgets": [
            "ce3223e85de34d5a8cb15ffa270014c1",
            "d9846aada36049e6abf508f772d90d80",
            "680a7cc43a6c43e5b40027e437c6dc18",
            "68999f1e72c44964925c20abff8856a2",
            "14960435253d434c92dce1a6fb2e5fb6",
            "680088b2407241d898c6de3703d623bc",
            "59214033867942e096c4a3e22f1bca29",
            "7bb61f3f192c469cae4bc0477dfcd4b4",
            "1443724d21f14897968d20e430f3c55b",
            "535039eb232342e4bb3a6630afa37caa",
            "7a71c8f270e44347af3914319edb2606",
            "964219d9747b46e48a9426932021995e",
            "acee89f978e8458cb9183cac666c5eae",
            "0b5d28896b6345dbaee817016bdb2b40",
            "1257d25f544e4d65a72b69904d5a89b2",
            "bed3721f86e546cfb06d0c6c381663d8"
          ]
        },
        "id": "_m6uUjjcfbjH",
        "outputId": "61cf0e5d-2dce-4c38-9698-48e54462d955"
      },
      "source": [
        "vocab_train = common_voice_train.map(extract_all_chars, batched=True, batch_size=-1, keep_in_memory=True, remove_columns=common_voice_train.column_names)\n",
        "vocab_test = common_voice_test.map(extract_all_chars, batched=True, batch_size=-1, keep_in_memory=True, remove_columns=common_voice_test.column_names)"
      ],
      "execution_count": 10,
      "outputs": [
        {
          "output_type": "display_data",
          "data": {
            "application/vnd.jupyter.widget-view+json": {
              "model_id": "ce3223e85de34d5a8cb15ffa270014c1",
              "version_minor": 0,
              "version_major": 2
            },
            "text/plain": [
              "HBox(children=(FloatProgress(value=0.0, max=1.0), HTML(value='')))"
            ]
          },
          "metadata": {
            "tags": []
          }
        },
        {
          "output_type": "stream",
          "text": [
            "\n"
          ],
          "name": "stdout"
        },
        {
          "output_type": "display_data",
          "data": {
            "application/vnd.jupyter.widget-view+json": {
              "model_id": "1443724d21f14897968d20e430f3c55b",
              "version_minor": 0,
              "version_major": 2
            },
            "text/plain": [
              "HBox(children=(FloatProgress(value=0.0, max=1.0), HTML(value='')))"
            ]
          },
          "metadata": {
            "tags": []
          }
        },
        {
          "output_type": "stream",
          "text": [
            "\n"
          ],
          "name": "stdout"
        }
      ]
    },
    {
      "cell_type": "markdown",
      "metadata": {
        "id": "7oVgE8RZSJNP"
      },
      "source": [
        "Now, we create the union of all distinct letters in the training dataset and test dataset and convert the resulting list into an enumerated dictionary."
      ]
    },
    {
      "cell_type": "code",
      "metadata": {
        "id": "aQfneNsmlJI0"
      },
      "source": [
        "vocab_list = list(set(vocab_train[\"vocab\"][0]) | set(vocab_test[\"vocab\"][0]))"
      ],
      "execution_count": 11,
      "outputs": []
    },
    {
      "cell_type": "code",
      "metadata": {
        "colab": {
          "base_uri": "https://localhost:8080/"
        },
        "id": "_0kRndSvqaKk",
        "outputId": "715ae978-20a5-487f-bc0a-4a011ba1e3c2"
      },
      "source": [
        "vocab_dict = {v: k for k, v in enumerate(vocab_list)}\n",
        "vocab_dict"
      ],
      "execution_count": 12,
      "outputs": [
        {
          "output_type": "execute_result",
          "data": {
            "text/plain": [
              "{' ': 10,\n",
              " 'ਂ': 34,\n",
              " 'ਅ': 53,\n",
              " 'ਆ': 17,\n",
              " 'ਇ': 6,\n",
              " 'ਈ': 43,\n",
              " 'ਉ': 30,\n",
              " 'ਊ': 49,\n",
              " 'ਏ': 14,\n",
              " 'ਐ': 40,\n",
              " 'ਓ': 50,\n",
              " 'ਔ': 60,\n",
              " 'ਕ': 28,\n",
              " 'ਖ': 5,\n",
              " 'ਗ': 56,\n",
              " 'ਘ': 25,\n",
              " 'ਚ': 48,\n",
              " 'ਛ': 41,\n",
              " 'ਜ': 33,\n",
              " 'ਝ': 11,\n",
              " 'ਟ': 23,\n",
              " 'ਠ': 29,\n",
              " 'ਡ': 38,\n",
              " 'ਢ': 15,\n",
              " 'ਣ': 4,\n",
              " 'ਤ': 3,\n",
              " 'ਥ': 18,\n",
              " 'ਦ': 21,\n",
              " 'ਧ': 8,\n",
              " 'ਨ': 55,\n",
              " 'ਪ': 46,\n",
              " 'ਫ': 44,\n",
              " 'ਬ': 7,\n",
              " 'ਭ': 2,\n",
              " 'ਮ': 1,\n",
              " 'ਯ': 26,\n",
              " 'ਰ': 13,\n",
              " 'ਲ': 47,\n",
              " 'ਲ਼': 9,\n",
              " 'ਵ': 59,\n",
              " 'ਸ਼': 19,\n",
              " 'ਸ': 52,\n",
              " 'ਹ': 24,\n",
              " '਼': 27,\n",
              " 'ਾ': 42,\n",
              " 'ਿ': 58,\n",
              " 'ੀ': 61,\n",
              " 'ੁ': 16,\n",
              " 'ੂ': 31,\n",
              " 'ੇ': 57,\n",
              " 'ੈ': 35,\n",
              " 'ੋ': 22,\n",
              " 'ੌ': 54,\n",
              " '੍': 20,\n",
              " 'ਖ਼': 0,\n",
              " 'ਗ਼': 51,\n",
              " 'ਜ਼': 37,\n",
              " 'ੜ': 45,\n",
              " 'ਫ਼': 36,\n",
              " 'ੰ': 12,\n",
              " 'ੱ': 32,\n",
              " '…': 39}"
            ]
          },
          "metadata": {
            "tags": []
          },
          "execution_count": 12
        }
      ]
    },
    {
      "cell_type": "markdown",
      "metadata": {
        "id": "JOSzbvs9SXT1"
      },
      "source": [
        "Cool, we see that all letters of the alphabet occur in the dataset (which is not really surprising) and we also extracted the special characters `\" \"` and `'`. Note that we did not exclude those special characters because: \n",
        "\n",
        "- The model has to learn to predict when a word is finished or else the model prediction would always be a sequence of chars which would make it impossible to separate words from each other.\n",
        "- From the transcriptions above it seems that words that include an apostrophe, such as `maktouf'un` do exist in Turkish, so I decided to keep the apostrophe in the dataset. This might be a wrong assumption though.\n",
        "\n",
        "One should always keep in mind that the data-preprocessing is a very important step before training your model. E.g., we don't want our model to differentiate between `a` and `A` just because we forgot to normalize the data. The difference between `a` and `A` does not depend on the \"sound\" of the letter at all, but more on grammatical rules - *e.g.* use a capitalized letter at the beginning of the sentence. So it is sensible to remove the difference between capitalized and non-capitalized letters so that the model has an easier time learning to transcribe speech. \n",
        "\n",
        "It is always advantageous to get help from a native speaker of the language you would like to transcribe to verify whether the assumptions you made are sensible, *e.g.* I should have made sure that keeping `'`, but removing other special characters is a sensible choice for Turkish. "
      ]
    },
    {
      "cell_type": "markdown",
      "metadata": {
        "id": "b1fBRCn-TRaO"
      },
      "source": [
        "To make it clearer that `\" \"` has its own token class, we give it a more visible character `|`. In addition, we also add an \"unknown\" token so that the model can later deal with characters not encountered in Common Voice's training set. \n",
        "\n",
        "Finally, we also add a padding token that corresponds to CTC's \"*blank token*\". The \"blank token\" is a core component of the CTC algorithm. For more information, please take a look at the \"Alignment\" section [here](https://distill.pub/2017/ctc/)."
      ]
    },
    {
      "cell_type": "code",
      "metadata": {
        "id": "npbIbBoLgaFX"
      },
      "source": [
        "vocab_dict[\"|\"] = vocab_dict[\" \"]\n",
        "del vocab_dict[\" \"]"
      ],
      "execution_count": 13,
      "outputs": []
    },
    {
      "cell_type": "code",
      "metadata": {
        "id": "znF0bNunsjbl",
        "colab": {
          "base_uri": "https://localhost:8080/"
        },
        "outputId": "f625cc5d-15ce-40a2-ae95-35c536b19888"
      },
      "source": [
        "vocab_dict[\"[UNK]\"] = len(vocab_dict)\n",
        "vocab_dict[\"[PAD]\"] = len(vocab_dict)\n",
        "len(vocab_dict)"
      ],
      "execution_count": 14,
      "outputs": [
        {
          "output_type": "execute_result",
          "data": {
            "text/plain": [
              "64"
            ]
          },
          "metadata": {
            "tags": []
          },
          "execution_count": 14
        }
      ]
    },
    {
      "cell_type": "markdown",
      "metadata": {
        "id": "SFPGfet8U5sL"
      },
      "source": [
        "Cool, now our vocabulary is complete and consists of 39 tokens, which means that the linear layer that we will add on top of the pretrained XLSR-Wav2Vec2 checkpoint will have an output dimension of 39."
      ]
    },
    {
      "cell_type": "markdown",
      "metadata": {
        "id": "1CujRgBNVRaD"
      },
      "source": [
        "Let's now save the vocabulary as a json file."
      ]
    },
    {
      "cell_type": "code",
      "metadata": {
        "id": "ehyUoh9vk191"
      },
      "source": [
        "import json\n",
        "with open('vocab.json', 'w') as vocab_file:\n",
        "    json.dump(vocab_dict, vocab_file)"
      ],
      "execution_count": 15,
      "outputs": []
    },
    {
      "cell_type": "markdown",
      "metadata": {
        "id": "SHJDaKlIVVim"
      },
      "source": [
        "In a final step, we use the json file to instantiate an object of the `Wav2Vec2CTCTokenizer` class."
      ]
    },
    {
      "cell_type": "code",
      "metadata": {
        "id": "xriFGEWQkO4M"
      },
      "source": [
        "from transformers import Wav2Vec2CTCTokenizer\n",
        "\n",
        "tokenizer = Wav2Vec2CTCTokenizer(\"./vocab.json\", unk_token=\"[UNK]\", pad_token=\"[PAD]\", word_delimiter_token=\"|\")"
      ],
      "execution_count": 16,
      "outputs": []
    },
    {
      "cell_type": "markdown",
      "metadata": {
        "id": "KvL12DrNV4cx"
      },
      "source": [
        "Next, we will create the feature extractor."
      ]
    },
    {
      "cell_type": "markdown",
      "metadata": {
        "id": "mYcIiR2FQ96i"
      },
      "source": [
        "### Create XLSR-Wav2Vec2 Feature Extractor"
      ]
    },
    {
      "cell_type": "markdown",
      "metadata": {
        "id": "Y6mDEyW719rx"
      },
      "source": [
        "Speech is a continuous signal and to be treated by computers, it first has to be discretized, which is usually called **sampling**. The sampling rate hereby plays an important role in that it defines how many data points of the speech signal are measured per second. Therefore, sampling with a higher sampling rate results in a better approximation of the *real* speech signal but also necessitates more values per second.\n",
        "\n",
        "A pretrained checkpoint expects its input data to have been sampled more or less from the same distribution as the data it was trained on. The same speech signals sampled at two different rates have a very different distribution, *e.g.*, doubling the sampling rate results in data points being twice as long. Thus, \n",
        "before fine-tuning a pretrained checkpoint of an ASR model, it is crucial to verify that the sampling rate of the data that was used to pretrain the model matches the sampling rate of the dataset used to fine-tune the model.\n",
        "\n",
        "XLSR-Wav2Vec2 was pretrained on the audio data of [Babel](https://huggingface.co/datasets/librispeech_asr), \n",
        "[Multilingual LibriSpeech (MLS)](https://ai.facebook.com/blog/a-new-open-data-set-for-multilingual-speech-research/), and [Common Voice](https://huggingface.co/datasets/common_voice). Most of those datasets were sampled at 16kHz, so that Common Voice, sampled at 48kHz, has to be downsampled to 16kHz for training. Therefore, we will have to downsample our fine-tuning data to 16kHz in the following.\n",
        "\n"
      ]
    },
    {
      "cell_type": "markdown",
      "metadata": {
        "id": "KuUbPW7oV-B5"
      },
      "source": [
        "A XLSR-Wav2Vec2 feature extractor object requires the following parameters to be instantiated:\n",
        "\n",
        "- `feature_size`: Speech models take a sequence of feature vectors as an input. While the length of this sequence obviously varies, the feature size should not. In the case of Wav2Vec2, the feature size is 1 because the model was trained on the raw speech signal ${}^2$.\n",
        "- `sampling_rate`: The sampling rate at which the model is trained on.\n",
        "- `padding_value`: For batched inference, shorter inputs need to be padded with a specific value\n",
        "- `do_normalize`: Whether the input should be *zero-mean-unit-variance* normalized or not. Usually, speech models perform better when normalizing the input\n",
        "- `return_attention_mask`: Whether the model should make use of an `attention_mask` for batched inference. In general, XLSR-Wav2Vec2 models should **always** make use of the `attention_mask`."
      ]
    },
    {
      "cell_type": "code",
      "metadata": {
        "id": "kAR0-2KLkopp"
      },
      "source": [
        "from transformers import Wav2Vec2FeatureExtractor\n",
        "\n",
        "feature_extractor = Wav2Vec2FeatureExtractor(feature_size=1, sampling_rate=16000, padding_value=0.0, do_normalize=True, return_attention_mask=True)"
      ],
      "execution_count": 17,
      "outputs": []
    },
    {
      "cell_type": "markdown",
      "metadata": {
        "id": "qUETetgqYC3W"
      },
      "source": [
        "Great, XLSR-Wav2Vec2's feature extraction pipeline is thereby fully defined!\n",
        "\n",
        "To make the usage of XLSR-Wav2Vec2 as user-friendly as possible, the feature extractor and tokenizer are *wrapped* into a single `Wav2Vec2Processor` class so that one only needs a `model` and `processor` object."
      ]
    },
    {
      "cell_type": "code",
      "metadata": {
        "id": "KYZtoW-tlZgl"
      },
      "source": [
        "from transformers import Wav2Vec2Processor\n",
        "\n",
        "processor = Wav2Vec2Processor(feature_extractor=feature_extractor, tokenizer=tokenizer)"
      ],
      "execution_count": 18,
      "outputs": []
    },
    {
      "cell_type": "markdown",
      "metadata": {
        "id": "fTfFDSS0YfMN"
      },
      "source": [
        "If one wants to re-use the just created processor and the fine-tuned model of this notebook, one can mount his/her google drive to the notebook and save all relevant files there. To do so, please uncomment the following lines. \n",
        "\n",
        "We will give the fine-tuned model the name `\"wav2vec2-large-xlsr-turkish-demo\"`."
      ]
    },
    {
      "cell_type": "code",
      "metadata": {
        "id": "yq7Bzuzz4zjQ",
        "colab": {
          "base_uri": "https://localhost:8080/"
        },
        "outputId": "76c8edbd-27ac-49c1-bc8c-a62b59315c94"
      },
      "source": [
        "from google.colab import drive\n",
        "drive.mount('/content/gdrive/')"
      ],
      "execution_count": 19,
      "outputs": [
        {
          "output_type": "stream",
          "text": [
            "Mounted at /content/gdrive/\n"
          ],
          "name": "stdout"
        }
      ]
    },
    {
      "cell_type": "code",
      "metadata": {
        "id": "Par9rpypPsml"
      },
      "source": [
        "processor.save_pretrained(\"/content/gdrive/MyDrive/wav2vec2-large-xlsr-pa-IN\")"
      ],
      "execution_count": 20,
      "outputs": []
    },
    {
      "cell_type": "markdown",
      "metadata": {
        "id": "DrKnYuvDIoOO"
      },
      "source": [
        "Next, we can prepare the dataset."
      ]
    },
    {
      "cell_type": "markdown",
      "metadata": {
        "id": "YFmShnl7RE35"
      },
      "source": [
        "### Preprocess Data\n",
        "\n",
        "So far, we have not looked at the actual values of the speech signal but just kept the path to its file in the dataset. `XLSR-Wav2Vec2` expects the audio file in the format of a 1-dimensional array, so in the first step, let's load all audio files into the dataset object.\n",
        "\n",
        "Let's first check the serialization format of the downloaded audio files by looking at the first training sample."
      ]
    },
    {
      "cell_type": "code",
      "metadata": {
        "colab": {
          "base_uri": "https://localhost:8080/"
        },
        "id": "TTCS7W6XJ9BG",
        "outputId": "e856ce47-5d49-4746-82c5-7cc9392712c1"
      },
      "source": [
        "common_voice_train[0]"
      ],
      "execution_count": 21,
      "outputs": [
        {
          "output_type": "execute_result",
          "data": {
            "text/plain": [
              "{'path': '/root/.cache/huggingface/datasets/downloads/extracted/ae32db89a891657bd6f67cdace1594c34a88e263c1e2c9bbc2a5f9a0db68675b/cv-corpus-6.1-2020-12-11/pa-IN/clips/common_voice_pa-IN_21916812.mp3',\n",
              " 'sentence': 'ਪੁੱਤ ਨੂੰ ਜਹਿਰ ਦੇ ਰਿਹਾ ਸੀ '}"
            ]
          },
          "metadata": {
            "tags": []
          },
          "execution_count": 21
        }
      ]
    },
    {
      "cell_type": "markdown",
      "metadata": {
        "id": "wSBIGEiaKHMn"
      },
      "source": [
        "Alright, the audio file is saved in the `.mp3` format. The `.mp3` format is usually not the easiest format to deal with. We found that the [`torchaudio`](https://pytorch.org/audio/stable/index.html) library works best for reading in `.mp3` data. \n",
        "\n",
        "An audio file usually stores both its values and the sampling rate with which the speech signal was digitalized. We want to store both in the dataset and write a `map(...)` function accordingly."
      ]
    },
    {
      "cell_type": "code",
      "metadata": {
        "id": "al9Luo4LPpwJ"
      },
      "source": [
        "import torchaudio\n",
        "\n",
        "def speech_file_to_array_fn(batch):\n",
        "    speech_array, sampling_rate = torchaudio.load(batch[\"path\"])\n",
        "    batch[\"speech\"] = speech_array[0].numpy()\n",
        "    batch[\"sampling_rate\"] = sampling_rate\n",
        "    batch[\"target_text\"] = batch[\"sentence\"]\n",
        "    return batch"
      ],
      "execution_count": 22,
      "outputs": []
    },
    {
      "cell_type": "code",
      "metadata": {
        "colab": {
          "base_uri": "https://localhost:8080/",
          "height": 116,
          "referenced_widgets": [
            "cf3d0f735f094ecc9249ad4fbfb436a4",
            "e0d06dcef8184843a43e29dee6962ca9",
            "f609d152c20c410a8c16ffd49c5a32d3",
            "8a0abb2e6f8f4af6aafea05a74d6b85f",
            "d2d0f9e1b83e4111a97cc28383c6f1f8",
            "ea09a399b934467fae6535045c129487",
            "2f564ed0598f4faba3165d11b554587c",
            "6c789d169ac04e9987309df9bd906198",
            "0299391e884544918c2c378f72afd190",
            "94586f3e8f9843c698115b06c5fe48a8",
            "db9007b8f7cd4d3ab68692b9def0094e",
            "3f816d3f3b914b64b7f87f72b68bc0f1",
            "8967bcf59eba4937b9b13bdfacedccdb",
            "400d79eab856487fb0d87da48f0cacab",
            "151230906d5d47f5a6679851762e703d",
            "0e7aba7145c24a468bb8b1d6a01d32c7"
          ]
        },
        "id": "afeicUeWlrRL",
        "outputId": "b2674e4d-4673-4fb0-d461-8c65d9f7388d"
      },
      "source": [
        "common_voice_train = common_voice_train.map(speech_file_to_array_fn, remove_columns=common_voice_train.column_names)\n",
        "common_voice_test = common_voice_test.map(speech_file_to_array_fn, remove_columns=common_voice_test.column_names)"
      ],
      "execution_count": 23,
      "outputs": [
        {
          "output_type": "display_data",
          "data": {
            "application/vnd.jupyter.widget-view+json": {
              "model_id": "cf3d0f735f094ecc9249ad4fbfb436a4",
              "version_minor": 0,
              "version_major": 2
            },
            "text/plain": [
              "HBox(children=(FloatProgress(value=0.0, max=255.0), HTML(value='')))"
            ]
          },
          "metadata": {
            "tags": []
          }
        },
        {
          "output_type": "stream",
          "text": [
            "\n"
          ],
          "name": "stdout"
        },
        {
          "output_type": "display_data",
          "data": {
            "application/vnd.jupyter.widget-view+json": {
              "model_id": "0299391e884544918c2c378f72afd190",
              "version_minor": 0,
              "version_major": 2
            },
            "text/plain": [
              "HBox(children=(FloatProgress(value=0.0, max=116.0), HTML(value='')))"
            ]
          },
          "metadata": {
            "tags": []
          }
        },
        {
          "output_type": "stream",
          "text": [
            "\n"
          ],
          "name": "stdout"
        }
      ]
    },
    {
      "cell_type": "markdown",
      "metadata": {
        "id": "ki5sXmzucc9Q"
      },
      "source": [
        "Great, now we've successfully read in all the audio files, but since we know that Common Voice is sampled at 48kHz, we need to resample the audio files to 16kHz. \n",
        "\n",
        "Let's make use of the [`librosa`](https://github.com/librosa/librosa) library to downsample the data."
      ]
    },
    {
      "cell_type": "code",
      "metadata": {
        "id": "6Y6AK3Z-kHwP"
      },
      "source": [
        "import librosa\n",
        "import numpy as np\n",
        "\n",
        "def resample(batch):\n",
        "    batch[\"speech\"] = librosa.resample(np.asarray(batch[\"speech\"]), 48_000, 16_000)\n",
        "    batch[\"sampling_rate\"] = 16_000\n",
        "    return batch"
      ],
      "execution_count": 24,
      "outputs": []
    },
    {
      "cell_type": "code",
      "metadata": {
        "colab": {
          "base_uri": "https://localhost:8080/",
          "height": 447,
          "referenced_widgets": [
            "e8f68724829442fb95ca88267283ad97",
            "39bcb465a1cd476a946634c5087c54a8",
            "5d725b5529874846a02d91b44af568e0",
            "298695b5cb1b4cc3bcb71171544776eb",
            "c3f192db598647c299146c05ae9c6af1",
            "2c516612f5104ffdb4a7cb57aa8a1597",
            "da6abe31815143f7866145047159d1b2",
            "8fd0415fd1154d8fbb02d64c866f9de4",
            "c9289e1ddd464a0e9d184ecdd5852cdd",
            "5834936b3bb5409eaf338e84ea2aed1b",
            "71cd878f1b83426ebf70ba163cd530d1",
            "a430b24e121c4f238cd26ae579672f94",
            "9050e3d901ea42c5870f107593861db3",
            "f834e510f2db43daa35f0d2e39ded01d",
            "4873ea1f884749e58479733e18f596dc",
            "38ccfe12679c49dcbbf76a773d4822db",
            "e1a06f595ca544a5aa7a5869f9c2db50",
            "85ddb815485a48189a49b9295d916371",
            "60002fe0e34d4dbf8c816e63ef23c0d1",
            "d47801716a4541d784fee6da6a642497",
            "5e3b9af4c95b4c74b9b39bc7ce6d1def",
            "56d8ad163e3b4d7ea67255369975517c",
            "806cd2761fac43f9ac1d8c2802c5252b",
            "3c3716913b7d41acba883a21a164a0ff",
            "3bb9774aff1748fe91e521b95c79b2ab",
            "e1eb1ef5d640419ebdf80eb9f72b592a",
            "b14581c68f3648658a910d760347934a",
            "09e3b7ef3da74815b8ced777e6542464",
            "ef349fc537e242068ae1f9cbf4a86756",
            "cff182dec85c4bc0b315750f1788f818",
            "c5e25d31c3754156a001a8c2233754ad",
            "9b07ef00080c4bf8a2fff4bd011b5b60",
            "44982c80795f4a0cad9e25789489b81a",
            "84bee4eed96547148c8c3e137b2fd971",
            "1ad64d19691d4013b34a0fd450d5bcab",
            "a173453fb851419f8052d0997f0b50f1",
            "0cb50a6bd5b74ed19115683c5793a4ca",
            "20c2578956d040b8be9c79cca66ca94c",
            "10aea278ce974685b51fdb629d3cfdb0",
            "28b4759b4c474a29b77fd9757c5d9e6f",
            "d9e17d51904941f6a81dc24d5f323704",
            "2072d0bbcfef4938bb9c36b3f2e49d3f",
            "3ec28266fbec4b609905581ead3e3648",
            "545133cde70942c996ce7277b76a0b13",
            "962e7785dadf4c238071828eba256e3c",
            "70ed3d7c75334e36bcd9745e3a674cc8",
            "ee9e82a1cb654b338eb938e868b7d5eb",
            "eb28fa3e0f1541f1811eaa06b8d83db9",
            "195a2dfef3c848208347149244b2a75b",
            "280e792887404783a9bc891c30510f84",
            "ca07497d60fd4da49ea15928d81517d3",
            "81a00e53918e474689e93f03cc3ef30e",
            "3f2da602a0a041e9a00d3a3cd7499f36",
            "d97b42ed8c4b4124bccbef233475eda2",
            "e955bf522aa54d94bacca191e6b360f3",
            "82e7099c2a104afcbb5a40bdc2f4c339",
            "b8f4e4cb8f024272a64323cb848de8bc",
            "55f211feb3904628ac3656c0f9149d1f",
            "c80c4e3521274d3b9324d96c4ba2fdf0",
            "f102055903974d95b994658d0d1ffb85",
            "c69aa23a1faa48d9a799dc787b433cb5",
            "762eb083e6ae4f35bad884e4d6f4abb6",
            "deaff1b09f0248ed8bb9a261d4e79b33",
            "7c18ec5fce3541179a441200e6b46801"
          ]
        },
        "id": "Ws8DyIL_kjwT",
        "outputId": "99065761-027f-4bae-ee9e-0700e5e7bfb8"
      },
      "source": [
        "common_voice_train = common_voice_train.map(resample, num_proc=4)\n",
        "common_voice_test = common_voice_test.map(resample, num_proc=4)"
      ],
      "execution_count": 25,
      "outputs": [
        {
          "output_type": "stream",
          "text": [
            "    "
          ],
          "name": "stdout"
        },
        {
          "output_type": "display_data",
          "data": {
            "application/vnd.jupyter.widget-view+json": {
              "model_id": "e8f68724829442fb95ca88267283ad97",
              "version_minor": 0,
              "version_major": 2
            },
            "text/plain": [
              "HBox(children=(FloatProgress(value=0.0, description='#1', max=64.0, style=ProgressStyle(description_width='ini…"
            ]
          },
          "metadata": {
            "tags": []
          }
        },
        {
          "output_type": "display_data",
          "data": {
            "application/vnd.jupyter.widget-view+json": {
              "model_id": "c9289e1ddd464a0e9d184ecdd5852cdd",
              "version_minor": 0,
              "version_major": 2
            },
            "text/plain": [
              "HBox(children=(FloatProgress(value=0.0, description='#0', max=64.0, style=ProgressStyle(description_width='ini…"
            ]
          },
          "metadata": {
            "tags": []
          }
        },
        {
          "output_type": "display_data",
          "data": {
            "application/vnd.jupyter.widget-view+json": {
              "model_id": "e1a06f595ca544a5aa7a5869f9c2db50",
              "version_minor": 0,
              "version_major": 2
            },
            "text/plain": [
              "HBox(children=(FloatProgress(value=0.0, description='#2', max=64.0, style=ProgressStyle(description_width='ini…"
            ]
          },
          "metadata": {
            "tags": []
          }
        },
        {
          "output_type": "display_data",
          "data": {
            "application/vnd.jupyter.widget-view+json": {
              "model_id": "3bb9774aff1748fe91e521b95c79b2ab",
              "version_minor": 0,
              "version_major": 2
            },
            "text/plain": [
              "HBox(children=(FloatProgress(value=0.0, description='#3', max=63.0, style=ProgressStyle(description_width='ini…"
            ]
          },
          "metadata": {
            "tags": []
          }
        },
        {
          "output_type": "stream",
          "text": [
            "\n",
            "\n",
            "\n",
            "\n",
            "    "
          ],
          "name": "stdout"
        },
        {
          "output_type": "display_data",
          "data": {
            "application/vnd.jupyter.widget-view+json": {
              "model_id": "44982c80795f4a0cad9e25789489b81a",
              "version_minor": 0,
              "version_major": 2
            },
            "text/plain": [
              "HBox(children=(FloatProgress(value=0.0, description='#0', max=29.0, style=ProgressStyle(description_width='ini…"
            ]
          },
          "metadata": {
            "tags": []
          }
        },
        {
          "output_type": "display_data",
          "data": {
            "application/vnd.jupyter.widget-view+json": {
              "model_id": "d9e17d51904941f6a81dc24d5f323704",
              "version_minor": 0,
              "version_major": 2
            },
            "text/plain": [
              "HBox(children=(FloatProgress(value=0.0, description='#1', max=29.0, style=ProgressStyle(description_width='ini…"
            ]
          },
          "metadata": {
            "tags": []
          }
        },
        {
          "output_type": "display_data",
          "data": {
            "application/vnd.jupyter.widget-view+json": {
              "model_id": "195a2dfef3c848208347149244b2a75b",
              "version_minor": 0,
              "version_major": 2
            },
            "text/plain": [
              "HBox(children=(FloatProgress(value=0.0, description='#2', max=29.0, style=ProgressStyle(description_width='ini…"
            ]
          },
          "metadata": {
            "tags": []
          }
        },
        {
          "output_type": "display_data",
          "data": {
            "application/vnd.jupyter.widget-view+json": {
              "model_id": "b8f4e4cb8f024272a64323cb848de8bc",
              "version_minor": 0,
              "version_major": 2
            },
            "text/plain": [
              "HBox(children=(FloatProgress(value=0.0, description='#3', max=29.0, style=ProgressStyle(description_width='ini…"
            ]
          },
          "metadata": {
            "tags": []
          }
        },
        {
          "output_type": "stream",
          "text": [
            "\n",
            "\n",
            "\n",
            "\n"
          ],
          "name": "stdout"
        }
      ]
    },
    {
      "cell_type": "markdown",
      "metadata": {
        "id": "SOckzFd4Mbzq"
      },
      "source": [
        "This seemed to have worked! Let's listen to a couple of audio files to better understand the dataset and verify that the audio was correctly loaded. \n",
        "\n",
        "**Note**: *You can click the following cell a couple of times to listen to different speech samples.*"
      ]
    },
    {
      "cell_type": "code",
      "metadata": {
        "colab": {
          "base_uri": "https://localhost:8080/",
          "height": 61
        },
        "id": "dueM6U7Ev0OA",
        "outputId": "07e40c75-b041-4fc8-93db-4f9095af6557"
      },
      "source": [
        "import IPython.display as ipd\n",
        "import numpy as np\n",
        "import random\n",
        "\n",
        "rand_int = random.randint(0, len(common_voice_train)-1)\n",
        "\n",
        "ipd.Audio(data=np.asarray(common_voice_train[rand_int][\"speech\"]), autoplay=True, rate=16000)"
      ],
      "execution_count": 26,
      "outputs": [
        {
          "output_type": "execute_result",
          "data": {
            "text/html": [
              "\n",
              "                <audio controls=\"controls\" autoplay=\"autoplay\">\n",
              "                    <source src=\"data:audio/wav;base64,UklGRiRSAgBXQVZFZm10IBAAAAABAAEAgD4AAAB9AAACABAAZGF0YQBSAgAAAAAAAAAAAAAAAAAAAAAAAAAAAAAAAAAAAAAAAAAAAAAAAAAAAAAAAAAAAAAAAAAAAAAAAAAAAAAAAAAAAAAAAAAAAAAAAAAAAAAAAAAAAAAAAAAAAAAAAAAAAAAAAAAAAAAAAAAAAAAAAAAAAAAAAAAAAAAAAAAAAAAAAAAAAAAAAAAAAAAAAAAAAAAAAAAAAAAAAAAAAAAAAAAAAAAAAAAAAAAAAAAAAAAAAAAAAAAAAAAAAAAAAAAAAAAAAAAAAAAAAAAAAAAAAAAAAAAAAAAAAAAAAAAAAAAAAAAAAAAAAAAAAAAAAAAAAAAAAAAAAAAAAAAAAAAAAAAAAAAAAAAAAAAAAAAAAAAAAAAAAAAAAAAAAAAAAAAAAAAAAAAAAAAAAAAAAAAAAAAAAAAAAAAAAAAAAAAAAAAAAAAAAAAAAAAAAAAAAAAAAAAAAAAAAAAAAAAAAAAAAAAAAAAAAAAAAAAAAAAAAAAAAAAAAAAAAAAAAAAAAAAAAAAAAAAAAAAAAAAAAAAAAAAAAAAAAAAAAAAAAAAAAAAAAAAAAAAAAAAAAAAAAAAAAAAAAAAAAAAAAAAAAAAAAAAAAAAAAAAAAAAAAAAAAAAAAAAAAAAAAAAAAAAAAAAAAAAAAAAAAAAAAAAAAAAAAAAAAAAAAAAAAAAAAAAAAAAAAAAAAAAAAAAAAAAAAAAAAAAAAAAAAAAAAAAAAAAAAAAAAAAAAAAAAAAAAAAAAAAAAAAAAAAAAAAAAAAAAAAAAAAAAAAAAAAAAAAAAAAAAAAAAAAAAAAAAAAAAAAAAAAAAAAAAAAAAAAAAAAAAAAAAAAAAAAAAAAAAAAAAAAAAAAAAAAAAAAAAAAAAAAAAAAAAAAAAAAAAAAAAAAAAAAAAAAAAAAAAAAAAAAAAAAAAAAAAAAAAAAAAAAAAAAAAAAAAAAAAAAAAAAAAAAAAAAAAAAAAAAAAAAAAAAAAAAAAAAAAAAAAAAAAAAAAAAAAAAAAAAAAAAAAAAAAAAAAAAAAAAAAAAAAAAAAAAAAAAAAAAAAAAAAAAAAAAAAAAAAAAAAAAAAAAAAAAAAAAAAAAAAAAAAAAAAAAAAAAAAAAAAAAAAAAAAAAAAAAAAAAAAAAAAAAAAAAAAAAAAAAAAAAAAAAAAAAAAAAAAAAAAAAAAAAAAAAAAAAAAAAAAAAAAAAAAAAAAAAAAAAAAAAAAAAAAAAAAAAAAAAAAAAAAAAAAAAAAAAAAAAAAAAAAAAAAAAAAAAAAAAAAAAAAAAAAAAAAAAAAAAAAAAAAAAAAAAAAAAAAAAAAAAAAAAAAAAAAAAAAAAAAAAAAAAAAAAAAAAAAAAAAAAAAAAAAAAAAAAAAAAAAAAAAAAAAAAAAAAAAAAAAAAAAAAAAAAAAAAAAAAAAAAAAAAAAAAAAAAAAAAAAAAAAAAAAAAAAAAAAAAAAAAAAAAAAAAAAAAAAAAAAAAAAAAAAAAAAAAAAAAAAAAAAAAAAAAAAAAAAAAAAAAAAAAAAAAAAAAAAAAAAAAAAAAAAAAAAAAAAAAAAAAAAAAAAAAAAAAAAAAAAAAAAAAAAAAAAAAAAAAAAAAAAAAAAAAAAAAAAAAAAAAAAAAAAAAAAAAAAAAAAAAAAAAAAAAAAAAAAAAAAAAAAAAAAAAAAAAAAAAAAAAAAAAAAAAAAAAAAAAAAAAAAAAAAAAAAAAAAAAAAAAAAAAAAAAAAAAAAAAAAAAAAAAAAAAAAAAAAAAAAAAAAAAAAAAAAAAAAAAAAAAAAAAAAAAAAAAAAAAAAAAAAAAAAAAAAAAAAAAAAAAAAAAAAAAAAAAAAAAAAAAAAAAAAAAAAAAAAAAAAAAAAAAAAAAAAAAAAAAAAAAAAAAAAAAAAAAAAAAAAAAAAAAAAAAAAAAAAAAAAAAAAAAAAAAAAAAAAAAAAAAAAAAAAAAAAAAAAAAAAAAAAAAAAAAAAAAAAAAAAAAAAAAAAAAAAAAAAAAAAAAAAAAAAAAAAAAAAAAAAAAAAAAAAAAAAAAAAAAAAAAAAAAAAAAAAAAAAAAAAAAAAAAAAAAAAAAAAAAAAAAAAAAAAAAAAAAAAAAAAAAAAAAAAAAAAAAAAAAAAAAAAAAAAAAAAAAAAAAAAAAAAAAAAAAAAAAAAAAAAAAAAAAAAAAAAAAAAAAAAAAAAAAAAAAAAAAAAAAAAAAAAAAAAAAAAAAAAAAAAAAAAAAAAAAAAAAAAAAAAAAAAAAAAAAAAAAAAAAAAAAAAAAAAAAAAAAAAAAAAAAAAAAAAAAAAAAAAAAAAAAAAAAAAAAAAAAAAAAAAAAAAAAAAAAAAAAAAAAAAAAAAAAAAAAAAAAAAAAAAAAAAAAAAAAAAAAAAAAAAAAAAAAAAAAAAAAAAAAAAAAAAAAAAAAAAAAAAAAAAAAAAAAAAAAAAAAAAAAAAAAAAAAAAAAAAAAAAAAAAAAAAAAAAAAAAAAAAAAAAAAAAAAAAAAAAAAAAAAAAAAAAAAAAAAAAAAAAAAAAAAAAAAAAAAAAAAAAAAAAAAAAAAAAAAAAAAAAAAAAAAAAAAAAAAAAAAAAAAAAAAAAAAAAAAAAAAAAAAAAAAAAAAAAAAAAAAAAAAAAAAAAAAAAAAAAAAAAAAAAAAAAAAAAAAAAAAAAAAAAAAAAAAAAAAAAAAAAAAAAAAAAAAAAAAAAAAAAAAAAAAAAAAAAAAAAAAAAAAAAAAAAAAAAAAAAAAAAAAAAAAAAAAAAAAAAAAAAAAAAAAAAAAAAAAAAAAAAAAAAAAAAAAAAAAAAAAAAAEAAAAAAAAA/f8AAP7/AAABAAAAAgAAAAAAAAAAAAAAAAABAAAAAAAAAAEAAAAAAAAA//8AAP//AAD//wAAAAAAAAAA//8AAP/////+/wAA/////wAAAAACAAAAAAAAAAAAAAABAP3//f8FAAMAAAD6//H/BAACAPz/EAD6/wAAEQAIAOj/DADN/+b///+r//f/xv/Y/wgA+f/6/w4A4f/p/wQA7v8cACMAPgAlAC4ACQDo//n/7//t//j/AwDw/wEA+f/w/wQABgAAAPT/+v/7//D/DwD3//r/HADz//z/KgAeAAgAFwAYAPr/DQAPAPr/CQD9/+f/4f///wAAAAD+/wQAAwD7/wgA+f8VABAADQAWAAkAHwAhAB4AKgAgABcAKgAdAAAAAwAKAAEA6v/l/+P/4v/o/9v/6//g/9//4//q/+//7f/w/+n/8f/c/+L/2f/W/9r/3v/f/9v/8f/7////+v8qADYAHAAsADEAJgAbAAoAEAASACAAFQAFACAAGgANAAEA+v8TADIAFQANAAwA+v8AAAAA6f/p//P/5f/q/+D/8f/n/+j/8//g/97/4f/o/+P/6f/i/9r/7v8KAPv/8/8CADAAPQArADMAIwAdABYAIAAQAAwAEwABAAUAFAAJAA8AJgAVAB8APgAxACMAOwAxAA8A9P/g/9j/1v/Q/8P/yv/D/8j/xf/O/9v/3P/p/9n/5f/W/9//7P/n//T/9P/9/wkAGQAeACUACgAhADAAEwARAAEACAAFAAEAGAAYABgAFgABAA4ACQANAA8ABgD9/+v/CQAJAPj/9f/5//r/+//5/wAA7P/c/+7/5v8CAOX/4P8OAAIA9P/2/wIABQAAAPn/BgAeACUACgAZADIALAAxAEQAMQARAB0AHAANABwAGwAfABQA/P8UAPj/7//4//j/DAAGAPr/+f/6/+7/3//g/+v/0f/V/9z/2P/r/9f/7v/q/+H//f/3/wQA+P/3//D/0P/k//T/8P/r/8z/5//3/+3/AwDu//n//f8TABwABwAYABYAGwAcABcAFAAjABUAKAAvAB8AOQAnABAAAwD6/wIAAAAAAAAA8f/9//D/8f/n/8P/4//y/9//3//4/wYADwASAPX/7P/4//3/9/8BAAcABQAQAAwAGQAeAAcACwAPABEAIQAEAAgAGQD///n/7f8EACMA//8AAAAAAAD9/+r/+//+/+j/2f/a/+3/8f/b/93/1v/q//j/8f/8/+7/7v8AAAAA/v/6/xEAEAATACMAFQAWAAoAAADu//3/DQAfAC8ALQAnACsARwA6ACYAIwAuADQAHAAZABkA+/8QAA8A+P/4/+D/7f/8/+v/9f8AAOv/4P/Q/8j/wf/R/+v/2//i/+3/4f/W/8P/2//w/9r/7/8IAAoACQAFAAAABQANAA8ANQApACAALwAkADAAIQD2/9v/+f8AAOz/7P/7////+//2/+P/8v/5/+n/1v/r//X/+v/+/wQA/P8CACEABQARABYADAD//wsAAADy//P/6f/3/+3/+//x/wgAEwD5/xEACgAWACcAEgAaACMAKgA5ACkAKgBJACsAFQAjABUACAABAPL/9f8OAPv/2//K/8L/u//Q/8//x//W/+H/8P/q//H/4v/w//T///8PAPP/+P8GABYAFQANAAIACQAKAPf/DQAsAA4AAAAEAOT/BwAZAAAAFQAYAA0AIQAmABoADwASAA4AAgAFAPX/AAAJAAUACQD9/wYACADu/+7/0P/F/+b/3//i/+z/9v/s//D/8v/2/+r/7P8BAOb/9v8YABAA+v8WABAAEQAdAPz/9P8AABcADQD0/+v//P8AAAsAFQD///n/FwAPAAgAFQADABcAMwAQAAkABgAFACsADQD5////CwD7//X/+P/q/woACwD7/wkAGgALAP//AAACAOr/8f/9//3/+v/h/+7/BAAIAP//+P/+/wUA7f/p/wAABgAGAAYA/f/1//j/3//j/+z/6f/n/+X/AQD9//X/+v8BAAEAEQAfABQADAADAAkABwAfACMABgAHAAYAAwAKAAkA9//8/wsABwAcAAsAAAAeAB8AEQDz//D/7v/d/+X/0//j//v/6v/0//D/5v/t//j//f8EAAcAEAAbACQALgD+/wAAHgAEAPD/AAAFAP//AwDo/+n/AQDv/+D/9//z//v/DgACABIAJQA3ADEACgAUACkAFQACAPn/7P/h/93/6f/u/9//5//s//P/+P/m/9v/2f/l/87/6v8EAO//AgADAAEAFgAKABgANQAZABUAIwApABIAAwDx//j/BAD8//X/6f/+/xYAIAATABEADwAaABIADgAPACEAIgAgABsA9v/+//f/7//d/8b/zf/q/9j/0v/X/87/z//o/wkA9v/5/wIAEgAUABIACQAMAA8A7/8IAA0AFAAjAA8AEwAOAA4A9f8BABYA9//v////AwDw/wQADwAIACgANAAaACEAFgARADAAIgAUABIACgD7//n/8//w/+//7P/2//P/6v/R/87/yP/J/87/2f/t/8P/uP/W/8//z//p//n/7//4/xQAEAAHAA0AFwADAAUAHAAYABoAKwA5AEgATgA/AC0ALwAyAA8AEwATAAQAFAD5/+b/6v/r//j/6//m/+z//v8AAPX/9f8KAP//6P8GAAEA5//r/w0ABwAHAA4A9P/v/+n/3v/n//n/6v/p/woA9P/Z/+X/2v/3/xEADgAkADUAQAAxABgAGgAYAAkA8v/z//v//P/3/+X/AAAQAPD/2P8AAPD/6f/y/9f/7v/4/wQABADx//n/DQDh/+L/8f/z/+b/6/8LAAQA+P/+/wYA9f/9/wEABwDu//7/AgAHAA4A8P8bACwAMQAiAB8AMwAzAC4AGgAXABYAEwAYACAADgAMAA0A+f/r//b/9P/n/+X/6//p//T/AQAAABwADwAGAA0AFwAdAP7/AgAiABUAEwAXAAcA9v/p/+r/2f/k/+P/5//x/+H/4v/W/9b/4v/h/9H/0P/l//3/AQDq//L/DwAFABAAEQAdACsAEgAWABoALQD8/+7/GQAbAAEA8f/w/+H/9P/T/9j/8P/0//3/8f8SABUADgADAAoAGgAaABwABwASABEABgAIABwAEgAHAAkAAAAGAAIA7//a//P/7f/z//P/+f8KAAEAAwALAAwADAAJAAkACwD+//v/+/8OAAwA7v/n//P/1v/Y/+3/7v/z/+v/BAD9/wQACQD7/wAA+v/5//L/AgD///T/9f/4//b/3v/e/9j/2//a/+H/3P/2/xcAFAArACcANwA3ACkAKAAjACsAFQArACwAIgAlACsANQAGABoAEgD5/wEACAAKAO3/7v/u//P/AAAEAPz/6v/s//n//P/v//T/BwD//wYADQD///3/9//1//D/5f/3//D/3f/c/9H/4v/s/+n/9f8BAP3/9//3//3/BgAOAA4AFQAJAPH//v/9/wYA+v/d/+z/6//i//3/BQACAP//7//+/xUAKgAhAB8AJwAtACUAGgAoAB4AEwAWACAAFQAKAAIACAABAPb//P/8//X//v/0/+7/8P/c/+n/1P/b/+f/6f/q/+r/AQAKAAwAGAAaABYAGwAHABcALAAWAAUAAQDm/+3/5f/X/+L/5v/s//r/+P/a//n/EQD5//D/FgAVABQADgACAAgA//8TAAEA/f8KAA0AEAAAAP7/6P/f//X/7//m/97/2//9//b/4f/f/+n/5P/Y//D//f/8/wAAFwAQABsAMQAhABkAKwAyABAAHAA1AC4AJAAzAC8AHwAxACsACgAPABwADQDm/9z/BgDz/+X/5f/1//n/zf/T/8f/w//j/9H/u//R/9//4f/b//L/8P/v/wMABgAKAAkAFgAHABoAEwAVABwAHQATABgAHAACABUADwAMABEAHAAnACIADQAKAAkAFgAUAAMAEQAZABUADgAKAAwAAADx/+H/7P/p/+b/5P/h//r/8f/i/9r/3f/S/9z/zf/J/+P/+P/3//L/DgAQABUAKgAwACEALAAbAA4AFQAYABkAAgAMAAYACgAMAAcAEgD6//v/8f/e/+f/5f/p/9T/6f/w/+P/7//z/wMA6//s//D/9f8AAOv/5f////v/4P/4//L/AQAKAP//EAAeABcAAAASAAcAAwAdACkAGAAbACEAFgAZABYALAAWABkAKgAZABkAJgAfABcAGwAQAP7/9/8CAAEAAwD6////9v/x/wkA/v/8/wkACQD5/wMACwDm/+r/3//c/+P/0P/P/9D/5//s/+H/5f/Y/9H/4//g/8//zv/9//j/AAAXAPn/CQAVABEAFQAbAAkABQAJAAIACgANABkAAAAIACcAGgASAA0AFAAIAPD//f8EAPb/+v8DAP3/9f8PABkAEgARACAAGgAEAPb/6v/8//T/8P/o/+r/CQD3/9j/8f/z//L/8//5/wAAAAALAPj/AAAFAPf/8//z//r/AAATAAoAEAAXAAIAAAABAAIA7P/9/w4ABAAfABQADAAHABsAIQAWACUAHAAtABsAJAAcAAwAEAAOAAYABQAXAAUACwAHAP3/AAAIAP///f/x/+j/6//n/+n/1v/S/9H/2v/P/8P/z//r/+P/4P/p/+b/9P/o//L/+P8IAPn///8FAAEABgAgABgA9f8mABQACAAFAAsADQD8/wcAFwAkAAkAEAABAPn//P/u//f/+f/2/wUABQD5/wIAHQAgAP7/AQAFAPr/+f/b/97/2f/O/+n/7//x/9n/8/8BAAkAIQADAAwAEgANAAUAFgAzADcAUABKAC0AZQBfADsAQAAnACcAFQAWABcACwAAAPf/AwD6/+T/6f/k//j/8v/k/+v/1P/g/8T/r/+p/5v/sP+d/6H/0P/Y/9D/5//q/93/3f/e/+T/7//o/9//8f8OABQAEwAeACgAOAAsACkAMgA4AEEAOgA8ADgAPABZAEkAPABHAEAAJQAfAAkAAQACAOb//f/2//v/+f/h/9f/xf/D/8n/0v/P/9D/2f/V/9//zf/K//L/7P/m/+X/+f8IAAcA+//7/w0ADgAOAAcACQATABcABwAHABwAEwAfACUAHQAxACcAGAARAAcA+//5//z/6v/4//T/7//9//D/+//z/+H/+P/7/+H/7v8EAAYAAAD8//v///8WABQA7//0/wIA8v/8////AgDx/+r/AAAOAB0AFAAaAB8AFgAEACkAHwASAC8AFgAqACgAHQAeABcACwAWAB0AAgAMAAMABwAUAAcA9f/1/wIA6//u//z/1P/A/9n/x/+v/8D/wv/L/9X/0v/W/9H/6P/r/9D/0//u/9//4P/4/+v//v/7//D/BgARAAsAAgARAB0AHQAxABgAIAAsABoAHwAiABIAFgAsAB4AIwAFAAYAGAAhACoAFAAFABsAIgASAAYAFAAWAAcAHwD7/+//8/8AAPb/5v/i/87/0//N/+H/4v/7/wAAEAAVAA8AGgAAABYAHwAQABQADAAUACEAFgAlABUADQAAAAYA+P/1/wcA9P/1/+L/5P/U/93/4v/a/+j/5//8//f/8P8JAAcABwAVABAAHQARAPz//P/4//r/6P/w//r/8f/r//T//v/1/93/6v/9//T/BAACABUADwADABQACAAIAP//8v/q/wQADgDz/wAABgAEAP3/9f8AAPn/5P/s/wAA///2/wMAFwABAO3/+f8TAAYAAgD9//D/DAAVAAkA/f8aABIABQD9//b/EQAAAOr/8P/t/+7/5v/X/+r/6v/d/9f/6P/1/wAAAQADABUAHAAtADgAJQAmACcAGQAaACoAKQATAB4AKAAsADYAPQA4ADMAKwAvAB0ADAASABAA9P/2/w8A+v/z/9//3//7/9//1v/w/+L/8v/k/9P/5f/e/87/wf/N/9r/3//i/9r/0//f/+L/6f/8/wYA9v/z//H/9v/5/+v/6f/z/wcAAwAFAAYAGQAdACAAIAAiADUAHgAeABYADgAKABwAGQABAAMA+v/i/wUADQDV//z//f/z/wYA+v/0//X/+P/n/+7/BgARABgAEQAdAC4AIAAZAA4ACQAOAOz/9f/9//L/BQD9//f/9/8KAPT/AAAPAPf/AAD0/wQADgD///7/8//8/xYA8P8KACYACQD+/wEAAwD+//D/0//9/wsAAADu//f/CAD7/+b/zv/j/97/5//7//T/AwAUAAMA/f8VAP7/BwAlABMADgD3/+3/9/8EAP3///8ZAPv/DQATAAsAJgAfACYAMwA7AEAAMwAlAC4AJgAYABUAIQALAPz/BwDz/+//4P/c/9r/1v/J/8L/1//N/8r/1v/n/9f/6v/a/8j/3f/T/+7/3//i//X/4f/k//b/+/8IABQACwAOAAgACgAFAAMAAwAPAAUA+P8fAB4ADgAFABwAHAAXACMACwAbADMAIAAXABgACQD8/+b/7//f/93/1//j/wkA/P8GAAYADQAPAAkAGgAoADgAGQAXACgAEwAWAAQA+f/5/wcA+f/a////+v/3/wIABwAFAPD//v/3/+7/AgAHAAMA9P/s//X/+f8MAPf//P8SABMAJQAPACMAFwDt//3/6//1////4f/z/xAADQAFAAIA+f8CAP//8P8BAOr/AgAeAA0AFQD+/wQA9f/8/wIA5//p/9j/3f/1//X/1P/h//H/6P/0/wMA8//Y//L/7f/e/+b/9P8AAAUAAgAEAAAA/f8CAPX//f/0//n/CAARABIADgAbAAkADgAiAB0ABgAYAB4A/f8VABEA///2/+n/+v8BAOn/7//6//r/8P/n//7/8P/2////+v/7/w8ACQD//xIAAAAeACUAIwAgABYAMgAdACUAJwAIAAEAHwARAAAA/P8GABIAAAANAAYAFwD0/+f/7f8AAAoA/P8NAPX/9v8AAAsA+P/X/+P/+P/l//T/7v/R/9r/3f/m/9v/5//z//v/9//d//D/9v/T/+P/8f8FABYAGwAkABcAHAAVABgAFwADAPD/7/8WABQAFQAdAPD/8P8CAPX/4P/p/+3/6v/2////EAAHABEAIQAYABIADwASAAAABAAHAAcAAADx////7P/8/wAA//8CAAYADQD7/xcAJwApAD8AJwAZADAAIAAgAA4A///8//L/AwAXAA0AAgATAPj/9P/w/+X/9P/r/+b/+f8DAPT/4//4/wQA+P/j/+L/+P/n/+3/9v/m//7//P/e/+//9f/v//X/AQDt/9//8//3////8//v//r/CQAHAAwADQD+//P/6v///woAAAASABMAAgASAAQAAAABABUAHgALAA8ACAD8//D/BAD6//P//P/4/wUACAAAAPf/+f8AAAwACQD2/xAAHAAVACsAHwAjABkAHwAbAPz/DwATACgAMAAFACMADQDw/wkA8P/5/wIA+v/p/+X/7P/k/+P/6f/o//j/7//p//n/+v/1//v/7//p//L/3f/X/9X/2P/H/9j/7P/c/+7//f8BAAAAGAARAAoAKgAiACcAJgAeABoAFQAVABsAEwAUAB8AEQATABoAGQALAAMA/f/3/+//4v/x//X/8P/n/9T/7v/3//T/9v/8//7/BQAKAP//7//r/wQA7f/2/w4ACAAKAP//7f8BAAcA+f8PABkABwDx//X/AQD3//D/7f/m//D/AwD2//j/BAAAABEAFQAZAB0AEwAKABAAAwD0//j/9P/Z/93/6P/M//P/CwD2/+//9P/2//H/8v/t//b/DwAdACQADAAcAD0AFgASABkALQAmAB0AKQAnADUADgANAAMA+/8GAAsAEAAHAAgA8f/l/+v/6f/i/+P/6/8HABEACQD1/+f/5f/h/+b/2P/h/+b//f8PAPz/DQAOAAwAIAAUAAsADAD7/wQAAAD3/wYA/P8AAAoAFAALABQAIgAHAAAADwAHAAkA+v/4/wAAAAALAPL//P/m/+f/BAD2/9v/7P/W/8//2//A/97/zP/O/+T/8v8AAPL/7v8AAPn/8P8CAAkAFgArACcADgAfACwAGwAKAA0AMQA+ACcAOwBGADMAKwAwABwACwAVABUACgD+/woABgAZABEABwAIAPL/6f/U/+3/6P/Q/9P/yf/J/8P/yP/N/8f/xv/T/9T/1//t//j/8//8/wAAAAAUAA8ABwATABsAEgAhABQACwAVAAwAEwAMAA4ABQAAAAgACQAMAAgA+f/4/yMAGwAKABUABgACAO//8//7//r/7P/i//j/BQD9//3/CwAOAAoADgANAAYACwAHAAAA8v/l//P/7//q/wAACAAEAAMAAwAQABYAHAArAA8AKgAyAA4A/f8cABsA6P/y/+7/9//V/8//4f/P/9b/2P/q/9n/zP/i/9X/6f/i/8j/3f/o//j/4v/s//v/CAAjABkAJwA1ADMAFAD+/w4AKQAYAAIAEAAlADcAQABcADMAFwAsACUAIgD//w4AHwAWADgALAAOAAoAGwAqAA8ADQAMAAEA/f/n/9z/yv/1//P/3f/n/+H/8//v/+b/2P/X/9b/3f/y/9r/u//V/8v/xf/X/8z/2f/f//L///8MACMADQDx//3/AAD3//b/9v8KAAgAAAAHAAAA+v/u/+f/6f/3//n/9v8CAO7/6v8GABIAFAASABUAKgAnADQAMwAZACcAOwBFACYALQA0ABsAGgAeAAUAEAAtAAwAAgARAAkADAASAOv/9//5/+z/BwD4//r///8AAPf/3//Z/9X/3f/K/8f/1f/X/+3/+v/q////AADu//L/6v8CAAwACwARACEAGQDw//v/EgD3//L/9//3//z/CwABAOz/DAAXABYA9v/o//D/5//t/+3/7v/b/9j/5f/e/8b/wv/P/9j/8f8LAAcA9v8XABsAHQAyACQAJwAZACAAMAAVACoAJgAYABYAFwAdAAEABgAAAOn/7v8SAB0AEAATABgACAAGAAMA8/8FAAMA3P/w//T/6//6////CQDt//b/9//k/+P/0f/Q//b/7//Y/+n/6f///wcAAAANAA4ACgABAAkACQATAB0ADQARAA8ACwAbAB8ACAAQAC0AMAApACgANgBBACAADwASABwAOQAuABoALwAyACMAEwAAAAEA8v/e/9j/0v/P/8L/wP/J/8T/zv+7/8f/1v/b/+X/3//5/+P/2//w/+T/6v/y/+j/5//f/+7/4//m////+f/u/+//BQAYABIADwAoABMAGAAhACYAKQAZABkAKQAsAB4AJAAXAB8AJAAdABcAGgAAAO3/4//j/+7/1//m//D/5P/1/wEAAADv/+P/9v/+//j/2//q//r/8/8TABwAJAA7ABcAJgBFACsANwAvACgAKwAWAAQABgAJAAAABAAHAP3/GQADAAEAEADj/+r/3f/P/9n/2f/V/97/1f/Q/9j/yf/j/+//0v/y//H/4f/k/9v/5f/t/wEA8//x//T/BwAPAAUABAAPABgAEQAmABUAFAAVAB4AJAAlADMAGQApACUAFAAuABwABwAOACYAHQACAPT/9P8AAAcA7f/h/wQABgD+/wAA//8DAPf/3v/c/+L/9v/z//b/8v/u/wAA+P8DAAEA4v/7//3/+f/1//T/EgD+/wkADAAEAPL/4v/4/+z/8f/w//n/7v/X////9v/u/+L/9//1/+7/AAD3/wgADAAfAAoAHwAZAAoACAALAA4A//8LAAQADgANACsAFwAmAC8AKgAjABQAIwAVABkAFQAkAP3/AgAMAPX/+//j//b/+//r//H////f/9v/8//o/9X/6f8AAOT/8P/y/+v/6v8AAA4AIgAlAB8ANgAVABsAHQD9/+r/9f/0/+n/+P8GAAkA/P/3//b/9P/b/9X/0//V/+v/7P/o//v/EwD4//b/7P/g//D/2v/e//7/AADq//7/AgAFAAEA2P/o/wAA8v/0/woAEAANAB0AIwA5ACsAFQAhADoAKgD8/xgADQAoADYAJwAyADQAKAAQACQAKQANAPv//P/e/+H/AgABAN//8P/6/+3/0P/Q/9//y//p/97/5//5/+3/9P/z/9z/4f/8//L/6//v//j/AAADAAAA9f/0/wsABAALACQAGwAhAC0AKAA7ADkANAA1ACgAJAAdACAACAAkACMACgAMAPn/FAAPAAoAFwAHAOX/4v/Y/9T/5f/N/83/5//Z/9b/5f/h/+//2P/v/+7/5f///+n/7P/1//j/7v/3/+7/4//u//P/9v/p//v/AAAHABIAEAAiACYAJAAYACYALAAaABwAIwAHAAsAGAAIAAMA9v/f/+H/9P/Z/9T/9//v/+v/AAAGAPH/9//7//H/+v/z/woA7v/v////8f////7/JQAWAAIAGgAtACAAFgAZABkAIQAtAC0ANABbAD8AIwAYABwADgDv//n/9//3/+7/7v/v//z/AADi/+v/5v/Z/9//5v/3/+z/8v8CAPz/4f/M/9r/5f/M/87/4P/i/+X/5P/w/+3/1P/a/+v/5f/5/wsA//8KABcAFQAZABcAGQAeACgAHwA8AEUARQA4ABYAGQAWAAkA/v/3/+n/+v/s//L/8//p//T/7f/y/+r/9/8OAOf/5P8IAP7////+/w8ADgADAA4AFQAXAA4ABwD7//7///8HAB0AHAAbACgANAAoACEAJQAaABYAEwD9////AADy/xAAGAAAAAUADAD+/w4A5f/a/wMA9P/9//r/6f/l/9j/yf/X/8b/uf+5/8L/x//J/9D/5v/o/9r/BwD6/wUAAAAKAB0A6f/+/xMAGgAfABgAHgA3AD0AGQASAC0AHgADAOb/8//7//b/AAD7/xEABgATABEA/P8RABsADgARABAACAAQABoAEAAEAAQA7v/u/+X/5//6/+3/0f/D/9b/1f/e//D/6v8CABkAEAAWAAwAAwAfAA8A/f/x/w0AKQAaACAAFwAfAAUAAAAOABUAHAALABYAIgAXAPT/5P/o/97/2f/l/97/6v8CAAkAAQD2/wAA+v/1//L/6/8HAAQA6//+/wwADwAEAO3/AgAMAPX////0//r/CwDv/+n/BwAUABUABAAUABoAIwAxAB0AKAAcABoAJwAQAOr/7/8NAAUA9f8QACQAFQAAAPb/6v/j/+T/1f/I/7//1P/M/8z/1f/O/9v/4P/o//H/+/8OAAoADAAiABMAEgAOAB8ANwAaAA8ACgD5//z/FAAAAPP/BwADAAEACgACAAEA///2/wEA+f/7//r/4f/t/wsACQAAAOn/7f8KAPz/+P/1//z/FwAOAAQACAAKAAUA9v/+//3/BQAOAAIABAD1//b/CAD5//7/FwAWACsALAArADYAIQAFAPz/AwAAAP//+P/v//7/7f/5//r/9v/+//b/+v/u/+//6P/7/+H/4//u/+P/+f/n/+///v/5//T/AwASAAQA6v/8//P/5//9//L/DwAIAAEACgAKACAA///8/wQABAALABEAJgAgABoAFwD5/wAAGAAAAP7/DwATAAgAAQD9////9//f/+T/3v/c/+n/8v/t//X/BAD3/+v/8f/+/wQAAwATABcAHwAKAPz/IQAUAAMA/P/4/wgABAAGABAA7f/r//D/9v/7//P/7v8EAAkABwAlABEAGgAtACkAGAAXABcAJAASAPj/AAADAOz/7f/2//D/AADf/+3//P/h/9D/5f/9//f/7P/m/+7/DAAAAO3/BgDw//T/8v/4/wQAEAAyACQAHAAqACMAFAATABYABgAGACIAGAAKAAUAAQAIAO7/7f/v/9D/3v/6/+//3//z/wIA8//m//n/+f/+/wUA9f8BAP//6//m/+z/6P/i//X/5P/b////+v/p/+//CgASAAAACAAMAAwA/v///xQADwASAAwAEQAVACcAQgA6ADAAFAADAAAABgAAAOP/6f/3//D//v8QAAUA/v8HABMA8P/m/wAAAQD9//H//v8BAAcACwD8/xAAGQAFAPb//f8MABEAAAAIACQABADr/+b/7v/v/+z/6//8/wUAHwATAP7/LAARAPT/6v/y/+z/8v/4/+H/9f/x//n/EgANAOz/7f/2/+v/6v/o//D/+P/3/wsACwD4/woAEgACAPz/EAAYAPL/+P/7//z/BAD+//z/CwAhABoAIwAWAB0ADQAFAA4A9v/6/wsACwAAAPz/8//5/+//6f/s/+T/5//u/+//8/8AABsACAD+/wMA+/8AAPT/AgD//wUACwD2/w0AEgDk//f/CQD6/wAABAARAAMAEwAUABoACwAQAAoA/P/+//7/AwDx/wwA9P8AAP3/8v/1/+f//P/t/+b/7f/j/+H/9P/s//r/8f/h/9//8P/4/+D/5v/p//z/DQAcAB0AKwAuADcAQAAeACAALgAwACUAJgAvACQAJwAsAC8AHQD4//D/3//h/+3/4P/x/wAACgAeABMA9//m/+7/4v/Q/+j/2v/D/+r/9//o//P/+//z/+D/5v/Z/9P/5f/v//b/+P8BAPT/8v/+//3/7f/6/w0A8P///xQABAAgACAADAAvABAAGAA3AAAAAgAGABIAEwD6/wkAEgAQAPr/AAAfACcAGgAAABsAKgAMAAUA+//c/9z/9f/p/93/6P/i//3//P/t//n/7f/2/+3/9v/5//f/HAAsACEADgArAD4ALQAxABgADAAaABEAEAAAAPz/CgATAAsAAgAXAAsAAgAKAAoAAADw/+v/7v/j/9T/8P/i/+T/5f/M//T/8f/i/9j/7v8KAO7/2P/f/+7/2P/P/+X//P/x//v/BAAAAPn/7P////X/CQARAPv/FwAgABMAFwAiACEALAAlABAAIQAaAP//BQARAPz/AQDy/9//AgDy//7/+f/V/9r/vP/p/+D/4P8QAPD/BADu/+7/CwD6//r///8MAA4AJgAiACcAJwAkAC8AHQAcABsAAAAEAA8A8f/8/wAAAADr/9j////3/9//+v8UABMABwD5/wUADgAFAP7/EwAZAPb/8f8BAAoAAAACANf/6f8AAO//8P/Y//n/7v/i/+X/3P/v/wEA+f8DAAAA+f8IAAEACgD9/wwA///x/w0ADAANAAUAGAAlABcA/f////z/AAAHAAcACwAVAB4ABgAcABsADgD4/wAAKAA1AB0A8/8YABwACQD3/+z/+v8AABUAAAD5/xMAEwAHAP//AgD+/wgAAAAFAB4ADQDx/+z//v/y/+7/6v8AAAUADQAQAPz/EQABAOH/3P/H/8H/wP/O/+n/3f/u/+T/AAAAAOT/4f/k/+v/6f8CAP//CwAXAA0ACQAdAAEA/f8QAAgABAAMABAADgAfAA0A9v8EAAwA/v8NAA4ADAAXADQALAARAC0AFwAaABQA//8CAOb/7f/x//T/9P/s/+L/+v/y/+j/6f/L//L/6v/u/+f/3P/o/+j/BwD8/+v/+/8DAAAABgAUABkALAA5AAgAEgAvABgAFQAQAAgACQAOAA0ADgAIAAQA/v8BAAAA5//4//r/7P/2/9r/2P/V/9P/zP/p//L/xP/W/+X/+/8EAP3/6/8IABIA9//4/wsAHgAHAB0AFAATAC8AAwADABwAFAAUABAAHQARAAIAFAATABAADQAGAOv/BAAUAP///P8EABEACAAQAPv/7P/o/+z/9P/0/+//7P/f/+3/AADp/9X/6//3/9z/BQAUAPv//P8NAAsAEwAdACAAGgAhADIAFwAlABYAEQAqABQAIAAMAOr/AQACAAAA/f/s//f/DQAUABUABgAQAP3/9P8CAPv/9P/0//H/3P/t/9X/3v/W/+L/7v/T/9P/2P8CAPj/+f/i/9n//P/5//D/CwAVABIAIgATACQADQD//xUACAAGAAoADAAFABIA9/8AAPn/9P8EAPz/8//8/x4A8f8NABMA+P8MABEAAAD7/ykAFQAFAAoA/f8GAP//CgAGAAAAAgDk/97/4P/v/+3/+v/o/+T/AgDz/+3/7f8MABQA/f8YACEA9f/1////CgACAOL/FgAeABQAGwAOABYACQATAC0AJgAkAEYAIwAIAAkA+//l//L/DgDt//X//v/1/+f/6v/x/+j/1v/o//r/8P/z//r/EAAHAAkADwAEAPH//P/v/9X/4f/7//X/3v/u/wIA9//e/+b/9f8BAOv//v/t/wEAEAAXACwADAAXAAMADAAAAPv/CwAXAA4AAQASABYABwAGAAwABQAfAPP/6v/v//T/DQD6//n////5/+L/6//s//j/BQAAAPT/7v/4//r/BQAGACAAIwAZAAIA7v/8/wEA//8GAP7/9f8HAP7/+P/9//r/BAAVAAkA9v/1/wwACQD+/wYACgALABIAEAAbACcAJAAyACoAKwApABYADgAMAAgA8v/5//H/zv/V/+T/3f/T/9r/6f/y//b/+v/6//3/9f/4/+7/3v////j//f8hAAIA+//4//X/+P/Z/9v/2f/n//T/9v8SACUAJQAaABkAKgAOAB4AIAAFACcADgAIAAwABQD8//f//v/1/9r/0v/m/9v/1P/p/+D/0f/n/+r/9v/5/+z/6v8BAA8A9f/2/wYACgD9/wAAHgAWABEACQAFAA0AHAAjABsALgAbACIAKQAVABUABQATACEAFgARAPz/GQAbAPv/GgAXAB8ACwAAAAsADAACAPH/9P/n/97/3f/e/9z/6v/V/+D/6f/z//7/7v/x////CQAGABQAFgAPAB0AJwAZACoAHgAKABsAKwAhAB0AFwAjACkABgAEAO7/1f/M/9X/6f/w/+P/7v/y/+v/7v/K/8f/z//C/9P/6//w/+H/0v/l/9v/1v/R/9D/5v/w//r/+v///wAACgACAAoAGwAXABsAKwAyACwAJwAOABsAMQANAAEAJQA2AC0AGAARAAQAFQAPAN//yv/k/wIA5v/g//H/7v/v/wAAAgD+//r/+f8SAPv/9v8jAB8ACADv/wkAIwAeACYAHAAcACQADwAHAAYABAAHAAwAFADn/+b//v/w/9v/8f/3//b/AgD1/+T/+v8CANH/4v8EAPr/AAAJAPD/EQAgACMAFwD2/xIADwAIAA4ABAD5/9z/4f/a//D/4f/a/wQABgADAO7/EgAVABQACgALABgAEAAOAB8AGQARAA4A7v/0/+X/7//o//b/AgD7/9//5P/z/9r/5v///x4ADgAVABUAEQATABUACwAFACMAFgAJACAAHAAAAA8ADADx//L/AADu/+X/7v/p//n/1f/a/+D/3/8BAAYA+//8/wYA7P/r/+v/6v/u//v/AQDv//n/EQADAAMA/v8HABcA/v8AAAcAGAAJAAUACQAEABAABgAHAB0AJAAbAAgA9/8PAA8AGAAJAPz/FQAhABEA+f8TAPz/9//2//L/+P/t//D//P/o/+D/9f/b/9n/4P/Y/97/8v/8/+3/+f8TAP3/+/8AAAQABAAWABMAFQAnABsAIAAPABQAKQAUAP7//P8DAA4ACwAPAAgAKQApAAYACgAOABgAEgAFAA0AHAALAAIAAAAGAAQA7P/k/9r/0v/D/7v/vf/e/+P/1f/j/+L/+f/w//j/+v8JAB4A8f8BABAABQAKAPr/+/8MAPj/EgAFAP7/FQD5//r//P8DAAwAEwAcAAsADAATACEALgAXABkAEgAOABMAEwAAAOn/AgD2/9D/2//e/+D/1P/V/+D/3P/l/9v/z//O/+H/z//b//n/AADv//H/FgAWABoAFQASAA4AEgALABMAJQA9AFUAOgAgADIAQwA1ACYAPgBFAC0ARAA2AA0ACAAMAAMA7//r/9b/uf/I/+b/5v/K/9H/5f/t/+H/0//J/9r/6f/Z/+L/7f/s/+H/5f/y//H/7/8UAOr/7v8eAPr/CwAaACgAGwATADkALAAdAC4ANwAxAEUARAAWAAoACQD+/+r/8//3/+f//P/8/9n/2f/n/+L/4f/n/+j/3//r//v/8P/x/wsAAQAKAP///v8nABUACgAVAA4A2v/j/wYAAgD6//7/BAAIAAQA9f/y/+X//v8MAPH//v8JAPv/AwAVABcADgAJAAQA+//u/+n/4//v//r/+f/8//P//f/z//b/AADz/+z/AAAQABEADQACABYAHQAtAB8AAAAaABEA7/////7/AwAJAP//EQAMAAQA9f/v//f//v/c/+X/7//b/wkA7//c//L/EgAdAP3/CQAYAAcAAwDz/+7/AgAWAB0AEQAlABQADgAuAB4ADwAVABAAFQANAP7/BwD///X/CwD1/9n/8v/z/+X/6//m//z////1/+//7v8MAP7/9//5/wAAAwDq/+3/7v/p/+7/3P/q//r/4f/f/+z/8//w/wMAAADq/wcAFAAAAAUABwAJAA0A/v8SAB0AHwAhACAAHQAUABQAEAAcABMAFAAPABIAEwAUABEA/v/2//b/9f/p/+j/6//o/+P/7P/4/woA5v/o//X/6v/2/+z/4f/p//j/6f8CABsAIAASABwAKQAhACkAJgAmACkALgAqAC4AGAADABAAFAD2/+z/+P/n/8L/yf/b/9v/5v/t//v/8v/1/+H/4P/x/+b/1//i//X/+P8CAOv//v8XABkABAAAABUAAQAFAP3//f8HAAEACQD//xIADwD1/xEAJAALABEAKAAaACAADwANACUAJAAeABEAMgAvACAAJgAQAAIA7P/z/9r/1f/g/8z/zv/M/8//1P/p/9z/3v/+//3/BQAFANH/4P/8/+L/6v8BAP7/9v8MAAcA7P8AAA4A9f8TACwAGQAZAC8AEgAEAA4ABwAWACAAGAAHAAoABgD5/+//7v/t//X/8P/6//z/7v/5//3//v/r/+X/3P/Z/+T/2v/c/+//7P/X/+P/7v/0/w8AAgALAC4AIAANAAgAIgAhAP7/FgAxADsASgBCADUAPwBFAC8AIAAoAC8AIwAVAAAAAADx/+3/9P/2/wAA+P/q//b/4//R/+j/zv/O/8T/2v/r/9j/zv/U/9v/3v/2/9L/4f8BAPP/AAAKAAUAGAAbABoAFAAsAC8AGAAkACEAJQD///T/BAAEAAIA+P/0//v/8v/9/+r/z//h/+b/7P/w/wYAAgACAPz/DAABAOn/AQD4//n/7//e/+j//f/t/8j/+/8GAPv/KwAqAB8AEgAjABgAEQAfABIAIAAhABsABAAcAB4AHQAiAAQAEwAIAAQAAADu/wsAAgDp/97////3/97/BAARAAkA///9/wAA8//g//b/+P/s//7/AAD9/wwAEAAKAPn/7v8EAPz/+//7////AwDw/wAABAD6/xIAHAD//xwAKwACAP//AgDq/9f/7P/q/9T/zv/n/+f/3P/y/+//5v/7//3/+f/x/wEADAD8/woACwAAAAUAAADr/wYAAAADAAkAAwAPACIAKgAoAC8AGgAeAA8AHgAQABUALAAoACQAIQAmAAQAAAD/////7v/b/8//wf/f/9b/zP/d/+H/6P/j/+D/3//l/+n/4//e/9n/xv/I//D/6P/v/woAFAAgACQAMwAsACwAOQBKAE4APQApADMAOAAQAA0ADwAHAAAAHgAkACMAIgAQAAkA8P/g/9P/1f/R/9j/1P/O/8//xP/U/9H/z//k/+z//f/7/wAAEAD5/+3/8f/s/+//+P8BAA0AAgAAAAoAEAAnAB8AKQAsAC0ANwAoADUAHwAXABoADAAZACIAHAArABwACwALAAAA/v/q/+f/5P/f//b/7//g/+H/2P/u/+z/2v/m//P/4//g//v/+v/4//D/+////wwADAAoADQALQATAP3/IgAVAAwA+v8AAAQA9////wAAAAAAAAAACAAUABMACgASAA0AJQARAPv/CQD1//v/3P/b//3/6v/W/+X/5v/m/+b/2P/f/+H/1//U/9v/1//r//P/8v8AAPb/7f/p//T/AwAbAB0AEAARABsAJAAZAB8AGAANAB8AHwAfAB0AAAAEAA8A+//v/////f/3/wEADQD9/wUACQAEABcAAgAQABIAAAABABQAJAAPAPn/9//5/xAACwADABgAFwAcAA4AGQAKAO7/AADe/9v/4f/o/+v/zP/z/+D/xv/h//H/2f/H//3/+//1//3/FAAsABoAHQAcAAwADAD2//P/DgADAP//CwAJAAIAAAD3//P/BQAHAP7/DAAjAB4A//8FAAgAAAAFAPr/7v8IAPv/2f8KAPz/+f8DAPX//f/9/xoA/f/z//j/AAAYAAkAEQAWABwAFgAKAAAA//8HAPn/+v/0////FwAFAAUAAQAWAB0ABAD8////FwAKAPf/9v/7//7/FAACAAUAGADp/+//+v/k/9//9P8LAAcA9v/y/+L/1v/b/9r/1//J/9f/8P/p/8T/3v8EAPj/4//k//f/7f/s/wYACwAAABYABAAKAAsABgAeABUANAAfABAACAAHABMAEQAZAPn/CQAXABEAFQAVAAoADwAlACIAFwAKAA8AIwAjAAoAEAAXAB4AIQASABkAGAARAPr/9f/4/+H/4P/O/7b/vv/K/73/xP/l/+P/BQAQAPX/DwAMAAAAEwAQAAAABwAfAAsAAQAEAPj/AAD5//7/AAD7/+3/7//8//f/BwDl//3/CwD6/wgA8P/i/+n/+f8CAAgACQAfABYAFgAHAPj/BwD4//L/0v/q/wQA+/8MAAwADQAhABYABwAAAP3/CwDz//f//f8GAAEADAAkABkAIwAVAB4ABgAHACcAEAAUAA0ABwD9/+//BADy/+3/+P/q//P/7P8FAA8A/P8OAAUA7//p/+z/2f/k//T/5P/r//v//P8AABEADAAEAAUABwAAAP//BQDz/+P/9P8SAAwAGwAQAPj/IAAQAP//DQAFAP3/BAAYAB0AIAAiAC8AIwAiAAQA7/8fAP3/+f8WAAYACgADAAMAAQDs//T/3//a/+3/3v/m/+H/3f/s/+7/5f/i/9n/3P/j/9//3//c//T/CQAHAAMA+P/4//f/9P/s/93/6v/v/9v/7f/2/97/8P8AAAcACAAKAAgAFwAjABAAHQAmACAALwA7ADUAMAAqAEAARAApACEAFAARABQA9f8DAAYA/f8HAPb/7P/e//D/3f/i//j/9P/x//D/AwDz/+P/8//x//D//v/8/wEA+f8AABAACAD+//j/+v/8/wUA7v/v/wAA7f/7//z/AgAEABAAJwAUABEACQAMAPb/AAANAOj///8IAO3/3f/t/wIA7v/u//7/8f/3/+T/2//1/wIACQADAAMAEQAPABsAEQAJAB0AAAD3/xkAEwAJABAA/f///wEABwD5/xYAIAARADQALAAhABoAFgAKAA0ACQAFAO7/6f/2/+//7P/t/+T/1P/v/9H/4//t/9T/0//v//z/4P/t//P/AwDl//H/8P8CAAgA3//v////FQAAAP7/AAAaAAAA4f/5/wMADQADABIADwAZABgAEQAUABwAGQANAA0AIgAqABEAFAAjACkACAANABEAGwAYABUAFAANABUA4//g/9z/4v/u//L/9v/3//3/9//1//P/+//V/+b//f/l/9j/5f/5/+P/7P/j//T/AgD+/wAACQAhAA0ACQAJABUAGgAcAB4AJQAxACwAKgAiACgAHAD+//v//f/n/+f/9P/m/9j/5P/a/8f/x//e/9T/zf/Y/9D/4//n//D/6//t//D/4//s/wQA///y/wwAGwAWAC4ALAAkADwAMAA1ADsAOAAjABgAHgAbABoAGQAbAAcACAAMABUAJwAMAAMADgAGAPr/8v8HAO3/1v/s/+7/8v/m/+D/zv/l/+//0//c/9P/3P/e/8//4v8AAPD/9f8CABcAEwD//wwAHQAiAPL/FgAxADUAJQAGACMAFQAKAPb/DAApAAcA//8JAAsABwD2//b/9//V/9D/0v/R/9b/8P/g/9z/BAABAP//6v/6/wsABwAQABQAEQAVABwAFAAIACoABQDw/xsADgAZABQANAA0ABIAGwANAAIABgAMAAAA8P/v/97/4v/i/9z/9f/t/97/7P/q/9v/4P/s/93/7f8GAPr/9P/x/9z/6v/4/+3/6//7/wQA9/8YABUAGAAhABwAFAAJABgAAAAAAA8AAgD//xQADgAKAA0AGgASAP7/AAAHAPX/2f/o/87/9/8XAAwA9/8KAC4A7f/7/xgAIAAuABwACAArACoABgAHAAsADADt/+T/4f/6/wIA/P8GAAYA9//k//H/5//t//P/3v/V/+D/4f/W//f/DQAMAA8A7/8BAAgA0f/U/+P/2f/d/+L/2//n//f/AgD1/wcAFQAHAAkAFQAOABQAKwAfAD0AJQAaAC4AGgAYAA0AHwAHAPj/GgAVAA4ACgD2/w0ACAAKABYAGwAaAAYA///0//r/8v8EAP7/AAAIABUAFAD6/w4ADgDy/+T/9P/o/wAAGgD8/wYAFwD7//n/BAD3/+r/3f/h//7/8f/l/+v/5P/q/9n/xf/e//T/5P/p/+z/5f/0/wcACgAaADYANAAYACYAMAAsAD0ABwACABAACwAMAPD/+P/9/wAA2P/R//b/5v/z//r/AQD5//X/8f8AAAIA7P8GAO7/9f8DAPz/BwAUAAoABgAfAPH/5/8TAPj/5f/a/wIA8//q/w8A7/8JABQA/P/s/y8AFgAWACYA9f8GAOD/z//0/wUA+P8VAOX/3f8kAPv/AQAVAOn/5//3//v//f8lAA4AAQA1AAIAAAAIAAcA//8XADEACQAkACgABwAGACUAHQAEAA0A4//2/yYA/v/9/ykABQDX/xYAEADr/wMAAADY/+j/CwD3/+j//f/s/8//5P/Z/77/2/8GANH/6f8OANv/7f8fAAAABgBBAO//BgAvAAQAAAA4ABIA4P8wAP//5P8LACMA2P8BABUAvf/+/wMA2f/g/xsA8//b/xQA8v/4/yQA6P/x/w8A/f8SAP7/AQAaAPb/0v/K/7T/9P8KANf/AwAaAAwABwAkADIAIQAmAEAAHAAlAE0AHAAiAEAAMAAfAEYAHAAJACwADwAAAA4A6P/M/wMA+v/+/+L/yf/t//z/7//F/+b/8v/b//3/EQAEAAwAEwD7/wAA+v/F/8D/3P/2//7/DAAEAAcABgD7/wgA3//6/+3/0f/p/9j/zf8JAAwA8v8PAOn/3f8AAPj/zv/i/+//6v/p/wEA+v/4/wEA4v8TAAIA8/8VAPb//P8WAAcADQAfACYAIwAbAB0AKQAQAAMAGgAOADEAIAAaADYAIgAbABIAEgD//wgAFAACAAAA7/8PAA0AAwDu/9j/AgDR/+b/9v/2//v/AgAIAO3/CAD8/+j//P/5/wUA/f/h//f/4/8FAO7/BgAVAPT/+v/3/wkA9f8RAPX/9f/3/wcAEwD//wsADQAPAAIA7v/Z/+H/yP/D//7/HAAIAA4AEgAKAA8AFwASAAAAGwAMAP//AwD+/wsA/v/3////EgD6//r/EgAAAA8ACwAKABwACAABAPD/7f8AAOj/9f/g/+P/AgDt/+v/5f8AAAAADgADAND/4f/r/wAACgAQAAwAHgAmAAYACAATABEA/v/u//L/6//z/wAA5f8JADsAAAD1/yMAAQAZADsAIgAZABYAHQAMABIAOAARAPX/GQDq//3/FwD9//r/CgD1/9P/+//9//P/BQD6/8r/0v/z/wMA6f8BAPf/3P/i/9n/8v8AAPX/4f/0/9T/7/8KABcAFgDm/+7/9v/x//j/7//k/wEAFgD0/wIAFwDe/xAAGwD8/xQAGAAJAPj/KAAaAAEAEQDi//j/FAARACcAIwAWAAgAGwAkAA0ACAAnACAAJwAbAA4A/v/v/wwAEgAEANL/7/8CAPL/+f/8/wEA/P/3//L/AAD6/xsAJAD0//f/+v8DAA0ACwABAPH/CgAPAAAA/P8CAPD/1P/p/9P/0P/e/9T/2f8AAO7/zf/p/+n/6f8AAOT/wP/1//3/9v/y/+n/7/8RAP//5/8LAAQADQAKAAYAGwAlABsADwAoADUAHQAdABwADwASAAoAGgArABsAFgAHABYAJgAFAAQABAD9//P/7//h/+H/8P/r/+f/0//V/+v//v/x/9z/6P/s//n/EwDz/wgAHQAPABgADgAQAPX/FQAhABgAIwAmADcABwAAABoAFgAVAAYA/P8OAB0AAQD//wAACQD//9z/0v/t//f/0P/S/8j/xf/M/87/yf/R/+v/7P/P/+L/DgDw/+v/9v8AAA8ACAD9/xsAIQAiAC0AAABAAEkALQBJADwARgA0ADAAKAAfABIAEQAOAPD/8v///wYA8f8SAAMA3f8JAOz/7f8OAPT/+v/0/9//2v/V/9f/0f/d/+X/3f/n//P/2f/T//n/CgD8/x0AHgAGABsAJAArABIAEwAUACUAIgABAAwADwACAPb/9P/V/9j/8P/P/8j/5f/V/9b/6v/1/w0AFwAeAB4AEwAdACEAGQAPAA8A8v/6//D/1f/5/9//5P/e/+H/7P/e/+D/9P/3//X/BgDr/xEAHwARACkAPwArADQANgAaADYAKgAXABcACgAIABAABAAdAAQA9f////z/BQDi/+//3P/o/+L/6v/5/9D/BgATAAYABwAZAAsA9P8JAAcA8//5/wEA4//u//v/+P/g/+z/5P/r//X/3/8nAB0AAgAJABsAEAALAAMA+v8LAPr/9f/x//n/8////wMAFQD8/+T///8JAAIAAQAJAPj/CAAOAAoA/v/u//D/7f/i//3/7v/t//v/3P/x//r/9P/r//f/CAATABIAEgAmACIAFgAmACgAHwAlABQAAgDw/+3/AwD7//D//P8WAA8ABwAkAA4AGAALAPr/EgATAAgA/P8fAAcACgAWAAMA+P/y/+7/2v/Z/+b//P/7//v/AAAKAP7/6P/L/9//9v/9//D/9v8eAB0AJgALAA4ADQAKAPz/0f/s//X/6//x//H//f/3/+X/9v/k/+H////m/wEADgD9/y8AKQASACUABwAMABAA9P8BAPf/+P/2/+r/8//z//v/9v8AAAgADgAUAAQAAwAWABEADQALAA0AIAAeABQABwAGAPH/8f/2//L/7/8CAPT/4//5/9v/4//f/93/7//0/+//BgD9/woAJQD8/wIA/v8GAAMA7P///wsADgAXAA4A+/8HAA4AFgAfAAUADQAaAAEA3f/u//f/7//u/+7/AAD0//b//P/0/wwADQDv/w0ACgDt/wAAFAADAAIA+P/n/9r/2f/3//D/6P/z/xkAIQAjABcAJwAhAAQAJAAaABAAGQBBAEAANwA1AC8ALgAQAP3/9v/2/+r/+P/6/8r/xf/2//H/7P/X/9T/7f/2//n/9P8IAP3//P////3/7//r//j/8v/1/wAA8P/Y/9b/AQAAAAQAHADo/w4AJgABAAkAAwD2/xEAFwAcABwAIAAlACIAGwAKAAcA7v/j/+X/9//n//X/3//c//b//P/0/+r/9//r//f/7v/6/wcAAwD4//T/+v/4/+b/1//p//7//f/5/xQAHgArABUABQARAAwADwAYADgAJgArACoAIAA0AC0AIgAiAAAAAAAKAP///P/k//3/4v/l//b/7f///+//3f/o//3/4//j//n//P/i/+L/AwD0/9j/4//z/+v/FAAnAAAA7f8MAAkAAQAdAAIA/P/t/+r/AAACABYAJQANAB4AFwAmADIAGQAZAPH/8P/5//b/7//g/+z/BgDq/9r/0//i//j/1v/j/+H/7/8FAPv/DAAXABUADgAEAAMA9f8CAP3/9f8FAP3/+f8HABQAEgAhAA0ACAAPABQADAAFAB8AAAAEABoAHgAfAAIAHwAeAP3/CQAHABkAHQAWACUABgDr//v/9//j/+L/3//N/83/4f/a/93/3//f//H/7v/r//z/FwAZABUAIQARABUAJAALAB0AEQD5//3/+v/3/9j/1//k/+b/7//3/////f8NAAYAAAANAP3/KwArAA0ADQAHAAcAAQD4/+n/+P/s//D/8f/j/wsA7//v/woA/P8CAAUADAAPACEAEQAaACYAIQAwACIAGAA1ACQADwAdAB4AHQAKAAEABQD8/+L/7//7/9z/yf/d/8P/wf/S/8X/0P/j/+v/9f8AAAUAAwACABIA//8NAAsAAAD+/+7/+/8AAPL/5v/4//T/DAAfABAACwD5//b/FQApADQAMAAMABAAEgDt/+r/+P/b//D/3v/G/9D/wf/U/9T/0v/q//z/8v8AAAkAEQASAB8ALAAaACgANgAZAPz/FAAeABEADAAcAB0AAAAGAAsAHQAdAAAA//8CAP//+f8CAPj/CQArAAEA/v8LAAsADADy/wUABADu//z/CADz//v//P/p/+n/w//f//T/8P/i//n/8v/C/+H/2v/T/+v/DAAaABIADgAWAAYAGwAeAAoAAAD6/xEACQAJAAIACgAIAAEACQAQABMAGAAaAA8AFwAeACgAGwADAAcAAAD0//D/8v/t//H/5//f//H/3v/c/9r/4v/k/9L/5f/s/+f/6P/d/+H/9f8FAP//+P8SAAkADQADABoAQwAfACcAHwAlADsAJAAdABoAIgAuAB8AGgAqABoAAAALAPr//P/8/+L/6v/z/+b/3f/r/9z/8/8CAPT/6P/z////8f/y/+r/3P/o/wUA8//u/wAA6//3/xQAEgAbAAAAEwA0ACsAIgAqACoAGAAdAAkAGwAhABoAHgAnABoA9//v/+H/9P/1/9X/1//N/9X/4f/W/8v/xf/h/9H/5//1/+f/5f/4/wEA2//2//H/0//n//P/9P/4//T/7P8OABwAAAAkACkAGgAtACgANQA2ACwAMgAmABYAIQAaABUAGAAUAA8A+P8CAPr//v/u/93/AQDt/wAACADw/wAABwABAPX/CQAAAN7/5v/p//b/+P/j/wEAEAAAAPL/7v/6//b/8f/n//P/9v8OAAYAAAASAAoAGwAdABkAFwAeAPb/BgASAPT/DwABAOP/3P/2/+b/5v8AANH/2v/0/9f/8f/1/9D/8/////b/9//y/+3/9f8VAAEADQAcAAMABgAdABUACQAFAAEAHgAnACUAHQAuACkAJgAgABMAJgAdACsAJwAbABgA/f8QACEA+//3/wMABgDu/9//2f/l/+v/x//e//X/5f/Z/+//4v/l//3/3f/b/+r/+P/8//3//P/6//b/BwAEAP3/CwDx/w0ADgD1//T/6//w//H/7f/j//z/7v/6/+7/9P8NAOr/7f/y/wAAAgAVABEADgAcABMABAAYAC8AHgArABYAFgAWAPz/9P8AAPn/AAAFAO7/DQD6//v/HwAWABwAEgAJAAEAFAAWAAgAKAAcAA8A9/8KACkA/v8AAPH/AAAIANH/2//m/wMAEwAJABcAEAASAAoACwACAO3/6v/s//n/AQDr/+7/+f///xAA+//3/wsADADk//L//f/w/+j/6v8JAAAA7f/X/9D/5P/4//r/6//i/wIA/P/y/+7/4f/i//7/CQDl/wAAEwAZAAAA/P8DAAUAFQD8/xEAHQASAAEAEQAWAPD/+P8PAAgADgD+//7/FgAFAP3/BQAeAAIA9//8/x0AEwD8/xAAGwAYAA0A9f/o/w0A/f/+/wEACAAAAO7/+P/w//j/2v/N/+j/+//b/+X/9f/o/+3/3v/5/+7/BQAIAPn/AAAEAB4A8v8BACAAGgAoACoAGAALADIANQAyADYAMAAnAAQA///9/wwAAgD5/xAAEQD1/+v/6v/r/wAA7v/W/9P/1v/n/+j/8/8EAOD/+f8BAPT/6P/o//7/4//9//f///8JAP7/AgD4/w0ABQARABoAMABOACkALQAoADMAMQAJAB0AKwAQABIA+v/v/xkAAgDz/+b/4P/f/8f/0f/d/9b/yf/R/9f/v/+6/8r/4//v/+//5//Z/+v/8//q//r/BwABAP//FgAUAA4ABwD//yMAFwATABwANQA7ADoANAA1AFgAKQAeACMAHgAzABQA7//6/xMA+f/O/93/9//2//D/8P/t/wQADwDz/9z/3v/c/wAAAgACAPn/8P8DAOn/EgAAAPD/BwAAAPr/7f/7//j/AAAKAAoABQAbACoAFwAoACcAOwAmABQAIAAFAP3//f8GAP7/9v/y/+X/y//b//T/8//g/9r//P/o/9f/2v/c//H/+P/0/+X/9f8AAPD/BQAPAAgAAADs/w4ACQD4/w8A8v8AABIAEwAfABAA/v8DAA0A6f/u/+n/1f/I/+H/CAD1//f/9P8HABIA7//j/+z/+f///xMAKgAnACIAMQAxADEAIQAMADIAEgAWADEA9P/z/xIAIAD4/+r/CAAHABIAAAD9//r/8/8BAOj/9f8AAPD/+v////b//f/n/+X/7P/p/+H/w//t//P/2//a/+v/8P/u//D/8v8EAAYADAAKABMAHgA1ADIAKAAZAP3/8//0/xUAEAD///P/DAAcABQACwDn/+7/4v/s/wEAAQDx//T/DgACAA4ADgABAAYAFAD6/+n/3f/3/yIAIQATAP3/AAD9/yQASwBKAEgAJgD9////EQAEAO//DQAsABwAAQD1//H//v82ACwAAgDK/7n/3//r/wEAyf+d/53/wP/X/8L/v//A/9n/4P/p/wAA7f+//6r/qf/M/93/4f/g/+P/8//Y/+//MwB7AKUAegBoAGQAZACjAMwA2ACsAFwAKAAPAB0ANQBuAIcAPQDE/2b/if8FAF8AWwBEAB8APQCNAIAAUQBcAGYAdgBmAAoA4f+5/1z/Bv/k/ov+b/6Y/sP+Rf/h/8f/SP+1/tj9+f1t/jz+z/22+/b31fWl9Pr1MvzRAU0EjwL5/PT8FAUjDj4UXRKVCtMHFwoZDp4S3RBiCwIJXgefCIsLVwr0CUUJvASuAugB7AGxBX8FRQAH/ND1w/F98/byRvEE6zbc9NFj0W/WDd/p3uHUEM8o0BHa7egP8B7yK/b6+gEEXA3uEo8btSS6Kf4sLy1NLawyzDahN2w2+y6pJswhiB0oHBsZxQ7oA/X6e/QM86Lv/eiQ5DXgnN1P3fnaO9sE4PDj5+Yu6FToa+1h9Vz73ABiBFYFJQctCN0J8g5OEmAS9A4OCUkHAwriDW0PEQttBB8A2P8+A8EFBwQNAPn86vtQ/vAAWQHJAjoDnQObBO0DMAWwCAwMbwu4BrwCxAKMCDINEwo5Aq78hP3b/5QClP4t+X74mOXuzq7DVcMq3uDtSNZMu7WqFba/3m7xMOsh5yrjtexcA8UKNBWHJ4ArdTGaMyMu3Dk0R2lMWlGmRwM3EC4WKd0tjTZ3KyATsPyS8AL55f/m9AnlUtf/01jYrNSZzyHShtia3u7dKteu2JXlbPMS/ykCTP9iAekEfQvfFiYdJR0XGjQS+xHRGYcXRBMMC2kAZATYA3781/nb8d/vlfTD8S/yNPNB7xXyBvee+Af9oP6B/bgE1QkoChEN3goyDRkUiBN3EpAPXwz4DqMQGA15CAsDLAGOBUUGswL1/YH5ZfvL/rD9lvyL+HP60fXp2sjEK7sDze7xlPCbzUmubabPynv1evdN6z7jVOUs/cMMmg0DGkYoqzEvOtUyti35OqtInlQyUzxA2y65J/EqVDWTNeogsgaH8w7z1v2u+/nqwtjB0b7WYtjWz+LKMNCW3ArkEdzV0kLYzurn/pUHUwE1+0r/TQlAF4AfQCDuHLgUnhGiFdEajxuzER8ERPwQ+Wr8O/2Y+UL4JfAx60fuOPH3+Nr8nvkC++/60/1PBvAIDw38DrQM+Q3zDk8P/BF9FWYRFwxDCOAE8QcCBr7/VP5e/R79Pvyc+LT7mPoD/af6hPwLCKfcbLlpr0W2h/whDBzPm6bSjzGxwgOQBALqt+dE2p75tBSVBmsSvjAIOK5GWzkPHNgzCUgaXPRlVEWPJ9weYR+LNa5CXiX1ByDsTOdm/Pv/IO652YzNCtFp3arRo8o1zjbZ0OoW5JXUi9Ro6KYB9RGvBtX4Df+ECi4asiE2HvAa9xy6DwwLjRGZDj0aFhSgAEj4l+4B8a8B/gCr+I/xWuHn6Ez3OPpM/T/7fvU//AED8wLhCUcLKg8SE+IPTQs+DWIStxjdF5wJKAGf/w0F4goPCe79Dvmp9+364v88AGH6iPsGBjzYrrjWqnSryPW+B6/QSKfKiDiik/gqAJ3vK+5a2EX1UwmmBeIXvTYLQFZKTDtTIsQ3lkcXY/lt8VF/MoggPBrxNItHPixXEXHrfuOF9vL7zu/p3ibOzMvi1qjMhMsVzAHTweP+4jnWXdWV4WP52BKSC/f8F/woBjEYjyd+IJEU4BP9C+8QhhgqEBoP8g5sAKj9nvym8/n7Mf8G+s72Ke+q6v/yCP6EAHoBkfpC+lMBHAjED7EQqQ1GD3IT6xBbE1kSRhF1EDwK4Ae9BLkFEQdsARv7XQE2+gP6vP4P8lMLSOldrwSqMJsA0qgJLN7drIiReIZO1zIDNez39gXfiuoyDrcJaA6ALRg/iFSNUvgreTCVPqpcIXZEY6U+gCizGWYqWD/NJ1kWNPmJ5t3wyu754OPa+M4RzvvWKslowuDE9c824UboKd/X19Ti8PTdDMkV6wjfAEEGUxUDJN4jcBfnD0QQLRWhG1oSGgaqBIcE6QHS/Dz0PfR8+f/3+Pfe78HrVfEx+jf+RQDm/t/6UQXECyERnRLYDCYPcxTeFswXUBSUDWMNtgrKBlkHdAR1AmwCHv5Q+ef8zPIqBvL6QLrLrH6TTK8W+EXq3bVKmQGAfa/Z+S7pmPA26frjHwhRCo4KQSbWPDRVTmHyOy022DfDTpZ2BnKdUfUyrRpLHXs+3i+XF4r/8ebx6Pjrmt/q1HfNL8ko0p7MFMN9wTLFwtOU6B/s5edb4Cvl9QU8GVUbaA9DAsoQrSZPKgkfTg+5DAMcxiAqFqgFZAAMBUwGqARa9rLwb/SD+G34mfb/8arymPuKAUYFKAEd/9/+zQ1oGWkUERP4DiYMPxSrEBkLVw85D04QaAXP+db55PmnA9YGYPw2B1DgPq03pLqZKs45/WDYRavWjVWDTsdS7+fmqPai6ofx8AQh/oQLYy05RlVk2Fe6O9I1GjlmXb51HWy/TWYvHBo3Jx80GCeOFkv/DO7Q6avksdWj0nrS/NDS0ubLA8DSv7XJU9xJ61buzuiR3qrsHAZ8FOobxw42BNcUWh8/IucdEg8zDnwXzhnOEdUC2/ua/1UDowMH+tzsR+7W84P4iP0h9O3vVfggAGIGZQuqBrIDtw1uFvMbmBuYERMMBRAxFxYa7BWpCnkClQSWB8UJEf+FAuLuicxNwb2rCbt33/za18D6reqOFahU17vaW/H98E7mv/Xr/JUFNiEIMWlBNk7eQiw9dzomPjhQRV47V59GaSaVGSYkASGxHpgOS/dK8e3q/93n2d/TGtSy2hzWGMziyK3Md9b44wDrSu4w6vntlfqfC9wXmRU6EJ0OURiQIuQn1h/wGM0VYREAEBsIJAXxBhgEJ/7c9dLrje0Q7ZPwRPbX8qPzdfbX+V//1AcYCNAG3wvNDygUfhg2ERQRjw8iELUWsg7fDfQUcghvDloGmtdNzuK61r6W4gLfksrNscOY+6Jsv9HN4N9y5MvtzPYW9Nf2uQKTHBg7XkzpSWI8PDL0OIZIm1u3XM5P0DoPKpsobSVPH/QRbgVo+/PzoOlX3EXVldVr1c3U5NJtz+jRCtUz23ThIum/7r7xtvcQAP8JAxFqEJoPFxSxF/cbwBmwFqcYUxYgEacIXQFYAKsCQgRj+/3wUO+W8Gj0vfoR+rD2kvYe+IX/UgVuC9YN6xBCE18QHxGjC6URYBXEF/kXhw2vBsoMTA+l+BrrrssAvIvIVdY33HbO+LYapz2x0L8u3nbmaOO95ovq7fdhBCILDhQ4KmEzaz4vPSwyvDV2Qy5OIlBSRVExLy5bKVQlTiLuEzQFuAA+/Ej1D+u13oHbR9gE23/cZtRC0TTVNN3/5eHm5OW452/yhABxCL8LdwpoChMQURhJGg8bsBflFucVZxCIECcLgwIYAkwDnv1O/Bf5HPMF9575i/zt/bj7i/pS/1oCJgSECV4L7wuGCgANUwmhCbgLEg68DuUN4Qgt/qP2qew98OXm8eAA3BrKxMo/y8/AFsdtyry+F89Y1RvWXui86wrxivt5AloUYh/iHgIu/y+eNGRBxDwfQHRAxT0iQe84IS8ULwYodSDGG2gP0gbe/wr3evPK7M/jzN5X25zag9wx33XcOtpR3q3iieqD76Xw0fc//dP/SASaBlcJ1g4bEp4TGRMxEf4QLxDmDIoJuQjiBVkBpgHTANH9F/9t/Dn9Mv8o/hUA6wD7AKECKwYsBH4ETARYBCUFrAOWBcoHVgZFCHcHeQRiBY36ePNo6Gre89zl1+fQoc0sySXF/MwcxIjF/dLq173oOvXv8rf2i/9SCewZ1CDxJ6UtZi8KNoE8djvfPGk9MjuEPW01BTDJJYgb/Bm+FgwPMQOu+Mvxwesj6uDnOt3i34rhe9/a4ZXerd1L537rYfPe+ZX1bf36/5cDbgsAC1kMfQ0wDXgQUw5jCuMI6AVLBlAG9QCQ+zT7c/sq/d/9vPk89zj4ffuK/Ln94/2K/xUBHAEsAlH/bf6+AzgHkAXKCOMFjgKyAnoH5wSO/Bn3T+yc4SzhjOLS2jTattbn1YbWxNdI3Cjf1eAs7bj0mvUHAdADPAg1EY0W/h2SIWojcC3WLfQtizFKLHEqbivIKjQm5B+9GjgV4g7uCRcF5/+b/K76w/f28XTu+uxe7Kns/e7L76nuYPBL8eXzu/d7+kz++v84AGID9QQSBU4GxAcgB0UGewYlBbgCYwEmAJX+Cf1p+636rPmJ+pv7LP1W/bb7EPsB/6YBlf66A3IBR/5lA+oCWgMxAasC+gRSAGYDtwEKADwDT/s5+8bzEuxR69Pq5+go4sDlfN+C3KfjEePN5tDob+w280jyT/zn/aT+mgnJCZQQGBbCFfUZSR0QHw0hIyPoId4hzyHcHVUeCBmcFmAUSA4IDwwJQwaXBbwAofwF/KD5nfY3+Fj2ifXC9f/z9/QK9yD2gPuz/Jb7uP3+/N7/OAEgBG8FzQSmA94CXACTAaEAZP6AANz8GP1M+Y7+ifl4/IP+VfxR/rv53wQn+v0BdQLY+9EA+gAQ/X7+IQKZ+/T+mwMOAfj8UQTW+W/+A/rlAeb8FPPHAZjqlPUk84roNPNL6nPrhu+16nbqLOsH8gjwyPOe+8jy4/xg/cABjwQpBjwLUwnSEBYPuhO2Ek0UqBfFFp4ZKBf8FMgUtBFbElMSsgyZDVAJdQlPBqkElAS9/2gCQv5BAKD7p/lR/U34svyJ/Ff6ivvm+3P79f7f/qf7oQCmAJ3/5gBPADf/2/7YAKUBa//n/UT+TgBk/r774QbA+MT9eAbJ9w7/mASZ+bf9Xw6Z87YAAgSJ9t362gMX/2LwJglw9/r28wWK+Dz93gCA9xj92v5m/lb4JwAZ/tXs9AIF+Bzw8/z++VHzbfeS+JTwqvS++TT2f/kD/M/09P45/Y7+pwOqAjsBHgkDCgUHqxC5B1sNgxBPEBAQyhHgD4gNvxIdDOQNzQyQCKAL0QgIAyEJVf99A9QDqf0hAyD93/+s/I3+Qv3i+/b6q/1k/U37t/+5/Ur4ugEm/9oAmf4yBbv+5/wCBXL5NgYX8gYP2PW0+eIFlfb09u4CNPsL81UCxvJJB+vuOgzH9qj4XQE9/e79qvmrBez27vn3Aor1B/kQBW309wuq8f0DT/xr9CYJrPmF/QcARfnZ+5H9nPeI/6j6Vfee/9L/i/HaApj8JfSIApT7m/l+/mD8Dv9EAA39agH/AP7+4AbvABkG0gV1AokG+wVYBMQCOQlXAq4F8wglBbQCqQpG/xUJPwa4BKAHNQKTCjD9SwdXB14BogMWCpT7FwadBWn7bA0t9pAIOQKK+dcIkv1B/mwDBALY+lEDmP+X+zj/TgUV72MMm/R6/FgN8+70CZ/6q/jZ/r0Jtuy8EqH1P/rRCL7wrQkp8NULffC1CHf2MPrGBtzsGgq8++nzWAe99unx6Qz+7Pr+hfrQ+g713f+R+mL4owJv74gN+fMZ+O0KRPUJ/eMIyPX8CJH/6PtiD9L6sADTCbz8ZQLnAVQEcv31Bun65wOUB53wdxft790J/AqK8RwSegBF9s8Lr/7pAOj/AAQXBoPx0xL59dMGkgVj+bcTxfV4BWMOqvF8C1YGufT6Cqb6dQA4AW/9sQbq97ECuvyfBML7tACnBhH5wAR7/oMKzPUuCjsEDfh/Dvb5EQMjA4UAegEbAr3+VQV1+E8BlQnB9Lb+6gYa/7juOQ6H/Ffs7QjLAW/r1w5K74v91goi3dYk6uBgAVgOMuPCETXzLwEi/Xb3xgtM7mf+dA3t6VQHigKB/lHxDBDN+ivxcxfI6C4QePglAbQKWu8JEE/7N/nED6H3hQIIDWf0sApDAYz+gwMbCB353gd7A4T84gElAh4AFvkbCaL6TQEu+mgPT+zlB0wKzOr+CxIEGvDDC7gCte+EEeb1GgI5CET/xQA/CE38mQZIAvX/1gURAC//AQtB+VoGKQmG7S0cye1rAzgN/O5bCoD+0Pu3Ahj78ACI/XAFPPlKBDcEhu73E8DtewaOAabzrg/o8ZACEgMN9GIEqQQl9mwLtPrTAN36DgVJ/RbzkRTm6WcG7P/097MCbP0jALv/Jf4+/l0FYPctAvoB3/YmBJv//f7A/eL97wkw6wAZIvMg/yQQK+5UD535xvy5AZr9cPyr/l4EWfsx+PMYKOFEElYAxvKVC2z76gYa7jIXhu05CBEAagWl+QgHPAMF+9wHIgL2/O0DRAzr6JQkM+S5DOEFNvliAJgKFfpi+LQYceZkEIX1BATu/rn4bhAp8Q793xjU3y8aoPfX8UkZS+VbEjr6X/yZA6/9FQIH/yoBiQID+isGr/ztA9X5EAyI9h8A+A067PEPP++pELbvXQZmC4TnmhWX9on9Mwou+mz7xRCV7rYJKAYG8I8LbgL281AJYQYe4gIgoevI/ZoOS/BeAewDKvwt+dMRkOsgBiUJlPAvAjEMxOqwEDX3QATN/o71KhMg6BQQH/ys/Tv7cBaU6JgIhRbx2AYiR/jO80gSZPiU+igMpviu/ccDYQGm9lsI+gI99PAI5v45+OAKfPm3/AsNz+ubEjD27f7YCeH22gc0AxH5mAh8/Jn+SgrY6+YbsOxeAS0Ut+dSDegDfvSAB7UBTvsE/fUL0vVq+NYbZd1OEwQA7fIjDFD3JguJ7kgXNfBM/3ISu+dYEVb6Yv4MAIv9PwV49r4G4ABm+r8Egf/++f0EPP3F/bAEPfzlACsAvvkZCsPyVQi//4f5LAoZ9uoKcPNLCrn47wFMA7H3DgZL/LECqfpHCT/7Cf0KCjr7nvchE+zojQzCAT/xbBA48MAL+fb9BNMD/Pn7BJEDRPsqBJv9HAUS+w4CrAav7ooUW/A9BLcJgfTmBdoCv/o8BE78ngMG/Pz5YAx87jkNxfg4AW//TAQB/5n7FxGd8L8HmQRW/MD5JxLX7BsJOAVa7vIUqu8OBxj/LQF8/m8Cf/w+B8T5O/7/DP7pVRBI+Tn91AGe/0v/2vxUCG74iwGtBCb8h/+fAjP/pP4B/U4IkfdXArkC7vzt/wD/MQbR9XMKBvr7/1oGpPRyCkP5j/wQCKj5Qf6yCMD0iAXo/0H8Gwf287gMKPa+Bef87QNg/RP7+A3g7s8Nn/ZkCYr64P6FDB3tZA8h/ib5TAgS+6gG+fgMBl8FQfHUDoD6+f78/10Dy/5l/N4Ecf8q+tgIh/qwADsEwPb9C2vz5Aq/+IoCCwC4/1sCWfw0AyP/n/9W/csH3/QYBYn7mwd/88gGSQK/9ywCsgkT94H8/RSN4pQa6vDnAYEIw+9wEfzw/APABA/2gwY8BMb0Fg9s9B4E+QOd9OYMH/JJDOPymggLAFnx6RQC7SIKWf9F/ZD/6wb49d4JtP459pQRGe1GD+H5NP6uBpj72v1TDDLzDgmZAJv71ARQ/JYG/vIfE93uDgtJ/t37NgeT9z4HFvxA/SkH0/oG/JoMJ/AMC2f8VP0bBP79uv52AWUDDvjJBuL+ovoqBK0CfvqTAYcE4fijAVIHDPHqEXHxkweAAbL2jA25770PUfJ4CH79Af5SBND6SwSy+y4C7QA6+6sGIfulAAYFNfabC/Pzngml+CoFxvvs/wcHvvGvDwn1RQMZAab+qQCU/3cBlf5mADj/igD4/3/+bQCsA/H2lwuM9z0D4QOX9/kLVfdmBJ0A/P3hAND+UwJHAOf5jQqY+N//RweK96kGwfl4BsP64QGBAe/8qATp+OMHsPnXALcDVPogBhv7rAJ2AfX5pAbK/of5ywpB9k8DVQPz+WMGiftrA477zAbu9/cDKgN19v8I6/xS/PkFQ/wGAIEDnflnCMD4DgNEAbD8hwJg/dADPfp2BlD6rAPo/2L8HQYu+3kBGQDQAr75xAY2/k37VQgB+GsEsP+7/EUEPP0u/+YCov52+4cJwfXWBWAByPhuCaz3CQZ1+34Dqv7l/VwGHvjxBMD/rvuCBpv5vgRY/7X6swmK9/8DhQFF/U0A+wD4AM76RQfD+fgAUwQC+cUGZPyJAa7/LwFE/3//DwPY+kQFivxN/3AEdfq/Aq8BpfrgBRv8fABGBGz4zwcm/Lz8wQcb+IQEgP41AAMBkv28BDf6FAUf/e4AigHN+8wEQvymAWP/OQHy/XIBQwAI/w8Br/6sAx/6JgY4/KEArACC/nEBZvzvA538gwHG/qACZ/vXBNL9qf/tAlD8VgQ0+wIFmftVAzX+UACUAAP/5ABo/1sBAf6rAhD9VQNF/JMDN/7b/q8DaPsRA8j+LP9wAWP+GwEX/wwAHwCV/5oAjf9kAK7/yQBn/igDqvz8AgD/Pv9mA3j67gaG+mkBsAIw+ykE4/0rALYAZv7TANIA//1cAV4B3PukAyj/Q/0UBBf9XQDxAZn9VgJO/9/+GwNd/KECA////yIAsv8cAcz8YwM7/cAAXQDi/rsAvf8BANf//wDN/RwCmP/W/kcCvP5RAM7/fwFq/qAA6wAe/8IAf//7AZ79pAA1Ai79pAC5Ain8zAERAR79NAJs/5j+aQH2/5D+IwIy/nQAawCo/twBe/4nAOEA0v5UANT/twDS/lQBOAA6/pAC7f2dAE0BXv7GACwAVP9ZAKn/YQDh/tAAc/8hAOP/JwCm/53/bAHB/coBKv8VANT/1wDj/1H/zQF4/t8A/v90//4Acv8VABwAKgCc/zIAyP+V/zgAVf/GAFj/OwCj/7kAbf/f/wIBDP+oAD//PwEE/0sAfADv/joB1v72APj/Kv/UAA4Akv8cAH0Af/8XAJIAqv8fAIEAnv+AAA8A4f+DAKz/ggC+/3IAHwCd/80A9P71AKf/tP8lAY3+fACVAC/+QAFt/1r/yADu/pIASv/4/xYAjP/y/wEA5f/C/yEArf9GAOf/i/+YAHf/EwAyABAArf8VAI4AUP+JAOz/3f/1/0cA5//K/4gAuP8vAEcAKQAlAEEAYAD+/0EALgAjAP7/NgBIAJD/oQCN/8r/VgBg/0MAjf/x//X/c/8bAMv/hf8iAMr/x//n/xoA+v/5/0QAv/9xANr/GABLALj/RgAuAA0ABgAIACEAzP8jAA4A3/8NABQA9//3/zMA9f81ALv/TgCl/zYAAQC4/6QAav9AAFQAeP9cAPD/c/+OAGn//v8aALf/8/8AAPn/qv8ZANj/AgAcAPT/IQD4//L/RQDX/0MA/f8JABUAHgANACYANwDL/zsAGwABADgACQAHAFUA5P9QAP3/JgASAAQAAAACAP7/xf8MAKr/BADq/9f/3v/g/8b/4//o//P/tP8DAMf/3P8AANL/5v8AAAQA7/9AAMX/IQDJ/yIA6v/T/0QAz/8eACcA2P85APH/HQAeACwALgDt/20Apf9eAOf/CAAxANr/QQDk/ygAEwDr/xkAz/8sANr/+v8aAKn/TQCl/zkA8f/6/ykA2v8bAOb/FgAEABIA9f8WAP//7f9SAOf/FgAKAAUACwDf/xwAAAANAP3/BgD1/w8A0v8hANf/BwAfANL/EgDz/+r/AwD+//v/GwDj/w8A0f/3/97/yf8bANP/EgANAMz/+P/f/wkA3v/2/wAA1P8zAPD/9v8kAOf/DAAgAOv/BQARAPb/NgARAB8ADADe/1AA0f8KABoAyv8VAOn/7//v/9j/BwDh/wMAAgDt/xQABgA2AAYABgD2/xkA7/8eABAA4P9NAMv/MADu/9v/QADG/yIA6/8YAAEAzv8RANr/CwDr/x4AFQAIACMACwATABIA+//y/wgA5f8gABEA7v8MABwA5f/s/xIA1f/q/+D/8P/p/9z/7//a/wkA7P8AAOz/7/8DAPj/JwAhAB8ADgAkAAcAPwD9/ysALwDx/zsADQAGAAcACgDu/x8A/f8CAND/5v/t//v/CwDm/xUA5f8aAPP/6v/i/+//6P8CAPD/7v8PAPD//v8HAAEACQAdANP/BQDy/+n/DADv/wMAEwD4/wYADgAJACYADwAeABkADQD//xwA9v/i/ycA5f8WAAAA7v8RAAYADgDl/wcA+v/b/+n/3v/d/+//zf8EAOT/5f8cAMn/AwD4//D/EQDQ//j/9f/b/+r/8f/r//T/GAAHABYAJgAZAAoAFQAVABoAHwAeAC4AEgAaACEAEwALACIAAwDs/y4A6P/r//r/9v8BAO3/6P/2/xMA5f8WAN//AgD9/+b/DgDR/wMA/P/1/wAAAgDr/wwABADi//3/AQASAOr/GgDp/wcAHwDS/ykA/P8LAAsAGAAlAAwAGAAPABAAGQAJABgAEwACABMAFQAQAPD/EQDz/wMA5f/f/+j/4f/N/+L/9f/F//v/3P/8/9P/8v/6/+n/BgDr/wsA9P8NAAMAEQDz////DQDt/xgAAgD4/wMACgAPAP7/AQAUAAgAIQD//xgAHQAHABIA/P8JABgAKQAMAB4ACAAAAAYABQD6/wkAGQDs/w4A/f/2/wIA9/8QAO/////p//v/BgDa//z/1f/v//f/+f/8/w4AEQD4/wgABQAPAA4AGQD5//X/CwDu/+X/+//m//n/GgDq/wUAIQD6/w8AFwAFAAgA//8KAAQA5//2/+b/5v/f/9f/8//i/+z/8f/8//L/CAAFAAQADQDs//3/+v/6//j//v/6/xAACgD9/wQA+P8PAPP/+/8MAPX/HgAKAAwAAwALAA8A/P8UAA8AMAAgACQADAAQABAA/v8NAPv/BADw/wYA9v/p//z/AQADAOX/9f/n/+P/8f/m/+r/4f/o//L/+v/6//n/GwAQABcALgAUACEAHQAWACEAAAD///z/8f/m/+z/6P/k/wQA7f/h//f/AAAGAAcAAwAeABYADgAUAAcAAAAAABEA/f8GACcAHwARABgACAAGAAcA8//1////+v/r/+r/6P/g/+z/2P/h/wAA8P/+/wQA8v/x/wsABwAUAAYACwARAAAABwADAA0A/f/8////AAAAAAYA/P/4//P/CQAPAP//GAAAABoACgD//xgA/f8BAPz/CAAbAA4ABwAJAAgA+P/b/+f/4v/t/9f/yP/0/+n/6f/w/wAA+v8CAAAA+v/1//r//v/6/wIA7/8DAAIACgAZAAoAFAAXAAMAFgAWAAoADwALAAkAEwAgAA4AAwACAA0ABgD+/wIAAwACAPL/4P/u/wAA5v/s/+r/7f8AAOn/7f/s//D/9f/0//z/DwAWAAAAEAAnABgAFgANAAkADwD7//P///8MABUACgD+/wgA/P8KAAUA/f8HAPX/BgAQAP3/9f/z//z/BwD3//L///8AAOr/BAD6//T/9//o//r/3f/+//j/+f8MAPn/AwADAA8A/P/y/wUAEwAKAAEA/f/5//f/9P8BAPT/8P/9/wMABwAAAO7/DQAlAAYADQASAAsADwAKAA0AEgAVABcAAQAcABQABAAOAOz/6f8DAP7/+v/x/+P/+v/v/+f/1v/7/wAA5P/2/+z/CAAMAPv/BgADAAAABwD9/wcACwD4/wYADQAJAPj/+P8LAO7/5//z//z/AAAAAAEA//8CAAgACAARACoABgD4/yMAIAD+/wkABgAAABQA9//7/xAACwAAAAgA8P/n//3/6v/2//L/+f8RAOz/5//6/+D/9P/s/+n//P/p//P/BAD//wEABgAHABQA/P8CAAoAFQAgAAUAHAA0ABUAEQAXAAgACgD6//z/AwAKAPz/8f8DAP7/BAACAO7/CgAUAPX/+P/+/wAA/v/v/+P/8f8BAP//6v/9/wgA8f8AAPz/+/8EAAQA8//z//T/+P/t/+T/8v8AABAAEQAhAAwADAANABkAGgAIAA4AAwD+/wIAAwAGAAEA5f/8/+r/zv/Z/+f/9f/2//7/AQAGAAwAGAAHAAUADwAJABEAEgALAAoAGgAoABAA9/8PABEACQAGAAMABAD///D/2//0/+r/0v/Y/+n/9P/g//7/GAD9/woACwAAAA8AAADz/wkADgADAAkAAgAGAP7/8P/m/93/8f/r/+3/9//z////AQD6//n/BAAiABsAIQAtACMAQgAyACgAJAAcAB8AEQAAAAEA/f/x//j/+/8AAPT/9//x//r/9//4//j/3//r//X/3v/W/+3/3//u//L/8P/y//r/AQD1/wsAAAAVABsA+//9/wAAAgAKAAUA8P/3/wQAAwAIABUADAAJAAAABgDn/+3////m//7/+//+//T/7v/y//b/AQD9//T/AAARABUADwAIABkAEwDy//3/AwAJAAwA9P/4//H/BQAMAPf/DgAHAAMAAAAFABQAEwAPAAAAEQAKAP7/BgAMAAAADgAOAAAA/v/1//j/2//t//r/8f8CAP//AQD3/wAA///z/wwADQABAAYAEQAEAAEA/P8AAAYAAgAGAAAA+/8GAAAA9v8BAOT/7f/6/+3/7v/g/+r//P/0//T/BAD+////BQDt/+f/+v/y//n/AAD9/xAABQD+/wQAAwD6/wYAAwADAAsA9v8AAPP//v8IAAkAGAAZACUALAAdAAgAGQAKAAcAEQAOAAkACwAJAPD/BAAAAOn/4//y//f/5f/x//P/AgAOAAwA/f/s/wYA/P/2////CAASAAkAGgAaAAsABgAEAP3/BwD1//L/CwACAAEA7P/a//b/+P/r/+n/4P/0//3/AADz//j/CQAMAPz/+P8GAAIAAgD3/woAEwALAAgAEgAWABMAAgD4//T//f/6/9z/6v/m/+b/+v8DAPL/8P8GAAgAFgAYAAAABgAMAAUAFgAEAAcAEwAEABAABAD9/wEA9v/8//z/9/8JAPj/BAAiAAEAEAAZACkAIwAJAAoABgAKAP7/DAAFAAEA/f/u/+T/5f/q//D/9v/x/+v/7P/u/+v/6//s/wcAEgD8//H////+/+T/7/8KAP7/AQD//+j/9/8GAAQAEwAIACEAQQAMABkAJQASAAMAFgAIAPf/EwD2/xMA5P/g//X/3//4//D/BAD5//D/4//p/+H/y//k/+P/2f/8/9//BAAWAAsALAApAB4ADwA2ABgAPwCq/20A2P+//noA2v8LAOYANgDV/9//NgBFAAUAUwBNAHb/AAATAI//+/8iAPD/4v8vAA0AHABZAPD/BwD+/7v/xP+w/+L/w/+v/6r/rf/o//7/3P8cAGUAbwBwAE8ACgBOAFUA8P8JAKH/BwDJ/swAwv9F/HsAGwABAOkCOQKaABwAFQE8AGb/YwBI/7b/3v99/8T/kv/UADz/qwB9/xH/RQB1AO7+TPu7/dD8iAB7AqACBAMdABYC7wJHAawB8wAoAFAA//5G/yH9yPvk+nr/Nvod+0cD5/49A1AEEQLvATgDVAUvBCIDEwGfAJkAHvwe/LP6ufrj/hsCnwLX/Rj/cP59/dcAAwMBAoYCNwMsAf7/awBcAKX/bwCi/+T++f0Z/8X+zP58/s38Xf8n/z4AbAFNARwAXv+NAfT/5ABWAdv/4P9IAC0AlP4d//7+4P5eAFkAKwF8AKUAowAqAMcAm/8CAVkAAgEmABQAxP8z/zsAiP/l/3z/JgAd/rj/wwC8/xkA/QAKAEn/0wCk/53/Fv8EAM//LwAMAcr/TgCj//D/VgCn/5f/FgCCAA4A3v/QAP//+P8mAQAACQANAJIATwHKAMQApQDK/93/UgCCAJL/pv8o/7P+X//W/iIA6v7f/uL/pP83AAAA6P8TACYApf/z/zX/9v3P/k//Zv7O/m7/Pf9Y//r/QQGDAN0BCAP9AnEDFQNEBDYDggMkA4MBugBB/xn/lP5l/R79jvzn+/v7/ftS/Pb7Wfyf/Qz++f64/7D/FgAoAMcAJwG1APoASwF3AfIBrgGnAZcBjgEwAvoBrwGUAWkBqAFjATkBWADM/3UAsv91ANL/VP/H/9b/LQBUAE4Aaf9hABkAeQDFAMAAowDDAOkAVACxAOf/1v+F/37/0P61/iP+Zf43/6P+fv/l/tz+yv4W/9j+wf49/5P/2/97/qv+n/55/tn/IwGEAHsA9QCbAIsA5/+r/yb/dP/k/4f/FP/i/bb9Jf37/BT9ovxG/Wv90P31/Wv9iP0T/m3+Xv/R/+j/DwEMAqICFgO+A8kDUwTsBKAE5gS1BNUEMQW4BPAEjAR5A1QDAQMxAoQB3QGjAVYBLAIRAsYCEAPcA5gFtQTpBOAEpQPZAxMCLAFJAS//GP8+/x/+z/2s/Yj8OfoK+Pf0r/Eb7jTnBOAX3IfY69g83o/i3efc7+X3+/6KBeQJiw6/E24XFhz8HfwcFh1THHIbehfKEdwQ1AyTCa8JNQTZ/2v+/fsp+wf6hPjC+uP9GADAAv0FJwUnBXkIQwe+BmoGTQZFBe8EJAZCBHUFRQV4A60DVANhAvsBKAKAAOj8Q/tD+7D4Cvgp+az5/fq2+4z/XwEmAGIEyf+ZBa/9NNgQ14O/vKxDyWDA6sHb1dbm8v9tCYEKNQtNFcwdQiV3KFIeZSPMLpcurCUcFmoU5xg0E1wQlAgv/Fv9IADU99/vHOmz6W7zivR59SH5rf1DBSMLthK8EZ8PAxbVGIQYNRFeCwYLoQXHAoP9RfWy8ZLw0PRN9PDsj+8X9h74NPuB/Yr/rAKLBaoHoAhdBzcHoAtFDqIN3Q5xEEMPKhAWENEPjg9HCdoJjQoWBEoBcvkN9Z3u4c0itDahXIgqjw2f46EVsgLUYfOYCroYthnvJG40iD0PRQBBsT5nRV9Gkzl2ISMRLhOEEN0HBgJ19ajwg/Wo8qDqj+Jz4rTua/XM9db7lAYDFNcehSXVJCcduxddFiUQGQUO/1j+A/x1+hf7HvPJ7CboTOXz6DHk7uNH6HTsMvUn+wr/UANKCQ8NMxGAEOsLsw1sDrgN/AqPBmUHnwh0COIJ0QksChEMrA6nDegFbv/W+n72Yvet+W76Xfyq/QQDv/sW5+XPu6vWnQOgcZ8GryrAQ9jP+WYWWCKgIrAnkjD1O5s+RjtTOkc6rjpbL14ZagUN/YD/+fuq89vvp/F3+OL5+/He49TfH+fe7Sj3zfyyCO0cdCmSLB0o9x1yFqISPAc7ACL+LfvNAC0Bc/ge9IHwb+qn6InkROPW6I/rDfGb9q35rv0SA00Iagl/C1YPOQ8rDs0NtQvZCEMGDAU3BfYJ1A3YD1QVcBUZEqoO3gnFAsz4ZvT38wzwRfKj+m77IvxkAnsGf/qG4y/KAKuWnW2d/6A4sqrJP+qkC1UeRh+8HHIjTyucMiw2qjf0O849hjjyI98K7fxE9oL1kfFq62bv0Pc8+ub1AfLk61TrRvNx9oj9KgwwHtouYTWaNOgweibhF7QK+/o49ZD4RvXH9Orzau7N7N3ok+ES38Xh/OnW85r2GPjF/voDowYpB9cE2QQzB4oM/g48CZYFJwUwBAACm/49/Q0BVQhYDpoT7xPSDr0KTQbb/3P6sfaG9w77TPxnAf4FwwN2AkEHFQWP813cn7/sp9+dxJ3GqHO6sNaM+8wYqCFXHSkdYiH7KMwuCTB/NNA4YTkQL1gWYABJ+f/6A/v5+Gr44vxyAr3++fVr7Z/pte4M9er5cwHfDsMeAigbKeElmyAKGQkOzgDC+I/5R/sT/vD/m/vH+KT0Suvq41HhleVx7/319vi2/Ez/MgGz/zP8vvxlAFsGeQv0ClgHQAa1BlAFgQIgAVMDiAmtDjoQTBGmEPQOxAtlBvD/xvqb+SD6K/kA+ff8+gDVA7MCfAPLAmHyV970xkeuJ6JcoqipT7eq0zP3yBKIHQMcuxk/GlEgISQZJeUrvDdNP6w2YSBoCYj+GP87/jn8J/4IBVcMQwmk+6frwOO95snsf/E/+h4KfBm+I4MlYSFwHfkYMRJACOgB0gEVA48DNwG1/f76O/a57cPixt1m4vPoue618kH1evhX/IL8XfhC+E/+0wY+DdgPmw7DDHILsAeYA5wBGgTBCYgPNBL2EDUOJQpbA3z68/Si81L1H/gB+3L88PyR/dP6vvhP+Hz9FgNe/0z1jeP+0lfHQ750u0LCVdQ47ZcDwg0KDygOGg4aD0IPlBBSGT8m0y6CLyEloRh1EaoMHQivBb8HVw8UF3AWNg8EBDP6cfVc8dzuGPGm+GkBVQauB38FqQS3BJECIQLwARIDZAVJBf4CvwB4AKj/6fyN+sb4MPgn+Cr40fd09zD5a/kt+Gj3kPcy+eT6gfwN/+kBCgSiBaUG0Ab9BuoGRgZqBs8GdQkSCaEDPP6//H/+9v8fBHEE/wFjAXb/L/zI+s760fp9/N76+fnO++T+agILAsQAYfys8mPq5eTm4fTkNe0q88v12PeZ9rf1cfX79bf5b/90BZcJrQskDacO8Q5dEOQQfw9fDvkOeQ8sD+YQJxL9EPgN9wp4ByIEcgJOAiwCMwLhAlQDdAIkADL/9P4W/0f/Yv96/hT9rvy6/KX86Ptn/I38nfvi+l35YfiW9wP32PZd9m33i/jb+gD9lf3F/oj/YwD3AAcC2gJPAyIEKgQ2BIsEDAQlBJ0EZQVFBp0FlQUqBd4DcQKAAoIBTwBZAKkChAJN/WH/Zv2l+kz+fADeAV8AhADz/a361PjD9//5w/nD+sT8u/zf/Fz9m/7v/Lr5GPgc9ir0+fO29eL2w/gY+4D7YPvd+l773Psb/On9yv+UAgkFvQZ0B6kIqgoGCyQLMwtKC4ELSQ06DZkLggtkCq0IwwZABRIEEANMA3wCxwAuANgA5wAVAN3/Kv5O/OT7pPuK+7/8J/7t/QX+rP3r+3r7Vvtg+wz7GfpE+jL6Nvqs+1z9vP5PALkApgDp/9r/KgB8AaUCmQGuAWcDsATdBYYHFgaOBH0DaAI0AsUBvAGUAV4Ax/60/bv9j/7F/0kB9wCZ/5f+hv3Q/Dn9g/2x/pL+Wv4L/jP9Qv0D/ZL+Uv+5AIoAnf/v/i/8b/mL9abzcvEB8cH0TPZP+Pf6tvv++7X8vPwg/DP9tv5NAIYCXAX2B94JwwuQDBQL4wm0CRoJkgkHCwoLLwrwCdkIAwemBVUErAI7AbwAmwDl/+D/lP89/1r+Kf1+/Cj7Tvu2+xr8AP1l/TX9CP3l/LH75vrK+qX78/yP/jsBXwF9AdcBtgDz/wz/NP8q/4r/eADAAJoAvgD3AOoAQwEtAvsCeQSBBUQFmAUiBaoEEAQPA7IBvwBdAKgApgA2AOgAzQArAG3/ef7b/CD9dP0n/VH+pP1B/n//uv7O/rL98/sQ+iP1KPDZ66TokejO6+PviPIF9zj7Nv3g/44BBAJsA/cF8wfZCTMM1A16D2UQNBBdDkEMjQs1CuUIkwg5COsGIwbPBXsDDAE0AC//Zf1C/Xr9iP2c/nP/8v82/9H+qf5O/g3+8v0P/nf9Yf2T/F77nvp5+p36Tvv2/Cr9BP68/0sABwEAAlAC/QEtAhUCwAGqAWgBPQEBATUBUAEFAkICBAPuA+kDZwStA9UDsgIuAgsCAwHNATABAgH2AMMBjAGQAEn+Rfhe9RH5P/6kAVwESgFT/K381P8vAiwD1f5P9JTqW+T34V/lTe348HnwOfTA+ez89AMOCT0FmwJXBJEGUgutERwUkxN9EZ0OAgxcC4MLPQlmBmoEdQLMASAEOAWqAib/RP2F+zH72f1z/yD/rf+iAYMCuAOLBEkDkgCB/tz9ov0w/h/+V/3W/Oz80v0Z/7f/Af9e/bf8FPxd/Hr9Af8bAFf/oP+W/1L/hf+r/5P/XgApAtUDvAXJBmMHyQf6Br8FTAS8AvkC8QJtA24D7gIwA/ABTAD9/Jn6y/iu90H4XfnZ+8L8hP7NAZ4CHwLuAAz64+2Y4b/Zkdag2G3hFume7yn57wFdB10MkQ7dC4ELjw23DngRtRWvFg4WJBWMEucODQvFCNoFvQJfAegAQgDHAI4BeP8V/U386vsr/In+ZADuANcCxAXfB9oIBwmxBrwCsP+B/eP6svko+gP6YPtC/Yf9Dv00/Lr6t/hy93n3//fn+Vj8T/5WAGoBgAJ8AlwC8QLJA1wFwQZ1B6YIgwmYCW0JdwcABo4EhQTKA/cC8QKwAQUB6f8B/SL54fYA9vn2NvmU/VUAXgIjBYcHiwcgA4H6MeoZ2CDMpsj/yubUiuAe6uX1jwNPDi0UWhhDFmITexRGFswWjBf0F+sUUBJPD6cKLgZNA2wBrf+U//T/4wB6AcEA4/54/MH8CP+3AnMGsgncC6cN7xAMEm0QbgsLBAj8LfbP81zzy/PG8gfzf/RS9u34C/sQ+tn3Svg5+Zz7Z/9PAmsDtwT/A58BLQBk/3MA2QIQBi8HCQgrCXgKygpkChUKCQmOCcsJIglHBuUCVADk/en7bfkW94D2c/ht/DQCcAVVCKcJWwssC78DvvUg3e/EXrQFsjm6zMig2ILn1PpRD+sfBifYJvcfKB0FH6cfBB36F0gSEw14Cs0EhPuA8wjwSvBo9Tr7IP7+AKQD1wOMAwYEPASoBmQN5hOlGJAcVhyGGMoTBAsn/yz0/uov5nTnhOyR73DyfPWg96j67v2K/cT7Avxs/X0AAgQrBT4DawFO/wP9//vS++77qv6vA7wH7ArZDK8M2gueC3UKAggyBSMCWgHWAGYARP6n/Ir7ovmh+h77TP0zAUwHbQqoDBgMlgpXBgj6S+QFx+axAKcdrdy8EtC04xj71RSXKJkxWS28IgkZDBg5Fc4PvAdrAOAAEAWrBe/9zPQv74XyF/0oB+AL6w/JFd0cmSMYITgYwQ/tC30MdQ7XDAAH2AHQ/or7k/WE61nh0N1y4uTrN/UP/EgBgQeXDTQQGQ2bBiz/QvsY+mb4pPXC8i7z8fVd+hL9c/2C/iQDGAqWERUWJxVmEhgPnQt6BzgDDf4T+vj6Cf4xACwCvQFuAMn+C/6u/Nb8/f9yBEsIhwlFCdwH+Qdv/7bsqdG0uZis7q+DvxPP7uAY95wR6iczM94sPh9jFQESCxASClMBQPpZ/QYDTwIt+iHw0+2+9mQFdQ/SEzYYYyDaKdotACaFFkgK9ASlBlsIlAV3/z77NfvP+lf2wevG4I/ek+W88NL7agL1BrsMqRJyE24MBgGX9jHy+/KV82ryHvIZ9Dz53vzf/fz8T/6VBAUMfBLXFMkTeBFYD84L8QUXAEP8LPy1/dwASAHLAQQCOQJCAnr/w/1P+3X9cAAvBZMGfgiNCjQN2AmD9hPZwrn6qFKnTLYFx2vZpvCODSEndDIjLGca8RBxD8QQcguOAbH5JP0IBi0GVPsQ7ynsCPYjB0YS/xWtGp8kSzA8NLMpSxcTCW0GLggNCAkCG/qK9zj6ufvQ9VPqTeEg40fsoPcK/rAA6QUyDpQUkBI0CeX8oPT68hXyeu+m7KjsS/FJ+a395fs5+er6YAJ9CucQ7RKRE2wUuxPHD+AHawBr+xr7Kf3t/g8AVQFdBD8GmwZ1Amr+VPxf/BsArAPXBS0H/ArHDDEQKQmw71DOE7MgpQOorLpAyyDgcP65HJgwRDfQKW8UXg2kDEIJtgNA/fj4FwIKC8wDjPct8GjxMAC4ERsYHBtVI84sBjUSM5gfygqhAe0AYAGdALn4x/OO+Ob9f/2v9v7sm+Y87bX29v3PASYFDwp8EAsTrwps/7j10vEh8Xvxt+/k7onyAfmH/84Ag/3++hj/BAbiCiQNgg2qDhYR9BDcCxAEvP/7/NL83vzK+0z8K//FA0MEjANUAD7/8v50ANEBnQPYBtII5QqKCP4IKv/a5zHMXrSPpx2unsG00oTppgMUHDAt/DLOJc4Sewp2BlgDhQDd/L/6zQJoCIUDb/y7+Oj6NgY8E1IZmx5MJeIqZS16J/8VSQZq/i766/jf99v0/PR5+s38Nft+94Dxje6L8xv6bP4lBJQIrgxcEHIOjAVU/CL2ifE28L/vj+9F8m341v6xAgkDzAD/AXsGewn+B9YGWQe9CeEM6QrZBQEC5AHaAXoBu/5b/Ij9vwJJCL8IHgahAVcAqf+//yYAbv/b/94DHwhECtILVPxm3x3Fp7FaqgO1iMXG1CfvJg0wJLcwGS7MGyAM3AheBKX9/vgx9s36vAg9DsAH9AIxAYAEYg4NFocYlh7wJqErBitjIMEOcAGM+tj1I/Oz8n/zP/eL/FX+j/v09uXysfAu9LP6dP83BHsJAwyZDCgKQwFs+Ojybe7D7KzuZPHi9cr8RAHWAt8C8gIqBIkFHgSvAcgDaQhBDIEM1wnaBXkEQwbkBNYA3/3b/VH/2wQ3B7MDCAGFAIAAUv+mAWAA3P9ZBS0JcghtC10FKOyK1Bq9L6zIr6u/084Q5jUESxwlLikydiQzEEIGJAAR+dD2EvRB9RoBuQuPCmIGigIjAboJ+RRvGmMenyOkJvgmBiG7ECUB6/hk9IrzHPR89FH1QPr9/ncAVf/w+sH1UfRP+cP8aQBaAlsCmgR2Bp4DGv0d+DHyhPGZ9D/2xPei+/7+iQGgBIUC/v8EAOH/KAGtBecIAAqjCzoNkwx4Cs8HBgN//9EAyAEgANYBFwOfA4sGAgcpBJQApf+P/ykBvAMFBfsDxgcBCGf03dy8wxSv569qvuHKA+D5/MIUbCoMMdUkHBHeBSsAWPne9gv0m/OtAGQQURCXDCgIFQI4CGkTbRcYGRkfrSOVJT8kOhXGAeb4g/S28ArypfFy8d/6yQIBBYgE4P7V9xf2D/mJ+aD6Tfz3/BoChwaUA6z+uPxa+YD5YPpx96L2SfogAEIE/gZwA73+Df8OAPP/SAGuAlAETwrHD6oRbA+BCjkGmgJZAdj/I/wx/XcCEAjxC5kKzgY8Ai4AIwBM/on93gDxAlAGhwh59yng/MzevBG4gb65x8DW+vPdDyYg0iUjHVQLAwTI/8Hzo+4o77n09gbzFqkW4hISEo8RhhOFFZwRZBC/GI8gFyIgHVkOUgB4/E35x/Mj8ADyFPh6A+kLmgpvBr0B+ft6+ML3UfQv9T76AP44A/4FqQOmAT4CZwCh/Vr7Fvjx9ib6o/5LAQcCT/7g+/P8m/wh/K/8Bf9HBF4K6wwmDYMLsgiCBsIDrv4C+0/73f39AhAIXAhmBncITQXjAOv+8vuq/OkBRgYBBqUH1Pvt5w/XtsNVt5W5RMQ+1NbwfQkVGmwkVCDfEp8IUAGZ9Vzx+PBR85UDOxNBFrcYKxoFFk8XMRc5EHgP0BUOG+Ee4B2ID1sCLf6+9t7w/+8G78LzLQLGCnALbAuiBH/8v/km9l/w0vBr9PT5IAQ/CLcFPgTOAtn/4PxD+D/z3/Jz9+P+lgRABVYDsgKZAs0AZ/0Q+mT7FwFjBmQJjApKC5ML5wo+B1oAA/3j+w/9BwHuAvUC0gM7BvgC4P6B/I36fPunAHcBYAAXA6L1PuYy2J/FLr8wxGPNMN6V+GgNORs4IjMcfg2vBvr/GfS48+jyFPctCu0WTBltG/gZCRcXF6YUgw4lDS8TLxjTGb0Wsgke/8P85vhz9afxUvB29hgB4AghCjAGsgCk/ML5vfZo8P7tK/Fm+REErAa8BSYGFwXHBMgApvdm8kTyI/ca/vcBwQIiAroDQAVaAvn9Q/tQ/jIEOQfiCIMJ5Qo1DYELeAa3AmIAUf+NAa4EeANYBDwHCQVVAaT8gvcn+HD8Vf8N/48BSgNa9jfpAtpDxU7A/cX1zDrfeffQCFQYfCHvGgUMBgVq/RTzW/TF8zr2xwgbFyUaER4oHU4YPBihFkMQvQycD2MSYBUnFUsK6wAG/537ZvjU9eXy0/aG/7AGuQizBQkAO/tv+Tz2DPJw8DbzwvpqA7AGYwYKBeQD8wKn/uL4iPQc9Zj4Fv2tAJUAef/MAWIDLgEd/6X9u/4XA7wGHQapBw4LiwtEC9YI4wMxAT8BpwOQBdsDbAPaAsAByf/R+z35nvlG/mUCvAB+BDgBSu/v5Z3V2MF7wkbHVs6V5Af9hwvfF9oeXRLpBAME0Pk28+L4Jva2/DMS5Bn/GCwcKhmWFcsZ3xcEEGgQfxPfFCwZexMUA5b+pv7T+Y/4O/Tb76/3NwJkBfgFjQMW/or9tf44+OXw7vBX9Fr7eAOnA9sBtATVBjYE4f5b+H30//Yc+wn+q/8PAGYBcAWcBWwBdv7k/EP/GgNjAz4E+weyC7sN4wusCCQE1QCdAIcBuAI7AogDRAXsA6ID+ADC/NP+8ABrAH4AxgMT+h3pruAFzb+/XsT1xW7QYuq+/mkMFBmyGRUNIge8BCz4nvXv90D1ygKXFbgYIBuWHg4bFxzrHFQVaxAPEYERQxSsFVoK9v4i/+X7BPp4+crxnPKw/CECxAToBej/S/z4/gH9o/WJ8h/y8vQEAPMF8QMrBREH9gbLBsIAZ/j39U/3ifqs/tL/PP7U/50D1QLM/9b8U/pj/voCNAOrBLQGrQiTCkoKGAdzAzMBdgCoAu8DQAJiA2cE4wLzAWP+yfwj/j4ALwBNABMCY/MN5WbaisZ1wpTH0stI3UX0lgVrEkoZXxTOB14FAAFj95H6UvjI+UkNGBiTGD0dCBxPGIcb0BgJEgIQoREcEk0VbhTZBKT9Gf+G+o36F/kv8sT1NP8zBIwHmQZuAOr8r/4C/BT1WfKg8bP3rQIXBZkCiAIlA0wEqwOy/UL2QvS295j8UgFXAeH+nQHRBNMCUf/s+4H7ZQB2BH8FzQaRCfQKbgugCq8GcAOBASMCTwRdA80CCgNNAmIBsvzW+mP7tvts/7L+wQEW/1Xv5ORJ1JLGiscXylvWi+kF/M8LLxNqFXMMqwLyAQz6Sfcm+zb5rgMTFPsYIRx4HQoaYRihF2cVTRBGEB0TbhFAFBkOVQBW/qr8vvp2+9b3vfYp+4UBXwZrBnQCMvzw+Nz5tfZK8jzyZfRy/bkFFwXaA1YBkAD3ARr/I/pZ9Cn1+vo1/9ICBgC6/XoBQANxAuv+3vvk/Y0CDQc1CA8HQQhRCW4J2wk+Bq0B4AGABccGTQW/BO4B9gCVAYf++/s6+5v8P/3bAIUAPfDF49TXFciqyLnLV9A/4tr2tAdgEQMUIwxLA50DXP4j+LX5JfnJ/2kSNRrLGaccTBpAGeQZPRW6EB0QXROdFF0UCA/BAg/+s/yL+Qz5cfYf9nn6mv7rApAE6gCW/Hz5bfdC96f26vbc+EL+IQUFBrIFBgOH/lb/1P2v+gX5WPcU+of/SAR/A17/hf8PAJoAOQEo/pj9YgHNBK0HkwhGB+IFqAaSCT8JrgaaBUoF5gZ5Bl4Cfv+I/YP9IP/i/q7+6v6b/V//bP3s7pbgINIQxafFncp80lTjV/exB/AQZBJ9CSMAWv+K+4f5D/4w/qYFSRaFHBIckhyQGHMXWxl3FbQSdBQrFzYYDRc2D/IBRPxj+m33i/da9jj3t/0fAlIElQSAAHj9TPvh9jf1AfX09Vv7nv/xArYEDQPZAej/if4k/Rf7QvwX/Cn8EABqAcYBXAFe/sL9Xf7w/aL/3AGPA/cGVglQCp4JdQd6BkAHAAiOBvQEYQSYBFsFPAUbAjD/fv61/kX/UP9I/1/+r/8h++7sWd6BzinFCMiNzivZWerm/I8LpREHD0cFJv4Y/i77Vvqm/P/+QArxFxAbghozGn8XcxfZFWgRgBDYFD8acRp2FR0Ku/53/EP6jfXU9Cj1zvkhAkEFZATeAvH/+Py/+rr1jvFK8/T39f1tAvYCyQHeACEBxf/a/D/6R/h0+i39rP5BASsBwP9i/zL+Sv0I/TT9bwDiBEQHYQhvCXIIYQYpBgAG0QW6BZwFeQYGCZIJSgf6BGMAJP2r/d/9pv3o/p3/FwGWAG72UOcN2OLLm8i3zMTTvd8Q8tQDbg3QDt8HC/42/PP7VvrD+4r9xATJErgbthtMGTgXCRYtFZMS5A4FEB0WbBnPFwcPvQHi+vH4+PUG9JrzpvaO/lQFwwYWBA8Ae/xT+T331vS68zn5nf+oAxwHBwX2AV0Bn//l/Vn7wPmK+oz8agBdAqUCPAIQ/+j9rP1J/BH9w/7YAfgFaQczB/kGpwXqBBcFcAbOBuwF2QcBCV0JQAoXB/kC4gAM/m/96P07/rr+sf7y/y36Be1b3ybRUcl2zKvSvts060v7EgeKDGUJhP98+Uj5bPn3+mr+1QLzDEwZaRweGi0X5BMVFBIUkhG1ESEV1BjwGC4T4Acq/fH43fbu9Qr3T/hV/ZwElga7BGUBVvyp+Ib2rfSd9dv4Hf5bBOQG2AYcA4/+sfzn+of6J/qn+m39If96AW0CmP9V/lT9ePw4/XD8Bf0LAIcDbwYHBv0EEQXXBK4FVAZdBnkGwAbtBygIOgdJB+sFngP2ArYAav93ANX/J/9R/178EfRv57zam9AHzfLSXNq45GD0AAH/CJgKeQNN+8f4bPkU+zv9QAFmCIYSjhr0GbwVsxIuEVESlhIPEQsTLxcKGaoWew0dAur6ivgD+BD3lvc9+hn/cQQ7BYEBhv22+Zv3xfaK9kr4lvtGAuYGvQZfBBr/Wvts++H7+/tV/Ij9AwBrAgwD4/+X/Hz7Q/uo/P/80fuu/c8BcQVGBxEF8wLaAsED9gQ4BU8FtgX9B/YKEQsHCmkIKwU2BKUClgDj/7r/mf/b/2b/Zfhf7VDg5NWO0CzSudiM4DrtPvtqBfMIEwXs/M/4l/ix+t/80/+8BTkOJBe6GI0VyRFMEEsRwxIZEmgSixWnF4gWPRB4BSz8FfiM9rz2UffS+ST+rAPLBbEDWf9B+n73FPdX9xH5Kf3dABEGDghPBrEAGfw1+n/5Ifzj/IP92v/0AcQCngH2/AX6BvkZ+8P9w/7QAMQCTgZaCM0GyAOlAeAAXQNGBe0GaAghCeAK/wvCCpsHxQPWAHwAfQCQATcBQgFVAEL/mvtA8oblbdm50+jRbNfP3tPn0vTb/1EGdQUK//74GvdN+bv8RP8rBGIKvhHMFjAVJBGVDnsOohCREh0TZxX+F0IYsBT3C0YCH/uN+P/4O/kL+8v9mgFxBFQDxv8M+4X3ofYk9674LPty/jUCbQQPBJ0A8vxN+zv75/zk/Tz+6/5q/x4An/+Y/Vz7qfrR++z97f8EAUQCPwTaBUcFxgNkAk4CAQRcBm0I/AhYCSsJ5QihCOUG6AQKAxQCCwGXAAgBGQCg/6H+s/zs9wTwGeV12lXW99TP2IPgAun889n97gLqAST+xvrm+Sv9oAAkAgYHqQyHEVQVPhNrD7MOrA+PEa8TyxTmFT4X3hblEH4IHwDE+Qz5Cfqr+u/8vv/fAXcDFQGD/O33EvXS9Kv20fmg/GkAsQJtA7EBIv44+zr66fv5/UgAxgBCAA0Axf5m/RL8n/oZ+779EQD0AawCewKJAhACCwH6/30AIgLWBKUHUAk/CWEItwcsBikG2wRABO4DswLgAbQA5f+j/nz+e/x4/OH3KPFj6Y3entrh1x3aS+AY6DrynvqA//T/Zvzk+sn65vv/AGsC8wZADYUQLBOYEjsQZhB9EikUMRY3Fx0Y1hfVFUoQRAf3AHf83voO/fL99P9lA/cDpAORAED7Bfir9XT3uPiQ+zn/7v9WA0ECOgCM/lT84PxN/tv/fQCDAHYA5f///mj+Y/wL/XT+gABeA78DAgSJA98CXgEwACj/3/8vAscELwd7B+QHOAaNBYUE6wLqAn4CywKLAlUBYQA4/oT8Lv1W+sH74vcm8QLsp+Dc3H7ZENve4Rfph/M/+kL9nP1W+eb3Yfkp+pkBegUmCskQahEmEmMREA5WD4MR9xNtGV8abh29GyAXMhJ0B5QCX/7f/IIAkQHnA1EFsQLbAAj8w/bO9Jvy1vRl9z/6D/6l/yIBbgA3/uL8pfvq+7/+qv+ZAdkBqgBjAHD+Jf77/XL/ugHfA+YFwQUzBaoDNQGt/17+LP64/5gCPgWJBwkIxQbJBJgCNQGF/2gA7gALAfYBRgGR/0T++/sq+/v5P/kT+Ivxt+6c5tHg/t+l3U3is+cB8E/2TfoR/b36aPvP/O/82gDyBNcHngwNEHQQIxGsESMR7xLiFJMWURh8GckY6BQaEWUKywS7AuP/1gC4AlACrQLxAMT91fqq97z1xPRM9j348PnG/dX+DP+2/1j9hvxE/DX8f/4wAHUC9wIbAqwBPP/s/hn/of8kAroDWwXLBY8EOAPlANL+rf4Y/tP/UQLxAwMFgAStAhMBLv/n/Vz9vv2VAGT/AwKR/7r+af2T+tP6svY6+3X3uPtR+P/yJPHY5uXnn+DD5Q3p3u4T+aT52/0R/M362frK+6z95gIXB/QM9g41EMwPGw2KDh4NnQ9METkVBhd+GIIWWRHpDU8HKgbEA1sEDQWkBAsGkwLLADz9lvkl+rD49flz++r7YP4J/n7+y/yi+577Jvsk/fz9Kv+YAFEAwP8J/379vf1x/rn/iwBVAl4CdAKGAnkAggDv/g3/r/5H/3kARwAvAY4Al/8Q/+n9Pv4F/l3+hf4Z/s7+vv0r/j79yfuf+436evqh+t76ffxv+tX8avYP89/wfulW7rDp0/A68Ub2ovu796H9Ufe7+pz7cP65Ak4F7QleC3gM/AqDCv4IrQv1DWoQ4hNXFUUV+hReEGsN0gnOB5AI6AdWCncIoAjDBvoBzADj/Mf7i/0k/Zn/yf8AALv+p/xR+wr5nfoX+8D9nf+IAEkB6v+q/hr9IfyG/Of91P/yAKMBEgLOANb/h/58/c/9dP4z/xUAQv+d/7z+0/zt/Mn76/sP/QH9Lf0V/nL8+/zo+6j60/vi+u/8Rfyw/Zr8nfzN/X/7QPzy+3D8Cfub/Qr4wvcf93/zZ/ZN80r4efa4+UT8kPlN/P37LfzE/lAAVQF4AwcEsgfUBBIIVAgWBzYMeQtEDR0PEg/2DbINZAwMC80Jggr+CLoJaQocB5YHKwWeAzwDggI7AvcApgHX/8b/NP+D/Wn+dP12/3z+5P7s//n+jv8q/8L+If5//nj+1v5W/2H/cf4//8P+Yf65/v/9Gf7m/iv+mv0z/sr89Pz5/DP80/zm/Nn8Fv1i/L/8dPvz+5P8HvzK/In9nv2T/Vv90vyM/CH88/2d+7L9jf1N/Lv+7fyx/ZT+1fyb/tL95voK/Vb5k/sR+gz7evvb+C//Ovmy/f/+7PsEAhsBGQJ/A2YE+gQuBX4GrwZOBjMJhggYCMAKLgmgCvIJDQn3CZcIxAm5CI4GzQimBjgFaQfrA2EEYgS+Aw4D+gD8ATv/YQFCAeD+CgG6/6UATwBj/3b/Bf8t/yj/r/4Z/sP+Gf43/vr9Rv2x/Nb8Qv2K/fL8If2I/d38Ev1A/AD9Efxx/eH92/wV/2z9Xf0t/ib9MP2t/B39S/2q/fr9Dv4j/h7+jf71/Yn+SP7J/uL9Lf8F/4z9Q/83/Qf+gf7m/W3+Z/79/RT+5/0U/V/8Mf2f/G/9Rf51/Gr9H/5D/j79AABB/koA+AFUAJkCNgG7AzcCnAShBdMDDAd6Bh8HSAhXB9YH6QeuBzgIGgc7CDsH6wYmB1kFcQX2A3sD3QN3AxUDzQIFAhkCwgGqABoB0f83AAQAsP5U/2v+EP4A/l3+Gv7+/LD9x/0+/Wz+P/1C/d79af3Z/Q39Bf4P/VX9yv3+/GX9LP3P/bD9+P0Q/iT9k/1q/Qf9Kf0A/bX9SP07/V/9g/0A/YP8/fzc+7r82PxZ/OD9Zv3e/ZX9Iv3w/SL9hv0Y/nf+Of/b/mf/X/+k/e3+BPww/e7+IvwN/+T9E//p/mb+5P8B/gkAewAdAD4CkgIOAxwDiAPWBD8DpgQ2BaIEogZ9BiEHyAd7BwMHJAbQBxsG2wUTBwkGPAf5BHQF6QPvAjkEYAEoAqABCgH/AQ4BcQFPABgA1gCR/84ARP83/8gAu/+v/xn/F/+y/rL+0/6O/v7+xP57/sH+Ev9f/rr9t/4Y/rH9nP56/Rj9mP3t/Av96PxO/Vn8Mvwu/dH7RfwT/Dv8p/zF/LD8Ovzf/Ob8Av3K/Vr9W/3a/bL9nf0X/sb9UP2d/7b91/1v/6j+Gf/8/3gAGv/c/4f/Sv7a/v3/0P3w/mwAbP4H/xL/2f8O/14AewBC/18BsQBRAFMBZQLwAWoCcwM1A98CNgPNA4IDcwXGA4ADRAV2BL8ETwXnBNsEGQW7A48EdgQgBJoD1wMIA/0BFgLXAJkC5wFuATcCEAEZAd8A/P/LANgAwv8UAAkANP9y/1X/C/8wADb/U/74/qn+gf65/rr+xf6C/o39bv3S/WX9iP1c/X79t/0K/cf88vwb/Yz86fzQ/F/8o/wW/J78Lv2D/Bz9Uv1n/Yv9Uv1f/Xf9Yf63/XD9w/5S/iz+JP9X/v3+G/+k/6v/R//v/xT/3f+Z/pv/fv4l/nj/Xv0B/o3+3v7b/XP/hv9c/hMAWwCe/2oBCgIAAagC2ALiAtwCmAScBIcE4AUwBYsF9wXSBZwFRwb6BX4FEwW1BfoE0wPBBNECtgL+AjwBFwLZAVgBJQCsAPkAQf8PAVL/0v+NAFz/7v86/9H/Nv/n//j/Rv8d/8P+n/8t/xf/R/9m/oL/1f6r/ZX+6f0q/if+Vf6b/XL9/v25/O79hv1U/N38RPxZ/E38XfwE/fL8uPxQ/Cv8Z/xq/Mv8JP39/HT97/zL/Dz9m/3L/WT9Ov7Q/b79Yf4w/kH+RP5H/iD+Kv7K/t3+sf5n/4T/zf6r/gYAf/9P/5QBKgArALECOAFIAdAC/AKaAmkDSATQAiQF0wQUBLgFNgQSBboE4ATHBd0E6wR7BCAFugTUA6QEQAM3Aw0DxgLJAs0B1AIAANYArwEt/9MAOgEGAdX/MgElADP/vAFB/w0AmwAf/7f/a/+g/2z/Wf+K/4D/1v62/hX/uv4U/xj/sf0c/kb+5/yo/aL9yvww/T793vuW/Ej8UvvN/OD78fuu+8n7HfzA+4L8MPxb/Gv8/vx4/BD9ov2x/Nz9J/57/Yj+iP5A/Rz/W/7r/V7/lf5F/mH/TP9//ez/aP7O/mEBNv7b/6QAn//oALUB7wBuAZUCagHSAroD4AHSAz0EFQMFBWsDMQRlBa4EKQUsBSsFVwTuBd0DuAROBWICpgRlA9kCzgKNAmIC2QHIArAARgF/AUIACwGxAK4A6P/X/5UAbv/0/ycAO////xUAjv9Z/6//Ov83/7P/hv77/rv+Hv4s/3z+7f0T/s/9Vf2j/Zn9yPw2/eP8SPx4/IL83vsG/Gz8Xvye/Db8n/xX/Hn8rfw3/OX8v/z//BL92/yZ/Yf9i/1A/pf91/1U/v/9Uv6y/oT+4f1w/2v+Hv7a/37+QP/c/zr/gf98ADAAmQCzAX4AsAEWArgBEwMkAwADngMtBMgDsgSVBO0DLAV2BBcFLQVgBC4FbQSEBHUEnASSAyQDpAO+Ac0CnwJ6Ac8BHQEjAakAFgH2AEkAxABJAHYADAAAADoAnP+tAP//nf/3/1f/r/8DAPf/Nv9r/w7/xv4S/0L+Wv52/v79Af7W/Xb94f2o/UX9U/3V/Jr8xPyY/HH8pfyG/G38qPye/Mv89/zO/ED9xfwf/Vf9/vyr/Sv9gf2O/Xf9QP2V/cD9YP1Z/pj9yP1G/j/+gP59/u/+Kf9M/5z/NgAFALcAYwH1AMoBagLTAfsCkQMrAx0E5QPqA5AEygSEBPUEwARyBF0FfQSQBL8EEQRhBOMDpwMhAysC3QJiArsByQFYAZ4AoQDAAV0AygD4AP3/4gA+AJEAbABjAMMARQBMAAkAGwA2AG0AXQDr/yoAxf+H/wcAc/+R/3r/AP8R/83+rv6a/q/+JP7W/Zz9Bf0D/RP90vzN/Hn8aPyl/Fz8pPyx/Nf8gfzn/BL9lfxT/Tz9W/1R/ZL9Zv3q/Ij9n/1h/cb9R/4Z/aH92P7y/av+dP+a/vL+/f/e/xIASwECAT4BZQLiAdgCTQMaA9wD8QN5BF0EYgSBBNMEWwX6BNwElwQ4BIYElgQYBL8DhAN2A8kCVAJ0AhkCzAGbAU4BsQB8APEA0wBxAKsATQAcAEoAMwBHADQASgAZAC0AFQDV/wYAQgBMAOX/CADQ/53/AQAEABYApv9m/4D/Cf8z/yr/lv5a/i/+8P2a/cf9Nf3t/Ij9wfy5/DP9l/zj/CL97vws/fb8AP0m/VT9J/3x/HH90vwj/cD9+/wv/aj9iv2C/W3+N/6//T3/LP/B/gsAgwD0//gAEQJRAeoBEQPNAvwC1wPIA5kDPQScBKAEzwTxBM0EtgTUBO4EdQRtBG4EmwNxA2gDzwKIAqYCFQKEAS4B6ADXAG8AvwBiAKn/EgDV/6z/CAAfAN7/of/k/57/4v8oAM//IgAAAAAAAgDe/x8ADQATAOL/q/+0/4P/tf+i/3D/kP8C/5T+ev5d/iP+5/3F/Vv9Cf3y/BD9/vzS/A39tPxQ/NL8M/xs/Ln8DvyU/Af8DvxL/HD8b/wy/OD8Ivy1/G/9CP0S/mn+UP7e/n3/PgAxAEUBBgKHAeUCFANTAwgENQS2BG8E9QQTBewEGwXsBP0EtQSLBLIEFwTuA9MDRgM4A9oCmgL0Ab0BwgH7AOoA8gB4AFMANAD9/9f/yf/W/5n/ov94/6z/mv9W/8//jf99/8T/xf/J//T/7f8AAA8AFwAcAAEAFQAAAPv/0v/j/5D/Wv+C/x3/+v6h/i7+TP7G/YH9xf0U/fn8/PyX/HD8qvyU/Av8Z/z1+8n7/vvF++P7ovv++9f7dfs7/Gr8Rfz6/B79Bf3f/YD+vP6z/1YAOQBtAdIB+wEkA1MDvgNNBJYEiQQDBTcFTAWZBUwFQQXlBO8E4gStBIgEGQSBAzQDNgN/AkMCMwJjASYBBwFHACYAHADH/4r/bP8B/9P+Cf/P/uT+yP6m/q3+wv7V/vL+FP9J/33/Xf+A/7H/x//j/zcA+f/m/xsA3P8cADQACgDw/+X/4/+k/6r/nf9O/x//7/64/kv+O/4u/v39xP1D/Qn9QP39/Kf8nvwH/C/87PsA/P77f/u1+/n7KPzl+8r8lfzl/Dv+Kv6g/nD/1/9gAM8B7gFDAksDeQMTBLUEKwUhBWcF6gUcBvgFrwUYBtcFswXRBb4EeARSBN0DoAMtA4oCzAHAAU8B1gBeALL/nP8+/9v+vP4o/hf+af5d/gn+5/0j/vn9Wv6Q/m7+ef6e/iz/Sv9g/2f/m//x/xwAPQAnAGMAZQCHAKwAfwBiAHsAnwBnAEYA3v/D/9r/ef9Q/9D+X/59/lD+PP6u/UT9+Pzx/KL8/fuE/EP7gPv2+7b6VPtc+077/fo8/LT7V/uY/bP81P2d/rf+lf9gAJsBfAHyAgQDewP3BKMEjgXaBUMGhwaJBgAHmQYDB+gGsgZMBncFpgU+BbcETASfA9oCVwJAAmcB8wB6AN3/pP87/+T+kP5p/hr+MP75/YL91/21/dX9Av7i/RX+Uv55/pn+/v74/jX/p/+x/8j/EQD+/2YAwgB5AKEAugDcAMcA6ADNAIAAiABHAEUA5v+H/0z/Ef+H/gH+/v1q/Sf9xvwg/F77W/vy+nr6y/qS+Tr5ZPk7+Yr5r/kX+qL5kfpi+8D7J/0i/bD+aP9PAMsBQgLUAygElgUvBoIGvAeuB9oItgjmCBAJrQhbCa8IoAjjB/wGxAb6BeMFhARMA70CmQGHAaIAtf+0/sr9u/0W/Q/9ZPya+7n7c/uW+5j7uPvU+7v7R/xP/L/8S/3S/T7+S/7J/iT/7v+dAOcAAwECAW0BGAJ+Am4CdAJ+AjcCewK4AjUCBgLJAToB2wC4AFsAAwBy/97+MP51/b793Pwi/Fb7nPoe+rb5Jfpg+C342/em9/r38/eK+In34fhl+e35dPvr+zf99P2T/2IApQGkAxUEogVPBikHSQgLCUMKJwp3CrAKwQoJC9QKbgqrCUoJiwjxBy0HHgYCBa8D9AK1AcwAy//O/qf9s/w4/Gz7H/uW+uH5sfmN+cv5Cvoo+kr6Ufrh+n/7a/zd/En90/1p/lj/HgDrAGgB6AFuAroCWwPvAyQEQwQpBDEEQgQJBAMEwgMkA68CTQK/AUkBwwDm/x7/hv7Z/TP96vyt+4H6t/l++f74ffiR92H2LPbL9Z/2VvZT9kf2dfao9134Mfq5+vv7Cf0d/kkAcwGjA68EywUaB9cHcAmLCpAL8gv9CxUMDwywDJAMRgyACwcKeQl8CO0HDAd8BREEEgIrARoA2v5F/rX8Gvsi+rP5W/ku+f/45/fJ9973UfhZ+Yv5zvnw+YH6sfvl/N39d/7o/on/kwCMAYACTAODA+gDUQTCBIUF6AXrBZgFZgVPBW0FawXQBBcENwPfAmICBQItAan/Ff8S/ob9Dv0F/Pv6Vvmu+AT4s/da98T1KPUP9B/05PTd9Az1cvQd9YP1Lfce+bX5bfsP/Kr9lP9vAdID7QSABnQHpghfCrELFQ1bDbMNhw2RDWQODQ4WDgANbguxCnkJCgnCBzEGkQSNAhwB2v/q/kj9QPzh+i750fgf+Nv3uvc59+321vYs9+n3vfgq+Zr5KfoK+1/8j/1t/j7/zP+kAMsBswJ8AwgEewTZBG4F3gU3Bk4GEQboBc8FqgWmBTYFKwS1AwEDpAJjAmoBFgAH/5z+wv2J/bX8IvvI+XT4N/iq92j3M/Z09LPz4/LY83L0PvSt8yDz+vN79bb38vjQ+aT6z/uS/gsBNQMuBSMGlQdZCU8LQQ1mDkwPUQ+jD9cPNxCqEB4QLg+QDW0MfwuwCrMJpwdbBUcDrQF0AHj/Vv1r+/P5TPjt92f3lvaG9UP1lPTj9P/1uPW+9s/2cPfM+Nf5Lvv3+x794P09/4AAkwGhAg4DBgSjBDgFJAY7Bp4GtgZ+BscGqAaUBlUG0wX6BI0EOASxA0oDOAL5ADsAnf8I/1D+JP0a/DD7J/oZ+SP4LPeW9pz1P/TQ8hjyP/IQ8xPz/fHJ8UnybvSM9qv3W/hi+Yv7eP5iAUAD0wSJBrEIJAsBDVMOrw+EEH0R+RHrEVASJRK0EdYQiA8XDg8NxQs9CmkI5QXBA2kCiwDv/gv9nPqd+QL43vYh9v70IfTp86/zjPNV9H30OvUd9nT25vdZ+Zb6Ffzz/DX+o//rAE8CQgP0A9kEowUfBhMHMQcvB58HIQczB2IHnAZ3BhcGAgXLBFoEbAMWAxAC1wCyAI///P5r/sr8HvzM+6H6vfl2+BD2dPYD9rj0qPMp8YjwBfKI8vbxU/Ek8OnxwvQc9nP3m/eo+IH8QP+lAcMDpwSAB6AKWAxUDrYPjxD6EscTfhMbFG8TqBNjFKUS9BBmD4UNQA3mC/YIlQYfBEICbAEe/6r8m/ox+JP3dvZ99PPzBvMq8pXyGfLr8SDzYPMs9IX1vfUy91L5mfpw/Jr9eP5XAPEBlAPqBDsF5QUTB9YH8ggGCUsInwiGCKIICAmbB3gGRQZvBToFygQOA8gB9gDy/4//HP+E/Q386Ppj+mr6vflT+Nj10vTs9Lf0MvQY8gHwBvAs8abxe/Ej8NbvMfIz9NH18PYf97/5Pf2d/x8CxQOBBQoJ2AtpDU0PNBDwET8UshTqFMMUTxQkFQ8VZxPiEa8Ptg5cDiEMjwnoBnYEqwNNAh3/w/wR+vD4MPnD9iP02fLH8dzypfNo8YfwsfCx8Zf0lfWN9EX1rPYj+ZH8Kf2E/dz+MwDPApMEuwSXBYIGPQeKCEEI0Qe8CNgIGAmLCLgGiQbaBnMGHQZ4BIcCPQLmAW8B8gBA/+j9Xf0B/AD8wPuP+oX5y/YQ9Qj1ofR280zyN+8G7knvIu+E70rv8e0J75Pxj/Jm9B72oPdr+mX9Z/8RAkoFBwgNCzgN6g7WEGgTkBXPFkkXFBckF/IXWhiGFwMW6ROUEu8RZxAYDn4L7ggtB1YFeAJR/5j8D/v7+Xn3/vMv8XjwDvHP8BjvSexP6wTtc+9y8Bjwv+7T78rzYPZl+Fb5Xvmw+5H/awFGA7sEHQV5B4EJ7wnaCtILSwxKDR4N3guVCz8MjQyCC+sJ6QeMBo0GaQZABIIC9gCW/nz+v/1d+4X6Kfrv9ZXzd/I47/7vd/C861npIun25h7qa+zW6QnqUevt6xzwXfR59en3CPty/WIBFga6CbgMMhCIEtgTMxcyGmQbyR3+HewbuxwwHUIcoByzGgYWxhRFE20QPg8vDOkG2AQKAu/9hvxw+eD1GfQ/8b7tXO0w7I3r8eoN6SXo5eiT6jrs4ewV7WPurfBf9LP2R/hk+qr8K/9yAmEE9AVUCLgJRAsfDYgNUA65D2YPiQ9wD04OQQ51DvIMRgsFCl0H2Ab2BZEE5AHWAPT+qfyB/Kf6JPis+OT4zPGA8XLt1+pT8IDvweg554bjuOPY7ArtlOrM6JjomOsp9J/3e/hx+TX8ywAxBRILmg3qDxYVEBZQFoMbXRwHH+ciJh9QHA8eDR22HsEf5xi8FLsSxxD7EAgP2gimAxMAqP0H/cP5dvZo8hHvkO3X6zbqueo06annFOe65ajnuOqW7NrsI+3I7bjxlvaG+Q37p/vb/agBhgVWCDAJHgp9C/QMGA9aEEcQjRA7EM0P1A/TDrYOLA5+DM0K2AeMBp4GygRlBOkA5P0q/uX8N/sa+/L27/cQ+erwU+6D6jfqrPHo8GTmcuEc3nfl9fDD70no0eIx5aXvZPmz+Vj4Sfbe/IcFxwhIDVcPQBHeFyEZLxhXHAQfAiK7JK8ffhsXHfEeDiL/H9MX3RHaD1MSVBM5Dq0GqP6+/Jz+GP1L+RHzaO0i7ZvsOutI6sXnEOfJ5j7lzuVf6HDqsOzH7NXri+4w83H4CPvc+tX77v1BA6cIPwnYCYQKvAr9DuoRjRHKEd8Q1A9nEa0RsxD3DzoO7wtOCqsIdAcVBiEF+AIi/yP+kf3/+qX6z/kV9ez5lvRA6hzrSegF7W31Deow3eTbfN+J7pT1G+qV3q7fNOtV+iX8j/dD81X3PAfZClAL4w9zD+QWXx5kGHEZ0SChIucmWCVAGzIb2yBuJPYjJBzbEm0OBRMJF9sRPAmf/4f6Gv62AA778/Jz7RfrP+wV7ejpqebZ5oTmauRx5TbncenM7QPtbeqW7Irx3/Z0+2n74Pha/PQA8QV7CusItgi4CbUMpxAHEpQR9A5PD9sQWBHUEJsPWQ22C7ULwwgBB2kGsQVtAzUAIf+d+6z8hft3+nz2hvjM9i3n3+uP6OjpN/e36YHa09jY32rsavYA7SXaod356kn6hf2E+M/yXvTUCMUMPws5ER0R2xbeH0YbGhi1IWclKiiMJwgcGRq8IIUmqSYUHcsSZwygEasYgBOSCX7+G/if/OMBvfob8uvsa+hO7Lftpueu5U7mEeU65NbjueRn5y7s7Ow/6LLqMfC69OH62Pup95f7kwH4BPQKJgpVCGkKAg01EWQTvhGlD2wPjRG7EusRAxCVDdELYww0CXIGrwdYBS8DCALw/Z77pv0q+xP8GPb7+aX2eeQQ7vTnN+rP+UPoQ9aL2XngZet2+dbpFtcC3Xjrg/sY/TX4BPG/80UKSg2QCn4SuhA1FhsixhqfGJokOiXYKEwo7hpHGrAiDCdpJtscOhHGC98RSBpvEukIFf8Z9pT8IgLR+WTxSOzY5t7r7+2g50/l3+SH5KfjNOWC5W/mvOzN7M/o1Owk8Un1Qf1V/DH46/z5AZcG1wuZCgAIPgrKDfAR7RMBEnQPbA8JEsMSbRKiD7cMTQtiDLYIpgZEB5QCBgRiAbz99/v9+zz74/sF9xH6uvTV4Qbvf+fk6hT7xeNR1PTZr+Bu7Ln6J+ai1Sne0+wC/nn8Jfje70b1+wxYDjELexP3EWcXpST0Gf4YryVWJj4r8idgGqMa7SP6KJAnQhzDD9UMMxM2G6wT9AbW/Wb2SP5kA9f5bvGP6kjnZuyc7VnokuRp5K7ks+JO5FTlfuVI7EvsYeaW68TvRPPB/PX6HvYa/McA9AW/CwMK+QeoCfINLhLiEycS5Q+LD+cSKxRnEoYQJw3YC2cNrAmGB38HfAOKBG8Blf7Z+8X7cvwS/V/3RPvM8P7gK/KB5jnvifnl3t3TsdsS46vudfok4rXVi95G8Bb+DftX+eLtCvYWDvwMngrPFHMQIRcwIyMYuxn4JGAnzCl6JbcZ3Br8JCQqFyaCGdAPDQ3oFQYdgxDuBQ/9Y/dRAZ0DiPhM77rqPujj7Krt5ecA5LTjUuU94jDkg+Y45lbscevj5pjrbvA/9nH8l/mi9gL7GQIECLAL6gm3BjoJJQ9JE2IUwhIkECkQZhM+Fa4SZxGmDoENXA02CmkJ5wa8BdIEsgKR/ab8gPz9/bX89vkP+HXhXuuy7T7p9PlI5xnT8dSI4nrow/fX6yXTGdl154P7L/p49zfvn+vQBVUPhggPD+wQ5Q9KIPYe1BbNIQYnRygiKK0fCBqqIvIqfCpPHygU0g8FEv4exRkuC1oB1/mk/YwFGwLH8cjrU+i06nbwn+uw5Hbfn+MT4/rj0uXi4hrm0uma5/Lnhu6N8Hj3gPpr9Ur4EP/RA/IJQQq+BpoHPAz3EQYUeBPqEOEPRBP2FeQUnhLKDrIOOg/EDa4L4AdnBW0EpgUiAsH9BPwX/RP8Rfpb/dLl2+Wz7/Pl2Pad74LVcdGr3uPl0fMr8fzW0NOE4oT4nfpX95Lxd+kk/78QygcUC/gR3w5EHd4gJRbqHQ4odinhKIAhXhppIOcqVSyVIbAWUhG/EdscXBxwDh8FePuS/XcEOwMb+Nzs6OnD6lbvz+215mDgHOLa4xLkYeUF47DjQuhA6JTn6evu7uPyzPgP9pr1XPysAHwGbAgvBwYGGQrdEI4T4hJqEeMP/hGTF9IYChQcEK0PvQ5VET4RPws9B/8E5wRVBkICqP4u/V/81vlOAOzsQeM38B7lGPTy8v/YcNAi3C/lLvCx8BzYFdO/3kb14vk/8oLwKepO+NUOcQf9BG8Qeg6mGKwgzBToFyAl5ShdKZUieBq+HEsoDi5xJEIZmRMjEhsblB+REe4GBQFV/WUFOga6+r/xeOu26mfvS/DI6l7kVuD84ODjb+by58vjouUD5VTlGu2t7tPyoPVd84vzHvqm/xcEHQiMBSkE9Ai0DcMRExQ1ETUQMREtFJEXqRX5EgMRXQ6WDwkR3Q21CkoG4wRVBXoEogCv/0P9u/qRAEHsvOrn7procvYz71PbXdPq3zjmWPHx7hPXfdUt4hX1Mfnr8cDtgOmF+iwNZAZGBcYKaAxeGEUeQRXAFxQhYybFJ3cgPRqBHUEnVyrIIhAYQxL3FJ8dpB15ES4IBwEMAT0IEwfj+jLyquy76+/wIfKz6zjiH+Lh39ri7uhZ5ofj4+ME5TjkIu2b8Crxj/RB8yL0ifoJAqADpQb5BRgFGgplEL4RwBK9Eq8P2hIGF40WnhQdFEoP6w4SEW4PkA3FCZAGVwSfA7oD9AHC/5L6vv1t9ADqZfJS6vTuJvR15NXWS9z14yDr/vI74rjVgNkk7Yf48fSC8N3nW+7HBKcKJgUzCT8HSA90G+kXVBe8HMIgFiT8IioczBzgIzApfSXVGyoWrRMYGtkfHxf2DNkEegHOBV4J9wMU97Xw/e0W7xvzRPG/53HjcONB4ULnCulr5eXkR+U+5Czo2+7W8Mnyc/Lx8T71Pf13AosEMwTlAs0FaguIECgSURK9D0kQ4hMQF5YWURU5E8QOmA/GEeMPrA3HCiQGQAQCBVYEpgK5/hn+Lvt07Frwt++e7C/2zuzp2nLZjeJH5wHziOrf2KDWm+Mz9cn15/Pd6gToGPqPB8UFQQeLCBAHlxNEGAQVVxoxHtkfbiDcHaUb7B9KJoQlpx0cGGQVjBYtHhUbaRCdCS0DIgXcCfoG2/3588nvafB58qTyIe2n5FTkOeNZ5NjoIeYr5fbkGuQu5izrne+e8ljyLfFh8+X4wAAXBD4DfAPCA9QIwA/lEN4QxQ/PEHsTVhZbF+cTbhMOEycR2xGoEbsOhgs7C0sGVQTbBfUC+wGB/xr94+9o79bxKO6s9VjuOd+N2SDijuaI79PsYdqK2E3iPfHV9AnzP+wY6Y/36gPvA2oERwfdBw8R2hamEkQW9hwBH6kgcx0GGZwdFCTBJTYgZhjFFUMWvhycHDsSrQoOB7wF8gl1CdL8b/fX83/xg/S48kLtAOef5TbkquQ35xXnA+TL41PkFuOV6XDuQe9F8P3uPvAs93/+kwLSAe0AyQGqBmgPAxL8D/AOHQ9ZEr8YdxigFHoUrxKIEs8TfxGuD7sM6gtYCW4FSwVcBOACcwE7/1ryx+8l8wLxYfWg8FXipdsV4kDoYO/w7GLf3tlq4P7un/Mz8Qbu7enD8lsA1wEjArIFywUpDHISdxHsE6AYUhxNHDUaMhk+G7cgVyOtHS4XxRU6FhUb+RqDEiQL7AdxCLQKyAg/ADT4FvY49mX2ofWv72XpVehF6HPoU+r16BPmdOVx5hnnzeq87sHvQPDg8DnyJ/aI/XAAGAFvAYwBbAXsC+wPJw//DegN7w/YFB4XThTSEd0QyxB/EiAS3Q5dC5EJRgnLBwcGNAQDAmv/IQCv+ZHyYfPa8CryZ/J/6g7hxuEh5iTrbe7D5s/eWN/M6cLxsvLL8HPrfO75+kMBEQKLA6MDcwfrD/QRcRFhFLQXSBrzGjQZmRicG4ofeB9EGp8WRxUdF/QZGhcZEEIKJwhcCb8KegaO/4T5efZc+OT3vvR+727qDOnD6dHqH+oz6CHmkubf5q3pf+wX7RPv+e7d7yT0yPg4/Bb+Vf7U/z4DLQj4C0AMSQwMDawOXRJQFEsTphLmEYwRVxK8EfwPhQ6NDPYKBwkMBzUFYgTCAlH/3P1v+ED0EfSP8tnxefCy6hvkruSm53XrqevY5oPh8eF760rxavEQ8Dftl/DY+0YBPQGtAkwD6gckD4ER7hHXE7MWTxmFGkAa5xncGx4eih1xGn4XCxbJFo0YlhUIEH4Legi8CKcJegYMAKj6DPe49iD3DfXA8PvrLenA6ETpX+oB6sznyuYO5vfn9et+7o7vRO8u78by/fet+y7+B/6o/hACnQaVCtkLlwsNDAoOYhEpFLgTthKfEU4RjxKGEi4RMQ/dDN4KRwqUCPsGagUqA3IAw/7O/Kn3p/WZ82vxL/ER71DpKeZM57noi+tF6gHmrOMr5z3tyu/67zPv1O9m9Yr8rv6H/x8CIgU4ClwO0w7LD+oSexbjGFwZjRj1GDYb0Bz4G50ZdReQFkUXyBaLE2gPHAw3CvYJYwgBBC//uvsP+uL4efeo87Xv5u1d7KDrTOsl6eLn6OiN6ELpbOpe6pPsLu8s8Iby5/S19sX5iPz//lQB0gO8Bs4I6grvDEINNQ+REf0ROhMVE2ARfhG4EWwR6BD2DnYMxwpvCmgJewfcBG8CgQDq/9H+P/ri9iXzdfJc89zxYe7t6G3n4OhL7BPtyuoh5w3nwOuD77HyZPLF8ZD0E/lL/WcAcwKYBM8HjQoHDVIP6BG9FAQWJxYFFrsWvxhrGoIZ/hadFHYTQhRlFHQSbw4/CrwH4QazBrIEtwBz/JH5IPg196P18/Jv8DXu3+yg6+bqCuu76kPrL+uB6o7rHu5U8NbyGvQp9PX2TvpU/WIA6wHaAiMFMAjjCn4MjQ1JDv4OuRC0EVMRihHIEbQQUxA/D+cMqAxiDKwK0wgBBnoDZwJoAvMA2P7I+xD4tvXX8/PzkvK28JPtyOkD6cvqTu087a7rqOhq6fnt7PH182XzTvP79SH7vP8DAg4D3wR+B/UKGQ7nD6oRXxPJEzUUUhUtFpEX1RfOFcUTmRJrEs0S6xEVD3kL3QhCB60GugUdA2n/E/xA+mn5yPik9nPz+PAH8JLvBe/S7fTrmOtV7DPtyu0I7kXuGPCg8qn0kPam97r5H/z9/qEBMwPoBNAGMQkCC9IMOQ38DUQP7Q/LEEAQrQ9YDxIPbA4fDXQLMgoICegHSAY4BLkCIAETAL/+0/wG+s/3DfV088TzKPKp8NrtPetx62Tt5+4e7kHsQOtA7c/wKPTL9JH0tvZg+Wv9GQEnAtoDwwbKCEkLkg3CDq0QFBKaEicTahNlFBkVjxSQE88RtxCUEPsPWw4NDB8J9QYZBiEFqAOzAIX9bPs++p75UfiU9Qfz2/GP8Xrxf/AO76ftHe6D7/jvePCR8CrxOfPU9Xz3zfg5+o/7Q/4EAdcCNQSHBU4HDQnVCvgLdgw3DSIOlQ7CDpYOKQ44Ds8NzAwVC+kJ+wgfCEIH7wQaA24BXQBT/xr+7/sh+Xj32fRN9AX0NfJ/8B/uj+xk7XXvYu+g7hXtH+1D8EHzp/Wq9a31GfhU+wf/HgLCAv8DwwaHCDMLjw1WDtUP3xALEfMRphI9E4YTuBKeEWgQkw9hD4QOkAxrCrwH5gVXBR4ERAKP/4L82/oy+sD5NPh+9S7zuvE58pbygvEa8Nbu3+588B7yV/Ki8sryA/To9h35oPqt+7T8e/4qAZcDRQUbBhAHcwgECsALeAyuDMAMGQ1NDXINTA2ADOgL7wq7CbAIhQd2BpAF3QMvAmoAH/9U/nX90Pv2+GP3F/WZ9A71LPOG8XjvTu5T7zDxDvFO8EPvUO9C8uL09fYt9wf3L/lT/Kb/ZAIAA/gDOQY4CPgKugyDDZcOSQ/KD6QQNBGPEd0R6BC5D9oOKw4JDk4NWQvkCOUGygUeBc4DogH//rX8tvsa+zH6efhA9nj0Z/Nz81Tzl/LS8b3wh/Cj8dHy+PN39HT0O/UL94/5mPub/HP9qf6aAEQDIwUcBtUGvwcwCcUKiwvFC90LkQv9CyUMyQtxC3YKTwmVCLwHkgZ+BVYE6AKtAXcAC//g/dT8D/zg+Wr40vbp9LD15PR48zDyr/Cd8Bfy8PJq8u3xTvH/8mv1c/ey+If4tvkJ/J3+dwEFA6YDbgU3Bx0JfAuFDEMNMw5vDgcP0A8TEB0Qqw+3DucNHQ23DPsLjAoyCf0GewXdBKUDDgI4ABT+ZPyf+6f6b/kG+J/2I/Uo9B70p/NO8y/zFfKa8bbyzvMH9ez1nPVG9mv4qfq2/LP9K/5f/2UB0wOwBTEGsAahB7QIkQolCwQL+wq9Ck0LmQsdC2QKWgmQCDEIVwdGBvcE0gO/ArMBhgAy/+n9D/0R/Pr51/jy9t/1X/Yr9dfzoPJ08cTxZvOI8xbzuvJ58qb04/aW+Hz5dfkA+1T90v9VAmcDAwS6BVQH+wjzCmULAgzLDOEMoQ3vDRsORQ6VDbcMCQwWC6cKNgqiCC8HeQXsA0cDZQLlACT/Nf3O+z/7lPqo+Uj4u/bm9Ur19fQL9Zv0NPQj9Bj0e/TF9eH2p/dT+KP46/m9++P9MP8GABUBBgLjA8YF4QZKBwMISQgmCYMKZwpJCuAJdwmiCZ8JFQktCDkHfAbJBQEFJQTVArwB3QCv/5T+mv1M/Jn7a/rU+LX3PfYs9jD2RfVA9CLzt/L78yP19/TZ9EX0U/XE95v5uvrj+n77Yf3I//IBWwO/A8sEagYICKgJXAqnCkoLswskDH0Mbwx3DAYMaAuaCrYJSAnNCM0HkgbbBH4DzAL7ASgBnP/H/Vn8svtc+9v6q/lR+Gf33fYq98n2IvbT9ZL1E/bL9gT3G/eJ94r4rvnN+p37FPxp/Rn/WgCCAXYCCwM5BLIFhwYxB34H1AeECAcJSQnKCE0IQwgSCAMIYQcgBikFtQQ7BLgDsAJvAXwAm/85/4P+if2U/L37o/rN+f748ff294T3pPbt9Ub1QvUo9tX2mPZ79oP2q/eB+dv61vsx/AP9s/51ADICUAOyA88EKQZBB5oI9wgbCa4J3wk3CoAKIgrYCZYJ8giUCOIHDQdjBn8FogSEA2sCnwHQAOD/4f6n/aL8GPya+wr7O/po+b/4mfip+DD4C/jQ97H3Vfij+Nv4S/nh+YL6lPtn/AH9Df75/jMAIAHxAZ8CUAN4BCkFsgVHBnQGxgZjB2gHPgcfB8kGggZrBucFDQVnBLsDUgPdAvsB6gAMAJ//Lf+3/uX95fxG/PD75Pvt+rP59Ph/+PT4C/kr+C338faJ97z4gvnw+Ir4EfmF+ln8Yv2L/YL9kf5yABYCPQOZA9gD7wRLBjkHywf0BwQIbwjxCPAIxgikCFMIBQiUB7AG3gWMBfcEHwQdA8cB7wCsACcAUf8M/s38L/wO/O/7SPte+o75RPmJ+ar5a/kO+br4IPne+VH6zvoD+x37E/wa/bv9uv76/oD/0gCQAWYCNAN3A/QDoQQXBZwF1AX3BQoG7wUVBuAFjwWLBdEEQwQgBFcD0wJoApIB8wB4AMj/L/+x/jr+rP0r/c/8NPwi/A789PpR+gv6pfks+jX6Pvnj+PD4ePmV+tP6TvpJ+tz6Q/yT/Qn+Nf5i/n7/DwERAssCKgNqA2cEeQUABo0GkAaABgMHNQcxByoH4waHBj0G1QVOBbEEQwTWAwMDRAJ9AdsApgAEAAr/Qf6P/S/9Dv2p/P77Zvv8+vz6Gfv4+sT6i/rC+gf7YfvN+/H7Lfyj/ET98P1z/uj+fP8mAAABnQH3AVUC6QJ2Aw0EQARCBHMEcQShBKYEbgRCBP4DrQNZA+kCpwI4AqEBPwG2ABkA2/96/+r+nP4S/pn9d/1H/fT8p/xo/Nn7OPtP+zn7Kftx+8n6Kvp/+gP7mPsR/Jb7WPso/Ar9Rf4B/+L+9/66/y8BQwLQAhUDSAPoA+sElQW7BeIFrwW/BTIGIgbxBaoFLAXoBKsELASMAwUDkAIjAo0BvAAsALj/TP/T/iT+nP00/dn8qPyH/Af8hvuc+3r7ivvT+377avvh+1381PxG/Ur9dv05/hL/zP8PADcApwBWAUACsQKZAsQCHAN0A9IDxgOFA40DngOTA3cDDQObAnUCRAIQAqMBBQGIADYANAABAGz/7f6P/kz+Qf4n/qL9Pf38/EX8D/wS/Mz77/un+876yfow+4D7JfwR/GT7tfuz/MP9mf7D/s7+Ov9rALkBWgK9AuMCJAMvBA8FUwVgBSwFJwWOBeIFuAVXBc8EfwRnBBIEswMaA4kCRALQAUIBsAA3AOz/kv8B/3b++/2n/ZD9R/0E/XP8C/w+/FP8MvwS/KT7pfsw/Gv83vzO/MT8dP3t/XX+Ff8L/4T/cwDHAGcB3AHWAWQCCQMhA14DdwNdA4kDqgOiA2oDJwP8AqYCiQJdArcBgwFFAbEAdwApAJX/Zf9E/9D+kv5F/u393f3L/Yv9U/1C/eX8h/yE/Fr8Y/yo/GH8Cvwk/E384Px0/Vv9Kv1s/fz9zP63//D/2v8zAPoA6gGaAu0C3wL1AqEDMQSHBLIEYwREBIYEggRpBE0E2gONA1oDAQOnAkEC7AGmASkBuQAxAK3/j/8z/8r+Yv7H/XL9dP1S/Rf9+PyT/F78w/zh/Pn8O/33/Az9u/0Z/n3+A//y/hn/1P9VAL8AIwEyAVYBywFCAnsCogK7ApACnQLPAqwCgQJ3AjkCAALhAY0BPgEeAfUAkwA8AND/hf9x/1D/C/+h/k/++/34/ef9uP1G/Z38e/yO/JH8yfyV/PT75/s1/Mf8Tf0e/cb8Jf3j/dL+ff+j/6j/CwAEAekBagKfAswCGQPDA08EhgSIBGgEcgSKBJEEWAQ0BOkDiwNjAwUDlAIrAtIBewEXAXoAAAC0/2H/Jf+i/kD+8f2h/Y79a/03/df8xPyw/Mf84/zE/Mj86fwp/Vv93f0I/iL+sP4c/27/0v8eAHwA9QBXAZMB1AEWAkwCjgLBAtwC0ALbAtUCwgK+ApUCRQIXAu0BhQFcARoBtABtAB0Auv9z/0X/9P7U/n/+Of4d/u/94f3Q/a/9cP1f/XH9h/19/Wz9Xv1W/YP9vf3a/dT92/34/V3+wf7i/gT/Tv+p/y4AnACsANwAPwGTAd0BNQJcAmYCowLyAiMDOQMmAxADBQMkA+8CtwKFAjsCJgIAApoB8QAJAasAUwBCAJ7/NP8v/x7/4v6z/gT+4f0a/hz+DP7d/bH9yf0P/mL+i/5y/pz+w/47/6b/4f/2/wsASQCPAPQADQEKARcBRAFTAXgBeQFXAVoBRwEmAQkB3gDSAMMAmQBzADwAKgATAO3/of9q/xr/8/7y/rn+hv5W/g/+yv21/Yf9Pv03/SP9+vwS/fL8DP15/dP95P0T/lj+pv5T/+//TAB/ANQAUAH1AX8CzALjAhUDYAOzA/oDCgTrA9IDvQOjA6EDWQMAA7YCZgIWArwBVAEDAbcAbAANAIf/N/8R/9j+kP5A/s79pv2r/aX9lv1r/WL9Xv2Z/aH90/3i/dD9JP5C/oz+pP76/hv/Qf+//8L/EABlAJEAugD6AEoBYwGbAc8BxgHlAfAB7wEYAvUByAGhAW4BZAE5AQEBwgBuAEEABADR/6v/b/88/xb/BP/Z/sP+u/6j/pP+ov6L/oX+s/6n/rn+zf7S/t7+/f4W/yr/M/9I/1n/af+h/7f/yv+w/77/0//3/w4ACwAoACcAMQBEAFQAYgB4AGQAegCRAJMArQC4AMQAzwDQAOIA7QDzAA8BGQEmASABKQEXARgBFAHrAOMA1QDSAL0ApQCNAHAAYwBZADIAEAD+/+j/5f/S/7//u/+i/5//of+V/6P/mP+a/5z/o/+4/5//nv+k/63/sf+R/5f/m/+e/6P/nv+N/3H/iv+c/5H/mf+Z/5r/k/+W/5L/df9u/3D/Vf9P/1H/Mv8u/zb/QP8Q/wf/CP/y/gH/Bv8I/yX/T/9+/6H/tv/q/wsAUgCUALoA7wASAUABkQHPAewB/AEKAhECOAJIAjcCNwIRAu4B4gG7AZ4BbgEEAfsAzABhAFAADADI/63/V/8u/xP/1v7W/rX+ev54/n7+dP57/oX+d/6b/rz+1v4X/zD/SP91/4f/q//b//v/JwAhADEAVABeAIMAhQB+AIAAfAB3AGwAVQBCADsALAAcAPj/4f/T/8r/s/+C/17/Q/9J/0f/Of8n/yL/EP8D/wn/D/8c/xP/G/8j/z//Yf+V/7j/0v/9/ycASQBfAI0AqwDPAOMA6wD3AAoBKAEnASYBKgEnAR0BGQEHAfMA5gC7ALwArwB+AHMAYQBTAFYAQwAwAC0AHwADAPv/CgAEAAwACwAGABEADQAKAAoAAgABAAAA+P8MAAIA+//8/wQADwD2////AQDu/+7/8f/r/+v/6P/L/8f/tv+k/6P/kP96/2X/bv9R/1T/Yf9L/y//E/8Y/yD/Hv8M/yH/Fv8a/y7/Nv9H/0r/Xv9Y/2n/h/99/5//yv/L/+f/8P8KABwAKgBVAFUAfACRAJwAtQDHANAAzwDhANUA2ADnAN8A4ADfANUA2gDVAMoAtwCwAKwArACfAJkAgwBeAGoAdABjAFwAVwBQAFsAQgBDAEsAPwA4AC0AHgAdAA0ADQAKAPf/9v/i/9v/4P/u/9r/x//A/6v/nv+Q/47/iP9q/1b/Wv9M/03/Vf9B/z//Sv85/z3/U/9S/17/Yv9q/2z/Zv93/3X/dv9y/3f/iP+U/63/rv/A/8z/zf/a/+j/7v/q/wUABwAKACcAOQA/AFYAagBcAGMAaQByAHkAfwCDAJYAfwBiAIEAfgBwAG8AeQBvAG0AgACBAIEAdABoAGwAZgBqAF4AUABaAFAATwA5ACkAMwA4AE4ASgA/ADwAOAA0ACcAGgAOAAAABQABAPP/BgAFAAYA/v/r/+3/3//M/8P/x//O/8n/vf/N/87/sf+n/7D/sv+k/6f/u/+7/7b/t/+3/7P/pf+a/5H/mP+F/4L/j/+F/4v/iv+L/3v/ef+J/4r/pP+w/7D/zf/V/9T/5f/t//X/+P/8/wsAGAAfACMAJAAwACsALAA3AC0ALQA/AEEASwBSAF8AZwBjAHMAbQB+AHIAawB/AHYAbwBmAGkAcgBrAGIAVwBIAEcASAA9ACgAIgAOAAwACAD8//3/8/8PAA4AAAD9//v/BQDz//D/+P/x/+b/8P/4/+j/5//l/+L/7//w/+7/7f/h/+3/9f/n/9H/1//J/7j/0f/K/8P/yP/P/77/uv/K/8b/wP+3/7r/uP/B/7v/s//O/83/xv/M/87/2P/U/9z/5v/h/+P/5v/n/+n/9v8AAP3/BQASAAsAEgAYABMABgAOABkAHQAnABYAHAAkACgAIQAjACEAGAAdABUAIgAjAB0AHgATABoAGAAWABUADwAQAA4AEQARAB8AFAAXACEABwAMABMAFgAVABAADAATABMABgALAAkABAD///7/AAD6////CgD//woACgACABMACAAcAAoAAwARAAAAAgALAAIA+f8FAPv/9P8BAAoA+P/o//r////2/+T/7P/r/+P/5//d/9//3P/X/93/1//U/+f/6v/l/+X/6f/s/+f/4P/g/9j/5P/u/9f/2f/p/+7/6P/0//z/8//m/+r/+//r//L/BgAGAAwAFQAXAAsABgADABgAFgD7//z///8BAAUAAQAHAAoAAAAOABMABgAMAAUAFAAXABYAKQAvACkAKAApABUAKQApABIAEgAbAB8AGAAZABgAFQAQABcAEAAOAAUABAAIAAMAEgAOAA8ACAAKAAgABAAIAPr/CAAAAPf//f/u/+//7f/q/+T/1//c/+P/4f/g/+P/6P/1//X/8//9//v////4//P//f/6//P/9f/y/+3/+f/4//r//v/q/+3/AwD0//H//P/9/wEAAAAcABUACQAHAAIAFAADAAAADgABAAAABAD7/wIA8v/w/+z/9P/2/+X/9f/4/wkA/////w4ABwD//wUACQD9/wAA/v/9//7/AAD8//f/AAAAAPr/+f8AAAwA/f/8/xAAFQASABcAIgAeACUAGAAWACAACgD//wkAAwD2/wAA9f/z//b//v/w//n/BwD9/wUAAAABAP3/CAAIAAEAAAANABEAEQAIAAsAHAAUABoADQALAAcABQAEAPf/8v/z/+f/7f/0/+v/5v/o/+z/7/8BAPr/+f8BAPj/+f8BAP7/BgABAP3/AgAEAAEA//8KAPb/8v8JAAwA/v/9/wkA/v/z/+7/7P/x//P//P/5//z/7v///xQACQAIAAQACQABAP3//f8GAAwADAAGAA4AEAAAAAEABgDz//T/+//u//j//P/2//7/BgD8//j//f8DAAQAGwAVAPT/CwABAPL/AAADAPj//P/3/+n/+v8IAAcA+f8AAAYA/P/+/wMA9v/8/wwAAAADABIACAASAA0AAAAFAP//AADy/wAACwAAAPf/+/8FAAQACAD8/+r/8//u/+r/+f/5//b/+f///wAACAD6//X/AADr/+3//P8GAP///f8EAAIADAARAAQA/f8OAA0AAAABAP///f8DAAAA/v8QABUAFQAQAAQABAACAAoAAgD4//n//v8AAPz/7//o/wAADgAFAAYACwAEAA4AAQDz/wMA8v/k//P/7v/l//T/+P/4/wcACQACABMABgAJABgAAQADAAAAAAAAAPn/9P8BAP3/4//4//f/9f////H/5P/m/9T/5//8/+T/7P/4/wIAEAAKAA4AJQAkABIAEwAXABQAHgAOAAAACgAAAAcAEwATABMAFQAEABEAHwABAAQAAAD//wsAAgD1//7/CwALAAMACgAUAAoAAgD+//H/+/8BAPb/8//+//v/9P/s/93/8f/t/+7/8v/z//z/AwD9//r/CAAEAAsADQAKAAMAAQAAAAAABAD9/wAA8//7/w4ABwAAAAAABwD2/wQABwD8//b/AgAHAPL/8P/3//v/8v/z/+X/7//v/+z/+v/3//3/AQACAAEA/f8KAAUA+v8SAB0AGgAMAAkAGAAbAAgABAAMABIABgAEAAsACwAMAP//+P8JAAgA9/8EAAcAAgARABYABQADAAYA+v8AAPf/5f/u////AgD3//D/+f/8//b/AAD1//T/9//4//v/9P8AAAcABgD9/wAABAAHAPv/+v8JAPj/BQAWABMAGwAaABYADQAEAPv/7f/s/+f/2v/X/9X/5P/v//L//v/z//3/CgABAA4ADwASAAoABwAKAAgADwACAAQA9v/u/wAA/f/s/+f/9////+7/6v/w//P////z/+7/9/8BAAAA+v/4/wYACQAAAAkAGQARABIAHAATAA8A/v8OAAkACQAOAAAACgAGAAgA/P8IAA8AAQADAAsACwAGAAwABAAPABoABAD2////9f/z////8////woACgAPAAsA/v/9//3/9/8GABAACwAPABMAFQAKAPr//f8CAP7/7//8//z//v8GAPL/+f/3/+r/6//4//z/AAACAPv/AgADAPn/+//7/+//8P/v/+7/8P/x//L/5P/u//v/9//3//P/9f/7//3/AAAOABAAEAALAAoADgAQAAAAAgATABMACQD9/xIACgAAAP7/BgALAAQACQD+//z/9v/3//j/7/8CAAIAAAANAAcABwD9/wMACQAIAPz///8MAAAAAQAFAAYAAwAOAPr//P/4/+f//v8AAPr/+v8IABMAEwD///T/EgAUAAwAEgAHAAUACwAAAPv/AAAAAAIA/f/5//v/+//2/+r/7v/r/+7/+v/4//f//P/1//b/+v/7//n/9P8EAP7/AAADAPf//P8EAAYA9//0/wAABgAAAP3/+/8BAAIACwALAPz///8EAP7/9v8EAAgAEQAOAAgAEQAIAP3//P8IAAIAAAAFAAcAAAD5////9//+/wAA8//x//H/AAD3/wQABAAIABQACwARABEAFwAAAAkA///9/wQAAAANAAYA/f8DAAsA///4//f//f/0//3//f/4//L/8v/3/+//6v/u//L/6P/4//r/+//6//3/AAD2//r/+//7//z/BgABAPn//f8MABAAAQAJAAwACAAUABIADwAQABUAFwATABwAGgAaAB4ACAAQAAgA/P8FAP7/+f/r//T/+f8AAPj/9/8EAAUA///9//f/7v/w/+3/+P/2//f/+//+//3//f8GABIACAAGAA8AGgAXAAsAEQAHAPn/+//6//D//P/x/+H//P8AAPH/AAAHAPb/AAAIAAoACwABAAUAEgAOAAcA+P/8/woA/v8AAAYA9P8BAP//9//9/+z/9//t/+L/3f/w/+//6P/2//j/CAD7////AAD4//3//v/6/+7//P8AAAUAFAAMABIAIQAJAAgAEwAGAAgAGAARABIAIwAWABYADwAAAAkAFAD+/wMABgD+/wAAAAAIAPn/6v/s//T/4f/d/+j/4//d/+//8P/s//7/+P8AAPr/8//+//v/3//m//r/9v/1//P/AwALAPv/9v8EAP7/BAAGAAEAEQAcAA4ACgAYACcAHwAHAAQACgARAAIAAQALAAEAAAAKAP//+//6////AQDx/wUADAD9//v/DAAFAAQABwAEAAAA7v/n/+3/8P/t/wMABgAAAAIAAAD//wAA9//0//7//v/6/wQA/v///wcA/f8IAAQABwAIAAQA/f/7/wcA8//m////8//j//r/AwACAPr/AwAKAA4ADQADAAMACwAQAAgAAwD///T/+f/5//n/8P/v//j/7v/1//b//f8IAA4AEQAJAAQAAAAEAAIACQAFAP3/AQABAA0ACgD+/wkACwAIABMABQDx/wEAAADz/wEAAAD0////AADx//3/AQADAAQABQALAAkAEgARAAYACwAGAAMAEAAQABAAEwAKAAMABgAAAPT/8//v/+D/6P/y/+7/4//w/wAA7P/3/wUABwD+//v/CgAXAAoABgAIAP//BwACAAIACwAJAAcADAAVABAACQABAPX/AAD///n/6f/r//b/6P/v/+L/7f/1//D/AQAIAAkAEQAVABIAAgABAAAAAAAPAAYA8f/t////BQD//+3/+P8AAOz/5//y/wAA7f/2/xAACgAQAAUACwAeABQAEwATABcAAwAAAAEA9f/2/+r/6f/l//X//v8BAP3/7P/8/wQAAQABAAAAAQALABEAEQAVABcABgAFABwAIAAOABEAFQAbAA0A/P8BAAcABAD1//P/+f8AAPT/6v/3//z/7//3//r/7v/y/+n/8f/6//v/8v/T/97/7f/2//L/7f8BAP///v8IAAEABAAMAAgABwALABAACgALABMACwALAAkAAQAJAAgAAgD///z/BgALAAAADwAMAAEAAAAAAAYA+f/w//3/BgD1//r//v/4/wMABgD9//b/BAAHAPz/AQAIABMADwAPABUAFgAfAB4ACQD7/wcAAAAAAAgACQAAAAkACgD3//7/AgD5//L/+P/x//P/+f/3//b/7//x//X/8v/y//P/7v/6//j/8v/0/+v/AQD2/+H/+f/8//7/AADy//r/+v8BAAYAAgAAAP//DAAHABAACQD///v/9v/u/+z/8v/2//f///8PAAQAAgD9//v/CgD8////CwAIABAAFwAYABAAEQAIAP7/CAAEAAAACAALABEAEAATAAUAFQAcAAgABgAFABkADwAKAAgAEwAKAAEA+v/z/wEAAQAKAAgAEQD7//v/AAD5//f/9f/+//H/AAD4//b/EQAIAP3/8//t//L//f/0/+T/9v/+/+//4//i/93/6f/t/+f/5//3/wQA/v/3/+//8P/u/+3//f8JAAwAEQAFAA0ADgAFAAcADwAMAAAABwASABYADwAZABUADwAoABYABgAbABgAGwATAAUA9/8BAA4AAwAIAP3/AAD+//P/6P/w//r/5v/w/+7/5//1//H/8P/p//H/AQDs//X/AgADAAoAAwD9//r/9//9/wIAAAAJAAUABQAIAPb/AAAFAAIABgAEABEA//8AAAUABAAAAPn/AQAKABEACwAKAAwABQD3//j/9P/z//X/5v/v//3/9v/v//n//v/+/wkABwABAP3/CAAJAAAABwABAAMA/P/7/wEA//8AAAoABwABAAAAAwASAA4ADQAKABEAEwARAAUA+/8PAA4A+P/v//n/CAAHAPL/+f/7/+r/8f/m/+r/AAD///z//P8HAAMAAQAGAPv/BQAAAPr/DwAIAAYABgAEAAkAAQASAAAABAAOAAUAAADy/////v/9//b/7v/1//T/+v/8/wAA/f///wsA+/8AAAUA/v8FAAYACQADAPL///8DAPL/+P/z//3/BADx//z/9//4/wcAAQD6//j/+//y//L/BwAKAAMAAQAAAAkABAD//woABgANAAkAAwAZABUAIAAUAAgA/P8IABMA+f8HAAMA+f/9/wEA9//3//7/9f/z//3/AAADAAMA/v/+//r/8P/z/w4AFAADAP7///8JAAoABAD2/woAEwAAAAwAEgAdAAMA9f/6/+//8P/k/+z/9//8//r/8f/t/+r/7v/q//n//P/0/+7/8f/6/+j/7f/8/wYABwD8/wQADwAIAAIA+P8BAAsABgD7//r/AwAFAP///f8NAAQAAQASAA4ADQAQAAsA+//+/woA+/8DAP//AAAJAAsABwD9/wkA/f8JAP//5v/z/+j/6//v/+//8P/4////AAALAA0AFgAQAA8ACQABAAgAAgAIABAAEQAVAAAABQAWAA4AHgAPAAcADwASAAkAAAAGAAQACAD+//P/8f/2//P/6v/g/+L/4v/h/+v/4v/n//P//v/8//H/6f/z//z/8f/t//7/DgD7//X/CwASAP3/9P/4/wQACgAJABAAEgAXABEAFAAUABAAHQAlAB8AJAATAAUABwD9/wEAAQD7/wEADwACAP//BwAHAPn/9P/z/+//7f/t/+//3P/u/wAA/f/5//v/9v/w//T/9/8CAAEAAwAAAAMAAAD4//3/BAAAAPr/AQAHAAUABAADAA0AEQANAA4ADwAeABEAAQACAP7/+v8AAP7/+P///wYA/f8GAA4ABgADAPX/9v8HAPT/5P/0//f/+//y/wMAAAD6/wQA9f8AAAAA9//9/wUADAD7/wQAEQAPAAwAAAAGAAgAFQAQAAAABwAUAAkAAgAMAAAAAwACAPX/5//2/+j/5f/v/+f/+f/6/wYA/v/4/wYACAAIAAAABAAEAAoAEgAIAAwABAANAAIA+//1/+j/7//p//X/+v////n/+//t/+T/7v/j//L/8v/q//r/8//y//D/9f/5/+///v8DAA4AEgANABMAFgASABgAGwAXABoAGgAkACYAFAAQABQAEgAIAPP/AwAEAP//CAAAAA8ADwAEAAQADAAJAPX//P////D/5v/n/+b/1//a/97/2f/p//H/5//e//T/9f/0//X/9f8DAAAA/v/8/xAAFwAOABwAIwAjACUAKgAeABoAJgAaABgAGgAiABkAEQAWAA8AAgADAAIA+f/7//T/9v/z/+7/5v/n/+b/5//v/+v/7//f/9//7//r/+X/4//k/+L/+f/5/+7/9f/6/wAABgARAAgADgAgACEAFAAeAB0AFgAfABUAHgAjABgAIQAdABUAGQAXABQACgANABYAEQD+//L/9f/u/+7/8v/u/+X/8v/8/+3/7f/0/+z/6v/o/9//3f/h/+P/4//r/+f/3//p/+3/4//f//L/9f/q/wAABAANABAACwAKABIAFwAhABoAIgA+ACcAMQAqABoAIQAWAA0ACgAQAAAA9/8FAAAA7v/v//n/7v/k/+r/6v/m/9z/3//s/+j/3P/c/+f/8P/4/wMA9/8AABUADAADAAIABQD+//3/BAAGABIAHQAFAAAABgAUAAwADAAXABIAGQAWACgAKgAHAAUAHQAVAAQA9f8AAA0A+//w//D/5P/l//H/6f/j/+3/7f/k/+D/3P/Z/+T/5v/l/+v/5v/r/+r/9//9//3//f8IAAwAAwATACIAMQAwADAAKQAgACUAIgApACcAHwAuACEAHgAkABgADQD6/wAA+//2//T/8//8//v/7//z//z//v/9/+///P8FAPf/7f/v/+v/4f/d/9v/5v/1/+j/8P/1//f//f/2//X/7v/5//P/9//8//3/BAAFAAUA/v8AAAUAAQAHABIACQARABwAEAAFAAUAAwABAPT/+/8AAP3/AAD5/wAAAAD1//T/BAD4//T/+////xMAAwAIAA0AEgAQAAAAAAAIABgA//8DAAQA+P8AAPv/8f/3/wcA9v/s/wEACQAIAAQACAASAA4ACQAJABMAFQAOAAkACgACAPz/AAAKAAUA9v8BAAUA9f/y//P/9//0//v/6v/j//P/8P/r/9n/6v/4//3/AQAAAAAAEgAJAPT//f/+//r/+v8JAAEA+f8CAP//7P/9//f/3v/5//L/9/8KAAkADQAMABsAJAAMABQAIwAUAA4AFQAPAAsAGQAfAA8ABwATAAsAEAAZABIAAgD8/wAA8v/4//T/9//5/+T/4//l/+P/2//V/9r/7P/o/+z//P/x//H/8P/0//b//f8BAP//CAAUAAkADQAdAA8ACAAIAAsABAD1//7/CQD9//7/BAAJABEAEQAOABkAJwAcAAsAEwAVAAQACwASAA0ACQAFAAQADQAFAP3/+f/q/+r/7f/w/+v/7v/v/+L/3v/m//H/5//q//v/AAD9/wEAAwACABIACQD8/wgADQAJAPn/BwAHAAEABAADABUADAAMAP//9f/+//j//P8IABUAHQAOABEADQAAAA8ACAAAAPz/9f/t/+//7f/t/+b/4P/Z/93/7v/p/+//+P/3//r/9/8AAA8AGgASAA4AHAATABEADAAaACEABwAPABgAGgAWAA0AEAAKAAsADQAFAP//BAACAP//CAD4//D/BQADAP3/BwD4//r/CQAKAAIA9P/v/+X/5f/b/9f/3P/n/+7/2f/S/97/8f/x//H//v/v//r/AgD7//n/AgD8/wAAEgATABUABQANABEAEwAKAAwAFAAPACAAGgAGAA0ABAD9/wUA/P/7/wgAAQAEAA0ACwASAAUAAAAAAAQAAQAGAAkA/P8KAAUABAD///z/AAD9/xAACAACAAYACAD4//L////5/wIAAgD//wAA8v/w/+7/9P/3//D/7v/5/wEA+P8DAPX/8P8FAPL/6v/u/+3/7//5//r/+v/4/+v/8P/9//3///8NAAsAFAATABsAGgAQABwABwANABYADgAFAA0AEAAPAAkACQAcAAYADQAMAAEA+v/0////9v8FAAAA+P/6/wIACwAGAAkACAAMABIADwACAAgA/f/3/wQA9//r//n/AAD0//j/7v/q//r//P8AAPr/+//1//T//f/3//r//P8DAPz/AQD///f//f/7/wMA/v////r/+v8DAAsADAD6/+3///8AAPb/9v/4/wgAAAD+/wAADAADAPv/AQAJAA0ABgAMABMAIwAYABUAGwAcABYABQAMAAwABAABAAEABQD6//j/AwDy//v/+//k//P//P/8/+z/8/8AAAkACQD8/////f8BAP7/9v/+/wcA/v/p/+L/6//m/8//1v/m/97/4P/k/+7/AgD8//j/BAD6//n/CQAAAAcAEAAKABYAEQATAA8ADgAQAAsADAAHABMACAAGAAsACQAKAP7/CwARAAwAAAALABMA/P////3/AQD9//3/+v/0/wMAAAD5//T//v/5//v/+P/z/wEA+v/5//7/+v////z/9v///wYABQAAAAYACAAMABUAGAAQABcABAD7/wYA///4/+//+f8AAPL/8f////j//P/9//H/3v/m/+7/4P/5/wQAAAD+/wAAAgAMAAAAAgATAAYAEwAEAAQAKQAaAAoAEAARABEAEgAQAA8AEwANABIACQACAA0ACAD8/wAAHAAXABMAEwATAB0AEQAGAAcABQACAAQA+P/2//n/6P/c/+H/7//w/+z/9//q/+7/7v/o/+r/3//n//H/7//s/+v/9v8CAPT/8f/z/+7/7//+/wIA/v/8/wQAAQAAAPf/8f8AAPz/8f/w//n/+v8EAAMA//8NAB0ADwAZACUAGgAjABQADwAUABwABgD8/xcADgAHAAwABwAKAAQACAABAO///f/9/+7/7v8AAPj/4//z//T/9f/v/+3/AwAYAA0AAwAMABQAFQANABAADAAOABIADAANAAoADgAAAAoAFAD5/wkACgAAAP//BgACAPD/AAD+//n/+P/+//T/8//9/+7/6//y/+n/4f/t/+T/0//Z/+v/5//p/+b/3v/q/+H/4v/r//D/7v/t//z/CQAMAAsAHAAbABYAIwApABoAJwAyAC8AKQAfADUALAAqACIAHAASAA0AHQAGAAUAAAAIAPv/+v8QAAAA8//5/wcA+P/i/9r/1v/e/97/xv/Y/9z/zf/a/9z/5f/g/+b/3f/k//f/8f/0//L//P//////AQAHAA0AFgAGAAsAIwAZAB8AJwAlACIAFgARACUAFQAVACMAJQAcABMAAAADAAYA7//w//b/AQD7////+P8CAAQA+//3//v/+v/n/+//6v/p//D/AAABAPT/AQAKAAMAAAANABgACgAQABUAEwASABQAHQAKAPz//v8DAAIABAABAPj/9f/7//j/6//5//7/AAAHAP3/9//4//L/6P/i/+L/6P/j/+X/7f/x//n/8f/t//n/9//j/+T/AwAEAPv/AgAOABYAFwAEAAAAHAAQAAgABgAEAAoACAASAAAAFwAeABIAIgAiABQACgAcAA4AAAAGAAwAAAD5/wUA9P/u//P/9P/u//j/+P/0//3/7f/y//r/8v/X/+n/5P/Z/+D/4v/9/wAA+v/6/woACAAFAAcAEgAOAA0ABwAKABcADAAHAPz/AAACAAAABQAYABsAHwAjABoAGQARABUABgADAAYACwAJAAIACQABAPr/7v/4//D/7v/1//T/9//m//H//v/z//D/9v/+//z/+P8AABMADwAGAAAA+P/5/+3/8P/t/+r/+P/5//7/7v/v/wMA8f/1//L/+/8IAAEAAQD6/wIAAgD///3/BQD8/wAAAgADABMADwAdABYADwADAAcACQAAAAkAAQD//////v/+/wEAAAAAAAYACgAUABEAAAAEAAEAAAAFAAIAAAAJAAwA/v/8//n//v///wYA///+/wQA9v8FAAUAAwD2//L/+//z/+7/7v8AAAEADwAMAPn/AAD///3/+f8DAAAA/v8OAAIAAAAAAAAAAwD8//r/+v8JAAAA/f8KAAcA+P/7//3/AAACAPX/AgD7/wIA/v/r/+P/6v/z/+b/8f/r//f/7//s//L/7P/5//T//P/8//z/AgAQABEAAgAjACQAHwAlABUAFwAQABIAFgAWAAsADwAOAA8AFwAOAB0AIgAbABgAGAARAAEAAgD///j//v/8//P/+f/x/+//7v/m/+r/3v/Y/+P/4P/d/+7/4//w/wIA9v/5//X/6//5//D/9v8TABEADAASAB0AFgAWABMAEQAIAAYAAAAKAA4ABQARAAAABwADAAMABwD9//D/5//z//r/7v/r/+3/7P/y/+P/2v/j//D/5f/s//j//f/5//H/AAAAAP7///8SAB4AGgAmACgAKwApAB8AHgAmAB8AFQAWAAUABAACAPz/AQAJAAEAAAATAAIAAwD+//j//f/1//b/5v/t//r/8//t/+v/7v/1/+3/4P/W/9v/5f/h/97/7P8GAPz/7v/y//X/8//1/wEACgABAAAAHwAeAB0AJgAcACYAKAAqACoAJQAnABsAKwAoABMAGAAXAAUA///4//n/+f/3//3/8//v//b//f/n/+z/5f/Y/9v/0//F/8b/2//i/+H/4v/z/+7/+//3/wAAFgALAAIAAwALAAYA/v8JAAIAAgATABYAHAAYACYAHgAhACAAFgAZACAAJgAXAA8ABAAGAPr/5v/x/+f/8f/3/+z//v/z/+3/4f/j/9//4P/s//X/+////wIAAQD6/+v/8//r//L/8f/4//7/+f8PAA8AEwAXABYAIAAWABoAEgAXABcAAQAPAAwACgAOAAcAEgAQAPX/8f/9/woACQABAAAACQANAP////8CAPv/9f/q/+X/6//y//r/+P/7//7/AAD2/wEA+f8AAAoA9v8NAAQACQAKAAUAEQD9////BAD//wQAAgAMABQAEwAVABkAFAASABcADQAAAAAA8f/n//T/4P/c/+n/4P/R/9v/2//f//n/9f/8//b/9f8AAAgAAgD8/wYAAQAFAPD/7/8LAAYABQACAA4ADAAHABkADQAXABcABwAPAAoA/v8EAPb/9v8IAPj/AAD7//j//P8CAAYAAQADAAgABgD//wEA/P8EAPb/8//5/wAA/P/6/wAAAAADAPj/+P8AAAcABAAQAAwAEgAlACAAHgAHABAAGgACAAIAAwAJAAsA/v/w//z/AQD//wEAAAADAP//+v/z//D/5//z//L/6P/p/+f/8P/t/+//9P/z//b/CQAJAAQA//8JAAwA+P8CAAwABwAHAAsAAAAGAAYA+P8DABEACwAMABUAEAABAAYACQAGAAgAAAAGAAEAAQD1/+z/9P/h/+f/5P/g/+7/9P/6//D/5//3/wMA9f///wwAAAADAAYAAAD///X/+f/8//P/BAD0//b/EAALAAoADwASAAkAEQAZABcADgAXACUAFQARAB0AFgAMABMADQASABYAFQADAAcAEQD9/wkA/f/2//z/5//i/+H/2//V/+H/4v/w/wIA8P/8/wMAAAAAAP3/AwD///3/BAANABMACQALAAwAAgALABEAAAAAAA0ACAAGAP///v8BAAAAAADz//X/+P/0//H/6//u/+3/7f/t/9n/3//s/+3/6v/2//v/8P/+/w8AEAADABcAEAALAAwAAgAGAPz//v///wEAEQARAAsAFwAaABUAGwAfABcAEQANAAQA/v8HABAABQABAAIA/f////3/AAD9//z/9//o//H/8v/t/+v/5P/f/+3/+f/0/+3/8v/+/wIA///3////BwARAAkA+//4/wIA/f/1/wkABAAEAA4AFQAWAAMAAwALAAEAAAAAAPX/8//+/wcA///6/wAA+f8DAPz/8v////b/8P/h/+T///8CAP3/BAALAAoACwAJAAcAAAAOABEACwAAAAAAEwABAPr/AgALAPz//f8HAAEACAAKAAsAIwAWAAYABwAJAAkA/P8GAAAABwARAAUA///5//3/+P/n/+j/7v/r/+n/7v/0//L/8P/3////BQD2/+7/AAD6//f/+P8CAPr/+f8FAAoAEAAKAA4ADQALABMACwD//wsABwABAP3////x//b/AAD9/wQACAAKAAAABwADAPv//v/4/+7/AAACAAIAEgAHAAwA/P/1//r/9P/i/97/6v/o//T/+v/y/+//BAACAP//AQD9/wQA//8KABgADwASABIADQAOAAsABwARAA4AAQAAAP3/AQD9/+///f8HAAAA/v/7/w8ABwAGAAwAAQAKAPz//v8HAA8ADAD1/wcAAwABAAoA+f8HAAQADAANAA8AEAD2/wIAAwAHAPf/9v/8//b/BQD7//v/7/8EAAwAAAAAAPj//v/1//P/8P/z/+j/+v/0/+X/6//4//v/6P////f/6//1/wAA8P/u////7//q/+//4f/e//D/9P////3/DAAbAAwACgAPABMADQAGABgAGAARABcAGwAVABEAFgAJAAgABgAJAAYAAAALAAMA///8/+v/+f/6//z//f8AAAsAAgALAAcAEwAVAA0ADgARABEACAAEAAsAEAAAAPn/+f8FAPv/9v8AAAoACAD5//3///8CAAMAAQDw/+b/9f/7//X/9//o/+P/6f/v/+v/4P/z//D/6v/n/9//4//y//T/9/8KAAAAAwAeAB0ADwAJAAoAGgAcAAsABAARABkAFwANABUAJAAYABAADwAaABUAAAADAA0A8//z//j/7f/4//L/7//z//H/9P/8//v/9P8CAAgA+P/+/wMA/f/3//v/9P/4//7/9v/1//r//f/6/wQA+f/5/wcA+P/y////9v/+/wIA7v/q//j/AwAAAP//CAAHAAAAAwACAPv/8P/3//r//P/2//H/+P/4////9////woAAwAWABQADAAgABQAGAAcACQANQAjABUAGwAeABYAHgADAPP/CQAAAPb/AgD5//X/9P/u/+7/7v/3//T/AgACAPn//P/0////BAD3///////6/wUA7//w//H/5f/r//H/7v/x//T/7P/3//b/8f/0/wkACQAKABYAEQAWABgAGAATAAYACQAVABIAGAAZAA8AGgARAAMA9v/p/+P/4v/z//D/9P/2//7//f/9//3/9P/3//P/+v/6//T/AAAJAP7/BAAEAAgACQAIAAAAAQADAPf/+//z//v/9P/6/wYABwACAAsAFQASAAkABwAKABMAHQAXABIABQAFAAgACQD+//D/+v8HAAIA/v/6/wMA///v/+v/6f/w/+r/6/8CABAABQAWABgAGAAPAAgAAAD+/wIA8//7/wAABwABAAMAAgD+/wsABAAGABAA+/8FAAMAAgAAAP//BgABAAAA///6//H/AQDy/+f/4f/j/+P/4f/v/+j/8f/v//L/+f/6/+7/6P/3//r/BQADABAADgD9/wYABgAAAP////8DAAIABAARABcAFwAXABMAEgALAAwAGQAJABQAEgAIABwAGQAUABsAFQACAAcADQAJAPn/8P/t/+r/8//h/+T/AADx/+n/+//2/+//+v/+/wMADQAHAAAABgAQAAcA/f8KABQABgAIAAcACgAIAAIAFQAAAPj/AAD8/wIA/P/8//z////8/wYAAAD5//T/9P/1/8//1f/i/+T/0//T/+D/6//q/9//7P/w/+L/5P/9//f/BwAMAAUAAAACABgACwAQABkALAAtACMAIAAWABwAIgAlACIAHwAIAAkAEAAKAAgACgAWABIACQATAA4AAAAAAAAA9//u/wAA9P/q/+X/2//n/+P/5P/g/+X/4P/h/+D/1f/s/+r/7v/y//n/BgAPABAAEgAkACAALAA0AC8AKAAaACQAKgAYAA4AEAAFAAAAAAD///r/AgAGAPf/6v/p/+z/4v/r/+z/9P/t/+j/AQD5/wcADQACAAcA///7//v/CwAJAAYA/P/8//7/7//8//z/AQAGAAsAEwAOAA8ACwAOAA8AGAARABcAFgAAAAIACAASAAYAAgABAPz/AAADAPL/5f/r/+j/6//j/9r/5P/k/+T/4P/m/+r/7P/4//z/+P8AAAUA/P8KAA8ABwAGAAMAAgADAAMAFAAVAA0AEwAdABcACwAPAAAA+v/x/+j//P8RAAUAAgAPAAwABQAAAA4ADQD6//b/+v/5/+//9P/8//z/BQAAAPf/AAATAAEAAAD8//r/AwD7/xEA9//+/xIA+v/u//j/7P/9/woA+/8RAAQABgAKAAAABwABAOr/4v/q/+3/+P/1//v/8P/z////BgAHAAAACgD7//b/9f/1//n/BAACAP///v/7/wwAAgD8//z/9v/3/wUAAAAAABEAEwAXAAwAGQAnACEAGwAPABkALAAjACMAJQATAA4ABgD///f/AAD9////AQD5//3/9f///wQAAwABAAAAAgAAAAEAAgDq/+j/9P/v/+L/8/8LAP//+//x/wEACQD9//n/9v/+//n/9////wEA+//6//n/8f/y//b/8v/7/wQA+//0//L/9f/x//P/8P/w//L/7P/6//L/7v/s//H/AgD9//v/9//x/wEAAADv//3/BQAEAPf/BgAaABoAEQAcAA0ABgAbAAQABQAQAA0AFQAxABMADwAbABgAEwAGACIAJwAjACEAIAAVABsAFgARABYABAD9//j/+f8FAA4AAwAHAAsAAADz//H/9f/o//L/9f/z//f/+v/x//b/7v/p//r/5v/w/+X/4//i/+H/8f/w/+7//f/+/+r/7P/j//b/9//v//7//v/4//b//v/+/+z/DgAHAO7//P/w/wQABgADABAACgD7/xEADAD//wAA8f/5/+7/9P/4//j/DAACAPr/AQD9/wYAEwAZACEAKAAVABkAHQAOABQAGgAOAAUACgADAAYADgAKAA4AFAAIAAgAFwAbACMAFAACABUAFAAOAA0ABwAFAAoA///3/wAA9P/3/wAA7//n/9//4v/f/+H/4//J/9T/3f/b/9T/4v/n/+P/8f/s//3/AgDs/+z/+//7/wEA+//y/+7/7v/s/+3/7v/g/9//5//i/+f/7//h/+//8v/v//b/BwAJAAIADwAIAAgAEAAMAAQAAAD5//n/8//u/+3/3//g/97/2f/b/+X/5f/U/9z/zP/I/7//vv/R/9D/2f/W//D/9f8JAB8ANgBZAG8AjwCPAKgA1wD0AAUBHAEiATABRQFAAVMBWwFSAV0BXwFLATQBDgH+APAAxgC7AK4AkwBoAEgAMQD///H/2P+l/4f/ZP9T/zj/FP8J//f+0v6//r7+ov6e/pb+hP6Q/on+lP6b/rH+yv7W/vn+C/8s/2L/fP+T/7n/yP/p/woABwAdACgAFwAfAB8ACgDp/9T/vP+Q/2P/Mf8D/8v+eP5D/hP+2P2q/XT9Uf0q/SP9Fv0P/SX9RP16/bb9Cf5t/ub+Yv8EAJsAPgH0AZoCUAP9A60EUwXxBXIG6AZXB50H3AcACAsIFgjzB8YHewcMB6EGFwZ1BcQECwRBA1sCcwGVALX/w/7k/Rb9SPyJ+9H6QfrE+Vr5Cvnc+Lv4oPii+Mj4/vhE+Zr55vlb+tv6XPvP+0z8xvxf/QT+Yv7s/l//y/9NAKUA8gBSAasB4wEVAjsCaAJmAmUCawIrAuMBngFBAdYASQCn/wb/Ov51/Xn8ZvuU+sf5Vfnq+In4afhT+Kb4O/ns+dP64fsM/W/+BQCWAUADwgRHBr0H/ggwCjgLLAzlDIYN5g0RDh0O5A2DDRANYAxyC4IKawlhCDsH8AWoBC8D0QFNAO7+qv0l/OD6pvl8+Hn3ova89Q71sPQ69Ar03/MB9Fn0sfRk9ff1vPas96n4yfne+ib8O/1c/n3/iACIAWwCYwMdBOUEagXjBVoGiwbCBrkGkwZiBgUGlQUxBawE9gNJA4cCzQEWAVEAlv/C/hX+g/3k/FL8+vuu+3r7a/tX+4f7uPsU/J/8G/23/TH+vf5Z/+n/dAC8ALIAxwCbADYAnP+N/p/9Vfxd+7v6O/rY+RT5nviR+Ar55Pmk+nv7hvyq/VT/GQGUAhYEVAVgBpYHegg4CR0KvQptC7cLyAvZC78LwwtbC9oKQAqCCe0IUAi5B/YG/wXrBNEDxQLZAcoApP+q/ov9mvyX+3v6lPlu+Gb3gval9fz0XPT38+Lz7fMD9EX0lvRF9Sb2Gfc0+GD5zfoQ/IX94P4YAGkBgwK3A+UE7wXRBn8HNAjJCA0JIAkCCcwIcAjyB2EHmwajBaoEqQOmApkBdgBK/xH+FP19/Or7afv1+m/6Pvoz+kL6bvqC+pv6pPoP++H7mfx2/Tb+wv5V/w0A3QCaAXcCBwNYA3sDgwOSA1wD4QJ3AZP/kf2/+8P66Pkq+Q34sfbP9Xr1Jfb99pz3YPgd+Zj61/wH/xYB1AIaBFkFogaNB8gINgpjC0sMsQwDDUYNwg0UDrENCw0rDH0LVwsSC9YKIwrLCJsHJAbiBO4DjgJHASoA5f7o/dv8gPsi+qP4T/f49bj0wvPw8ovyT/IX8urxm/Gw8UvyvfKi88f0Dvbz94z5OPvf/Db+z/8+AZEC2wMQBV0GdgdrCCIJjQm3CcgJtwmLCTwJrAghCFsHpgakBWoEbgMcAuoA1/+m/oD9vPwx/Kr7Svu4+lL6NPpz+sz6Bfsd+y/7cPv2+/n8xP1o/hn/mP9LABoBugFvAkEDzAMHBAIE5gO5A54DBANDAQD/Xvx7+oT55/g9+LP2I/Uv9D/0RfU79rf2JPfo99T5bfy7/tEAhQLhAyYFeAZmB70INAp6C6MMNA2FDcANew7ADpcOFQ7hDCQMEQwJDMoL+QqJCS8I3QanBUkE1gJrAQMA+v4D/uX8Z/vX+UL4xvY79T30L/NU8iry4fGt8crwkvB48NDwGPIo82z0GfYM+J35PPu+/Af+pf+2AU4D2wRYBmAHrgiGCcEJaAliCUUJjQlACgAKigmyCK4HMwY0BfYDBQJEAX0ALv+P/pT9Q/zP+/P6CPqY+eL5MPq++t375/uA+yb7D/tZ+4j8R/6X//cAagEAAuECoQIYAoEDOwT3ArYFEAgsBeUDGgQG/nn3Gfio9nDyafYs+TP0CfNJ9P7wT+/o8mD04vOH+bb/8wA9BAEGeQPtAqYFtwZACWwOdBD7EZATBhMOEHMPSg8KDjkPcBDRDx8P/A7uDDgKPwfPBF0CQAF5AVUAKf+s/UX8Ivq5+Hn3JPXH8yDzfvJx8f/wcvBe73vv8fCV8CfxgfKQ8xL25/ch+xz7of7q/87/LAR4Ag4FkgXjCEcJqwh2DS4KTAtODHwL3gjVB5cICgawBuwHOQa9A1wBbP9J/HL5Nfqu+Df5ufki+h76gfiE+Vz4uvgn+Qb6d/yB/Ub/WgBCAIMAYAG+AtwCwwOFBYMFxwbxBr0GFgWAA6gDiPsf9ZfuVuY25K/kU+lm6l3xf/kV+7D+Hv2k+wr8iv/bBRkItQtFDz4SkhZaFl8UZBL/EO8RDROVEz0RFg/nDhEN5AkbBnsC5/7S/LD8CPsu+WT47fns+l/6pfkk9l308fTZ9m76ZfzQ/SAAFwJEAgIB4v8Q/rD9OP9hAE//Y/5c/sr9yvwH+lD5CfiK+Hj7qfwZ/Rz9/v9SATYBigLxATMCtAMpBLEDowK3AosCBQPHAqgAXAE5AmUC4gJSAgMBUgABAGL+Bv1P+1z6/PoK+yX7kftl/G79Xf5z/+3/CgFdA0cEvgXBBtcEWAW8BQgECAQjBdsEbAVxB84F0APcA/8BiP7bAHX9Wflo+9Lt/N9R2IPP4s0W2f7lt+pS+qAJtwy0Ed0QUgmHCnMQRhLHEgwU+hHmEy0YyBGXCiQHEwUkBswLdQ1SC5cO3xDFDmQKUALD+sz57/oT/bP+5P67/h0ArgEw/gj5W/aa9cX3mvxI/wcAQwFSAyUEpwJe/g76PPk5+i/7Wfx7+0z53/sd/df5WPjD9gX1C/nr/Xb9hP8zBGcFVgfpCCkFbgJXA7YDVAPVAZr/H/7o/on+s/xc/K378f2bAioEMgNmAtMBZQErAD79PvrE+Wj7ePyd/en92v0XAA8DhwMoA0sE0AWsBi8G7QXFA4gBRgJbAsMD7wMTA78F6QTyA08ESAKCAKv65fxt95XdGdN6ytq+tMtq4ADppPX+D8gd7iBEJZoaEQ+ZEUgQAAvECXMHbga0DrMQ6QMf/ab/5v+PA/UN7w30D8IaeRofFXwMqf9L+kX5kffQ9nP4j/ug/K0AzQEM+y/3TveP9qD4/v0GAgQFiwgSCekFogJu+zv2Mffv9ar0ofh6+tn4r/uF/tb7GPkG+mv6w/rM/f7/NgKOBSsHxwgdCPgDZgL4An0B1v7K/XD9kvzO/Gn86Pr++iH96P9LATEDwQNzA74DiQAw/fr7PPrb+Hv6j/v/+3j+ZgCiAW4CSQRuBUoF5QVoBr4HVQeeBTIGjQauBOkD7gajBUACCAWQA9oA5P1I/Ir6KN9HyVbF+7PrueDa8ej99RMXDytBLvYzbSrtFmwPGQtkAlv8O/32+vH+nwpCA1T7RgOqArYABQ79E50TjR+SI8Ub0xQbCnT/4fgI8z3tEu2C9Fj4HvxlBAwEjv9SAC7/u/vD/ZsCpgSHBuwIJAbZAaX+T/cZ83TxJuxj7b3zbvYZ/NoCIgRsAh0CLALI/R/8Vv1N/Ej+ywGVAn0E8wd1B6kGsQcQBL//2/+q/aX6Yvvz+hb6Tvud/Pj9a//7ABICzQFwAhIBlP6w/tP7hPo5/Dv7SPze/mv/+gFpBd8EdgQSBosGagYPCJ8H9QXmBQYFRwW5BcEDfQKFAhoC9AIQ/UAAnv2D19fGjMTQqAm4GuIA5wX7YyRiNvg81UOHNCAYOwzuBIX0SuyY7a/mLvOiC/UF5wCMC6AGQAUmFioX5w+KGQwhKB18GHcNsP439YTwFupc5fnpBe3D8/oEyAv8BksJvQnWA/oEGAWA/on8Rv7L/XMAwv+l+H720PSX8MLw7PEd8t32ngCkCG8Ldw1nDhELVgbpAqf8i/VU9Mrv9etN8x30J/RfBJsMzgtfFuAaLxPOD1oKD/4y9jnxputW62Hv/fGZ9oUAjASDBs0OyQ/4DBYOzwhzA8AB+fpK9532XfKF9W/9XQFPBx8NfQ87ENoObA2+Cp4DKQAQ/dz52/fD9bf/MfAnyobHaLtrpu3KpueI5t8J4zb4QmJLQU95MJsSdA2l/mniw9y72cbSOfUpEKwC6wg8F5cS5RzlKIYVUAejE/0aORk0FKcDgPNF9rH78u+T4hrff+Kd9GANyQ6NBGsMrxWNFF0VOAlg8dbuBPZo9U72Y/F47n/5OgAY/+v7XPPR8V78RgXNB3AHFQmQDr0RAw+/By/8SPIa79XvU+2t5eDo5/V8/DwHMRUwFnQWah1gGwUQsQTQ9xfvJ+y56ajpzetY8uP7CgVDDOMNCw+EEasPWAt7Bmj/3vmo9+L1v/V99Xv3Mv8nBpgLyw31DsIQJQ96DNAIgwF4+hv6AfbE+Pb7OdtAw1vJabPwsI3bhOVr7bEf4EFmRiBTiUkpJnkVYw708ZzTAs+Vyk/UWPrpBpQAmxD1HiAiay5TK1AQOQuFGTcadxGRBmT4KvN7+1P7wOid23bduOY2++0KHQa3Bc8WjyAtITIa5gRU9eH03PQ07ujmWOIh6vD4Kv6e/ub5C/dI/2gH9gcBBXkDOApdFDoTBQwpBN74J/RJ9cDnJts64gjqtPbHDUEWjReQIjInxR9IE7kBmu9d6tHqMudr5x/tJ/QR/0kMFw58C5wO6Q8EDs0LcwMh+fT0u/IB8mny9vC99JQBHwsLDsQQ7RJwEI8Png8nCAX/fv0F+sv2jP9p6RfAvcTrvQyoM8qX5aLkLgwiQvxMzVLuV6U4dh04Fy/9EdTJxhHEcMI946T/NPutBmAhmidlLmA2iR/XCxgWOxvLEZ4GzPka8db1sP3+8NbekN0Q45nwyQO+BlsCAw9aIL8lhCEcE5AA2/ls+dnwAuWW3XHflOzV+HH8d/og+TMCiwxgDesHJAFmAaYKiQ1jBW38HfVs8wX4TvhE8wD0H/wkCT8UJxNnC/cIQAj/BZ0BF/mL8Xfy5PpkAYkB7f9nAWYFOwjSBXYAC/yi/JL+gf7R+6D3//dV/MT//QBq/3z+6wN5CJwH+wW/BPMEXQfYCuQJkgXwBnwCTAMHCeLidr3wxfu0Bqd1zPfc3uG8FOtGdlRJXtxZ4jtMJ2oZtfV2zYi++rawu3ThBfik9owMUShVLUA2fzjUHM0NXxd+F4wMoQI3+PLzqvvC/o7t+t2F32Lj/u00/qL+Xv+DFEcnLSrkJXoW/ASXAJn7qe6130vWhdvU6E3z4/hH+DX6YQcVEsAQRwqlADUA0QhvBN761/d980b1j//iAXD9n/2uA5ELPg8AC7YDDwFiBGsEeP+n+g72B/mVAZYE1AHy/jgAlgQvB6ID/vvz9136Kf14/GT6xfjM+lwBCwUYAwgDgQFMAHkF9AauAxEEmwdJCrwMEw0sBYADBQZJ4b69A8PQr7ukc8vt3innuxh3SbNXn2EVXFU95SbtFi/yjMuHvGuyp7gJ3ZbxC/W7DzUp9S6CPT0+/CAFFCYatBPQBxT+f/T78gz71Pse60Tf4+Fb5m7wP/5f/ir/uhWgKaQpwiQBGKsGiAHP+5jsot3A1A3Zg+dW8qX2b/il++YGLhKIE4MM+gQLB8oLzQfb/1H4x+7f7PrwNvCQ76/0Bv8aDfgZXhu/FjkUxg8FCBD+1fKg6fvqavKF91H8uwAPBDIKDxHPDuYHJwTuALz90vwT+O/xCvMO9of5Sv6lAOoBdwcLDo0OIQ0wDesLMgmHCC0CLf4cBNfnJcKwxry58aPlwC3aPt8oB1Y8zFLVXiFizUuCMuggf/9d1SDBBLNdrpjMnuep7QkFCiP/K4k75EY3L/Ec2CAEGoEKIQE79TfscPNu+XLtxuLe4hTkfe3l/LX+Hf0IDjMkgyzGKtIgGw62A9T/E/Lm4QPTu89a3ZnqrfTX+JX5FwRCEc8WAhLRBO0BzAcNBI795vk19XT0ZfxRA93/NP2M/kwD0wvZCZoDqwNDBCYGlAWU/lz34PcE/hoB4gF8ACL+LANyCU8H5AHY/GL72vx1/h0A5/th+Rn/AgJrALb+vvxe/G4AcAfsByAGYAu2CS8JyQuxBNAGXvCmxtPIcL8IpsG+t9az2xYCcTSlTGZZr1wOSgU0CCPpA4Hai8NHuQS2T81R5Vju/wGpG6MsVjoCQD8w2SEfI1scdg7QAr32ze9i9HL3neoD4VLikeW38B78jv2//WYLkiCCJ6olwB6+DR8HSwT786zmVtuX0/bcdOh47eLv//O1AV8QjBXAEQMKpAlQDVIHBf729iruVe6y9gX4tfeE+6AALwxOFZsPtgg9B44Cjv9e/3b5XfGD8uj+pwd1BncH2gkICz4N/whUAsj8KPih+Qn61/jg+DD5PP68BXsIeQIuATII2gj/BpQH7AV4AmQC6AEfBpoBPtdFwmzN67Wvr7nQ/Nbr3wcWwEMUTupX7Fc1Q74xNBxL9FfRP8AOrq20j9hs4mHq6g3RJAYx1kMuQPMrIywyKRsYJhMjBfXrmexc+LTsK9qt2QPdNt4y8JQCV/0oAjceNCscLJkupR42Cw0IWf0F7bffM88P0T7es+Nj7gz3/fhbBdQU1xMJC9sIBQpRCPAEugQG/9v5agKsBDr+H/yp+Hj4t/8uAyT+dPkC/b8BiAM8CAIGnf03AjwLqgtNCDMDdwCNAYQAF/+B+cLv+fM5+2D6sP41AYcBfwWdCksMbgUzAY4DfgkeDDQF5AXJC4MCjgKuEPPtZLxrwXi6faMEujPPTtPL+1I2dlXCZK9mSFSIQ+EvWQie3bTBIal3oTS/l9Yo3937ZRtPL+1D5kpZOi0umyvPHqMPJQZ39XXotPH69+DmEtqK4F7ieeWP9XL5Ofd3B8wfNixVMDQqQxmHEvQKkvlb6GDW1M0z0ljcqOgq8ObxkP6CEqIWOxGsDlMLEwg3CRAGZf8b+5z4yv2U/hr3QPNV9cL+uwbkAzoA2wNKBtwJAwxUBBT/Mv3G+on/8QEo+5/4X/oq/AIAwv9H+nb3nftKAn8DQwKoA2MDUgXACuMI9AJyA6IHJQnZCKsJiwQQ/Ov/bA9y+nLDaMB3xFyq1LxW19DTbuszKbVRSl4ZZL5TBUCdMzAVJ+k/yWyvR6FDurvWKtxi9GAW9yV4PhFRPj8XLZstciPoFVkMUPZX6ODxo/nY6aPcGeFF397ilPdS+37zpAYLIAcniDAGMlsZuA4eD177A+kh2rrLHs4k2pDhnOnI8SX7mQsDFu0URg1eC0gPiQ2vCnsGAf50+ar8T/oq9ZPzm+wN8lACGQdFCHsJhgnNDTcUpxGfBdT7Ovlk/BX/QP6i+Bf12vmdAHEC0f3p+nP7uACnBWcFVQQv/V7/Owc8BLsCBgG9AwgLzg3uDXoJwv94/moLJO/8u0S6nrMApOm9jtNQ2E35SzFTVcJmyGjLUCw9Xy2LDOvj2cG6qk+iM7xZ2WTg/PhsF/4nE0S4Vag95CnKL3kllhQNDUH5CubJ7i76GOrO2wna0NVF3nT0z/tJ820CrB7MJ+sxljIFHW4Rsw0gAC/uMNzdztbNSdfK4Ibnfu7S+CQKtRhPHHMWGxGeFcURvgiQBlz5ovA+9xX3qPNB9FT0BPjFAlAL9AmpBC8DswZ4CvoIgQLB+3P5+fy5/4D/c/+N/F78fgEgApX/cPwg+m//WgGS/SgBTQDG/MUDtgb/At4D3QeoCiQPwBLjCzwBQQXFDrjqLroGvUOubZqPvuHSftUU/3o4iF2FcdlvOljHQucoRwYH4Lm8B6JHm4K5YtRH4ksBNxgjJRdE3lH9OE0uxzBCIk4ZjxHe+/zsJvNV993mddv513/Qztqy8TL1WPKCBxweayjbOIw4SCB8FvsRtv6w7TDak8h/yE3RUdwA5vvt8PbFBcUUjRe0EyIV0RhpFbsQRgtUAQL8s/rb9lLzoO9Z7fbzwP0/BBQHtAR7BmIOsBCQDYsFZfyK/Hn/u/rR9x370ffa+pQG5ASM/90BOQLMAFoDfAOr/Rb5N/7S/xb+OARNAfQBPgsqDVQLdQUxAgAIBPZczALF1rydp467v87O1U34MSKRQm5hQmKnTi9GkC5ND3bzc9FgtxWxdr9P0zvmOv1YDCMaoDW3QN0zES0QJ7UZIhj1E4b/c/r6/Pb1gvJy7WriGd6S4m7pcfNx90r9HQ+BHCknfSyLInQX6g1eA/H4SOex2qzVX9D42ZDog+Z37Mn+DAMcDLEVTA4cDugRXQ6RDtkPKgbR/ZH+JvuO96T1UvBa8bH6uv8IAQkHMwujDSUT1BKWDToGR/99/GX43vTZ8p3x3vEk9zT/mgMPBxMJRAwYD2IMOQX0AKj+cPs0+5T5DfuG/xMGWg5CC5MGXQ2M+m3R0MXLuYmmx688wvLVY/RyHeZJcWPvZshmuE7BLN8dkPLuw+u9uK2cp5jOcOPB7IgPRh9QKO9EWz8UJqMq2CTQFacXAwsv/W8A/f3N9Mnqmd7V18bWndy47XjyufO3EOwjOSgIOs00dRuLFY0OuPaV6DTfDszyydXYj+BS5Bnv4fvtAosNgRNjD1wTwxV6D9oOGA/hBj////1l/LT55/Q88B3zQ/gr/i4DMwOhBwIO7Q4lD7sM/wWDAdT+ePk49y32X/Es9OH6QP1mA38GgAMwB40KpgfHBLP/xPxY/S7+NQK9BLcF+gocDw4KsArxCt/rSclHuiyvb6lIsA7GvtiL9p0u2FJvXhVpSGMvRK4twBtI6ifG6rmDqIGyl82H3o71Tw9sHdIyR0YbNu4p8yoeHRga8BQlAzQAVv6Y9T3zmOlF2CbWrNWw153s1vFw83QSeyfpLNM4MDQVIbEXUww/+e3pINuOzFzKttML3Njha+k19hoCKQqBEr8V+RhlHF0a9BqUGdgOcAIW/H340u/c6MDm5ujz8ZH6CACSA6MLdxT9FvgWPBFLB4b/Cvxc+Jrxmu0Y7Znuq/dYACYE1ggoDeANiguvC6ECNPre+Q/4APtK/GIARwUSCdUOixM2EAv0W9QnwZm1OLLSseq+qtQd8wEmHE+CYgJrxWJASFgyPx3G7IfJxbQvoUuxW8vR3uv3Pg7XGtwwwUKMN2UvoiR8F8wbIBSdB0MIaQOC+/b3Ue2V3RnYz9IV1Rbnyevz9dMN8h9GMY86ZDQ9JTsamQxa+1brnNpe0UHNfdL04LjoYOxy9qL+HQOfCukQlxGmEp8UyxMAF5wVCwu9ALP6L/WQ7R/oEOk78sP3JvxQBvYO0RTvGd8WHw44DK8DzfjZ9lPy3u0E73vwvPTS/RMCxgdREOIPlQ9ND30EyQDs/0/4DPqR+2f7DgBGAxAH4hHjC7/pCNETwF62AbzGv7XJl9yN/TUuAFK0XxNiPFM/NrMpjBWs5b7LrbbFpcW+cNhc5Tn70Q1LF0kxI0AZMTYt9CAFGHAhOBYoCUEJkQHn+X78kO7K3N3ectWM1eHoyOjD8HgKBRpYJvcy+yzgHy8e0g8q/7n0GeLY15bVdthn4QLmyeaq72722/X3AukMkAyYFr0bKhlzIt8iyhCyBqH9d+/R6x7oo+SV7gL0XPaNBMUOZxN/GEMSlgsmDlUGvf3P+/zyifBF9Ovy2vPb+ff8pgL3CksLpg1ICz8GUgcTASz9ofwo+uP76P80AXsG1woR9Y3Y0caBuh+73r+Dytbdl/RAHjpLmVsaXxpaCzxVI0Aa6vXE0A7COqshsebSgujK/M8NCBTBIgs6FDeuLckjiBE7Fg8VHQ2tEiQLOfsb+mH24eTi4ajZH8y224TnzOsnAxIYmyMwMcoz9CgBIUEVxAHa80nhddPa1KjU497b69/pcOwf+Ez6gP7bDWMNRw5QHOIcgh8AJ7Ya2gklAZTz6ekK5ljfquLq7NvxfP0zDEoT7ByIHGYUhBYgEY4Fyf6T83/qTewU7MPq6fQM+sv80QmqDxUTBBYcEe8KZQMx/6j84frW+Oj24/g0/UMCHvGS0mnC4LtEuwfBCNAq4En34yJUScxbKWZSXVc+BytbHkL7RtuxxmirtK2Yy+vd9fD8AjkKlhl2Mko6xDPVKIEbQx1EGuoVxxxWEAP+LPxa8rTiNua52pDFV9IU37Xkz/5qE5sa1SqhMH0piCgkHdoKVvwR6N7bGN2W2MzcbebS3tXjqPOE87z5Sgj2B5oOyR/nIB0l+yk+HCwP0AXe987t4+Rj29jgnepr8af//woLFKgeRB8IGtIX0w6DAvX4WuvR5CTnduYk6Wn0nfuGA98R8RdMGQMbNBfeDNIFSgFk+ST3VvUY8ULyiPmJ9i/h6MqLu1S3Cr7Sy23cc+2DC3s0HFO+Y+NoJlW0NjUl0g0U67HTILvXpNuy0M0t4Wf5wQpcEc8i9zYwOC81ACy/HzEddRjQGFoahw0L/qb1W+ah257dps8Fx7XT6dtQ608JsRqWJCA0FDRMLeMqLRxICBr3zuM92E/Xcdb/2evbHtqE5Y3xdfWf/5oJxg1CGbYkRCYEKgIp4hqPDooD/PTr6KXe1thW3HDnKvN9/JQG6hFrHN0hhiM4HjYRFgaI+o/vwer65rriOuOA6hH2EwTWEJAWHRlpGZIVOhK+C/cDFf3W9uDyUvJj9Wjrn9fEw8ay+rEBwJ/UleV6+tAZrzuTWRVmql+CR54sGRlNAEbowNTzvqW0V8Ic193ptfxeBEIJ5hmOJIQm6SqNJ2ok5iXxJBonwCcBHdAJafZ14I/V99GDxSnCy8SlzWXpuAhJHHgpfDHfLukw0y8wH6gMq/en5R3g1uCR4ZPgv9uO2mzjZ+vx8c35Fv6WBZoTXB9QJyMtUSpOIE0U3gas+6HxyOdR4NvdNOJ869D3PQKaCusSLBn4HEEd3hjeDZ4AAPdI70vpNeUd5M7oQPK8/m4JMw/0Eq8U5BQlE4sPwAloAiD9KPmk9gjqpNJuvkqww6+WvbPRGeOS9lYTozGjTexb0FcvRpsxyyMREpD9LOqW0tnD08lL2KDkc/DY9B/1kQNYFIMa8x8rIdQi4CkBL6sxiC9qJ5kYUAZe8szivdl/zV/GVcXmyIjcnPXPBq4SGBosHeshSyfuIZMUJgf7+hn37/mS+iHzX+d94ELey+Gy5rnmVuce7yr8OwurHCsoxSujKowiqBdWDtkFRvuM717lft+d4YnpMPPf+1UC3QgTEBAXrxr/F/UR5gjT/6/4mPBF7O3rrOyt8Er3c/6zBR8NMxHdEIYQRw94DUYKHQbEAKjtsdTvv6GuhK3qvNLOb93A8g4OQir0Rr1T6ExOPkkxciWmFb0EOfMd4d7aAOKq5r7q9e7B7CDtR/eE/qP/DwjuDzEY+SRGLM4vYjL1MWEnvBb3Be/1vemB31jW4swZzGvXQeUp89H97AEIBmsOCBP7EkISeQ76ChoM4A2qC/oFp/2z8ljpN+Vr4u/fYOIu6PntdfkqCX0UQR55I+sfZRusGEIU0g6nB0n8ufKy7HLosumz7SXv8PFX+LT+dgdZEfQVgROGDvMJtAQkAzEBtPmB87Ty2PVv+3gCQQaNBkoIHQpuCQUIoQa1/jPrydRzwVezzLjZyx3Z6+cZ+6UNHSdJQHZFdTrdL9sjRRomFfEGTPeN7wDxNvfa+KT46PPO7xXyofF97A7sUPTu/NAJRxYGGosjKzBoMq0seSG3ESQHfwJT+mjtaOHs3SziLunv7Yrs0ur57zf4x/sb/RD+BwDFB7EOuw+nDu0M/QtKCiYE0Pul9AnyMPRx9Gry/vJg97b/IQn0DDoKJghjCVoNmBHEDgsHdv/++a764/to+Kj0T/JY8pr3I/99AmYDsQWBBiAIqgv2CgIH6AOrAbL/9/8rAdn+xfwG/hD/of92AXcACvj66v/c3842x2/NF9f73XbpwfXpA6kZKS0vMX4sTimFIkseGBsgDjYBQP1MALIC8wOdAp/76/rp/UL5RPBD6nPo1utb9xv/UAGxCv0VLh1HIqMgtBc1EtUQWws2BGz+Ofli+FD79fiy8dHtfOyW623r/ehF5d/nLPAb9vr5Nv0SAAEHrA+TEpsQjg4hDYINiQ3WCCICyP6v/rv+qv9J/w39wv5MAjUD+wEuAcn/tf2E/oz9X/vH+yb8Pv0Q/t/+nf/S/zkBXQI/AxADAgRqBvkGnQdwBloEeQM4An4B8f58+/D49fLJ6LnfwdamzrfTn90o4KHnW/Jf+c4Ilxq3GrwVDBjZFZ0VWxpUFawMRw5yFNEWahjCFZ4NyApMDAYHIPu+8mPtmuqc73jyxO8N9Mn9JgN2B3UKVgaCBKMIggjoBEcEzgR9BgEMCA4lCbgGzgevBAT/efly8IvqjewT7MLnIuh661vvS/f//NH79ft3AEUF4gc+CI8GLwbUCo4PHxA7DhIMYgttDNYMEAkuBJMB1f99ALcANv31+bj53/oH+3H6ZPgO9gb3avmb+i773PwJ/3kBLAVJB8UHwAjyCZwJZwc0BXkBqPqO8rvqHuFR24XeNd5e2+ffQeT36GP2JADr/ecA+QdzCboPhBRfDxcP7RdMHtEhyCQeIo8gqyWpJlwdVREeCAcB+f6s/S70nemZ6R/vVvM19jzxU+r17Xj03/af9srzgPPH/LYIpAzKDFQMxgx4EaQTcw6tBfD/9f62/pr8Rfct8gPzm/dG+Z/3WfWr8w32Kfsz+4D3Evit+50AfweZCa8HowncDYUPPg//DYoKtQkeDGsK0wY8BVoExQPzAgMA+/pN+Iz4oPeL9VrzgfLL9P/3sPm7+db6if3IAEEDrQHG/rT9KPtM9jHx4unf5eLo9enk6CTrpe7v8qP85wEN/oj/tQQ5CO0MhA0gCX8KBRMDGcoaXRneFSEYrh75HsgXsw7ZCSUKDwvzB4L+Pfbd96b9Pf6r+cbybO4o8gn4a/bY8PPtXPA5+VIASP8//DD9IQLeB9IIbQPZ/Qr+/QGxBNMCEf74/FL/YgKRAwwAv/ty+xn+Bv/S/eb7pPrp/EkA2wD+/8j/BAHJA9cFIQVOA7kDmwUzB/kH+wbmBd0Gegh2COoGhQRCAioBSgDT/WH7A/rA+OD4nfmx+Bz4Fvkl+RX5fPgH9lrx7O2z7OTo8eiT6mfoF+oS8IP0t/el/Un+Hf0MBKYHbAftCcQJsgl/EDwXzRcIGIwZehoLHXse0BlEEl8Oqw4FDS0IBwSg/uf7IACgAE/7tPcj9Rb0EPbO9Xfwie078Gfzdfe7+RL4kfht/KIAwQHa/0r9jvyb/tYAhwGG/zD/1gHmBEcHMAZIBIQDXQQGBbEDmwGu/gv/WAH0AQsC8gAZALoBwANJAy8CLgFeAM8B5gJFAggCxAGjAjIEuwNLAz4COAHuAYkBVgD0/hD+kv2O/ZP9NPwz+1z6p/hI9+n0fe+07Ejqx+aR6LjnbufA66PvkfQ695r6SvxI/q0EBAbqBhEJPgoJD74TMRb0FlcXPhrDG8cbJRqFFf4SjhHvDz0N+AdQBd8D/AEUAkj/K/q89232ofS981HxUe4P7w/xY/Mc9t32BPce+RT8a/14/Yr8Ovsg/Ab+D/+6/uD+EADFATIEzwSFBPMDfQS8BYoF6wQ/A4wCZAO6A4EDGQN0Ah8DrwTWBCkESAPpAmMDUwQBBJUCSQJdArgCKQMDAncAtv8jAJ3/+/0N/Qj8V/yb/T/9pPuT+fz4j/g19tbyvuyn6HTnieiB6ZjoL+pW7Irywvif+jH9Nf4nAX0GkgjaCXYKfgwbEucVFBdWF3UWPBfLGFIXxxJdDvcKpwiYCNIFFgIzAGj+BP/F/mj8xvlj98D2h/f395b3ufcs+RP8TP8dAfEAlAC1AF8B0wFMAKj+2/3//D7+O/7N+wX7E/sh+6z72Pvt+UX67PuL/E3+//30/MP+WwD8AaED5QJ4A5oFLge4CMQIXAcHBxwIgQjqBzwHPgXlBLIFEAWwA3wBkf9u/on+n/1A+5X5tvi/+Mv5Xflw+EL3aPY6+Kv1KvGN7S/nfuVF6KToEOn07ADxqvab/7cCOAMRB1MIhQthD5sOng8YEukUNhi8GJcX3hXbFHQT3A83DIkHSATdArsAkf5q/Hr6CPr2+fr4EfjA9rX2zffI+Yb7Wfw6/vD/PAJvBFsEVgTUA/8CrQPGAj4BrwAL/y3+m/2N+3/5H/h998b2Dvdp93T3n/l9+2v8Ov4G/1QA8QJJBH8FTAb4BkYIcAmICQ4IogZfBTwFUAXIA1oCDQFCAFsAnP/N/fz70vpo+pb6j/ro+RL6Bfsm/G39Mv6C/p3/uwA/AUQBowCjABcA/f4m/cr6D/k2+JH4CfhH93H3iPe1+Az6wvma+cX5evrX+/D8zP3L/rQArwItBVMHUQivCX4KMgtCDF0M/gugCyML8QrwCo8KpQnjCDoIFQcZBqkErAJmAToAD/8y/iP9kPw//CT8/vte+w77svp1+hn6iflm+UL5afn5+e35NPrK+hr7OfyR/Iv81fwK/cf9gP4t/2b/1f/vAOQBfQLfAsgCNAPzAwsEUAQKBKgD5QM2BGMEawTzA2IDJQPBAiMCZQGeAM3/yf+u/1T/U//j/tf+B//N/oX+Kv69/fP9PP4L/kT+X/58/sn+yP63/ov+hf4W/nP9If1Q/P77qvvl+rT6Yvoc+jP6O/of+jD6nvoZ+8D7cPzN/H39WP5J/1MA9gCEAUMCFAPsA7sEPwWkBQwGswZXB40HogeJB6YHygeeB2sHxwY9BisG3wVOBaUE2AMvA9QCfQLSASMBowA1AAYAmv8E/5P+Dv7S/Xj91Pxn/PX7q/tf+/j6ofpG+iD6EvoB+vH53vkZ+oj6yfon+6r7GvzS/Kv9Xf7+/qH/TQD7AL4BTgK0AvYCTgPXAx0EJgQDBNIDtQOfA2AD8QKEAjkCDQLjAZQBRgETAdAApgB1ABcA1v+O/0b/K/8g//n+rP52/kT+Ef7P/T39t/xV/PP7n/s3+8n6lfqg+q76sfq/+tn6N/vD+xL8cvz9/J79Vf4P/83/gABAAfsBrwJCA7oDHwSEBOsEQwWTBc8F6QX+BRkGCgbxBb4FVQUJBeQEpwRhBB0E3wOTA10DFwOeAhoCkgEGAY8ANACw/1L//P6c/lD+/P2m/Ub93/xx/Bn8y/uo+5n7gvt8+4X7u/sD/Ez8ivzP/CX9gf3t/V3+s/4G/3f/2v84AI0AvQD9AE0BaAGaAdIB3gH1AQsCGAIcAhwCDQIGAu0B2gG/AZ8BfwFcAUABAgHeAMAAkABeACkA4f+n/2D/A/+0/lv+6v1u/f/8jvwy/NX7fPtJ+yz7I/tI+1D7Zvu3+xH8fPzN/Cf9s/1v/ib/0f+JADQB3wGVAicDgwPJA/sDOwR2BIkEoQS5BMAE0ATqBM0EpgR3BDQEBAS+A3cDMgP2AsoCmQJXAgwCxwGOATABygCDACcA2v+E/y3/2f6A/iL+y/12/R791fyS/Gj8SvxC/D78RfxZ/Hf8ovzG/AH9T/2O/cb9OP6V/uT+Uf+i////VACgAOkAJAFHAW8BjwGZAZ4BpQG6AbABmwGAAXYBZQFXAU0BMwEuARUB8wDQAKwAfgBIABkAAADc/7L/h/8+/w//2f5+/iT+v/1N/fX8ovxO/AT80fu/+8H7x/vS+/37OfyI/Oj8Tf3S/Wj++/6j/0EA2wBvAfABaQLTAjoDlgPqA04EmASzBNgE6gTcBNEEvASFBFAELQT8A9QDogN7Az4D+wLBAngCKALQAXYBKAHjAH4ANgDr/4j/Jv/H/mn+/v2t/WP9Ef3F/Jz8evxU/Ej8QPw4/En8YvyB/LD88vw+/Zn98/1Q/qr+Av9l/6f/7v82AHcAwwDyACUBZgGTAbIBzAHhAecB+QH3AewB1wHBAbQBoAGDAWYBQgESAfMAzgCoAFwAKwAFANX/oP9e/zn/AP+8/nP+DP6g/Ub99/y3/HT8P/wl/BL8FPwi/CT8Svx9/Mf8Kf1w/ev9cP4B/63/KAClABsBhwHtATsChgLVAigDbAOoA90D/wMJBBsEFgQABPYD5gPXA8EDtAOdA5IDbAMyA/QCtQJtAh4C5AGMAUUB8wCgAEkA8v+b/zT/zf5m/gv+uP1z/Tn9Cf3b/L/8nvyB/ID8j/ya/Kf81vwI/UL9gv3L/Qj+U/6s/vv+Qv+O/+H/IwBuAKgA0wAEATABWAF/AYgBjAGZAZwBmQGWAYQBagFTATABGAECAe0AxwCjAIgAXwArAAcA6v++/5//ev9G/xX/6f6q/kz+/P24/Wj9Hf3i/K/8lfyK/IL8hPyU/L784/wU/U/9of0T/oD+/f6C//r/ewD5AF4BvgETAl4CtQL+AjwDfAOyA+gDAwQFBBgECwT7A/sD5QPOA7gDpgOEA0wDGAPhApcCUQIJArkBYQEpAeQAjwA3ANj/fP8j/9P+dP4b/s39kv1I/Rr99fzJ/J38jvyS/Jj8pPyz/OD8Dv1L/Yv90f0f/nn+yP4j/23/uv8XAFgAnADRAAoBQQFtAY0BpQHCAcgBxwHAAbUBugGfAY0BdwFiAUIBFAEBAdAAmgB/AGQAMAD7/9T/vP+X/3D/Ov8E/87+kP5R/gD+w/17/UX9Fv3o/NP8xfyz/LX8v/zP/AX9OP11/bD9Df6C/v7+cP/W/z0ArgAPAWABwgECAlcCtALwAiADWwOSA7gD0wPUA+QD8QPjA9MDxAOnA5EDdAM7AwoD1gKTAkUC/QG2AWcBKQHmAKAAWwAJALf/bv8f/8n+gP45/vb9vv2Q/Wr9Mf0C/e38zPy8/L78wPzf/Pn8IP1O/YP9w/0O/lz+m/7r/j3/mf/Z/xkAXQCZANgABAEtAVYBdwGFAagBswGzAbgBnwGSAYYBcQFYATIBDgHyANMAtwCRAHEAUAAwAAQA4v/L/6P/f/9S/yf//P7B/n7+Rf4I/s/9k/1d/Tn9JP0j/Rn9Ef0Z/Tz9b/2g/dP9Gf55/uD+Tv++/xkAdwDkADwBkQHQAQoCUwKRAs0CDAMrAzsDaQNyA2oDbgNvA2EDTgNNAzYDGAMEA9UClQJuAjkC/wHDAXgBOwH5AL0AeQAwAPP/pv9h/xn/y/6R/lT+Ef7g/bb9e/1O/S/9F/0K/ff87Pz3/Bj9Qf1g/Yz9yf0J/kr+hP7S/iD/YP+i//D/MABvAMIA7gAQATgBYgGAAZIBrAGxAb0BwgG1AaMBiAFwAVwBNQEKAecAuwCiAHwARwAkABEA8v++/5z/gf9u/1b/Of8Q/+j+tf6O/mL+Jv71/bn9jP1x/W79Yf1d/WP9Z/18/aH9w/0A/kH+c/7Q/jz/of/3/10ArAD/AFUBkAHKARkCXQKSAs0C5wIBAx4DKwMhAycDIgMbAxADDQP0At0CxQKqAogCRAIgAvQByQGUAWEBMwEIAdAAlABSABwA1/+V/17/Ev/Y/pv+Vv4Q/uH9sv2Q/WL9Of0m/Rr9HP0g/Sb9M/1W/Yj9sf3a/Q/+R/6L/sj+Af9A/4f/yv8GAEIAbgCkAMwA8gAsATsBUwF7AYsBigGHAYUBggFxAWABSAE4ASwBCgHxANgAtgClAIQAUwBBABMA8f/c/7L/lP9v/0n/HP/p/rL+bv48/g7+3P3B/aD9fv18/YD9df1t/ZD9s/3a/SX+bP6u/gv/c/+x/wkAYgC6AAUBWQGeAdkBJQJdApQCsQLgAssCTgPYAn4CHAOmAt8CIgP1AuAC7QLUAqsCmQJaAiYC5gGxAVgB/AC9AFwACADu/4j/LP8P/7b+av4//vH9pP2G/U39Jv0f/QX9B/39/Bj9MP1D/Xz9tP39/Sv+ev68/gr/TP+X/+3/LwCjAMkANgFeAXIB7AHJAeEBKgLeAVgCQAL+ATgCwwG4AcMBlQFYAZgBnQBuAb4AI//2AIv/qv/xAOz/s/+4/0f/KP9Q/3X+J/90/nT8Af01+136Efwo+w37t/sc+hH77Pt2+sr7l/tJ+3n9+f2h/in/DP97ADQBpALFAzUEcQVtBcQGNge9BmwHXAdqB+wHsweCBxkHygXjBVUFgQRaBN0CWwJCAWIAZAC+/gv+TP2O/G/8vPst+/T6Tvow+lj68fkN+lr5SPrM+qD6DPw2/Hf8lf2i/oL/YABvAIYBRAKsAuEDwwO8A5sDYgQTBZoELASuA3MDngOVA4sDbAKeAS8CLQLZAWIBKQAbANAAwQB9AA0A9P49/pr/Kv9l/6L+e/+//vr9x/2M/Vj8NP3w/HX7fAHb8x/1SvXW6U331vrZ8gv3m/Lg7Pj5bvXI9gT94/dW/64EfwMJAwQB0AcqC9QOxBWOEHkROBLUETMVQBSvEa8T5xHgDwkPewsqB5IC/gNaAzwBmf+7+fb1t/Xj8r/1kPTm70TyDvJS8rry6PG78cDzPfe1+Uj9/fp0+A3+9/7eAAAHNgU/BFMHVwZsCTQJrAXWCCQJqwi0CcwF7gI+AnYCjAUbA34Aav+l/ur+1/6N/gL9uPw+/o7/aP+h/fD8O/5w/jQBNgIUABj//f4MAPoB/gHw/vwAI/3k/Qv/cfs3/vH2sAJ5+NvrBPN55R3sKPxe9tXtg/Ao4wjv//op9CL+cvoZ/B8GcwWwB7wEngiRFkEWlRw2GxcTERZHGUwZvx1XGkIUIRUYEDcMMwrqBp0AiwAEAKb8BPhG8qjscO0Y78nvzfE27T7rIeyt7sDxnvIg9Jb46Pga/b7/TP5S/4gAKwX8CdwK6ghMCWMG+QZWC+oKXQhZBsUGhQafBMMC6P/V/v7/2wHoAVj+xvoE/Jv9Vf7r/4z+bP48/sH/ygBDAXAATADlAvICxgG9AJH/ZACdAB8DqwGx/Sf8zfoK+0n7MvwV9xgGL/LY5gDwg9yT7TsDGPkd7ObqndsN8O/+MftVAxL6kP1xB3QIYgnBBdUMpCAQHdAeiBseDR0UFR/2HXohSxvqDiIPoAvcBnYHrQYuAA/+2fuw9k3wKewE62HusPEP8+TvPukh6EDrpPOH+Vr4XPgG+rb66P07AXoCCgK1BUUJRwkACHcEAgRCB9cJvQudCmgD4f/BAtAElQQjA3f/Gv5m/8cAqv8f/bT7cP0EAq8Bgf96/Qb+WwD3AkcG5wIg/3z/8wG2A4IDuwEGAXr/DwCiAaf+lPyE+UP8NPtM/QX1pP+f+ibiyu6/4rPlrv4MAa3p6+XN3VzkaAJSANQB7vmS+LQCygekCy0LTwruHV0iUBmOGqcRgBIXI/ckVSDqG+4N4Qz5DR4NMQoQBzkC6/x095j1O/Fk7BPvW+9l8A/v8+sX5RLoiO2Y84j6avnE9KL0rvlV/aYF1Qb6A68GDAZvBtAKFQv+CLAJCw01CscG0AXT/6kExQgHBUMDI/ud+Oj8dgIkAff9hfqr+DT+pv4Z/0X9Bf7//4gCGgHrAMn9qP6TBS8FsgQnAcr+xv1gAt4D2QTg/5b8W/uT+z382/7g+F4A9AJ45hHtpOYb5KX9Qwg57/jifODr35v/xAN8AeP42PPZ/akF9Aj0Cq4IVhZ/IVkT4xVYEBQPeyJOKHQePRp7DWUHjhAoEMQPSQvUAkn9Off/9Q727vCs8Zjz6vFO77Drb+YA6VjwOPYo+of36vJK8sX4av1oA3oGLATgAaEBRAXxBrQJAgxeCeYHOQh4BUUEqAPCBb0HmgTlABT8ZftK/lUCoQGQ/Un7T/oX/QD/xv5E/c3+zABY/9j+IQCN/nIAawOSBHIAwf79/yX/qwTPApwAYP83/TT61gDU/oX8Afv9AO8AxOdl7ivoiOikAPkGIe5D4uHfC+FoAUEGjQG+90LzLvoxASYLJw3vCQkWZRx/D+wSwhAFEdIipSaCGqcW8wv9BQQSnxJuECgLzQHb+1v20fZ1+Sv2WPT48/vt2+um6k/pou4D9Pr0+/VF8inuZ/NB+2YBoATqAXT/+/7CAFQItQnmCpMKMgmWCPoGfwcOB/0HQQmKCf4ELwDw/dX+9AITBd4BIP5y+af5s/3SACMAQf6R/Qj9d/56/rIA7P5xAdgBzgO+AUP+H/8UAHgESQP8AVT+8vys+97/7P33/db3JQKu/f3lIPDX5v7sTALEAI7o3+FT38np4QaGAmn9kvK/8Rb9ogWLDcMNtwlnFfAZSgw7E+wUtxWkJm4kJxaPEoAK/gvPF6gUuw6lB7j9vPpo+HD6pvv/9JTzuvGf6/DqXOyX6/jxLfRv84HzJO418Aj4s/67AnMDSP3O+7z/vwRMCpsN5QntBOYFigYTCKAJpgqaBpoG8QXRAWIA0/9DAfsEggQt/wL7ePlR/AYBoAN8AHP8a/t4/rr/UwGcAfX/QwHgAVgCtQD3/goATwO9BCECD/+R/Gv8i/56AAb9yvy29vf+Lf6J6YLu4uhg7dH+oQCv6pDgQ+Ii62AD0wTR/DPw/PL0/PQGQA4GDW0JWBKbGEQP1BMnFBEXyyN+I3YXtRDYC4sMgxdvFdQOPAYi/Mz69vpd/Fn8GPfX8Lzvqex27HnuFe478QDzGPJ48XPwovAF+Br/5wJlAVX9Jvw8/REFuAwQDS8KCgZCAngG9wmJCwoMcwc5BbMEmQLRAboBMQJABZsChf6y+hv5A/38Ae0CIv8Z+9r5xvw3AFoCbwFoAOz+bf8yAfYApAApAU4CcQKcACj/rf00/sn+sv8a/sP8CPlW/6n9uet971nqgu9x/yD/Ce284r/jGeyYA7sEx/yO8jbzP/wZByoO/gt5CqoQDxVoD1ATARNkFj0iECCAFZ4QjwomDJQWeBScDV8FGfw/+qL7IP0B/bb2tfGc7/XrnO3075fuPvLT8oHwAPK38PHxivmU/g4BXwGQ/Sv83/5uBe4KVgxfCbwGJASoBSQKZwrhCqQIfwabBKwBMQFjArICGQXbAy79YPpR+if8gwFuAxj/I/yp+fb7iQBvAbkCowCg/hgAlQGbAVsC+wDFAscDaAD9/rb/mv50/VkBoP1v+o/60wGz9MzsG/DD54v1NwD89w7nFeUt45Pz4wU6AAH5XfFk9Q3+pwlMDbcKSAuLE9gQOw5SFA8SlhtvI38aDhHcDeEKsxHtGOcQXQocAmX8jvyR/GL+cfsP94vzk+5D7A7vs+9e8if0lvKu8nPxAfEb9Az7W//gAs7/rPsG/MD+VAgADdYLpQfUA1ADTQf6C6wMrQpeBiEEpgLOARsD8QMRA1cEwgDC+xz7FPuH/lECqQIs/dj5qfkc/ckBsgJuAe39yv02AIwC1gJOAA3//AHIAcQAdf/r/T78lf3s/s39uvqr+0sAnPD87bDsc+uB+bkAXfVl54/l/eVL+/MFXwHE+LDz9vihAR4LaQ3KCnMNlRRQD14QWBJkEsIdtSDlF5UQ+AtZCTYSRxVADngJNwDP+4X7ivtK/OH58PaA80/uvuy87unuk/JT9dfxufKN8WHxAPdH+1P/igHv/2r8Vv2tAFsGdgu2DH0HCgQ/BNwFCAuQDPEJ9QVcBMYCIALAAg8DvwLaAi4BKfyP+nv7E/4jAhQCcv01++X7pvyYABYDgQA3/3QA5AAgAfEB+v+FAC8CzwEWAYr/Wv3r+wr+3P67/dX6JQET9v7sd+8K6SvzJf+i/IPsJue24mnvsQKmBPv+BfXK9en6qwYlDUQNyQvgEmoRPw2VEpQQGRhOIfgcoRNKDoUI+wsDFGUR9AxBBdT8XfpJ+Yb7J/tZ+Fb2evBP7VPt1+6v75f1PfVo87Tzm/Co84L40/6WAFQCUf/r+wH+fwJLB6oL1gs8BnID5gL+BoIKQQuXCG0ETQJtAk8C1QIAA9cCQwM9ANn76vn8+03/JAT9AkT99/qf+sD92gMiBB0B+v+e/igAoAEyAr8B0f/tAP0Awf4K/6P89ft6/i3/a/s8AJn39+vU7snpifEY/Ff82e4C6MnjFe3y//oD3AGD91P3+PnCBLUMcw1ADUIRPxObDowSCxEiFusd8RwsFp8PMAqwCecPDQ9iDegGmv9S+yr4Z/my+Vr46fYh9JvvRO7p7cPurfMz9hT24/Wk8ujyl/fF/C4BeAKfASz/if6NAJgDIQidC+kJpwZ7BIcC6gQ4Ce0HEgehBDsBmQEfAYUBVAFMAWoAvv7D+077r/1fAJ8DHwKl/hT8Tfyl/+wC3AO/ArUAwwDuAdQB9wGZ/3z+bgBP/6X/gf41/B78hv6z/SwAh/zK7kzsTukz7vD44f3r9HzrfOYk6cH4HgEvA+z8Afpu+vv+GggbDMoMuRBOE38PwBFHEgMRvxdPGg4XgxQaEAwK0Ak1CmwJ8AlaBn0AnPmt9u31D/dt+d/35/KR7zzub+418n70r/XI9pD3Nfc1+Fj5wfvz/k0BhgPoAhACAwHCAvQErQflCfcIpwayBAkExQOuBQMGbAXHA1wBMADl/9P/6wB4AUT/Ff71/av+dv+f/+D+ov9VAIABJwG0/4D/0/9VApQDWgJOALv+EP1+/if/0P98AGD/hf3q/Mv7kf5u/1/2h/G37K3sR/S7+pL2IvCl61jr//W0/YEAdP1B+lb7kf9zBb4J5QmcCscNlw7yEVsUVhIqE78TXhIxFMYTBhGSDZYI9gVPBkQG7AWJAT37zPgw9lL3QPkY9nbzt/Fj7+PxdPQZ9JX0NfUD9hj41foL/ML7R/ss/kP/8QC1A8sC8AIqBGoF+gaICDUIegd2BcIEvgVQBg0HRAUsA3UCPAKFAtgCkQC3/or/IABaAZ4AR/4M/tb9mP98AOn/g/8s/6f/0/+8/yb+i/33/Fb9Nv7g/tv+hP5K/i3+dP4OAOD8tfVv8gzvcfAI9gL5AvZt81zx+vFU96H7mv1e/dX+Xf/bALsDiAVNBtgIXArVC14QuREdEtcRJA9kDdsOqxAkEVgPmAriBhEFngXPBXUDswBW/ZP6t/r7+t34Uvf59CTz+/RH9q/2BvcJ9qj02PUZ+Cb66ftN+2z6S/rp+yX+yP+DAF8AhwA1AtEEBAZSBmkF/QSmBdYGQgfABjwGcQV/BXEFAAXlA+wCcwIpAnUCKQKlAbkABgBD/8v+Qv9R/zr/pP7//fn8nPw//OX7tPst+zT7Rvvw+4L8LP12/Wf9vv0p/fb7tvpI+Xr4JvnX+vj7r/x0/EL8uPy9/RT/bP9P/xP/Lf/0/8oBIQNsAyMDygKiA3oFcAdjCOEHlwYRBnMGBAchBxMGBgWXBJ0EiQQeBHUD8QKRAgECRwGIAEQALABQABkArv8p/9H+gf4e/vv9+f0y/vX9cP1X/Ib72vtD/NX8TP0s/cb8qfye/Mf8cv3W/QT+Av7Q/eP9cf5w/wQAUwB7AIcA8QB+Ab8BzwEQAkACogLLApgCMgI3ApQC2ALxAm8ClwH6APIADwF4AUUBggDD/xz/8/4+/6n/x/+H/53+/P0M/qj+R/9a//T+aP5Y/gb/6v8/ABMAn/9C/yH/LP/+/rH+df4l/u/90v20/X79ef1R/Sf9UP11/aL9y/3q/Qr+Pv6e/hr/av+p/woAawD5AL8BGwJgApgCmAKXAssCXAP4A2YEWwQJBHYDZgPBAxYENQTYA0cDygKXAoUCmQKaAmkC8QGCATEB4gDIALgAYADg/2n/BP/J/q3+bv4Z/tf9qP2K/Xr9Vv0F/c380PwM/TD9Qv1H/Rz9/fwy/YH93v07/lP+WP5h/p/+7v4p/1j/av+E/7v/9/8DABwALgAkAFUAlgDRAPkAHwEzASIBNQFtAZ4ByQHiAdcBwgHcAd0ByAHLAbcBnwGJAX4BWgFHAUIBPQEkAekAowBvAE4AKAANAPn/2f+//5j/V/8o//T+1P6j/nz+TP4S/sv9j/1q/Wf9ov21/a79kv2F/ar99P1L/nb+iv66/uj+Iv+A/+n/SACNAMIA2QD3AFABswHUAcwByAHJAfkBNQIlAgMC8QH+ARICHAISAuEBwAGuAaMBlwGVAYoBYgEnAesAxgDKANsAswBrACEACAAFAO//x/99/zr/IP80/zj/IP/y/tf+v/64/sX+y/7N/tf+3P7H/tj+9/46/03/Sv9G/07/dv+e/7P/uP/G/8T/6v/+/wYABgD+////BQAcACYALwAoACAADgAHACIALAAnACAADgD//wUAFgAQAAAAzP+b/5P/ff97/3X/Y/9A/x7/Gf8h/z//Vv9b/1j/Y/9//67/z//k/wAALwBhAHkAngC8ANYA8QAMAS4BTAFeAUsBMQErASoBOgE/ASoBDQHwAOcA1gDHAMsAuQCfAIsAegBwAGwAYQBVAD0AJAAQAP7/7//Z/8n/sv+h/4f/av9Y/0T/NP8u/y//Ev/5/uT+5v7q/tz+5v7m/ur+7f79/gT/Av8P/yn/R/9h/3f/mv++/9j/BQAgAD8ATwBrAIEAjACrAMMAxAC7ALoAtgC3ALsAxgC9ALUAogCVAJQAmwCKAGMASwA4ADwANwAxABwAEAD+/+b/7f/z//b/6f/F/7L/uP/A/8X/vv/C/7P/qf+t/7b/wP+t/6b/r/+5/7D/sP+v/5n/pv+z/7D/sv+0/8f/zf/O/9f/6f/7//r/AAALAAMAEgAoACMALgA5AEUAQwBGAFYAWgBkAG8AdgB1AHIAZQBrAHIAbwBzAGQAUgBVAGYAZwBXAEQAQgA3ADQAQAArABUADQARAAwABAD5/+X/5P/R/7r/t/+x/67/rv+n/6X/pP+i/5//lf+M/5P/ov+t/7L/qv+l/6v/s//F/8r/0//R/87/2v/l/wQAEQALAPj/AAAJAAsAEgAKAAsAAAD8//7/BQAFAAIA+v/z//L///8GAP7/8v/1/wMADAASABUAHgARAB0AKwAzADUAMgA3ADMAQwBSAFgAWQBgAFcAXQBdAGsAawBbAFoAUgBkAF8AXwBhAFAATwBMAEUAOAArABcABwADAPf/6v/W/9H/yP/A/7r/sf+q/5L/k/+Q/47/i/+G/4j/hv+K/3//hf+Q/5v/n/+i/6n/t//Q/8//3P/t//L/9P/0/wAACAASABsAHgATABQAIAAOAAwAGgATABIADQAAAAEABQAIAAoAAwAJAAcABgAiACAAGQAVABwAJQAjADEAKwAkACUAKgAfABgAHAAZABgAFAAVABAADAAFAPr/BAD8/wAABwD7/wAA/v/0/+z//P/7////AwD+/wQA/v/5//P/+f/6//7/+v/9/wAA/f/+/wYACwAFAAgACQAQABYAKgAmAB4AJgAjAB0AIAAfABUAIAAOAAkADwASAAkABQAIAP////8AAP7/8P/y/+H/3//l/+b/7f/r/+X/5f/t/9b/1v/e/9f/2P/g/9v/1//g/9z/1f/Y/97/w/+//9H/zP/K/9T/2P/Z/93/1//g/+j/8v/y//X/AQACAA0AEAATABcAHQAnADIAPQA7AEMASABIAE0ARwBGAEEAOgA2ADUAMgAvADUANAArABYAGQAlAB8AGgAOAAcACQAMAAAA6v/w//T/4v/e/97/4v/j/9r/2P/c/8z/w//J/8f/y//Z/+T/3f/n//T/9P/0//P/+v/4//j/AAAJABAAFwAfAB4AEQAPACcAFQANABQAEQAQABEAEQD6//r/+/8AAP7/8f/x//n/+//t//v/9v/j//D/+//5//L//v/9//b//v////f/+f8CAAMABgAKABAAGQAOAAgAGQALABUAEQABAAsABQABAPj/BAD3//H/9v/l/+P/2f/m/+b/3P/f/+P/4//j/+D/4f/i/+X/8P/x////AAAHAAcACwAOABUAHwAUACUAGgAeACcAGwAbAB0AIAAgAB4AHAAeABAADAAOAA4AAAAAAAsAAwACAP//AQALAP//9//6//j/8//t//j/8v/z//n/8f/9/wUA/P/0//7/BgADAPv//P8CAAAAAgADAP7/AAAIAAUABQD+//X////5//j/BQD///b/CAARAAUA/f/8//b//v/1/+r/8v/t//j/9f/u/+X/5f/r//T/8f/o/+3/6f/x//H/9v/+//3/AAD8//r////+/wEAAgAEAAoAGQAbABEADQAGAAUA/P8FAAMAAAAHAAcADQAJAAkABQAHAAYABwAKAAkADQAPAAcACwAPAA4AFwAIAAkAEwAUAAoACQAHAAUADwAIABcAFAAHAAIACgANAAAABAACAP7/9f/9/wQAAAD+//3/+P/9//j/7f/v//P/+P/x//v/AQD0//P/9v/p//D/9f/w/+3/6//y/+j/4P/m//f/7//m//T/+v////r/+P/5//f/9v/z/+7/+f/8//D/+P/+//r/8v/9/wkACAAAAAQADAAGABQACgAEAA4ADQARAAcACAAZAAoAAwATAAcAAAD9//3/AQD9//b/8f/o/+v/8v/x//b/9f/v/wAAAQD2/wIAAQAGAAkAFgAZABEADQARABcACQANAAUA/v8DAAwACwAKAAUABQAGAA8AFAAPAA4ADAATABMAHAAVAA8ADQAOAA4ADgADAP3/AgD8//j/9v/8//H/6v/m/+z/7//q//L/8//t//P/+v/3//X//P8BAAIAEQANAAsABwAFAAkA+P/0//r/AgD9//n/CwAKAP///P/7/wIA/v/0//X//v8HAPj//f/6//n/+f/8/wMAAAD9//P//v/9//f/7f/n/+T/5v/l/+j/9P/0////AAAAAAUABwAFAAwADgAQABYAEAAYABUAEwAPABQAEAANABMAGgAbABMAFQALAAoABgD+//7/BgD7//b/9//7/wAA/P////v//f8BAAMA+/8AAPj/8//8//n////+//b//P8JAAQAAAAAAAAADwALAAIABgAHAAwACAAEAAIACwAMAAcABwABAA8ABwAIAAgADQALAAcADAD9/wEA+P/u/+j/8v/7//H/7//x//H/8f/w/+n/7v/f/+H/4//i/+v/5P/g/+b/9f/0/+z/+v8DAAUA///+/wYACgAMAAIAAQANABUAEgAMABEAEwAOAA4ACwAEAAAAAQABAAAA/P8AAP3/BAAKAA4AGgAgABYADgAZABUAEgAPAA4ABgAFAAQAAAAAAAEA/v/9//3///8CAPT/AAAAAPz/9f/u//b/+f/2//H/8v8AAAAA+//5//j///8GAAYA//8EAA4ABQD7//n/+v/8//H/7//0//L/4//p//3/9v/v//H/9P/8//f/9P/8/wwACwD+//z/8/8EAPr/9f8HAAkA/f/+/wgABAAKAAQACgAAAAUAFAARABoAHAAXABAAEQAPAAUAAAAHAAcACgACAAcACwAAAAMA/P/6//j/+/8AAAAAAAABAPv//P8BAAAAAAAGABMACQAFAAAAAgAJAAIA/f8AAAAA+v/5//r/9f/2//T/7v/r/+7/7//k/+n/5P/m//T/5f/r//j/AAAKAAQAEgAJAAsAEAAPAAsA//8AAAEACAABAP//CgARAA4ADQARABAADAANAA8ADQATAAgABAAGAPv//v/1//v/AADz//v//v/+/wIA+//+//v/9v/5//T/9//3//r////0////AQD8//j/+/8DAPD/8f/r/+3/+v8IAAwACQALAAAABQAMAAcAEQANAA8AFgAKAAwA/f8BAAQABwAJAAUAAAD4/wMAAgD+//X/6P/x//T/5//y/+3/9//6//v/9v/4//3/8v8EAAoADQACAAEACQAGAP///f8AAP3/AQD4/wYAEgAFAAMABgADAAQADQATABIAFwAYABsAIwATAA4AEQADAP7/CgD6//f/AQD4//j//v8CAPD/7//y//b/8v/x////8v8BABAACAACAAsABAD5/wsA/v8BAAkABAD//wUA+P/W/+f/4v/Q/8r/yf/c/8f/9//5/7r/4/+8/9T/2v8AAEMANwByAHQAYgBwAHUAcwCQAIYAfQBzAGkAVAA4AC0A9/////z/5//0/+n/wf+2/8L/sf+1/7b/zP+6/7P/wv+n/67/o/+h/57/tf+5/6z/xP++/77/vf/B/77/tv/F/8j/xP/V/9n/5v/4/+//+f/4////DgAlAEAAVgBkAGkAcgBtAGoAZQB3AJQAoACsAKsApACTAIIAgQCHAIAAegB1AG0AbwBLAC0AKwAfACcALQAqADIAJwALAAwAAgDz//X/9v/u/9//0f+7/67/mP96/2P/YP9T/zv/Nv8z/x3/FP8u/zz/Vv9z/3L/h/+J/4n/nP99/2//cP88/+n+o/5c/hL+0/2f/W79Q/0d/Rb9HP0+/X79tv0a/oP+C/+o/0cA9QCmAUoC5gKZAygEqgQZBWMFqgXIBd4FzAWKBUkF9ASDBAsEhQPeAlQCvAEqAaoAIwCt/zP/xf5k/hH+5f3N/a39jP2W/af9vf3o/e79G/5X/o7+xv75/iL/Mf8k/xf/4v6i/n3+HP6//T79yvym+2r6f/mL+G/49vhe+R752fhr+Ln45/mT+1f9vv4qADwBcgLVA4QFPgcXCVwKTwsjDDIMUww0DJ4L/wqlCsgJkAi5Bj8EzQHx/wX/6v2G/BH7M/mg93r3WPdY9+H3D/iz+PX5NvuJ/Lf9v/5fABkCsQMKBcAF3wW5Bd4FbAZ3BoEGUQY4BR0EAwNvAVQA4QAwAQkBuf+r/d37C/tx+5L8jf1H/YL9wvws/cz9dv6P/0YAtgDVAJ3/x/3d+yvy8es6637snvPr+Bj05usP51bmpfDh+ucAuwAU/WX9yP+HBFUL4hBdE8EW2RXKFg4ZeBiHGekYQxbkFaEWWhMHEL8ILQHA/wcBqQKr/9b4S/L27SrtS/H58hDy2PF77kTuj/HZ8yP3g/qK+yL9IP+vAOsDnQSWBIcFmgZaCXYK7gjRBuACMP8MADcAPABgAKT8cvqS+uz6Rvxy/dL9n/65/rj/ngDG/y4BQgKEA8AFIwXHAzQEmgToBcsHSAcqB10GDgSpAu8ByADR/5z/wf5+/RX8k/tr+3X7pfzE/Jv7Qv23+bjtPedf5cPo0vUt/b72nux/5EXmOvQEAl4IwAQy/3b+rgAjB38PSxRQF9UX0RMsE8cUkxb0Gb8YWBMhEdUPOw0CC8sDAP1Y/WkA4gF3/WL0Ku2+6tjuhPVC9q/0T/Ib7u3vJvVG+Nj8pwAhAH//hQA+AlMFkQj1CbwIVgiYCbAIAAf0BQsEOgNmBAcD1/+X/GD45/Ys+B/5Nvop+sj3wPcr+Tv6d/3S/5EA6AEpA2ADzQNTBTIH7Ae9B+sGAwXqBKkFJgV5BIYCZQA1ABUAl/6J/dj8evsu+5r73vtb/Fv91f2x/YT+oADWAWUBTgS3ASz1GO0/653uU/w2Bfn68ewV5K3lYfUOBPsGQADd+eX5y/7SBIMLaQ9jET8TuxBpD7MQZxMGF70WthLqEK0P/wwCC24Ex/5gAJYCjgFi/cj0Xe5V7zry9vX59uXzGPJq8J/wOPVI+CP7KP9h/on97//3AMgEXQkoCOIGGwfxBucHSQhfB5QGIARNA8cD9Pxp9dX0DPeA/JEDZQAy95v0/Pa9/RIGgQhhBJD/D/9jAiUFSQeSB4QEugOGA6QCaAMyA8oCzQNeAlUAr/9D/Jb7XP13+0r7/vvv+nT7Q/uM+uf8Ff8EAKwCyQBu/6sDn/0V8Tvr1enJ76D+GAOe9gzpeeNN6+r6SwfNB9D+1Pnw+xgB8AjsEFQSFRM9EmUOFxChFOIYfxrBFscQYA/bDtcMeAkvAjn/zgF4A1cAefg778jsHfH99dL4DPVy8Cruf+3i8a74Avy+/VH9fflI++H/pQMXCRoKkAUgBfUFqQXZB0kGfgOmAhwCXwDL/8P95vpW+1f74f1o/Qb7hvp0+rD8p/+9AaQArgAYAegBzQM5BeYGmwZwBg0GxgQYBVwG8gUoBCACeABUAOcA5gAR/3v8efue+j/6F/sy+9/7BP2b/Uf99v2y/nf/3AH/AmEED/808mrp7+c57uD83ANO9wbpQOEt5T74zgbFBfv96/db+EQBxwncDgwRehDtEDQSzhIZFaQYfBiwF3AVjhI5EXwO1wpmBl0DWARrBJP+rfiB8l/tl/D09V72gfSJ8ZXscOxI8jn3I/r0/DT9K/sd/eoAOAMTB0QJSAdTBvEGoganB/UH/gUHBU4CC/7A+a/1tvWk+dL8c/3q+y/3gvUE+mj/DgRjBrgDIgC6AEME4ghZCu0IxAb9A10FzwjoCF0H9QVfA9QACADH/7T+Ff4u/TP6h/gL+Mv3OPi8+L75y/pX/Iz9kv0e/yMB8gEmBWUBlPTm6t7mFO0d+2EDmPyn7GDji+eo9IADigdb/6j7MP7nAuYH3AoYDY8PYRPuFBkTCBMrFZ0VkxXEEz8R1g9EDoYMPwehAhICJgE1/2z8A/gr9db1B/iI96f07vNZ87T0gPnq+m/57/hO+dX60/xF/8YAwACCAYkAjf62/yMBvgF4Ad3+u/0L/0YAHgHs/8D9WP4XAFYBiwEWATIB+AEgBKkETgNZAiIBnwEhBP8EtgN9AY//CgABAh0DiALdAIL/Bf+I/9z/F/+o/4YAz/8W/m78zPz7/ZP/qQDn/2T/GgCSANMAEwGDApkDHAIaAlP+tPO77ATsvO9t+Mz9HfeR6hfmN+ws9gUAPAEB+6b60QBHBooGpwRVBqoLbxPFF/UStQxpDOMObRIaFHsR1A00C30KBwg5BI4ClQDt//z/LP6e+8z47/ea99z2EviH91P2Sfhf+eP4rfn8+f75A/yl/mMARwArAbYB/v/3AIUCoQLkAq8CHQG9/7H/af+H/rD+iwBGAXcBygAN/0L/fAApAqkC3gF7AvICsAHPALz/8f4LAU4CoQHVAAoAJQDk/7P/jv9B/rn+Vv9Y/s7+fv7S/cP9A/2V/WL+fv8DAbkAyAAMAWgAnQGAAkoDXgSgAjcCWf9+9jfv6Orn7dH4Qf+b++/ua+UD6gb07P1TALv5xPlBAVAH5gaaASMBxAd+EgAaGhTdC6oLXw1SE40VARC+DfYLfAveCm8FxgI/AiYB+wB9/uz65PjM+E/5g/aR9Zz2l/VI+PH46PU/+On6l/yR/oj8+/uL/qkBzAQ2A1UAPgAyAbwC7AGc/6H+7/5PASYB5f1t/ev9Zf80AjwC2gCDAFQBDQPCAzcDZQLQAEgBtQLQAssCZwHgAPgA5ADwABH/sP5RAAcAFf+4/Yr7afxv/j7/pf5c/e79p/0P/jX/8/7IAAoDRwPFAkoB2wBEAusCxAQpA/P6yvIF7DbtW/cF/5f+vfO26ALpSvFS/NX/WvsK+ov+LQaEBy0Bmf5JA0MPVRuPF+8LoAaCB4ERUxjRE5gNYQmkCvkMPgksA57/GQHtBIQEZv8k+HH1MPkS+hz6cfln9er27/ny+D/5//j1+Hv7JP1E/qD+wv43/1T+Z/4I/8P/mAHpAIv/zf8v//YAOgJ9/8v+fv8GAYMEmQQSAev+cf80AuwEwQR0ARL/nQD/AUcCiQBL/W7+sQGUAxMDjf4D+/X78/36/wkAy/2u/KL8Xv3j/CD83vxk/SH/sQA9AGQAfgB8AG8BrgEuA0QEVQR8BZoCBv1U9zbxvPFr+H3+6gAZ+gHwtOsG7hr3aP2B/vj9+f2AAbIBdf56/c7/jwn5FBcUrQzEBZkC0AptEkASuA4QClYK7wz2C+EGMAFVAbwFTwi/Bq3+yPgi+or7WP4u/Vn3tPdr+qn7YfzG+CP16Pa8+uv9H/40/OL6sfph/MH8NvyK/cH+xgC4AUP/wf5G/67/oAJdA/MClQSUBIsDngKjAUcCRASuBaUENwLNAGIAugBoAZ0A2f9OACsAOQDj/hL9Pv1Y/VX+1f7E/fb8U/yE/MX8uPxR/UD9if2+/sr+TP/a/9D/GgA3ABMBGwLXAqwDoAIPAGD+oPu8+sv7A/wa/v39xfyY+pf2evX89TP5q/2W/2P/R/0F+2H8s/5xATUF3QSFBbEG4gVeB2IHyganBxwIdQkpCl8J7QheB4AHUwgEB/AG3QRuA8EE/gOeA3QCZP9c//j/K/8w/wL9Pfvt+z/87Py2+0L6sPkv+UP6u/mu+ED5Xvks+tP6Qvm9+Jf5UvpH/Ln8NPwq/Yj+dwBSAUEBWwFCArEE5QV4BbIEqANsBG4GhQaVBRIEBwMIBNQEagTyAoMBhAFxAq8CQgHy/r79Bf73/kf/lf0r/Lj7S/xb/Tb9hvxC/Dj9T/4q//L+c/6M/hn/zv7P/BT7h/jY+Hf68/r/+hr4KvZs9Qr3//lA+0D8i/z3/Cv/dAGUAf8CkgN9BJwH0wcwCHkIWAjICZ0KjAouCocJwgnhCa8JpgmgB0MHzgY2BaAF9QOXAoICEQGoAHsA+f4I/v380vvi+4X7IfuN+vT57PlT+Vj5+vhA+Bn5HPlu+Tz6TPmg+ST6PPpI+5P7+fsA/cL9zf66/yUAEQHIARYDdwQIBcIFdwVcBc8FBgZoBpAG3QVzBSQFYwRHBHwDMgMfA9QCdwIiASUAK//S/sX+Nv4X/W387/vE+xj8QPtm+177pfuT/HP8lvzT/Ar9iv2p/f/75/ph+Yz4kPmJ+R766/iP9xb39fZz+TH7Ofyp/a/93/7SAVMCwQMYBcsEdgfMCP0IwQkuCYIJkwrVChQLZwomClcKfgnUCUoIMQdDB5AFdwXCBDIDBAMQArIAWQAI///9h/1o/Mv7F/u2+gL6Xvkk+Uz4N/g8+Jn34vcO+D74U/mT+aD59Pkh+u769/vE/FH9S/2e/dz9jv4LANMAHgIeA3YDDQSDBB8F+wXwBm4HbAcyB+UGfQZbBukFFAWRBOgDdgMUAzYCEgEvAI//QP8B/3b+t/31/Hj8z/uq+1P7CvtZ+1T7q/vq+xL8f/zU/ND8qPyj+6r60vlt+Sb6Q/qs+pL5FviW96L3hPlI+0T8Ff2A/WD+kgCkARsDOASEBI8GfQdZCDEJFgnCCTAKWQrWClwKmQqzCvcJNwrnCCoI3Qc9BvcFCAWbA3oDFgL0AI4AAP9//pj9bPwV/Dj7Lvu/+v35t/nK+Jb4nfgo+In4fvig+Gz5Evlx+c351vkQ+6/7DPyf/Mv8TP0x/gz/CQCsAFgB8QFjAkgDyAOkBHIFpQX/BfUF0gUKBtoFugW8BQ8FxwRPBJIDTgOnAhwCeQGTABgAlf81/+D+JP6F/ej8cvyZ/Fr8KPxy/FH8wPzj/Lz8Fv3Z/Pn8DP0z/Kv7x/rW+f75qfnK+YP5jvh0+Cj4Kvl9+jD7WfzD/Ir9pf/NACYCQANOA9wE3AW1Bt0H3gdhCNcI+ghuCS4JYgmnCUIJhwmcCN8H1AekBmoG2gWiBJQEeQNqAgICrgBFAJ3/cP71/QX9p/xg/Kb7MftC+uX51flh+a35bflE+cn5avmX+e75+Pm8+iX7dPso/ID8Lf3h/TD+6P6F/3YAYQHgAYUCyQJ6A0QEgQTfBMEEsQQTBRsFFgXSBB0ErQNZAxgDzgJEArYBAQGEACUAsv9R/8r+Nf7g/Xf9Hf0R/cL8pvzS/NX87fwC/QX9Mv1Q/UP9S/3z/Fr82/sy+9f6pvq6+rv6X/o4+sn5OPor+9X78vyk/Tr+tP/bAO0BNAOXA2sEbQUbBhIHnwfyB0kIUgh0CFIITghkCPIH3gc5B5IGUwZgBdUEYgSFA00DoAKaARABLgDF/07/f/7Q/QL9qvxy/Bf8mPvO+mn6TfoV+iT66PnK+Rb6F/p0+rD6uPo5+4P78Pt8/Nb8iv0N/oD+AP9s/z4A/QCnAU4CpQJKA9MDMASjBJEErwToBOEE6wSSBD4EFASqA1gDwwIXArwBWAEgAZ8A/P+K/+v+vv56/uL9sf1C/Rf9Of3h/PD86/zk/EH9NP1q/Yf9dP2s/Xn9Hv2p/Bn8EfwS/Ar8N/y5+3n7dPt9+0b8tfw5/dP9P/43/x4A2gC8ATUCzwKzA1MEDQV8BeYFWwaGBrYGrga0Bt8G0wbDBngG4gWXBTIFtgRMBKADOQPnAmMC2wErAZIAJgCx/yL/fv4C/rz9fv0q/Zr8Afye+2n7Vvsw+/n6+/oX+zD7PPs6+1T7mPsF/Ff8m/z9/Gb91f1R/q3+EP+R/xMAqgAXAYEB+gFvAsMC7QI0A3ADtAPsA/kD2AOuA4UDXQM+A+QClQJFAuMBnQFGAe4AoQA1AM//k/9U/xL/3/6n/nP+T/4v/gP+5/3h/eb9/f0F/u/97v3o/eX9xv1s/Rn9xvyW/Iz8e/xu/G/8S/wt/Dj8YvzT/E79yP0y/qT+Tf8KALAAMwGlASICwwJqA/cDTwSUBOYEGgU7BVQFXQVvBXYFXAU0BQQFywSKBCQErwNZAxsD2wJ2AvkBeAEPAb0AVgC7/yf/yv57/jn+4/1W/eD8qvxz/ET8Bvzl++n78/sV/Bz8Ovxj/Jn84vwX/VH9n/38/VD+lv7S/hj/bf+x/+f/JABkAL0ACwEuAVQBdAGUAdYBAAILAhoCFgIcAiQCFwL9Ac8BqAGJAWABQAEgAfQAvACeAIQAVwA2ABMA5P/M/8j/s/+g/4P/dv9v/1//Tf9G/07/Wv9p/3D/bP9F/zn/IP/m/qj+Xf4m/vD91/28/Zr9e/1O/Tn9Nf1I/Xz9uP3p/SL+gf7b/kX/oP/m/0AAlAD+AGIBugEAAjsCcwKkAtkC7gIPAzkDOQM+A0MDNQMkAwkD5wLAAp8CfwJcAikC6wGsAYYBUAH1ALEAawAyAP//yv+J/zT/Av/X/qD+b/46/g/+8/3k/c79tv2v/a39sf27/cj92v38/SH+Q/5q/pT+wv7g/gH/Lf9S/27/iP+w/8T/4//3/wAAHAAsADgAPABKAGkAhgCDAJcAqgCyAM4A3ADaAOQA9QDzAPgA/gD/AAcBDQENAQcBBAEGAfcA8wDoANkA0QDLAMIAsgCfAIkAegBbAEoALQAOAP7/4P/E/6b/hf9j/0b/IP/6/s7+ov53/lD+K/4J/u/92/3M/c/90f3E/c791f0A/jL+X/6Q/tf+Ff9R/67/6f8jAGUAsADgACkBbQGVAb0B2wEBAhUCHAIgAjQCOgJBAjYCJgIfAgIC8AHHAZkBdwFaASkB+wDSAKMAfgBJACYA8//F/5X/bf9Y/z3/Iv8A/+X+t/6S/oP+hP6L/pH+rv7X/vz+Cv/s/ub+2P7j/vD+Gf8//2n/a/+S/4b/af+4/0b/Dv+Z/gj/NACZAbUCfQKeAcoAAwGSATICngLgAhoDxAJgAc//sP67/nb/JgBoAB0Aqf8x/6r+Ef7g/fz9bP4z//j/AwDg/1P/s/6a/pf+Wv73/Y79gP0//pr+iP7x/S79Rf0g/gD/yv9pALYAQwHQAQQCHAIlAlUCLwPlA3kE1wSGBDIE2wMmA58CcQIRAssBKwFFAJ3/of6O/cH8+Pvp+5v8//z5/LP8oPwR/fD94f7X/44AUQFhApICrAL5AsgC5QJGA7MD1QNdA+4CLgKkAakBXQEgAdgAlwBKAE7/4P5j/tn9p/6k/v/+t/8h/4z/Xv+a/kn/sf9MACMBRAHqAE8A3v/N/28AAwHhAZQC/f9b/039HfVg8RntnOvr8dP1g/iy9qTyaPRx9cj3B/38/VcBWghzDCMN9wyPCysK/wwsEBMTGhWCFAIUDRDKCkkJEwUYAhsD0wDE/woAB/1G+Y315/IL8yf0pPYp+Qf5EPlR+j36+frR/e3+GwEKBQ0HggjhCEwHFgbRBGYE2QSNAycCgwAG/vz7Afvz+Gb3l/fk9oP3i/iQ+KH52/rP+8r9S//xACgDOgREBaUFeQVeBkQHtQfVBysHOwZRBXsESgMBAtAA9f+O/5D+8f2t/Lb6hfpd+qX52PqU+637Gf2X/s0ASwLRA+ME3AIPAgACl/yi9031AvJZ9Db5U/oI+Gf1sfW89ur4tPsi+4/6y/+dBB4GNAjWB0AFiQZpCgkN8w9OEv8Rxg6BDJILOAk9CCsI5wWdAxEEzwKJ/0r9Dfrd9lD2C/hH+Yv5BPoZ+Y33J/hp+RL6vfs7/q3/xgBrAlUCXQGpATACbAJUA+QDuQKFAfUAKADL/4f/4v46/vD93v4Z/4f+rf5i/kD+L//Y/0MACgFGAZ4BYwEYAZMBWwHuAfQC1QLGAtICwgHWAEsAhP/s/s/+Pf8R/xX/zf5D/Xv8jfws/GT8Vf2c/Vz+/P8eAREBegEPAjgBgAHjASf/1fto+vr4+vhp+w/8Q/rF+Pn4e/l1+ob8dPxM+wH9SP+rAL0CtwM6A3QDZwUKCCkKKgwrDeoL9wo2C6wKNArRCXYI9wZkBi0GuwRFAjsAAf4D/ND7yvu9+tT5B/mc97P2w/bs9hn3wvfW+AP6SPui/A/98fyq/af+/v+HAVECZQJ3AooC6gJ7A4wDaAMVAx8DYgNwA1ED1gIHAqsB3AHnAdYBdwHsAGoAKwAkAOD/pP/P/8j/qP/Y/7v/a/88/yH/Cv/d/p7+S/7p/b/9ov1m/VX9ZP17/bj9Av5h/q3+3v4y/33/7f+bAF4B5gE1AqMCpQJzAmwCwgFzADz/lv4z/kv+jf7s/c78Avzn++P7H/ws/MD7+fvy/AT+n/75/hj/ef94AKABoAKzA78EhwX7BRAGAwb3BSkGPwYgBu4FxwWZBTIFTgT9AucBAAFiAA8AnP/q/kz+7/2p/WT9Jf3l/I38dfyp/NX8Cf0p/RT99vz0/Cf9hf3n/S7+cP6y/vD+Mv9o/4P/i/+5/yUAiQCiAJEAfgCCAJ0AxwDEALEA5wBCAZkBuAGcATcB1wDkABMBFgERAfAAjQBKACEA4P+y/77/tP+M/3r/df9Z/0b/XP9G/yf/Pv9i/5L/4/8QAPf/2//a/9r/7v9EAJYAqgCtAK0AngCLAJMAhwBuAGkAZgBYADUABAC3/17/Ef/g/rr+jf5v/lf+Qv4x/gz++P3w/fz9Kf5N/mX+h/61/vD+LP9l/8v/QACvABsBRQFfAZUByQH8AS4CVwJgAmcCgQKdApMChQJ4AlkCYQJpAkUCCQK1AVoBCQHMAMIAqABxADYA7/+m/33/Zf89//r+zv7I/q7+sP6s/of+bv5v/n3+kP6q/qv+n/6v/s7+1/7f/vH+9P73/gn/Fv8n/0H/Yv94/4//r//M//P/IwBAAEEATABdAHQAgQCKAKIAtAC1ALsApQCbAJcAgACMAI0AhgB0AGQAXgBYAFMAUwBPAEMAQQBKADsAMgA3AEUAYABWAE4ARQBWAGAAXwBhAEUAMgAdABIAEAD6/9z/wP+t/5j/f/9u/2L/WP86/yP/E/8P/yT/Mf8r/xv/Gv8g/y3/Tf9U/0n/Uv97/63/3v/2/+7/9/8LAD4AYQBzAI4AkwChALUAyQDmAPAA7ADjAOUAAQEBAf4ABQHzAOoA7wDqANUAxwCxAIgAeAB2AGcATAAlAP//5P/X/93/0P+o/5v/hv9x/3f/dv9x/2r/Zf9p/3T/g/+P/5r/pf+w/8P/0f/s//j/8v/9//n/AQADAPr/9//1/wAA9v/c/9n/0/+y/5n/hf+O/5//j/+c/6X/lf+X/6L/tP/K/+L/+v8MABwANwBCADkASABdAFwAZABoAGUAYwBSAEcAOgA2AD0AQAArABcADwACAA4AFgAcACMAHgApADkARQBNAEIARABKADkAQQBPAFYAUQAyACsAJAAIAAAA+P/s/+b/2f/N/8T/v//E/7z/t/++/7b/t//F/8z/0//o//L//P8EAPv/BgAYAB8AFAANAP3/7f/7//H/3P/k/9f/yv/T/8H/w//H/77/xf/F/8T/0f/c//f/BgAGABQAEAAdADMAMAA4AEsARQBEAEsAOgAwACoAGgAXABIA8//p/9//1P/P/7//sf+l/5j/tP+v/57/0v+a/7P///+u/9z/PgDQ/xYAYQDd/0sAaAD+/2MAYAAXAG8AUwAxAEwAPgA2ADMAIQAWAA0A/f8GAOn/7//y/+L/+f/6//b/DAD9/+7/HAAUABUAJAAZACUAKgAgACUAJgAPAA0AGAALAAMAAQDk//P/7v/Z/9v/2v/f/+L/3f/i/wUA/v8FAAkAAAAWACAAFAAWAA4A9f/t/+3/5f/Q/9H/1P/L/8n/w/+//8b/xv/D/73/xv/L/8//4f/j//T/EwAfACEALgBDAEkAUABZAGQAYABVAFwAWgBQAEEANgAgABkADgAAAP7/+f/q/9f/3P/W/9n/zf/K/9X/2P/b/9r/3P/q//D/6//y//P/6f/u//X/9v/+//n/9//k/+X/8P/m/+n/3v/k/+//9v8CAAsAEgAMABYAJQAhAB8AJwAjACcAKgAhADIALQAlACEAHQAiAA0AGAAZAAkAAAD5/wAA7//t/+//6//3//r/9P8AAAcAAwAFAAoAEAAKAP//DAAUAAcACQAJAAAA9f/+//T/6v/q/93/5f/W/8f/xv/F/77/vv/A/8b/0v/P/93/5f/i/+7//v8EAAoAGAAfACYALQAuAD4APwA2AEAAPgA3ADUAJwAmACUAGAAXABMAAAD8////8P/7//r/7//0/wYAAgD0/wAA+/8BAAAA/f8FAPv/+/8DAP3/+f/7//j/6P/m/+n/4f/V/9n/6P/m/+H/5f/l/9b/6P/m/+v////6/wYADwALAAQAEwAQABIAGAATABwAHQAWABMADgAOABQABwABAAQA/f/6/wIA/P/6/wEA///5//3/BQARAA8AEwAbABcAHAAZABAACQAQABEAEwAIAP7/CAD5//f/AgD9/+v/6f/p/9z/2//e/+T/3//c/+X/5v/V/+f/8//w//n/+P8AAP//CAALABoAIgAdACUAJwAeAB0AKAAaABwAIAAaABQADgAGAAMAAQDz//n//v/6//H/6f/p/+j/6f/j/+T/7f/t/+v/6f/q/+7/8P/z//f//P8IAAUAAgAFAAoADAAKABUAFwAdABwAFgAQAA8AFwASABoAEQAEAAYABAAAAPP/7f/u//n/8v/o/+//6v/x/+j/5v/v/+7/8P/w//3/+P///wAA+/8EAAAABQAMAAEACAANABMAFAAPABsAFgAVAAwABgACAAAADQAJAP7/BwAHAAEABAD9//7/9//3//7/+//x/+v/8P/p/+L/5f/m/+H/7//2//T/9f/6/wUAAQAIABYAFAATABgAHAARABQAGwAjABgADwAfABMAEgARAA4AEAAHAAQAAAD3//r/9P/p/+3/5f/h/+v/8v/m/+7/7P/j/+f/5f/n/+P/7//6//n///8GAAYAEwASAA0AFwATABIAGwAYABUAHQAgABIADgAWABMACQAEAA4ABwAJAP7/+P///+3/6//j/+H/2v/h/+f/2//i/+P/6v/t/+L/5//0/wAA/f8AAAYACQAOABcAJAAiACMAKgAnABUADwAXABAAEAAOAAkABwAHAAgACQAPAAEABQAGAPT/9P/5//H/7f/v//b/+//4//L/6//z/+v/6v/w//P/9f/4/wAAAAD1//f/AAD4/wAA/f8DAAsACgAOAAwADQAMABAABwAHAAoADQAHAAIABAABAAUA///4//7/+P/y/wAA9f/v//j/7v/t//L/+f///wMAAwABAPz/+f8CAAIAAwD+//3/CQANAA4ACwD8/wAABwD+/wQACgAIAAYACQAJAP///v/8//j/+v8AAPn/+v/4//v////1//P/+v/6//j//P/+/wYABgAOAAUABQAKAAYACAALABIACQAOABYAFgANAAIAAQD6//z/+P/0//f/BAD9/+r////+//j/+P/z//v/+v/7/wAA/P8FAPj/9v/7//b/AgD///3/BgAMAAMACQAPABgACAAAAAUAAQAGAAYACwARABEABgAEAAMAAwABAPz/+f/9/wEA9P/z//b/8v/1//L/8//r/+7/9f/5//n/+////wAAAAD+/wYA//8DAAcACwAIAAIACgAXAB8AHwAQAA8AHQAHAAkABwD///3/BwAEAPv//P/t//D/8//y/+3/+f////T/8P/u//3/9//w/////f/7//7/9//7/////P/6//z////3//L/7//8/wUA+v/1//n/CQAHAP3/+v8FAAoACQAIABQAFgAHAA8AEQAWAAkAFAAbABwAIQAeABIACgAQAP//8v/4//n/6//x/+X/5f/0//P///8CAAwACQABAAAABAAFAPz/AgANABsAEwACAAUAAAD6/////f/8/wYA//8BAPX/6v/j/9T/0P/O/+j/9v8BAAgACwANAAMA9v/o/+H/2//l//f/CgAWADAARgA2AB4AEAD6/+L/0v/T/9///v8hADsARAA4ADEADQDi/77/sv+3/8f/8/8aACsAKAA3ACQA+f/r//H/CAArAGgAeABMAOn/u/8h/x7+9f0y/vb+HACCAYMCqQKdAicCHwEWAKv/lv+v/xEAdABmAO3/OP+Q/vT9y/1Q/if/GwDnAGEBJQFmAHz/vP5L/l3+6P67/54AGgFTAS0BsQAFAKH/d/+n/y4A0ABgAXsBOAG5ABgAXP8W/yb/a//s/1AAoACHABoAvv8m/8f+yf4R/5L/DwCwAPsA/ACXABQAnv8q/yn/ZP/p/18AqwDMALQANgCr/07/Ef8//6H/NQCHALwAwQB+AA4AlP9X/1P/mf8LAI0AwADYAMEAbgAAAKj/hv+Z/97/HABvAIMAZgAwAOH/h/9b/2D/dv/F/wAAOgBFACEA+v+2/6L/oP+j/9v/IQBSAG0AXwA9AAYA7P/m/+P//P8bAEsAVwBVAC8A+f/L/6v/tP/B/+f/EwApACIABgDd/77/p/+v/9X/DgA4AFkAcgBPADQA+P/O/8D/xP/n/wsASwBWAFkAKAABAOL/uP+//8T/7v8IABwAGwAYAP//5v/S/8j/3f/p/wkA/f8WACkAEQAOAOn/5f/S/+3/AQDw/xIA9v/3//X/7f/s/87/3f/X/+r/AQAWADUAGQAjACcAGAAbAAYAIAA6AFkAVQAzABgAAADo/8H/xf/S/+v/AAAPACIAGwAIAO//6f/U/+T/+f/k/wMAFAAVAAwA+f/+//D/7v/f/+7/BgACABoACgAGAP3/9/8OAAgABwAZABMAAAD9/wcAEAANAAEA7//y//b//P/5//T/EwAFABcAOAASAAIAAwDh/8f/+v/5//T/FAD6/wMA4v/X//H/uv/U//z/DgD//xAAMgAJAOT/zv8SANL/0f9HABIAEAAgAGgANQDa/0gAMgDw//T/aQAxAMr/LwACAMz/xv/0/+H/vv/x//v/BQDx/wMAxP/s//z/1//u/xkA6P+s/10A2v8JAO7/MQBhAIb/gADz/wYAyv/X/0YAZ/80AN//YgA1AL7/pADO/yQA5v8eAHIAbf9RAEUAHwCs/+//ugBB/97/XQBAAMX/p/8fAa//XP9PAEwAcf8U/xAB+P8I/1IAtwCq//D+/wA6AMb+aQAPAaP/X/8NAS4A2v5bAOAANP/C/yABBwBj/90AyACt/iYAyAAj/4r/xwBuAKb+lQCpAML+pv9kAMr/fP6NAF0A8P5HADgAv/8c/1cACgAK/3AADgC1/+f/dQAYAFX/cADX/2z/SgBOABsAuP97AEUAnf81ACQA4f9h/0kAWwCO/2kAQQATAKH/CwBiAE7/8/9ZADEAFADHACUBQgCsAPcAhgBEAK8A9gARAHIA7wBPACcAYQCCAIH/+v9kAOr/vv9NAIQAnf83AJAACwCA/30ANgDD/ykApwD8/7j/QADJ/4L/Ef/x//j+Sf9P/3z/JP8b/4v/3f5y/+H+z/9H/7r/zP/D//v/kP/x/0f/X/+4/qb+QP6s/V/9pPw0/In7S/sz+5D7XfxG/ZD+h/+4AOcBDQMNBK0EUgWzBWgGlgaABmIGvQXrBGcEvwOyAuEBOAGBAPv/+f/5//r/X/9X/4//Fv+2/zcAIgAwAPQAFAG2APkAVAAkAOf/7f/G/wP/Sf8t/3X/tf/D/4v/Gf9S/yP/4P5a/k/+6v0Q/Vj9zfwd/Nb8xv3K/pz/NQC9AIwAIQFLAa8BmQIsArYCLALjAc3/7f4v/m/zXe9i7Kzlrusv8eLyi/V/+cj9QAGnBlUI5ge3BtsIrw1oDoASXhQdEWgR2A7RCskJ8QVyAi4B+v16/D/+yvyC+/H65faF9zb5V/mR/Nr9u/6RAocF0AaeCJUHkgWnBV4EPwRxBPwBowD8/sz7PPvJ+T/31fbL9Mrzx/U49+f4KPzc/c//XgNrBAAGnQYiBaMFNQU7A3sD2wLiASoDoALZAicDLAIVAuIBpAD1/2AAQP9X/0f/wP1u/Vj8BfyH/KH7PPt9/Hn9E/4AAKUAGAHAAqsD/wR0BcoEfgUHBVAD7AHZ/3gBlPfB6WDmvdkk2fbmhutx7E3zXv0nA68NxxOmEMUNrQ1LE78TgxKsFroTMxNhFbsOFwn2AyD/Gfyr+G702/PM9Pr0Tfrj+Xf5Kv6q/ez/XQO2AwAHRAoaDLkNVg4lDrANcgs0B70DEP+2+z35TPWG9LrzSfAF8RvzGvC+8t32nvR891v8Of57ATQEKwVqBp4HdgimCMQGjQW7BU0EAwRQA/j/YQBJAfn+Xv8k/xn9HP6L/zAA/v8v/+b/BgB7/0YAL/8Q/Sv9Gf26/aD/CQDWAJAD+gTtBcMHiAYbBCYD8wCt/qv+1/60/rX/qQBjAV4DOwUSBAQEJQE6/X3/pvIZ5OXg6NJG00biZeUz6v/27wNDDokZ/h14Gc8V0BR7FisSnw3WDvgM4w0VEC8LhAWOA0MA4vrx9Gfv4uyO7WzzYPhg+CX97QNcBm4LsA8ZDXAM0AyMCoQKXAo2CJkG3QRlAjkAUfxU+AT1HPDY76DwxO187+Hy3vOH9xL7E/wj/+UCzQXwCN0Jxwn2CvQK7woACl0FqwLQ+zLyevKp8HLvpfhv/lkBMgnCD78Q3Q96DQkJfQKk/MP6W/Uq8sL1SvWH9lb76/z6/7kEDAfwB7wI6wliCnEIgAaGBED/A/zJ/IX6oPkv/JP7U/3TAekDnwY9B8wF3AS5AkoDSfxC6lPgqNZUzkfZV+MW5APtK/yhCNIV6iAhIG4b6Bn1GWAXKBCyDTAL3wd3DEwMsgVPBIoC7vvr9qTyyuw66h3sJvAG9K75HQOOCqcPrhSLFQMTKRI2EE4KTAcxBRMBEwGZAE/+f/wb+l741POD8KDv8Ow37c/vj/FN9S/8iQBxA3cIXglyCcgK0Qg9CP4HvwXTBQUEggBWAUn8wPJg8ebu7+yk9Jz6Gf2SBeYPCRSdFdQVURCLCNQBQPu78gPtge0m7OrtNPZC+6gBbAo8DlcQvxGfEMYNuwhkBJQAhvpL+DH50/c5+dX7HfzY/tQCkQQoBW4EQgRbBRkCLgHgAPbxVuYJ4mjVe9Wl4J/hnOUw81UAdg4YHQAiSiCzH/QeYhwPFIoMbAh5AtUEHAhiAqkDxgeSA6cAwfyS85Tuau1o7L/sa+9X9/oAjwkuEyoYrhcKGk0Z7BAaDDMGLP0x+zT5nPaQ9+T3X/lb+cf2b/XF8uvu7e2p7InrVPEE99X7BQX7CZsOxxSdFJ0TNBEnC4cHOwPq/OD6nPfP8LXwAPEv72D1dPqM/KAD0Al8DmgRxQ8CDsEKlwXvAXL7NfTD8rTxq/BG9CX2yPipATUH+QkMDsANkA1MDmwKJAYYAd77Qvo1+FL37Pdo9z/7CQAXAvAFRAe+BTMHfAUCAYMBMPpn62Tl+twB1l7dj+GY4urqjvbXBO8RqxmzHFsdBR/8HwQaGhG3DMgHlAcyDPwG2APjB00GMwUxA9H6tvQn8X/ugu6J7VTuxvRr/PwEWw56EqsUBBgIFgIT+w/IByECpP4h+2z64fhJ+U/6KfkS+er2vPMW8h3vCuxj7BzuVvB+9/b+WwMpCoUPNBF0E7sSpA7MCT8D3P5l/ML5Kvmo+Ib5df0lAdAC5wKUAlAB0gCCAFr+nvwd+/764/uW/BD+nv5s/9T/l/+BAAMB6wGgAp8DIQWxBCgF6AU2BfUEpgPWAdD/0fwq+/f5MPk1+nP7lv3gAMADuQVvCB8JKwa9B/oDp/V+7bPjhtn93LPeRNzH4SbtAPp2B0oTVRfQGNQeTSGrG9QUoRBMCwcKSA3JCIsFTgoUCzoK0wkVBKf84fc39FPukOiD6FPra+6V9oj/ugM0CzETbBScFX8Uhg60ClYHuALE/0j+x/1D/nj+DP5t/Xb7xfkh9wLxQu3L67Hpnusl707xAvcZ/v0CCAlvDpAQ5hCpD1oNvQk3B4ME4f08+hn6ZflP/BsA0QCbAsEGKgh2B8kHLgS3/5H+jft2+B/38fU49Qj2O/lp+2j9IgHYA/sFYAgtClkK2wmlCfIHdwVlA7UB1f/9/Vv9UPwc/Kj9Rf5a/t3+JP+J/tX/gP7q9aPvoenh4hDkDuW04hTl3eyl9vcAdAqTD7QTqBnoHKAa/BQzEQgOmQz+DKMI8AbDChcNxg4ZDpwK/QY1BNgAx/nM8U/tBuyM67Ptn/Hu8yX6cQLABlAK1guSCqoJyQf4BNMBGP/n/tH/xgDLAv0DOQTWBWkF6gFG/xn7Dvb18zfxo+5w72bwgPK49hz6ov3XAPQC/ATVBRYGeQbdBaoFxwYaB5UHzQjcCO0I5QhqB7wFsQPDAFL+oPs4+X34dffy9oD34/cz+fT6Kfwo/e/9w/7D/4oAfgGOAmwDdARlBRUGjAZeBlYFiQSbAyACcQFYAAD/Ff8L/8P+WP8H/1H/+/9F/GP4KPUB8HbuJe6f67rqAu1h8V/2PPzmAAEEaQhrDMUNrgzrC0gLCwrGCngJpAfOCb8LxA1vD+kOnw5SDhcNRQqRBdMAyP2O+1v5FPjW9oP2e/hF+lr7m/zh/M38Mf3U/Cv8xPtm+8b7c/yS/WX/awDLAXcDpQP+A/wDXAI9AR0AEf70/C78a/vX+xn8KPz5/F/9Af4T/+f+CP+S/2z/PwCbAIoAhAHwAb0CxwPNAwMEUwSKA98CQAKoANv/3/55/Q79jPx1/PH8Af1w/VX+xf5u/yUAAAA4AJQAKgAvAGoAWgDNAD8BbwERAp8CKwOkA5gDjAMvA5oCVwLYAT0BJgGmAOn/7P8FAFj/LP6U/FH64/go+M32W/Wv9Af1Hfbq96b5yPpt/JL+/P8yADYAUwBHALAA8ADJALgBEQR6Bk8I7QlUC5oMsw2wDQcMqQkaCHcGNASzAiUB+P9qAP0A/QA9Ab4B8QG7AQEBxv9A/v38QfwO+xT6N/pk+vr6Mfzz/Gz9Jf53/nH+X/7+/Zf97fyt/B79UP3i/a/+/P7A/8EAHAE4ASYByQCPAGsABwDB/5v/xf8zAFcAmwD0ABoBNwH+AHUAGwDX/37/Kf/J/p3+1f4w/4P/xP8CAE0AigCuAMIAugCrAKMAiQCHALQA2wARAVMBggHQAe4BygGvAW8BNwEZAbkAbQB0AIcArQDVANsAEAFwAYQBNQGlAEkA9P/o/mT9uPv++QD5Uvgu90D2+fWO9r734/jK+Z762Pti/Vv+m/4i//T/zwDvAcQChgM9BXoHVwmcCjQLoAv7C+IL7ArfCKEGFQXVA6ACtwHmAG8AyQBAATQBDAG+ADcAjv+q/pj9kfwZ/BD8DPxC/Mz8Z/1D/hb/a/9a/yX/6v6P/jf+vv1N/TH9hf3+/XT+BP98/+3/fgDDALAAfwAXALr/S//h/nj+J/4Z/jT+Tf58/tr+K/+W/+f/AAD7/wUAAADs/8j/lf+O/4j/tP/m//3/OQB6AKcA4wASASABPQFbAWQBeQGsAeYBFQI7AmYCiwKZAqQCjwJaAh8C2QGRAVgBJQEHAfYAygCmAIwAegBnAD8AFQDX/4j/JP/F/nD+Df5x/Xr8Zfta+p35PvnQ+FT4P/i5+Kf5pfqS+4T8lv2u/mz/xP/t/1kAAQGIAeMBNwL1AksEnAVsBrYG2QYBB/QGaAZSBQkEGAOAAvQBewFFAW4B1wFbAp4CnAKIAmICCAJrAaQA2P89/wP/2P7N/u7+Gv9f/7X/9f/U/3n/B/+O/h7+tv1A/d78wvz5/Ez9mv3e/Sv+gP7T/uj+uf6C/lH+O/4U/uf91/0I/mP+1/5F/4X/5f9IAIgAqwCeAIkAgACIAJAAfwCHALMA8QAqAV0BcQF3AYwBowGiAXQBSwEkAQ4BFQEiAQ8B9gAHASkBOwEfAQYB7ADWANMAsQBpADgAOwA1ABIA3/+l/4j/kf+Q/3X/SP81/zX/EP++/lX+5f1b/Xb8Y/uI+tz5evlh+VL5i/lV+nL7lfye/Zv+mf+AABgBSAEuAT8BtwEoAncC0wJ0A2oEcQUdBmAGagZEBh0GiwWBBHwDpwIaArwBbgFDAVcBnAEBAh0C3gGiAU4B2gBUAKX///6j/oD+d/6I/qn+4P4h/1L/Xf81/+v+mf5C/t39if07/Rz9Kf1S/Yr9tf3o/QT+JP44/kP+M/4s/jn+VP6y/vr+Vf/C/y4AlADkABIBGAErATUBOgEsAf0A5gD9ACEBMQE/ASoBIwE7AScBCwHUALAApACiAKAAkwCWALQA0wDmAOAAxwDEAL4AtgCuAIYAYwBvAGcAXgApAPv/2P+U/2z/L//w/sT+tf6A/iv+4P2R/TX9Y/xv+3f6qfln+U35Pvl9+Vz6tfs7/Zb+u//UABYCCQMxA+AClwLCAhMDYgOJA8EDjASXBWkGnQZjBhgGpwUKBfEDhAJnAcUAfQBVADcAVwC3AEoBwQHAAXYB9gCCAP7/a//V/k/+K/5X/qv+5P4e/1b/gf+F/1D/3P4+/qb9Nf0C/eb85/z1/Cj9mf0e/nH+pv7C/uX+Hf8q/yv/MP9X/8f/PwCKAM4A/wAyAWkBcwFHAQ0B0gC4AMEAsACiAKUAxwDuAAQBBgHtAMMAsgCjAH4AWwA1ADAAXgCKAJ8AqgDRAPgACwEOAe0A0QChAG4AIgDB/3H/N/8X/9z+qv6V/o/+hf5O/tb9a/1F/WX8Cvu1+UP4rfey9473ofd5+D76dfxp/uL/FwGqAk0EJQXUBCUEJASRBCUFaQV5BRgGQgdbCLcINAh7B7AGsAVEBDMCKQD8/qv+m/6c/sf+Q/8wAAgBUQEaAY8AEwCH/8P+Hf6a/Zf9LP7n/oz/GwCeANcAvABLAIP/hP5z/ab8Ivze+/r7M/ys/Gv9Kf7T/hP/Ff8//0z/Qv9B/z//jv88APkAmgEMAl4CjwKUAkgCqgHwAGAA9f+b/2n/Vv98/7r/EwBeAGwAVgA2ACMABADU/5P/fv+7/ywAsQAgAX4B9QFqApYCfgIHAmYBAgGSAB4Atf9J/xL/HP9A/w//gf75/Uf9lvyE+1L5Rvfn9Q71M/VP9XH11PYi+cv7EP6B/7QAfAJBBDsFdwUDBWQFmAZrBxUIeQgACSkK5QqnCo0JAgi9BmgFlAOJAaX/TP7r/eP90/0T/lz+wP4V/wP/vP44/tL91f34/VX+2v5i/zcAOwEXAoICcALxAV8BtgCR/0v+KP17/F38Jfzv++/7FPyl/P/8Ev0h/Sf9l/3t/Ub+7v6p/9YAIAL4ApEDBgQMBMIDUAOEArsBAAFZAAEAjf9R/0D/aP+w/3//V/8E/5/+jP4n/pf9pf0b/pv+cf80AM0A8wEEA4kDzwOnA0cDywJHAuIBdAFNAeAAcwB7AHEAAgAO/339jvyc/AL6svZj87/vUPDk8KHvRPCE8kr3Av2K/53/GwE7BNgH2gmDB2oG6AicCw4OaA2qC0ANEBCYEc4PTwsTCMQGIwUQAuP9CPpg+X76evr7+c340vh1+mX7vfvx+tz5rfpC/K/9Vf9bAL4BQQQyBikHAweKBe4EZAQiAzACCAAL/ib9bfwN/GH7kPpe+pL6B/sD+0n6y/mF+uj7cf0N/zcA/QEVBIwFFwaHBQ4F9QSsBGkEXgNLAu8BxgGEAY8AVf9d/ij+4f07/ff7UPpQ+tf6/Ppr+zH7O/zc/pYA4gHqAQsCNgPhAzoExwPTA5cEBwUlBZoEMQRpA7sCDAGX/3z/gvu49yfz9O1A7j3tMOsE7L/u3/RH+0X9N/wH/qUBLAU6B0MEKQWQCi4PtBLmED0PPxLRFZwW+RL0DRcL5grKCF4DQf7Q+nv7bvyz+pb4KfbU9Tb2HvWt85Dyf/O39Zj4BvvT/O7+8ADRA8wFewayBioGzgZUB/4GzAW+A1gDAANVAtIAB/55/Nb7jvtc+uX4lPjG+Cf6+foB+xT8pP2v/1MBnwI/A9MD9QT6BGcFcgW0BK0EZwTxA1oDIQJaAO7+Ov5U/XH84vpd+VP5SPm6+cz5qPnm+iz8sv3Y/oP/QgBUAdQCrgPOBJkFJwU4BZgF8AXPBdsE4AL5AfECggCO/Iv3GfLc8c/x7O5N7UXu9fIT+iz9Aftf+7n+YwL+BKoB+/8IBYgLJRCiD8MN7Q+vFDEWPRLyDP4JQwtsCzUHlwK4/9EARAL8/2j8XPmX+Mf4tfd39f3zufQY9kP4hPkG+k77N/zU/ZL/PgC2ABcBLAIQBDYF5ATdA0UDVAN6AxECNgAG/5z+Q//C/nf9V/zt+lj6/Pkq+WT5bvoT/Ff/jgJuBLIFYQXjBFoFzgTYA9wCqgIMBDMF0gTwAkcBxgBHAO7+9PyG+5H7f/x+/MP7r/vz+9X8PP21/PD8Vv0q/v7+5P+kAfACAgSOBEsEZQRYBEUDjAJ8AkMCnQK3AZj++fut+Gz1/fMe8o3xB/P09BH4rvrz+t76bftV/Dj+3v64/joB9QTjCGwLFwuoCwoOmw8WD4wM+glBCpELeApHCEQG0wWYBhMFswHn/n/9K/1Z/Kb6p/kM+oX6v/qJ+gH6bvqH+pf6oPtt/IP9av7E/sT/6QD3AGMAKgA1APgAPAFcAEkAnQDEAJEAi//B/nT+KP6U/R79Y/30/a3+Q/8HABoBrwGrAVcBqgFTAo0CYwI1AvwCtgONA5ICUAEdAQsBQAAg/0v+ZP7c/pb+lP0D/d78w/yY/Af8MvwO/bv9kv4Y/8X/qADsAB8BfwEDAo0CzQKMApECIQMnAx4DrALuAaYBWwC5/Vz6LfdQ9QH1MvWF9fP2/vgd+1L8cvuM+r766fvR/fL+NwASA4cGHAkrCgAKLgphC4ELqgrUCWwJggoeCzkK4whoBxwGdQThAYL/Sv7G/Yn9O/2k/JD8Q/xH+4n6zvnw+Xf6oPpd+3n8o/18/sr+xf4W/5P/dv9e/2L/xf+HALcAggAtANf/ff/V/h/+ov2H/Zb9rf3Z/Q/+kf4B/3X/FgCuAFEB1gE3AoQC4gIWAxYDHAP4ArcCYgLkAV8B1AA8AKf/Lv+w/kz+Hf7B/Xr9b/07/Un9dv2F/eT9Zf4E/6r/QQCfADsBtwE1AvMCPwOqA6ADMwPTAlAC9AHfAWEBPwGWAGX9kflx9fXxTPHz8bjyq/SA9xH6efuh+vX4CfkP+0P+ywC9AkcGVwojDdINngzbC68MZw0CDTgM2wuGDNUMPAuvCNAFRQNjARL/0PzB+337Q/sM+5D66PlK+VX42Pco+DX5yfr/+3X9X//TAGUBOAHSAAEBrgHlAdAByAH/AW0CIgL8ANb/dv5T/XP8afsL+0/79/u4/Bv9Lf15/c/9Tf5B/2oA/gGyA6wECwX6BIsEVAT1A18DAQP9AvICagI+AeH/pv7G/TL9T/yb+6j7Bfw9/H38V/yA/Dr94v24/kn/CAAzAfcBuQLgA6kEDQUhBZYE3wN7A9MCTAKTAVYBEQGd/cD4qvNw75fu5O/O8Gby0vXc+Mb6JvoB+CX4wPpt/x0DzQQCCFIMtw8HEVgPqQzPDFwOmw7/DWcMJgwUDbYLoggsBAoAbv4l/QX7Zvmk+Jn4kvmv+aj49fck90L3Bvj5+Ar78Pzh/kEBHQPzA94DPwNZAt0CcgNQAzoDzwIZA/MC0AEZ/zv8gPrE+RT6B/rg+kn8vf2n/jz+W/0e/XX+SgAsAs4DvwT9BYAG5QWfBAsDoQJdAwIEhgOrArgB2wAEAMD9N/vZ+ff5afs4/BH89Pt+/Bv9AP1l/PP7dv3V/2kB8AK1A5UEgwUCBaUDewJHAokCUgMOA/4COgJ+/R34FfJL7VXtQu+58Cnzjfbo+Ef6xPiB9qn38frGAP4EgwZLCjIOyBDFEXgPvgzhDeUPOhAaEDwOvQ3zDSkLaAd/AoX+R/0o/Er6avkV+Yb43fgh+A/3s/YN9pD2DPh++h3+SgBNAbgCugMLBBAE4gI6AvwDcQVdBdADjAEcAOL+WP1r+1/5Efnn+UP6J/os+nz6Fvsk/PH8/f1z/xQBsgINBHQF8wUgBv8FqwXtBbYFWwXvBC4EgAMxAlAAzf5E/eL7K/uO+oD6aPtG+6z6Yvoc+uf6uvtK/F/9rP5iAY8DNQRVBHgDjAOdA4cDhAOJAzEDqQS2AyP9svd/8O3rFu7D75/wOPP/9TL5Dvz7+dv3vPiq+xoDFAePB9ALdA9iEiQUbxBjDIUNZg8TEeER7A5ODu8NaAr+BkABQvyL+7z6H/pk+tP4u/dF+BH3i/Zp9tT0RfbJ+Nf7U/9lACMBrgJQA5EDWQOkAdEB6QObBCIEcwJMACn/u/2h/HT6y/i9+SL77/tD/JP8JPz0/DT+bf7J/lkAkwJmBDEGxwbvBYkFRAXKBJIEHgRDBGAE8wOLA0EC8P8W/rL8N/sL+1v7U/u9+4b7N/s6+476dPpO+8n7Qv1BAKoBOQPeA+cCCwPIAtwCOAMAA68C0wRhAkT8Xfd379Psve8v8f7xy/SF9+v6If73++z5TPp4/ZIEswd/CD8LVg1yECsSuw7aCi4L7Ax+D6QQsA1JDJgL8wneB7ABK/yE+nr6cfvr+0T6/Pj2+YH53fhB9y316fa9+a78AP+V/28A3QGzAggDkQKpAHYBzgJmAgED0wGY/xb/vP4V/fn7H/sB+2P8Kf1k/fX8LPwI/TD+Kv4p/+D/3ABbA3MEOgSRA/sCGgNjBIYECQQUBIkDNQQjBIACTwCP/u/9j/1h/Zv8ufv1+zr8Nvxk+0L6QPoV+1v8z/1o/1UAmQFrAioCtgFtAZQBXAK1AvIDgAPS/mn6T/RS7//uR/Cw8EfzKPcP+mj+YP4v/Nj7q/zMALIEiwYUCXsMaw9hERkQSQxAC8kLFQ3QDnINqgx+DAcLPAlYBef/x/zx+3j7T/wd/HX6GvoM+mT57vgG91j2tPcR+jP9tf79/nf/FwEwAUwBWwDF/kAAyAG3AlUCiwBH/yb/Bv9Y/t/96/zf/a//TP8S/539aPxP/Rr+b/4Z/8n/9gAPAxgDWQLRAUYBPgJ1AykDqwKNApoCtwL7AV8Adf5s/cb97f09/dP8Ovx8/OT8xPzK+8T6d/tb/Pr97v4v/2UA4ADkAVoC7gEEAfEBGgM0AusE/wGC/cn6/vQe8sXydfNc85D3+fiB+0b/7fzC/OP8Tf1vAeIDYAVrCN8KaQw6Dn8M+wnZCooKigzFDaEMhAwqC9AJOgiFBOsAPf+T/dP9Zv7u/D38a/tU+nz6Xvn59074gvhy+uP8vfwA/Z/9Yv14/on/8f5Z/3kA7gD1AbEBjwBMANr/aQDbAOz/hv8sADoAZQBBAEb+4P2I/gP/4P/I/6X/0ABfAYABsAFAAP7/SwFlARYBYAGCAJkARgFoAIH/Rf66/RL+J/4O/gb+Tf06/aH9SP17/GH8qfx7/U//JwBBAIEAJAEDAdUBSwFpAGABuQGgAT8DCgIW/jL90Pjk9S/2R/aY9dj3vvly+sH9lf2B/Vj9Nf4wACAC4APMBX8HegnECpIK1wldCckJxwp2C/IKSQvRCSYJ+Ah9BmgEzgLYAE8AHQDf/tb9Hf0E/Pv7OPup+bD5T/mJ+bb60vrq+uv7PPw0/dT99/2u/gv/3/5XAMEASADIASUB0AAxAnABoQAnAUIAKgAWARkA3v93AAkA+AAhATgAVAANAPb/SwCK/0b/lv8P/1D/bP9u/qr+mP5G/sb+JP4H/gz+lP3C/d79L/2r/er9a/1Y/t/9uf0Y/wr/d/9DAMP/pQBoAWQB3AE+AWABPAGOAdcAFgETACkB/wCU/Qr+Afqc+EL5sfgk9+r4APoR+hz+e/1p/Sn/O/8oAbwC5AJ/BDAGWQcsCK8IQAe6BzsIbggkCUcIxQjqB7EHPgjYBSoEOgPIAb0A8wCG/03+Qf4w/aP9dfyC+r36XfoC+rf7s/sh+2r8SP15/e39wP3x/Wv+Mv99AJwAZQALASQB5ABOAYwAEQBrAKwA2QDPAF0A5P8bAC0A+P/r/zT/o//3/0MAHACE/2X/1/6U/zL/Jf/5/gP/gP/t/gf/fv77/fT9jP4k/rH9mf7Y/X3+zP7+/S3+A/5f/sf+Tf99/3f/9P9OABoAVABPAEYApACoAfcApQH3Ac8ANwKrAf8AAQF9Acv/lv/Q/zj9XP0k/XL8efzU/Dr9U/3k/WL+qv7V/pr/KQBnAPwBWgLzAjEE9wOaBFIF8QRMBYwFLgW1BWQF6QT4BCcEtQPSA38CGQK2AV4AXQCP/7j+l/4Q/sj9tf0a/Vj9PP1Z/df9yv0p/k7+yv5v/2D/fP/o/+n/SQBMAHcAOgAiAD4A3P++/1H/CP8m/x//hv7n/pD+Nf71/n/+Vf6G/rP+UP5p/yj/m/5gAMD++/5sAMb/Vf6CAPP/av4UAVv/Z/+m/5z/RP+E/0r/7v1a/xH/vv32/gr/1fyg/8D/Xf20/wgABv6yAA4BGf8KAjgB1AC2AoUBtAHvAdoCBgLKAeECJgH7AdAAhAGiAOD/GQEC/xwAWf8H/8T+rP5M/or+3f60/QQAkv6r/tAAVf/B/6gAdADyAAQBOQHUAUEBLwL4Af0B3wECAkcCgQEaApUBsQEjATgBdAGlAOX/RAEpAD//vgDv/wkA5/8MAC4A7P+V/28ADADc/6wAAgAcAAAAgP8nAIX/3f4jAIL+w/5w/9/+Vf7b/jX//P3z/kj+0/6C/vT+Ef9O/+X+8P///hz/YAFl/cwAQwBG/gkBAQAe/pYByf7z/fkBNP0+/9j/s/6s/rz+1v9a/UD/Df+J/gH/Zf7zAA//Bv7TAUMAQ/2vAqsAFv8gApgB4AATAaUBtv+XAg3/bQAOAlX/UQAVAsgAFv63Aqv/jf8nAL4Bkv88ANcBbv8gAej+CgHy/yQApP9fAc//RP+rAWj/yv/fAML/nf8IAcr/IwAnAAEAef//APv+7P+jACX/AADtADv/GP8KAj/+KgHPABL//ABUAJYA7f98AJ0A+/++APcAGf/YAT//+v97Aen+LwDwAJb/0QD9/1QA9QB5/vIBsP6CAFX/gwE2/6YA6wHa/5MA0QD1ATf8cgWr/Nz/5ALl/HcA+wB5/pf+3wE2/an/dP9E//v8lgG+/X/9FAG3/Y/9+P8q/zT9TwA+/7j/rv0pArv+VP5PAnD+T/9pAdj+Xf8KAj3+pgDTAYz/5//uAZsAFv/tADMCpP7d/54D7/0EAcQAdQEK/pQB9gHO+8EEzv7B/ZAEZv9W/DAGGP72/BMEh/9H/fUAUgOt+ugCuACe/UABeACb//f+xwMy/MUB7gEh/fEAyQDyAAT8ZwRQALX7tAQLAKb8ygNo/439fwNN/QEACwAOAKv9YwANAXX9yP8KATEAq/zlAnIA1f37AFkCjP5c/+gCDf1dAAMC3PqOBG8A0vq4Bv7+3/34ARcBuP/P/A8Eyf/i/JkC9ACL/i7/YgIS/mH/ZQEO/4MAHwHP/gIAiALk+5AA2QJF+6cA/wKH/JP/YwLF/Xr+WgGIADr9VAHWAo38tgDdA1/84P4QBa/79/9zBMP7RwHOAof7fwFfAzD6oALkA077ggAmBfn7rP0FBvn7+P2oA639f/6GAQf/Av/h/2UA6P2kAOcBKfpCBrr9yftdCJ35/wHLAKMA5f3W/xkGe/aJB6b/m/vuBbv9If+RAjgAR/uRB1P8lvu9Ccf58PzBCLb5UP5GB9n4MQPKAJL9FwGaAAcATfwVBwn6oQAuBG/7nQLO/rICmPxoAmQBLPszBq78b/6qBWj82f5DBcn8sv6HBHj81ACbAcn9MAHkAFX9pQCxArj56wTj/hT9+gTy+gUE5f2H/nEDKPzCARsAZP8zAC//2gFW/UIAaQKo/LUAhAIf/SwATAI9/U8B4v89/8gASAA9/ncBgAG2+1kCuwEW/XL+SgYP+3n+PQaV+vUBcAAM/1IA1AG2+64DLwJr984Ief45+/4DKgIy+10CVwMI+xUETP6+AFgAS/7DAvH9oAACAd79fgMV/XUAegOW+gYDJADb/Xj/iwEw/7j9vwIu/v//qAD//lkB2f9+/jgCFADv/XYAogLr/Uz9Iwd++37+EwcG+i4D7wBj/NEG1vmwAWAES/mXA4cAHP51AHkBtv3QATX/Av+gAdf+p/+k/30C7ProBET84QD2AOH81wP//GP/hwKL/sn7xQgU9ngFLwBO/EgEzvxVAwj8ogUV+m8E1//5/HsEO/35AEkAtv+aAP//Kv+6Amf9zgGm/7D/FgAEAJb//f/9/9H+mAFn/TcCOP4BABACw/s1Bfn7YwA9BLf3ngg6+1f+Ogfg98cERgA7/ZYDlf1FAbcAvP2PAor+AAC3AEj+ygLH/BcBGgLi+3wDyv7D/lYBd//d/tYA4//w/iIB7v6iAXL90AKh/qz/VALh/BwDxP5XAKQAKf8QAiX++QAiARj+VgIR/pcBGQAL/vwCR/4nANcA5/64AHUAiP3WAkL+d/9CAaX+OgAxAHMA4fwkBiX6MAF3BJD5zAP8/3f+w/8BAzL7jgNyAGn7OwWS/kz9bgN2ACj7AweE++D/wAPs+4cBCwG9/fAAwQBn/SEDiv0eAJQBxf53/ZAGbviqAqkEBPYMCff7xP4+AjIALPyYBLr++/tmB6L5wAEzA8v6OwNpASr6RQfp+9H+cwSw/PT/bQLq/sX90wXX+YMD1gBp/NYDUf4QAHkApAB4/tQB//4uAGwA1/8KAL3/MgEM/qwBe/8P/3ABif/A/hYCpP5+/+IB+f1hAUH/+wCt/nIBxP9M/mgDO/yrAqv/Ev4jA079yABKAWn9UQKb/j4AkgCd/vkBZP0kAqT+QgDI/xcA7//6/gsCG/1KAon+pgCH/zEAsQAV/mwCxP5L/9kB+v4s//oBf/5JAH4A///U/oUBZv/Y/u0Bcf4KABsBcP7VANEAV/1/Az79EAG7ADv+uwEB/3UAbP8HAeP+tQDx/xIA/v+l/9gA3v8G/+YBof5FABMBWP6wAdT+1AAS/wABaP/j/4MAQP9xALf/ov9iAEgAJf6FAjv+zP+NAWL+UwD0AAv//v82Abz+xgDU/0UAwP/v/5wADf9CAe7+YQCoAN7+HwFA/6AAEwD4/swBf/6TALUAd/7mAb3+FgDAAH3/tv+2AMf/Xv9NAY7+vwAqAAH/wgDh/2n/aQD7/4j/eACq/5//rwA6/ywAYgAk/8oAu/+i/5IAxf+R/8YAnf+A/xoBgP9O/38BNv+c//EAzv9r/0AAzQDQ/mgAoABT/8L/oQAqAK7+qwA5AUf9UAH7AK79sQDdAM3+e/+UAWb+dgB9AHv/DAAIAJcAbv/F/1ABV/9u/2EBiP8SAOH/1wDI//b/DQCNAPr/Zf+rAOz/JwB6/50A+P+O/1UA4//J/7wAMP///ywB6v7+/6kAtf/k/+T/QgBnAPD+pgA4AFf/SADD/5UAXf/C/6wAav8EAPf/8f8SAH//QABdAAn/gQBHADb/hgAIAM//CgA6ANb/AQA4ALf/KwAWAPT/LwCP//IAiv9j/24B+v4YAD4AAQD3/2v/5wCs/4H/fgD+/7X/BwAAAPn/z/8QAP7/5/8ZAAIA7f8cAP//5f8dAN7/SwDI/xcANwDp/xQAGAAgAL//cAC+/wIAWQCM/zoAFQC2/zcA1v8AACkAov8rAP7/7P/b/woABQDA/x8A3v8SAPn/0v89AOX/5v84AMn/+v8MAPb/+P8TAB8AtP97ALL/FAA2AJ3/owCx/w8AfACl/zQAPwC1/2MA1/8GAFEA8P/y/x0AIwDD/zcAyv8AANf/6v8hAMf/2/8cAOH/xP9FANX/2P8pAPj/yf80AN3/EQD+/+D/QQDU/wQA8/89ANH/3/9iAL//+v8WAAoAAgD0/ygAKwDe/ygANADU/xMAMwDu//H/OADT/wEA7v/4/9H/7f///8r/CADJ/xMA1/8CAOv/AQAJAP7/HwD6/zMACgANAB4ADgDl/zkA3/8KABoA0v80AOb/CwAKANj/FwACAOz/CgD+/+3/AwD7/+b/AgDy//X/GgDg/xQADADt/zMA2/8QAAQA+v///wkA/f/s/x0A5v8TAAEA+P/8/yAA4f8NAAkA/f8RAPL/HADr/wwA7P8XAOD/EgD5/+v/KgDH/yYA+P/i/ycA7P///xMA5v8kAPb/7/8QAPn/5f/5/xcA1P8nAPn/+f8oAND/LAAHAN3/JgDw/+//DwAGAP7/CgASAO//GgDx//3/HQD1/wMAAQAEAOL/CwD4//D/DQABAAMA8v///wEAAAD3////DgAHAOn/+//x/+///f/s/wIA5f/p//v/8P/6//7/DQABAA0ALQADABUAHgAPAAoA+P8aAAgA+v8IAA4ABAD5/woAEgDh/wYAEgDn/xkA9/8OAA4A8/8QAA4AAgDo/xcA+//j/wkA1f8EAP3/3/8NAPr//v8EAAcA1/8SAPz/2/8aAP7/DAD//wcACAAGAP7/+/8cAO//+v8UAN7////2//X/AAD7////+/8NAOr/+//7/+//+v8BAPv/BgAJAPn/GQAKAPv/HADz/wUA+v/o/xwA7/8AAPz/AAADAAAABAD6/xMADAD//xMAEwAIABYACwAWABIADwAPAAwACwAHAAwAAgAEAAQA9v////b/+f/v/+7/9//p//T/9//x//L/DADv//X/8P/q//H/4v/u//D//v/w/wAAAADp/wAABQDy//j/AgD9/wUAEgD4/w0AGwD+/wcABAD8/wMAAQD//wUABgAOABAADwAPABQADwAIAAkAAAD+/wMAAQAKAAAA9/8AAPr///8AAAEAAAAGAA4ADwAJABEAAwARAAsAAwAJAPr/BADx//3/9P/7//b/9f8MAOv/AQD8//X/BQAHAAAA7/8HAPT/+P8CAPj/CgADAAwA//8CAP3/9v8KAAAABwACAPX//P/6/+v/8f/u/+7/6f/s//n//P/8/wAABgAKAAwAAQAIAAEACwAJAP7/DQAKAPb/+v/9//H/AgD2/wEAAwD9/wAA9/8GAAcA+v8FAA0ACQANAA0AEAD8/wYACQAGABYADQANAAsABwALAAsAAADy//v/+v/4/wIA9P8LAAIA/f8HAP//AADy//j/7P/t//L/7v8CAPb/9f8CAPX/+/8DAAMABgAPAAMABQAIAAoAEwADAAMAAAABAPr/AAAAAPr/BAD5/wYACQD9////AAD7/wEA/P/1/wAA9/8CAPj/9P/8/wIAAAD0////+//9//r/9v/7//z/9v/1//H/8v/6//n//v8DAP/////+/wcAAQAAABAADwALAAgADQALABEAAgD2/w4AEgAHAAoACgAEABAACgD7/wAACgD///z/AwACABEAAAAFAP7/8/8CAPr/AAD7//r/+v/2//j/9/8BAPz/+//w/+v/+f/x//j/8v/1//X/+f8EAPz///8JAAQABAAOAPX/AgALAAAACQD9/woAGgACABEAFQD6/xkAFQABABcADAAJABUA+P/0/wIA+f/8//f/+P/8/wAA9//3/wMA9P///wQA/f8GAAQA9//6////7f/1//f/8P8BAPX/9v////j/9/8DAAUA8v/1//b/9/////3/9v8LAA8ABQATABEACwANAAUADAAIAPz/CgABAAsADgD6/wEA+v/y/wMA+f/x/wMA/P/+/wIA+P/2//f/8//2////AgAEAAIABQD8/wAABwACAPj/9P8CAAcADQAFAPT///8LAPb/AAAAAP7/EwAAAAUAFAAEAAAA9f/3//j//v8IAP//DQAMAAEADQAIAPT/CgAFAAgADwAOAAoACQAQAOz/CAD6/+n/BwD1//b/BgDv////CgDv//f/7f/p//j/7//1//3/AQAAAP7/AADu//7/7v/0/wMA9f8IAAkA/f8PAA8ABQATAAUAAQAJAAMABQAKAAcACAADAA8A+v8CAAQA+P8SAPz///////f///8AAP//8P/6/wYA+v8AAPz/9/8BAPv/9//8/wYABgAGAAQABAAIAAUAAAD9//z/9v/6/wAAAwAAAPn/AQAFAAsACgAAAAUACAAMAAoAEQAIAAIADAD9/wIAAQD+/wIABwADAPj/+v/t//X/8f/t//n/AAADAPT//P/4//X//P/1//z/9f/3//j/9f8CAOr/9/8BAPP/CQDz//z/AAD9/wsACQAaAAQABwAEAAIAEgAEAAUACAAKABMAFAAVABYABAAEAAYABAAAAAIAGgAMAA4AEwAAAAIA/f/+//b/+/8JAAAAAgD3//X/8//0/+z/4P/u/+n/7//h//L/9v/p//H/9P/3//j//P/3/////v8OAP//9v8OAAgAAAD//w4ADgAEAA0AFQANABQADgAFAA8ABAAHAAcACwAPAAAAAQAAAPr//v8AAAkADQD+/wUAAwD0////+//5//X//f/4////BAD5////8/////P//v/8//b/+//1/woA///8/wMA+v8JAA8AAQAaAAsADAAWAAwACAAGAAoABAAIAPv/AQD4/wMABwD0//f//f/6//z/AwD8/wIACQABAPv/BwAHAAgA/f8GAAQAAgD8/+X/8P/c//D/5//S/+L/5P/s/+n/7v/y//H/CAAtAN7/2v8ZAAIAPwB5AHwAbgBhAGQANAAwACsABgAeAA0A8v/j/7r/0v+t/5//w/+T/8H/uP+4/9X/xv/T/9D/4f/X/+P/6P/v/woABwAZACIADwAmACoAJwAjACYAIwAZAEMAFgAiAB0ABAAmAAcAEQAFAAkADwALAAIAGgAGAAEACQAOAOn/5P/8/4//KABd/03/vf81/7H/tf8WAAEAWgC+AI0A2gDbAOAA4ACmAI4ATgAbACUAwP+5/5f/Xf+P/0r/df+U/53/s/+4////0f/o/+b/2v/b//L/1P/Z/9H/sv8BALj/JADo//r/VQDo/0UAZQB5AGcAjABuADQASwBKABAA5f/a/73/xf+c/9r/xf/O/8j/AgAiAPH/KgDk/xoA4f/y/wYAof8CALj/6f/5/7f/BwDU/x4AEAAAAEcA+P8zAEQA8/88AP//LQBOABsAbwApAEIASABuAHoAOQBeAFUAPwA8AFIASgAhAEYAMAAtAAYA3P8GAL//xv+s/6D/nP+H/9D/uv+f/77/mP+v/6z/m/+s/37/eP9l/5r/hf97/6z/hv95/4L/b/91/zr/Lf9C//3+7/7V/sH+m/6Y/pf+l/6w/vz+O/9T/7b/DwBVAMQALQFoAZ4B5wEaAiACSwJ2Al0CfAJoAicCUAITAuwB0QGcAXIBPQEfAcEAiwBzAGgASQA4ACIA+/8fABgADwDu/wMAsv/Y/yoAkP+wAO//gwC8ANj/4wCn/x4AWf8K/+n+Cv6D/gb+Av4k/jL+Rv7a/rL+X/+1/wgA3AC5ALIALwBD/6r9ffyC+CT1l/PS7y7wLPFn8Wz0W/hd/c8BPQbECHwK6wxgDX8NsgzKCgUKrgqGCjoJyQgACFoHZAfWBc0CEQAr/r78//v7+Rn4xfjD+W37g/1e/gP/RAGVA4UExgQOBMsDwwS/BPwD8QI+AWsAPABD/478dvoX+X74Q/h79+z28vZp+HL6k/xi/YH+XQBbAuUDcwRXBHAEtAQLBd4ErQPoAlkClgJbAqYBnABRABEAWQCa/33/dv6q/c3+VP34/db8Mv2i/Qf+Ev8e/4sAogC/AWICcQJHArECrwLXAkwDjwN4AwMDFgJ6AN/9WPrk9PLvruyu6C7p3emq64DwN/cd/pAEDArMDFgQXhKgEnwRPg8NDB8LCQvhCOAGOgUpBPwDgwNNAdX9cPu++ib6Cvpx+LL3Gfoo/cf/awJsAy0EOgc4CUwJ9wdEBiIFBgUXBHkBC//7/DD8Qfxp+x35P/c197L33ffj95/37/c0+tf8ev6P/2YAsAGYA6kERgQYBOsDBgSMBFwEYANpAkoCUQLAARQBGwBJ/0j/HP+t/h7+2P18/Q7+eP4c/kT+oP67/tb+S/+l/tz+SP9U/8f/8f8NAIMAbQF7AXkB4AHJAQ8CjwInAuoBrAFrAXsBPQFrADkAWACZAH8BfwEYAUgA+f6p/G/52fT37wLtOetn66ntFvE99lz9nQSPCg0PuhHXEmcTbBJaD90LegiMBcsDUwIBAFX+5v1B/aP8uPuc+RX4G/iI+GP5A/v7/OX/SAT0BywKzwshDO8LgguhCZ4GzgNEATr/Av55/Jb6bPkQ+Zj4YPj/94H3uff2+FX6i/tY/TT+uf+9AYgCWQNLBJ4EyARNBb4EtAP8AqABkAARAD//zv7H/rv+8P46/2v/UP9I/z//NP9M/zX/4v6B/lH+BP4m/l7+Rf6g/nj/GwC7AEwBqAEkApAC1gIHA9UCaAJmAvgB6wC6/0b/qP69/YP9U/3E/fv+rgAUAhADdANWAjwBQf3J9PvulerR5LnkS+k97HXzXgAtCt8RlRjxGSsZdRhrE/gL/gXK/2r7L/xe/BD6R/tv/q//6wD3ALX94/uf/eT+YgByAosDeAd/DXkPOQ7YDHsJowV3AzX//fiY9RP1ufVl90/4Ufg3+jT9jf41/yn/Ef4L/6MBPwLJAWICywL3AosDBALm/uz8lPsc+tX42Pes98H5Ff3H/10CDAUmBwAJDwrYCEoGNgQNApD/Of2l+gT57fib+ar62vs0/TP/ngF2AyUEaARuBE0E/QO4AkgBJQBO/6v+bP4J/rr9c/6T/2gAEwHTAVYCZQIVAi0B/f92/+H+Qf5h/gn/+P9uAfQClANZA98BWf8i+zL0re2Z6WbmI+ah6mLwYvcFAgQMbhIJF1IYxhWKEsANaQYfANf7yPiH+Iv6Rvtj/Oj/qgLZA7cEWAQnA3IEaAb6BtQHYghiCK8JuQlDBqYCcf99+xL5A/iD9ZL0BffT+Rz8kP7s/3oABQIRA20CagG2AGAABAFfAVgAYv/a/hj+d/2G/Nb64Plb+rH6lfsr/ar+GQFdBMQGnAcuCO0HmQbdBF0CYP/W/AL73Plf+XL5Ofrs+yX+8v+KAeQC9gNsBCsEcAMGAl8A8/7y/RX9k/zR/Kv9ef54/74AzQFJArsCFAOqAiICeQGyALP/Jv9x/93/7/96AG4BPgLKAt8C1ALbAYX/B/24+WPy2ev76B/m2uVt64byqPlBBccPGhXKGBcZHhW8EBELqwIO/MH4ffYH95v6C/x+/c0BmgQNBdIFkgUrBPoFiQjfCOEJKAuhCpoKBApgBRIAfPyu+Mr15/QC9FD09veE/Kj/qAJRBD4EEwVEBTcDNQEMAKb+WP6r/jj9yfvH+/761/lY+Zb4JPit+U78FP5DAPICXQV+B48IFwiPBvUEvAI6AOD9K/u0+RP6ffr/+h/8Q/33/j8BngLUAlIDyQOBA1UDXQI4ANL+fP4i/q/96P2H/pz/UwE+Al8ClAJlAuABxAEBAZ3/Qv95/+L+mP4c/1r/XgDDAR0CkQIGBAcERgOwA/wBi/46/WP6MvIr7HHpkOVV5lHtDfPL+S0GmA8rFIsYrRcDEgMPIwrCAI/6OPfi81v1UfpI++L8ZALCBVMHhAm7CKgG3AgOC2QKoApfCjMISQjDBzcC0fz8+dX2h/VM9pr1YfbA+ln/UwK6BOsE7wNpBIsDUQDW/cT8RfzK/RT/I/5I/aL9If0e/G373PnA+VH8//6MAGACnwNWBDkFAgUaA0gBAAGLADUA8P/p/g/+RP42/jX9hfxL/Nj8cv7g/4MAiwGHAvUCHwOeAjwB/v8n/2H+G/78/Uz+ef/YAIQBQAImA/cCbAIsAmMB/P8z//7+Ov7//dv+xv87AQgDogORA3AEhwTmAoECRAJ6/xb+Sv7B+IfwueyP6Cfk8ear7J/wFvprB+kOexRnGdIWbxLWD+0HKv6C+QP2kfNI96b7pvwsAWkHSgn4CpwM4QkQCM0JLQliB3MHWgYNBeoFQAQ2/x384fnt9oL27vYe9ur3Ofx1/xcCXwSZBEoEfwTzAhoAXf41/Y/8Zf2U/WD8Rfza/KX8yvwK/Vv8sfxg/rT/xQCZAfkBwgIfAx8C7AAmALX/l//7/+X/Of8D/+f+mP5D/qT9Qv3d/bz+V/8iAA8BegHEAQgCcgGIAA8AfP8A/xT/A/8l/y0ABAE/AdYBQAITAjEC/wE+ATIBJgGQAMUAwQD5/5wAiAF/AUYCjwJoAT8BhQEvAMD/8QDk/y/+Sf85/GXzJu947JjmVucI7ofxmPhsBgQOfBFnFw4Wdg/6DA4HwPx/+Pf2CvR99lj8N/7cAaMIdAqZCgkNWwugB3MIPgh2BX0FcAUnA5YD4AOy//n8Q/xN+ez3O/nc+HP5LP3x/4UBywOYBHYDLgNOAlr/yv1M/ez7MPxR/d38If0y/sn9a/2k/R397fze/aD+j/+mAMoAdwEYAh0BXQBVAMj/e//e/8j/Sv8d/8f+Q/4M/tT9lv37/Qb/vv9PACYBqwG5AeMBrgGOAN7/of8a/zX/2v8SAIEApwE8AkICsQKyAicC8gHaATMBtgC9AJYAYAB7AOsAIgFSAdwB5wH0AFsAgADp//f+sP8AALr+b/9e/4b4g/H77pbpQubV6nvvEvT7/04LrA9DFZwX5RHtDXgKoQAm+Sb3HPTn8w36Q/66AH4HEwwdDLYN2g1BCXEH6gdsBfEDjQQhA2QC7QPuASj+7vz4+l/4t/g8+RP5mvv3/tUA7QKoBNkD5gKKAgIAbv22/LL7U/uV/O/87fwu/on+Df63/sr+uP3T/bn+zv7h/oj/RgBeASUCPAJpAlsCrQHVADAAPf/V/fL8uvyM/N78rP2J/uH/IwHAATQCoAIpAnQBDwEPAOH+hv49/h7+Bf+k/zMAagFAAnwCqQKrAmoCHgJtAZcAdQA6AK//zf/N/8T/pABEAWYB9AG6AaoApACnACL/FP9MABP/Cv9xAMn6TvLJ7/bqiuWO6VLvgfJY/TULgg/BEyQYqxI6DekK3QH7+EX3+PSl8+H51f/pAU0I5w08DRoOGw8hCucGTwfFBLcCegOrAk8BCAOVApP+JP20+5v4xvgX+iD6Sfzo/+UBPgPfBF8EkQLjAXz/Nfyi+x77Tvqy++D8nvyG/bL+Qf5h/mj//v66/iEA7QACAVIBeAEUASgAW//9/HP5dvhW+PX36foX//ABKAb2CQ0KrghiBhgBXvzs+SL3o/Zx+UD84P+JBCoHYgjbCGkH+gTAAnoAE/7o/P78h/2//m8A1wFmA7sE5QTCBFAE2AIaATn/bP3c/Lz8svyj/cz+o/8AAaUB1gBUAY0BYf9l/9H+Ivap7nns/uVs4/zp2+509L4Ctg2HENcW1hdvD+4LUQg7/dr2A/ad8z32iP7JAjoG+Q2fEJgOCBBXDt4HlwZTBu0CqgKAA/0BcwLUBBkC7v2F/Rj7S/it+Y36hvqA/bIA1AFcA4YExAKRASAB5/2Y+3f7uvqK+8795v0r/nv/U/+o/rD+VP6D/dj9/f7D/2YA1QAlAaEB4ABZ/xP+z/xg+0T7ovv3+en4//ls+lH7BP/pAR8EBQi8CUsIzAa8A+/+5/uf+a33n/h++8D+8QLEBqgImwknCS4HvwQPAqP/NP6r/cD9lP+gAbQCuARhBkEG0wWzBHkCMgAf/tb7l/qg+pT6aPtG/ZL/8wHIAhwDkgNnAUr/uP5t97zt6Oru5RjiUuhg7h3yd/4SDNsPcBSwF5gQOQtfCRcAo/c+9in0G/VP/WsDqAVkC9oPzA4JD20OVAiDBU4GIQRoAxsE2ALfAvkEuQNL/2L9ffv++Cv6Ifub+v/8KADQAZYDigRTAwMC2wHW/w/9d/yF+0H7fv3O/SH9n/6U/qn9j/6f/oj96/19/xgAggAHAZMAXQC3/+/9AfyX+kv6wPoJ/Lv94/7l/xUBOwFwAY4BBQAIAMgAWf9z/9kAyf/J/2EB0gA2AEkB5QAPAEsBPgFyAG0BrQEmATsCsALmATgC5gLGAs4C/QMCBHgDMwR4A7MBHAETAGH+Af4Y/lj+Av/K/5YAiQBuAPAAuQDl/0EA/P8B/gz+jfsP8njshum143fl/eyt8WH6+whyEL4Tgxg0FHoLNwkLAxj4LvXh9P/zn/oVA0EFswiRDgAPkw18DmoKCQV4BrgGfQToA6EC0wBGAUABKv2h+Rf5PPjE+Xz9LP5f/9ICkQTZBI0EYQKi/zj/2/4t/LP7p/xp/H7+MQB8/g3+Yv4J/Tn9sv3f/Kv97v8KAToB7wBZ/0z+wf2J+xz6T/qX+hr98/8HAWIC4AL5AWsBUwBV/ln9NP1C/t//1wA2AgsDegPVAz8DrAFVAAYAk//E/zYAs/8bADkBZAG7AR0CyAFuAi8D6AIoA1gDEQPfAmkCgAFWAGn/zv5p/i/+b/5E/5oA1QD7/wMA8/+a/zj/U/9S/if9Rv+K+pLwF+115+vhBuhK7zryWf1rC+wPrhSvF8gO4gjzCCIBSPke+FL16vYAAXMGlQZ7CuENTQ0zD88ObQcdBf4HjAYbBRIEJf+l/Q8BFgC/+3n63vkd+vn+ywG1/28A+wI3A6sDhAI0/tj84/7a/s79rP3S/Iv9ngCSAJr9pvwR/EX7QP1O/vj8K/6RAGEBtgExACT9JPwS/Az6Pvik+Lv5APwAAKAC6gIkAzwDOQIVAZP/hP21/bX/aQBjAeoCswIFAwIEkwIdAQgBTQCrAAMCjgEaAZkBMQHQAL0ADQApAH8BdwJeA5MEDgVFBR0FVgMlAbP/Iv43/W/9xv05/r//agG6Ad4AFgC2/73+rv6W/k78Mfyg/dj3QfDI7WDoLOWh7JbyI/VHALwKgA2cEscSrgm6BuAGJAC4+2P73Pge/PQFkAiaBzIKmQr5CjYOggznBTcFWAdyBkUGgQP+/PH7VP9A/tH7Pfv2+UD8ZQK3Ay8BgQATAPv/cgHa//X7GfxZ/g7/9f8aAOL9lf4NAXv/H/2i/HL7yfu7/sD+1f1U/3gAwAA0AEr9mPq1+sD6J/uO/D797P4YAgkEdQOKAbr/Of9o/xX/rP7A/rX/CwLFA8kDNAMUAq4B2QGgAfwAjQDTACkBfwH0ALX/Cf/u/nf/6f9LAHABXwI5A0QEXgSwAyID7QHYABkAw/41/hf+cf6p//MArgHEAYUBIwFYAOb+BP6L/Xb8P/2J/5b5PvH47ofpYOYp7bDyoPUKAfwLJA6hEPAOfwUnA6sEGv+N/Dj9Svuo/34IjQnwB6kJ/QjCCGcLOAlYBEoFRgclB2sHgwOL/e78Tf4i/VH8LPys+3r+4gPqBBsDNgIGAD7/ZACf/lP8Uf3w/vf/owFtAZr+Fv6v/vj8Cvz5+4j6PvuP/rz/rv9sAK7/wP7L/nX89/k++kv60fqR/fL+PP87AXgCwgHFACX/dv34/Sn/Rf+WALABugEHA7YDqALGAYMBYgGSAWcB/gC2AKAAigBSAFcAuv8F/7//egDfAAUCsQL+An8DlgPtAh0CSgGPACoA/v+j/xP/If+t/7UAWwElAa4AIgBR/+7+pP54/Rz8tv33/en2W/K+7lXo4+n28Ab0evgqAxIJ5QqDDfoI2wHsAhIDxv//AND/ov4oBfwJWwhLCF4IoQaVCGEKDgfdBIMGqQY9B+sGYwGM/QD+Lf1N/Nn89vsW/Kv/gwJdAo4BRACh/sf+QP/9/ZT9ff5N/8UA/QHMAPv+6v4k/uj8F/2D/LX7Q/0w/9r/aQAEAP/+kv4N/rH8XvtI+1r7Vfxd/h7/pf92AP0A/wD3/wL/ev6E/lj/LwDIAGcB4AFOAqwC+QFOAWEBSwGQAbcBoQF/ARYB6QB3AAUAu/+V/+//aQAbAa0BRAK2AqECtALTAl0CkgE9AewASAAiAMT/Wv/Q/1oA+wDkAHkA1f/t/t3+Df5O/Yr8Wv0g/TL4bvV48X7sxe1M8ZnzUvf+/vMDIAaOCKEFkwKZAy0DMgLZArABpwGkBhQJ4QePCIMIrQeoCNsIZQanBKQFiwViBRwF7wFbAJgArv+d/jj+EP1x/If+tP+h/7n//f5B/qD+Ef9n/on+6/7t/lsAJAHq/03/lf/c/pP+r/5x/cz8cP1X/rz+yP7l/pb+Cf9B/zn+kf0a/X78m/x7/WT9pv02/9z//P+i//n+sP7v/sf/DgB8APoAHwHyAUMCmgFrAaUBUwFgAacBXwF7AYoBfgGAAQABrwCqANUA8wALAXgBXgEUAUMBNQEQARYBGgEUAQwBBwHJAIwARQDy/xAAMQAqABIA4P+W//f+gf42/pz9Xf2W/eD8mPuH+mf4dfYP9gH2gPZ2+A77nfza/Qz/6P5o/8oAGgF6AQkCQQJpAyMFFAbtBuwHMAhnCLAIRQiJBwEHlAbiBf8EMQSJA28DcwM4A5sCiwGRAKz/Cv9h/qb9NP0E/fP8Ff2S/af92/1Y/jD+4v2k/Wb9ef29/ez9Bf4r/kf+Y/6Y/qz+nP6x/un+If+X/97/4f8jADUA6v+w/1r/s/6D/pL+dP6O/sP+6P77/iP/RP9j/5T/4/9YAMcA/wAeAVoBXAESAfMA1gCAAI4AvwDaAC0BcAF3AXUBaAEwATABRgErATcBWwFBAT0BYgFTAUcBNgEDAfAA5gDGAN4A7gC4AG4AMwD2/7H/b/8Y/7/+W/4F/vX95f1M/ar8w/sP+rH4+Pd698/3E/kD+qv6bfun+wv8Jv3P/Tb+Kf+j/0sAHAKbA68EHgbTBgQHiQexB6gHFQhHCPsHwgdbB8EGowa3Bj8GvwUYBQ4EGQMnAiUBQAB5/9n+i/4s/uv94/26/XX97/xO/Kz7VftX+237rvvS+9D73vsA/Av8Rvye/M/8Tf3Q/Tf+xP47/4n/5v8qACMAMABPAB4ALAB3AG8AeAC2AKEAmwDsANgAsgDSANgA4wBEAVIBHgERAbsAawBeADwABQAuAE0AfQDXAOwA3QDSAKUAggCKAKAAzAD/ADgBWQGLAaEBpwGXAW8BZQFRAVYBdgFuAUoBMQHuAJYASwD4/4P/Kf/e/nv+Gv6t/Sb9jfzW+4/6Nvk6+Ir3s/d0+C75sPkA+gz6HfrM+r77cPxT/R/+4/5tAP4BWgPvBAcGnQZPB7AH+QefCOcI9QjzCKsIdAhrCGgIMAjOBx4HCgYBBdwDogLoATsBaAC9//b+Qf7j/Xz94/xW/JL71fqg+or6jPq6+sP6wPrg+hH7O/uC+9f7Kvyy/E39xv1C/sT+Gf9w/9n///8jAFQAKAAkAEwAUgCQAMIA1gDuAOwA2ADMANcA5QD4AAQB9wDSAMMAngBnAGIAOQAlADMARQBwAMAA2ADMAMgAhgBvAHIAlACqANUAFQE5AWUBkwG1AdsBFQL+AdoB1wG/AcEB2QG8AVoB6gCGACkA8f/P/3v/D/+9/j3+w/2g/TP9j/zV+3X6EPkt+K73zPeK+GX54/kp+iP6B/qy+sP7l/yV/XL+IP+WAFkCvgNhBXYGqwYVB2IHhgc3CLcIwwjjCM8IaggVCN0HUAfABi8GJAUPBBcD+AEwAdEAPACC/9T+D/5y/R/9ovwz/Mr7O/vo+uf6HPtZ+437gvtg+4n7sPv5+5f89/xY/eH9Qv61/ij/ZP+X/+L/CQAYAC4AMgBdAIsAvQDQAMkA0QC1AJkAmACyALkAvQCnAJYAdABpAGcAOgA1AB0AEgA4AFYAUgBhAFQAKgAxAEMAPwBqAIYAjQC1ANcADgE+AW8BegGdAbsBwwH0ASUCLAI0AjkCIwIbAuwBegHrAIEAOwAHAOr/rv8h/67+GP56/Rb9tfwR/FH7fvom+S/4pveI9xD4E/nm+U36q/qp+vf6DvwW/RH+Nv/T/9AAlQIkBKAF7AZdB4IH3wcECIEIQglRCS0JEAmXCCcIyAcCBxcGbQWHBGcDagJSAVoA7v9c/4v+0P3f/Pn7nvt7+z/7N/vk+pX6t/rv+l770Pv9++H78vs7/Jz8Sf3f/UP+xf4f/z//lf/L/9P/FAA7AB0ANwBTAEgAjgDNANUA0QCdAD8AGgBPAIgAwADmAKQAdACHAHoAigCtAK8AjAB6AH8AlgDOAO8A+QDsALUAdwBqAJwA0AD7ABUB5gDBAMUA4wAXATwBWAFlAW4BfgGXAZwBggFcASEB7ADAAHQAKQANAPX/y/+f/xT/af7Y/WP98fyi/Fr8Rftp+k356vei94D3s/eP+KL5vvqP+zv8ZfzE/Ar+6f4CAFoBDQJbA0cFqga/B78Iugh3CJsIeAjACDcJBQmWCBsIdgedBsQFtwRJA0YCYgFQAKb/9f4+/tb9Uv2h/Av8Zvvw+gz7RPuh+wv8FPxG/JH8y/xb/an9rP3l/R3+if4y/7T/9v8cADIADADt/7z/cf9X/3f/wP/b/zwATQD5/xkArP+R/5v/OP9h/2L/rP/4/xgASAALABgADwAWAGYAfwDRAOoAFwEsAfMADwGmAJ4AvQChAPAABQE8AWMBSgE8ASMB3wDJAPIA5wA9AYMBbAGLAUwB8gCLAA4Aw/+h/7j/z//Z/3r///5h/ub92f08/UD93PyS/B39Jfz7/Bj84PkO+ov3TveN+G74mPrY+7b9Jv9W/ygAEf/6/38B6gFgBIkF+AV/B0EIMgiiCJIIaQeUB4wHcAekCFMIjgeeBtIEdQMHAhEBKQB5/4r/Bf+7/kr+Fv2R/Av8NvtM+3L7YvtX/Bb9j/1R/tn9Tv1L/SD9rv13/uv+Qf9u/3T/M//T/o/+Z/6s/l//5P97APIAkQBfACYAXf+P/8L/lf9tAJ8AkwDGAAMAy/+3/47/8v8ZAG4AqgC9AMQAaAAZANb/rP/J/ygAagCGAKUAawBXAEQABgAbAFYAoQDZADsBQAH8AO0AeQBtAFYANwB6AGoA0wDRAIgAdQDT/47/ef9s/0f/K/8C/5H+af7y/cj9//y2/BL92/sc/X/88fm3+mD4p/fI+av5kvtC/df+JwCHAKgBswCHATADFgNDBa8GTgZvByUI0waRBw0IiAbKB5kHEQdpCC0HFgbeBCwDMwIRAcMA3/+D/8n/xP6V/lD+0fyU/NH8wvtF/Dj9JPw6/eP93vwe/nf9jPyi/fn8S/0j/pX9Lv5u/l7+3P6M/g//C/8d/3YAFAD8ALIBtQC5ARYB9f+yAPL/rf/UAJcAmAAGAQoA+/8UAIz/4P/p/9///v8eAAoAr/+7/zb/Ff+C/z3/x/8qAAQAMgAiAPX/g/+4/27/av8YAK//LwAdAKv/9f+N/5v/Vf9J/0v/Jv/O/1P/gP9G/7P+K/+q/uv+rv4T/1L/6f64/7X+eP6K/hj+aP6y/pX+Uf0W/Uf8bfvJ/ID9Lv7h//YAWQG5AfQBQAGNAaoCCwN4BEoFQQUiBQkFpgQ2BAkFrAThBKEFFgUfBX4EPgNtAq4BTgH6AKsAlADq/73/bf9T/jb+xP1F/Qv+C/7u/Xz+/f0O/lf+S/6j/lv+rv6t/qX+bv8k/1P/3v9u/7z/8/97/7H/hf9d/67/lf+3/4v/Qf9T/+v+BP8B/8P+Ov8e/0v/Zf/r/u3+j/6G/s/+y/5G/5P/qP/m/+//9v/o/97////7/0UAZQAcAFgA7/+H/9D/fv/N/zEAOgC2AJAAdABcAOf/8/+V/2z/3v+n/xcAYwDc/ycArP+B/wAAcv8DABEAlP8jAJX/if+w/wr/hv+K/0X/q/9B/2X/vf9q/zwA/f85/2D/Jf5l/vX+vf44AD0AsACMAcMANgHuANYA9QH7AbcCLQOOAsICaQIxAqwCawLAAvsCyQI5A9ICXwJIAk8BdAFuAcYAHgFaAPX/HwCK/33/Ov8E/xn/4f76/qX+Xv6P/l3+pP7r/qv+v/7i/qz+yv79/uL+/v4B/+L++/7Z/s3+0v7S/hD/Cv8D///+2v7W/uz+Bv/7/vX+//4A/wz/G/8k/yn/bP+a/67/HAAVAAMARAASAAkAHAAGADEAJgALAPX/qv+a/5D/of/f/wEAGgAqAAAAxv+a/2f/Z/9D/2H/3f/T/xcALwC0/9z/lP+V/9j/uf8dABUAJAA7ALD/+P80AAgAZABLAE4AegBtAK4AiQBkALoARACnANAAAwDoAKAAdQDlAIIAgAAZAAUA2v9n/5f/dv8w/xkAwf/H/5sABQCIAOAAoADyAMwACwFYATwBiQH+AAsBYQEMAaUBeAFOAY4BMgFvATgBxADeAKYAtQCuAEoAFQD4//X/JABJAD8AEQDi/wAAof+C/4j/DP9Z/1n/Kv9f//b+3f7c/ub+F//2/hr/yv66/tH+jP6Y/on+cv6p/sf+r/7S/sv+3P4c/zf/Z/96/3P/b/9q/5T/oP+M/8b/u/+r/9z/y//y/9r/wf8HANb/AADf/33/1f97/17/pv92/6r/t//e/woAEQAWAAcAHgARAOX/x//Z/5v/2P8pAEgApQByAEIAmgBpAEwAggApAI4A+ABbAfMAcgBrABAAtACfAKIAyAD4APIA4AACARIAPACfAIEAmAA7AAAATgCOALgAswDGAGQALgBbAPn/4P8DAAIA2f8EAOP/yf8FALf/xf8LACEAJgDw//b/0v/D/xsAp/+o/+//7v82ADIATwA/AJIAmgCKAJ0AlACuAKYArQB9AJ8AqwCeAKAAlQCgALMAkwBzAHAATgBSADQAGADX/8r/1/+J/5b/dP81/yn/Sv8k/+X+6v7Y/s/+9P7W/qP+6/76/vH+IP81/xX/KP9Q/0T/VP98/3f/W/9q/1j/Qf9i/zz/Q/+E/7L/1//B/6r/cP+A/5r/qf/a/53/of/Q/9//3f/X/7D/zv9cAHUAhwBPAAUAGABeAMMApgB8AEAALAC7AAEB1wB2ACoAWADVACUB+QBjAAsAmwAkAXgB8gDM/6//9v9wABAB7ABoACsARwCSAHYAOQC7/0D/4P9QAGwASwBU/9b+gf83ABQA0v+b/5r/+P98AC0AVP9p/z//cf83AMT/L/9h/3P/zP9QAIMATQA5AIYAYABzAJAABwDz/30AgwBlACgAxf8GAG4AxwDgALQAmABsAIcAuwCRAGQARwA9AFIAQAAgAAIA9/8ZACIAFAANAOL/uf+2/7b/2P/k/5j/lP+M/2z/mf+U/4X/cv9U/03/eP+L/yv/BP8U/wr/W/91/2T/bv9R/zn/Tv+S/4H/if+N/5D/uP+h/57/n/+f/8f/x//u/+T/vP/b/9D/AADw/8j/9//z/+X/BQDt//H/IADq/9v/AgAMAEcAhwCMAHkAewCCAFkAqQCJAEEAxQAtADcAwwBAAJAArgAEAAYASAD0/4sANwGOAKgAmQCz/7H/NAD7/wEAXABw/5r/RACI/9v/LACM/yQAXQDy/wEAyv/V/x0AUwApAP3/u/+L/9P/BwASAAoAzf/X/yAAIABCADQAz//9/0cAEQA5ADsAAQBTAGgARQB3AEAABwBSAIgAkgCFAIcAZgCaAN4AxwCxAHIAYACFAJ0AgwB4AGkAPQAPAAAA9f/3/xgA//8AABgAFQD6/+X/sP+K/7z/pv95/3j/ev96/5b/jP9O/zf/Nf9D/1n/cP9p/13/Y/9R/1P/Sf9M/1D/QP9m/3f/af9U/0v/TP90/6b/qv+e/5r/p/+//9D/rf+S/6T/xf/T/9b/u/+2/73/9/8fAPj/AgATAA4ACgAaACQAJAArAAQAAAA4ANr/2v9MABcAQACuAIQAUgBDABEAQACCAEgAJgAuAAcA/f96AIcASwBvAEAAYABpAHoA0QCzAIkAlgBfAGUAlgBeAKsAggAvAEEAMADA/+X/RwAEAFQAYAAGAAsAJQCZ/9v/LgDB/wAA/f+J/6v/+f/T/wwAQAAlABMARwBhACcAVgBdAGsAvQCOAG8AkABvAE8AmADMALwA2wC/AIMAfQBKAEYAagA1ACUANAAcAOf/pv+Z/7D/zv/G/7X/mv91/3v/Vv9R/0j/Nv80/x3/GP8a/x7/EP8K/wn/IP8//zv/Pv9R/0z/Uv9r/2L/Zf9z/3j/iv96/4H/uP/R/+n/AwD6/woA9f+0/9D/zP+m/8H/5P/D/+H/yf+R/8b/tP+6/97////5/xIAGwDt//L/+v/l/87//v/+/8b/5v/+/9f/SAChAIsA2wC+AG4AewB5AF0AdQCeAHgAiACpAHMARACVALYAuwDmANgA8QCtAGAAVgBuAFMACQABAJH/g/+R/3P/+P8TAMf/IwAPAJ//yf/M/9D/IQAvANf//f8FALz/4f8aAFcArQC7AIUApACyAG0AjwCzAOYAIgEFAfIAyQCVAGQAoADRALkAzwDHAJgAbgA4ABoAIAAnADAABgAFAOz/f/+G/5H/gv+5/6D/Yf9G/xz/7v7k/g7/Dv/j/vP+Df8G//7+F/8q/y7/W/8z/z3/bv8j/zn/Qf8U/yD/Gf8n/1f/X/9g/7r/sv+u/9z/uf+z/8P/pv+M/6//qP+B/3X/n/+1/7b/CQAKAAMAcwBtADcAmgBXAMH/HgD6/7v/MAAgABsAnABqADUAhgBHAFQAigByAMIA3gCVAK4AcQAQAFUAQAAkAJgAqQC5AAwBmABiAHYAVAB7AIkAXQBeAB4Auv+v/2//mP8XACEAYACzAJQA2AD6ALUA+AAqARQBJQHPAHoAkgB1AHMAowCRALUA+wC3AOoAHQH7AEgBJgHMAM8AfwALAAwA4v+u/8X/l/9P/0X/H/88/5j/rP/f/+n/4//r/8L/s/+9/6X/kf+R/0z/MP8+/zP/Vv+O/6f/sP+x/6f/qv+z/8r/yf+w/5r/bP82/yn/K/8s/1X/bf9n/23/cv9N/1L/i/+e/6b/s/+T/2D/Uf86/0T/d/+J/3v/dv9n/2r/bv90/6H/qf+4/7T/tv/Q/+//GABBAGkAewCMAG4AggB7ABIAMQBMAMz/AgAfAK//SwDKAFUA5gBdAXMAvQAGAS4AxAA3AVAAYwArALr+b/6N/uX9n/68/wkAogD5APUAHAGaARwCpgL9Ah4D2AI2At8BRgHGABsBQgESAYgBjwEwAX0BnAGXAd8BCwK8AYEBSAG5AHsATQAAALr/m/9Z/+3+4v6g/lT+0v7v/sX+Qv8O/7n+9v7T/sL+Dv8G/+D+1P58/jX+Nf5N/nv+t/4I/zD/QP93/4b/w/9KAG0AZQBxABsApf+l/3//Uf+U/7T/m/+o/6T/iv/G/wYAFABPAIoAYABLAEYA///Q/93/y/+1/8z/rv+A/4r/j/9v/67/+P/6/w4AEwDT/77/5//n/xUAYAA5APz/3f+A/0P/Sv9G/0H/Lf8q/wT/+P4Y/3L/3P9FABUBGQEyAUsBkwB6ANEASQBKAGMAZf5N/YL8y/pb+7X87/zM/loAUAC2AV0CXALjA7oE3gTDBYcFZQTEA3ECdAElAcUAEgEMAQwBcQEjAU8B5gG0ATkC2AIwAngCogKFAa8BkgFgAGkAAgDV/uD+m/7Z/S/+TP4F/jj+QP4r/lX+cP6r/uX+B/8y/8r+pf52/sn9wv2z/T79sP0I/p/9S/5//vz9xf4n/w7/9/8RAMf/VAAJAJ//0P+i/7P/GQAoAGoAiAA6AEMASABfALsA1ADfAN8AhgB1AGsAPQCLAKYAowDiANIA2wApATkBWAGGAWsBWQE3AecAvQCEACsA+v/b/9b/x/+3/9//rf9p/4X/c/+H/8n/lv9n/xT/Rf7l/az9V/2a/Sn+qf5F/+v/MwBzALgAlwBZAGEASAB5/93+h/2i+oL4Dfcr9ur3uvrU/E//wQAYAa0CLAR3BeEHZQmcCZ4JVQg7Bm0EmwJXAfYANQGyAb0BfgFmARUBXQEdAiMCxAJTA+oCBgPnAjoCAgJ/AaYAfAAuAJX/Qv+9/jT+4/2e/UX94Px9/Fn8dPyz/Cv9af2J/a/9cv1n/aX9l/3r/XT+jv4H/0D/9P78/r3+Y/6m/uL+7P48/z7/Vv5w/S397Pxm/RL/PADEAFIBRQFdAVMCKQOrAxIEdwMfAmgBugDu/+j/1f/g/6EACgFIAasBuQH2AaECQQN+A2wD+ALTAfQAwgBPACgARADN/7f/1/+R/6D/lP83/1b/WP8p/17/Ev+F/ov+Uv5C/rP+av7k/Z79Qv1T/eH9kP4j/4j/WwDOAKEAvQAdAAr/a/9R/zT+mv0o+RfzCPEF8OHxyvi5/Nv9gACIAAgBHAXcB0UKmg0iDlINpAwrCvYGWgS1AloCAwMbBBYEXQJCAbAAW//X/6QA3//iAPQB9wChARMChgDeAFIBkgANAW4BhgAgANb/C/+E/tr9+vwJ/K/7A/z2+zD8BP2n/Dn8nfzp++z7Sv1+/Tn+zf/S/wkAcwC+//j/ZgBUAA0BWwFXAacB/wC6AEQBhQCbAOEAW/9R/9D/G/5k/rf+gvty++b7wPnr+87+X/6wAMYCqgHvAv0DEwMKBLwE8AP0A40DJQLVANj/Yv/w/iD/EwAsAGcAZAEiATwBWAKvAZMBPQJTAQoBUgGIADAAZQC9/2v/n/9q/2f/hf92/3P/ev/I/9P/m//J/1f/tP4L/9f+Yv4M//X+o/5m/4D/X/8xAJYAyAAmAYEAX/+1/kX+Av6q/Zr7RfcJ8n/uE+4T8av2dvuo/dr+8v97AQcF+wjkC4EOxA+MD70OxwyLCV4GLwRfAwQEwARABGACKwB5/oz9c/3u/Y/+c/+1AHsB+wFCAtwBlwHXASwCwwJDA+AC6wHLAIX/d/54/XL8v/tN+xT7GPsC++T65Pqw+tP6JPue+6P8vf3c/iEAFQGVAQ0CLQJMAqQCyQKzApwCHAJYAbMA8P83/5T+8P1j/Tn9Wf1h/VD9h/2R/b39Wf6u/sT+Hf9M/0r/mP8UAFQAlgAXARwB2wDNAEwAjv/b/wwAhP83/zP9T/lf+BH6kfxMAnEHGQgmCOEHQQbnBn4ITwjwB8EGxwM4AVj/8fxH+037avwp/i4AfQFaAQsBXgFbAZEBOwJgAUgA7v/N/hv+Sv7O/Yj9H/5X/nT+2P76/o7+gf7h/tz+2/5X/w//gP6//un9ovyg/PL7vPoY+8L5zva59ffzpPIy9dL34PmW/b3/wQBgA0sFqQY7CQgLwwuODJQMbwuoCe8HRAZ9BN4DhAM9Ao0BDAGt/x7/8P7q/Rn+/v40/0QAgQHZAVkCwgKeArECEQMEA/ICwgIcAhoB/f/4/pP9qfw+/I37Vvt3+wf7zfoz+xj7WPtI/Jv8KP1F/gj/xv+2ADUBcQGfAYQBhQGUAaYBsQFvAS4B4ABEANH/h//4/q3+ff4S/hD+CP7U/ez94/3n/Tz+Fv4L/or+d/7S/q3/P//f/jD/uP4O/7cAgQFFAmkDJAOzAhID5ALhAmgDRgP0AswCSwLDAXYBJwHiAMoAFwFtAXoBygHKAVkBawFsAQYBJgENAWEAXwB2ACcAFgDU/yH/0f6t/mP+W/6P/o3+h/6t/rP+of7B/sb+Zf5e/mz+LP5g/tT+tv67/mL/cv+i/1QA5f8M/xT/vv4I/hz+y/vf9h7zvfCQ8Nb0RPoS/Tb/SwBAAEICvAWECGQL+g2sDpMOCw7/C7MI0gXtA70CRQPzA3sCfQDC/kr8C/sv+/D6x/uc/Yv+kf8RAY8BrwFpAgcDeQN3BOsEUASZA4UC9ACw/6r+ev12/Mf7Vfvg+qH6rfp5+nn64fo++/r7C/32/f3+EgD9AKwBCwKAAvsCDgMuAzIDwAJHAoUBrwD9/zj/vP47/kz95Py2/Dr80fxZ/Uz9Gf7L/sn+iP9AADMAtwBAAckBJQI5AlQCCAE6AG4BrADo/9QAVvvK9Xv3QvdU+rQE/Ac9B8oJ0QZjBAgIoAhdCIgJDwdjA3EB6P7T+9n5Wvqe+9j87v/pAKX/qgAJASIA0QEeAk8ArgAVAJL+Tf/M/n39Af6o/bL9Df/o/sL+Bv9u/gr/hf/x/mD/Cf+j/nL/2P4d/pv+Of0j/OL7s/ci8zTwS+3T7r30P/kG/dH/8f+AAbIE8AeQC4oO5w9nEGYQiA9FDZcJqQZABNQCXwP9AiMBbv/N/J76vvpp+q/6cPxP/Y7+jADVAfQC4AM7BAwF1wWABgYHEAZ8BA4D+wBi/4L+2PyO++b6xflH+Rb5S/gD+Cz4W/hQ+dP6OvyS/fj+NQBlAYoCTAPOA0cEbgRlBEoEqgPaAuUBmACU/9j+Gv6b/S79jvwF/L/7vfsO/Lr8gP00/ur+jv8nALQAIAF2AeMBdgLDAqIC+AGoAH//2/6p/s/+iv7+/fD8avu++2f9w/4VAc8CtAJdAxME1gOcBCoFZAQ3BPcD9QKfAuwBYgC2/5D/l/8dAGUATwD7/6n/3v8PADEAWAAVAPf/+P+y/6n/j/8Z/wH/GP/k/ur+/v6B/kP+X/4q/lb+nP6N/tv+4/6p/uT+5v7w/ij/K/+c/+f/2/9YAHUAJgCaAIAA/v+cAFQAbv+i/wH/r/1Q/bj7wviJ98z2x/ab+UP8o/1d/40A9gChAggFpwZ7CAAKXAopCuYJzAiqBj8FIQQJAwIDywJXAdr/bP6Z/OL79Pvb+3r8Zv35/dP+3v+OACkB0wF1Ai4DCQSEBDsEpgPJAr8B0wDk/93+7/0a/Rn8Yvv0+nz6Pvo++jL6kfqy+2/8Wf3D/kv/8/8ZATwBfgGIAuIBfADT/zH+BP52ABMCZQOFBCsDkQEmAZYA1wB/AUcBtADt/x//ZP6d/UX9Kv2S/Qv/IQCsAGoBPQG5AF0BgwFpATsCEwJdAXUB8QBKAIcAIwCF/23/SP///sn+xf6w/pn+EP9t/0H/v/96AJ0ABgFFAXwA6P/S/9X/GQBGADwAOwD+/6gApgC7/uL+I/+M/RL/9/2H9JruF+w56RTxl/yc/sYAIwNq/4MBywf1CG0L7w8fEEcQxxG6DmMIDQTaASEASwJxBR8DpP8r/mj6Fvib+ez4H/ni/M3+MgAsA24DUwKrApICMAOYBW0HWgcIBjoEEgIYAOL+dv3u+6j7Oft2+qv6Bvqe+EH4yvfk90L6avyq/WL/bAASAWgCBQP0AsoDdwRlBKMEZAQYA/gBvQAe/1D+BP6W/TT9mPz4+6X7dvuO++X7q/zW/aL+af9LAMEASwHRAfkBfwL7AvsCLwMZA64CkgIgAlIB4QBvAOP/o/8w/53+xP7P/j/+IP4t/hv+4f6z/xAAtABEAWUBdgG+AfIBLwKUAtACggJLAgECLgHCAJwABwC9/6T/Ef8g/3T/Z/99/33/Y/+X/wsAbQCkAK8AnQBwAEwAQQDz/7X/uv+V/5v/t/94/xf/1f6F/oP+vf7H/v/+H/8E/xT/Mv9B/17/hf+j/+//TABNAFkAPwDU/87/4//j/yEAVQA2AEAARAAKAOP/n/9V/0f/W/90/4L/Sf8C/5X+Xv50/mz+lf7B/uT+Kf9+/5T/tf/1/z0AlAAHAXsBtAH0AeMBzQHqAf0BDAIvAiMCJgJWAjoCKAIIAs4BwgHOAbgBwQG7AXUBMgHRAIYAXwA9AAAAr/+b/47/Z/9T/yz/5/7j/gD/HP9U/3P/a/9d/1j/Tv9l/4D/bf+D/47/ff9g/yr/Ev/y/uP+8P4j/0b/KP8f//T+yf7l/tL+zv4G/zj/Z/+g/53/d/9z/3H/f/+t/+P/BQANAAwADgD7/wsA+P/F/+z/DwAWAFMAPAD3/xUA/v/9/yAA7P/E/7D/Xv82/yL/xf6I/mf+OP4m/jD+NP4//nz+Dv/s/xoBUgJMA/gDgQTZBC8FhwV2BTQFAwVvBKwDCwMtAkgBiQAIAL3/rf+Q/1f/IP8N/wr/Jf9Y/23/w/88AIIApgDBAIQAXQAtAOz/xf+V/1X/B//S/nX+UP41/hn+Gf47/nT+lP7d/gL/D/89/4D/lf+z/9n/0f/w/wQAAAAIAB8ACgD//ykAJQAYAAgAvv+Q/4n/dv96/1//Lf8J/8r+lf6G/mv+X/6H/qP+0v4c/zr/ZP+E/57/zf8GAFwAqgC2ALUAhABTAEYADQC8/2j/Jf+2/nf+AP6J/fj8CPw5+6r65foB/M79mf9HAXACSANMBCgFDgYLB84HJwg9COEHGQfaBV8EDQP4AW4BBAGUAPv/Ff8p/mr9F/0W/Vr9+f25/m//MQDMAA4BQAFWAWQBhwGZAaABTQGsAMz/BP9U/qf9Dv2a/GT8S/xN/Cr8F/wW/A38dvw1/fH9zf6U/x4AugBFAYQB4AEWAgICEgIfAvQBsQFOAc0ATQD5/8D/i/9r/y7/FP/7/tT+5v7h/vH+If9f/5z/v//a/+D/9v8JADQAXACWANQA7gDuANEAygCxAJMAjQCGAIEAjwB7AGIAPQAZABMA7f/n/9j/zv/c/8n/wv/j////+/8VAB0AMABTAFYAUQBdAGgAUwBUAEsAGADt/7z/Z/8y/+f+iv5A/vX9nf1M/eH8Vfz3+7D7yvuI/Kv9vP7R/94ArAFsAiYD0QN6BCQFfQWWBYAFGQV3BKcD0gIYApsBRwEGAYsA7v9i/+r+kf5L/jn+Zf63/h3/gv/i/ygAQgBfAF0AggDIAM8ArQBmAAoAp/9O/wD/m/49/vr9xv2s/Zf9gv10/XL9gP3W/UT+qv4W/4T/7v8qAHsAwADWAAABKQErATQBLgH5ANkA1gDnAN4AwQDCALIAiABbADMAFgDn/7f/kf90/1X/U/9u/3L/kf+e/8P/CwA9AG8AlQCsALkA0QDFALMAuQC5AMIAnwCLAIsAUQAvAAoA2P+z/6v/lf+I/5L/nP/M/+X/6P/k//f//v8aADMAOgAxAPH/1P+t/2v/Uv81/9X+cf4A/ob9mfxc+x76FPkW+RP6mPsA/VL+XP86AD0BRgJoA4QEoAVsBgkHRwfhBugF0AThAx4D8wLVAmMC5QFFAWcAqP8h/67+kv7p/nD/8P+aAO4A1wDGAI0AbwCeAN8A3AC9AJEAGQCj/yH/h/4h/un90P3l/RT+KP4K/tP9qf2v/en9Rf6g/hL/fv++//P/9f/k/97/6f/x/wwAOgBUAEwAKwAJAO3/8v/8/+7/5v/x//P//v8PAPn/zv+//4//ev+b/6T/mv+s/7z/uv/Z/+v/9v8cAFgAjACwANsA5gD8AAsB9gD3AOwA3wC4AJIAjQBYACgAAgDm/9P/yv++/7j/vf+r/7v/wP/X/+//8/8GAAwADQAVABwAGAALABAAAAAAABMAAQAPAAYABQD5/+r/8P/i/93/5v/6//3/AADk/+j/+P8JAAMAAAAAAOr/9P/j/+L/2P/2//b//P/+//n/DgD//w0ACAAXACAAJwAdAAcA+f/g/97/5//h/+P/6f/s//v/AQAMAOv/5P/4//j/GAAxAFAAXgBCADoAHQAPAPP/5f/2/wkAAgDX/8z/tv+d/4f/iP94/6D/rf+t/8D/yf/U/9D/5P8CACoALABZAIIAkwCJAIgAfgBhAGAAVABdAFgAQAAyABMAAgDt/87/3P/N/+D/BADy/wIAFgAGAP//AAAmAEoAVABmAGIAawBRACEAFQD//9n/z//a/9z/2f/O/7H/lP+Y/57/mf+0/7n/uf/F/7X/qP+0/6f/gv+Y/8H/xf/O//f/BgABAAAACwASAAsAIAApADEALAAdABYADwD4/9v/3P/b//j/8P/t/xUAHgAUABIAGgAqAFQAYgBnAHMAaQBlAGoAXQBRAEQAPgArAB8AKQALAO//3v/W/9H/vf/H/9L/x/+7/7X/uf+//8//0f/N/8b/8f/v/9b/AgDv/9z/6f8CAAQA9P8JAPv/+/8NAO////8VAP7/BgD//+f/5//z//7///8AABQAGgAYAB8AIQAiAA0AFAAmACIAFgAYABQAEgD6//X/8f/2/wgA7f8DAAMA9f/s/+v/4P/o//T/AQAKAPz/CQDx//r/9f/2//D/+f8XABwALAANAAcACgD//wUAIQAhACcAOgArACIAGQABAOr/6v/2//b/9P/6/+n/6//s/+D/3f/L/9j/7f/v/+7/6//m/9b/3//t/+b/9v8jACUAKwApABAAEwD3/wgAFAAiAEkARwA9ABYA+//2/87/yP/O/8n/0P+s/8f/Hv98/mn+Lf7L/rr/kQAcAaoBvQFaAV4BNwHOAMIAzACYAM4AlgD7/73/j/9p/8T/KwBLALgA/ADtALIAWADV/2r/S/8n/zH/gf+X/4f/iP9u/1D/Sv9K/1n/r//5//D/2f/G/5b/f/9E/zT/P/9v/7z/rP/o/83/u//c/8v/vf/d/xoAMAA4AC4APAArADcAAAABAB0A/v8fACcAPgA0AEAANAAfAC8ALQAzAC8AVQB0AJQAhAB9AJAAkQCQAI4ApgCwAMEApQCmAKMAcwBgAE8AMwAdACcAGwAOAPz////+//T/2//D/9T/0//X/8r/1v/j/9T/yf/U/8r/xf/M/7T/tv+4/6n/qf+w/5X/n/+q/6r/t/+p/7b/sP+x/8r/vP+u/7H/nP+d/7P/ov+c/6T/tf+o/7f/0v+6/9H/z//X/+T/4f/t/9//3//s/9j/5//4//X/BQD2//b/8v/6/+j/5/8IAAIA9v8AAAEA1P/S/9n/yv/X/8P/1f/g/8//4f/g/+//3v/z/xkALQBGAGoAewBrAJUAlwCoALoAzgDtAP0A9QDVAOEAygDIAMkAvgDDAL0AqwCBAHkAggBcADUALAAeAB4AEADp/9j/4f/D/6L/uf+f/6D/ov+a/6n/of+x/6T/s/+9/7j/x//R/8r/0P/d/9H/5P/d/9L/1//N/9L/yP/I/7n/yP/T/7//1P/R/9f/zv/2/+T/4//l/8L/4f/Y/7//sv+//7L/u/+p/6//rP+Q/5n/mP+W/57/tv+e/6T/oP+M/5T/lv+Q/53/rv+e/7v/uv+8/9P/2P/d/+z/IQAlADMARgBLAG0AcgCAAIgApADAALoAwADZAPIA6wD+ABQBBwEFAf4AAQERAfgA5gDOAMMAugCRAGQASwAbAAUA8P/Q/9z/t/+t/57/iv+E/43/jP+F/5z/lP+N/5T/mP+X/5n/pP+o/6X/rP+f/63/uP+v/8D/zf/j/+r/5//2/wEACwD9/+L/8//k/+j/2f/D/8T/vf+//67/uf+r/6f/sv+o/6j/rv+Z/4z/kP+N/5r/n/+d/5n/o/+q/7P/pf+y/8b/pP+m/7j/t/+0/8P/0f/t//j/9v/6/xEAJQAuAFAAUABmAIEAgACJAKUAxQDMAOYABQENAREBBAH9APoA8wDdANYA5QDiANEAoACiAJ8AXwBtAGMAVQBNADIAMgArABQA/v8JAPf/8f/e/8r/4f/e/8P/sf+d/6H/pP+i/5P/kv+o/5n/of+n/6L/rf+q/7n/t/+9/9X/zv/A/7T/0//R/93/wv/K/+z/3//a/9X/6P/L/8T/wv/C/7v/tP+6/7j/qf+l/7H/qv+o/6D/lP+i/57/nv+m/5z/nv+V/6j/qf/G/+T/x//c/+//4v/j/wAACgALADQAOgAyAEkATwBSAHIAcgB6AI8AhAC2ALAArADIAMAAyQDFAMgAvwC6AMIAuACbAKYAqwCfAJQAcwBuAGAAUgAwABcAFwAZAA4A/P/t/+b//P/Z/93/zP+z/83/t/+1/8T/uP+3/8L/sf+l/7H/t/+s/7n/v/++/8D/uf/H/8v/1//P/9n/6f/Z/8//z//Q/73/tv+x/7L/tf+t/8L/x/+4/7v/tf+q/6n/sv+9/8n/uf/G/8X/w/+6/6X/vv+9/9v/0//I/+j/8P/r/+b/7f/8//3/AQAOAAwAGgAfACQAJAAjADcARQBfAGAAVgBaAGsAeQBmAGsAcwBzAHoAjAB+AHcAgwBtAHUAfABiAGAAWwBLAFgASwBFAEUAMgAqACEAHQAOAPz/8P/j/9H/5f/x/9r/4f/j/+D/3f/V/9b/1f/W/8n/zP/a/8L/1f/h/8//6v/r/+3/2//F/9f/4f/Z/+H/4f/e/wEA8P/0/woA+v/d/+H/8f/x//H/0P/v/+z/z//i/8//xP/P/9D/s/+z/73/pf+g/6T/sf+o/6r/uv+7/8b/yv/Q/8n/2v/X/9P/3v/m/w4ABgAVADwALgA+ADsALABBAEQAUABXAFEARABFAFEAUQBJAE4AVgBgAGQAbgBsAFsAVgBVAEsAPAA/ADAAKgA4AD8ALQAWAA4AFgAcABYACAAKAAsAAAD7//X/7//r/+L/+v8LAOr/7v8FAA8AAQDx//f/9P/2//n/8//w/+3/8f/h/9j/2f/L/9L/2//O/8r/1//v//L/0v/Z/9//4v/l/+X/2v/S/+b/6v/w/9v/0//c/9r/y//K/9b/wf/c/+z/3//r//z/+f/2//X/8//5/+v/9v/e/+j//v/w//f/4//q/93/5f/0/wQABQD2/wEACQAGAAAADQAJABQACAAXACQACwAVABEAEQAUACAALQA9ADgALwAlABsAJAATAAwABAAKAAkAGgAiABwAHQAGAPz//////+P/+f8OAA8ABgAfACEADAAQAOf/AAD+//P/8//q////+f/8//b/AADr/+r/CwD7//z/HAAiAA8AIAAPABQADwD4//3/7v/6//b/AQAVABIAFAAYAAcA8/8JAO7/0v/w/9j/1P/w/wEA6P/i/+f/0v/1//f/4//b/9//1v/Q/8T/w//e/8//zf/R/9//1v/W/+3/2P/t//X/+/8OACcAIQAWACcACgAOAAYA/v/+/wsAAwD3/x8AHAAUAC4AJQAPACAADQAIACUAGwAKAA4AHwASAAUA/f8AAAsADwD6/9P/9f8DAPT//P/7/+//+f/5//T//P/p/+P/7f/7//T/9/8BABIAFQATACYAEgAKABUADAAOABIAGgANAAMADgALAAYACwAPAAUACwAbABEAAAAEABEACQAEAAAA/v8NAAwAAAAMAAAA+P/1/+X/7v/k//D/5//d/+L/yf/J/8f/1P/L/8T/2P/g/+v/8f/g/9//6//n/+L/6v/q//b/HAAcAB8AIwAsAC8ANwAoACoAPgAjAC8ALgAqACUACwAVABAA/v8QAPX/9/8JAPr/FQAIAP7/CQASABEABQAAAPD/6P8AAAgACgAAAAMADQDz///////t/9X/5P/q/+L/6v/x//7/+/8EAAoABwAQAAkADAASAAIACgD6/wcACQAJAAEA6//j/wAAFADx/wAABAAOAAMA+//5//b/9P/p//H/7P/r//T/8//o/+P/6P/v/+n/3//d/9n/0//6/xkA+v/6//v/7v/z/wMAGgD+/wsAFgAAAAEAAAAPAPb//v8NAPv/DgAjABcA+P/+//j/+v/3/+z/9/8GABEAGgAYAP////8GAA0ABgD9/xEAIwAtABgAJQA1ABEAGgAPAAMAAgD3//P/6//r//j/6P/g//v/AwAXABkAEAAXACIAFgAAAAEACAD3//H/8//k/+b/4v/O/9L/+f8LAPD/AQATAA4AHgAYAA8ACAD9/wEACgD7//X/7v/2/+7/6f///+r/9v/+//r/+v8DAAEA8f/3/93/4f///+T/4P/5/wEAFgAdAAwALgBAABsAGgAWABUA7v/4/xAABwANAAMAFQASAA4ACgAJAPr//P/x//D/AAAGAAoACwARAAIA+P/5//v//P8EAOz/9f/+/+T/4P/r/+z/4v/k/9z/6P/o/+j/8v/4//b/6v/o/+3/AAACAAoAAgD8/xMACQAFAAoAGAAWACIAHQAiACMAEwAeABsABgAPAAwA+v8EAP///f/p//D/7v/z/+H/2//p//X/AAABAA8AFAAWAAAA/v/+/xEACgARABYACAAJAPn/AgAEAAQABAD6/wAA+v/6/xQADgAEAAMACAAAAP7/AQDp//z/AwD1//H/6P/w//D/+v/7/wIADgD8//v/AgDx/93/4v/e/9z/3v/n/+X/9f/7/wEA9/8HAB0A/v8NAPr/GAAQAPr/CQD+/wgA8f/9/xIAGQAbAAsA/v8KACEAGAANAAAAEgAGAAAAJwAaABoAHwAWABoAHgAXAA8ADAALAAYA/v/9////DgAGAPz/7f/1/+3/zv/E/9v/4f/Q/+f/4P/1/+T/1v/1//D/8f/f//j/FgAEAPj/BQAlACcAIwAfADEALAAXAB0ADwAEAA8ACAD1//b/7v/u/9z/4P/o/+r/6P/n/+T/9v/9/+r//f/5/wIA+//7/wgACwD6/wkAHAAJAAgAAwD4//z/FAAGAAIAAgACAAAA/f8PAAAA//8KABsAEwACABIAFgAWAAsACwASAAUAAQAIABYACwD0/wQAEAATAAAA+v/1//T/8//p/+z/5P/e/9z/4//c/+v/8v////r/8v/0/+///f/1//b/+f8CABYAFgARAAgACQAVACEAGgAWACcAJwAeAB0AFwAXABcADwAGAPz/7//x//L/6v/w//b////u/wMADAADAPz/+f8AAPP/AQDr/+n/9f/3//z/7P/Y/+X/6//U/+j/9P/w/+X/6P/y//P/9P/4/wkAFAALAAYAHQAhAAgAIQAmAAwAGwAgAAUA9//4//r/7v/q/wAA9v8DAAUA9f8cABkACwAUAAQACQARAAoAAwD+/w0AGAAQABcAEAD//wAA/f8BAOT/7v8JAAIAAAAIABMAFAAoABkAEgAKAAMACAAIABIACgAIABYAHAALAAYAAAD3//3/6f/X//H/0v/Q//j/4v/m/+X/1f/V/9n/4//U/8z/5//6/+7/4//2/x4AKQAKAAwABgADAAUA/v8IAPn/AAAAAPH/7v/c//P/AwAJAAAADgAYAAQAIAAtABcACgAdABwAHgAMAPT/EwAmABAADgAVACkAUAAwAB4AJgAUABMAAwD4//z/7P/u//L/9//r/+D/8v/i/9b/2P/k//L/8v/q/+///f/p/+n/AADx/+D/8//2/+v//P8DAO//+v8GAAkAAgAAABUAEwAdAB0ABQD7/wMABQAJAP3/9v8AAAUA8//2/wUA5v/t/wUABgD1/+z/9P/+/wEA/f/t//j/AgD+/wAA9P/7/+z/2//h/+z/AQAJAAYAGwATAAsAEQAXABYAFQAUAAEAIwAMAPv/DQAAAP//6f/4/wAA/v8GABIAGAAeACcAFwAQAPz/EQAGAO7/DQAaAAcA8v8AAAkACQAKAAkA8f/+/wwA8//j/9v/2f/Z/9j/1P/O/+7/AAD3//n/3P/Z/+z/9//0//D/AAAMACkAJwAdABQAJQAHAP7/CwD4/wkABgD///P//f/0/wYA/P/3/wAA9//y//j/AwD2//r///8PAAYAGgD3/+n/AgD8/+z/4//7//n/9//x/wgAAQD6/wkA+v/2//D/9P8KAAoAAQAJAAUAAwAMABYADAAOAPz/BwAuABgAGgAYACcAJwAbAAsAFgAWAAUAFwAMAAAABQAOAP3/CgAPABUABAD7/wwABgDw/9//AQD5//z/CwAgACAAAQAOAP7/4//P/7//5//0/9T/8P/+//D/8P/i/+T/5//p/+v/AwADAPb/FgAUABQAIwAAAAMABgDw////8v/s/+z/+/8AAP7/DwD8/wkAGQAAAAkAAAADAP////8HAAQAFAD5/wEA9v////j/3f/f/9X/6f/q//b//P/7//v/8f/t//H/6P/r/w8AEwANACAALgAjAAQA9f/9//X/7v/5/wUAFgAWACEAMwAyACYAFAAKABMABgD0//j/AAAHAAUACgD///P/+P/3/+3/zf/S/+7/4//u/+//3//v//n/BwAAAPT//f8AAAYA/f8BAAAA6f8AACEAJgAqACgAGAAOAAAA//8SAAwA//8FABIADwAIACEAJAATABUAEAAUAA0AEwAbABQAJAAaABkACwAHAAMA3v/i/9z/7P/d/+j/5//X/+v/4//j/83/z//W/+n/7f/1//H/9P/1/+T/5P/z//f/7v/2//L///8BAPz/9/8NACAAIAAUABkAKAARABUAFQAKAA8ACwAMABIAHAAbACIAEgAJABkA/P/0//r/BAAJAPr/AQABAAMA9v/g/+3/6P/f/9X/0f/q/+j/2//u////6v/t/woAEQAJAA8AKwAzAC8AGwAjADIAHgApABcAIAAmAA8AFQAFAAQA9f8PAA4A//8BAAkAEwAEAA8ABQADAAYA6v/q//n/6f/2//7/CQD6//P/+P/3//7/2f/h/+L/2v/T/8r/1//U/7P/tv/c/9P/0v/o//z/7v8IABUA/P///xAAGwAHAB0AIwAtADUAOAA2ACcAIwAtAC8AKQAZAAsAEQAEAPj/+P/0/+D/8v/o//f/8P/4/wMA/f8CAPr/AADv//f/2f/o/+7/5P/u//3///8BAPj/3/8KAP7/+f/z/wEAEgD+//7/CAASAAAA/P/4/wUAHwAgACcAIwAlACcAHAAZABIAHQAAABcAFwD6/wcACAAHAAAA+//s//v/6v/1//P/8v8CAOP/5//v/+f/3v/m/+b/2//R/+3/5//y/xYA+/8FAAAA/f8AABAAFwARAB4AAAAUABsABgAfAB0AFQAFABAAHgD+/xIAEgAIAAcAAgD5//r/9f/k/wAA9//w//n/7f/y//v/5v/q//D/5v/i/+3/AAD0//z/+v/u/wMA/f/2/wUAAQD//+v/+//7//b//v/1//f/7//4//b/CgAMAP3/+P/8/+//8f/+//H/DwAZABQAHQAhABMAHwAzABsAIwAuACMAMgAyACAAHwAlAAYA/f8QAAYA9v/0//D/0P/a/9n/0//k/+7/AAAAAAMABAABABEA/P/m//P//f8HAAEA9v8EABAACwD6/wAADwACAP7/+f/8//v/9//t/wMAAQDz/wgABwAEAAAA///3//3/AAD0/+7/CQADAAEACAACABAACwAPAAAACAAUAPH/7P8LAA8AEAAMAPD/9//6//D/BAAAAPf/9P8DAA0A/P8FAOv/9//w/+v/6v/S//P/5//v//v///8AAPz/BQD6//j/AADy/+H/5f/5/wkABgD1//j/CQD//+//EAAaAAYAEwAIABwAJwAMAAAA/P8BAOb/9P8DAP7//v/+/xoA+f/3/xAAEgALAAMADQAPAAUABgAVAA4ADgANAAoA9P/v//z/7f/2/wcA+v/6//D/+v8GAAAABgAYABwACQANAAEADAAYAB0ACgALACYAEQAQABUABwADAP3/AwAHAAsAGgAPABgABQDu/+D/u//N/9P/vf/P/+r/7//u/+H/5f/v/+P/4f/g/93/5//3//f/7f/1//3/BQD//wAAJAAcACMAHwAPACkAIgAXABIAEwANAA4AGwAbAA8ABQARAAgAAgAIAAsA/v8HAB8ACQD+//n/9//7//P//P/y/+v/7v/m/+L/1P/V/9z/0//h/+f/7/8AAPX/FgD///n/EwAKAAgABAALABMAJAD+////KQAKAAgAIwANAAkADwAhAAMA+/8VAP3/HAAwABUADgAUAAIA8//y//T/8//g/9z/+v/3/9//8P/x/+z/7f/t////DAACAOz/BQADAP3/AADw/wkAIQAgABEAIwAsACAADAD+/wQADQAAAP3/AwADAAgAAQD8////BQAIABYAHAAXAAMABAAIAAIA8//1//j/9/8IAPb/5//n//X/3P/V/93/2f/p/+3/8f/t/+3/5//k/+H/7v/w/97/6v/r////BgD//wIADAD8//n/CgD3/w4ADgAXACwAMwAkABoAIgAoAD0AJgAiADYASwApABkAGwAOAAcA6f/g/+n/6f/X/8v/y//r/9z/uf/C/9T/4f/O/8r/4f/m/+b/4P/Y/9z/8f/z/+z/+f/x/xUAIQAGABAAAwABACgAKQALAB0ANwAyADcAMAAXACcALAAaACMACQAiACQAEAATAAQACgAGAAwA+v/z/+P/4f/l/+j/6f/3//T/1//S/9//AQDy/+f/7v8FAAgA9P8DAAIAGAAxACMAEwATACUAKwAdABcAJgAVAAIACQAEAPb/4v/t//b/8//e/+D/7P/n/+7/4//m/+v/7P/k/wAABgDs/+r/AAAQAP3/9v/1/xAAFQAGAAwACwACAAAACQAKAAoADwAQAAkADQAUAAgAAwD9/woADAAUABQA/v8QAAcA/f/+////CwD7//r//P/3//f/3f/V/+D/0v/W/+b/5P/b/97/8v8AAAEA///r//v/CQD5/wgA/v8EABEABAAQAAcAAwAaABsAHQAkACYALgAiACYAJQAQAAUAAgD2/+j/9v/o/+r/4v/p/+n/6P/1/+n/6f/m//v/9v/z/+//BwAJAPv/BgAKAPT/AgAtABMA/v8RACMACgAOAAYA9P/y/wMA/f/w/wMABwAVAAgA+P/7//D/+P8HAAoA/P/7/xYAGQAKAAMA+//y//r/AgAVACAAFAAaACsAFQAiABcAAwAVABsAIAAQABIAFgAYAAEACwAAAO7/EAADAOP/7f8UAAgA6//0//f/7P/m/+X/6//2//n/AgD7/+v/6v/o/+j/5//l/9r/9f/w/+3/6//Z/97/6f/l/9v/7P/k//r/CAABAP//DQAYAPj/6//+//z/AwD6//D/AgAFAPT/7f8FAPH///8HAAkAEQABAP//+v8RAAwAFAARABgAHQAbAB8AIQAnABYAJgAbAC4AMAAwADkAIwAfABUAAgABAO//4v/n/+3/8v/3/xEA5P/5/xcA7f/v//b/AwAAAPD/9v8AAAAA9P8BAAUA9f/8//z/9//5//3/8f/4/wsAAwAAAAMABQAHAA0ACAAFAA4A+f/6//X/9/8AAP7/BgAAAPn/9f/o/9L/3f/b/87/2P/t//n/9v8JABgA///9/wYA8//k//j///8AABoACwAPACgAMAAmABkALQAjACEALAAiAB8AJQARAP//BgACAAMA/f/8/wUAAgD8//L/+v/5/+r/2P/o/+r/3P/V/8n/zf/B/9T/zv/a/+X/5/8EAPb/+P8AAO3/AgASABMABgANACsAIAAmAB0AKwAlABAAGQAPACIAIAAJABYAEAALAAQA8v/x//v/+f/X/9j/4f/o/+//6P/x/+3/+f/z/+r//f/w//D/AQD+/xUAJAASABsAGAAkABcADAASAAMACwD+/wwADgAbACsAJQAlABcAEwAYACMAEQAZAB8AFQATAAsA9P/m//T/2f/k/8j/wv/p/9f/4v/T/+r/8//n//L/1v/e//r/AAD3//T/AgARAAkAAAAGAP7//v/5/+v/5f/6/w0ACgAEABEAFgAIAAsA//8DAA4ADQD6/+3/9f/w//f/AgD4//T/AgD5/wYAGgAcAB4AFAAYABAAGgAaABgAGAAdAC0AJgAgAAUACwD5/+//AQD3////AwARABMA7f/o//f/6v/Z/9P/8v/6//j/AAACAAsABwD2//n/BAAIAAwA5P/z//7/9P8MAAIAAwD6//f//P/y/+f/7//8/wMA/v/2////+f/q//b/BgD8/xUA/v8GACMACgAZAAIACgAdABsABgAIAA4ABgAPABMAGAAMAAUA+/8IABMA/f/9/////v8BAAQAAgD9/wcACQD6/wIACgABAAAAAAD2/+v/8f/z//3/7v/0//D/+v8BAOT/6f/W/9D/1f/W/93/5//2//v/9f/6//X/7//t/+v/+v/7/wgAAAD0/wAAAAD+/wAA9//4/w0AFAAQABYAHwAXABsAGgAGAPr/CgAZAB4AIgAdAA4AEAAOAPv/AAD4//f/+P8AAPP/+f8TAAQA9/8TABsABgARAAgADQAWABAABAAJABEACgAQACAAHgD9/wMA+//q////AQAAAAMAAADt/+z/9v/s/+n/5v/s////CgAMAAQAEwD+//D/AAD0/+b/7v/r/+T//P/z/wAABwD4//r/+//z/+f/2//p//X/DAATAAQAFAATABUACQASAB8AHgAbABsAIAAfACUAEAAFAAkA8f/m//L/6//s/+j/2//d//L/7f/e//v//v/1////AwAFABAADwAMAB8AGQAVADIAHwAjABkA9/8QAAQACgAAAPz/FwABAPv//f8OAAUA3f/l//j/8f/1/9//1v/v/+n/4//p/+f/3P/T/8T/0//u/9z/3v/1//L/9v/8//7/8////wAA9P8QAAYA//8cABYACgAjACUAJgAyADkALAA0ADYAKQAyADcAMQAiACMAIQAWAAEADAAMAPH/6//y//r/+f/r/9f/zf/S/9n/1f/G/8//4v/r//b/5P/t/+7//P8QABAAHgARAA8AGgAfACQAHAAnACUAIQAxABwADQAOAAsA/v/d/+D/yf/L/+//4f/q//j//v/t//P/+//2//T/8v/8/+H/2//n/+r/5v/o//f//P8CAAkA+f/y/wMA+f/1//X/AwAQAAgA9//8/wcA8/8CABAAJAA2ACgAQAA0ACoALwAaACoAIQAZABcAGQAjABEA/v/y//D/8P/p/+z/+P/w/9r//f8GAOb/8v/y/wAA6//p/wUA+f/+/wUACgD3//T/+v8MAAUA//8NAAgA+//r//X/5P/3/w0A8P/q////BgADAAIACwAPABAAHwAIAAUACgAFAAcACgAFAP3/EgD5//H/AgD0//H/8//z/+7/8f/o/+n/CwAKAAMAAQD2/woA9v/u/wMA7//s//3/9P/i/+n/5//y/+L/3f/9//3/BgAKAP3/BQAGAAoADgD8/wsAHAAZAAoADQAOAAkABQARABQA//8CAAoAGwADAPv/BgASAP//8/8DAPv//v8FAAAA/P8MAPj/9//9//v/+P/1////+v8QAAYAAQAYABoAGwALAAoAHQAFAAgA/v///x0AEgAHAAYACgAHAAkAAgADAPr/CwALAPn/CgAHAA8A+P/7//3/9f/t/9z/9f/r/wQA/v/4/wEA/f8BAOT/9v/9//H/3//t//3/8//k/+b//v/4//D/BgABAP7/DgAMAAkACgAPAAEA+//1/////v/9//z/+/8MABIAEQAGAP3/8/8EAP3/7v/w/+z//v/l/+//BQAGAAgAAgD1/+j/8f/5/wsA9f/2/wQACQACAAUAFQAPACIAHwAWAA4ADAAOAA8AAAAWABYA+v8KAAUA9/8AAP3/9P/+//X/+P/u//j/CwABAP//DwANAAIAAAD6/+//AQAFAO3/AADu//v/AgAGAPn/8P8UAP//CgAJAB4AIQAUABYA+v8JABYAFgD///v/AAD7//X/9v8KAAUACwAJAPj/7v/r/9H/xf/u/+z/8//4//D/AAAUACYACQD3/wAAAAAAAP7////x////DwAHAPv/BgAHAAQAEQDm/+3/AAAEAAUA7//u//P/4P/c/+D/1f/o/+z/+P/t//X////5//j/7//8//z/AgABAAkAIwAZABEAHQANACYAKwAdACsAJwAlABAACQARABMAHwAgAB4AGgAiACsAIAAYAAoADQARAAMACwAbAAAAAwAIAPr/9f/r/+3/2f/c/9r/2f/W/9r/5P/T/9L/1//Z/8z/w//G/9r/2//W/+T/8/8AAAIAFgAQAAwALwAuAB4AMAAjABsAKAAiACYAKwAnACcAGwASAB4AFgAUACIAEwDw/wMABADy//z/6//m/+f/6P/g//b/AQDw//r/+v8AAAMA9P/2/wAADwD+//L//P/+//f/3v/g/+j/8P/+//r/7//8/wUA6//n//f//v8FAAEADQAUACAAGAAXABwAAwD//wAA9f/6/wAA6v/z/wIA4f/a//X/6f/d/+f/8f8GAAYA+/////z/9//u//r/AAADAAAA//8AAAwAGgAOABkAHwAUAAwAGwAdAA0AGAAVAAMACwADAAEAFAANAAcABwAOAAoA/f8JAAAAAAAOAAUACQABAOz/BgAHAPn/AgABAAAAAgAQACQAHQANAAgA//8BAO3/4v/k/+//4v/f//7/8f/U/8//5v///wAA9f/+/xEAGgAJABUAHgAYABEA/v8FAPX/8//9/wkAGwAGAAQABAAQABoA//8PAAkA9//1//f/9f/u/wQACgAOAAMA8v/+/xAA8f/5//X/yf/X/+z/7v/d/+T/6v/u//D/8//u/+3//P/q/wAADwAKAAAABQAIAAMAEgD5/wAACQAMAAAA/v8DAAgAFAANAAoACQAEAPn/9v8GAAgAAAACAAAACAAAAAAABAAMAAoA//8DAAIA5v/6/+r/3//5/////v/x/xsACwAZAA4ADQARAAMAGgALAP3/AgASAPz/CgAPAA4ABQD8////+v8GAAMA7f8BAAEABQAKAAQAIwAQABcABwAaACUAAgAAAPr/AQD///T/AAAJAAsA/f/n//3/+f/0/+T/9f/3/+D/8//t//7/+/8MAAgA9//0/+P/8/8DAAAA8v/+/wQACQAEAAAA//8JABIABgAMAAQA9//z//r/AwD0//H////r/+r/AQAMAAgAAgACAPz/AwACAPv/BgD///X/AQARABIAGAAOAAIAHwAUAAkA+v/s//H/4v/i/9v/8v///+3/+v8KAAkACwAQAAUA+f/z//7/8//x/wAAAAD8/wAAAAADAAoAHAAhABoAHAAOABkAFQAYABsABQAFABgAEgAFAAoACwAGAAwAFwAAAP7/8v/v/+3/+P/7/+f/8//v/+b/4//g/9r/5v/7//z/8v/3//n/AAAHAAAA///3//z/AADy/+H/5/8DAA4ADAASABUABwAHABAACAANABEAGgAgABwAHwD+//b/BwD9/wEA8f8GAAUA+f///+7/7v/v/+z/2v/W//L/7P/Q/93/6v////v/6//5/+v/8P/7//P/AAAOABEABQD1//7/EQATAAAAAgAOABEAMAAmAB0AOgAnACgAMAAqAB8AEAATABgAAwD1//L/7/8BAAYA9//v//n/5//Z/+X/6//a/+H/4//w//b/9v8HAPL/EgAsABIAAAASAA4A/P8FAAgA9//y/wcA/f/0/+3//P8KAAQAEAAOAPz/CQAJAPX//v/w//f/AAACAAIABQARAAsAGgAUAAEADQATAAQAAQD1/+n/7f/q//H/BAD1//b//P/v//X/7v/2//D/+P8LAPn/+/////T/9v8BAAoAAAAEABAAAQDt/wQABQD7/wIAAwAGAP7/+v/2/wMA/v8AAAAADAAUAA8AEAAEAAEA9/8IAAYA+f////7/CQAOAAgACgASAAgA+P8CABIA8//v//X/7f/u/+v/9P/y//b/AgAHAO3/+v8JAPz/AQACAA8AEwAEAAEACQABAAIACQAEAAMAAgD6/wMAAgABAAsADQASABMAFAABABgAFQAAAPn/AwAIAAEADgALABkAFAAAAP7/AQAFAAgA6v/y//v/+P/6/+v/1//W/+D/2f/g//X/8f/n//z/8//2//T/BwAiAAcABQANABAAHwAbAAEAFAAiACIADgAAAAEA9f/s/+b/4//m/+b/3f/5//b/BAAFAAYACAAAAAQA7P/0//n/AAD1/+//+f8AAA8ACgAHAAoACQDz//X/AQABABoA/v/s//3/9f/1//j/9v/4/w8AEAAKABoAGwAbACEAIgARABYAEgAKACAABwADABQAEQAKAAQAHgALAPv/AAAAAAQA+/8IAPv/8//y/93/5f/4/+r/0v/a/+r/4v/U/+v/9P/y//X/9f8AAAgABAAKAAcA/P8JAA0AAgABAAEACgAaAAYABAAWABQAFAARACMAMwA2ACkAIQAhACcAIgASABAADwAQAPj/+P/h/9L/6//h/8X/1v/d/9j/5f/Z/+L/4v/w//b/7//t//T/5P/h/+7/6v/4//j/AAAEAPz/BQAOAAMAFQANAP7/AQD+/wQABAAVAAoABwANAAYACwAUAB0AFgAZAAUAAAAFAAoAAwD//woA7f/s/+f/2f/l/+3/3f/e//z/8v/i/+3//f8CAAAA+/8IAAwAAQAFAAsABwANAAgABgAHAAMAFwAaABYACgAiABYABAAhABAACwApACMADgAoABkAAgAJAA8ACwD+/wcADADz//3/AwAEAAkABwAKAPv/CAAMAAUA/v/0/+z/3//k/+D/3v/d/+X/8f/q/+L/2//e/+r/+P/0/wYAHgAhABkAEgAKAA8ADQD2/w0AFwASAAYA//8YAPz/+f8AAPX/5v/b/93/3f/t/9L/1P/l/+z/8//4/wAABAACAPX/AAD//wwAEQACABgACAAHABYA+f/x//n/AwAQABsACgASABIACQAcAAsAGwARAA0AFAAIAB8AFwAUABEADQANAAUAEwANAAoABgAAAPr/8P/j/93/6f/q/+P/7/8KAAUA+P/5/wAA9P/q/+P/1P/r/+v/6//y//j/+//3/w0ABwD8/wcAFQANABUACgADAAMA6//u/+r/7f/x/+r/7//z/wEABQAOAA4ABwALAAUAGQANAAMADQAJABAAHQAsACUAKQAvACEAGwAPAAoAAQALAA4A8P/w//r/BAD0/+X//f/4////BAACAAkA/P8LABMAAwD5//X/7P/g/9v/1f/h/+//2//S/+T/7P/5////BQAPAA8AFAAHAPr/CQATAAUADQAiABIAEgALAPn/8f/o/+7/5v/p//r/9v/4/w0AEAABAAsA//8EACIAFQAZABcAGwAPAPH/+P8CAPX/8/8JAOv/8f/8//v/BQD1/xcAGQAQABAAEQAUAAUAFwAIAPb/7f/m/+b/7P/7//L/8v8GAP//9/8AAAAA+//u/wMAAAALAAYAAwD7/+b/AADt//X/AgANAAAABQAAAPT///8EAA8A+f/y////FwD///j/AgACAPf/7P8IAAQAAQAKAB4AHwAMAAcAEgAYAAkA/P///woACgACAPj/+f/t/+//BAAQAAwADAD+/w4ALAAfAC4ANgA7AB4AAwD2/+v/+P/s/83/1P/i/9P/4//d/9n/6f/p/9z/7f/z/+j/5f/z/wEA6f/7/xEADwASAAIA///z/wEACgDy//f//f/0/+b/+/8EAA8AIQAhABAACAAFAAAABgAMACMAFgAVABgAFAADAP//6f/o/xUA9//4/wMACQAOAOv/5f/s/93/4//s/9f/6v8EAPv/AwAFAA8AAADq/wAA+f8HABgAIQAnAB8AGAAIAAIAAgANAAEA//8UABEADgAFABIAEQD9//z/9v8LAAQA//////H/7P/i/+b/+P/+//7/+f/3/wYAEQAEAAQAEgAAAPP/9//9//j/+f/1//P/8//3//3/AwAGAAIADQADABAAFQAWACIADwAWABQAEQAJABQAJwAXAAQAAAAWAA8A///0/9z/2P/x//r/7P/n/+b/3v/f/+L/1P/e/+j/5v/0/wEAAAD9//n/3P/V/9v/2v/g/+r/AgAKAA4AFAAcAB4AFwAAAAMAEwANAA0AAgAAAPn/+f/x/+j/6//x//j/+f8AAAcAGQAUAA8AHAAXAAsACgALAAMAFAAoACgAFwAbABQAFAAfAAkAAADu/97/6P/l/+f/7/8BAAwA9f/4/wEABgAKAA4AEgAWAAcADQAZABkAIAAaABEAEgAVAAoAAQDt/+3/7f/P/9H/8//d/9v/9v/y/wAAAgAJAA4AEgD8/wAAHgAdAA8ADwAQAPn/BgALAPX/AgAZAAYA+P/1//D/+/8BAPv/+f/3//X/AgAJAA0A+//4//f/3f/q/9f/3v/n/+L/8P/h//H//P/u//P/7P/Y/+v/7P/n//v/BwAHABMAIQAXACIALQAhACIAMAAdACYANAApABMACgATAAIAAgD7/wgA+P/1//z/6P/u/+r/6//a/+r/9f/e//b/DQD2/+j/+/8LAPb/9f/w/+X/7v/y//b/4f/4/wAA+f8GAA4AHQAhABsAHQAVAA8AHAALABIAGAALACEAFAAQABwAFAAKAAEAEwAYAAwACgANABkADgD2//D/6f/q/9//5P/n//T//f/0////7v/b/9T/3f/m//f/AgAIAA8AHgATAAkAEQAIAAMA9//3//n/BgAFAP//CAABAAMA9//2/woABgAAAAkAIAAMAAAACAAFAP7/5//o//b/8//t//L/8f/6/wYACAAFAAcA+//7/woAGAAEAPj/CAAAAAMABgADAAAAAQD+/wUABgDn//L/8v/y//r/4v/t//H/+/8GAAQA/f8AABEAHAAUABkALwAmABsADgAcABIABAAMAPr/+/8AAO3/8f8BAOb/5//y/+H/3//o/9//5v/q//f/CAAAAAsA/v8BAAsA/f8LAAMA/f8FAAwABAD0/wEACwD4/+7/7f/1/wIA9v/8/wMABwAMACEAJQAZAB8AGAAkACgAHAADAAAA+//n/97/4f/o/+3/6P/p/+n/9P/v/+n/BgD6/wsAEgAhABsADAAiABoAEQD6//T/DgADAAkAHQAMABAAAQAHAAEAAgACAPf/+f/3//3/1P/P/9P/2f/b/+H//f8AAAcAAQAAAAUA//8AAP3/AQD+//D/AAD1//j/AAABAAMABAAHAAUA+P/2/wUA+P/s/+3////0/+7/AAACAAQAEgAiAD0AIgAVABYABgAKAO7/+v/9/wIAAwAFABgAFQAZAAQACQABAPT/BwAeAAcABgAJAO7//f/3/wMA/v/z/wMAFAATAAAACgAPAA4ADwAGAAIAAgDz/+3/+P/+//f/BwAMAPv/AwD+////BAAEAOr/7v8AAO//+//p/9j/5f/5//3/9//7//X/5//k/wEABwD5/wwADQAEAAEACQATAAkAEgAYAAIABgABAPD/+v/y//L/+v8OAAAA2//o//f//f///wIAAgADAAoAAQANABIAHwApAAYABgAFAAcABQADAAoA+v8MACUAHQD+/+f/AwAXAPn/+P8IABEADwD5//3/FAARAAsABAAAAAUAAQAZAAIA6v/r//H/+f/f//3/BgD7//j/6v/z//b/+f/p/93/9/8AAO3/5v/u/wUA/v/r//L/5P/v/+//8P/r/+T/8P/v/wMABQDy//v/FQASABoAFQANACcAIgAjAB4ABAD5/wUACgAIAAcAFAAXAAkACQD8/wUADAAKAAEAAgAbAA8ACQANAAgABwAQABgAHAAeACMAFgAHABAAFAALAAUABwD//+n/3f8AAAgA+P/1/+v/8f/6//D/3v/e//r/8//X/+X/5//g/+f/+////wYAAgD0//L/AQADAOv/7//m//f/+v/7/+j/4//7/9L/zf/i//f/8f/0//L/CAAYAAcAFgAVACMABgAAACIAGwARABMAAwAWABQA+/8FAP/////x/wAA+f8CAAAA8/8EAAcAAgD2////DQAhABkAFQAiACQAHwATAAoADgAQAA0ABgAJAAMA9P/u//H/CgAFAPr/+//z//7/7f/o/wMA8v8TACUAFAAtACAAFAAVABAAAAD2/wYA/P/c/+v/7//z//H/0//U/+D/5f/r//D/7//l/+H/2v/f//X/8f/9/wcAEgABAO3//f/1//D/7v/6/wcAEQABAAIAIwAhABUABwAZACUAGAAeACMAMQAkABMAFgAMAPr/6v/v/+7/7P/z/+/////6//r/7v/u/wQA9f/+//v/8//y/+r/8f/0/wYAAwD0/w8A/v///w8ACgAMABEAEgATACwAFgALAAEADQANAPX/AAADAP3/AAABAAYAFwAVAPz/9f8KAAkAAwDw//r/DQD8//f/FgAWAAEABwD///n/8//g/97/1//o/+v/4/8UAAcAAwAFAAkAEAD6/xQAEQAUAB0ABAARAB8AHQACAPD/CgAYAA8A9P/3/wAACAD3/+T/9v/8//T/8f////T/+P////7/9/8BAAUA+P/0//7/CgDw/+j/7v/g/9T/6v/s/+7/9P/2//D/9f/6/+n/7//q/wAAAAD5//T/AQAVAAQABAAWAAEA8P8FABcACADw//r/BwAEAPn/DwAQAA4ACAAKAA4AFgArABgAIgAeAB8AEQAOAA0ACgAVAAQA/v/9/wMA8P/U/9z/7//n/9n/4f/z//b/+v/0//X//v8XACIADQAIABcAGQANABIAAgAKAAUA9////wYA9f/v//r/AwAJAAcAEgAUABYAEgAWACAAGQABABIAEwAFAA4ACQAJAAgAAAACAPr/9P/t/+j/4f/W/+X/9//5//b/BgDx////BgDy//j/9//9//j/AAACAAEABQD5//r/DgAXABEAAgD2//T/5f/Y/+7/7f/g/+j/1f/c//j/9v/w/wEACAD7//H/9v8QAAcAAgDz//f/BAAEAPb/+f8OAP//DQD//wgADgABAAkADwALAAwAEAAfAB4AFAAqABEAGwAWAAcA/P/8/wwA/P8DAAkA8v/6/wQA/P8IAAcAFAAJABcAHwAAAAEA8P/y//P/+f8SAAAA9f/9//X/7//0/wUA/v/z/wMA/v8DAA4ABQAHABAA/P/t//X//f/j/+r/AQAAAA4AGQAdAAUA///5/+3/4v/S/+P/4v/J/83/1//c/9b/z//C/97/6v/f/+3/8f8BAAUAJAApACcARgA1ACAALAAqACcALwAQABgAKwAmACYAIQAUABIAKAAFAAUAFwAUACwAHwAIACEAMQAVAAUAGQALAPL/8f/Z/+T/8//0/+r/7P/a/9L/2P/G/8H/xv/W/9H/3//q/+T/3P/Z/+L/5v/p//j///8LABkAGAAeAA8ADQAiACYAIwAeAAsADwAAAPz/AADb/+L/8f/8//3/9v8NABkAFQAAAPr/CAAEAPb/9f8HABAAKAAcAA4AFgAUAP3/6v/8//L/+P/+/xEACQD9//7/AAAhAA0ACwADAAYAHgAcABEADAAoAA4A/v8QAA8AAwACAA4A/P/4//j/+f8LAPz/7P/z/+j/8v/r/8z/6P8CAPP/5//m/9v/6f/8/+r/9//1/+7/BADr/+r/6v/e/+z/CAACAP//CgABAA8AAgD+/wwACgAOABwAHQAeAA8AEgAOAAcADAAFAAQA8P/4/wAABwAAAA0AEgAOACUAGQAdACAADQACAP7/BQD8/+//4f/e//L/8P/y//X/9f/y//b/8v/u//b/8//1//3/DgACAPv/GQAZAAoAAAAFACMABwAZACkAJQAmAAcAFAD2//7/BgAAAAMAAQAFAPD/EAARAA8ABQD5/xYAFgATAAIAEQAQAAEABgD+//7/5f/f/+f/9P/p/87/1f/W/97/1//H/+n/BQDw/+7//P8FABIA///w//r/+/8EAAwADQASAA4ADAALAAcA/P/y//f/7v/2/+T/8P/p/+H/7P/T/+b/AgADAOH/9v8DAAoABgAAAAkA/P8DAA4ACQAUABIAAQAdAAQA+v8BAOn//f8AAAAABQALABYACAAdABMAHAAZAAoAKAAYACMAIwAsADEAFQAPAA8A///2//j/7P/x/+H/9/8CAPX/AgD///7//f/0/+b/8P/7//3/GwAMAAMAGwABAAAA9/8KABsABgATAAAA/v/7/+b/5P/V/9r/5P/d/97/xP/G/9n/xP/P/9n/5P/r/9b/3v/6//3/5//p/wAAFgD7/+3/EgARACYALAALABcAEgAPACcARABEACsALwAuADQAKAAVABsAEQAAAAgAEwALAP//DwAHABAACwDq/wgA9//6//P/6/8AAP3/9v/q//r/AAD///3/9//w//7/7f/u//v/8f/9/wYADwAMAAMAEgAZABQAKAAXAP3/EAAeAAoA/f8IAA8A7//x////BQD1/9//6f/I/+n/7P/V/+z/BAD8/+P/+P/4//v/8//1//r/+v/1//H///8GAA0ACwADAA8ADgD8//v/AAASABEACQATABwACQAIAPn/7/8BAAEABwAJAAsACAD5//n/CgALAAAA+P/w//H/6P/k//3//f8KAAMA/f8aAB4AEAAEABAACwD6//3/9f8AAAMAAQADAAAADAD7/w4ABgD6/wAAAgAaAAYA8f/y/wcA+//1//f/+P/4//n/CwDx//D/8f/h/+r/8v/v/+7/8P/5/wAAAAACAAQADwATACAAFwASAP3/AAD///7/CQDv//n/7P/v//z/9P/2/wIA+//z/wIAAAD8/wkABQADAAoADQAPABAAHQAdACgAFAAYABYAAADy//3/CgDz/wEA///1//f/8v/1/+z/8f/7//r/AAAMABoACAAFAAcABQAHAP//EQAIAAUACAAEAAIA7f/8//r/8v8BAAAADwAGAAwA///z//n/6P8MAPn/7f/5//7/CgADAPj/9P/7//n//P/2////CwAYAP7/CgD5/93/+//s//n/+v8EAPX/7v/7//P/AQD3//7/9v/1//7/+f8IAOz/9P8GAPX/+//z/wQAAQAEABgADwAXAAQABwATAP//AQAFAAEAEQAQABIADwAFAA0AFAAPAAoA+//5/wYABwD//wYAGgANAAQABwAAAP7/DgDz/93/3f/h/93/1//k/+f/CAD8//3/HAAHAPX/BgAGAAQAKAAZAAkADAARABgADwD9//r/BADo/9L/6v/Y/9n/6f/X/97/9P8AAP//BADq/wsALgAcACYAGwARABYAFwASAAQACwAdAAsAEAAeABEAGgAMAP3/AwDu//H/8//k//j/AQD6//b/AgALAPf///8ZAAcACwAYABQAAgD1//H/5f/e/+L/8P/p/wwA/f/l//z/AAD5/+z/+P/c/+//EQAEAAMAGwAQAAAADwAFAAUABAAHABQAFgAaABAAEgAPAPz///8DAAoACAADAA4AEwAVAAwA///v/+z/8P/p//f/7//O/9//7P/c/9n/4//i//r//f/+/woA+/8dABQACQARABYAFQALACYAEgATACoAJAAhABsAEwAhABYAHQAfAAoADwAAAPr/7P/s/wQACwD6//f/AQD8//7/+//6////8v/o/+T/9v8DAOr/5v/l/+f/3//g/9r/yf/S/+b/8f/o//j/+P/7//X//P/v/+r/CgAMAP7//P8dABAAFgAOAA8AFAANABcAHAAWABcAKgAIABQAFAAOABgADgAJABAADAANABgA///+//L/9f/4//X/8v/d/+L/1P/B/8H/1P/V/9n/5f/q//n/+/8PABoA/P8JADIAGwATABkAJAAeACkAKAAXABsACgAIAAQAFAADAOv/AgASAP3/BwAKAP3//v/8/wQA/f/y/wQA+f8AABEA9P/v/+3/+//4/+//5v/l/+H/6v/0/+3/8//z/wEA7f/v/+n/3v/z//7/9f8KACUAMAAwACEAJQAeAC4AHwAQABcAFQAEAA0ADQD+/wUAAQDz/+b/3P/l/+//2v/k/+//+//0/+v/9//z//7/8f/n//r/6//7/wIA7/8IAAAA7v8JABUAGAAZAA4ABQAiADIAHwAeAC0ANAA1ACAAGQAcAPz/EgAcAA8AJwA5ACYAHQAWABEAEAD9/wMABwAAAPz/6v/N/9j/2v/Q/9n/0//O/9v/2//c/97/5P/u//P/9//n/+3//f8AAPD/9//x//D//v/7/w8AHAALAAgACQD+/wMA+f/0/97/+P/1/+D//f8CAO//7f8RAP7/AAAQAAsABwAMAAAABAAPAAQACgAGABYAIAADAAsAIAAhABYA+f8AAAsABAAKAAwAAAD2//3//f/4/wwAEwAqAC8AIgAYABAAIQAgABgAEgAkABkAEAATAAcAAwAAAAAA///t/+H/5P/f/9v/1P/N/7v/tP/D/93/7//g/+v//f8EAA8A/f/7/wAACwAXAAoA+v8IAAIA9f8LAAEABQADAP////8EAA8ABQAGAP7/BwAKAPL//v8KAPj//P8JAA0ADAD8/+///f///wAACQDw//L/AgD4/93/5f/2/+f/9f/z//f/AAAAAAgADQAEAP7/DgAQABcAFAAFAAAA+/8IAAkA6//v/wAABQAAAAAA+/8KAA0ACQAHAPb/CAAHABQAFQAOABEAEgAUAAEACwAGAPn/7v/c/+j/7//x/+//8v/w/+j/+P/0//H/+f8FAP//AQAQAAIA+/8HAA8AAwAJAAkAEgAiACUAMABAAEMALwAeABMADQAQAAoA9/8AAAIAAAAJAAAA4//7/xMA8P/q/+3/6P/m/+X/5v/l/+n/8P/4/wIA+v/6/+3/2//n/93/2f/Z//n/CQD6//n//f/7/+v/+P8AAAEA9/8RACcADQABABwAJAAHAAgADQAoABkAGQAkABsAIwAiABcA///4/wEA+v/r//f//f8MAAMA/P8EAPn/9//x/9X/4//v/9r/4P/b//D/9//k//T/7//0/+7/6f///wgAAAADABYAHAAsAC4AJgAfACcAHwAGAAIAAAD7/+j/5//y/+r/8P/2/wYA+f/s//r/BAAEAAAABAD+/xcA9f/s/wgA///x/9H//f8CAPv/BADq/wkAFQACAPr/7//6////5//j//L/CAAcACEAMgA3ABkAFwAmACIALQAeAAcAFgAiAB0AFgAbACMAEwAHABcACAD//woAAAAJABIADADz/+7/9f/n//L/6P/p//j/8P/i/+f/8//s/+T/4//1/+//1//W/9L/yv/L/8T/2P/o/97/8//s/+r/7v/4/wwA4v/z/wAA2v/8//j/AAAVAA0AHAAhABUAGgA3ACkAGQAIAAsAHwABAPr/CQAHAPb/9f/r//z/AAD5/wAA/v8JAAAA9/8DABEAAwADAA4AKAASABEAJwAHABwACAADABoAAAABAAsADAD7//T/FgAHAPn/EwAMAAoAGQAbABIAFwATAB4AIAAfACUAGwAbAAsACgD6//P/7P/r//n/+P/6/+//7f/l/+f/1f/A/9j/4//H/8z/5P/u//D/8//4/9v/z//Y/+T/6v8BAAUA+v8DAPr/AAALAP3/9v///wAACAAKABAAGQAhACkAHwAgACsAJAAFAAQACAAKABIACgD///7/AAADAPz/7P8HAAsA+//7/wAACgABAAQAAAAIACMAAAD5//P/3P/r/97/8v/x//X/BQD3//L/5//0/wAAAgAAABAAEgADABIAHgAmACgAIwAbABcAFgATABAADgAEAAgACAAPABMAAwAWAAgA/v8CAPX/8//k/+D/5f/j/+n/+P/x/9P/7P/4/9f/4P/2//P/9//m/+z/AADt/+f/7f/8//L/BAABAP7/BwAKAB4ACwAcACcAHAAKABQADwASABUA9f8IABIAHQAFABYADQAEACQAGAD9/+T/+P/n//n//P/1/wUABwDn/9P/5//f/+b/1f/5//7/+/8JAOb/2//T/9D/3f/q//H/AwAKAAoADwAkABkAHQAiABEAHAAvACoAEQALAA0AIwANAP//AAAAAPz/9v/7//j/8//f//n/8//z//z/8f/6//L/+f8KAAIA6/8HAAIADAADAA8ACADu/xEA9f/4//j/7//i/+T/8//9/wkAAQAFAAEAFwAdABoAGAAeACUABgAMAAcAHQAmACMAJQD7//n/BAAHAOj/+//+//v/8v/l/+r/5f8AAO7/6v/r//X/AwACAA4ACQD6/wIAAgD+/wQADwANAP//BADz/wEAEQAMAAsA/f/y/9//+P/7/wQAHADr/+D/3v/Z//v/GAD+/+r/CwAGAAQAFwAyAA8AEQAAAPn/DQAAACMACQAYAAIABAAPAPr/DAAqACAA8P///+7/6//0/w4ABQDj/+L/0//m/9j/+v8AAOT/6P/K/9P/3P/9/wAA+f8PAO7/6f8DACQADgAKAAoA5//u//X/GQAeABAA+f/j/93//P8UACwANgAEABAAAwDl////FgAaABUA/P/2/wgABAAiADkALAAqAA4A+P/c/wUAJAANAO//6f/e/8n/6P/r//3/zf+7/8v/w//n/woABAADABUA8v/+/wYABAAcACAAMgACAAYACQDx/y4AEAAIAB4ADAD1//7/GgANAAgAFAAcAAEA9/8iABoADwAqAAoAHgANAPL/CgAKANj/5v/2/8b/2//x//T/4/8DAOP/4P8DAPH/CwAFAAIA8v/N/+z//f/T/w0ARAAMABwALgAGAPf//f/8/+z/+f/a/+z/AwDu/woALgAXAOf/AAARAAQAEwAQAAcA+f8MAAAA0P8YAA0A9/8aAPD/4P/3/+f/1v/4/+n/6P/e/+T/9f/9/yQAAAACABMA9//7/ysALQA/AE8AIQBBACgABgANAAQAAADt/wEA8P/3//X//v8nAAAA8P8NABIA8/8TABoAAAD+//z/AAD9//j/2f/1/wUA7/8FAAkA8P/k/9z/0v/i/+P/5P/3//H/9P/7////9//z/wYAFgD//+j/AQATABcAAAAAABUAAQARAAAA/P8bAAAABQD1//H/DwD4////DAD8//T/+f8IAAUAEgD6//j/8v/m/wIA6P8AAAcA7v/r//T/AgDc//n/+P/x/wAA3f/x/+//AAD+/w8AJQAUAB4AGAAeAAsA4//o//f/9v8KAAUA+P/6/xUA/v/+/wYAEwAnABcAJAAUAB4AEgAQAAkA8P/m//X/AADv//n/+v/r/wIA+f/s/xQACwAnAA0A8v/9/wIA/v/s/wgA8v/v//L/CAD///r/EAARABUAAgABAPf/7f/+/woA+//0/97/tf+5/9X/2//c/9//2P/x/wQA8f8FAAQA7//s/wwAIAAIAB8AEQAmADYAIAAcABcAKwAcABkAGQAJAOj/6v8WAAQAAAD6/+H/AAAjABIAFwAYACkAMwAaAB0AHAAPABMAEwAIACwAEgDw//T/7//z/woA5P/X/+n/zv/s//L/8f/Z/+T/+v/s//T/CwALAPP/AADu/97/AAAKAPL/BQD9//b/+P/v/w4AAQABAAgA+/8BAO//8f8LAAgAAwACAAsACAAKAPn/6//q//P/8P/v/wAAEAD9/w0ALQAEABAAEgAHAAAACgD8//X/9//3/wMA3f/x/wAA8v/9//n/+v8KAPT/BQALAOv/EgAhABwAIAAfAAEAIQApACYAKQAbACYACQACAAUACgDk//z/FQD2//X/8f/w/wMA+f/1/+j/xf/R/8T/2f/c/+j/+f////j/1v/y/93/2P/y/9H/vv/n//X/CgASAAkAGwAAACUAGAAKACQAKgAsADoAOwAUADoAJQAuACcAEAAWAAQABAD9/w0A9//x/w8ADwDZ/+v//f/o/+z/9P/2//X/AQD//wwACQAAAPD/1//M/9b/xP+v/8z/4f/b/83/+f8FAPz/BgAFAA4AFgAgACYAHAAUACcABAADABcAIgA3ACoAHgAVADMAFwAQACMAAQAEAB0ACgAIABQACAD7/+f/8P/k/+3/6P/j//T/+v/3/+D/6f/i/+b/0v/T/+r/5//y//f/7P/x/woA6v/x/w4ABAACAP3/AAAZACIAIQAOAAIAFAAUAAcA5f8IAAIA9/8NAAkAHgAQAA8ACQAPACIACwAFABcAFgAOAAsAFgAkAAYAAAAOAPL/7f/4/+H/4//9//n/6f/2/wIA+v/n/+//AAABAP3/9v8PABcADwAGAPX/DwASAP7/AQD//xYADAAAAAkA/v/5//f/+P/4//3/AAADAAIAGAAAAOr/2P/J/9n/0v/p//f/AgD6/wQACAAJABIAFwAUAAIACgDv/+r/9P/f/+n/9//e/87/yP/h/+L/8/8IAAIABgAGAAAACgArAA4AEAANAAcAHgAdADMANgAlACQAGAAcAAgACAAQAP7/8v/w/+7/2v/q/+f//P/8//T//v8BAAIA///+//r/AAAAAAwAHwAgAA4ACgDu/wAA9f/b/+D/4f/p/wsAAQD5/x0ADAAKABMAIQACAP7/KAA4AB0AJAAXAAkAJQANABAACQAEAAoA8//x//3//f/w/8//1//T/9n/6//w/wUA+v/1/wEA/P/w//P//f8AAOz/9P/7/+b/9//1/+//9/8CAPv/8f8AAPz/EgAAAPv/GgASABQAGgAVAAMAFAAtAA8ABQATAP///P8JAAcA9P8EAAsAAwAPAAkACAABAAoADAAEAAEA/f/7//7/8v/s//7/+P/+/xIAHgARAAkAFgASAN//2P/v/+3/6//d//T//v/w//X/CgAHAPr/7P/3//r/6f/t/+7//P/u/wIAEAACAAsABAD8//b/AAACAPn/AwASABMAEAAZAB4A/v/5//z/DAD//+//+v/6/wUAAQATAA4A+f8CAAsA9v8aABMA//8sACoAHwAYAAYADwD9/+z/4v/Y/+f/6f/g/9n//v/x////CwADAAQACwAZAPz/DwAUAAkA/v/8/xAACwAIAB0AIgACAP7/AQD2//n/9v8EAAQA9f/5/wEA///5//P/+//4/+3/6//z/wcABQAHAAAA/v/y//r/BADm//b/+f/5/+v/3//c/+X/9v/f/+b/5f/4/wUABwAXABIAAgARABQABAAUABIABAD6/wEAAAAGAAYACwD+//v/CwAQABwAGQAZABgAJwAKAAAADwAAAPn/BAD+//T/AAD5//X/5v/Z/9v/4P/y////8v8LABEA+v8MAAgA+v////r/BAAEAAsA/P/0/wkABgD6//3/CQDz/wAADAAAABQAJgAQAAQAEQAUABcAIgAUAAQAAwAWAA4A+P/9//3/9//6/wAABgAOAP3/+P/v/+z/0v/j/9z/zv/o/9n/0//k/+f/1v/x/9P/6P/5/+v/BAD7//7///8KAAwACQD+//3/DwAbABQAHgAsACYAKQApACgAGwAQAAUACgAQABkABwDq/wEA9P/3/wUA9/8PAP//AwAOAPP//v8JAAYAAAD1//T/9//1/+r/8v/+//f/BQD1/wAACgDo//b/FgAYAAoAGQAHAAEAFAAAAPn/BAAXADIAIwANAA4AAwAPAAoA/////wsAAgD2/wAA8f/y/93/6//t/+j/9P/r/wIA+P/w//D/8v/n/+r/+P/4//n//P8AAPn/DQAAAAIADwAGAP3/+/8QAB4AKQASAAMAHgAGAAAAAAAAAAEA9//2/+H/9P/m/+X/6P/f/+b/4f/o//D/0P/z//7/6/8MAP3/9v/0/wwAAAATAB0ACgASABEAEQABAA0ACgAJAAwACQAFAAIADAAQAA0ADgAfACIAGQAVABgAGAARAAoAAgARAA0A8f8BAP7//P8TAP7/AgD9//j/+f/1/wAA9//9//L/7////wQA5f/d//r/8f/p/wMA9v/k/xEA+//q/wYA/f8IAAQACAAJAAgAFgAMAAoACwAeABgACgAEAAIABQAGAAkA9f/9/+r//f/3/+T/AQDy/wAA9f/7/woAAgDw/+b/8/8NABwADAAAAAAABgD6//D/6P/l/+L/2P/b//L/5P/1//z/7v/u//f/+P/w/wkACgALABUAFAAJAAQA8P8EAB0AGgAYABEAGgAkABgAEAAVABUAEgABAAEAAwAAAPn//v8AAPb/3v/3//j/6P/3//z/AgADAPb/3v8KAAYA4v8AACAAFQADABsAIAAYACMAIAASAPn/CAAOABAAGAAQACcAFgAMAA8AGAD6/wAAAADw////5v/2//H/8P/8//v/+//5//7/+P/4/wAA7//V/9f/2P/f/+f/y//d//X/6f/m/9b/4f/l//D//f8DAAwADQAHAAkABwD8////AAAEAAgADwAFABYAIAAbAB0ALgAqABoAGAALAAcA+f8BAAAA+/8BAPz/8//2//z/6f/k//n/+P/n/+f/8P/d/+v/+//0/wwA/P/s/wIAGwAIAA4AFgATAB0AEwAEAPL/EQAAAPb/AwD//xUAFgAOACIAIQARAB8AEAD+/w0AAwDt/wAA9v/m/+b/4v/q/+n/8v/x/+X/8v/q/9r/7f/z/+7//P/9//n/AAD+//j/7f8CAAsAAwAPABcADgD3//r/CQAIABcAEwAUADgAHQAaACUAEgAZABIAAwAZABoAFAAPAAgAEwAJAAIABQD///D/AADx//T/9f/n//f/9v/s/+P/7P/r//b/8//u//n/+/8EABEA9v/1/wsA+v/8//z//v8CAAMA///7/wUABgD9//b/+/8CABIAEgAIAAIABAD6/+T/6f/r/9//6v/0//n/AwADAPT/7v/5//v/4P/t//3/6v8GAO7/8//9/97///8LAPr/+f8AAAAADQABAPz/EQAYABIADAAiAEUASAA6ADsANwAiACAAHAAUAAgA/P/2/+f/7//u/+f/8v/0//X/+f8KAA8A7P/1//D/4P/u//H/8//+/wQA9v8DAAkACAAHAPb/5//v/wkABAD4////5f/3//r/9P8IAPj/+//2/wYADgAWABIADgAJAAEAHQAXAA0ADgAQABEAAgDt/+r/4v/j/+r/9f/y/+n//f/o//j//P/k//L/DAAMAAoAAgDm//D/+v/8//f/+v/6//v//f8EABAADQAbABYACgAhACgAGAAhACwALwAuAC8AGQAeACEAAQAJAAwAAgDt/9D/3P/c/9D/4f/R/+D/7f/X/+D/3v/j//P/7//y/wEAAwD4/wEAAgAAAAAA/f/4//f/FgARAAcAEgASAAgA/P8HAAsADQAWABkAHAAbACUAOAAmAAoADQANABYABQAVACEAGAAGAPP/9f/U/+L/2f+x/83/0f/F/8L/xP/M/8H/2v/j//T/BgAMABgALgApAAAADwARABsAHAAkAD4AKAAvAB4AIgAwABYADwAWABcACgDw/9j/7P/v/+T/6P/+//z/7P/t//n//v/r/+n/0v/V//T/4//S/+H/5//f//X/AQAEAAAAAgD//wEABAD1/wkACQAGAAkAGAAxAC4AOABMADkAOAAjACYAJgALABgAGQAbAAYABQDz//P/4P/U//H/6f/h/+L/7f/o//T/6P/t/+r/8f/7//X/+v/u//v/7v/h//P/AAD+/wIA/f/1//3/DQD7//H/DgAPACEAKwAqAB8AEAAgAA0A+/8PAAIA/v8IAAYAFQAAABAAFgAIAA8A/f////n/8//b/9z/9//0/+L/7/8CAAAA+//v/+r/9v8DAAoACwABABUABADz//f/9//9/9L/0//c//L/FgD+/wkACgADAAAA+v8PAAEA+f8BAAsAEwAcACIAIQAQAAMACgADAAcA/f/5//b/AQD6/97/6f/m/+3/9//x//L/AADz/+//AgD3/xIAHwAMAA4ABgAAAPX/BgAGAAAADAAMAAwABAD4/9z/2f/2/wsA9/8DAAUA+/8fACsAMQA1ACAAFAAgABkA/P/u/wIACQACAAgA9v/Y/9b/4f/U/93/4//C/+f/AAD2/wEAAQAAAP//BgAJAAoABAD1/9r/7/8BAAIA/v/s//3/EAANAAMABAAHAAgAAAAUACEAGAAfACEAJwAzADQAJQAgACQAJAAsABIA+//5//b/+f/w/+//8f/v/9r/yv/V/+H/0v/Z/+P/4//s/wcAAADn/xQAEQATAAkABwAbAA0AFwALAPv////8/+r/8/8CAPz/CQASAAEA/P8CAA8A///t/+//+v/k/+b//f8EABIA+v/7/wYA9//r/+//7/8BAAoABAD9//z/FwATAPz/CADx/wIAJwACAPj//v8EAA0ACgD9/wQAEAAcABgAIQAfAC8AJQAaACoAGAAdABMADQD5//7/8v/j/+j/1/+8/73/6//n/9D/7f/9//n//v/h//H/AwADAA8ADgASABIADAACAAsA9P8FABwACQAMAAIACwAYAPz/7P/y/97/0//Y/9f/2f/o//H//v/2//b/BAABAPf/+f/2//P/9f/6/w8AAQASABcAFQAdABkAEwAdAA8A/f8JAAIACwAGAA0AHgAiACIAKAAhABgAGQAAAP7/AQAEAA8AAAD8/wEA///4/+j/5P/s//n/+P/9/wUA+/8AAAIA/f/3/+D/yv/b/9H/xv/A/7r/5P/k/+P/6v8AAAcA/v/9/wAAEQAQAA8AGgArABcALwA/ACQALQAuACoAIgAbABMAFgABAAQACgDs/+j/4v/h/+v/+P/r//T/BwAHAA4AFQAeAA8ADAAWAAsA/f8EAP///P8DAPz/9v/z/wAABADz/+z/2v/Z//b/+v/r/+H//f8MAA8A+f/w/wMABwAPACIALgAhACQAKAAeAPj/9v/x/+T/8P/p//P/7//v/wMAAADx//H/+f8JAAUA6//4//r/6//a/8T/3//a/8v/4P/q/9z/7P/x//n/DgABAP3/DwAkAAMA9f8HAAsAIQApABsAMwA6ADkALwAbACMAFQAJACAAHQADABIAEAAAAAQAAQDl/+b/5P/o/+H/0f/h/+n/9P/j/+b/+v/5//z/DQD8/xsAHwD3/wAA/f///wAACwAAAPr/8v/m//X/8//x//b/CAAEAAoAEQAGABYAIAAVACYALQAbABcAAQAOAA4ABAATAAYABgAOAP///P/9/+n/5f/i/9v/5P/t/9//1v/u//P/+f/0/+7/AAAGAAwACQAYABwADwAPABMAAgACAP//+/8FAO7/CAALAAAABwD2//f/+f8BAP3/FQAMAAIAIAASAAsABQAFAAUABQD///r/9P/5//f/4//t/+P/4v/q/+f/8f/5//v//P8AAAMACAABAAIAFQAHAP3/DgAJAAAA/f8QABUAFQAaAB8AKQAUABMADQAAAAwAFAAJAOf/7f/n/8v/8v/3//3//P8FAA0A/P8DAPX//v/9/+//6v8CAO7/2P/l/97/5P/d/wQA9P/m/w0ABgD2//z/AAAAAAMA8v8AAOz/2//y//n/BQAVABQAGgAcABcAFQANACAAIgAsAB8AIAAiAAkACgAFAAYA//8RAAwA7//2/wIA+P/q/+3/4v/u//L/+//2//D/BQD///z/+P/q////CQAPABMADwAyABEA///t/+f/+v/7/w4ABwATAAIA8/8FAAoA+//3//X//P8MAA0A+v/u//3/9v/v/+n/8f/u/+3/+v/1/woACAD5//X///8JAP//AAACAO//4P/s/+r/7v/n/+r/6v/t//r/8P/s//H/8P/z/wkACgAKABcAGgARABwAEgAKAAYA/v8AABwAGQD8/wkADAAhAA8AAAAGAAIADgAXABgAJAAUAAsAKQARAA0AHwASAAMACQAPAAAAAAAHAAAABQAQAAEA+P8EAP7/5//3/wMADgAXAP//AAAAAAwAAQDn//H/8v/9/+P/2//Y/97/6v/M/9//7P/l/93/1f/b/9z/5//6//X/+/8QAAsAEAAjACoAKAAnACEAFwArAB8AHwAtABcAGQAhAAoA/P/8/+z/7//g/87/6f/9//v/7v/z//7/5f/h/+j/+P/r/+P/9v/w/wgA+f/r//P/+P/2/+X/4v/h/+v/+P8AAAgAFQAZAB4AGgAoACwAJQAdAA8AGwAVACEAHgAdADMALwAmACoAEAAJAAIA+//z/+z/BADm//T/+f/o/+j/0v/m//H/1//e/+L/yP/d//L/9v/0/+v//f8AAAAA7P/m/wgAAgABABAADgARABIAEgATABMACQASABgAIwATABEAJwATAAcADAAVAAMACgAMAAMA///0//7/9//s/+b//f////n/8f/z/wIA6v/v/+3/6//h/9v/3f8BAAAA9f8AAPf/+v/0//n/9f///wsAIQAIAP7/BQANABAAAwASAB0ADwD6/wkABgAMAP7/9f/7//H/BwAOABsAAQD+/xcADAASAAAABAD4/wYABwDm/wQA7f/h/+3/5//s//f/AAAAAA4AHQAfAA4AAAD6//X/HgAdAPD/AAD9//T/3P/W/+//5//x/+3/+//8/wAAFgD+/wUA///2/wQAAQAUACcAJAAcABEADgApABYABwD6/wQA7P/d//X/7P/o/+X/AQAAAAYA+P/2/wUA9//v//7/+P/8/wYABAAWABAACwAGAPz/7v/5//T/4//h//T/+v/q//T/AAABAPL/DwAiABYADQARABsAKAAsABYAGgAoADsAJgAcACAAFQAXABUABwAAAAQA9f/x/+n/4v/v/+f/4//m//b/9v/n//P////z/+z/7//h/+f/6v/i/+H/7P/W/83/3v/f/+X/7//0/+X/9P/8/wEADQAGAAgACQAaACgAHAAZABYAEgAbAAkABAD+////DwAKAAgA/P8MABkAGAAZAA8AAAAFAAkA9v8OABUACgAIAAcACgD///3/+//7/wsA+P/n/+//7v/o/9T/8P/8//7/DwABAAAADAAJABAAEQD6/wMAFgD7/+//BwAAABEAFQARABMADQAQAAoAEwD2//j/AQADAAIA8P8BAAIA9//u/+n/7v/o/9X/4//i/9v/4//g/9r/3//p/8z/1v/y//D/8P8DABAADQALABQAEgAgABcA/v8DABIAFwAcACYAGgApACkAJwAqACIAGAAcACcADgAIAA8AIAAwAB4AEgARABAA/P/n/+D/6v/o/93/5//i/+7/6v/a/+f/2P/c/+H/1v/o/9z/9P/8/+3/8P/0/+3/9P8RAA0AGQA=\" type=\"audio/wav\" />\n",
              "                    Your browser does not support the audio element.\n",
              "                </audio>\n",
              "              "
            ],
            "text/plain": [
              "<IPython.lib.display.Audio object>"
            ]
          },
          "metadata": {
            "tags": []
          },
          "execution_count": 26
        }
      ]
    },
    {
      "cell_type": "markdown",
      "metadata": {
        "id": "1MaL9J2dNVtG"
      },
      "source": [
        "It can be heard, that the speakers change along with their speaking rate, accent, and background environment, etc. Overall, the recordings sound acceptably clear though, which is to be expected from a crowd-sourced read speech corpus.\n",
        "\n",
        "Let's do a final check that the data is correctly prepared, by printing the shape of the speech input, its transcription, and the corresponding sampling rate.\n",
        "\n",
        "**Note**: *You can click the following cell a couple of times to verify multiple samples.*"
      ]
    },
    {
      "cell_type": "code",
      "metadata": {
        "colab": {
          "base_uri": "https://localhost:8080/"
        },
        "id": "1Po2g7YPuRTx",
        "outputId": "72f4e360-efe8-41ed-ba76-b382ced314d3"
      },
      "source": [
        "rand_int = random.randint(0, len(common_voice_train)-1)\n",
        "\n",
        "print(\"Target text:\", common_voice_train[rand_int][\"target_text\"])\n",
        "print(\"Input array shape:\", np.asarray(common_voice_train[rand_int][\"speech\"]).shape)\n",
        "print(\"Sampling rate:\", common_voice_train[rand_int][\"sampling_rate\"])"
      ],
      "execution_count": 27,
      "outputs": [
        {
          "output_type": "stream",
          "text": [
            "Target text: ਲੱਤਾਂ ਤੋਂ ਚਲ ਨਹੀਂ ਸੀ ਹੋ ਰਿਹਾ \n",
            "Input array shape: (85632,)\n",
            "Sampling rate: 16000\n"
          ],
          "name": "stdout"
        }
      ]
    },
    {
      "cell_type": "markdown",
      "metadata": {
        "id": "M9teZcSwOBJ4"
      },
      "source": [
        "Good! Everything looks fine - the data is a 1-dimensional array, the sampling rate always corresponds to 16kHz, and the target text is normalized."
      ]
    },
    {
      "cell_type": "markdown",
      "metadata": {
        "id": "k3Pbn5WvOYZF"
      },
      "source": [
        "Finally, we can process the dataset to the format expected by the model for training. We will again make use of the `map(...)` function.\n",
        "\n",
        "First, we check that the data samples have the same sampling rate of 16kHz.\n",
        "Second, we extract the `input_values` from the loaded audio file. In our case, this includes only normalization, but for other speech models, this step could correspond to extracting, *e.g.* [Log-Mel features](https://en.wikipedia.org/wiki/Mel-frequency_cepstrum). \n",
        "Third, we encode the transcriptions to label ids.\n",
        "\n",
        "**Note**: This mapping function is a good example of how the `Wav2Vec2Processor` class should be used. In \"normal\" context, calling `processor(...)` is redirected to `Wav2Vec2FeatureExtractor`'s call method. When wrapping the processor into the `as_target_processor` context, however, the same method is redirected to `Wav2Vec2CTCTokenizer`'s call method.\n",
        "For more information please check the [docs](https://huggingface.co/transformers/master/model_doc/wav2vec2.html#transformers.Wav2Vec2Processor.__call__)."
      ]
    },
    {
      "cell_type": "code",
      "metadata": {
        "id": "eJY7I0XAwe9p"
      },
      "source": [
        "def prepare_dataset(batch):\n",
        "    # check that all files have the correct sampling rate\n",
        "    assert (\n",
        "        len(set(batch[\"sampling_rate\"])) == 1\n",
        "    ), f\"Make sure all inputs have the same sampling rate of {processor.feature_extractor.sampling_rate}.\"\n",
        "\n",
        "    batch[\"input_values\"] = processor(batch[\"speech\"], sampling_rate=batch[\"sampling_rate\"][0]).input_values\n",
        "    \n",
        "    with processor.as_target_processor():\n",
        "        batch[\"labels\"] = processor(batch[\"target_text\"]).input_ids\n",
        "    return batch"
      ],
      "execution_count": 28,
      "outputs": []
    },
    {
      "cell_type": "code",
      "metadata": {
        "colab": {
          "base_uri": "https://localhost:8080/",
          "height": 501,
          "referenced_widgets": [
            "7ce4780d0a2347389c20402a28e31bc7",
            "5119b5933ec74e0b8c6399d31284945e",
            "2d836ab7f509487abf4b074b7898fa94",
            "0c275ab0798543e18ec7382daee04381",
            "482a799dbda742de89868153199c1255",
            "603ca623ba664304a3b2cdd80ed1604b",
            "88da941a393a408a9d93057cbf522a50",
            "c92502413c13464ea8f650c1bbb5972c",
            "169f6d47482645d5b136531d33aac1bb",
            "e5de63c901934080943e1139b5fd4a67",
            "21e7c472d8e447ddb0db99b91157eafa",
            "2a4a71ddcca1420e8359f18b85435434",
            "6544a490a62a49f6a2807ec8e9c31c61",
            "025bfc588fcc4ecfb607e5d45e193e6f",
            "7a86ddffaf5f4182b6b1eeaca79203cb",
            "8f21af8060244d98b8c3250a785924ac",
            "aab004a867eb4e41a32676062db67b5d",
            "a4510a0b4ed6407ba5d2194db4c59219",
            "306c0809ca2245bd9282fbf80ef968dd",
            "9c33f8ebca31446aa101dced5042fed0",
            "0062c224dee34c55b0d031338a428fa7",
            "1aa414579cbd48feb8c37106b485dfbe",
            "167834fafb494b6cb2d452e45db1469f",
            "f7e02230c454498fa7d7f791f6e86fa4",
            "99e7ce4d03a241739bf08867a1be69de",
            "560fa5d1ba194eb084973d654053b6bb",
            "0a1701f23e104c748dfc7b40318ff868",
            "e83923dac6c741a1b2bf3ce3739305af",
            "bca0d57e36f243c594239f258c75f6a1",
            "70015cad7c40437889957a7d73af3e85",
            "c376a0955b3246b69539acc60932b736",
            "3a3bd0ab2d8b413e8b790c74dada96df",
            "ac58194171f1477cab19ae0a524c51fd",
            "162bb07e4d144fedbcc7867d27c451c5",
            "3486052569b5448b931282087a0e3f17",
            "f7d5d47941a84588afe05c72fc8d0825",
            "85533dc9c401428dae01db46c1ea3ad1",
            "2094b4b9e4a94f0697f4090f45751f09",
            "1528fa8ab0ee43aaa2a56c18972e9a54",
            "62eeec21c9d144d58ead67b9abeb35f3",
            "8fb4549c66104d2ebe7e0530eeebebba",
            "75fc854da5ab4cf7aa3c840cbab97383",
            "07b1e653d5eb4a5f9dbab9c5f1a26e75",
            "b1de0081b64d469d815e2a2f3630b2cf",
            "4623a1f97e16470a903eba462d1b0bc7",
            "93ebfaa57f754b259088a0560ebbbc62",
            "d5195ded68bf460aa578629e38b09313",
            "595ab1bcac8345248d73d7a3e2fdfd57",
            "c177d33b424946c884623b897c18da49",
            "a011193a4a65478cbcb44257a3b41e67",
            "69e5778b35fa4c6997890800b0e1c3a8",
            "4812a51e200849168c1845c8c42e2af8",
            "303e7c6216e049f291fb7de031e48797",
            "d5eb7ae584324ed8a694eafd54494ffe",
            "740ff94db6ab49709656112a2c4811ba",
            "2359cdba5f2d4e6cb42c6e41776262df",
            "d1019ab0312b4651ad0ebe80b7c82965",
            "de5ba4ca682e4a8e8abb5391c3356408",
            "eb964084bd4a4241aa1db49750944d79",
            "d230b22d0a1a42ce97fc3a0aaa774143",
            "14c832fec9814a07a32bfe81714d393b",
            "20a1f43b03bc4e789f0f6cbbf9d2974c",
            "092d1185776f452c8b6cdbe69ae6935b",
            "b504a0539e1c4ebba60f2eec84614ad5"
          ]
        },
        "id": "-np9xYK-wl8q",
        "outputId": "a8955a58-5050-4541-e37b-8f6790f445f0"
      },
      "source": [
        "common_voice_train = common_voice_train.map(prepare_dataset, remove_columns=common_voice_train.column_names, batch_size=8, num_proc=4, batched=True)\n",
        "common_voice_test = common_voice_test.map(prepare_dataset, remove_columns=common_voice_test.column_names, batch_size=8, num_proc=4, batched=True)"
      ],
      "execution_count": 29,
      "outputs": [
        {
          "output_type": "stream",
          "text": [
            "/usr/local/lib/python3.7/dist-packages/numpy/core/_asarray.py:83: VisibleDeprecationWarning: Creating an ndarray from ragged nested sequences (which is a list-or-tuple of lists-or-tuples-or ndarrays with different lengths or shapes) is deprecated. If you meant to do this, you must specify 'dtype=object' when creating the ndarray\n",
            "  return array(a, dtype, copy=False, order=order)\n"
          ],
          "name": "stderr"
        },
        {
          "output_type": "stream",
          "text": [
            "    "
          ],
          "name": "stdout"
        },
        {
          "output_type": "display_data",
          "data": {
            "application/vnd.jupyter.widget-view+json": {
              "model_id": "7ce4780d0a2347389c20402a28e31bc7",
              "version_minor": 0,
              "version_major": 2
            },
            "text/plain": [
              "HBox(children=(FloatProgress(value=0.0, description='#0', max=8.0, style=ProgressStyle(description_width='init…"
            ]
          },
          "metadata": {
            "tags": []
          }
        },
        {
          "output_type": "display_data",
          "data": {
            "application/vnd.jupyter.widget-view+json": {
              "model_id": "169f6d47482645d5b136531d33aac1bb",
              "version_minor": 0,
              "version_major": 2
            },
            "text/plain": [
              "HBox(children=(FloatProgress(value=0.0, description='#1', max=8.0, style=ProgressStyle(description_width='init…"
            ]
          },
          "metadata": {
            "tags": []
          }
        },
        {
          "output_type": "display_data",
          "data": {
            "application/vnd.jupyter.widget-view+json": {
              "model_id": "aab004a867eb4e41a32676062db67b5d",
              "version_minor": 0,
              "version_major": 2
            },
            "text/plain": [
              "HBox(children=(FloatProgress(value=0.0, description='#3', max=8.0, style=ProgressStyle(description_width='init…"
            ]
          },
          "metadata": {
            "tags": []
          }
        },
        {
          "output_type": "display_data",
          "data": {
            "application/vnd.jupyter.widget-view+json": {
              "model_id": "99e7ce4d03a241739bf08867a1be69de",
              "version_minor": 0,
              "version_major": 2
            },
            "text/plain": [
              "HBox(children=(FloatProgress(value=0.0, description='#2', max=8.0, style=ProgressStyle(description_width='init…"
            ]
          },
          "metadata": {
            "tags": []
          }
        },
        {
          "output_type": "stream",
          "text": [
            "\n",
            "\n",
            "\n",
            "\n",
            "    "
          ],
          "name": "stdout"
        },
        {
          "output_type": "display_data",
          "data": {
            "application/vnd.jupyter.widget-view+json": {
              "model_id": "ac58194171f1477cab19ae0a524c51fd",
              "version_minor": 0,
              "version_major": 2
            },
            "text/plain": [
              "HBox(children=(FloatProgress(value=0.0, description='#1', max=4.0, style=ProgressStyle(description_width='init…"
            ]
          },
          "metadata": {
            "tags": []
          }
        },
        {
          "output_type": "display_data",
          "data": {
            "application/vnd.jupyter.widget-view+json": {
              "model_id": "8fb4549c66104d2ebe7e0530eeebebba",
              "version_minor": 0,
              "version_major": 2
            },
            "text/plain": [
              "HBox(children=(FloatProgress(value=0.0, description='#0', max=4.0, style=ProgressStyle(description_width='init…"
            ]
          },
          "metadata": {
            "tags": []
          }
        },
        {
          "output_type": "display_data",
          "data": {
            "application/vnd.jupyter.widget-view+json": {
              "model_id": "c177d33b424946c884623b897c18da49",
              "version_minor": 0,
              "version_major": 2
            },
            "text/plain": [
              "HBox(children=(FloatProgress(value=0.0, description='#3', max=4.0, style=ProgressStyle(description_width='init…"
            ]
          },
          "metadata": {
            "tags": []
          }
        },
        {
          "output_type": "display_data",
          "data": {
            "application/vnd.jupyter.widget-view+json": {
              "model_id": "d1019ab0312b4651ad0ebe80b7c82965",
              "version_minor": 0,
              "version_major": 2
            },
            "text/plain": [
              "HBox(children=(FloatProgress(value=0.0, description='#2', max=4.0, style=ProgressStyle(description_width='init…"
            ]
          },
          "metadata": {
            "tags": []
          }
        },
        {
          "output_type": "stream",
          "text": [
            "\n",
            "\n",
            "\n",
            "\n"
          ],
          "name": "stdout"
        }
      ]
    },
    {
      "cell_type": "markdown",
      "metadata": {
        "id": "gYlQkKVoRUos"
      },
      "source": [
        "## Training\n",
        "\n",
        "The data is processed so that we are ready to start setting up the training pipeline. We will make use of 🤗's [Trainer](https://huggingface.co/transformers/master/main_classes/trainer.html?highlight=trainer) for which we essentially need to do the following:\n",
        "\n",
        "- Define a data collator. In contrast to most NLP models, XLSR-Wav2Vec2 has a much larger input length than output length. *E.g.*, a sample of input length 50000 has an output length of no more than 100. Given the large input sizes, it is much more efficient to pad the training batches dynamically meaning that all training samples should only be padded to the longest sample in their batch and not the overall longest sample. Therefore, fine-tuning XLSR-Wav2Vec2 requires a special padding data collator, which we will define below\n",
        "\n",
        "- Evaluation metric. During training, the model should be evaluated on the word error rate. We should define a `compute_metrics` function accordingly\n",
        "\n",
        "- Load a pretrained checkpoint. We need to load a pretrained checkpoint and configure it correctly for training.\n",
        "\n",
        "- Define the training configuration.\n",
        "\n",
        "After having fine-tuned the model, we will correctly evaluate it on the test data and verify that it has indeed learned to correctly transcribe speech."
      ]
    },
    {
      "cell_type": "markdown",
      "metadata": {
        "id": "Slk403unUS91"
      },
      "source": [
        "### Set-up Trainer\n",
        "\n",
        "Let's start by defining the data collator. The code for the data collator was copied from [this example](https://github.com/huggingface/transformers/blob/9a06b6b11bdfc42eea08fa91d0c737d1863c99e3/examples/research_projects/wav2vec2/run_asr.py#L81).\n",
        "\n",
        "Without going into too many details, in contrast to the common data collators, this data collator treats the `input_values` and `labels` differently and thus applies to separate padding functions on them (again making use of XLSR-Wav2Vec2's context manager). This is necessary because in speech input and output are of different modalities meaning that they should not be treated by the same padding function.\n",
        "Analogous to the common data collators, the padding tokens in the labels with `-100` so that those tokens are **not** taken into account when computing the loss."
      ]
    },
    {
      "cell_type": "code",
      "metadata": {
        "id": "tborvC9hx88e"
      },
      "source": [
        "import torch\n",
        "\n",
        "from dataclasses import dataclass, field\n",
        "from typing import Any, Dict, List, Optional, Union\n",
        "\n",
        "@dataclass\n",
        "class DataCollatorCTCWithPadding:\n",
        "    \"\"\"\n",
        "    Data collator that will dynamically pad the inputs received.\n",
        "    Args:\n",
        "        processor (:class:`~transformers.Wav2Vec2Processor`)\n",
        "            The processor used for proccessing the data.\n",
        "        padding (:obj:`bool`, :obj:`str` or :class:`~transformers.tokenization_utils_base.PaddingStrategy`, `optional`, defaults to :obj:`True`):\n",
        "            Select a strategy to pad the returned sequences (according to the model's padding side and padding index)\n",
        "            among:\n",
        "            * :obj:`True` or :obj:`'longest'`: Pad to the longest sequence in the batch (or no padding if only a single\n",
        "              sequence if provided).\n",
        "            * :obj:`'max_length'`: Pad to a maximum length specified with the argument :obj:`max_length` or to the\n",
        "              maximum acceptable input length for the model if that argument is not provided.\n",
        "            * :obj:`False` or :obj:`'do_not_pad'` (default): No padding (i.e., can output a batch with sequences of\n",
        "              different lengths).\n",
        "        max_length (:obj:`int`, `optional`):\n",
        "            Maximum length of the ``input_values`` of the returned list and optionally padding length (see above).\n",
        "        max_length_labels (:obj:`int`, `optional`):\n",
        "            Maximum length of the ``labels`` returned list and optionally padding length (see above).\n",
        "        pad_to_multiple_of (:obj:`int`, `optional`):\n",
        "            If set will pad the sequence to a multiple of the provided value.\n",
        "            This is especially useful to enable the use of Tensor Cores on NVIDIA hardware with compute capability >=\n",
        "            7.5 (Volta).\n",
        "    \"\"\"\n",
        "\n",
        "    processor: Wav2Vec2Processor\n",
        "    padding: Union[bool, str] = True\n",
        "    max_length: Optional[int] = None\n",
        "    max_length_labels: Optional[int] = None\n",
        "    pad_to_multiple_of: Optional[int] = None\n",
        "    pad_to_multiple_of_labels: Optional[int] = None\n",
        "\n",
        "    def __call__(self, features: List[Dict[str, Union[List[int], torch.Tensor]]]) -> Dict[str, torch.Tensor]:\n",
        "        # split inputs and labels since they have to be of different lenghts and need\n",
        "        # different padding methods\n",
        "        input_features = [{\"input_values\": feature[\"input_values\"]} for feature in features]\n",
        "        label_features = [{\"input_ids\": feature[\"labels\"]} for feature in features]\n",
        "\n",
        "        batch = self.processor.pad(\n",
        "            input_features,\n",
        "            padding=self.padding,\n",
        "            max_length=self.max_length,\n",
        "            pad_to_multiple_of=self.pad_to_multiple_of,\n",
        "            return_tensors=\"pt\",\n",
        "        )\n",
        "        with self.processor.as_target_processor():\n",
        "            labels_batch = self.processor.pad(\n",
        "                label_features,\n",
        "                padding=self.padding,\n",
        "                max_length=self.max_length_labels,\n",
        "                pad_to_multiple_of=self.pad_to_multiple_of_labels,\n",
        "                return_tensors=\"pt\",\n",
        "            )\n",
        "\n",
        "        # replace padding with -100 to ignore loss correctly\n",
        "        labels = labels_batch[\"input_ids\"].masked_fill(labels_batch.attention_mask.ne(1), -100)\n",
        "\n",
        "        batch[\"labels\"] = labels\n",
        "\n",
        "        return batch"
      ],
      "execution_count": 30,
      "outputs": []
    },
    {
      "cell_type": "code",
      "metadata": {
        "id": "lbQf5GuZyQ4_"
      },
      "source": [
        "data_collator = DataCollatorCTCWithPadding(processor=processor, padding=True)"
      ],
      "execution_count": 31,
      "outputs": []
    },
    {
      "cell_type": "markdown",
      "metadata": {
        "id": "xO-Zdj-5cxXp"
      },
      "source": [
        "Next, the evaluation metric is defined. As mentioned earlier, the \n",
        "predominant metric in ASR is the word error rate (WER), hence we will use it in this notebook as well."
      ]
    },
    {
      "cell_type": "code",
      "metadata": {
        "id": "9Xsux2gmyXso",
        "colab": {
          "base_uri": "https://localhost:8080/",
          "height": 66,
          "referenced_widgets": [
            "e7c084aca6b542efb54e7d757669f8bf",
            "b2b35b6f883b4869abef3709963480ec",
            "7d19aceaa7f4456b8da50c00e7fafaeb",
            "fcba09cdb5294db798565a3c6fb704b4",
            "a8aa621fb04445b698fde0adea288a4e",
            "412f7f63ad5d4f4cb2e08e360ad4e8fb",
            "7560ad49d02f477592379e273edaedee",
            "806a08121a3c4d69bd8948dffb9c83d3"
          ]
        },
        "outputId": "7618e171-cc32-41ab-d2c6-9b9b921ba615"
      },
      "source": [
        "wer_metric = load_metric(\"wer\")"
      ],
      "execution_count": 32,
      "outputs": [
        {
          "output_type": "display_data",
          "data": {
            "application/vnd.jupyter.widget-view+json": {
              "model_id": "e7c084aca6b542efb54e7d757669f8bf",
              "version_minor": 0,
              "version_major": 2
            },
            "text/plain": [
              "HBox(children=(FloatProgress(value=0.0, description='Downloading', max=1764.0, style=ProgressStyle(description…"
            ]
          },
          "metadata": {
            "tags": []
          }
        },
        {
          "output_type": "stream",
          "text": [
            "\n"
          ],
          "name": "stdout"
        }
      ]
    },
    {
      "cell_type": "markdown",
      "metadata": {
        "id": "E1qZU5p-deqB"
      },
      "source": [
        "The model will return a sequence of logit vectors:\n",
        "$\\mathbf{y}_1, \\ldots, \\mathbf{y}_m$ with $\\mathbf{y}_1 = f_{\\theta}(x_1, \\ldots, x_n)[0]$ and $n >> m$.\n",
        "\n",
        "A logit vector $\\mathbf{y}_1$ contains the log-odds for each word in the vocabulary we defined earlier, thus $\\text{len}(\\mathbf{y}_i) =$ `config.vocab_size`. We are interested in the most likely prediction of the model and thus take the `argmax(...)` of the logits. Also, we transform the encoded labels back to the original string by replacing `-100` with the `pad_token_id` and decoding the ids while making sure that consecutive tokens are **not** grouped to the same token in CTC style ${}^1$."
      ]
    },
    {
      "cell_type": "code",
      "metadata": {
        "id": "1XZ-kjweyTy_"
      },
      "source": [
        "def compute_metrics(pred):\n",
        "    pred_logits = pred.predictions\n",
        "    pred_ids = np.argmax(pred_logits, axis=-1)\n",
        "\n",
        "    pred.label_ids[pred.label_ids == -100] = processor.tokenizer.pad_token_id\n",
        "\n",
        "    pred_str = processor.batch_decode(pred_ids)\n",
        "    # we do not want to group tokens when computing the metrics\n",
        "    label_str = processor.batch_decode(pred.label_ids, group_tokens=False)\n",
        "\n",
        "    wer = wer_metric.compute(predictions=pred_str, references=label_str)\n",
        "\n",
        "    return {\"wer\": wer}"
      ],
      "execution_count": 33,
      "outputs": []
    },
    {
      "cell_type": "markdown",
      "metadata": {
        "id": "Xmgrx4bRwLIH"
      },
      "source": [
        "Now, we can load the pretrained `XLSR-Wav2Vec2` checkpoint. The tokenizer's `pad_token_id` must be to define the model's `pad_token_id` or in the case of `Wav2Vec2ForCTC` also CTC's *blank token* ${}^2$. To save GPU memory, we enable PyTorch's [gradient checkpointing](https://pytorch.org/docs/stable/checkpoint.html) and also set the loss reduction to \"*mean*\".\n",
        "\n",
        "Because the dataset is quite small (~6h of training data) and because Common Voice is quite noisy, fine-tuning Facebook's [wav2vec2-large-xlsr-53 checkpoint](https://huggingface.co/facebook/wav2vec2-large-xlsr-53) seems to require some hyper-parameter tuning. Therefore, I had to play around a bit with different values for dropout, [SpecAugment](https://arxiv.org/abs/1904.08779)'s masking dropout rate, layer dropout, and the learning rate until training seemed to be stable enough. \n",
        "\n",
        "**Note**: When using this notebook to train XLSR-Wav2Vec2 on another language of Common Voice those hyper-parameter settings might not work very well. Feel free to adapt those depending on your use case. "
      ]
    },
    {
      "cell_type": "code",
      "metadata": {
        "colab": {
          "base_uri": "https://localhost:8080/",
          "height": 170,
          "referenced_widgets": [
            "4548f8e3c2ae4fcf9b0ac05a378c8f92",
            "0f6bee16379a4820a650bb08cb05bcd9",
            "47990088d47049f3816e897d411bccda",
            "3eb9dccad1c2478a914a5bf81f8b62eb",
            "62f0c23ee2df435cba2f697a16dede2e",
            "859829baa7584410919872e835f35700",
            "04819c2bf07a4e5fad91f9b03f3ae90f",
            "2d8fe673c9244cbebcd1427d25e0a51e",
            "5986db3e48734a90b0673362f62a2756",
            "f5e50c30d910494ca3fa1f2ad103867e",
            "256e82023bb54edda3d4fdfc769c558d",
            "63a5a409b0f440fa8d0523ce4c7a850c",
            "7c01b90d4d2b4ac99304083949d5e512",
            "e4aeadd9b37c48b394e57de4dac6a4f2",
            "d8e5490790a545a18705aab6d57cb71a",
            "8be181b786cd4d53853d00cf0b337623"
          ]
        },
        "id": "e7cqAWIayn6w",
        "outputId": "d4f69d26-b1cc-431a-fca2-c9a52b7497f6"
      },
      "source": [
        "from transformers import Wav2Vec2ForCTC\n",
        "\n",
        "model = Wav2Vec2ForCTC.from_pretrained(\n",
        "    \"facebook/wav2vec2-large-xlsr-53\", \n",
        "    attention_dropout=0.1,\n",
        "    hidden_dropout=0.1,\n",
        "    feat_proj_dropout=0.0,\n",
        "    mask_time_prob=0.05,\n",
        "    layerdrop=0.1,\n",
        "    gradient_checkpointing=True, \n",
        "    ctc_loss_reduction=\"mean\", \n",
        "    pad_token_id=processor.tokenizer.pad_token_id,\n",
        "    vocab_size=len(processor.tokenizer)\n",
        ")"
      ],
      "execution_count": 34,
      "outputs": [
        {
          "output_type": "display_data",
          "data": {
            "application/vnd.jupyter.widget-view+json": {
              "model_id": "4548f8e3c2ae4fcf9b0ac05a378c8f92",
              "version_minor": 0,
              "version_major": 2
            },
            "text/plain": [
              "HBox(children=(FloatProgress(value=0.0, description='Downloading', max=1451.0, style=ProgressStyle(description…"
            ]
          },
          "metadata": {
            "tags": []
          }
        },
        {
          "output_type": "stream",
          "text": [
            "\n"
          ],
          "name": "stdout"
        },
        {
          "output_type": "display_data",
          "data": {
            "application/vnd.jupyter.widget-view+json": {
              "model_id": "5986db3e48734a90b0673362f62a2756",
              "version_minor": 0,
              "version_major": 2
            },
            "text/plain": [
              "HBox(children=(FloatProgress(value=0.0, description='Downloading', max=1261920069.0, style=ProgressStyle(descr…"
            ]
          },
          "metadata": {
            "tags": []
          }
        },
        {
          "output_type": "stream",
          "text": [
            "\n"
          ],
          "name": "stdout"
        },
        {
          "output_type": "stream",
          "text": [
            "Some weights of Wav2Vec2ForCTC were not initialized from the model checkpoint at facebook/wav2vec2-large-xlsr-53 and are newly initialized: ['lm_head.bias', 'lm_head.weight']\n",
            "You should probably TRAIN this model on a down-stream task to be able to use it for predictions and inference.\n"
          ],
          "name": "stderr"
        }
      ]
    },
    {
      "cell_type": "markdown",
      "metadata": {
        "id": "1DwR3XLSzGDD"
      },
      "source": [
        "The first component of XLSR-Wav2Vec2 consists of a stack of CNN layers that are used to extract acoustically meaningful - but contextually independent - features from the raw speech signal. This part of the model has already been sufficiently trained during pretraining and as stated in the [paper](https://arxiv.org/pdf/2006.13979.pdf) does not need to be fine-tuned anymore. \n",
        "Thus, we can set the `requires_grad` to `False` for all parameters of the *feature extraction* part."
      ]
    },
    {
      "cell_type": "code",
      "metadata": {
        "id": "oGI8zObtZ3V0"
      },
      "source": [
        "model.freeze_feature_extractor()"
      ],
      "execution_count": 35,
      "outputs": []
    },
    {
      "cell_type": "markdown",
      "metadata": {
        "id": "lD4aGhQM0K-D"
      },
      "source": [
        "In a final step, we define all parameters related to training. \n",
        "To give more explanation on some of the parameters:\n",
        "- `group_by_length` makes training more efficient by grouping training samples of similar input length into one batch. This can significantly speed up training time by heavily reducing the overall number of useless padding tokens that are passed through the model\n",
        "- `learning_rate` and `weight_decay` were heuristically tuned until fine-tuning has become stable. Note that those parameters strongly depend on the Common Voice dataset and might be suboptimal for other speech datasets.\n",
        "\n",
        "For more explanations on other parameters, one can take a look at the [docs](https://huggingface.co/transformers/master/main_classes/trainer.html?highlight=trainer#trainingarguments).\n",
        "\n",
        "**Note**: If one wants to save the trained models in his/her google drive the commented-out `output_dir` can be used instead."
      ]
    },
    {
      "cell_type": "code",
      "metadata": {
        "id": "KbeKSV7uzGPP"
      },
      "source": [
        "from transformers import TrainingArguments\n",
        "\n",
        "training_args = TrainingArguments(\n",
        "  output_dir=\"/content/gdrive/MyDrive/wav2vec2-large-xlsr-pa-IN\",\n",
        "  # output_dir=\"./wav2vec2-large-xlsr-turkish-demo\",\n",
        "  group_by_length=True,\n",
        "  per_device_train_batch_size=16,\n",
        "  gradient_accumulation_steps=2,\n",
        "  evaluation_strategy=\"steps\",\n",
        "  num_train_epochs=200,\n",
        "  fp16=True,\n",
        "  save_steps=500,\n",
        "  eval_steps=500,\n",
        "  logging_steps=500,\n",
        "  learning_rate=3e-4,\n",
        "  warmup_steps=500,\n",
        "  save_total_limit=2,\n",
        ")"
      ],
      "execution_count": 41,
      "outputs": []
    },
    {
      "cell_type": "markdown",
      "metadata": {
        "id": "OsW-WZcL1ZtN"
      },
      "source": [
        "Now, all instances can be passed to Trainer and we are ready to start training!"
      ]
    },
    {
      "cell_type": "code",
      "metadata": {
        "id": "rY7vBmFCPFgC"
      },
      "source": [
        "from transformers import Trainer\n",
        "trainer = Trainer(\n",
        "    model=model,\n",
        "    data_collator=data_collator,\n",
        "    args=training_args,\n",
        "    compute_metrics=compute_metrics,\n",
        "    train_dataset=common_voice_train,\n",
        "    eval_dataset=common_voice_test,\n",
        "    tokenizer=processor.feature_extractor,\n",
        ")"
      ],
      "execution_count": 42,
      "outputs": []
    },
    {
      "cell_type": "markdown",
      "metadata": {
        "id": "UoXBx1JAA0DX"
      },
      "source": [
        "\n",
        "\n",
        "---\n",
        "\n",
        "${}^1$ To allow models to become independent of the speaker rate, in CTC, consecutive tokens that are identical are simply grouped as a single token. However, the encoded labels should not be grouped when decoding since they don't correspond to the predicted tokens of the model, which is why the `group_tokens=False` parameter has to be passed. If we wouldn't pass this parameter a word like `\"hello\"` would incorrectly be encoded, and decoded as `\"helo\"`.\n",
        "\n",
        "${}^2$ The blank token allows the model to predict a word, such as `\"hello\"` by forcing it to insert the blank token between the two l's. A CTC-conform prediction of `\"hello\"` of our model would be `[PAD] [PAD] \"h\" \"e\" \"e\" \"l\" \"l\" [PAD] \"l\" \"o\" \"o\" [PAD]`."
      ]
    },
    {
      "cell_type": "markdown",
      "metadata": {
        "id": "rpvZHM1xReIW"
      },
      "source": [
        "### Training"
      ]
    },
    {
      "cell_type": "markdown",
      "metadata": {
        "id": "j-3oKSzZ1hGq"
      },
      "source": [
        "Training will take between 180 and 240 minutes depending on the GPU allocated to this notebook. While the trained model yields somewhat satisfying results on *Common Voice*'s test data of Turkish, it is by no means an optimally fine-tuned model. The purpose of this notebook is to demonstrate how XLSR-Wav2Vec2's [checkpoint](https://huggingface.co/facebook/wav2vec2-large-xlsr-53) can be fine-tuned on a low-resource ASR dataset.\n",
        "\n",
        "In case you want to use this google colab to fine-tune your model, you should make sure that your training doesn't stop due to inactivity. A simple hack to prevent this is to paste the following code into the console of this tab (*right mouse click -> inspect -> Console tab and insert code*)."
      ]
    },
    {
      "cell_type": "markdown",
      "metadata": {
        "id": "VYYAvgkW4P0m"
      },
      "source": [
        "```javascript\n",
        "function ConnectButton(){\n",
        "    console.log(\"Connect pushed\"); \n",
        "    document.querySelector(\"#top-toolbar > colab-connect-button\").shadowRoot.querySelector(\"#connect\").click() \n",
        "}\n",
        "setInterval(ConnectButton,60000);\n",
        "```"
      ]
    },
    {
      "cell_type": "code",
      "metadata": {
        "colab": {
          "base_uri": "https://localhost:8080/"
        },
        "id": "nqwq37JxQoJq",
        "outputId": "99f9d274-89a2-4379-aa65-e0d7edeec190"
      },
      "source": [
        "!nvidia-smi"
      ],
      "execution_count": 43,
      "outputs": [
        {
          "output_type": "stream",
          "text": [
            "Sat Mar 20 23:23:47 2021       \n",
            "+-----------------------------------------------------------------------------+\n",
            "| NVIDIA-SMI 460.56       Driver Version: 460.32.03    CUDA Version: 11.2     |\n",
            "|-------------------------------+----------------------+----------------------+\n",
            "| GPU  Name        Persistence-M| Bus-Id        Disp.A | Volatile Uncorr. ECC |\n",
            "| Fan  Temp  Perf  Pwr:Usage/Cap|         Memory-Usage | GPU-Util  Compute M. |\n",
            "|                               |                      |               MIG M. |\n",
            "|===============================+======================+======================|\n",
            "|   0  Tesla P100-PCIE...  Off  | 00000000:00:04.0 Off |                    0 |\n",
            "| N/A   59C    P0    46W / 250W |   6137MiB / 16280MiB |      0%      Default |\n",
            "|                               |                      |                  N/A |\n",
            "+-------------------------------+----------------------+----------------------+\n",
            "                                                                               \n",
            "+-----------------------------------------------------------------------------+\n",
            "| Processes:                                                                  |\n",
            "|  GPU   GI   CI        PID   Type   Process name                  GPU Memory |\n",
            "|        ID   ID                                                   Usage      |\n",
            "|=============================================================================|\n",
            "+-----------------------------------------------------------------------------+\n"
          ],
          "name": "stdout"
        }
      ]
    },
    {
      "cell_type": "code",
      "metadata": {
        "id": "_UEjJqGsQw24",
        "colab": {
          "base_uri": "https://localhost:8080/",
          "height": 394
        },
        "outputId": "80b2c170-b985-43a7-b3cf-86384aa45ac5"
      },
      "source": [
        "trainer.train()"
      ],
      "execution_count": 45,
      "outputs": [
        {
          "output_type": "stream",
          "text": [
            "/usr/local/lib/python3.7/dist-packages/torch/optim/lr_scheduler.py:134: UserWarning: Detected call of `lr_scheduler.step()` before `optimizer.step()`. In PyTorch 1.1.0 and later, you should call them in the opposite order: `optimizer.step()` before `lr_scheduler.step()`.  Failure to do this will result in PyTorch skipping the first value of the learning rate schedule. See more details at https://pytorch.org/docs/stable/optim.html#how-to-adjust-learning-rate\n",
            "  \"https://pytorch.org/docs/stable/optim.html#how-to-adjust-learning-rate\", UserWarning)\n"
          ],
          "name": "stderr"
        },
        {
          "output_type": "display_data",
          "data": {
            "text/html": [
              "\n",
              "    <div>\n",
              "        <style>\n",
              "            /* Turns off some styling */\n",
              "            progress {\n",
              "                /* gets rid of default border in Firefox and Opera. */\n",
              "                border: none;\n",
              "                /* Needs to be in here for Safari polyfill so background images work as expected. */\n",
              "                background-size: auto;\n",
              "            }\n",
              "        </style>\n",
              "      \n",
              "      <progress value='1557' max='1600' style='width:300px; height:20px; vertical-align: middle;'></progress>\n",
              "      [1557/1600 2:34:05 < 04:15, 0.17 it/s, Epoch 194.50/200]\n",
              "    </div>\n",
              "    <table border=\"1\" class=\"dataframe\">\n",
              "  <thead>\n",
              "    <tr style=\"text-align: left;\">\n",
              "      <th>Step</th>\n",
              "      <th>Training Loss</th>\n",
              "      <th>Validation Loss</th>\n",
              "      <th>Wer</th>\n",
              "      <th>Runtime</th>\n",
              "      <th>Samples Per Second</th>\n",
              "    </tr>\n",
              "  </thead>\n",
              "  <tbody>\n",
              "    <tr>\n",
              "      <td>500</td>\n",
              "      <td>5.638100</td>\n",
              "      <td>1.552560</td>\n",
              "      <td>0.913899</td>\n",
              "      <td>13.230300</td>\n",
              "      <td>8.768000</td>\n",
              "    </tr>\n",
              "    <tr>\n",
              "      <td>1000</td>\n",
              "      <td>0.204700</td>\n",
              "      <td>1.403580</td>\n",
              "      <td>0.683887</td>\n",
              "      <td>13.274600</td>\n",
              "      <td>8.738000</td>\n",
              "    </tr>\n",
              "    <tr>\n",
              "      <td>1500</td>\n",
              "      <td>0.039300</td>\n",
              "      <td>1.426034</td>\n",
              "      <td>0.660517</td>\n",
              "      <td>13.131000</td>\n",
              "      <td>8.834000</td>\n",
              "    </tr>\n",
              "  </tbody>\n",
              "</table><p>"
            ],
            "text/plain": [
              "<IPython.core.display.HTML object>"
            ]
          },
          "metadata": {
            "tags": []
          }
        },
        {
          "output_type": "display_data",
          "data": {
            "text/html": [
              "\n",
              "    <div>\n",
              "        <style>\n",
              "            /* Turns off some styling */\n",
              "            progress {\n",
              "                /* gets rid of default border in Firefox and Opera. */\n",
              "                border: none;\n",
              "                /* Needs to be in here for Safari polyfill so background images work as expected. */\n",
              "                background-size: auto;\n",
              "            }\n",
              "        </style>\n",
              "      \n",
              "      <progress value='1600' max='1600' style='width:300px; height:20px; vertical-align: middle;'></progress>\n",
              "      [1600/1600 2:38:20, Epoch 200/200]\n",
              "    </div>\n",
              "    <table border=\"1\" class=\"dataframe\">\n",
              "  <thead>\n",
              "    <tr style=\"text-align: left;\">\n",
              "      <th>Step</th>\n",
              "      <th>Training Loss</th>\n",
              "      <th>Validation Loss</th>\n",
              "      <th>Wer</th>\n",
              "      <th>Runtime</th>\n",
              "      <th>Samples Per Second</th>\n",
              "    </tr>\n",
              "  </thead>\n",
              "  <tbody>\n",
              "    <tr>\n",
              "      <td>500</td>\n",
              "      <td>5.638100</td>\n",
              "      <td>1.552560</td>\n",
              "      <td>0.913899</td>\n",
              "      <td>13.230300</td>\n",
              "      <td>8.768000</td>\n",
              "    </tr>\n",
              "    <tr>\n",
              "      <td>1000</td>\n",
              "      <td>0.204700</td>\n",
              "      <td>1.403580</td>\n",
              "      <td>0.683887</td>\n",
              "      <td>13.274600</td>\n",
              "      <td>8.738000</td>\n",
              "    </tr>\n",
              "    <tr>\n",
              "      <td>1500</td>\n",
              "      <td>0.039300</td>\n",
              "      <td>1.426034</td>\n",
              "      <td>0.660517</td>\n",
              "      <td>13.131000</td>\n",
              "      <td>8.834000</td>\n",
              "    </tr>\n",
              "  </tbody>\n",
              "</table><p>"
            ],
            "text/plain": [
              "<IPython.core.display.HTML object>"
            ]
          },
          "metadata": {
            "tags": []
          }
        },
        {
          "output_type": "execute_result",
          "data": {
            "text/plain": [
              "TrainOutput(global_step=1600, training_loss=1.8399006919562817, metrics={'train_runtime': 9507.8988, 'train_samples_per_second': 0.168, 'total_flos': 8.146124385012449e+18, 'epoch': 200.0, 'init_mem_cpu_alloc_delta': 1997894, 'init_mem_gpu_alloc_delta': 0, 'init_mem_cpu_peaked_delta': 76475048, 'init_mem_gpu_peaked_delta': 0, 'train_mem_cpu_alloc_delta': 710973, 'train_mem_gpu_alloc_delta': 2511903232, 'train_mem_cpu_peaked_delta': 80071371, 'train_mem_gpu_peaked_delta': 2691381760})"
            ]
          },
          "metadata": {
            "tags": []
          },
          "execution_count": 45
        }
      ]
    },
    {
      "cell_type": "markdown",
      "metadata": {
        "id": "RHIVc44_fY2N"
      },
      "source": [
        "The training loss goes down and we can see that the WER on the test set also improves nicely. Because this notebook is just for demonstration purposes, we can stop here.\n",
        "\n",
        "The resulting model of this notebook has been saved to [`patrickvonplaten/wav2vec2-large-xlsr-turkish-demo`](https://huggingface.co/patrickvonplaten/wav2vec2-large-xlsr-turkish-demo)\n",
        "\n",
        "As a final check, let's load the model and verify that it indeed has learned to transcribe Turkish speech.\n",
        "\n",
        "Let's first load the pretrained checkpoint."
      ]
    },
    {
      "cell_type": "code",
      "metadata": {
        "id": "J8E8pxJ9hgZS",
        "colab": {
          "base_uri": "https://localhost:8080/"
        },
        "outputId": "261266ec-3e73-490b-bece-4efa2a38154c"
      },
      "source": [
        "model = Wav2Vec2ForCTC.from_pretrained(\"/content/gdrive/MyDrive/wav2vec2-large-xlsr-pa-IN/checkpoint-1500\").to(\"cuda\")\n",
        "processor = Wav2Vec2Processor.from_pretrained(\"/content/gdrive/MyDrive/wav2vec2-large-xlsr-pa-IN\")"
      ],
      "execution_count": 47,
      "outputs": [
        {
          "output_type": "stream",
          "text": [
            "Special tokens have been added in the vocabulary, make sure the associated word embedding are fine-tuned or trained.\n"
          ],
          "name": "stderr"
        }
      ]
    },
    {
      "cell_type": "markdown",
      "metadata": {
        "id": "QsfGCQYSvY8C"
      },
      "source": [
        "Now, we will just take the first example of the test set, run it through the model and take the `argmax(...)` of the logits to retrieve the predicted token ids."
      ]
    },
    {
      "cell_type": "code",
      "metadata": {
        "id": "EA6fxk-jiHby",
        "colab": {
          "base_uri": "https://localhost:8080/"
        },
        "outputId": "06818726-18b7-4046-93ad-4faa7af92dee"
      },
      "source": [
        "input_dict = processor(common_voice_test[\"input_values\"][0], return_tensors=\"pt\", padding=True)\n",
        "\n",
        "logits = model(input_dict.input_values.to(\"cuda\")).logits\n",
        "\n",
        "pred_ids = torch.argmax(logits, dim=-1)[0]"
      ],
      "execution_count": 48,
      "outputs": [
        {
          "output_type": "stream",
          "text": [
            "It is strongly recommended to pass the ``sampling_rate`` argument to this function.Failing to do so can result in silent errors that might be hard to debug.\n"
          ],
          "name": "stderr"
        }
      ]
    },
    {
      "cell_type": "markdown",
      "metadata": {
        "id": "1JDyVCMDvlYd"
      },
      "source": [
        "We adapted `common_voice_test` quite a bit so that the dataset instance does not contain the original sentence label anymore. Thus, we re-use the original dataset to get the label of the first example."
      ]
    },
    {
      "cell_type": "code",
      "metadata": {
        "id": "8dPE2GRIgtx-",
        "colab": {
          "base_uri": "https://localhost:8080/",
          "height": 124,
          "referenced_widgets": [
            "001cfc86a2e449609f230afe6fd09645",
            "d7648b0e66104244bd10fb9bfd54f6a5",
            "582270485c504bfe86f3190cb286dbfe",
            "e10941e9f098434a9bb1c362d04a97cc",
            "b9f92c26c5484d04a1d879339599028c",
            "676f63eb9edf4b448c920f895b35f6f9",
            "31151d20997f4a34a298b9a91269dd4e",
            "53a2ef3589c14f88a48501f816b7aca9",
            "37419dcb5c244bd7bc4337f4e8343cbd",
            "8d914dbb5b2a46caac7c901903c537e4",
            "fb58f9dccc5a46b894dcd6d20ff706b8",
            "d4f7326d667a4fb3aba6583a919c77bd",
            "50c622aa6b634691811ecfaa7ed0fe43",
            "9e46f7102934427a8e458d96b0ad1934",
            "381a57d69c5345f49c67b225318ca50a",
            "b12faa993f994cbb84e142098c35663f",
            "655e8fc4cffe47609b9edf939ae4910d",
            "69fce7f5052d4a3bb11398b4e6667dc4",
            "5b6b376eb480444f8eea870aa0439324",
            "572ce26a96fb4016aacc38e50e0c7a66",
            "f6af534f34fb44a1a51b5dc577f50c0a",
            "d30cb77f0934484ab203d6d63e184403",
            "7103966a03874ccab538d515470db5b7",
            "dab24fb29f674d0fa1df7b414f651c57",
            "7623b3f398884390ad997e88f63fa95b",
            "7f459521d5a841f581b80a34eeb7015d",
            "e069db4016ac450aa527c264ba41caef",
            "f4be51982e3141b8a7366d733a42367a",
            "d9dee2437acf4b229a99daffc8fc7000",
            "b8510f3a4f214c9bbd0a8514d73c1b8c",
            "a01aec5342b14e40ac9a7168eba5bcc0",
            "03adcb43b58f47f484c264b77d1ea94e",
            "e5eba5da2fe44b0cb163cc99e7ddf7fd",
            "b3d08a167c55458fa3d38f202e6f3b93",
            "e86d080578694744954ab44ac502b684",
            "11a42faa8e704040855fc7dcd92e2fba",
            "e0f026f9931f48e7a6b3c2871b2f1545",
            "acee25b9368c4aefa76daba50f269267",
            "c176b7472854472890aa64747b65603b",
            "933a817a51334504baacf03b94eaf1a6"
          ]
        },
        "outputId": "bebf5691-13fe-48ed-8674-cbb9d9384230"
      },
      "source": [
        "common_voice_test_transcription = load_dataset(\"common_voice\", \"pa-IN\", data_dir=\"./cv-corpus-6.1-2020-12-11\", split=\"test\")"
      ],
      "execution_count": 49,
      "outputs": [
        {
          "output_type": "stream",
          "text": [
            "Couldn't find file locally at common_voice/common_voice.py, or remotely at https://raw.githubusercontent.com/huggingface/datasets/1.4.1/datasets/common_voice/common_voice.py.\n",
            "The file was picked from the master branch on github instead at https://raw.githubusercontent.com/huggingface/datasets/master/datasets/common_voice/common_voice.py.\n",
            "Using custom data configuration pa-IN-ad9f7b76efa9f3a0\n"
          ],
          "name": "stderr"
        },
        {
          "output_type": "stream",
          "text": [
            "Downloading and preparing dataset common_voice/pa-IN (download: 66.52 MiB, generated: 846.02 KiB, post-processed: Unknown size, total: 67.34 MiB) to /root/.cache/huggingface/datasets/common_voice/pa-IN-ad9f7b76efa9f3a0/6.1.0/0041e06ab061b91d0a23234a2221e87970a19cf3a81b20901474cffffeb7869f...\n"
          ],
          "name": "stdout"
        },
        {
          "output_type": "display_data",
          "data": {
            "application/vnd.jupyter.widget-view+json": {
              "model_id": "001cfc86a2e449609f230afe6fd09645",
              "version_minor": 0,
              "version_major": 2
            },
            "text/plain": [
              "HBox(children=(FloatProgress(value=1.0, bar_style='info', max=1.0), HTML(value='')))"
            ]
          },
          "metadata": {
            "tags": []
          }
        },
        {
          "output_type": "stream",
          "text": [
            "\r"
          ],
          "name": "stdout"
        },
        {
          "output_type": "display_data",
          "data": {
            "application/vnd.jupyter.widget-view+json": {
              "model_id": "37419dcb5c244bd7bc4337f4e8343cbd",
              "version_minor": 0,
              "version_major": 2
            },
            "text/plain": [
              "HBox(children=(FloatProgress(value=1.0, bar_style='info', max=1.0), HTML(value='')))"
            ]
          },
          "metadata": {
            "tags": []
          }
        },
        {
          "output_type": "stream",
          "text": [
            "\r"
          ],
          "name": "stdout"
        },
        {
          "output_type": "display_data",
          "data": {
            "application/vnd.jupyter.widget-view+json": {
              "model_id": "655e8fc4cffe47609b9edf939ae4910d",
              "version_minor": 0,
              "version_major": 2
            },
            "text/plain": [
              "HBox(children=(FloatProgress(value=1.0, bar_style='info', max=1.0), HTML(value='')))"
            ]
          },
          "metadata": {
            "tags": []
          }
        },
        {
          "output_type": "stream",
          "text": [
            "\r"
          ],
          "name": "stdout"
        },
        {
          "output_type": "display_data",
          "data": {
            "application/vnd.jupyter.widget-view+json": {
              "model_id": "7623b3f398884390ad997e88f63fa95b",
              "version_minor": 0,
              "version_major": 2
            },
            "text/plain": [
              "HBox(children=(FloatProgress(value=1.0, bar_style='info', max=1.0), HTML(value='')))"
            ]
          },
          "metadata": {
            "tags": []
          }
        },
        {
          "output_type": "stream",
          "text": [
            "\r"
          ],
          "name": "stdout"
        },
        {
          "output_type": "display_data",
          "data": {
            "application/vnd.jupyter.widget-view+json": {
              "model_id": "e5eba5da2fe44b0cb163cc99e7ddf7fd",
              "version_minor": 0,
              "version_major": 2
            },
            "text/plain": [
              "HBox(children=(FloatProgress(value=1.0, bar_style='info', max=1.0), HTML(value='')))"
            ]
          },
          "metadata": {
            "tags": []
          }
        },
        {
          "output_type": "stream",
          "text": [
            "\rDataset common_voice downloaded and prepared to /root/.cache/huggingface/datasets/common_voice/pa-IN-ad9f7b76efa9f3a0/6.1.0/0041e06ab061b91d0a23234a2221e87970a19cf3a81b20901474cffffeb7869f. Subsequent calls will reuse this data.\n"
          ],
          "name": "stdout"
        }
      ]
    },
    {
      "cell_type": "markdown",
      "metadata": {
        "id": "ApS3MmN4v5P7"
      },
      "source": [
        "Finally, we can decode the example."
      ]
    },
    {
      "cell_type": "code",
      "metadata": {
        "colab": {
          "base_uri": "https://localhost:8080/"
        },
        "id": "UeXN4RJjhjNg",
        "outputId": "0a0387f8-4ee7-41cc-cd4f-6bb8292f1fd2"
      },
      "source": [
        "print(\"Prediction:\")\n",
        "print(processor.decode(pred_ids))\n",
        "\n",
        "print(\"\\nReference:\")\n",
        "print(common_voice_test_transcription[\"sentence\"][0].lower())"
      ],
      "execution_count": 51,
      "outputs": [
        {
          "output_type": "stream",
          "text": [
            "Prediction:\n",
            "ਹਵਾ ਲਾਤ ਵਿੱਚ ਪੰਜ ਛੇਇਖਲਾਕੀ ਮੁਜਰਮ ਸਨ\n",
            "\n",
            "Reference:\n",
            "ਹਵਾਲਾਤ ਵਿੱਚ ਪੰਜ ਛੇ ਇਖ਼ਲਾਕੀ ਮੁਜਰਮ ਸਨ\n"
          ],
          "name": "stdout"
        }
      ]
    },
    {
      "cell_type": "markdown",
      "metadata": {
        "id": "4n_8vhzUv7aw"
      },
      "source": [
        "Alright! The transcription can definitely be recognized from our prediction, but it is far from being perfect. Training the model a bit longer, spending more time on the data preprocessing, and especially using a language model for decoding would certainly improve the model's overall performance. \n",
        "\n",
        "For a demonstration model on a low-resource language, the results are acceptable, however 🤗."
      ]
    },
    {
      "cell_type": "code",
      "metadata": {
        "id": "4V7BPhMiJsbk"
      },
      "source": [
        ""
      ],
      "execution_count": null,
      "outputs": []
    }
  ]
}